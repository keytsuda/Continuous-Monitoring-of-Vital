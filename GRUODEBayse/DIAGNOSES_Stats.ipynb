{
 "cells": [
  {
   "cell_type": "code",
   "execution_count": 1,
   "metadata": {},
   "outputs": [],
   "source": [
    "import collections\n",
    "from pprint import pprint\n",
    "from collections import OrderedDict\n",
    "import pandas as pd\n",
    "import matplotlib.pyplot as plt\n",
    "from sklearn.model_selection import train_test_split\n",
    "\n",
    "import datetime\n",
    "from datetime import timedelta\n",
    "import numpy as np\n",
    "import seaborn as sns\n",
    "\n",
    "\n",
    "file_path=\"E:/Data/Private/MIMIC_III/mimic_csv/\"\n",
    "outfile_path=\"E:/Data/Private/MIMIC_III/mimic_csv/Clean_data/\""
   ]
  },
  {
   "cell_type": "code",
   "execution_count": 2,
   "metadata": {},
   "outputs": [],
   "source": [
    "diag=pd.read_csv(file_path+\"DIAGNOSES_ICD.csv\",index_col=0)"
   ]
  },
  {
   "cell_type": "code",
   "execution_count": 3,
   "metadata": {},
   "outputs": [
    {
     "data": {
      "text/html": [
       "<div>\n",
       "<style scoped>\n",
       "    .dataframe tbody tr th:only-of-type {\n",
       "        vertical-align: middle;\n",
       "    }\n",
       "\n",
       "    .dataframe tbody tr th {\n",
       "        vertical-align: top;\n",
       "    }\n",
       "\n",
       "    .dataframe thead th {\n",
       "        text-align: right;\n",
       "    }\n",
       "</style>\n",
       "<table border=\"1\" class=\"dataframe\">\n",
       "  <thead>\n",
       "    <tr style=\"text-align: right;\">\n",
       "      <th></th>\n",
       "      <th>SUBJECT_ID</th>\n",
       "      <th>HADM_ID</th>\n",
       "      <th>SEQ_NUM</th>\n",
       "      <th>ICD9_CODE</th>\n",
       "    </tr>\n",
       "    <tr>\n",
       "      <th>ROW_ID</th>\n",
       "      <th></th>\n",
       "      <th></th>\n",
       "      <th></th>\n",
       "      <th></th>\n",
       "    </tr>\n",
       "  </thead>\n",
       "  <tbody>\n",
       "    <tr>\n",
       "      <th>1297</th>\n",
       "      <td>109</td>\n",
       "      <td>172335</td>\n",
       "      <td>1.0</td>\n",
       "      <td>40301</td>\n",
       "    </tr>\n",
       "    <tr>\n",
       "      <th>1298</th>\n",
       "      <td>109</td>\n",
       "      <td>172335</td>\n",
       "      <td>2.0</td>\n",
       "      <td>486</td>\n",
       "    </tr>\n",
       "    <tr>\n",
       "      <th>1299</th>\n",
       "      <td>109</td>\n",
       "      <td>172335</td>\n",
       "      <td>3.0</td>\n",
       "      <td>58281</td>\n",
       "    </tr>\n",
       "    <tr>\n",
       "      <th>1300</th>\n",
       "      <td>109</td>\n",
       "      <td>172335</td>\n",
       "      <td>4.0</td>\n",
       "      <td>5855</td>\n",
       "    </tr>\n",
       "    <tr>\n",
       "      <th>1301</th>\n",
       "      <td>109</td>\n",
       "      <td>172335</td>\n",
       "      <td>5.0</td>\n",
       "      <td>4254</td>\n",
       "    </tr>\n",
       "  </tbody>\n",
       "</table>\n",
       "</div>"
      ],
      "text/plain": [
       "        SUBJECT_ID  HADM_ID  SEQ_NUM ICD9_CODE\n",
       "ROW_ID                                        \n",
       "1297           109   172335      1.0     40301\n",
       "1298           109   172335      2.0       486\n",
       "1299           109   172335      3.0     58281\n",
       "1300           109   172335      4.0      5855\n",
       "1301           109   172335      5.0      4254"
      ]
     },
     "execution_count": 3,
     "metadata": {},
     "output_type": "execute_result"
    }
   ],
   "source": [
    "diag.head()"
   ]
  },
  {
   "cell_type": "markdown",
   "metadata": {},
   "source": [
    "### ICD9_CODEを頭3桁のshort_codeに変換"
   ]
  },
  {
   "cell_type": "code",
   "execution_count": 4,
   "metadata": {},
   "outputs": [
    {
     "data": {
      "text/html": [
       "<div>\n",
       "<style scoped>\n",
       "    .dataframe tbody tr th:only-of-type {\n",
       "        vertical-align: middle;\n",
       "    }\n",
       "\n",
       "    .dataframe tbody tr th {\n",
       "        vertical-align: top;\n",
       "    }\n",
       "\n",
       "    .dataframe thead th {\n",
       "        text-align: right;\n",
       "    }\n",
       "</style>\n",
       "<table border=\"1\" class=\"dataframe\">\n",
       "  <thead>\n",
       "    <tr style=\"text-align: right;\">\n",
       "      <th></th>\n",
       "      <th>SUBJECT_ID</th>\n",
       "      <th>HADM_ID</th>\n",
       "      <th>SEQ_NUM</th>\n",
       "      <th>ICD9_CODE</th>\n",
       "      <th>ICD9_short</th>\n",
       "    </tr>\n",
       "    <tr>\n",
       "      <th>ROW_ID</th>\n",
       "      <th></th>\n",
       "      <th></th>\n",
       "      <th></th>\n",
       "      <th></th>\n",
       "      <th></th>\n",
       "    </tr>\n",
       "  </thead>\n",
       "  <tbody>\n",
       "    <tr>\n",
       "      <th>1297</th>\n",
       "      <td>109</td>\n",
       "      <td>172335</td>\n",
       "      <td>1.0</td>\n",
       "      <td>40301</td>\n",
       "      <td>403</td>\n",
       "    </tr>\n",
       "    <tr>\n",
       "      <th>1298</th>\n",
       "      <td>109</td>\n",
       "      <td>172335</td>\n",
       "      <td>2.0</td>\n",
       "      <td>486</td>\n",
       "      <td>486</td>\n",
       "    </tr>\n",
       "    <tr>\n",
       "      <th>1299</th>\n",
       "      <td>109</td>\n",
       "      <td>172335</td>\n",
       "      <td>3.0</td>\n",
       "      <td>58281</td>\n",
       "      <td>582</td>\n",
       "    </tr>\n",
       "    <tr>\n",
       "      <th>1300</th>\n",
       "      <td>109</td>\n",
       "      <td>172335</td>\n",
       "      <td>4.0</td>\n",
       "      <td>5855</td>\n",
       "      <td>585</td>\n",
       "    </tr>\n",
       "    <tr>\n",
       "      <th>1301</th>\n",
       "      <td>109</td>\n",
       "      <td>172335</td>\n",
       "      <td>5.0</td>\n",
       "      <td>4254</td>\n",
       "      <td>425</td>\n",
       "    </tr>\n",
       "  </tbody>\n",
       "</table>\n",
       "</div>"
      ],
      "text/plain": [
       "        SUBJECT_ID  HADM_ID  SEQ_NUM ICD9_CODE ICD9_short\n",
       "ROW_ID                                                   \n",
       "1297           109   172335      1.0     40301        403\n",
       "1298           109   172335      2.0       486        486\n",
       "1299           109   172335      3.0     58281        582\n",
       "1300           109   172335      4.0      5855        585\n",
       "1301           109   172335      5.0      4254        425"
      ]
     },
     "execution_count": 4,
     "metadata": {},
     "output_type": "execute_result"
    }
   ],
   "source": [
    "diag[\"ICD9_short\"]=diag[\"ICD9_CODE\"].astype(str).str[:3]\n",
    "diag.head()"
   ]
  },
  {
   "cell_type": "markdown",
   "metadata": {},
   "source": [
    "### SEQ_NUM==1 (主訴)のみを抽出する"
   ]
  },
  {
   "cell_type": "code",
   "execution_count": 5,
   "metadata": {},
   "outputs": [
    {
     "data": {
      "text/html": [
       "<div>\n",
       "<style scoped>\n",
       "    .dataframe tbody tr th:only-of-type {\n",
       "        vertical-align: middle;\n",
       "    }\n",
       "\n",
       "    .dataframe tbody tr th {\n",
       "        vertical-align: top;\n",
       "    }\n",
       "\n",
       "    .dataframe thead th {\n",
       "        text-align: right;\n",
       "    }\n",
       "</style>\n",
       "<table border=\"1\" class=\"dataframe\">\n",
       "  <thead>\n",
       "    <tr style=\"text-align: right;\">\n",
       "      <th></th>\n",
       "      <th>SUBJECT_ID</th>\n",
       "      <th>HADM_ID</th>\n",
       "      <th>SEQ_NUM</th>\n",
       "      <th>ICD9_CODE</th>\n",
       "      <th>ICD9_short</th>\n",
       "    </tr>\n",
       "    <tr>\n",
       "      <th>ROW_ID</th>\n",
       "      <th></th>\n",
       "      <th></th>\n",
       "      <th></th>\n",
       "      <th></th>\n",
       "      <th></th>\n",
       "    </tr>\n",
       "  </thead>\n",
       "  <tbody>\n",
       "    <tr>\n",
       "      <th>1297</th>\n",
       "      <td>109</td>\n",
       "      <td>172335</td>\n",
       "      <td>1.0</td>\n",
       "      <td>40301</td>\n",
       "      <td>403</td>\n",
       "    </tr>\n",
       "    <tr>\n",
       "      <th>1311</th>\n",
       "      <td>109</td>\n",
       "      <td>173633</td>\n",
       "      <td>1.0</td>\n",
       "      <td>40301</td>\n",
       "      <td>403</td>\n",
       "    </tr>\n",
       "    <tr>\n",
       "      <th>1488</th>\n",
       "      <td>112</td>\n",
       "      <td>174105</td>\n",
       "      <td>1.0</td>\n",
       "      <td>53100</td>\n",
       "      <td>531</td>\n",
       "    </tr>\n",
       "    <tr>\n",
       "      <th>1493</th>\n",
       "      <td>113</td>\n",
       "      <td>109976</td>\n",
       "      <td>1.0</td>\n",
       "      <td>1915</td>\n",
       "      <td>191</td>\n",
       "    </tr>\n",
       "    <tr>\n",
       "      <th>1496</th>\n",
       "      <td>114</td>\n",
       "      <td>178393</td>\n",
       "      <td>1.0</td>\n",
       "      <td>41401</td>\n",
       "      <td>414</td>\n",
       "    </tr>\n",
       "  </tbody>\n",
       "</table>\n",
       "</div>"
      ],
      "text/plain": [
       "        SUBJECT_ID  HADM_ID  SEQ_NUM ICD9_CODE ICD9_short\n",
       "ROW_ID                                                   \n",
       "1297           109   172335      1.0     40301        403\n",
       "1311           109   173633      1.0     40301        403\n",
       "1488           112   174105      1.0     53100        531\n",
       "1493           113   109976      1.0      1915        191\n",
       "1496           114   178393      1.0     41401        414"
      ]
     },
     "execution_count": 5,
     "metadata": {},
     "output_type": "execute_result"
    }
   ],
   "source": [
    "# 主訴のみのレコードを取り出し\n",
    "# SEQ_NUM==1.0のものを抽出すればよい\n",
    "prim_diag=diag[diag[\"SEQ_NUM\"]==1.0]\n",
    "prim_diag.head()"
   ]
  },
  {
   "cell_type": "code",
   "execution_count": 13,
   "metadata": {},
   "outputs": [
    {
     "data": {
      "text/html": [
       "<div>\n",
       "<style scoped>\n",
       "    .dataframe tbody tr th:only-of-type {\n",
       "        vertical-align: middle;\n",
       "    }\n",
       "\n",
       "    .dataframe tbody tr th {\n",
       "        vertical-align: top;\n",
       "    }\n",
       "\n",
       "    .dataframe thead th {\n",
       "        text-align: right;\n",
       "    }\n",
       "</style>\n",
       "<table border=\"1\" class=\"dataframe\">\n",
       "  <thead>\n",
       "    <tr style=\"text-align: right;\">\n",
       "      <th></th>\n",
       "      <th>index</th>\n",
       "      <th>ICD9_short</th>\n",
       "    </tr>\n",
       "  </thead>\n",
       "  <tbody>\n",
       "    <tr>\n",
       "      <th>0</th>\n",
       "      <td>V30</td>\n",
       "      <td>6339</td>\n",
       "    </tr>\n",
       "    <tr>\n",
       "      <th>1</th>\n",
       "      <td>414</td>\n",
       "      <td>3576</td>\n",
       "    </tr>\n",
       "    <tr>\n",
       "      <th>2</th>\n",
       "      <td>038</td>\n",
       "      <td>3389</td>\n",
       "    </tr>\n",
       "    <tr>\n",
       "      <th>3</th>\n",
       "      <td>410</td>\n",
       "      <td>3307</td>\n",
       "    </tr>\n",
       "    <tr>\n",
       "      <th>4</th>\n",
       "      <td>424</td>\n",
       "      <td>1721</td>\n",
       "    </tr>\n",
       "    <tr>\n",
       "      <th>...</th>\n",
       "      <td>...</td>\n",
       "      <td>...</td>\n",
       "    </tr>\n",
       "    <tr>\n",
       "      <th>646</th>\n",
       "      <td>974</td>\n",
       "      <td>1</td>\n",
       "    </tr>\n",
       "    <tr>\n",
       "      <th>647</th>\n",
       "      <td>269</td>\n",
       "      <td>1</td>\n",
       "    </tr>\n",
       "    <tr>\n",
       "      <th>648</th>\n",
       "      <td>011</td>\n",
       "      <td>1</td>\n",
       "    </tr>\n",
       "    <tr>\n",
       "      <th>649</th>\n",
       "      <td>542</td>\n",
       "      <td>1</td>\n",
       "    </tr>\n",
       "    <tr>\n",
       "      <th>650</th>\n",
       "      <td>892</td>\n",
       "      <td>1</td>\n",
       "    </tr>\n",
       "  </tbody>\n",
       "</table>\n",
       "<p>651 rows × 2 columns</p>\n",
       "</div>"
      ],
      "text/plain": [
       "    index  ICD9_short\n",
       "0     V30        6339\n",
       "1     414        3576\n",
       "2     038        3389\n",
       "3     410        3307\n",
       "4     424        1721\n",
       "..    ...         ...\n",
       "646   974           1\n",
       "647   269           1\n",
       "648   011           1\n",
       "649   542           1\n",
       "650   892           1\n",
       "\n",
       "[651 rows x 2 columns]"
      ]
     },
     "execution_count": 13,
     "metadata": {},
     "output_type": "execute_result"
    }
   ],
   "source": [
    "prim_diag[\"ICD9_short\"].value_counts().reset_index()"
   ]
  },
  {
   "cell_type": "code",
   "execution_count": 10,
   "metadata": {},
   "outputs": [],
   "source": [
    "prim_diag[\"ICD9_short\"].value_counts().reset_index().to_csv(\"ICD9_record_to_rank.csv\")"
   ]
  },
  {
   "cell_type": "markdown",
   "metadata": {},
   "source": [
    "### 主訴のみのデータで割合を円グラフに"
   ]
  },
  {
   "cell_type": "code",
   "execution_count": 15,
   "metadata": {},
   "outputs": [],
   "source": [
    "prim_diag.to_csv(\"prim_diag.csv\")"
   ]
  },
  {
   "cell_type": "code",
   "execution_count": 7,
   "metadata": {},
   "outputs": [],
   "source": [
    "# 円グラフ描画関数 (df:dataframe , col : str , top_num : int , title : str)\n",
    "def plot_pie(df , col , top_num ,title=None):\n",
    "    # %matplotlib inline\n",
    "    counter = collections.Counter(df[col])\n",
    "    # 上位n個を表示（それ以外は Others）\n",
    "    top_num=top_num\n",
    "    ranked_data = counter.most_common(top_num)\n",
    "    print(f'ranked_data={ranked_data} \\n')\n",
    "    others_num=len(counter)-top_num\n",
    "\n",
    "    # ラベル\n",
    "    labels = [x[0] for x in ranked_data] + [f'Others:{others_num}']\n",
    "    # 切片\n",
    "    values = [x[1] for x in ranked_data]\n",
    "    values = values + [len(df) - sum(values)]\n",
    "    print(f\"values : {values} \\n\")\n",
    "\n",
    "    # 合計\n",
    "    total = sum(values)\n",
    "\n",
    "    plt.figure(figsize=(15, 15))\n",
    "    explode = [0.05]*(len(values) - 1) + [0] \n",
    "\n",
    "    # 円グラフ\n",
    "    plt.pie(values, labels=labels, explode=tuple(explode),\n",
    "       autopct='%.1f', shadow=True, startangle=90)\n",
    "    # タイトル\n",
    "    if title is not None:\n",
    "        plt.title(f'{title}: Top{top_num} : N={total}', size=18)\n",
    "        plt.savefig(f\"{title}.png\")\n",
    "    else:\n",
    "        plt.title(f'Top{top_num} Pie Chart: N={total}', size=18)"
   ]
  },
  {
   "cell_type": "code",
   "execution_count": 160,
   "metadata": {},
   "outputs": [],
   "source": [
    "# 棒グラフ描画関数 (df:dataframe , col : str , top_num : int , title : str)\n",
    "def plot_bar(df , col , top_num ,title=None):\n",
    "    # %matplotlib inline\n",
    "    counter = collections.Counter(df[col])\n",
    "    # 上位n個を表示（それ以外は Others）\n",
    "    top_num=top_num\n",
    "    ranked_data = counter.most_common(top_num)\n",
    "    print(f'ranked_data={ranked_data} \\n')\n",
    "    others_num=len(counter)-top_num\n",
    "\n",
    "    # ラベル\n",
    "    labels = [x[0] for x in ranked_data] + [f'Others:{others_num}']\n",
    "    # 切片\n",
    "    values = [x[1] for x in ranked_data]\n",
    "    values = values + [len(df) - sum(values)]\n",
    "    print(f\"values : {values} \\n\")\n",
    "\n",
    "    # 合計\n",
    "    total = sum(values)\n",
    "\n",
    "    plt.figure(figsize=(8, 8))\n",
    "#     explode = [0.05]*(len(values) - 1) + [0] \n",
    "\n",
    "    # 棒グラフ\n",
    "    plt.bar(labels,values)\n",
    "    # タイトル\n",
    "    if title is not None:\n",
    "        plt.title(f'{title}: Top{top_num} : N={total}', size=18)\n",
    "        plt.savefig(f\"{title}.png\")\n",
    "    else:\n",
    "        plt.title(f'Top{top_num} Pie Chart: N={total}', size=18)"
   ]
  },
  {
   "cell_type": "code",
   "execution_count": null,
   "metadata": {},
   "outputs": [],
   "source": [
    "plot_pie(prim_diag,\"ICD9_short\",30,title=\"PrimDiag\")"
   ]
  },
  {
   "cell_type": "code",
   "execution_count": 161,
   "metadata": {},
   "outputs": [
    {
     "name": "stdout",
     "output_type": "stream",
     "text": [
      "ranked_data=[('V30', 6339), ('414', 3576), ('038', 3389), ('410', 3307), ('424', 1721), ('518', 1563), ('428', 1488), ('996', 1429), ('V31', 1171), ('431', 1030), ('852', 1020), ('427', 1001), ('250', 925), ('441', 802), ('998', 775)] \n",
      "\n",
      "values : [6339, 3576, 3389, 3307, 1721, 1563, 1488, 1429, 1171, 1030, 1020, 1001, 925, 802, 775, 29393] \n",
      "\n"
     ]
    },
    {
     "data": {
      "image/png": "[encoded data removed]",
      "text/plain": [
       "<Figure size 576x576 with 1 Axes>"
      ]
     },
     "metadata": {
      "needs_background": "light"
     },
     "output_type": "display_data"
    }
   ],
   "source": [
    "plot_bar(prim_diag,\"ICD9_short\",15)"
   ]
  },
  {
   "cell_type": "markdown",
   "metadata": {},
   "source": [
    "### 主訴以外も合わせた割合を円グラフで表示"
   ]
  },
  {
   "cell_type": "code",
   "execution_count": null,
   "metadata": {},
   "outputs": [],
   "source": [
    "plot_pie(diag,\"ICD9_short\",30,title=\"AllDiag\")"
   ]
  },
  {
   "cell_type": "code",
   "execution_count": 162,
   "metadata": {},
   "outputs": [
    {
     "name": "stdout",
     "output_type": "stream",
     "text": [
      "ranked_data=[('401', 21329), ('427', 20998), ('428', 20676), ('276', 20440), ('250', 16454), ('414', 15759), ('272', 14768), ('518', 14608), ('285', 12910), ('584', 11467), ('V45', 10924), ('530', 7965), ('V58', 7961), ('599', 7572), ('E87', 7313)] \n",
      "\n",
      "values : [21329, 20998, 20676, 20440, 16454, 15759, 14768, 14608, 12910, 11467, 10924, 7965, 7961, 7572, 7313, 439903] \n",
      "\n"
     ]
    },
    {
     "data": {
      "image/png": "[encoded data removed]",
      "text/plain": [
       "<Figure size 576x576 with 1 Axes>"
      ]
     },
     "metadata": {
      "needs_background": "light"
     },
     "output_type": "display_data"
    }
   ],
   "source": [
    "plot_bar(diag,\"ICD9_short\",15)"
   ]
  },
  {
   "cell_type": "markdown",
   "metadata": {},
   "source": [
    "### 入室回数による分析"
   ]
  },
  {
   "cell_type": "code",
   "execution_count": 21,
   "metadata": {},
   "outputs": [],
   "source": [
    "counter = collections.Counter(prim_diag[\"SUBJECT_ID\"])\n",
    "counter=counter.most_common()\n",
    "c_np=np.array(counter)"
   ]
  },
  {
   "cell_type": "code",
   "execution_count": 25,
   "metadata": {},
   "outputs": [
    {
     "name": "stdout",
     "output_type": "stream",
     "text": [
      "Mean of Admission times : 1.27\n",
      "Std of Admission times : 0.89\n"
     ]
    }
   ],
   "source": [
    "print(f\"Mean of Admission times : {c_np[: ,1].mean():.2f}\")\n",
    "print(f\"Std of Admission times : {c_np[: ,1].std():.2f}\")"
   ]
  },
  {
   "cell_type": "code",
   "execution_count": 29,
   "metadata": {},
   "outputs": [
    {
     "data": {
      "text/plain": [
       "(0.0, 100.0)"
      ]
     },
     "execution_count": 29,
     "metadata": {},
     "output_type": "execute_result"
    },
    {
     "data": {
      "image/png": "[encoded data removed]",
      "text/plain": [
       "<Figure size 432x288 with 1 Axes>"
      ]
     },
     "metadata": {
      "needs_background": "light"
     },
     "output_type": "display_data"
    }
   ],
   "source": [
    "plt.hist(np.array(counter)[: ,1])\n",
    "plt.ylim(0,100)"
   ]
  },
  {
   "cell_type": "code",
   "execution_count": null,
   "metadata": {},
   "outputs": [],
   "source": [
    "list(prim_diag[\"SUBJECT_ID\"].value_counts().where(lambda d:d<3).dropna().index)"
   ]
  },
  {
   "cell_type": "code",
   "execution_count": 76,
   "metadata": {},
   "outputs": [
    {
     "name": "stdout",
     "output_type": "stream",
     "text": [
      "Over 2 times subject num: 2374\n",
      "1 or 2 times subject num: 44143\n"
     ]
    }
   ],
   "source": [
    "# 平均1.27 ,標準偏差が0.89なので、2回以下くらいが大半\n",
    "# 入室3回で分離する\n",
    "# ここでは3回以上、2回以下それぞれのSUBJECTの人数を調べた\n",
    "upper_patients_num=prim_diag[\"SUBJECT_ID\"].value_counts().where(lambda d:d>=3).dropna()\n",
    "lower_patients_num=prim_diag[\"SUBJECT_ID\"].value_counts().where(lambda d:d<3).dropna()\n",
    "print(f\"Over 2 times subject num: {len(upper_patients_num)}\")\n",
    "print(f\"1 or 2 times subject num: {len(lower_patients_num)}\")"
   ]
  },
  {
   "cell_type": "code",
   "execution_count": 86,
   "metadata": {},
   "outputs": [
    {
     "name": "stdout",
     "output_type": "stream",
     "text": [
      "Over 2 times subject admission num: 9661\n",
      "1 or 2 times subject admission num: 49268\n"
     ]
    }
   ],
   "source": [
    "# 3回以上,2回以下のそれぞれをSUBJECT_IDからdfで取り出し\n",
    "# ここでは3回以上,2回以下それぞれでの入院回数を表示\n",
    "upper_df=prim_diag[prim_diag[\"SUBJECT_ID\"].isin(list(prim_diag[\"SUBJECT_ID\"].value_counts().where(lambda d:d>=3).dropna().index))]\n",
    "lower_df=prim_diag[prim_diag[\"SUBJECT_ID\"].isin(list(prim_diag[\"SUBJECT_ID\"].value_counts().where(lambda d:d<3).dropna().index))]\n",
    "print(f\"Over 2 times subject admission num: {len(upper_df)}\")\n",
    "print(f\"1 or 2 times subject admission num: {len(lower_df)}\")"
   ]
  },
  {
   "cell_type": "markdown",
   "metadata": {},
   "source": [
    "5万弱の患者数の中で2000人程度(約4%)の患者で , ６万入室のうちの1万入室(約16%)を占めている"
   ]
  },
  {
   "cell_type": "markdown",
   "metadata": {},
   "source": [
    "### 2回以下の患者についてグラフ化"
   ]
  },
  {
   "cell_type": "code",
   "execution_count": null,
   "metadata": {},
   "outputs": [],
   "source": [
    "plot_pie(lower_df,\"ICD9_short\",30,title=\"1or2 times ADM PrimDiag\")\n",
    "# V30は出産関連、帝王切開での出生"
   ]
  },
  {
   "cell_type": "code",
   "execution_count": 163,
   "metadata": {},
   "outputs": [
    {
     "name": "stdout",
     "output_type": "stream",
     "text": [
      "ranked_data=[('V30', 6335), ('414', 3382), ('410', 3007), ('038', 2477), ('424', 1615), ('V31', 1169), ('518', 1044), ('431', 984), ('852', 964), ('428', 954), ('996', 833), ('427', 816), ('441', 705), ('434', 660), ('998', 602), ('198', 501), ('250', 500), ('430', 498), ('486', 480), ('578', 477)] \n",
      "\n",
      "values : [6335, 3382, 3007, 2477, 1615, 1169, 1044, 984, 964, 954, 833, 816, 705, 660, 602, 501, 500, 498, 480, 477, 21265] \n",
      "\n"
     ]
    },
    {
     "data": {
      "image/png": "[encoded data removed]",
      "text/plain": [
       "<Figure size 576x576 with 1 Axes>"
      ]
     },
     "metadata": {
      "needs_background": "light"
     },
     "output_type": "display_data"
    }
   ],
   "source": [
    "plot_bar(lower_df,\"ICD9_short\",20)"
   ]
  },
  {
   "cell_type": "markdown",
   "metadata": {},
   "source": [
    "### 3回以上の患者についてグラフ化\n"
   ]
  },
  {
   "cell_type": "code",
   "execution_count": null,
   "metadata": {},
   "outputs": [],
   "source": [
    "plot_pie(upper_df,\"ICD9_short\",30,title=\"Over 2 times ADM PrimDiag\")"
   ]
  },
  {
   "cell_type": "code",
   "execution_count": 164,
   "metadata": {},
   "outputs": [
    {
     "name": "stdout",
     "output_type": "stream",
     "text": [
      "ranked_data=[('038', 912), ('996', 596), ('428', 534), ('518', 519), ('250', 425), ('410', 300), ('486', 245), ('507', 216), ('578', 201), ('414', 194), ('584', 188), ('427', 185), ('998', 173), ('491', 144), ('291', 129), ('571', 124), ('519', 122), ('403', 121), ('482', 117), ('440', 112)] \n",
      "\n",
      "values : [912, 596, 534, 519, 425, 300, 245, 216, 201, 194, 188, 185, 173, 144, 129, 124, 122, 121, 117, 112, 4104] \n",
      "\n"
     ]
    },
    {
     "data": {
      "image/png": "[encoded data removed]",
      "text/plain": [
       "<Figure size 576x576 with 1 Axes>"
      ]
     },
     "metadata": {
      "needs_background": "light"
     },
     "output_type": "display_data"
    }
   ],
   "source": [
    "plot_bar(upper_df,\"ICD9_short\",20)"
   ]
  },
  {
   "cell_type": "markdown",
   "metadata": {},
   "source": [
    "## ICD9から頭文字Vのものを除く"
   ]
  },
  {
   "cell_type": "code",
   "execution_count": 17,
   "metadata": {},
   "outputs": [
    {
     "data": {
      "text/html": [
       "<div>\n",
       "<style scoped>\n",
       "    .dataframe tbody tr th:only-of-type {\n",
       "        vertical-align: middle;\n",
       "    }\n",
       "\n",
       "    .dataframe tbody tr th {\n",
       "        vertical-align: top;\n",
       "    }\n",
       "\n",
       "    .dataframe thead th {\n",
       "        text-align: right;\n",
       "    }\n",
       "</style>\n",
       "<table border=\"1\" class=\"dataframe\">\n",
       "  <thead>\n",
       "    <tr style=\"text-align: right;\">\n",
       "      <th></th>\n",
       "      <th>SUBJECT_ID</th>\n",
       "      <th>HADM_ID</th>\n",
       "      <th>SEQ_NUM</th>\n",
       "      <th>ICD9_CODE</th>\n",
       "      <th>ICD9_short</th>\n",
       "      <th>ICD9_head</th>\n",
       "    </tr>\n",
       "    <tr>\n",
       "      <th>ROW_ID</th>\n",
       "      <th></th>\n",
       "      <th></th>\n",
       "      <th></th>\n",
       "      <th></th>\n",
       "      <th></th>\n",
       "      <th></th>\n",
       "    </tr>\n",
       "  </thead>\n",
       "  <tbody>\n",
       "    <tr>\n",
       "      <th>1297</th>\n",
       "      <td>109</td>\n",
       "      <td>172335</td>\n",
       "      <td>1.0</td>\n",
       "      <td>40301</td>\n",
       "      <td>403</td>\n",
       "      <td>4</td>\n",
       "    </tr>\n",
       "    <tr>\n",
       "      <th>1298</th>\n",
       "      <td>109</td>\n",
       "      <td>172335</td>\n",
       "      <td>2.0</td>\n",
       "      <td>486</td>\n",
       "      <td>486</td>\n",
       "      <td>4</td>\n",
       "    </tr>\n",
       "    <tr>\n",
       "      <th>1299</th>\n",
       "      <td>109</td>\n",
       "      <td>172335</td>\n",
       "      <td>3.0</td>\n",
       "      <td>58281</td>\n",
       "      <td>582</td>\n",
       "      <td>5</td>\n",
       "    </tr>\n",
       "    <tr>\n",
       "      <th>1300</th>\n",
       "      <td>109</td>\n",
       "      <td>172335</td>\n",
       "      <td>4.0</td>\n",
       "      <td>5855</td>\n",
       "      <td>585</td>\n",
       "      <td>5</td>\n",
       "    </tr>\n",
       "    <tr>\n",
       "      <th>1301</th>\n",
       "      <td>109</td>\n",
       "      <td>172335</td>\n",
       "      <td>5.0</td>\n",
       "      <td>4254</td>\n",
       "      <td>425</td>\n",
       "      <td>4</td>\n",
       "    </tr>\n",
       "  </tbody>\n",
       "</table>\n",
       "</div>"
      ],
      "text/plain": [
       "        SUBJECT_ID  HADM_ID  SEQ_NUM ICD9_CODE ICD9_short ICD9_head\n",
       "ROW_ID                                                             \n",
       "1297           109   172335      1.0     40301        403         4\n",
       "1298           109   172335      2.0       486        486         4\n",
       "1299           109   172335      3.0     58281        582         5\n",
       "1300           109   172335      4.0      5855        585         5\n",
       "1301           109   172335      5.0      4254        425         4"
      ]
     },
     "execution_count": 17,
     "metadata": {},
     "output_type": "execute_result"
    }
   ],
   "source": [
    "diag[\"ICD9_head\"]=diag[\"ICD9_CODE\"].astype(str).str[:1]\n",
    "diag.head()"
   ]
  },
  {
   "cell_type": "code",
   "execution_count": 18,
   "metadata": {},
   "outputs": [
    {
     "data": {
      "text/plain": [
       "74705"
      ]
     },
     "execution_count": 18,
     "metadata": {},
     "output_type": "execute_result"
    }
   ],
   "source": [
    "len(diag[diag[\"ICD9_head\"]==\"V\"])"
   ]
  },
  {
   "cell_type": "code",
   "execution_count": 19,
   "metadata": {},
   "outputs": [
    {
     "data": {
      "text/plain": [
       "576342"
      ]
     },
     "execution_count": 19,
     "metadata": {},
     "output_type": "execute_result"
    }
   ],
   "source": [
    "len(diag[diag[\"ICD9_head\"]!=\"V\"])"
   ]
  },
  {
   "cell_type": "code",
   "execution_count": 20,
   "metadata": {},
   "outputs": [
    {
     "data": {
      "text/html": [
       "<div>\n",
       "<style scoped>\n",
       "    .dataframe tbody tr th:only-of-type {\n",
       "        vertical-align: middle;\n",
       "    }\n",
       "\n",
       "    .dataframe tbody tr th {\n",
       "        vertical-align: top;\n",
       "    }\n",
       "\n",
       "    .dataframe thead th {\n",
       "        text-align: right;\n",
       "    }\n",
       "</style>\n",
       "<table border=\"1\" class=\"dataframe\">\n",
       "  <thead>\n",
       "    <tr style=\"text-align: right;\">\n",
       "      <th></th>\n",
       "      <th>SUBJECT_ID</th>\n",
       "      <th>HADM_ID</th>\n",
       "      <th>SEQ_NUM</th>\n",
       "      <th>ICD9_CODE</th>\n",
       "      <th>ICD9_short</th>\n",
       "    </tr>\n",
       "    <tr>\n",
       "      <th>ROW_ID</th>\n",
       "      <th></th>\n",
       "      <th></th>\n",
       "      <th></th>\n",
       "      <th></th>\n",
       "      <th></th>\n",
       "    </tr>\n",
       "  </thead>\n",
       "  <tbody>\n",
       "    <tr>\n",
       "      <th>1297</th>\n",
       "      <td>109</td>\n",
       "      <td>172335</td>\n",
       "      <td>1.0</td>\n",
       "      <td>40301</td>\n",
       "      <td>403</td>\n",
       "    </tr>\n",
       "    <tr>\n",
       "      <th>1298</th>\n",
       "      <td>109</td>\n",
       "      <td>172335</td>\n",
       "      <td>2.0</td>\n",
       "      <td>486</td>\n",
       "      <td>486</td>\n",
       "    </tr>\n",
       "    <tr>\n",
       "      <th>1299</th>\n",
       "      <td>109</td>\n",
       "      <td>172335</td>\n",
       "      <td>3.0</td>\n",
       "      <td>58281</td>\n",
       "      <td>582</td>\n",
       "    </tr>\n",
       "    <tr>\n",
       "      <th>1300</th>\n",
       "      <td>109</td>\n",
       "      <td>172335</td>\n",
       "      <td>4.0</td>\n",
       "      <td>5855</td>\n",
       "      <td>585</td>\n",
       "    </tr>\n",
       "    <tr>\n",
       "      <th>1301</th>\n",
       "      <td>109</td>\n",
       "      <td>172335</td>\n",
       "      <td>5.0</td>\n",
       "      <td>4254</td>\n",
       "      <td>425</td>\n",
       "    </tr>\n",
       "  </tbody>\n",
       "</table>\n",
       "</div>"
      ],
      "text/plain": [
       "        SUBJECT_ID  HADM_ID  SEQ_NUM ICD9_CODE ICD9_short\n",
       "ROW_ID                                                   \n",
       "1297           109   172335      1.0     40301        403\n",
       "1298           109   172335      2.0       486        486\n",
       "1299           109   172335      3.0     58281        582\n",
       "1300           109   172335      4.0      5855        585\n",
       "1301           109   172335      5.0      4254        425"
      ]
     },
     "execution_count": 20,
     "metadata": {},
     "output_type": "execute_result"
    }
   ],
   "source": [
    "diag_nonv=diag[diag[\"ICD9_head\"]!=\"V\"].drop(columns=\"ICD9_head\")\n",
    "diag_nonv.head()"
   ]
  },
  {
   "cell_type": "markdown",
   "metadata": {},
   "source": [
    "## 主訴取り出し(nonv)"
   ]
  },
  {
   "cell_type": "code",
   "execution_count": 21,
   "metadata": {},
   "outputs": [
    {
     "data": {
      "text/html": [
       "<div>\n",
       "<style scoped>\n",
       "    .dataframe tbody tr th:only-of-type {\n",
       "        vertical-align: middle;\n",
       "    }\n",
       "\n",
       "    .dataframe tbody tr th {\n",
       "        vertical-align: top;\n",
       "    }\n",
       "\n",
       "    .dataframe thead th {\n",
       "        text-align: right;\n",
       "    }\n",
       "</style>\n",
       "<table border=\"1\" class=\"dataframe\">\n",
       "  <thead>\n",
       "    <tr style=\"text-align: right;\">\n",
       "      <th></th>\n",
       "      <th>SUBJECT_ID</th>\n",
       "      <th>HADM_ID</th>\n",
       "      <th>SEQ_NUM</th>\n",
       "      <th>ICD9_CODE</th>\n",
       "      <th>ICD9_short</th>\n",
       "    </tr>\n",
       "    <tr>\n",
       "      <th>ROW_ID</th>\n",
       "      <th></th>\n",
       "      <th></th>\n",
       "      <th></th>\n",
       "      <th></th>\n",
       "      <th></th>\n",
       "    </tr>\n",
       "  </thead>\n",
       "  <tbody>\n",
       "    <tr>\n",
       "      <th>1297</th>\n",
       "      <td>109</td>\n",
       "      <td>172335</td>\n",
       "      <td>1.0</td>\n",
       "      <td>40301</td>\n",
       "      <td>403</td>\n",
       "    </tr>\n",
       "    <tr>\n",
       "      <th>1311</th>\n",
       "      <td>109</td>\n",
       "      <td>173633</td>\n",
       "      <td>1.0</td>\n",
       "      <td>40301</td>\n",
       "      <td>403</td>\n",
       "    </tr>\n",
       "    <tr>\n",
       "      <th>1488</th>\n",
       "      <td>112</td>\n",
       "      <td>174105</td>\n",
       "      <td>1.0</td>\n",
       "      <td>53100</td>\n",
       "      <td>531</td>\n",
       "    </tr>\n",
       "    <tr>\n",
       "      <th>1493</th>\n",
       "      <td>113</td>\n",
       "      <td>109976</td>\n",
       "      <td>1.0</td>\n",
       "      <td>1915</td>\n",
       "      <td>191</td>\n",
       "    </tr>\n",
       "    <tr>\n",
       "      <th>1496</th>\n",
       "      <td>114</td>\n",
       "      <td>178393</td>\n",
       "      <td>1.0</td>\n",
       "      <td>41401</td>\n",
       "      <td>414</td>\n",
       "    </tr>\n",
       "    <tr>\n",
       "      <th>...</th>\n",
       "      <td>...</td>\n",
       "      <td>...</td>\n",
       "      <td>...</td>\n",
       "      <td>...</td>\n",
       "      <td>...</td>\n",
       "    </tr>\n",
       "    <tr>\n",
       "      <th>639745</th>\n",
       "      <td>97488</td>\n",
       "      <td>152542</td>\n",
       "      <td>1.0</td>\n",
       "      <td>566</td>\n",
       "      <td>566</td>\n",
       "    </tr>\n",
       "    <tr>\n",
       "      <th>639756</th>\n",
       "      <td>97488</td>\n",
       "      <td>161999</td>\n",
       "      <td>1.0</td>\n",
       "      <td>43411</td>\n",
       "      <td>434</td>\n",
       "    </tr>\n",
       "    <tr>\n",
       "      <th>639780</th>\n",
       "      <td>97492</td>\n",
       "      <td>189314</td>\n",
       "      <td>1.0</td>\n",
       "      <td>34680</td>\n",
       "      <td>346</td>\n",
       "    </tr>\n",
       "    <tr>\n",
       "      <th>639788</th>\n",
       "      <td>97497</td>\n",
       "      <td>168949</td>\n",
       "      <td>1.0</td>\n",
       "      <td>0529</td>\n",
       "      <td>052</td>\n",
       "    </tr>\n",
       "    <tr>\n",
       "      <th>639797</th>\n",
       "      <td>97503</td>\n",
       "      <td>188195</td>\n",
       "      <td>1.0</td>\n",
       "      <td>7842</td>\n",
       "      <td>784</td>\n",
       "    </tr>\n",
       "  </tbody>\n",
       "</table>\n",
       "<p>50959 rows × 5 columns</p>\n",
       "</div>"
      ],
      "text/plain": [
       "        SUBJECT_ID  HADM_ID  SEQ_NUM ICD9_CODE ICD9_short\n",
       "ROW_ID                                                   \n",
       "1297           109   172335      1.0     40301        403\n",
       "1311           109   173633      1.0     40301        403\n",
       "1488           112   174105      1.0     53100        531\n",
       "1493           113   109976      1.0      1915        191\n",
       "1496           114   178393      1.0     41401        414\n",
       "...            ...      ...      ...       ...        ...\n",
       "639745       97488   152542      1.0       566        566\n",
       "639756       97488   161999      1.0     43411        434\n",
       "639780       97492   189314      1.0     34680        346\n",
       "639788       97497   168949      1.0      0529        052\n",
       "639797       97503   188195      1.0      7842        784\n",
       "\n",
       "[50959 rows x 5 columns]"
      ]
     },
     "execution_count": 21,
     "metadata": {},
     "output_type": "execute_result"
    }
   ],
   "source": [
    "# 主訴のみのレコードを取り出し\n",
    "# SEQ_NUM==1.0のものを抽出すればよい\n",
    "prim_nonv=diag_nonv[diag_nonv[\"SEQ_NUM\"]==1.0]\n",
    "prim_nonv"
   ]
  },
  {
   "cell_type": "code",
   "execution_count": 22,
   "metadata": {},
   "outputs": [
    {
     "ename": "NameError",
     "evalue": "name 'plot_pie' is not defined",
     "output_type": "error",
     "traceback": [
      "\u001b[1;31m---------------------------------------------------------------------------\u001b[0m",
      "\u001b[1;31mNameError\u001b[0m                                 Traceback (most recent call last)",
      "\u001b[1;32m<ipython-input-22-cc15d22721b9>\u001b[0m in \u001b[0;36m<module>\u001b[1;34m\u001b[0m\n\u001b[1;32m----> 1\u001b[1;33m \u001b[0mplot_pie\u001b[0m\u001b[1;33m(\u001b[0m\u001b[0mprim_nonv\u001b[0m\u001b[1;33m,\u001b[0m\u001b[1;34m\"ICD9_short\"\u001b[0m\u001b[1;33m,\u001b[0m\u001b[1;36m30\u001b[0m\u001b[1;33m,\u001b[0m\u001b[0mtitle\u001b[0m\u001b[1;33m=\u001b[0m\u001b[1;34m\"ICD9_nonVCode PrimDiag\"\u001b[0m\u001b[1;33m)\u001b[0m\u001b[1;33m\u001b[0m\u001b[1;33m\u001b[0m\u001b[0m\n\u001b[0m",
      "\u001b[1;31mNameError\u001b[0m: name 'plot_pie' is not defined"
     ]
    }
   ],
   "source": [
    "plot_pie(prim_nonv,\"ICD9_short\",30,title=\"ICD9_nonVCode PrimDiag\")"
   ]
  },
  {
   "cell_type": "code",
   "execution_count": 165,
   "metadata": {},
   "outputs": [
    {
     "name": "stdout",
     "output_type": "stream",
     "text": [
      "ranked_data=[('414', 3576), ('038', 3389), ('410', 3307), ('424', 1721), ('518', 1563), ('428', 1488), ('996', 1429), ('431', 1030), ('852', 1020), ('427', 1001), ('250', 925), ('441', 802), ('998', 775), ('486', 725), ('434', 716), ('578', 678), ('507', 661), ('584', 645), ('198', 571), ('430', 529)] \n",
      "\n",
      "values : [3576, 3389, 3307, 1721, 1563, 1488, 1429, 1030, 1020, 1001, 925, 802, 775, 725, 716, 678, 661, 645, 571, 529, 24408] \n",
      "\n"
     ]
    },
    {
     "data": {
      "image/png": "[encoded data removed]",
      "text/plain": [
       "<Figure size 576x576 with 1 Axes>"
      ]
     },
     "metadata": {
      "needs_background": "light"
     },
     "output_type": "display_data"
    }
   ],
   "source": [
    "plot_bar(prim_nonv,\"ICD9_short\",20)"
   ]
  },
  {
   "cell_type": "code",
   "execution_count": 14,
   "metadata": {},
   "outputs": [],
   "source": [
    "# ICD9をshortcodeからさらに大分類に分ける a-rまで\n",
    "def classifyICD(code):\n",
    "    if code <=139:\n",
    "        return \"a\" #infectious and parasitic diseases\n",
    "    elif code<=239:\n",
    "        return \"b\" #neoplasms\n",
    "    elif code<=279:\n",
    "        return \"c\" #endocrine, nutritional and metabolic diseases, and immunity disorders\n",
    "    elif code<=289:\n",
    "        return \"d\" #Diseases of the Blood and Blood-forming Organs\n",
    "    elif code<=319:\n",
    "        return  \"e\"#Mental Disorders\n",
    "    elif code<= 359:\n",
    "        return \"f\"# diseases of the nervous system\n",
    "    elif code<= 389:\n",
    "        return  \"g\"#sense organs\n",
    "    elif code<= 459:\n",
    "        return \"h\"# Diseases of the Circulatory System\n",
    "    elif code<= 519 :\n",
    "        return  \"i\"# Diseases of the Respiratory System\n",
    "    elif code<= 579:\n",
    "        return \"j\"# Diseases of the Digestive System\n",
    "    elif code<= 629:\n",
    "        return \"k\"# Diseases of the Genitourinary System\n",
    "    elif code<= 679:\n",
    "        return  \"l\"# Complications of Pregnancy, Childbirth, and the Puerperium\n",
    "    elif code<= 709:\n",
    "        return \"m\"#Diseases of the Skin and Subcutaneous Tissue\n",
    "    elif code<= 739:\n",
    "        return  \"n\"# Diseases of the Musculoskeletal System and Connective Tissue\n",
    "    elif code<= 759:\n",
    "        return  \"o\"# Congenital Anomalies\n",
    "    elif code<= 779:\n",
    "        return  \"p\"#Certain Conditions originating in the Perinatal Period\n",
    "    elif code<= 799:\n",
    "        return  \"q\"#Symptoms, Signs and Ill-defined Conditions\n",
    "    elif code<= 999:\n",
    "        return  \"r\"#Injury and Poisoning\n",
    "    else :\n",
    "        return \"other\"\n",
    "        \n",
    "    "
   ]
  },
  {
   "cell_type": "code",
   "execution_count": 15,
   "metadata": {},
   "outputs": [],
   "source": [
    "class_diag_dict={\n",
    " \"a\": \"infectious and parasitic diseases\",\n",
    " \"b\": \"neoplasms\",\n",
    "\"c\": \"endocrine, nutritional and metabolic diseases, and immunity disorders\",\n",
    " \"d\": \"Diseases of the Blood and Blood-forming Organs\",\n",
    " \"e\":\"Mental Disorders\",\n",
    "\"f\":\"diseases of the nervous system\",\n",
    "\"g\":\"sense organs\",\n",
    "\"h\":\"Diseases of the Circulatory System\",\n",
    " \"i\":\"Diseases of the Respiratory System\",\n",
    "\"j\": \"Diseases of the Digestive System\",\n",
    "\"k\": \"Diseases of the Genitourinary System\",\n",
    "\"l\": \"Complications of Pregnancy, Childbirth, and the Puerperium\",\n",
    "\"m\":\"Diseases of the Skin and Subcutaneous Tissue\",\n",
    "\"n\": \"Diseases of the Musculoskeletal System and Connective Tissue\",\n",
    "\"o\": \"Congenital Anomalies\",\n",
    "\"p\":\"Certain Conditions originating in the Perinatal Period\",\n",
    "\"q\":\"Symptoms, Signs and Ill-defined Conditions\",\n",
    "\"r\":\"Injury and Poisoning\"\n",
    "}"
   ]
  },
  {
   "cell_type": "code",
   "execution_count": 23,
   "metadata": {},
   "outputs": [
    {
     "name": "stderr",
     "output_type": "stream",
     "text": [
      "C:\\Users\\182214\\Anaconda3\\envs\\DL\\lib\\site-packages\\ipykernel_launcher.py:1: SettingWithCopyWarning: \n",
      "A value is trying to be set on a copy of a slice from a DataFrame.\n",
      "Try using .loc[row_indexer,col_indexer] = value instead\n",
      "\n",
      "See the caveats in the documentation: https://pandas.pydata.org/pandas-docs/stable/user_guide/indexing.html#returning-a-view-versus-a-copy\n",
      "  \"\"\"Entry point for launching an IPython kernel.\n"
     ]
    },
    {
     "data": {
      "text/html": [
       "<div>\n",
       "<style scoped>\n",
       "    .dataframe tbody tr th:only-of-type {\n",
       "        vertical-align: middle;\n",
       "    }\n",
       "\n",
       "    .dataframe tbody tr th {\n",
       "        vertical-align: top;\n",
       "    }\n",
       "\n",
       "    .dataframe thead th {\n",
       "        text-align: right;\n",
       "    }\n",
       "</style>\n",
       "<table border=\"1\" class=\"dataframe\">\n",
       "  <thead>\n",
       "    <tr style=\"text-align: right;\">\n",
       "      <th></th>\n",
       "      <th>SUBJECT_ID</th>\n",
       "      <th>HADM_ID</th>\n",
       "      <th>SEQ_NUM</th>\n",
       "      <th>ICD9_CODE</th>\n",
       "      <th>ICD9_short</th>\n",
       "      <th>ICD_classfy</th>\n",
       "    </tr>\n",
       "    <tr>\n",
       "      <th>ROW_ID</th>\n",
       "      <th></th>\n",
       "      <th></th>\n",
       "      <th></th>\n",
       "      <th></th>\n",
       "      <th></th>\n",
       "      <th></th>\n",
       "    </tr>\n",
       "  </thead>\n",
       "  <tbody>\n",
       "    <tr>\n",
       "      <th>1297</th>\n",
       "      <td>109</td>\n",
       "      <td>172335</td>\n",
       "      <td>1.0</td>\n",
       "      <td>40301</td>\n",
       "      <td>403</td>\n",
       "      <td>h</td>\n",
       "    </tr>\n",
       "    <tr>\n",
       "      <th>1311</th>\n",
       "      <td>109</td>\n",
       "      <td>173633</td>\n",
       "      <td>1.0</td>\n",
       "      <td>40301</td>\n",
       "      <td>403</td>\n",
       "      <td>h</td>\n",
       "    </tr>\n",
       "    <tr>\n",
       "      <th>1488</th>\n",
       "      <td>112</td>\n",
       "      <td>174105</td>\n",
       "      <td>1.0</td>\n",
       "      <td>53100</td>\n",
       "      <td>531</td>\n",
       "      <td>j</td>\n",
       "    </tr>\n",
       "    <tr>\n",
       "      <th>1493</th>\n",
       "      <td>113</td>\n",
       "      <td>109976</td>\n",
       "      <td>1.0</td>\n",
       "      <td>1915</td>\n",
       "      <td>191</td>\n",
       "      <td>b</td>\n",
       "    </tr>\n",
       "    <tr>\n",
       "      <th>1496</th>\n",
       "      <td>114</td>\n",
       "      <td>178393</td>\n",
       "      <td>1.0</td>\n",
       "      <td>41401</td>\n",
       "      <td>414</td>\n",
       "      <td>h</td>\n",
       "    </tr>\n",
       "  </tbody>\n",
       "</table>\n",
       "</div>"
      ],
      "text/plain": [
       "        SUBJECT_ID  HADM_ID  SEQ_NUM ICD9_CODE ICD9_short ICD_classfy\n",
       "ROW_ID                                                               \n",
       "1297           109   172335      1.0     40301        403           h\n",
       "1311           109   173633      1.0     40301        403           h\n",
       "1488           112   174105      1.0     53100        531           j\n",
       "1493           113   109976      1.0      1915        191           b\n",
       "1496           114   178393      1.0     41401        414           h"
      ]
     },
     "execution_count": 23,
     "metadata": {},
     "output_type": "execute_result"
    }
   ],
   "source": [
    "prim_nonv[\"ICD_classfy\"]=prim_nonv[\"ICD9_short\"].astype(int).map(classifyICD)\n",
    "prim_nonv.head()"
   ]
  },
  {
   "cell_type": "code",
   "execution_count": 24,
   "metadata": {},
   "outputs": [],
   "source": [
    "def get_swap_dict(d):\n",
    "    return {v: k for k, v in d.items()}"
   ]
  },
  {
   "cell_type": "code",
   "execution_count": 25,
   "metadata": {},
   "outputs": [
    {
     "name": "stdout",
     "output_type": "stream",
     "text": [
      "{'Certain Conditions originating in the Perinatal Period': 301,\n",
      " 'Complications of Pregnancy, Childbirth, and the Puerperium': 152,\n",
      " 'Congenital Anomalies': 296,\n",
      " 'Diseases of the Blood and Blood-forming Organs': 226,\n",
      " 'Diseases of the Circulatory System': 18312,\n",
      " 'Diseases of the Digestive System': 5222,\n",
      " 'Diseases of the Genitourinary System': 1062,\n",
      " 'Diseases of the Musculoskeletal System and Connective Tissue': 694,\n",
      " 'Diseases of the Respiratory System': 4724,\n",
      " 'Diseases of the Skin and Subcutaneous Tissue': 178,\n",
      " 'Injury and Poisoning': 8399,\n",
      " 'Mental Disorders': 502,\n",
      " 'Symptoms, Signs and Ill-defined Conditions': 598,\n",
      " 'diseases of the nervous system': 812,\n",
      " 'endocrine, nutritional and metabolic diseases, and immunity disorders': 1457,\n",
      " 'infectious and parasitic diseases': 4210,\n",
      " 'neoplasms': 3797,\n",
      " 'sense organs': 17}\n"
     ]
    }
   ],
   "source": [
    "counts=dict(prim_nonv[\"ICD_classfy\"].value_counts())\n",
    "d_inv=get_swap_dict(class_diag_dict) # diag->classのdict\n",
    "for k in d_inv.keys():\n",
    "    counts[k]=counts[d_inv[k]]\n",
    "    del counts[d_inv[k]]\n",
    "pprint(counts)"
   ]
  },
  {
   "cell_type": "code",
   "execution_count": 36,
   "metadata": {},
   "outputs": [],
   "source": [
    "prim_nonv[\"ICD_classfy\"].value_counts().reset_index().to_csv(\"Diag_to_rank.csv\")"
   ]
  },
  {
   "cell_type": "code",
   "execution_count": 218,
   "metadata": {},
   "outputs": [
    {
     "data": {
      "image/png": "[encoded data removed]",
      "text/plain": [
       "<Figure size 1008x576 with 1 Axes>"
      ]
     },
     "metadata": {},
     "output_type": "display_data"
    }
   ],
   "source": [
    "sorted_counts=dict(sorted(counts.items() , key=lambda x:x[1]))\n",
    "sns.set()\n",
    "sns.set_style('whitegrid')\n",
    "sns.set_palette('Set2')\n",
    "x=np.array(list(sorted_counts.keys()))\n",
    "y=np.array(list(sorted_counts.values()))\n",
    "x_position = np.arange(len(counts))\n",
    "fig = plt.figure(figsize=(14,8))\n",
    "ax = fig.add_subplot(1, 1, 1)\n",
    "ax.barh(x_position, y, tick_label=x)\n",
    "ax.tick_params(axis='x', labelsize=12)\n",
    "ax.tick_params(axis='y', labelsize=14)\n",
    "# plt.show()\n",
    "plt.title(\"N=50959\")\n",
    "plt.tight_layout()\n",
    "\n",
    "plt.savefig(\"./materials/number_of_patients_by_diagnoses.jpg\")\n",
    "\n"
   ]
  },
  {
   "cell_type": "code",
   "execution_count": 216,
   "metadata": {},
   "outputs": [
    {
     "data": {
      "text/plain": [
       "50959"
      ]
     },
     "execution_count": 216,
     "metadata": {},
     "output_type": "execute_result"
    }
   ],
   "source": [
    "prim_nonv[\"ICD_classfy\"].value_counts().sum()"
   ]
  },
  {
   "cell_type": "code",
   "execution_count": 172,
   "metadata": {},
   "outputs": [
    {
     "data": {
      "text/plain": [
       "array(dict_values([4210, 3797, 1457, 226, 502, 812, 17, 18312, 4724, 5222, 1062, 152, 178, 694, 296, 301, 598, 8399]),\n",
       "      dtype=object)"
      ]
     },
     "execution_count": 172,
     "metadata": {},
     "output_type": "execute_result"
    }
   ],
   "source": [
    "y"
   ]
  },
  {
   "cell_type": "code",
   "execution_count": null,
   "metadata": {},
   "outputs": [],
   "source": []
  }
 ],
 "metadata": {
  "kernelspec": {
   "display_name": "Python 3",
   "language": "python",
   "name": "python3"
  },
  "language_info": {
   "codemirror_mode": {
    "name": "ipython",
    "version": 3
   },
   "file_extension": ".py",
   "mimetype": "text/x-python",
   "name": "python",
   "nbconvert_exporter": "python",
   "pygments_lexer": "ipython3",
   "version": "3.7.9"
  }
 },
 "nbformat": 4,
 "nbformat_minor": 4
}
