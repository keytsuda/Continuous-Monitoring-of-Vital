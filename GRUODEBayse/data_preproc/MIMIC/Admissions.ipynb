{
 "cells": [
  {
   "cell_type": "code",
   "execution_count": 2,
   "metadata": {},
   "outputs": [],
   "source": [
    "import pandas as pd\n",
    "import matplotlib.pyplot as plt\n",
    "\n",
    "from datetime import datetime\n",
    "from datetime import timedelta\n",
    "\n",
    "import numpy as np\n",
    "\n",
    "file_path=\"D:/mimic_iii/csv/\""
   ]
  },
  {
   "cell_type": "code",
   "execution_count": 3,
   "metadata": {
    "scrolled": true
   },
   "outputs": [
    {
     "output_type": "execute_result",
     "data": {
      "text/plain": [
       "   ROW_ID  SUBJECT_ID  HADM_ID            ADMITTIME            DISCHTIME  \\\n",
       "0      21          22   165315  2196-04-09 12:26:00  2196-04-10 15:54:00   \n",
       "1      22          23   152223  2153-09-03 07:15:00  2153-09-08 19:10:00   \n",
       "2      23          23   124321  2157-10-18 19:34:00  2157-10-25 14:00:00   \n",
       "3      24          24   161859  2139-06-06 16:14:00  2139-06-09 12:48:00   \n",
       "4      25          25   129635  2160-11-02 02:06:00  2160-11-05 14:55:00   \n",
       "\n",
       "  DEATHTIME ADMISSION_TYPE         ADMISSION_LOCATION  \\\n",
       "0       NaN      EMERGENCY       EMERGENCY ROOM ADMIT   \n",
       "1       NaN       ELECTIVE  PHYS REFERRAL/NORMAL DELI   \n",
       "2       NaN      EMERGENCY  TRANSFER FROM HOSP/EXTRAM   \n",
       "3       NaN      EMERGENCY  TRANSFER FROM HOSP/EXTRAM   \n",
       "4       NaN      EMERGENCY       EMERGENCY ROOM ADMIT   \n",
       "\n",
       "          DISCHARGE_LOCATION INSURANCE LANGUAGE           RELIGION  \\\n",
       "0  DISC-TRAN CANCER/CHLDRN H   Private      NaN       UNOBTAINABLE   \n",
       "1           HOME HEALTH CARE  Medicare      NaN           CATHOLIC   \n",
       "2           HOME HEALTH CARE  Medicare     ENGL           CATHOLIC   \n",
       "3                       HOME   Private      NaN  PROTESTANT QUAKER   \n",
       "4                       HOME   Private      NaN       UNOBTAINABLE   \n",
       "\n",
       "  MARITAL_STATUS ETHNICITY            EDREGTIME            EDOUTTIME  \\\n",
       "0        MARRIED     WHITE  2196-04-09 10:06:00  2196-04-09 13:24:00   \n",
       "1        MARRIED     WHITE                  NaN                  NaN   \n",
       "2        MARRIED     WHITE                  NaN                  NaN   \n",
       "3         SINGLE     WHITE                  NaN                  NaN   \n",
       "4        MARRIED     WHITE  2160-11-02 01:01:00  2160-11-02 04:27:00   \n",
       "\n",
       "                                           DIAGNOSIS  HOSPITAL_EXPIRE_FLAG  \\\n",
       "0                            BENZODIAZEPINE OVERDOSE                     0   \n",
       "1  CORONARY ARTERY DISEASE\\CORONARY ARTERY BYPASS...                     0   \n",
       "2                                         BRAIN MASS                     0   \n",
       "3                     INTERIOR MYOCARDIAL INFARCTION                     0   \n",
       "4                            ACUTE CORONARY SYNDROME                     0   \n",
       "\n",
       "   HAS_CHARTEVENTS_DATA  \n",
       "0                     1  \n",
       "1                     1  \n",
       "2                     1  \n",
       "3                     1  \n",
       "4                     1  "
      ],
      "text/html": "<div>\n<style scoped>\n    .dataframe tbody tr th:only-of-type {\n        vertical-align: middle;\n    }\n\n    .dataframe tbody tr th {\n        vertical-align: top;\n    }\n\n    .dataframe thead th {\n        text-align: right;\n    }\n</style>\n<table border=\"1\" class=\"dataframe\">\n  <thead>\n    <tr style=\"text-align: right;\">\n      <th></th>\n      <th>ROW_ID</th>\n      <th>SUBJECT_ID</th>\n      <th>HADM_ID</th>\n      <th>ADMITTIME</th>\n      <th>DISCHTIME</th>\n      <th>DEATHTIME</th>\n      <th>ADMISSION_TYPE</th>\n      <th>ADMISSION_LOCATION</th>\n      <th>DISCHARGE_LOCATION</th>\n      <th>INSURANCE</th>\n      <th>LANGUAGE</th>\n      <th>RELIGION</th>\n      <th>MARITAL_STATUS</th>\n      <th>ETHNICITY</th>\n      <th>EDREGTIME</th>\n      <th>EDOUTTIME</th>\n      <th>DIAGNOSIS</th>\n      <th>HOSPITAL_EXPIRE_FLAG</th>\n      <th>HAS_CHARTEVENTS_DATA</th>\n    </tr>\n  </thead>\n  <tbody>\n    <tr>\n      <th>0</th>\n      <td>21</td>\n      <td>22</td>\n      <td>165315</td>\n      <td>2196-04-09 12:26:00</td>\n      <td>2196-04-10 15:54:00</td>\n      <td>NaN</td>\n      <td>EMERGENCY</td>\n      <td>EMERGENCY ROOM ADMIT</td>\n      <td>DISC-TRAN CANCER/CHLDRN H</td>\n      <td>Private</td>\n      <td>NaN</td>\n      <td>UNOBTAINABLE</td>\n      <td>MARRIED</td>\n      <td>WHITE</td>\n      <td>2196-04-09 10:06:00</td>\n      <td>2196-04-09 13:24:00</td>\n      <td>BENZODIAZEPINE OVERDOSE</td>\n      <td>0</td>\n      <td>1</td>\n    </tr>\n    <tr>\n      <th>1</th>\n      <td>22</td>\n      <td>23</td>\n      <td>152223</td>\n      <td>2153-09-03 07:15:00</td>\n      <td>2153-09-08 19:10:00</td>\n      <td>NaN</td>\n      <td>ELECTIVE</td>\n      <td>PHYS REFERRAL/NORMAL DELI</td>\n      <td>HOME HEALTH CARE</td>\n      <td>Medicare</td>\n      <td>NaN</td>\n      <td>CATHOLIC</td>\n      <td>MARRIED</td>\n      <td>WHITE</td>\n      <td>NaN</td>\n      <td>NaN</td>\n      <td>CORONARY ARTERY DISEASE\\CORONARY ARTERY BYPASS...</td>\n      <td>0</td>\n      <td>1</td>\n    </tr>\n    <tr>\n      <th>2</th>\n      <td>23</td>\n      <td>23</td>\n      <td>124321</td>\n      <td>2157-10-18 19:34:00</td>\n      <td>2157-10-25 14:00:00</td>\n      <td>NaN</td>\n      <td>EMERGENCY</td>\n      <td>TRANSFER FROM HOSP/EXTRAM</td>\n      <td>HOME HEALTH CARE</td>\n      <td>Medicare</td>\n      <td>ENGL</td>\n      <td>CATHOLIC</td>\n      <td>MARRIED</td>\n      <td>WHITE</td>\n      <td>NaN</td>\n      <td>NaN</td>\n      <td>BRAIN MASS</td>\n      <td>0</td>\n      <td>1</td>\n    </tr>\n    <tr>\n      <th>3</th>\n      <td>24</td>\n      <td>24</td>\n      <td>161859</td>\n      <td>2139-06-06 16:14:00</td>\n      <td>2139-06-09 12:48:00</td>\n      <td>NaN</td>\n      <td>EMERGENCY</td>\n      <td>TRANSFER FROM HOSP/EXTRAM</td>\n      <td>HOME</td>\n      <td>Private</td>\n      <td>NaN</td>\n      <td>PROTESTANT QUAKER</td>\n      <td>SINGLE</td>\n      <td>WHITE</td>\n      <td>NaN</td>\n      <td>NaN</td>\n      <td>INTERIOR MYOCARDIAL INFARCTION</td>\n      <td>0</td>\n      <td>1</td>\n    </tr>\n    <tr>\n      <th>4</th>\n      <td>25</td>\n      <td>25</td>\n      <td>129635</td>\n      <td>2160-11-02 02:06:00</td>\n      <td>2160-11-05 14:55:00</td>\n      <td>NaN</td>\n      <td>EMERGENCY</td>\n      <td>EMERGENCY ROOM ADMIT</td>\n      <td>HOME</td>\n      <td>Private</td>\n      <td>NaN</td>\n      <td>UNOBTAINABLE</td>\n      <td>MARRIED</td>\n      <td>WHITE</td>\n      <td>2160-11-02 01:01:00</td>\n      <td>2160-11-02 04:27:00</td>\n      <td>ACUTE CORONARY SYNDROME</td>\n      <td>0</td>\n      <td>1</td>\n    </tr>\n  </tbody>\n</table>\n</div>"
     },
     "metadata": {},
     "execution_count": 3
    }
   ],
   "source": [
    "adm=pd.read_csv(file_path+\"ADMISSIONS.csv\")\n",
    "adm.head()"
   ]
  },
  {
   "cell_type": "code",
   "execution_count": 4,
   "metadata": {},
   "outputs": [],
   "source": [
    "#Load the patients data base and add the Date of birth to the admission dataset.\n",
    "patients_df=pd.read_csv(file_path+\"PATIENTS.csv\")\n",
    "patients_df[\"DOBTIME\"]=pd.to_datetime(patients_df[\"DOB\"], format='%Y-%m-%d')\n",
    "patients_df[[\"SUBJECT_ID\",\"DOBTIME\"]].head()\n",
    "adm_dob=pd.merge(patients_df[[\"SUBJECT_ID\",\"DOBTIME\"]],adm,on=\"SUBJECT_ID\")"
   ]
  },
  {
   "cell_type": "code",
   "execution_count": 5,
   "metadata": {},
   "outputs": [
    {
     "output_type": "display_data",
     "data": {
      "text/plain": "<Figure size 432x288 with 1 Axes>",
      "image/svg+xml": "<?xml version=\"1.0\" encoding=\"utf-8\" standalone=\"no\"?>\r\n<!DOCTYPE svg PUBLIC \"-//W3C//DTD SVG 1.1//EN\"\r\n  \"http://www.w3.org/Graphics/SVG/1.1/DTD/svg11.dtd\">\r\n<!-- Created with matplotlib (https://matplotlib.org/) -->\r\n<svg height=\"248.518125pt\" version=\"1.1\" viewBox=\"0 0 388.0125 248.518125\" width=\"388.0125pt\" xmlns=\"http://www.w3.org/2000/svg\" xmlns:xlink=\"http://www.w3.org/1999/xlink\">\r\n <metadata>\r\n  <rdf:RDF xmlns:cc=\"http://creativecommons.org/ns#\" xmlns:dc=\"http://purl.org/dc/elements/1.1/\" xmlns:rdf=\"http://www.w3.org/1999/02/22-rdf-syntax-ns#\">\r\n   <cc:Work>\r\n    <dc:type rdf:resource=\"http://purl.org/dc/dcmitype/StillImage\"/>\r\n    <dc:date>2021-01-17T02:35:17.289468</dc:date>\r\n    <dc:format>image/svg+xml</dc:format>\r\n    <dc:creator>\r\n     <cc:Agent>\r\n      <dc:title>Matplotlib v3.3.2, https://matplotlib.org/</dc:title>\r\n     </cc:Agent>\r\n    </dc:creator>\r\n   </cc:Work>\r\n  </rdf:RDF>\r\n </metadata>\r\n <defs>\r\n  <style type=\"text/css\">*{stroke-linecap:butt;stroke-linejoin:round;}</style>\r\n </defs>\r\n <g id=\"figure_1\">\r\n  <g id=\"patch_1\">\r\n   <path d=\"M 0 248.518125 \r\nL 388.0125 248.518125 \r\nL 388.0125 0 \r\nL 0 0 \r\nz\r\n\" style=\"fill:none;\"/>\r\n  </g>\r\n  <g id=\"axes_1\">\r\n   <g id=\"patch_2\">\r\n    <path d=\"M 46.0125 224.64 \r\nL 380.8125 224.64 \r\nL 380.8125 7.2 \r\nL 46.0125 7.2 \r\nz\r\n\" style=\"fill:#ffffff;\"/>\r\n   </g>\r\n   <g id=\"patch_3\">\r\n    <path clip-path=\"url(#p95488e9e4b)\" d=\"M 61.230682 224.64 \r\nL 64.274318 224.64 \r\nL 64.274318 17.554286 \r\nL 61.230682 17.554286 \r\nz\r\n\" style=\"fill:#1f77b4;\"/>\r\n   </g>\r\n   <g id=\"patch_4\">\r\n    <path clip-path=\"url(#p95488e9e4b)\" d=\"M 64.274318 224.64 \r\nL 67.317955 224.64 \r\nL 67.317955 224.64 \r\nL 64.274318 224.64 \r\nz\r\n\" style=\"fill:#1f77b4;\"/>\r\n   </g>\r\n   <g id=\"patch_5\">\r\n    <path clip-path=\"url(#p95488e9e4b)\" d=\"M 67.317955 224.64 \r\nL 70.361591 224.64 \r\nL 70.361591 197.229019 \r\nL 67.317955 197.229019 \r\nz\r\n\" style=\"fill:#1f77b4;\"/>\r\n   </g>\r\n   <g id=\"patch_6\">\r\n    <path clip-path=\"url(#p95488e9e4b)\" d=\"M 70.361591 224.64 \r\nL 73.405227 224.64 \r\nL 73.405227 224.64 \r\nL 70.361591 224.64 \r\nz\r\n\" style=\"fill:#1f77b4;\"/>\r\n   </g>\r\n   <g id=\"patch_7\">\r\n    <path clip-path=\"url(#p95488e9e4b)\" d=\"M 73.405227 224.64 \r\nL 76.448864 224.64 \r\nL 76.448864 217.51102 \r\nL 73.405227 217.51102 \r\nz\r\n\" style=\"fill:#1f77b4;\"/>\r\n   </g>\r\n   <g id=\"patch_8\">\r\n    <path clip-path=\"url(#p95488e9e4b)\" d=\"M 76.448864 224.64 \r\nL 79.4925 224.64 \r\nL 79.4925 224.64 \r\nL 76.448864 224.64 \r\nz\r\n\" style=\"fill:#1f77b4;\"/>\r\n   </g>\r\n   <g id=\"patch_9\">\r\n    <path clip-path=\"url(#p95488e9e4b)\" d=\"M 79.4925 224.64 \r\nL 82.536136 224.64 \r\nL 82.536136 224.64 \r\nL 79.4925 224.64 \r\nz\r\n\" style=\"fill:#1f77b4;\"/>\r\n   </g>\r\n   <g id=\"patch_10\">\r\n    <path clip-path=\"url(#p95488e9e4b)\" d=\"M 82.536136 224.64 \r\nL 85.579773 224.64 \r\nL 85.579773 221.9414 \r\nL 82.536136 221.9414 \r\nz\r\n\" style=\"fill:#1f77b4;\"/>\r\n   </g>\r\n   <g id=\"patch_11\">\r\n    <path clip-path=\"url(#p95488e9e4b)\" d=\"M 85.579773 224.64 \r\nL 88.623409 224.64 \r\nL 88.623409 224.64 \r\nL 85.579773 224.64 \r\nz\r\n\" style=\"fill:#1f77b4;\"/>\r\n   </g>\r\n   <g id=\"patch_12\">\r\n    <path clip-path=\"url(#p95488e9e4b)\" d=\"M 88.623409 224.64 \r\nL 91.667045 224.64 \r\nL 91.667045 223.333197 \r\nL 88.623409 223.333197 \r\nz\r\n\" style=\"fill:#1f77b4;\"/>\r\n   </g>\r\n   <g id=\"patch_13\">\r\n    <path clip-path=\"url(#p95488e9e4b)\" d=\"M 91.667045 224.64 \r\nL 94.710682 224.64 \r\nL 94.710682 224.64 \r\nL 91.667045 224.64 \r\nz\r\n\" style=\"fill:#1f77b4;\"/>\r\n   </g>\r\n   <g id=\"patch_14\">\r\n    <path clip-path=\"url(#p95488e9e4b)\" d=\"M 94.710682 224.64 \r\nL 97.754318 224.64 \r\nL 97.754318 224.64 \r\nL 94.710682 224.64 \r\nz\r\n\" style=\"fill:#1f77b4;\"/>\r\n   </g>\r\n   <g id=\"patch_15\">\r\n    <path clip-path=\"url(#p95488e9e4b)\" d=\"M 97.754318 224.64 \r\nL 100.797955 224.64 \r\nL 100.797955 224.039721 \r\nL 97.754318 224.039721 \r\nz\r\n\" style=\"fill:#1f77b4;\"/>\r\n   </g>\r\n   <g id=\"patch_16\">\r\n    <path clip-path=\"url(#p95488e9e4b)\" d=\"M 100.797955 224.64 \r\nL 103.841591 224.64 \r\nL 103.841591 224.64 \r\nL 100.797955 224.64 \r\nz\r\n\" style=\"fill:#1f77b4;\"/>\r\n   </g>\r\n   <g id=\"patch_17\">\r\n    <path clip-path=\"url(#p95488e9e4b)\" d=\"M 103.841591 224.64 \r\nL 106.885227 224.64 \r\nL 106.885227 224.369078 \r\nL 103.841591 224.369078 \r\nz\r\n\" style=\"fill:#1f77b4;\"/>\r\n   </g>\r\n   <g id=\"patch_18\">\r\n    <path clip-path=\"url(#p95488e9e4b)\" d=\"M 106.885227 224.64 \r\nL 109.928864 224.64 \r\nL 109.928864 224.64 \r\nL 106.885227 224.64 \r\nz\r\n\" style=\"fill:#1f77b4;\"/>\r\n   </g>\r\n   <g id=\"patch_19\">\r\n    <path clip-path=\"url(#p95488e9e4b)\" d=\"M 109.928864 224.64 \r\nL 112.9725 224.64 \r\nL 112.9725 224.64 \r\nL 109.928864 224.64 \r\nz\r\n\" style=\"fill:#1f77b4;\"/>\r\n   </g>\r\n   <g id=\"patch_20\">\r\n    <path clip-path=\"url(#p95488e9e4b)\" d=\"M 112.9725 224.64 \r\nL 116.016136 224.64 \r\nL 116.016136 224.475322 \r\nL 112.9725 224.475322 \r\nz\r\n\" style=\"fill:#1f77b4;\"/>\r\n   </g>\r\n   <g id=\"patch_21\">\r\n    <path clip-path=\"url(#p95488e9e4b)\" d=\"M 116.016136 224.64 \r\nL 119.059773 224.64 \r\nL 119.059773 224.64 \r\nL 116.016136 224.64 \r\nz\r\n\" style=\"fill:#1f77b4;\"/>\r\n   </g>\r\n   <g id=\"patch_22\">\r\n    <path clip-path=\"url(#p95488e9e4b)\" d=\"M 119.059773 224.64 \r\nL 122.103409 224.64 \r\nL 122.103409 224.501883 \r\nL 119.059773 224.501883 \r\nz\r\n\" style=\"fill:#1f77b4;\"/>\r\n   </g>\r\n   <g id=\"patch_23\">\r\n    <path clip-path=\"url(#p95488e9e4b)\" d=\"M 122.103409 224.64 \r\nL 125.147045 224.64 \r\nL 125.147045 224.64 \r\nL 122.103409 224.64 \r\nz\r\n\" style=\"fill:#1f77b4;\"/>\r\n   </g>\r\n   <g id=\"patch_24\">\r\n    <path clip-path=\"url(#p95488e9e4b)\" d=\"M 125.147045 224.64 \r\nL 128.190682 224.64 \r\nL 128.190682 224.565629 \r\nL 125.147045 224.565629 \r\nz\r\n\" style=\"fill:#1f77b4;\"/>\r\n   </g>\r\n   <g id=\"patch_25\">\r\n    <path clip-path=\"url(#p95488e9e4b)\" d=\"M 128.190682 224.64 \r\nL 131.234318 224.64 \r\nL 131.234318 224.64 \r\nL 128.190682 224.64 \r\nz\r\n\" style=\"fill:#1f77b4;\"/>\r\n   </g>\r\n   <g id=\"patch_26\">\r\n    <path clip-path=\"url(#p95488e9e4b)\" d=\"M 131.234318 224.64 \r\nL 134.277955 224.64 \r\nL 134.277955 224.64 \r\nL 131.234318 224.64 \r\nz\r\n\" style=\"fill:#1f77b4;\"/>\r\n   </g>\r\n   <g id=\"patch_27\">\r\n    <path clip-path=\"url(#p95488e9e4b)\" d=\"M 134.277955 224.64 \r\nL 137.321591 224.64 \r\nL 137.321591 224.570941 \r\nL 134.277955 224.570941 \r\nz\r\n\" style=\"fill:#1f77b4;\"/>\r\n   </g>\r\n   <g id=\"patch_28\">\r\n    <path clip-path=\"url(#p95488e9e4b)\" d=\"M 137.321591 224.64 \r\nL 140.365227 224.64 \r\nL 140.365227 224.64 \r\nL 137.321591 224.64 \r\nz\r\n\" style=\"fill:#1f77b4;\"/>\r\n   </g>\r\n   <g id=\"patch_29\">\r\n    <path clip-path=\"url(#p95488e9e4b)\" d=\"M 140.365227 224.64 \r\nL 143.408864 224.64 \r\nL 143.408864 224.597502 \r\nL 140.365227 224.597502 \r\nz\r\n\" style=\"fill:#1f77b4;\"/>\r\n   </g>\r\n   <g id=\"patch_30\">\r\n    <path clip-path=\"url(#p95488e9e4b)\" d=\"M 143.408864 224.64 \r\nL 146.4525 224.64 \r\nL 146.4525 224.64 \r\nL 143.408864 224.64 \r\nz\r\n\" style=\"fill:#1f77b4;\"/>\r\n   </g>\r\n   <g id=\"patch_31\">\r\n    <path clip-path=\"url(#p95488e9e4b)\" d=\"M 146.4525 224.64 \r\nL 149.496136 224.64 \r\nL 149.496136 224.64 \r\nL 146.4525 224.64 \r\nz\r\n\" style=\"fill:#1f77b4;\"/>\r\n   </g>\r\n   <g id=\"patch_32\">\r\n    <path clip-path=\"url(#p95488e9e4b)\" d=\"M 149.496136 224.64 \r\nL 152.539773 224.64 \r\nL 152.539773 224.613439 \r\nL 149.496136 224.613439 \r\nz\r\n\" style=\"fill:#1f77b4;\"/>\r\n   </g>\r\n   <g id=\"patch_33\">\r\n    <path clip-path=\"url(#p95488e9e4b)\" d=\"M 152.539773 224.64 \r\nL 155.583409 224.64 \r\nL 155.583409 224.64 \r\nL 152.539773 224.64 \r\nz\r\n\" style=\"fill:#1f77b4;\"/>\r\n   </g>\r\n   <g id=\"patch_34\">\r\n    <path clip-path=\"url(#p95488e9e4b)\" d=\"M 155.583409 224.64 \r\nL 158.627045 224.64 \r\nL 158.627045 224.618751 \r\nL 155.583409 224.618751 \r\nz\r\n\" style=\"fill:#1f77b4;\"/>\r\n   </g>\r\n   <g id=\"patch_35\">\r\n    <path clip-path=\"url(#p95488e9e4b)\" d=\"M 158.627045 224.64 \r\nL 161.670682 224.64 \r\nL 161.670682 224.64 \r\nL 158.627045 224.64 \r\nz\r\n\" style=\"fill:#1f77b4;\"/>\r\n   </g>\r\n   <g id=\"patch_36\">\r\n    <path clip-path=\"url(#p95488e9e4b)\" d=\"M 161.670682 224.64 \r\nL 164.714318 224.64 \r\nL 164.714318 224.64 \r\nL 161.670682 224.64 \r\nz\r\n\" style=\"fill:#1f77b4;\"/>\r\n   </g>\r\n   <g id=\"patch_37\">\r\n    <path clip-path=\"url(#p95488e9e4b)\" d=\"M 164.714318 224.64 \r\nL 167.757955 224.64 \r\nL 167.757955 224.634688 \r\nL 164.714318 224.634688 \r\nz\r\n\" style=\"fill:#1f77b4;\"/>\r\n   </g>\r\n   <g id=\"patch_38\">\r\n    <path clip-path=\"url(#p95488e9e4b)\" d=\"M 167.757955 224.64 \r\nL 170.801591 224.64 \r\nL 170.801591 224.64 \r\nL 167.757955 224.64 \r\nz\r\n\" style=\"fill:#1f77b4;\"/>\r\n   </g>\r\n   <g id=\"patch_39\">\r\n    <path clip-path=\"url(#p95488e9e4b)\" d=\"M 170.801591 224.64 \r\nL 173.845227 224.64 \r\nL 173.845227 224.629376 \r\nL 170.801591 224.629376 \r\nz\r\n\" style=\"fill:#1f77b4;\"/>\r\n   </g>\r\n   <g id=\"patch_40\">\r\n    <path clip-path=\"url(#p95488e9e4b)\" d=\"M 173.845227 224.64 \r\nL 176.888864 224.64 \r\nL 176.888864 224.64 \r\nL 173.845227 224.64 \r\nz\r\n\" style=\"fill:#1f77b4;\"/>\r\n   </g>\r\n   <g id=\"patch_41\">\r\n    <path clip-path=\"url(#p95488e9e4b)\" d=\"M 176.888864 224.64 \r\nL 179.9325 224.64 \r\nL 179.9325 224.64 \r\nL 176.888864 224.64 \r\nz\r\n\" style=\"fill:#1f77b4;\"/>\r\n   </g>\r\n   <g id=\"patch_42\">\r\n    <path clip-path=\"url(#p95488e9e4b)\" d=\"M 179.9325 224.64 \r\nL 182.976136 224.64 \r\nL 182.976136 224.624063 \r\nL 179.9325 224.624063 \r\nz\r\n\" style=\"fill:#1f77b4;\"/>\r\n   </g>\r\n   <g id=\"patch_43\">\r\n    <path clip-path=\"url(#p95488e9e4b)\" d=\"M 182.976136 224.64 \r\nL 186.019773 224.64 \r\nL 186.019773 224.64 \r\nL 182.976136 224.64 \r\nz\r\n\" style=\"fill:#1f77b4;\"/>\r\n   </g>\r\n   <g id=\"patch_44\">\r\n    <path clip-path=\"url(#p95488e9e4b)\" d=\"M 186.019773 224.64 \r\nL 189.063409 224.64 \r\nL 189.063409 224.64 \r\nL 186.019773 224.64 \r\nz\r\n\" style=\"fill:#1f77b4;\"/>\r\n   </g>\r\n   <g id=\"patch_45\">\r\n    <path clip-path=\"url(#p95488e9e4b)\" d=\"M 189.063409 224.64 \r\nL 192.107045 224.64 \r\nL 192.107045 224.64 \r\nL 189.063409 224.64 \r\nz\r\n\" style=\"fill:#1f77b4;\"/>\r\n   </g>\r\n   <g id=\"patch_46\">\r\n    <path clip-path=\"url(#p95488e9e4b)\" d=\"M 192.107045 224.64 \r\nL 195.150682 224.64 \r\nL 195.150682 224.634688 \r\nL 192.107045 224.634688 \r\nz\r\n\" style=\"fill:#1f77b4;\"/>\r\n   </g>\r\n   <g id=\"patch_47\">\r\n    <path clip-path=\"url(#p95488e9e4b)\" d=\"M 195.150682 224.64 \r\nL 198.194318 224.64 \r\nL 198.194318 224.64 \r\nL 195.150682 224.64 \r\nz\r\n\" style=\"fill:#1f77b4;\"/>\r\n   </g>\r\n   <g id=\"patch_48\">\r\n    <path clip-path=\"url(#p95488e9e4b)\" d=\"M 198.194318 224.64 \r\nL 201.237955 224.64 \r\nL 201.237955 224.64 \r\nL 198.194318 224.64 \r\nz\r\n\" style=\"fill:#1f77b4;\"/>\r\n   </g>\r\n   <g id=\"patch_49\">\r\n    <path clip-path=\"url(#p95488e9e4b)\" d=\"M 201.237955 224.64 \r\nL 204.281591 224.64 \r\nL 204.281591 224.634688 \r\nL 201.237955 224.634688 \r\nz\r\n\" style=\"fill:#1f77b4;\"/>\r\n   </g>\r\n   <g id=\"patch_50\">\r\n    <path clip-path=\"url(#p95488e9e4b)\" d=\"M 204.281591 224.64 \r\nL 207.325227 224.64 \r\nL 207.325227 224.64 \r\nL 204.281591 224.64 \r\nz\r\n\" style=\"fill:#1f77b4;\"/>\r\n   </g>\r\n   <g id=\"patch_51\">\r\n    <path clip-path=\"url(#p95488e9e4b)\" d=\"M 207.325227 224.64 \r\nL 210.368864 224.64 \r\nL 210.368864 224.634688 \r\nL 207.325227 224.634688 \r\nz\r\n\" style=\"fill:#1f77b4;\"/>\r\n   </g>\r\n   <g id=\"patch_52\">\r\n    <path clip-path=\"url(#p95488e9e4b)\" d=\"M 210.368864 224.64 \r\nL 213.4125 224.64 \r\nL 213.4125 224.64 \r\nL 210.368864 224.64 \r\nz\r\n\" style=\"fill:#1f77b4;\"/>\r\n   </g>\r\n   <g id=\"patch_53\">\r\n    <path clip-path=\"url(#p95488e9e4b)\" d=\"M 213.4125 224.64 \r\nL 216.456136 224.64 \r\nL 216.456136 224.64 \r\nL 213.4125 224.64 \r\nz\r\n\" style=\"fill:#1f77b4;\"/>\r\n   </g>\r\n   <g id=\"patch_54\">\r\n    <path clip-path=\"url(#p95488e9e4b)\" d=\"M 216.456136 224.64 \r\nL 219.499773 224.64 \r\nL 219.499773 224.634688 \r\nL 216.456136 224.634688 \r\nz\r\n\" style=\"fill:#1f77b4;\"/>\r\n   </g>\r\n   <g id=\"patch_55\">\r\n    <path clip-path=\"url(#p95488e9e4b)\" d=\"M 219.499773 224.64 \r\nL 222.543409 224.64 \r\nL 222.543409 224.64 \r\nL 219.499773 224.64 \r\nz\r\n\" style=\"fill:#1f77b4;\"/>\r\n   </g>\r\n   <g id=\"patch_56\">\r\n    <path clip-path=\"url(#p95488e9e4b)\" d=\"M 222.543409 224.64 \r\nL 225.587045 224.64 \r\nL 225.587045 224.634688 \r\nL 222.543409 224.634688 \r\nz\r\n\" style=\"fill:#1f77b4;\"/>\r\n   </g>\r\n   <g id=\"patch_57\">\r\n    <path clip-path=\"url(#p95488e9e4b)\" d=\"M 225.587045 224.64 \r\nL 228.630682 224.64 \r\nL 228.630682 224.64 \r\nL 225.587045 224.64 \r\nz\r\n\" style=\"fill:#1f77b4;\"/>\r\n   </g>\r\n   <g id=\"patch_58\">\r\n    <path clip-path=\"url(#p95488e9e4b)\" d=\"M 228.630682 224.64 \r\nL 231.674318 224.64 \r\nL 231.674318 224.64 \r\nL 228.630682 224.64 \r\nz\r\n\" style=\"fill:#1f77b4;\"/>\r\n   </g>\r\n   <g id=\"patch_59\">\r\n    <path clip-path=\"url(#p95488e9e4b)\" d=\"M 231.674318 224.64 \r\nL 234.717955 224.64 \r\nL 234.717955 224.634688 \r\nL 231.674318 224.634688 \r\nz\r\n\" style=\"fill:#1f77b4;\"/>\r\n   </g>\r\n   <g id=\"patch_60\">\r\n    <path clip-path=\"url(#p95488e9e4b)\" d=\"M 234.717955 224.64 \r\nL 237.761591 224.64 \r\nL 237.761591 224.64 \r\nL 234.717955 224.64 \r\nz\r\n\" style=\"fill:#1f77b4;\"/>\r\n   </g>\r\n   <g id=\"patch_61\">\r\n    <path clip-path=\"url(#p95488e9e4b)\" d=\"M 237.761591 224.64 \r\nL 240.805227 224.64 \r\nL 240.805227 224.64 \r\nL 237.761591 224.64 \r\nz\r\n\" style=\"fill:#1f77b4;\"/>\r\n   </g>\r\n   <g id=\"patch_62\">\r\n    <path clip-path=\"url(#p95488e9e4b)\" d=\"M 240.805227 224.64 \r\nL 243.848864 224.64 \r\nL 243.848864 224.64 \r\nL 240.805227 224.64 \r\nz\r\n\" style=\"fill:#1f77b4;\"/>\r\n   </g>\r\n   <g id=\"patch_63\">\r\n    <path clip-path=\"url(#p95488e9e4b)\" d=\"M 243.848864 224.64 \r\nL 246.8925 224.64 \r\nL 246.8925 224.64 \r\nL 243.848864 224.64 \r\nz\r\n\" style=\"fill:#1f77b4;\"/>\r\n   </g>\r\n   <g id=\"patch_64\">\r\n    <path clip-path=\"url(#p95488e9e4b)\" d=\"M 246.8925 224.64 \r\nL 249.936136 224.64 \r\nL 249.936136 224.64 \r\nL 246.8925 224.64 \r\nz\r\n\" style=\"fill:#1f77b4;\"/>\r\n   </g>\r\n   <g id=\"patch_65\">\r\n    <path clip-path=\"url(#p95488e9e4b)\" d=\"M 249.936136 224.64 \r\nL 252.979773 224.64 \r\nL 252.979773 224.64 \r\nL 249.936136 224.64 \r\nz\r\n\" style=\"fill:#1f77b4;\"/>\r\n   </g>\r\n   <g id=\"patch_66\">\r\n    <path clip-path=\"url(#p95488e9e4b)\" d=\"M 252.979773 224.64 \r\nL 256.023409 224.64 \r\nL 256.023409 224.64 \r\nL 252.979773 224.64 \r\nz\r\n\" style=\"fill:#1f77b4;\"/>\r\n   </g>\r\n   <g id=\"patch_67\">\r\n    <path clip-path=\"url(#p95488e9e4b)\" d=\"M 256.023409 224.64 \r\nL 259.067045 224.64 \r\nL 259.067045 224.64 \r\nL 256.023409 224.64 \r\nz\r\n\" style=\"fill:#1f77b4;\"/>\r\n   </g>\r\n   <g id=\"patch_68\">\r\n    <path clip-path=\"url(#p95488e9e4b)\" d=\"M 259.067045 224.64 \r\nL 262.110682 224.64 \r\nL 262.110682 224.64 \r\nL 259.067045 224.64 \r\nz\r\n\" style=\"fill:#1f77b4;\"/>\r\n   </g>\r\n   <g id=\"patch_69\">\r\n    <path clip-path=\"url(#p95488e9e4b)\" d=\"M 262.110682 224.64 \r\nL 265.154318 224.64 \r\nL 265.154318 224.64 \r\nL 262.110682 224.64 \r\nz\r\n\" style=\"fill:#1f77b4;\"/>\r\n   </g>\r\n   <g id=\"patch_70\">\r\n    <path clip-path=\"url(#p95488e9e4b)\" d=\"M 265.154318 224.64 \r\nL 268.197955 224.64 \r\nL 268.197955 224.64 \r\nL 265.154318 224.64 \r\nz\r\n\" style=\"fill:#1f77b4;\"/>\r\n   </g>\r\n   <g id=\"patch_71\">\r\n    <path clip-path=\"url(#p95488e9e4b)\" d=\"M 268.197955 224.64 \r\nL 271.241591 224.64 \r\nL 271.241591 224.64 \r\nL 268.197955 224.64 \r\nz\r\n\" style=\"fill:#1f77b4;\"/>\r\n   </g>\r\n   <g id=\"patch_72\">\r\n    <path clip-path=\"url(#p95488e9e4b)\" d=\"M 271.241591 224.64 \r\nL 274.285227 224.64 \r\nL 274.285227 224.64 \r\nL 271.241591 224.64 \r\nz\r\n\" style=\"fill:#1f77b4;\"/>\r\n   </g>\r\n   <g id=\"patch_73\">\r\n    <path clip-path=\"url(#p95488e9e4b)\" d=\"M 274.285227 224.64 \r\nL 277.328864 224.64 \r\nL 277.328864 224.64 \r\nL 274.285227 224.64 \r\nz\r\n\" style=\"fill:#1f77b4;\"/>\r\n   </g>\r\n   <g id=\"patch_74\">\r\n    <path clip-path=\"url(#p95488e9e4b)\" d=\"M 277.328864 224.64 \r\nL 280.3725 224.64 \r\nL 280.3725 224.64 \r\nL 277.328864 224.64 \r\nz\r\n\" style=\"fill:#1f77b4;\"/>\r\n   </g>\r\n   <g id=\"patch_75\">\r\n    <path clip-path=\"url(#p95488e9e4b)\" d=\"M 280.3725 224.64 \r\nL 283.416136 224.64 \r\nL 283.416136 224.64 \r\nL 280.3725 224.64 \r\nz\r\n\" style=\"fill:#1f77b4;\"/>\r\n   </g>\r\n   <g id=\"patch_76\">\r\n    <path clip-path=\"url(#p95488e9e4b)\" d=\"M 283.416136 224.64 \r\nL 286.459773 224.64 \r\nL 286.459773 224.634688 \r\nL 283.416136 224.634688 \r\nz\r\n\" style=\"fill:#1f77b4;\"/>\r\n   </g>\r\n   <g id=\"patch_77\">\r\n    <path clip-path=\"url(#p95488e9e4b)\" d=\"M 286.459773 224.64 \r\nL 289.503409 224.64 \r\nL 289.503409 224.64 \r\nL 286.459773 224.64 \r\nz\r\n\" style=\"fill:#1f77b4;\"/>\r\n   </g>\r\n   <g id=\"patch_78\">\r\n    <path clip-path=\"url(#p95488e9e4b)\" d=\"M 289.503409 224.64 \r\nL 292.547045 224.64 \r\nL 292.547045 224.64 \r\nL 289.503409 224.64 \r\nz\r\n\" style=\"fill:#1f77b4;\"/>\r\n   </g>\r\n   <g id=\"patch_79\">\r\n    <path clip-path=\"url(#p95488e9e4b)\" d=\"M 292.547045 224.64 \r\nL 295.590682 224.64 \r\nL 295.590682 224.64 \r\nL 292.547045 224.64 \r\nz\r\n\" style=\"fill:#1f77b4;\"/>\r\n   </g>\r\n   <g id=\"patch_80\">\r\n    <path clip-path=\"url(#p95488e9e4b)\" d=\"M 295.590682 224.64 \r\nL 298.634318 224.64 \r\nL 298.634318 224.64 \r\nL 295.590682 224.64 \r\nz\r\n\" style=\"fill:#1f77b4;\"/>\r\n   </g>\r\n   <g id=\"patch_81\">\r\n    <path clip-path=\"url(#p95488e9e4b)\" d=\"M 298.634318 224.64 \r\nL 301.677955 224.64 \r\nL 301.677955 224.64 \r\nL 298.634318 224.64 \r\nz\r\n\" style=\"fill:#1f77b4;\"/>\r\n   </g>\r\n   <g id=\"patch_82\">\r\n    <path clip-path=\"url(#p95488e9e4b)\" d=\"M 301.677955 224.64 \r\nL 304.721591 224.64 \r\nL 304.721591 224.64 \r\nL 301.677955 224.64 \r\nz\r\n\" style=\"fill:#1f77b4;\"/>\r\n   </g>\r\n   <g id=\"patch_83\">\r\n    <path clip-path=\"url(#p95488e9e4b)\" d=\"M 304.721591 224.64 \r\nL 307.765227 224.64 \r\nL 307.765227 224.629376 \r\nL 304.721591 224.629376 \r\nz\r\n\" style=\"fill:#1f77b4;\"/>\r\n   </g>\r\n   <g id=\"patch_84\">\r\n    <path clip-path=\"url(#p95488e9e4b)\" d=\"M 307.765227 224.64 \r\nL 310.808864 224.64 \r\nL 310.808864 224.64 \r\nL 307.765227 224.64 \r\nz\r\n\" style=\"fill:#1f77b4;\"/>\r\n   </g>\r\n   <g id=\"patch_85\">\r\n    <path clip-path=\"url(#p95488e9e4b)\" d=\"M 310.808864 224.64 \r\nL 313.8525 224.64 \r\nL 313.8525 224.64 \r\nL 310.808864 224.64 \r\nz\r\n\" style=\"fill:#1f77b4;\"/>\r\n   </g>\r\n   <g id=\"patch_86\">\r\n    <path clip-path=\"url(#p95488e9e4b)\" d=\"M 313.8525 224.64 \r\nL 316.896136 224.64 \r\nL 316.896136 224.64 \r\nL 313.8525 224.64 \r\nz\r\n\" style=\"fill:#1f77b4;\"/>\r\n   </g>\r\n   <g id=\"patch_87\">\r\n    <path clip-path=\"url(#p95488e9e4b)\" d=\"M 316.896136 224.64 \r\nL 319.939773 224.64 \r\nL 319.939773 224.64 \r\nL 316.896136 224.64 \r\nz\r\n\" style=\"fill:#1f77b4;\"/>\r\n   </g>\r\n   <g id=\"patch_88\">\r\n    <path clip-path=\"url(#p95488e9e4b)\" d=\"M 319.939773 224.64 \r\nL 322.983409 224.64 \r\nL 322.983409 224.64 \r\nL 319.939773 224.64 \r\nz\r\n\" style=\"fill:#1f77b4;\"/>\r\n   </g>\r\n   <g id=\"patch_89\">\r\n    <path clip-path=\"url(#p95488e9e4b)\" d=\"M 322.983409 224.64 \r\nL 326.027045 224.64 \r\nL 326.027045 224.64 \r\nL 322.983409 224.64 \r\nz\r\n\" style=\"fill:#1f77b4;\"/>\r\n   </g>\r\n   <g id=\"patch_90\">\r\n    <path clip-path=\"url(#p95488e9e4b)\" d=\"M 326.027045 224.64 \r\nL 329.070682 224.64 \r\nL 329.070682 224.64 \r\nL 326.027045 224.64 \r\nz\r\n\" style=\"fill:#1f77b4;\"/>\r\n   </g>\r\n   <g id=\"patch_91\">\r\n    <path clip-path=\"url(#p95488e9e4b)\" d=\"M 329.070682 224.64 \r\nL 332.114318 224.64 \r\nL 332.114318 224.64 \r\nL 329.070682 224.64 \r\nz\r\n\" style=\"fill:#1f77b4;\"/>\r\n   </g>\r\n   <g id=\"patch_92\">\r\n    <path clip-path=\"url(#p95488e9e4b)\" d=\"M 332.114318 224.64 \r\nL 335.157955 224.64 \r\nL 335.157955 224.64 \r\nL 332.114318 224.64 \r\nz\r\n\" style=\"fill:#1f77b4;\"/>\r\n   </g>\r\n   <g id=\"patch_93\">\r\n    <path clip-path=\"url(#p95488e9e4b)\" d=\"M 335.157955 224.64 \r\nL 338.201591 224.64 \r\nL 338.201591 224.64 \r\nL 335.157955 224.64 \r\nz\r\n\" style=\"fill:#1f77b4;\"/>\r\n   </g>\r\n   <g id=\"patch_94\">\r\n    <path clip-path=\"url(#p95488e9e4b)\" d=\"M 338.201591 224.64 \r\nL 341.245227 224.64 \r\nL 341.245227 224.64 \r\nL 338.201591 224.64 \r\nz\r\n\" style=\"fill:#1f77b4;\"/>\r\n   </g>\r\n   <g id=\"patch_95\">\r\n    <path clip-path=\"url(#p95488e9e4b)\" d=\"M 341.245227 224.64 \r\nL 344.288864 224.64 \r\nL 344.288864 224.64 \r\nL 341.245227 224.64 \r\nz\r\n\" style=\"fill:#1f77b4;\"/>\r\n   </g>\r\n   <g id=\"patch_96\">\r\n    <path clip-path=\"url(#p95488e9e4b)\" d=\"M 344.288864 224.64 \r\nL 347.3325 224.64 \r\nL 347.3325 224.64 \r\nL 344.288864 224.64 \r\nz\r\n\" style=\"fill:#1f77b4;\"/>\r\n   </g>\r\n   <g id=\"patch_97\">\r\n    <path clip-path=\"url(#p95488e9e4b)\" d=\"M 347.3325 224.64 \r\nL 350.376136 224.64 \r\nL 350.376136 224.64 \r\nL 347.3325 224.64 \r\nz\r\n\" style=\"fill:#1f77b4;\"/>\r\n   </g>\r\n   <g id=\"patch_98\">\r\n    <path clip-path=\"url(#p95488e9e4b)\" d=\"M 350.376136 224.64 \r\nL 353.419773 224.64 \r\nL 353.419773 224.64 \r\nL 350.376136 224.64 \r\nz\r\n\" style=\"fill:#1f77b4;\"/>\r\n   </g>\r\n   <g id=\"patch_99\">\r\n    <path clip-path=\"url(#p95488e9e4b)\" d=\"M 353.419773 224.64 \r\nL 356.463409 224.64 \r\nL 356.463409 224.64 \r\nL 353.419773 224.64 \r\nz\r\n\" style=\"fill:#1f77b4;\"/>\r\n   </g>\r\n   <g id=\"patch_100\">\r\n    <path clip-path=\"url(#p95488e9e4b)\" d=\"M 356.463409 224.64 \r\nL 359.507045 224.64 \r\nL 359.507045 224.64 \r\nL 356.463409 224.64 \r\nz\r\n\" style=\"fill:#1f77b4;\"/>\r\n   </g>\r\n   <g id=\"patch_101\">\r\n    <path clip-path=\"url(#p95488e9e4b)\" d=\"M 359.507045 224.64 \r\nL 362.550682 224.64 \r\nL 362.550682 224.64 \r\nL 359.507045 224.64 \r\nz\r\n\" style=\"fill:#1f77b4;\"/>\r\n   </g>\r\n   <g id=\"patch_102\">\r\n    <path clip-path=\"url(#p95488e9e4b)\" d=\"M 362.550682 224.64 \r\nL 365.594318 224.64 \r\nL 365.594318 224.634688 \r\nL 362.550682 224.634688 \r\nz\r\n\" style=\"fill:#1f77b4;\"/>\r\n   </g>\r\n   <g id=\"matplotlib.axis_1\">\r\n    <g id=\"xtick_1\">\r\n     <g id=\"line2d_1\">\r\n      <defs>\r\n       <path d=\"M 0 0 \r\nL 0 3.5 \r\n\" id=\"m3105ed9611\" style=\"stroke:#000000;stroke-width:0.8;\"/>\r\n      </defs>\r\n      <g>\r\n       <use style=\"stroke:#000000;stroke-width:0.8;\" x=\"53.807178\" xlink:href=\"#m3105ed9611\" y=\"224.64\"/>\r\n      </g>\r\n     </g>\r\n     <g id=\"text_1\">\r\n      <!-- 0 -->\r\n      <g transform=\"translate(50.625928 239.238438)scale(0.1 -0.1)\">\r\n       <defs>\r\n        <path d=\"M 31.78125 66.40625 \r\nQ 24.171875 66.40625 20.328125 58.90625 \r\nQ 16.5 51.421875 16.5 36.375 \r\nQ 16.5 21.390625 20.328125 13.890625 \r\nQ 24.171875 6.390625 31.78125 6.390625 \r\nQ 39.453125 6.390625 43.28125 13.890625 \r\nQ 47.125 21.390625 47.125 36.375 \r\nQ 47.125 51.421875 43.28125 58.90625 \r\nQ 39.453125 66.40625 31.78125 66.40625 \r\nz\r\nM 31.78125 74.21875 \r\nQ 44.046875 74.21875 50.515625 64.515625 \r\nQ 56.984375 54.828125 56.984375 36.375 \r\nQ 56.984375 17.96875 50.515625 8.265625 \r\nQ 44.046875 -1.421875 31.78125 -1.421875 \r\nQ 19.53125 -1.421875 13.0625 8.265625 \r\nQ 6.59375 17.96875 6.59375 36.375 \r\nQ 6.59375 54.828125 13.0625 64.515625 \r\nQ 19.53125 74.21875 31.78125 74.21875 \r\nz\r\n\" id=\"DejaVuSans-48\"/>\r\n       </defs>\r\n       <use xlink:href=\"#DejaVuSans-48\"/>\r\n      </g>\r\n     </g>\r\n    </g>\r\n    <g id=\"xtick_2\">\r\n     <g id=\"line2d_2\">\r\n      <g>\r\n       <use style=\"stroke:#000000;stroke-width:0.8;\" x=\"128.042212\" xlink:href=\"#m3105ed9611\" y=\"224.64\"/>\r\n      </g>\r\n     </g>\r\n     <g id=\"text_2\">\r\n      <!-- 10 -->\r\n      <g transform=\"translate(121.679712 239.238438)scale(0.1 -0.1)\">\r\n       <defs>\r\n        <path d=\"M 12.40625 8.296875 \r\nL 28.515625 8.296875 \r\nL 28.515625 63.921875 \r\nL 10.984375 60.40625 \r\nL 10.984375 69.390625 \r\nL 28.421875 72.90625 \r\nL 38.28125 72.90625 \r\nL 38.28125 8.296875 \r\nL 54.390625 8.296875 \r\nL 54.390625 0 \r\nL 12.40625 0 \r\nz\r\n\" id=\"DejaVuSans-49\"/>\r\n       </defs>\r\n       <use xlink:href=\"#DejaVuSans-49\"/>\r\n       <use x=\"63.623047\" xlink:href=\"#DejaVuSans-48\"/>\r\n      </g>\r\n     </g>\r\n    </g>\r\n    <g id=\"xtick_3\">\r\n     <g id=\"line2d_3\">\r\n      <g>\r\n       <use style=\"stroke:#000000;stroke-width:0.8;\" x=\"202.277245\" xlink:href=\"#m3105ed9611\" y=\"224.64\"/>\r\n      </g>\r\n     </g>\r\n     <g id=\"text_3\">\r\n      <!-- 20 -->\r\n      <g transform=\"translate(195.914745 239.238438)scale(0.1 -0.1)\">\r\n       <defs>\r\n        <path d=\"M 19.1875 8.296875 \r\nL 53.609375 8.296875 \r\nL 53.609375 0 \r\nL 7.328125 0 \r\nL 7.328125 8.296875 \r\nQ 12.9375 14.109375 22.625 23.890625 \r\nQ 32.328125 33.6875 34.8125 36.53125 \r\nQ 39.546875 41.84375 41.421875 45.53125 \r\nQ 43.3125 49.21875 43.3125 52.78125 \r\nQ 43.3125 58.59375 39.234375 62.25 \r\nQ 35.15625 65.921875 28.609375 65.921875 \r\nQ 23.96875 65.921875 18.8125 64.3125 \r\nQ 13.671875 62.703125 7.8125 59.421875 \r\nL 7.8125 69.390625 \r\nQ 13.765625 71.78125 18.9375 73 \r\nQ 24.125 74.21875 28.421875 74.21875 \r\nQ 39.75 74.21875 46.484375 68.546875 \r\nQ 53.21875 62.890625 53.21875 53.421875 \r\nQ 53.21875 48.921875 51.53125 44.890625 \r\nQ 49.859375 40.875 45.40625 35.40625 \r\nQ 44.1875 33.984375 37.640625 27.21875 \r\nQ 31.109375 20.453125 19.1875 8.296875 \r\nz\r\n\" id=\"DejaVuSans-50\"/>\r\n       </defs>\r\n       <use xlink:href=\"#DejaVuSans-50\"/>\r\n       <use x=\"63.623047\" xlink:href=\"#DejaVuSans-48\"/>\r\n      </g>\r\n     </g>\r\n    </g>\r\n    <g id=\"xtick_4\">\r\n     <g id=\"line2d_4\">\r\n      <g>\r\n       <use style=\"stroke:#000000;stroke-width:0.8;\" x=\"276.512278\" xlink:href=\"#m3105ed9611\" y=\"224.64\"/>\r\n      </g>\r\n     </g>\r\n     <g id=\"text_4\">\r\n      <!-- 30 -->\r\n      <g transform=\"translate(270.149778 239.238438)scale(0.1 -0.1)\">\r\n       <defs>\r\n        <path d=\"M 40.578125 39.3125 \r\nQ 47.65625 37.796875 51.625 33 \r\nQ 55.609375 28.21875 55.609375 21.1875 \r\nQ 55.609375 10.40625 48.1875 4.484375 \r\nQ 40.765625 -1.421875 27.09375 -1.421875 \r\nQ 22.515625 -1.421875 17.65625 -0.515625 \r\nQ 12.796875 0.390625 7.625 2.203125 \r\nL 7.625 11.71875 \r\nQ 11.71875 9.328125 16.59375 8.109375 \r\nQ 21.484375 6.890625 26.8125 6.890625 \r\nQ 36.078125 6.890625 40.9375 10.546875 \r\nQ 45.796875 14.203125 45.796875 21.1875 \r\nQ 45.796875 27.640625 41.28125 31.265625 \r\nQ 36.765625 34.90625 28.71875 34.90625 \r\nL 20.21875 34.90625 \r\nL 20.21875 43.015625 \r\nL 29.109375 43.015625 \r\nQ 36.375 43.015625 40.234375 45.921875 \r\nQ 44.09375 48.828125 44.09375 54.296875 \r\nQ 44.09375 59.90625 40.109375 62.90625 \r\nQ 36.140625 65.921875 28.71875 65.921875 \r\nQ 24.65625 65.921875 20.015625 65.03125 \r\nQ 15.375 64.15625 9.8125 62.3125 \r\nL 9.8125 71.09375 \r\nQ 15.4375 72.65625 20.34375 73.4375 \r\nQ 25.25 74.21875 29.59375 74.21875 \r\nQ 40.828125 74.21875 47.359375 69.109375 \r\nQ 53.90625 64.015625 53.90625 55.328125 \r\nQ 53.90625 49.265625 50.4375 45.09375 \r\nQ 46.96875 40.921875 40.578125 39.3125 \r\nz\r\n\" id=\"DejaVuSans-51\"/>\r\n       </defs>\r\n       <use xlink:href=\"#DejaVuSans-51\"/>\r\n       <use x=\"63.623047\" xlink:href=\"#DejaVuSans-48\"/>\r\n      </g>\r\n     </g>\r\n    </g>\r\n    <g id=\"xtick_5\">\r\n     <g id=\"line2d_5\">\r\n      <g>\r\n       <use style=\"stroke:#000000;stroke-width:0.8;\" x=\"350.747312\" xlink:href=\"#m3105ed9611\" y=\"224.64\"/>\r\n      </g>\r\n     </g>\r\n     <g id=\"text_5\">\r\n      <!-- 40 -->\r\n      <g transform=\"translate(344.384812 239.238438)scale(0.1 -0.1)\">\r\n       <defs>\r\n        <path d=\"M 37.796875 64.3125 \r\nL 12.890625 25.390625 \r\nL 37.796875 25.390625 \r\nz\r\nM 35.203125 72.90625 \r\nL 47.609375 72.90625 \r\nL 47.609375 25.390625 \r\nL 58.015625 25.390625 \r\nL 58.015625 17.1875 \r\nL 47.609375 17.1875 \r\nL 47.609375 0 \r\nL 37.796875 0 \r\nL 37.796875 17.1875 \r\nL 4.890625 17.1875 \r\nL 4.890625 26.703125 \r\nz\r\n\" id=\"DejaVuSans-52\"/>\r\n       </defs>\r\n       <use xlink:href=\"#DejaVuSans-52\"/>\r\n       <use x=\"63.623047\" xlink:href=\"#DejaVuSans-48\"/>\r\n      </g>\r\n     </g>\r\n    </g>\r\n   </g>\r\n   <g id=\"matplotlib.axis_2\">\r\n    <g id=\"ytick_1\">\r\n     <g id=\"line2d_6\">\r\n      <defs>\r\n       <path d=\"M 0 0 \r\nL -3.5 0 \r\n\" id=\"m3942afc362\" style=\"stroke:#000000;stroke-width:0.8;\"/>\r\n      </defs>\r\n      <g>\r\n       <use style=\"stroke:#000000;stroke-width:0.8;\" x=\"46.0125\" xlink:href=\"#m3942afc362\" y=\"224.64\"/>\r\n      </g>\r\n     </g>\r\n     <g id=\"text_6\">\r\n      <!-- 0 -->\r\n      <g transform=\"translate(32.65 228.439219)scale(0.1 -0.1)\">\r\n       <use xlink:href=\"#DejaVuSans-48\"/>\r\n      </g>\r\n     </g>\r\n    </g>\r\n    <g id=\"ytick_2\">\r\n     <g id=\"line2d_7\">\r\n      <g>\r\n       <use style=\"stroke:#000000;stroke-width:0.8;\" x=\"46.0125\" xlink:href=\"#m3942afc362\" y=\"198.078972\"/>\r\n      </g>\r\n     </g>\r\n     <g id=\"text_7\">\r\n      <!-- 5000 -->\r\n      <g transform=\"translate(13.5625 201.87819)scale(0.1 -0.1)\">\r\n       <defs>\r\n        <path d=\"M 10.796875 72.90625 \r\nL 49.515625 72.90625 \r\nL 49.515625 64.59375 \r\nL 19.828125 64.59375 \r\nL 19.828125 46.734375 \r\nQ 21.96875 47.46875 24.109375 47.828125 \r\nQ 26.265625 48.1875 28.421875 48.1875 \r\nQ 40.625 48.1875 47.75 41.5 \r\nQ 54.890625 34.8125 54.890625 23.390625 \r\nQ 54.890625 11.625 47.5625 5.09375 \r\nQ 40.234375 -1.421875 26.90625 -1.421875 \r\nQ 22.3125 -1.421875 17.546875 -0.640625 \r\nQ 12.796875 0.140625 7.71875 1.703125 \r\nL 7.71875 11.625 \r\nQ 12.109375 9.234375 16.796875 8.0625 \r\nQ 21.484375 6.890625 26.703125 6.890625 \r\nQ 35.15625 6.890625 40.078125 11.328125 \r\nQ 45.015625 15.765625 45.015625 23.390625 \r\nQ 45.015625 31 40.078125 35.4375 \r\nQ 35.15625 39.890625 26.703125 39.890625 \r\nQ 22.75 39.890625 18.8125 39.015625 \r\nQ 14.890625 38.140625 10.796875 36.28125 \r\nz\r\n\" id=\"DejaVuSans-53\"/>\r\n       </defs>\r\n       <use xlink:href=\"#DejaVuSans-53\"/>\r\n       <use x=\"63.623047\" xlink:href=\"#DejaVuSans-48\"/>\r\n       <use x=\"127.246094\" xlink:href=\"#DejaVuSans-48\"/>\r\n       <use x=\"190.869141\" xlink:href=\"#DejaVuSans-48\"/>\r\n      </g>\r\n     </g>\r\n    </g>\r\n    <g id=\"ytick_3\">\r\n     <g id=\"line2d_8\">\r\n      <g>\r\n       <use style=\"stroke:#000000;stroke-width:0.8;\" x=\"46.0125\" xlink:href=\"#m3942afc362\" y=\"171.517943\"/>\r\n      </g>\r\n     </g>\r\n     <g id=\"text_8\">\r\n      <!-- 10000 -->\r\n      <g transform=\"translate(7.2 175.317162)scale(0.1 -0.1)\">\r\n       <use xlink:href=\"#DejaVuSans-49\"/>\r\n       <use x=\"63.623047\" xlink:href=\"#DejaVuSans-48\"/>\r\n       <use x=\"127.246094\" xlink:href=\"#DejaVuSans-48\"/>\r\n       <use x=\"190.869141\" xlink:href=\"#DejaVuSans-48\"/>\r\n       <use x=\"254.492188\" xlink:href=\"#DejaVuSans-48\"/>\r\n      </g>\r\n     </g>\r\n    </g>\r\n    <g id=\"ytick_4\">\r\n     <g id=\"line2d_9\">\r\n      <g>\r\n       <use style=\"stroke:#000000;stroke-width:0.8;\" x=\"46.0125\" xlink:href=\"#m3942afc362\" y=\"144.956915\"/>\r\n      </g>\r\n     </g>\r\n     <g id=\"text_9\">\r\n      <!-- 15000 -->\r\n      <g transform=\"translate(7.2 148.756133)scale(0.1 -0.1)\">\r\n       <use xlink:href=\"#DejaVuSans-49\"/>\r\n       <use x=\"63.623047\" xlink:href=\"#DejaVuSans-53\"/>\r\n       <use x=\"127.246094\" xlink:href=\"#DejaVuSans-48\"/>\r\n       <use x=\"190.869141\" xlink:href=\"#DejaVuSans-48\"/>\r\n       <use x=\"254.492188\" xlink:href=\"#DejaVuSans-48\"/>\r\n      </g>\r\n     </g>\r\n    </g>\r\n    <g id=\"ytick_5\">\r\n     <g id=\"line2d_10\">\r\n      <g>\r\n       <use style=\"stroke:#000000;stroke-width:0.8;\" x=\"46.0125\" xlink:href=\"#m3942afc362\" y=\"118.395886\"/>\r\n      </g>\r\n     </g>\r\n     <g id=\"text_10\">\r\n      <!-- 20000 -->\r\n      <g transform=\"translate(7.2 122.195105)scale(0.1 -0.1)\">\r\n       <use xlink:href=\"#DejaVuSans-50\"/>\r\n       <use x=\"63.623047\" xlink:href=\"#DejaVuSans-48\"/>\r\n       <use x=\"127.246094\" xlink:href=\"#DejaVuSans-48\"/>\r\n       <use x=\"190.869141\" xlink:href=\"#DejaVuSans-48\"/>\r\n       <use x=\"254.492188\" xlink:href=\"#DejaVuSans-48\"/>\r\n      </g>\r\n     </g>\r\n    </g>\r\n    <g id=\"ytick_6\">\r\n     <g id=\"line2d_11\">\r\n      <g>\r\n       <use style=\"stroke:#000000;stroke-width:0.8;\" x=\"46.0125\" xlink:href=\"#m3942afc362\" y=\"91.834858\"/>\r\n      </g>\r\n     </g>\r\n     <g id=\"text_11\">\r\n      <!-- 25000 -->\r\n      <g transform=\"translate(7.2 95.634077)scale(0.1 -0.1)\">\r\n       <use xlink:href=\"#DejaVuSans-50\"/>\r\n       <use x=\"63.623047\" xlink:href=\"#DejaVuSans-53\"/>\r\n       <use x=\"127.246094\" xlink:href=\"#DejaVuSans-48\"/>\r\n       <use x=\"190.869141\" xlink:href=\"#DejaVuSans-48\"/>\r\n       <use x=\"254.492188\" xlink:href=\"#DejaVuSans-48\"/>\r\n      </g>\r\n     </g>\r\n    </g>\r\n    <g id=\"ytick_7\">\r\n     <g id=\"line2d_12\">\r\n      <g>\r\n       <use style=\"stroke:#000000;stroke-width:0.8;\" x=\"46.0125\" xlink:href=\"#m3942afc362\" y=\"65.273829\"/>\r\n      </g>\r\n     </g>\r\n     <g id=\"text_12\">\r\n      <!-- 30000 -->\r\n      <g transform=\"translate(7.2 69.073048)scale(0.1 -0.1)\">\r\n       <use xlink:href=\"#DejaVuSans-51\"/>\r\n       <use x=\"63.623047\" xlink:href=\"#DejaVuSans-48\"/>\r\n       <use x=\"127.246094\" xlink:href=\"#DejaVuSans-48\"/>\r\n       <use x=\"190.869141\" xlink:href=\"#DejaVuSans-48\"/>\r\n       <use x=\"254.492188\" xlink:href=\"#DejaVuSans-48\"/>\r\n      </g>\r\n     </g>\r\n    </g>\r\n    <g id=\"ytick_8\">\r\n     <g id=\"line2d_13\">\r\n      <g>\r\n       <use style=\"stroke:#000000;stroke-width:0.8;\" x=\"46.0125\" xlink:href=\"#m3942afc362\" y=\"38.712801\"/>\r\n      </g>\r\n     </g>\r\n     <g id=\"text_13\">\r\n      <!-- 35000 -->\r\n      <g transform=\"translate(7.2 42.51202)scale(0.1 -0.1)\">\r\n       <use xlink:href=\"#DejaVuSans-51\"/>\r\n       <use x=\"63.623047\" xlink:href=\"#DejaVuSans-53\"/>\r\n       <use x=\"127.246094\" xlink:href=\"#DejaVuSans-48\"/>\r\n       <use x=\"190.869141\" xlink:href=\"#DejaVuSans-48\"/>\r\n       <use x=\"254.492188\" xlink:href=\"#DejaVuSans-48\"/>\r\n      </g>\r\n     </g>\r\n    </g>\r\n    <g id=\"ytick_9\">\r\n     <g id=\"line2d_14\">\r\n      <g>\r\n       <use style=\"stroke:#000000;stroke-width:0.8;\" x=\"46.0125\" xlink:href=\"#m3942afc362\" y=\"12.151773\"/>\r\n      </g>\r\n     </g>\r\n     <g id=\"text_14\">\r\n      <!-- 40000 -->\r\n      <g transform=\"translate(7.2 15.950991)scale(0.1 -0.1)\">\r\n       <use xlink:href=\"#DejaVuSans-52\"/>\r\n       <use x=\"63.623047\" xlink:href=\"#DejaVuSans-48\"/>\r\n       <use x=\"127.246094\" xlink:href=\"#DejaVuSans-48\"/>\r\n       <use x=\"190.869141\" xlink:href=\"#DejaVuSans-48\"/>\r\n       <use x=\"254.492188\" xlink:href=\"#DejaVuSans-48\"/>\r\n      </g>\r\n     </g>\r\n    </g>\r\n   </g>\r\n   <g id=\"patch_103\">\r\n    <path d=\"M 46.0125 224.64 \r\nL 46.0125 7.2 \r\n\" style=\"fill:none;stroke:#000000;stroke-linecap:square;stroke-linejoin:miter;stroke-width:0.8;\"/>\r\n   </g>\r\n   <g id=\"patch_104\">\r\n    <path d=\"M 380.8125 224.64 \r\nL 380.8125 7.2 \r\n\" style=\"fill:none;stroke:#000000;stroke-linecap:square;stroke-linejoin:miter;stroke-width:0.8;\"/>\r\n   </g>\r\n   <g id=\"patch_105\">\r\n    <path d=\"M 46.0125 224.64 \r\nL 380.8125 224.64 \r\n\" style=\"fill:none;stroke:#000000;stroke-linecap:square;stroke-linejoin:miter;stroke-width:0.8;\"/>\r\n   </g>\r\n   <g id=\"patch_106\">\r\n    <path d=\"M 46.0125 7.2 \r\nL 380.8125 7.2 \r\n\" style=\"fill:none;stroke:#000000;stroke-linecap:square;stroke-linejoin:miter;stroke-width:0.8;\"/>\r\n   </g>\r\n  </g>\r\n </g>\r\n <defs>\r\n  <clipPath id=\"p95488e9e4b\">\r\n   <rect height=\"217.44\" width=\"334.8\" x=\"46.0125\" y=\"7.2\"/>\r\n  </clipPath>\r\n </defs>\r\n</svg>\r\n",
      "image/png": "[encoded data removed]"
     },
     "metadata": {
      "needs_background": "light"
     }
    },
    {
     "output_type": "stream",
     "name": "stdout",
     "text": [
      "Number of patients with specific number of admissions : \n 1     38983\n2      5160\n3      1342\n4       508\n5       246\n6       113\n7        51\n8        31\n9        26\n10       14\n11       13\n12        8\n13        5\n14        4\n17        3\n16        2\n34        2\n24        1\n42        1\n15        1\n19        1\n20        1\n21        1\n22        1\n23        1\n31        1\nName: HADM_ID, dtype: int64\n"
     ]
    }
   ],
   "source": [
    "#Number of admissions by patient\n",
    "df=adm.groupby(\"SUBJECT_ID\")[\"HADM_ID\"].nunique()\n",
    "plt.hist(df,bins=100)\n",
    "plt.show()\n",
    "print(\"Number of patients with specific number of admissions : \\n\",df.value_counts())"
   ]
  },
  {
   "cell_type": "markdown",
   "metadata": {},
   "source": [
    "As the majortity of patients only present a single admission, we filter out all the patients with more than 1 admission"
   ]
  },
  {
   "cell_type": "code",
   "execution_count": 6,
   "metadata": {},
   "outputs": [
    {
     "output_type": "stream",
     "name": "stdout",
     "text": [
      "Number of patients remaining in the dataframe: \n38983\n"
     ]
    }
   ],
   "source": [
    "subj_ids=list(df[df==1].index) #index of patients with only one visit.\n",
    "adm_1=adm_dob.loc[adm_dob[\"SUBJECT_ID\"].isin(subj_ids)] #filter out the patients with more than one visit\n",
    "print(\"Number of patients remaining in the dataframe: \")\n",
    "print(len(adm_1.index))\n"
   ]
  },
  {
   "cell_type": "code",
   "execution_count": 7,
   "metadata": {},
   "outputs": [
    {
     "output_type": "display_data",
     "data": {
      "text/plain": "<Figure size 432x288 with 1 Axes>",
      "image/svg+xml": "<?xml version=\"1.0\" encoding=\"utf-8\" standalone=\"no\"?>\r\n<!DOCTYPE svg PUBLIC \"-//W3C//DTD SVG 1.1//EN\"\r\n  \"http://www.w3.org/Graphics/SVG/1.1/DTD/svg11.dtd\">\r\n<!-- Created with matplotlib (https://matplotlib.org/) -->\r\n<svg height=\"248.518125pt\" version=\"1.1\" viewBox=\"0 0 381.65 248.518125\" width=\"381.65pt\" xmlns=\"http://www.w3.org/2000/svg\" xmlns:xlink=\"http://www.w3.org/1999/xlink\">\r\n <metadata>\r\n  <rdf:RDF xmlns:cc=\"http://creativecommons.org/ns#\" xmlns:dc=\"http://purl.org/dc/elements/1.1/\" xmlns:rdf=\"http://www.w3.org/1999/02/22-rdf-syntax-ns#\">\r\n   <cc:Work>\r\n    <dc:type rdf:resource=\"http://purl.org/dc/dcmitype/StillImage\"/>\r\n    <dc:date>2021-01-17T02:35:17.777510</dc:date>\r\n    <dc:format>image/svg+xml</dc:format>\r\n    <dc:creator>\r\n     <cc:Agent>\r\n      <dc:title>Matplotlib v3.3.2, https://matplotlib.org/</dc:title>\r\n     </cc:Agent>\r\n    </dc:creator>\r\n   </cc:Work>\r\n  </rdf:RDF>\r\n </metadata>\r\n <defs>\r\n  <style type=\"text/css\">*{stroke-linecap:butt;stroke-linejoin:round;}</style>\r\n </defs>\r\n <g id=\"figure_1\">\r\n  <g id=\"patch_1\">\r\n   <path d=\"M -0 248.518125 \r\nL 381.65 248.518125 \r\nL 381.65 0 \r\nL -0 0 \r\nz\r\n\" style=\"fill:none;\"/>\r\n  </g>\r\n  <g id=\"axes_1\">\r\n   <g id=\"patch_2\">\r\n    <path d=\"M 39.65 224.64 \r\nL 374.45 224.64 \r\nL 374.45 7.2 \r\nL 39.65 7.2 \r\nz\r\n\" style=\"fill:#ffffff;\"/>\r\n   </g>\r\n   <g id=\"patch_3\">\r\n    <path clip-path=\"url(#p2c4f240e61)\" d=\"M 54.868182 224.64 \r\nL 56.39 224.64 \r\nL 56.39 150.513542 \r\nL 54.868182 150.513542 \r\nz\r\n\" style=\"fill:#1f77b4;\"/>\r\n   </g>\r\n   <g id=\"patch_4\">\r\n    <path clip-path=\"url(#p2c4f240e61)\" d=\"M 56.39 224.64 \r\nL 57.911818 224.64 \r\nL 57.911818 108.790526 \r\nL 56.39 108.790526 \r\nz\r\n\" style=\"fill:#1f77b4;\"/>\r\n   </g>\r\n   <g id=\"patch_5\">\r\n    <path clip-path=\"url(#p2c4f240e61)\" d=\"M 57.911818 224.64 \r\nL 59.433636 224.64 \r\nL 59.433636 23.14603 \r\nL 57.911818 23.14603 \r\nz\r\n\" style=\"fill:#1f77b4;\"/>\r\n   </g>\r\n   <g id=\"patch_6\">\r\n    <path clip-path=\"url(#p2c4f240e61)\" d=\"M 59.433636 224.64 \r\nL 60.955455 224.64 \r\nL 60.955455 58.417033 \r\nL 59.433636 58.417033 \r\nz\r\n\" style=\"fill:#1f77b4;\"/>\r\n   </g>\r\n   <g id=\"patch_7\">\r\n    <path clip-path=\"url(#p2c4f240e61)\" d=\"M 60.955455 224.64 \r\nL 62.477273 224.64 \r\nL 62.477273 17.554286 \r\nL 60.955455 17.554286 \r\nz\r\n\" style=\"fill:#1f77b4;\"/>\r\n   </g>\r\n   <g id=\"patch_8\">\r\n    <path clip-path=\"url(#p2c4f240e61)\" d=\"M 62.477273 224.64 \r\nL 63.999091 224.64 \r\nL 63.999091 75.574608 \r\nL 62.477273 75.574608 \r\nz\r\n\" style=\"fill:#1f77b4;\"/>\r\n   </g>\r\n   <g id=\"patch_9\">\r\n    <path clip-path=\"url(#p2c4f240e61)\" d=\"M 63.999091 224.64 \r\nL 65.520909 224.64 \r\nL 65.520909 93.735829 \r\nL 63.999091 93.735829 \r\nz\r\n\" style=\"fill:#1f77b4;\"/>\r\n   </g>\r\n   <g id=\"patch_10\">\r\n    <path clip-path=\"url(#p2c4f240e61)\" d=\"M 65.520909 224.64 \r\nL 67.042727 224.64 \r\nL 67.042727 112.518355 \r\nL 65.520909 112.518355 \r\nz\r\n\" style=\"fill:#1f77b4;\"/>\r\n   </g>\r\n   <g id=\"patch_11\">\r\n    <path clip-path=\"url(#p2c4f240e61)\" d=\"M 67.042727 224.64 \r\nL 68.564545 224.64 \r\nL 68.564545 131.539845 \r\nL 67.042727 131.539845 \r\nz\r\n\" style=\"fill:#1f77b4;\"/>\r\n   </g>\r\n   <g id=\"patch_12\">\r\n    <path clip-path=\"url(#p2c4f240e61)\" d=\"M 68.564545 224.64 \r\nL 70.086364 224.64 \r\nL 70.086364 148.267286 \r\nL 68.564545 148.267286 \r\nz\r\n\" style=\"fill:#1f77b4;\"/>\r\n   </g>\r\n   <g id=\"patch_13\">\r\n    <path clip-path=\"url(#p2c4f240e61)\" d=\"M 70.086364 224.64 \r\nL 71.608182 224.64 \r\nL 71.608182 161.553653 \r\nL 70.086364 161.553653 \r\nz\r\n\" style=\"fill:#1f77b4;\"/>\r\n   </g>\r\n   <g id=\"patch_14\">\r\n    <path clip-path=\"url(#p2c4f240e61)\" d=\"M 71.608182 224.64 \r\nL 73.13 224.64 \r\nL 73.13 172.641556 \r\nL 71.608182 172.641556 \r\nz\r\n\" style=\"fill:#1f77b4;\"/>\r\n   </g>\r\n   <g id=\"patch_15\">\r\n    <path clip-path=\"url(#p2c4f240e61)\" d=\"M 73.13 224.64 \r\nL 74.651818 224.64 \r\nL 74.651818 181.674374 \r\nL 73.13 181.674374 \r\nz\r\n\" style=\"fill:#1f77b4;\"/>\r\n   </g>\r\n   <g id=\"patch_16\">\r\n    <path clip-path=\"url(#p2c4f240e61)\" d=\"M 74.651818 224.64 \r\nL 76.173636 224.64 \r\nL 76.173636 184.733106 \r\nL 74.651818 184.733106 \r\nz\r\n\" style=\"fill:#1f77b4;\"/>\r\n   </g>\r\n   <g id=\"patch_17\">\r\n    <path clip-path=\"url(#p2c4f240e61)\" d=\"M 76.173636 224.64 \r\nL 77.695455 224.64 \r\nL 77.695455 193.144619 \r\nL 76.173636 193.144619 \r\nz\r\n\" style=\"fill:#1f77b4;\"/>\r\n   </g>\r\n   <g id=\"patch_18\">\r\n    <path clip-path=\"url(#p2c4f240e61)\" d=\"M 77.695455 224.64 \r\nL 79.217273 224.64 \r\nL 79.217273 195.629839 \r\nL 77.695455 195.629839 \r\nz\r\n\" style=\"fill:#1f77b4;\"/>\r\n   </g>\r\n   <g id=\"patch_19\">\r\n    <path clip-path=\"url(#p2c4f240e61)\" d=\"M 79.217273 224.64 \r\nL 80.739091 224.64 \r\nL 80.739091 199.453254 \r\nL 79.217273 199.453254 \r\nz\r\n\" style=\"fill:#1f77b4;\"/>\r\n   </g>\r\n   <g id=\"patch_20\">\r\n    <path clip-path=\"url(#p2c4f240e61)\" d=\"M 80.739091 224.64 \r\nL 82.260909 224.64 \r\nL 82.260909 201.221583 \r\nL 80.739091 201.221583 \r\nz\r\n\" style=\"fill:#1f77b4;\"/>\r\n   </g>\r\n   <g id=\"patch_21\">\r\n    <path clip-path=\"url(#p2c4f240e61)\" d=\"M 82.260909 224.64 \r\nL 83.782727 224.64 \r\nL 83.782727 205.092791 \r\nL 82.260909 205.092791 \r\nz\r\n\" style=\"fill:#1f77b4;\"/>\r\n   </g>\r\n   <g id=\"patch_22\">\r\n    <path clip-path=\"url(#p2c4f240e61)\" d=\"M 83.782727 224.64 \r\nL 85.304545 224.64 \r\nL 85.304545 209.298547 \r\nL 83.782727 209.298547 \r\nz\r\n\" style=\"fill:#1f77b4;\"/>\r\n   </g>\r\n   <g id=\"patch_23\">\r\n    <path clip-path=\"url(#p2c4f240e61)\" d=\"M 85.304545 224.64 \r\nL 86.826364 224.64 \r\nL 86.826364 207.625803 \r\nL 85.304545 207.625803 \r\nz\r\n\" style=\"fill:#1f77b4;\"/>\r\n   </g>\r\n   <g id=\"patch_24\">\r\n    <path clip-path=\"url(#p2c4f240e61)\" d=\"M 86.826364 224.64 \r\nL 88.348182 224.64 \r\nL 88.348182 211.592596 \r\nL 86.826364 211.592596 \r\nz\r\n\" style=\"fill:#1f77b4;\"/>\r\n   </g>\r\n   <g id=\"patch_25\">\r\n    <path clip-path=\"url(#p2c4f240e61)\" d=\"M 88.348182 224.64 \r\nL 89.87 224.64 \r\nL 89.87 212.691828 \r\nL 88.348182 212.691828 \r\nz\r\n\" style=\"fill:#1f77b4;\"/>\r\n   </g>\r\n   <g id=\"patch_26\">\r\n    <path clip-path=\"url(#p2c4f240e61)\" d=\"M 89.87 224.64 \r\nL 91.391818 224.64 \r\nL 91.391818 214.077816 \r\nL 89.87 214.077816 \r\nz\r\n\" style=\"fill:#1f77b4;\"/>\r\n   </g>\r\n   <g id=\"patch_27\">\r\n    <path clip-path=\"url(#p2c4f240e61)\" d=\"M 91.391818 224.64 \r\nL 92.913636 224.64 \r\nL 92.913636 214.268987 \r\nL 91.391818 214.268987 \r\nz\r\n\" style=\"fill:#1f77b4;\"/>\r\n   </g>\r\n   <g id=\"patch_28\">\r\n    <path clip-path=\"url(#p2c4f240e61)\" d=\"M 92.913636 224.64 \r\nL 94.435455 224.64 \r\nL 94.435455 215.798353 \r\nL 92.913636 215.798353 \r\nz\r\n\" style=\"fill:#1f77b4;\"/>\r\n   </g>\r\n   <g id=\"patch_29\">\r\n    <path clip-path=\"url(#p2c4f240e61)\" d=\"M 94.435455 224.64 \r\nL 95.957273 224.64 \r\nL 95.957273 216.706414 \r\nL 94.435455 216.706414 \r\nz\r\n\" style=\"fill:#1f77b4;\"/>\r\n   </g>\r\n   <g id=\"patch_30\">\r\n    <path clip-path=\"url(#p2c4f240e61)\" d=\"M 95.957273 224.64 \r\nL 97.479091 224.64 \r\nL 97.479091 216.801999 \r\nL 95.957273 216.801999 \r\nz\r\n\" style=\"fill:#1f77b4;\"/>\r\n   </g>\r\n   <g id=\"patch_31\">\r\n    <path clip-path=\"url(#p2c4f240e61)\" d=\"M 97.479091 224.64 \r\nL 99.000909 224.64 \r\nL 99.000909 210.684535 \r\nL 97.479091 210.684535 \r\nz\r\n\" style=\"fill:#1f77b4;\"/>\r\n   </g>\r\n   <g id=\"patch_32\">\r\n    <path clip-path=\"url(#p2c4f240e61)\" d=\"M 99.000909 224.64 \r\nL 100.522727 224.64 \r\nL 100.522727 219.191634 \r\nL 99.000909 219.191634 \r\nz\r\n\" style=\"fill:#1f77b4;\"/>\r\n   </g>\r\n   <g id=\"patch_33\">\r\n    <path clip-path=\"url(#p2c4f240e61)\" d=\"M 100.522727 224.64 \r\nL 102.044545 224.64 \r\nL 102.044545 220.19528 \r\nL 100.522727 220.19528 \r\nz\r\n\" style=\"fill:#1f77b4;\"/>\r\n   </g>\r\n   <g id=\"patch_34\">\r\n    <path clip-path=\"url(#p2c4f240e61)\" d=\"M 102.044545 224.64 \r\nL 103.566364 224.64 \r\nL 103.566364 220.91217 \r\nL 102.044545 220.91217 \r\nz\r\n\" style=\"fill:#1f77b4;\"/>\r\n   </g>\r\n   <g id=\"patch_35\">\r\n    <path clip-path=\"url(#p2c4f240e61)\" d=\"M 103.566364 224.64 \r\nL 105.088182 224.64 \r\nL 105.088182 220.434244 \r\nL 103.566364 220.434244 \r\nz\r\n\" style=\"fill:#1f77b4;\"/>\r\n   </g>\r\n   <g id=\"patch_36\">\r\n    <path clip-path=\"url(#p2c4f240e61)\" d=\"M 105.088182 224.64 \r\nL 106.61 224.64 \r\nL 106.61 220.051902 \r\nL 105.088182 220.051902 \r\nz\r\n\" style=\"fill:#1f77b4;\"/>\r\n   </g>\r\n   <g id=\"patch_37\">\r\n    <path clip-path=\"url(#p2c4f240e61)\" d=\"M 106.61 224.64 \r\nL 108.131818 224.64 \r\nL 108.131818 219.765146 \r\nL 106.61 219.765146 \r\nz\r\n\" style=\"fill:#1f77b4;\"/>\r\n   </g>\r\n   <g id=\"patch_38\">\r\n    <path clip-path=\"url(#p2c4f240e61)\" d=\"M 108.131818 224.64 \r\nL 109.653636 224.64 \r\nL 109.653636 221.485683 \r\nL 108.131818 221.485683 \r\nz\r\n\" style=\"fill:#1f77b4;\"/>\r\n   </g>\r\n   <g id=\"patch_39\">\r\n    <path clip-path=\"url(#p2c4f240e61)\" d=\"M 109.653636 224.64 \r\nL 111.175455 224.64 \r\nL 111.175455 221.43789 \r\nL 109.653636 221.43789 \r\nz\r\n\" style=\"fill:#1f77b4;\"/>\r\n   </g>\r\n   <g id=\"patch_40\">\r\n    <path clip-path=\"url(#p2c4f240e61)\" d=\"M 111.175455 224.64 \r\nL 112.697273 224.64 \r\nL 112.697273 221.772439 \r\nL 111.175455 221.772439 \r\nz\r\n\" style=\"fill:#1f77b4;\"/>\r\n   </g>\r\n   <g id=\"patch_41\">\r\n    <path clip-path=\"url(#p2c4f240e61)\" d=\"M 112.697273 224.64 \r\nL 114.219091 224.64 \r\nL 114.219091 221.581268 \r\nL 112.697273 221.581268 \r\nz\r\n\" style=\"fill:#1f77b4;\"/>\r\n   </g>\r\n   <g id=\"patch_42\">\r\n    <path clip-path=\"url(#p2c4f240e61)\" d=\"M 114.219091 224.64 \r\nL 115.740909 224.64 \r\nL 115.740909 222.15478 \r\nL 114.219091 222.15478 \r\nz\r\n\" style=\"fill:#1f77b4;\"/>\r\n   </g>\r\n   <g id=\"patch_43\">\r\n    <path clip-path=\"url(#p2c4f240e61)\" d=\"M 115.740909 224.64 \r\nL 117.262727 224.64 \r\nL 117.262727 221.43789 \r\nL 115.740909 221.43789 \r\nz\r\n\" style=\"fill:#1f77b4;\"/>\r\n   </g>\r\n   <g id=\"patch_44\">\r\n    <path clip-path=\"url(#p2c4f240e61)\" d=\"M 117.262727 224.64 \r\nL 118.784545 224.64 \r\nL 118.784545 221.772439 \r\nL 117.262727 221.772439 \r\nz\r\n\" style=\"fill:#1f77b4;\"/>\r\n   </g>\r\n   <g id=\"patch_45\">\r\n    <path clip-path=\"url(#p2c4f240e61)\" d=\"M 118.784545 224.64 \r\nL 120.306364 224.64 \r\nL 120.306364 222.345951 \r\nL 118.784545 222.345951 \r\nz\r\n\" style=\"fill:#1f77b4;\"/>\r\n   </g>\r\n   <g id=\"patch_46\">\r\n    <path clip-path=\"url(#p2c4f240e61)\" d=\"M 120.306364 224.64 \r\nL 121.828182 224.64 \r\nL 121.828182 222.871671 \r\nL 120.306364 222.871671 \r\nz\r\n\" style=\"fill:#1f77b4;\"/>\r\n   </g>\r\n   <g id=\"patch_47\">\r\n    <path clip-path=\"url(#p2c4f240e61)\" d=\"M 121.828182 224.64 \r\nL 123.35 224.64 \r\nL 123.35 222.728293 \r\nL 121.828182 222.728293 \r\nz\r\n\" style=\"fill:#1f77b4;\"/>\r\n   </g>\r\n   <g id=\"patch_48\">\r\n    <path clip-path=\"url(#p2c4f240e61)\" d=\"M 123.35 224.64 \r\nL 124.871818 224.64 \r\nL 124.871818 222.632707 \r\nL 123.35 222.632707 \r\nz\r\n\" style=\"fill:#1f77b4;\"/>\r\n   </g>\r\n   <g id=\"patch_49\">\r\n    <path clip-path=\"url(#p2c4f240e61)\" d=\"M 124.871818 224.64 \r\nL 126.393636 224.64 \r\nL 126.393636 223.588561 \r\nL 124.871818 223.588561 \r\nz\r\n\" style=\"fill:#1f77b4;\"/>\r\n   </g>\r\n   <g id=\"patch_50\">\r\n    <path clip-path=\"url(#p2c4f240e61)\" d=\"M 126.393636 224.64 \r\nL 127.915455 224.64 \r\nL 127.915455 222.967256 \r\nL 126.393636 222.967256 \r\nz\r\n\" style=\"fill:#1f77b4;\"/>\r\n   </g>\r\n   <g id=\"patch_51\">\r\n    <path clip-path=\"url(#p2c4f240e61)\" d=\"M 127.915455 224.64 \r\nL 129.437273 224.64 \r\nL 129.437273 223.588561 \r\nL 127.915455 223.588561 \r\nz\r\n\" style=\"fill:#1f77b4;\"/>\r\n   </g>\r\n   <g id=\"patch_52\">\r\n    <path clip-path=\"url(#p2c4f240e61)\" d=\"M 129.437273 224.64 \r\nL 130.959091 224.64 \r\nL 130.959091 223.540768 \r\nL 129.437273 223.540768 \r\nz\r\n\" style=\"fill:#1f77b4;\"/>\r\n   </g>\r\n   <g id=\"patch_53\">\r\n    <path clip-path=\"url(#p2c4f240e61)\" d=\"M 130.959091 224.64 \r\nL 132.480909 224.64 \r\nL 132.480909 223.015049 \r\nL 130.959091 223.015049 \r\nz\r\n\" style=\"fill:#1f77b4;\"/>\r\n   </g>\r\n   <g id=\"patch_54\">\r\n    <path clip-path=\"url(#p2c4f240e61)\" d=\"M 132.480909 224.64 \r\nL 134.002727 224.64 \r\nL 134.002727 223.254012 \r\nL 132.480909 223.254012 \r\nz\r\n\" style=\"fill:#1f77b4;\"/>\r\n   </g>\r\n   <g id=\"patch_55\">\r\n    <path clip-path=\"url(#p2c4f240e61)\" d=\"M 134.002727 224.64 \r\nL 135.524545 224.64 \r\nL 135.524545 223.445183 \r\nL 134.002727 223.445183 \r\nz\r\n\" style=\"fill:#1f77b4;\"/>\r\n   </g>\r\n   <g id=\"patch_56\">\r\n    <path clip-path=\"url(#p2c4f240e61)\" d=\"M 135.524545 224.64 \r\nL 137.046364 224.64 \r\nL 137.046364 223.636354 \r\nL 135.524545 223.636354 \r\nz\r\n\" style=\"fill:#1f77b4;\"/>\r\n   </g>\r\n   <g id=\"patch_57\">\r\n    <path clip-path=\"url(#p2c4f240e61)\" d=\"M 137.046364 224.64 \r\nL 138.568182 224.64 \r\nL 138.568182 223.588561 \r\nL 137.046364 223.588561 \r\nz\r\n\" style=\"fill:#1f77b4;\"/>\r\n   </g>\r\n   <g id=\"patch_58\">\r\n    <path clip-path=\"url(#p2c4f240e61)\" d=\"M 138.568182 224.64 \r\nL 140.09 224.64 \r\nL 140.09 223.540768 \r\nL 138.568182 223.540768 \r\nz\r\n\" style=\"fill:#1f77b4;\"/>\r\n   </g>\r\n   <g id=\"patch_59\">\r\n    <path clip-path=\"url(#p2c4f240e61)\" d=\"M 140.09 224.64 \r\nL 141.611818 224.64 \r\nL 141.611818 223.636354 \r\nL 140.09 223.636354 \r\nz\r\n\" style=\"fill:#1f77b4;\"/>\r\n   </g>\r\n   <g id=\"patch_60\">\r\n    <path clip-path=\"url(#p2c4f240e61)\" d=\"M 141.611818 224.64 \r\nL 143.133636 224.64 \r\nL 143.133636 223.062841 \r\nL 141.611818 223.062841 \r\nz\r\n\" style=\"fill:#1f77b4;\"/>\r\n   </g>\r\n   <g id=\"patch_61\">\r\n    <path clip-path=\"url(#p2c4f240e61)\" d=\"M 143.133636 224.64 \r\nL 144.655455 224.64 \r\nL 144.655455 224.11428 \r\nL 143.133636 224.11428 \r\nz\r\n\" style=\"fill:#1f77b4;\"/>\r\n   </g>\r\n   <g id=\"patch_62\">\r\n    <path clip-path=\"url(#p2c4f240e61)\" d=\"M 144.655455 224.64 \r\nL 146.177273 224.64 \r\nL 146.177273 223.92311 \r\nL 144.655455 223.92311 \r\nz\r\n\" style=\"fill:#1f77b4;\"/>\r\n   </g>\r\n   <g id=\"patch_63\">\r\n    <path clip-path=\"url(#p2c4f240e61)\" d=\"M 146.177273 224.64 \r\nL 147.699091 224.64 \r\nL 147.699091 223.827524 \r\nL 146.177273 223.827524 \r\nz\r\n\" style=\"fill:#1f77b4;\"/>\r\n   </g>\r\n   <g id=\"patch_64\">\r\n    <path clip-path=\"url(#p2c4f240e61)\" d=\"M 147.699091 224.64 \r\nL 149.220909 224.64 \r\nL 149.220909 224.162073 \r\nL 147.699091 224.162073 \r\nz\r\n\" style=\"fill:#1f77b4;\"/>\r\n   </g>\r\n   <g id=\"patch_65\">\r\n    <path clip-path=\"url(#p2c4f240e61)\" d=\"M 149.220909 224.64 \r\nL 150.742727 224.64 \r\nL 150.742727 223.731939 \r\nL 149.220909 223.731939 \r\nz\r\n\" style=\"fill:#1f77b4;\"/>\r\n   </g>\r\n   <g id=\"patch_66\">\r\n    <path clip-path=\"url(#p2c4f240e61)\" d=\"M 150.742727 224.64 \r\nL 152.264545 224.64 \r\nL 152.264545 224.353244 \r\nL 150.742727 224.353244 \r\nz\r\n\" style=\"fill:#1f77b4;\"/>\r\n   </g>\r\n   <g id=\"patch_67\">\r\n    <path clip-path=\"url(#p2c4f240e61)\" d=\"M 152.264545 224.64 \r\nL 153.786364 224.64 \r\nL 153.786364 223.970902 \r\nL 152.264545 223.970902 \r\nz\r\n\" style=\"fill:#1f77b4;\"/>\r\n   </g>\r\n   <g id=\"patch_68\">\r\n    <path clip-path=\"url(#p2c4f240e61)\" d=\"M 153.786364 224.64 \r\nL 155.308182 224.64 \r\nL 155.308182 224.162073 \r\nL 153.786364 224.162073 \r\nz\r\n\" style=\"fill:#1f77b4;\"/>\r\n   </g>\r\n   <g id=\"patch_69\">\r\n    <path clip-path=\"url(#p2c4f240e61)\" d=\"M 155.308182 224.64 \r\nL 156.83 224.64 \r\nL 156.83 224.11428 \r\nL 155.308182 224.11428 \r\nz\r\n\" style=\"fill:#1f77b4;\"/>\r\n   </g>\r\n   <g id=\"patch_70\">\r\n    <path clip-path=\"url(#p2c4f240e61)\" d=\"M 156.83 224.64 \r\nL 158.351818 224.64 \r\nL 158.351818 224.11428 \r\nL 156.83 224.11428 \r\nz\r\n\" style=\"fill:#1f77b4;\"/>\r\n   </g>\r\n   <g id=\"patch_71\">\r\n    <path clip-path=\"url(#p2c4f240e61)\" d=\"M 158.351818 224.64 \r\nL 159.873636 224.64 \r\nL 159.873636 224.162073 \r\nL 158.351818 224.162073 \r\nz\r\n\" style=\"fill:#1f77b4;\"/>\r\n   </g>\r\n   <g id=\"patch_72\">\r\n    <path clip-path=\"url(#p2c4f240e61)\" d=\"M 159.873636 224.64 \r\nL 161.395455 224.64 \r\nL 161.395455 224.11428 \r\nL 159.873636 224.11428 \r\nz\r\n\" style=\"fill:#1f77b4;\"/>\r\n   </g>\r\n   <g id=\"patch_73\">\r\n    <path clip-path=\"url(#p2c4f240e61)\" d=\"M 161.395455 224.64 \r\nL 162.917273 224.64 \r\nL 162.917273 224.018695 \r\nL 161.395455 224.018695 \r\nz\r\n\" style=\"fill:#1f77b4;\"/>\r\n   </g>\r\n   <g id=\"patch_74\">\r\n    <path clip-path=\"url(#p2c4f240e61)\" d=\"M 162.917273 224.64 \r\nL 164.439091 224.64 \r\nL 164.439091 224.066488 \r\nL 162.917273 224.066488 \r\nz\r\n\" style=\"fill:#1f77b4;\"/>\r\n   </g>\r\n   <g id=\"patch_75\">\r\n    <path clip-path=\"url(#p2c4f240e61)\" d=\"M 164.439091 224.64 \r\nL 165.960909 224.64 \r\nL 165.960909 224.496622 \r\nL 164.439091 224.496622 \r\nz\r\n\" style=\"fill:#1f77b4;\"/>\r\n   </g>\r\n   <g id=\"patch_76\">\r\n    <path clip-path=\"url(#p2c4f240e61)\" d=\"M 165.960909 224.64 \r\nL 167.482727 224.64 \r\nL 167.482727 223.875317 \r\nL 165.960909 223.875317 \r\nz\r\n\" style=\"fill:#1f77b4;\"/>\r\n   </g>\r\n   <g id=\"patch_77\">\r\n    <path clip-path=\"url(#p2c4f240e61)\" d=\"M 167.482727 224.64 \r\nL 169.004545 224.64 \r\nL 169.004545 224.353244 \r\nL 167.482727 224.353244 \r\nz\r\n\" style=\"fill:#1f77b4;\"/>\r\n   </g>\r\n   <g id=\"patch_78\">\r\n    <path clip-path=\"url(#p2c4f240e61)\" d=\"M 169.004545 224.64 \r\nL 170.526364 224.64 \r\nL 170.526364 224.353244 \r\nL 169.004545 224.353244 \r\nz\r\n\" style=\"fill:#1f77b4;\"/>\r\n   </g>\r\n   <g id=\"patch_79\">\r\n    <path clip-path=\"url(#p2c4f240e61)\" d=\"M 170.526364 224.64 \r\nL 172.048182 224.64 \r\nL 172.048182 223.731939 \r\nL 170.526364 223.731939 \r\nz\r\n\" style=\"fill:#1f77b4;\"/>\r\n   </g>\r\n   <g id=\"patch_80\">\r\n    <path clip-path=\"url(#p2c4f240e61)\" d=\"M 172.048182 224.64 \r\nL 173.57 224.64 \r\nL 173.57 224.496622 \r\nL 172.048182 224.496622 \r\nz\r\n\" style=\"fill:#1f77b4;\"/>\r\n   </g>\r\n   <g id=\"patch_81\">\r\n    <path clip-path=\"url(#p2c4f240e61)\" d=\"M 173.57 224.64 \r\nL 175.091818 224.64 \r\nL 175.091818 224.11428 \r\nL 173.57 224.11428 \r\nz\r\n\" style=\"fill:#1f77b4;\"/>\r\n   </g>\r\n   <g id=\"patch_82\">\r\n    <path clip-path=\"url(#p2c4f240e61)\" d=\"M 175.091818 224.64 \r\nL 176.613636 224.64 \r\nL 176.613636 224.257659 \r\nL 175.091818 224.257659 \r\nz\r\n\" style=\"fill:#1f77b4;\"/>\r\n   </g>\r\n   <g id=\"patch_83\">\r\n    <path clip-path=\"url(#p2c4f240e61)\" d=\"M 176.613636 224.64 \r\nL 178.135455 224.64 \r\nL 178.135455 224.448829 \r\nL 176.613636 224.448829 \r\nz\r\n\" style=\"fill:#1f77b4;\"/>\r\n   </g>\r\n   <g id=\"patch_84\">\r\n    <path clip-path=\"url(#p2c4f240e61)\" d=\"M 178.135455 224.64 \r\nL 179.657273 224.64 \r\nL 179.657273 224.305451 \r\nL 178.135455 224.305451 \r\nz\r\n\" style=\"fill:#1f77b4;\"/>\r\n   </g>\r\n   <g id=\"patch_85\">\r\n    <path clip-path=\"url(#p2c4f240e61)\" d=\"M 179.657273 224.64 \r\nL 181.179091 224.64 \r\nL 181.179091 224.162073 \r\nL 179.657273 224.162073 \r\nz\r\n\" style=\"fill:#1f77b4;\"/>\r\n   </g>\r\n   <g id=\"patch_86\">\r\n    <path clip-path=\"url(#p2c4f240e61)\" d=\"M 181.179091 224.64 \r\nL 182.700909 224.64 \r\nL 182.700909 224.353244 \r\nL 181.179091 224.353244 \r\nz\r\n\" style=\"fill:#1f77b4;\"/>\r\n   </g>\r\n   <g id=\"patch_87\">\r\n    <path clip-path=\"url(#p2c4f240e61)\" d=\"M 182.700909 224.64 \r\nL 184.222727 224.64 \r\nL 184.222727 224.353244 \r\nL 182.700909 224.353244 \r\nz\r\n\" style=\"fill:#1f77b4;\"/>\r\n   </g>\r\n   <g id=\"patch_88\">\r\n    <path clip-path=\"url(#p2c4f240e61)\" d=\"M 184.222727 224.64 \r\nL 185.744545 224.64 \r\nL 185.744545 223.827524 \r\nL 184.222727 223.827524 \r\nz\r\n\" style=\"fill:#1f77b4;\"/>\r\n   </g>\r\n   <g id=\"patch_89\">\r\n    <path clip-path=\"url(#p2c4f240e61)\" d=\"M 185.744545 224.64 \r\nL 187.266364 224.64 \r\nL 187.266364 224.305451 \r\nL 185.744545 224.305451 \r\nz\r\n\" style=\"fill:#1f77b4;\"/>\r\n   </g>\r\n   <g id=\"patch_90\">\r\n    <path clip-path=\"url(#p2c4f240e61)\" d=\"M 187.266364 224.64 \r\nL 188.788182 224.64 \r\nL 188.788182 224.209866 \r\nL 187.266364 224.209866 \r\nz\r\n\" style=\"fill:#1f77b4;\"/>\r\n   </g>\r\n   <g id=\"patch_91\">\r\n    <path clip-path=\"url(#p2c4f240e61)\" d=\"M 188.788182 224.64 \r\nL 190.31 224.64 \r\nL 190.31 224.401037 \r\nL 188.788182 224.401037 \r\nz\r\n\" style=\"fill:#1f77b4;\"/>\r\n   </g>\r\n   <g id=\"patch_92\">\r\n    <path clip-path=\"url(#p2c4f240e61)\" d=\"M 190.31 224.64 \r\nL 191.831818 224.64 \r\nL 191.831818 224.544415 \r\nL 190.31 224.544415 \r\nz\r\n\" style=\"fill:#1f77b4;\"/>\r\n   </g>\r\n   <g id=\"patch_93\">\r\n    <path clip-path=\"url(#p2c4f240e61)\" d=\"M 191.831818 224.64 \r\nL 193.353636 224.64 \r\nL 193.353636 224.257659 \r\nL 191.831818 224.257659 \r\nz\r\n\" style=\"fill:#1f77b4;\"/>\r\n   </g>\r\n   <g id=\"patch_94\">\r\n    <path clip-path=\"url(#p2c4f240e61)\" d=\"M 193.353636 224.64 \r\nL 194.875455 224.64 \r\nL 194.875455 224.496622 \r\nL 193.353636 224.496622 \r\nz\r\n\" style=\"fill:#1f77b4;\"/>\r\n   </g>\r\n   <g id=\"patch_95\">\r\n    <path clip-path=\"url(#p2c4f240e61)\" d=\"M 194.875455 224.64 \r\nL 196.397273 224.64 \r\nL 196.397273 224.448829 \r\nL 194.875455 224.448829 \r\nz\r\n\" style=\"fill:#1f77b4;\"/>\r\n   </g>\r\n   <g id=\"patch_96\">\r\n    <path clip-path=\"url(#p2c4f240e61)\" d=\"M 196.397273 224.64 \r\nL 197.919091 224.64 \r\nL 197.919091 224.496622 \r\nL 196.397273 224.496622 \r\nz\r\n\" style=\"fill:#1f77b4;\"/>\r\n   </g>\r\n   <g id=\"patch_97\">\r\n    <path clip-path=\"url(#p2c4f240e61)\" d=\"M 197.919091 224.64 \r\nL 199.440909 224.64 \r\nL 199.440909 224.162073 \r\nL 197.919091 224.162073 \r\nz\r\n\" style=\"fill:#1f77b4;\"/>\r\n   </g>\r\n   <g id=\"patch_98\">\r\n    <path clip-path=\"url(#p2c4f240e61)\" d=\"M 199.440909 224.64 \r\nL 200.962727 224.64 \r\nL 200.962727 224.448829 \r\nL 199.440909 224.448829 \r\nz\r\n\" style=\"fill:#1f77b4;\"/>\r\n   </g>\r\n   <g id=\"patch_99\">\r\n    <path clip-path=\"url(#p2c4f240e61)\" d=\"M 200.962727 224.64 \r\nL 202.484545 224.64 \r\nL 202.484545 224.544415 \r\nL 200.962727 224.544415 \r\nz\r\n\" style=\"fill:#1f77b4;\"/>\r\n   </g>\r\n   <g id=\"patch_100\">\r\n    <path clip-path=\"url(#p2c4f240e61)\" d=\"M 202.484545 224.64 \r\nL 204.006364 224.64 \r\nL 204.006364 224.353244 \r\nL 202.484545 224.353244 \r\nz\r\n\" style=\"fill:#1f77b4;\"/>\r\n   </g>\r\n   <g id=\"patch_101\">\r\n    <path clip-path=\"url(#p2c4f240e61)\" d=\"M 204.006364 224.64 \r\nL 205.528182 224.64 \r\nL 205.528182 224.353244 \r\nL 204.006364 224.353244 \r\nz\r\n\" style=\"fill:#1f77b4;\"/>\r\n   </g>\r\n   <g id=\"patch_102\">\r\n    <path clip-path=\"url(#p2c4f240e61)\" d=\"M 205.528182 224.64 \r\nL 207.05 224.64 \r\nL 207.05 224.448829 \r\nL 205.528182 224.448829 \r\nz\r\n\" style=\"fill:#1f77b4;\"/>\r\n   </g>\r\n   <g id=\"patch_103\">\r\n    <path clip-path=\"url(#p2c4f240e61)\" d=\"M 207.05 224.64 \r\nL 208.571818 224.64 \r\nL 208.571818 224.592207 \r\nL 207.05 224.592207 \r\nz\r\n\" style=\"fill:#1f77b4;\"/>\r\n   </g>\r\n   <g id=\"patch_104\">\r\n    <path clip-path=\"url(#p2c4f240e61)\" d=\"M 208.571818 224.64 \r\nL 210.093636 224.64 \r\nL 210.093636 224.496622 \r\nL 208.571818 224.496622 \r\nz\r\n\" style=\"fill:#1f77b4;\"/>\r\n   </g>\r\n   <g id=\"patch_105\">\r\n    <path clip-path=\"url(#p2c4f240e61)\" d=\"M 210.093636 224.64 \r\nL 211.615455 224.64 \r\nL 211.615455 224.592207 \r\nL 210.093636 224.592207 \r\nz\r\n\" style=\"fill:#1f77b4;\"/>\r\n   </g>\r\n   <g id=\"patch_106\">\r\n    <path clip-path=\"url(#p2c4f240e61)\" d=\"M 211.615455 224.64 \r\nL 213.137273 224.64 \r\nL 213.137273 224.496622 \r\nL 211.615455 224.496622 \r\nz\r\n\" style=\"fill:#1f77b4;\"/>\r\n   </g>\r\n   <g id=\"patch_107\">\r\n    <path clip-path=\"url(#p2c4f240e61)\" d=\"M 213.137273 224.64 \r\nL 214.659091 224.64 \r\nL 214.659091 224.401037 \r\nL 213.137273 224.401037 \r\nz\r\n\" style=\"fill:#1f77b4;\"/>\r\n   </g>\r\n   <g id=\"patch_108\">\r\n    <path clip-path=\"url(#p2c4f240e61)\" d=\"M 214.659091 224.64 \r\nL 216.180909 224.64 \r\nL 216.180909 224.448829 \r\nL 214.659091 224.448829 \r\nz\r\n\" style=\"fill:#1f77b4;\"/>\r\n   </g>\r\n   <g id=\"patch_109\">\r\n    <path clip-path=\"url(#p2c4f240e61)\" d=\"M 216.180909 224.64 \r\nL 217.702727 224.64 \r\nL 217.702727 224.592207 \r\nL 216.180909 224.592207 \r\nz\r\n\" style=\"fill:#1f77b4;\"/>\r\n   </g>\r\n   <g id=\"patch_110\">\r\n    <path clip-path=\"url(#p2c4f240e61)\" d=\"M 217.702727 224.64 \r\nL 219.224545 224.64 \r\nL 219.224545 224.496622 \r\nL 217.702727 224.496622 \r\nz\r\n\" style=\"fill:#1f77b4;\"/>\r\n   </g>\r\n   <g id=\"patch_111\">\r\n    <path clip-path=\"url(#p2c4f240e61)\" d=\"M 219.224545 224.64 \r\nL 220.746364 224.64 \r\nL 220.746364 224.448829 \r\nL 219.224545 224.448829 \r\nz\r\n\" style=\"fill:#1f77b4;\"/>\r\n   </g>\r\n   <g id=\"patch_112\">\r\n    <path clip-path=\"url(#p2c4f240e61)\" d=\"M 220.746364 224.64 \r\nL 222.268182 224.64 \r\nL 222.268182 224.448829 \r\nL 220.746364 224.448829 \r\nz\r\n\" style=\"fill:#1f77b4;\"/>\r\n   </g>\r\n   <g id=\"patch_113\">\r\n    <path clip-path=\"url(#p2c4f240e61)\" d=\"M 222.268182 224.64 \r\nL 223.79 224.64 \r\nL 223.79 224.401037 \r\nL 222.268182 224.401037 \r\nz\r\n\" style=\"fill:#1f77b4;\"/>\r\n   </g>\r\n   <g id=\"patch_114\">\r\n    <path clip-path=\"url(#p2c4f240e61)\" d=\"M 223.79 224.64 \r\nL 225.311818 224.64 \r\nL 225.311818 224.544415 \r\nL 223.79 224.544415 \r\nz\r\n\" style=\"fill:#1f77b4;\"/>\r\n   </g>\r\n   <g id=\"patch_115\">\r\n    <path clip-path=\"url(#p2c4f240e61)\" d=\"M 225.311818 224.64 \r\nL 226.833636 224.64 \r\nL 226.833636 224.592207 \r\nL 225.311818 224.592207 \r\nz\r\n\" style=\"fill:#1f77b4;\"/>\r\n   </g>\r\n   <g id=\"patch_116\">\r\n    <path clip-path=\"url(#p2c4f240e61)\" d=\"M 226.833636 224.64 \r\nL 228.355455 224.64 \r\nL 228.355455 224.544415 \r\nL 226.833636 224.544415 \r\nz\r\n\" style=\"fill:#1f77b4;\"/>\r\n   </g>\r\n   <g id=\"patch_117\">\r\n    <path clip-path=\"url(#p2c4f240e61)\" d=\"M 228.355455 224.64 \r\nL 229.877273 224.64 \r\nL 229.877273 224.448829 \r\nL 228.355455 224.448829 \r\nz\r\n\" style=\"fill:#1f77b4;\"/>\r\n   </g>\r\n   <g id=\"patch_118\">\r\n    <path clip-path=\"url(#p2c4f240e61)\" d=\"M 229.877273 224.64 \r\nL 231.399091 224.64 \r\nL 231.399091 224.544415 \r\nL 229.877273 224.544415 \r\nz\r\n\" style=\"fill:#1f77b4;\"/>\r\n   </g>\r\n   <g id=\"patch_119\">\r\n    <path clip-path=\"url(#p2c4f240e61)\" d=\"M 231.399091 224.64 \r\nL 232.920909 224.64 \r\nL 232.920909 224.64 \r\nL 231.399091 224.64 \r\nz\r\n\" style=\"fill:#1f77b4;\"/>\r\n   </g>\r\n   <g id=\"patch_120\">\r\n    <path clip-path=\"url(#p2c4f240e61)\" d=\"M 232.920909 224.64 \r\nL 234.442727 224.64 \r\nL 234.442727 224.592207 \r\nL 232.920909 224.592207 \r\nz\r\n\" style=\"fill:#1f77b4;\"/>\r\n   </g>\r\n   <g id=\"patch_121\">\r\n    <path clip-path=\"url(#p2c4f240e61)\" d=\"M 234.442727 224.64 \r\nL 235.964545 224.64 \r\nL 235.964545 224.592207 \r\nL 234.442727 224.592207 \r\nz\r\n\" style=\"fill:#1f77b4;\"/>\r\n   </g>\r\n   <g id=\"patch_122\">\r\n    <path clip-path=\"url(#p2c4f240e61)\" d=\"M 235.964545 224.64 \r\nL 237.486364 224.64 \r\nL 237.486364 224.305451 \r\nL 235.964545 224.305451 \r\nz\r\n\" style=\"fill:#1f77b4;\"/>\r\n   </g>\r\n   <g id=\"patch_123\">\r\n    <path clip-path=\"url(#p2c4f240e61)\" d=\"M 237.486364 224.64 \r\nL 239.008182 224.64 \r\nL 239.008182 224.544415 \r\nL 237.486364 224.544415 \r\nz\r\n\" style=\"fill:#1f77b4;\"/>\r\n   </g>\r\n   <g id=\"patch_124\">\r\n    <path clip-path=\"url(#p2c4f240e61)\" d=\"M 239.008182 224.64 \r\nL 240.53 224.64 \r\nL 240.53 224.544415 \r\nL 239.008182 224.544415 \r\nz\r\n\" style=\"fill:#1f77b4;\"/>\r\n   </g>\r\n   <g id=\"patch_125\">\r\n    <path clip-path=\"url(#p2c4f240e61)\" d=\"M 240.53 224.64 \r\nL 242.051818 224.64 \r\nL 242.051818 224.496622 \r\nL 240.53 224.496622 \r\nz\r\n\" style=\"fill:#1f77b4;\"/>\r\n   </g>\r\n   <g id=\"patch_126\">\r\n    <path clip-path=\"url(#p2c4f240e61)\" d=\"M 242.051818 224.64 \r\nL 243.573636 224.64 \r\nL 243.573636 224.544415 \r\nL 242.051818 224.544415 \r\nz\r\n\" style=\"fill:#1f77b4;\"/>\r\n   </g>\r\n   <g id=\"patch_127\">\r\n    <path clip-path=\"url(#p2c4f240e61)\" d=\"M 243.573636 224.64 \r\nL 245.095455 224.64 \r\nL 245.095455 224.592207 \r\nL 243.573636 224.592207 \r\nz\r\n\" style=\"fill:#1f77b4;\"/>\r\n   </g>\r\n   <g id=\"patch_128\">\r\n    <path clip-path=\"url(#p2c4f240e61)\" d=\"M 245.095455 224.64 \r\nL 246.617273 224.64 \r\nL 246.617273 224.544415 \r\nL 245.095455 224.544415 \r\nz\r\n\" style=\"fill:#1f77b4;\"/>\r\n   </g>\r\n   <g id=\"patch_129\">\r\n    <path clip-path=\"url(#p2c4f240e61)\" d=\"M 246.617273 224.64 \r\nL 248.139091 224.64 \r\nL 248.139091 224.64 \r\nL 246.617273 224.64 \r\nz\r\n\" style=\"fill:#1f77b4;\"/>\r\n   </g>\r\n   <g id=\"patch_130\">\r\n    <path clip-path=\"url(#p2c4f240e61)\" d=\"M 248.139091 224.64 \r\nL 249.660909 224.64 \r\nL 249.660909 224.496622 \r\nL 248.139091 224.496622 \r\nz\r\n\" style=\"fill:#1f77b4;\"/>\r\n   </g>\r\n   <g id=\"patch_131\">\r\n    <path clip-path=\"url(#p2c4f240e61)\" d=\"M 249.660909 224.64 \r\nL 251.182727 224.64 \r\nL 251.182727 224.544415 \r\nL 249.660909 224.544415 \r\nz\r\n\" style=\"fill:#1f77b4;\"/>\r\n   </g>\r\n   <g id=\"patch_132\">\r\n    <path clip-path=\"url(#p2c4f240e61)\" d=\"M 251.182727 224.64 \r\nL 252.704545 224.64 \r\nL 252.704545 224.592207 \r\nL 251.182727 224.592207 \r\nz\r\n\" style=\"fill:#1f77b4;\"/>\r\n   </g>\r\n   <g id=\"patch_133\">\r\n    <path clip-path=\"url(#p2c4f240e61)\" d=\"M 252.704545 224.64 \r\nL 254.226364 224.64 \r\nL 254.226364 224.544415 \r\nL 252.704545 224.544415 \r\nz\r\n\" style=\"fill:#1f77b4;\"/>\r\n   </g>\r\n   <g id=\"patch_134\">\r\n    <path clip-path=\"url(#p2c4f240e61)\" d=\"M 254.226364 224.64 \r\nL 255.748182 224.64 \r\nL 255.748182 224.592207 \r\nL 254.226364 224.592207 \r\nz\r\n\" style=\"fill:#1f77b4;\"/>\r\n   </g>\r\n   <g id=\"patch_135\">\r\n    <path clip-path=\"url(#p2c4f240e61)\" d=\"M 255.748182 224.64 \r\nL 257.27 224.64 \r\nL 257.27 224.592207 \r\nL 255.748182 224.592207 \r\nz\r\n\" style=\"fill:#1f77b4;\"/>\r\n   </g>\r\n   <g id=\"patch_136\">\r\n    <path clip-path=\"url(#p2c4f240e61)\" d=\"M 257.27 224.64 \r\nL 258.791818 224.64 \r\nL 258.791818 224.544415 \r\nL 257.27 224.544415 \r\nz\r\n\" style=\"fill:#1f77b4;\"/>\r\n   </g>\r\n   <g id=\"patch_137\">\r\n    <path clip-path=\"url(#p2c4f240e61)\" d=\"M 258.791818 224.64 \r\nL 260.313636 224.64 \r\nL 260.313636 224.496622 \r\nL 258.791818 224.496622 \r\nz\r\n\" style=\"fill:#1f77b4;\"/>\r\n   </g>\r\n   <g id=\"patch_138\">\r\n    <path clip-path=\"url(#p2c4f240e61)\" d=\"M 260.313636 224.64 \r\nL 261.835455 224.64 \r\nL 261.835455 224.64 \r\nL 260.313636 224.64 \r\nz\r\n\" style=\"fill:#1f77b4;\"/>\r\n   </g>\r\n   <g id=\"patch_139\">\r\n    <path clip-path=\"url(#p2c4f240e61)\" d=\"M 261.835455 224.64 \r\nL 263.357273 224.64 \r\nL 263.357273 224.64 \r\nL 261.835455 224.64 \r\nz\r\n\" style=\"fill:#1f77b4;\"/>\r\n   </g>\r\n   <g id=\"patch_140\">\r\n    <path clip-path=\"url(#p2c4f240e61)\" d=\"M 263.357273 224.64 \r\nL 264.879091 224.64 \r\nL 264.879091 224.592207 \r\nL 263.357273 224.592207 \r\nz\r\n\" style=\"fill:#1f77b4;\"/>\r\n   </g>\r\n   <g id=\"patch_141\">\r\n    <path clip-path=\"url(#p2c4f240e61)\" d=\"M 264.879091 224.64 \r\nL 266.400909 224.64 \r\nL 266.400909 224.592207 \r\nL 264.879091 224.592207 \r\nz\r\n\" style=\"fill:#1f77b4;\"/>\r\n   </g>\r\n   <g id=\"patch_142\">\r\n    <path clip-path=\"url(#p2c4f240e61)\" d=\"M 266.400909 224.64 \r\nL 267.922727 224.64 \r\nL 267.922727 224.64 \r\nL 266.400909 224.64 \r\nz\r\n\" style=\"fill:#1f77b4;\"/>\r\n   </g>\r\n   <g id=\"patch_143\">\r\n    <path clip-path=\"url(#p2c4f240e61)\" d=\"M 267.922727 224.64 \r\nL 269.444545 224.64 \r\nL 269.444545 224.544415 \r\nL 267.922727 224.544415 \r\nz\r\n\" style=\"fill:#1f77b4;\"/>\r\n   </g>\r\n   <g id=\"patch_144\">\r\n    <path clip-path=\"url(#p2c4f240e61)\" d=\"M 269.444545 224.64 \r\nL 270.966364 224.64 \r\nL 270.966364 224.544415 \r\nL 269.444545 224.544415 \r\nz\r\n\" style=\"fill:#1f77b4;\"/>\r\n   </g>\r\n   <g id=\"patch_145\">\r\n    <path clip-path=\"url(#p2c4f240e61)\" d=\"M 270.966364 224.64 \r\nL 272.488182 224.64 \r\nL 272.488182 224.64 \r\nL 270.966364 224.64 \r\nz\r\n\" style=\"fill:#1f77b4;\"/>\r\n   </g>\r\n   <g id=\"patch_146\">\r\n    <path clip-path=\"url(#p2c4f240e61)\" d=\"M 272.488182 224.64 \r\nL 274.01 224.64 \r\nL 274.01 224.544415 \r\nL 272.488182 224.544415 \r\nz\r\n\" style=\"fill:#1f77b4;\"/>\r\n   </g>\r\n   <g id=\"patch_147\">\r\n    <path clip-path=\"url(#p2c4f240e61)\" d=\"M 274.01 224.64 \r\nL 275.531818 224.64 \r\nL 275.531818 224.64 \r\nL 274.01 224.64 \r\nz\r\n\" style=\"fill:#1f77b4;\"/>\r\n   </g>\r\n   <g id=\"patch_148\">\r\n    <path clip-path=\"url(#p2c4f240e61)\" d=\"M 275.531818 224.64 \r\nL 277.053636 224.64 \r\nL 277.053636 224.592207 \r\nL 275.531818 224.592207 \r\nz\r\n\" style=\"fill:#1f77b4;\"/>\r\n   </g>\r\n   <g id=\"patch_149\">\r\n    <path clip-path=\"url(#p2c4f240e61)\" d=\"M 277.053636 224.64 \r\nL 278.575455 224.64 \r\nL 278.575455 224.592207 \r\nL 277.053636 224.592207 \r\nz\r\n\" style=\"fill:#1f77b4;\"/>\r\n   </g>\r\n   <g id=\"patch_150\">\r\n    <path clip-path=\"url(#p2c4f240e61)\" d=\"M 278.575455 224.64 \r\nL 280.097273 224.64 \r\nL 280.097273 224.64 \r\nL 278.575455 224.64 \r\nz\r\n\" style=\"fill:#1f77b4;\"/>\r\n   </g>\r\n   <g id=\"patch_151\">\r\n    <path clip-path=\"url(#p2c4f240e61)\" d=\"M 280.097273 224.64 \r\nL 281.619091 224.64 \r\nL 281.619091 224.64 \r\nL 280.097273 224.64 \r\nz\r\n\" style=\"fill:#1f77b4;\"/>\r\n   </g>\r\n   <g id=\"patch_152\">\r\n    <path clip-path=\"url(#p2c4f240e61)\" d=\"M 281.619091 224.64 \r\nL 283.140909 224.64 \r\nL 283.140909 224.64 \r\nL 281.619091 224.64 \r\nz\r\n\" style=\"fill:#1f77b4;\"/>\r\n   </g>\r\n   <g id=\"patch_153\">\r\n    <path clip-path=\"url(#p2c4f240e61)\" d=\"M 283.140909 224.64 \r\nL 284.662727 224.64 \r\nL 284.662727 224.592207 \r\nL 283.140909 224.592207 \r\nz\r\n\" style=\"fill:#1f77b4;\"/>\r\n   </g>\r\n   <g id=\"patch_154\">\r\n    <path clip-path=\"url(#p2c4f240e61)\" d=\"M 284.662727 224.64 \r\nL 286.184545 224.64 \r\nL 286.184545 224.64 \r\nL 284.662727 224.64 \r\nz\r\n\" style=\"fill:#1f77b4;\"/>\r\n   </g>\r\n   <g id=\"patch_155\">\r\n    <path clip-path=\"url(#p2c4f240e61)\" d=\"M 286.184545 224.64 \r\nL 287.706364 224.64 \r\nL 287.706364 224.64 \r\nL 286.184545 224.64 \r\nz\r\n\" style=\"fill:#1f77b4;\"/>\r\n   </g>\r\n   <g id=\"patch_156\">\r\n    <path clip-path=\"url(#p2c4f240e61)\" d=\"M 287.706364 224.64 \r\nL 289.228182 224.64 \r\nL 289.228182 224.64 \r\nL 287.706364 224.64 \r\nz\r\n\" style=\"fill:#1f77b4;\"/>\r\n   </g>\r\n   <g id=\"patch_157\">\r\n    <path clip-path=\"url(#p2c4f240e61)\" d=\"M 289.228182 224.64 \r\nL 290.75 224.64 \r\nL 290.75 224.64 \r\nL 289.228182 224.64 \r\nz\r\n\" style=\"fill:#1f77b4;\"/>\r\n   </g>\r\n   <g id=\"patch_158\">\r\n    <path clip-path=\"url(#p2c4f240e61)\" d=\"M 290.75 224.64 \r\nL 292.271818 224.64 \r\nL 292.271818 224.64 \r\nL 290.75 224.64 \r\nz\r\n\" style=\"fill:#1f77b4;\"/>\r\n   </g>\r\n   <g id=\"patch_159\">\r\n    <path clip-path=\"url(#p2c4f240e61)\" d=\"M 292.271818 224.64 \r\nL 293.793636 224.64 \r\nL 293.793636 224.592207 \r\nL 292.271818 224.592207 \r\nz\r\n\" style=\"fill:#1f77b4;\"/>\r\n   </g>\r\n   <g id=\"patch_160\">\r\n    <path clip-path=\"url(#p2c4f240e61)\" d=\"M 293.793636 224.64 \r\nL 295.315455 224.64 \r\nL 295.315455 224.64 \r\nL 293.793636 224.64 \r\nz\r\n\" style=\"fill:#1f77b4;\"/>\r\n   </g>\r\n   <g id=\"patch_161\">\r\n    <path clip-path=\"url(#p2c4f240e61)\" d=\"M 295.315455 224.64 \r\nL 296.837273 224.64 \r\nL 296.837273 224.592207 \r\nL 295.315455 224.592207 \r\nz\r\n\" style=\"fill:#1f77b4;\"/>\r\n   </g>\r\n   <g id=\"patch_162\">\r\n    <path clip-path=\"url(#p2c4f240e61)\" d=\"M 296.837273 224.64 \r\nL 298.359091 224.64 \r\nL 298.359091 224.592207 \r\nL 296.837273 224.592207 \r\nz\r\n\" style=\"fill:#1f77b4;\"/>\r\n   </g>\r\n   <g id=\"patch_163\">\r\n    <path clip-path=\"url(#p2c4f240e61)\" d=\"M 298.359091 224.64 \r\nL 299.880909 224.64 \r\nL 299.880909 224.64 \r\nL 298.359091 224.64 \r\nz\r\n\" style=\"fill:#1f77b4;\"/>\r\n   </g>\r\n   <g id=\"patch_164\">\r\n    <path clip-path=\"url(#p2c4f240e61)\" d=\"M 299.880909 224.64 \r\nL 301.402727 224.64 \r\nL 301.402727 224.592207 \r\nL 299.880909 224.592207 \r\nz\r\n\" style=\"fill:#1f77b4;\"/>\r\n   </g>\r\n   <g id=\"patch_165\">\r\n    <path clip-path=\"url(#p2c4f240e61)\" d=\"M 301.402727 224.64 \r\nL 302.924545 224.64 \r\nL 302.924545 224.592207 \r\nL 301.402727 224.592207 \r\nz\r\n\" style=\"fill:#1f77b4;\"/>\r\n   </g>\r\n   <g id=\"patch_166\">\r\n    <path clip-path=\"url(#p2c4f240e61)\" d=\"M 302.924545 224.64 \r\nL 304.446364 224.64 \r\nL 304.446364 224.64 \r\nL 302.924545 224.64 \r\nz\r\n\" style=\"fill:#1f77b4;\"/>\r\n   </g>\r\n   <g id=\"patch_167\">\r\n    <path clip-path=\"url(#p2c4f240e61)\" d=\"M 304.446364 224.64 \r\nL 305.968182 224.64 \r\nL 305.968182 224.592207 \r\nL 304.446364 224.592207 \r\nz\r\n\" style=\"fill:#1f77b4;\"/>\r\n   </g>\r\n   <g id=\"patch_168\">\r\n    <path clip-path=\"url(#p2c4f240e61)\" d=\"M 305.968182 224.64 \r\nL 307.49 224.64 \r\nL 307.49 224.64 \r\nL 305.968182 224.64 \r\nz\r\n\" style=\"fill:#1f77b4;\"/>\r\n   </g>\r\n   <g id=\"patch_169\">\r\n    <path clip-path=\"url(#p2c4f240e61)\" d=\"M 307.49 224.64 \r\nL 309.011818 224.64 \r\nL 309.011818 224.544415 \r\nL 307.49 224.544415 \r\nz\r\n\" style=\"fill:#1f77b4;\"/>\r\n   </g>\r\n   <g id=\"patch_170\">\r\n    <path clip-path=\"url(#p2c4f240e61)\" d=\"M 309.011818 224.64 \r\nL 310.533636 224.64 \r\nL 310.533636 224.64 \r\nL 309.011818 224.64 \r\nz\r\n\" style=\"fill:#1f77b4;\"/>\r\n   </g>\r\n   <g id=\"patch_171\">\r\n    <path clip-path=\"url(#p2c4f240e61)\" d=\"M 310.533636 224.64 \r\nL 312.055455 224.64 \r\nL 312.055455 224.64 \r\nL 310.533636 224.64 \r\nz\r\n\" style=\"fill:#1f77b4;\"/>\r\n   </g>\r\n   <g id=\"patch_172\">\r\n    <path clip-path=\"url(#p2c4f240e61)\" d=\"M 312.055455 224.64 \r\nL 313.577273 224.64 \r\nL 313.577273 224.64 \r\nL 312.055455 224.64 \r\nz\r\n\" style=\"fill:#1f77b4;\"/>\r\n   </g>\r\n   <g id=\"patch_173\">\r\n    <path clip-path=\"url(#p2c4f240e61)\" d=\"M 313.577273 224.64 \r\nL 315.099091 224.64 \r\nL 315.099091 224.64 \r\nL 313.577273 224.64 \r\nz\r\n\" style=\"fill:#1f77b4;\"/>\r\n   </g>\r\n   <g id=\"patch_174\">\r\n    <path clip-path=\"url(#p2c4f240e61)\" d=\"M 315.099091 224.64 \r\nL 316.620909 224.64 \r\nL 316.620909 224.64 \r\nL 315.099091 224.64 \r\nz\r\n\" style=\"fill:#1f77b4;\"/>\r\n   </g>\r\n   <g id=\"patch_175\">\r\n    <path clip-path=\"url(#p2c4f240e61)\" d=\"M 316.620909 224.64 \r\nL 318.142727 224.64 \r\nL 318.142727 224.64 \r\nL 316.620909 224.64 \r\nz\r\n\" style=\"fill:#1f77b4;\"/>\r\n   </g>\r\n   <g id=\"patch_176\">\r\n    <path clip-path=\"url(#p2c4f240e61)\" d=\"M 318.142727 224.64 \r\nL 319.664545 224.64 \r\nL 319.664545 224.64 \r\nL 318.142727 224.64 \r\nz\r\n\" style=\"fill:#1f77b4;\"/>\r\n   </g>\r\n   <g id=\"patch_177\">\r\n    <path clip-path=\"url(#p2c4f240e61)\" d=\"M 319.664545 224.64 \r\nL 321.186364 224.64 \r\nL 321.186364 224.64 \r\nL 319.664545 224.64 \r\nz\r\n\" style=\"fill:#1f77b4;\"/>\r\n   </g>\r\n   <g id=\"patch_178\">\r\n    <path clip-path=\"url(#p2c4f240e61)\" d=\"M 321.186364 224.64 \r\nL 322.708182 224.64 \r\nL 322.708182 224.592207 \r\nL 321.186364 224.592207 \r\nz\r\n\" style=\"fill:#1f77b4;\"/>\r\n   </g>\r\n   <g id=\"patch_179\">\r\n    <path clip-path=\"url(#p2c4f240e61)\" d=\"M 322.708182 224.64 \r\nL 324.23 224.64 \r\nL 324.23 224.64 \r\nL 322.708182 224.64 \r\nz\r\n\" style=\"fill:#1f77b4;\"/>\r\n   </g>\r\n   <g id=\"patch_180\">\r\n    <path clip-path=\"url(#p2c4f240e61)\" d=\"M 324.23 224.64 \r\nL 325.751818 224.64 \r\nL 325.751818 224.64 \r\nL 324.23 224.64 \r\nz\r\n\" style=\"fill:#1f77b4;\"/>\r\n   </g>\r\n   <g id=\"patch_181\">\r\n    <path clip-path=\"url(#p2c4f240e61)\" d=\"M 325.751818 224.64 \r\nL 327.273636 224.64 \r\nL 327.273636 224.64 \r\nL 325.751818 224.64 \r\nz\r\n\" style=\"fill:#1f77b4;\"/>\r\n   </g>\r\n   <g id=\"patch_182\">\r\n    <path clip-path=\"url(#p2c4f240e61)\" d=\"M 327.273636 224.64 \r\nL 328.795455 224.64 \r\nL 328.795455 224.64 \r\nL 327.273636 224.64 \r\nz\r\n\" style=\"fill:#1f77b4;\"/>\r\n   </g>\r\n   <g id=\"patch_183\">\r\n    <path clip-path=\"url(#p2c4f240e61)\" d=\"M 328.795455 224.64 \r\nL 330.317273 224.64 \r\nL 330.317273 224.64 \r\nL 328.795455 224.64 \r\nz\r\n\" style=\"fill:#1f77b4;\"/>\r\n   </g>\r\n   <g id=\"patch_184\">\r\n    <path clip-path=\"url(#p2c4f240e61)\" d=\"M 330.317273 224.64 \r\nL 331.839091 224.64 \r\nL 331.839091 224.64 \r\nL 330.317273 224.64 \r\nz\r\n\" style=\"fill:#1f77b4;\"/>\r\n   </g>\r\n   <g id=\"patch_185\">\r\n    <path clip-path=\"url(#p2c4f240e61)\" d=\"M 331.839091 224.64 \r\nL 333.360909 224.64 \r\nL 333.360909 224.64 \r\nL 331.839091 224.64 \r\nz\r\n\" style=\"fill:#1f77b4;\"/>\r\n   </g>\r\n   <g id=\"patch_186\">\r\n    <path clip-path=\"url(#p2c4f240e61)\" d=\"M 333.360909 224.64 \r\nL 334.882727 224.64 \r\nL 334.882727 224.64 \r\nL 333.360909 224.64 \r\nz\r\n\" style=\"fill:#1f77b4;\"/>\r\n   </g>\r\n   <g id=\"patch_187\">\r\n    <path clip-path=\"url(#p2c4f240e61)\" d=\"M 334.882727 224.64 \r\nL 336.404545 224.64 \r\nL 336.404545 224.64 \r\nL 334.882727 224.64 \r\nz\r\n\" style=\"fill:#1f77b4;\"/>\r\n   </g>\r\n   <g id=\"patch_188\">\r\n    <path clip-path=\"url(#p2c4f240e61)\" d=\"M 336.404545 224.64 \r\nL 337.926364 224.64 \r\nL 337.926364 224.64 \r\nL 336.404545 224.64 \r\nz\r\n\" style=\"fill:#1f77b4;\"/>\r\n   </g>\r\n   <g id=\"patch_189\">\r\n    <path clip-path=\"url(#p2c4f240e61)\" d=\"M 337.926364 224.64 \r\nL 339.448182 224.64 \r\nL 339.448182 224.64 \r\nL 337.926364 224.64 \r\nz\r\n\" style=\"fill:#1f77b4;\"/>\r\n   </g>\r\n   <g id=\"patch_190\">\r\n    <path clip-path=\"url(#p2c4f240e61)\" d=\"M 339.448182 224.64 \r\nL 340.97 224.64 \r\nL 340.97 224.64 \r\nL 339.448182 224.64 \r\nz\r\n\" style=\"fill:#1f77b4;\"/>\r\n   </g>\r\n   <g id=\"patch_191\">\r\n    <path clip-path=\"url(#p2c4f240e61)\" d=\"M 340.97 224.64 \r\nL 342.491818 224.64 \r\nL 342.491818 224.64 \r\nL 340.97 224.64 \r\nz\r\n\" style=\"fill:#1f77b4;\"/>\r\n   </g>\r\n   <g id=\"patch_192\">\r\n    <path clip-path=\"url(#p2c4f240e61)\" d=\"M 342.491818 224.64 \r\nL 344.013636 224.64 \r\nL 344.013636 224.64 \r\nL 342.491818 224.64 \r\nz\r\n\" style=\"fill:#1f77b4;\"/>\r\n   </g>\r\n   <g id=\"patch_193\">\r\n    <path clip-path=\"url(#p2c4f240e61)\" d=\"M 344.013636 224.64 \r\nL 345.535455 224.64 \r\nL 345.535455 224.64 \r\nL 344.013636 224.64 \r\nz\r\n\" style=\"fill:#1f77b4;\"/>\r\n   </g>\r\n   <g id=\"patch_194\">\r\n    <path clip-path=\"url(#p2c4f240e61)\" d=\"M 345.535455 224.64 \r\nL 347.057273 224.64 \r\nL 347.057273 224.64 \r\nL 345.535455 224.64 \r\nz\r\n\" style=\"fill:#1f77b4;\"/>\r\n   </g>\r\n   <g id=\"patch_195\">\r\n    <path clip-path=\"url(#p2c4f240e61)\" d=\"M 347.057273 224.64 \r\nL 348.579091 224.64 \r\nL 348.579091 224.64 \r\nL 347.057273 224.64 \r\nz\r\n\" style=\"fill:#1f77b4;\"/>\r\n   </g>\r\n   <g id=\"patch_196\">\r\n    <path clip-path=\"url(#p2c4f240e61)\" d=\"M 348.579091 224.64 \r\nL 350.100909 224.64 \r\nL 350.100909 224.64 \r\nL 348.579091 224.64 \r\nz\r\n\" style=\"fill:#1f77b4;\"/>\r\n   </g>\r\n   <g id=\"patch_197\">\r\n    <path clip-path=\"url(#p2c4f240e61)\" d=\"M 350.100909 224.64 \r\nL 351.622727 224.64 \r\nL 351.622727 224.64 \r\nL 350.100909 224.64 \r\nz\r\n\" style=\"fill:#1f77b4;\"/>\r\n   </g>\r\n   <g id=\"patch_198\">\r\n    <path clip-path=\"url(#p2c4f240e61)\" d=\"M 351.622727 224.64 \r\nL 353.144545 224.64 \r\nL 353.144545 224.64 \r\nL 351.622727 224.64 \r\nz\r\n\" style=\"fill:#1f77b4;\"/>\r\n   </g>\r\n   <g id=\"patch_199\">\r\n    <path clip-path=\"url(#p2c4f240e61)\" d=\"M 353.144545 224.64 \r\nL 354.666364 224.64 \r\nL 354.666364 224.592207 \r\nL 353.144545 224.592207 \r\nz\r\n\" style=\"fill:#1f77b4;\"/>\r\n   </g>\r\n   <g id=\"patch_200\">\r\n    <path clip-path=\"url(#p2c4f240e61)\" d=\"M 354.666364 224.64 \r\nL 356.188182 224.64 \r\nL 356.188182 224.64 \r\nL 354.666364 224.64 \r\nz\r\n\" style=\"fill:#1f77b4;\"/>\r\n   </g>\r\n   <g id=\"patch_201\">\r\n    <path clip-path=\"url(#p2c4f240e61)\" d=\"M 356.188182 224.64 \r\nL 357.71 224.64 \r\nL 357.71 224.64 \r\nL 356.188182 224.64 \r\nz\r\n\" style=\"fill:#1f77b4;\"/>\r\n   </g>\r\n   <g id=\"patch_202\">\r\n    <path clip-path=\"url(#p2c4f240e61)\" d=\"M 357.71 224.64 \r\nL 359.231818 224.64 \r\nL 359.231818 224.592207 \r\nL 357.71 224.592207 \r\nz\r\n\" style=\"fill:#1f77b4;\"/>\r\n   </g>\r\n   <g id=\"matplotlib.axis_1\">\r\n    <g id=\"xtick_1\">\r\n     <g id=\"line2d_1\">\r\n      <defs>\r\n       <path d=\"M 0 0 \r\nL 0 3.5 \r\n\" id=\"m9b0c08ef47\" style=\"stroke:#000000;stroke-width:0.8;\"/>\r\n      </defs>\r\n      <g>\r\n       <use style=\"stroke:#000000;stroke-width:0.8;\" x=\"56.338538\" xlink:href=\"#m9b0c08ef47\" y=\"224.64\"/>\r\n      </g>\r\n     </g>\r\n     <g id=\"text_1\">\r\n      <!-- 0 -->\r\n      <g transform=\"translate(53.157288 239.238437)scale(0.1 -0.1)\">\r\n       <defs>\r\n        <path d=\"M 31.78125 66.40625 \r\nQ 24.171875 66.40625 20.328125 58.90625 \r\nQ 16.5 51.421875 16.5 36.375 \r\nQ 16.5 21.390625 20.328125 13.890625 \r\nQ 24.171875 6.390625 31.78125 6.390625 \r\nQ 39.453125 6.390625 43.28125 13.890625 \r\nQ 47.125 21.390625 47.125 36.375 \r\nQ 47.125 51.421875 43.28125 58.90625 \r\nQ 39.453125 66.40625 31.78125 66.40625 \r\nz\r\nM 31.78125 74.21875 \r\nQ 44.046875 74.21875 50.515625 64.515625 \r\nQ 56.984375 54.828125 56.984375 36.375 \r\nQ 56.984375 17.96875 50.515625 8.265625 \r\nQ 44.046875 -1.421875 31.78125 -1.421875 \r\nQ 19.53125 -1.421875 13.0625 8.265625 \r\nQ 6.59375 17.96875 6.59375 36.375 \r\nQ 6.59375 54.828125 13.0625 64.515625 \r\nQ 19.53125 74.21875 31.78125 74.21875 \r\nz\r\n\" id=\"DejaVuSans-48\"/>\r\n       </defs>\r\n       <use xlink:href=\"#DejaVuSans-48\"/>\r\n      </g>\r\n     </g>\r\n    </g>\r\n    <g id=\"xtick_2\">\r\n     <g id=\"line2d_2\">\r\n      <g>\r\n       <use style=\"stroke:#000000;stroke-width:0.8;\" x=\"129.856324\" xlink:href=\"#m9b0c08ef47\" y=\"224.64\"/>\r\n      </g>\r\n     </g>\r\n     <g id=\"text_2\">\r\n      <!-- 50 -->\r\n      <g transform=\"translate(123.493824 239.238437)scale(0.1 -0.1)\">\r\n       <defs>\r\n        <path d=\"M 10.796875 72.90625 \r\nL 49.515625 72.90625 \r\nL 49.515625 64.59375 \r\nL 19.828125 64.59375 \r\nL 19.828125 46.734375 \r\nQ 21.96875 47.46875 24.109375 47.828125 \r\nQ 26.265625 48.1875 28.421875 48.1875 \r\nQ 40.625 48.1875 47.75 41.5 \r\nQ 54.890625 34.8125 54.890625 23.390625 \r\nQ 54.890625 11.625 47.5625 5.09375 \r\nQ 40.234375 -1.421875 26.90625 -1.421875 \r\nQ 22.3125 -1.421875 17.546875 -0.640625 \r\nQ 12.796875 0.140625 7.71875 1.703125 \r\nL 7.71875 11.625 \r\nQ 12.109375 9.234375 16.796875 8.0625 \r\nQ 21.484375 6.890625 26.703125 6.890625 \r\nQ 35.15625 6.890625 40.078125 11.328125 \r\nQ 45.015625 15.765625 45.015625 23.390625 \r\nQ 45.015625 31 40.078125 35.4375 \r\nQ 35.15625 39.890625 26.703125 39.890625 \r\nQ 22.75 39.890625 18.8125 39.015625 \r\nQ 14.890625 38.140625 10.796875 36.28125 \r\nz\r\n\" id=\"DejaVuSans-53\"/>\r\n       </defs>\r\n       <use xlink:href=\"#DejaVuSans-53\"/>\r\n       <use x=\"63.623047\" xlink:href=\"#DejaVuSans-48\"/>\r\n      </g>\r\n     </g>\r\n    </g>\r\n    <g id=\"xtick_3\">\r\n     <g id=\"line2d_3\">\r\n      <g>\r\n       <use style=\"stroke:#000000;stroke-width:0.8;\" x=\"203.374111\" xlink:href=\"#m9b0c08ef47\" y=\"224.64\"/>\r\n      </g>\r\n     </g>\r\n     <g id=\"text_3\">\r\n      <!-- 100 -->\r\n      <g transform=\"translate(193.830361 239.238437)scale(0.1 -0.1)\">\r\n       <defs>\r\n        <path d=\"M 12.40625 8.296875 \r\nL 28.515625 8.296875 \r\nL 28.515625 63.921875 \r\nL 10.984375 60.40625 \r\nL 10.984375 69.390625 \r\nL 28.421875 72.90625 \r\nL 38.28125 72.90625 \r\nL 38.28125 8.296875 \r\nL 54.390625 8.296875 \r\nL 54.390625 0 \r\nL 12.40625 0 \r\nz\r\n\" id=\"DejaVuSans-49\"/>\r\n       </defs>\r\n       <use xlink:href=\"#DejaVuSans-49\"/>\r\n       <use x=\"63.623047\" xlink:href=\"#DejaVuSans-48\"/>\r\n       <use x=\"127.246094\" xlink:href=\"#DejaVuSans-48\"/>\r\n      </g>\r\n     </g>\r\n    </g>\r\n    <g id=\"xtick_4\">\r\n     <g id=\"line2d_4\">\r\n      <g>\r\n       <use style=\"stroke:#000000;stroke-width:0.8;\" x=\"276.891897\" xlink:href=\"#m9b0c08ef47\" y=\"224.64\"/>\r\n      </g>\r\n     </g>\r\n     <g id=\"text_4\">\r\n      <!-- 150 -->\r\n      <g transform=\"translate(267.348147 239.238437)scale(0.1 -0.1)\">\r\n       <use xlink:href=\"#DejaVuSans-49\"/>\r\n       <use x=\"63.623047\" xlink:href=\"#DejaVuSans-53\"/>\r\n       <use x=\"127.246094\" xlink:href=\"#DejaVuSans-48\"/>\r\n      </g>\r\n     </g>\r\n    </g>\r\n    <g id=\"xtick_5\">\r\n     <g id=\"line2d_5\">\r\n      <g>\r\n       <use style=\"stroke:#000000;stroke-width:0.8;\" x=\"350.409684\" xlink:href=\"#m9b0c08ef47\" y=\"224.64\"/>\r\n      </g>\r\n     </g>\r\n     <g id=\"text_5\">\r\n      <!-- 200 -->\r\n      <g transform=\"translate(340.865934 239.238437)scale(0.1 -0.1)\">\r\n       <defs>\r\n        <path d=\"M 19.1875 8.296875 \r\nL 53.609375 8.296875 \r\nL 53.609375 0 \r\nL 7.328125 0 \r\nL 7.328125 8.296875 \r\nQ 12.9375 14.109375 22.625 23.890625 \r\nQ 32.328125 33.6875 34.8125 36.53125 \r\nQ 39.546875 41.84375 41.421875 45.53125 \r\nQ 43.3125 49.21875 43.3125 52.78125 \r\nQ 43.3125 58.59375 39.234375 62.25 \r\nQ 35.15625 65.921875 28.609375 65.921875 \r\nQ 23.96875 65.921875 18.8125 64.3125 \r\nQ 13.671875 62.703125 7.8125 59.421875 \r\nL 7.8125 69.390625 \r\nQ 13.765625 71.78125 18.9375 73 \r\nQ 24.125 74.21875 28.421875 74.21875 \r\nQ 39.75 74.21875 46.484375 68.546875 \r\nQ 53.21875 62.890625 53.21875 53.421875 \r\nQ 53.21875 48.921875 51.53125 44.890625 \r\nQ 49.859375 40.875 45.40625 35.40625 \r\nQ 44.1875 33.984375 37.640625 27.21875 \r\nQ 31.109375 20.453125 19.1875 8.296875 \r\nz\r\n\" id=\"DejaVuSans-50\"/>\r\n       </defs>\r\n       <use xlink:href=\"#DejaVuSans-50\"/>\r\n       <use x=\"63.623047\" xlink:href=\"#DejaVuSans-48\"/>\r\n       <use x=\"127.246094\" xlink:href=\"#DejaVuSans-48\"/>\r\n      </g>\r\n     </g>\r\n    </g>\r\n   </g>\r\n   <g id=\"matplotlib.axis_2\">\r\n    <g id=\"ytick_1\">\r\n     <g id=\"line2d_6\">\r\n      <defs>\r\n       <path d=\"M 0 0 \r\nL -3.5 0 \r\n\" id=\"mc135176bcd\" style=\"stroke:#000000;stroke-width:0.8;\"/>\r\n      </defs>\r\n      <g>\r\n       <use style=\"stroke:#000000;stroke-width:0.8;\" x=\"39.65\" xlink:href=\"#mc135176bcd\" y=\"224.64\"/>\r\n      </g>\r\n     </g>\r\n     <g id=\"text_6\">\r\n      <!-- 0 -->\r\n      <g transform=\"translate(26.2875 228.439219)scale(0.1 -0.1)\">\r\n       <use xlink:href=\"#DejaVuSans-48\"/>\r\n      </g>\r\n     </g>\r\n    </g>\r\n    <g id=\"ytick_2\">\r\n     <g id=\"line2d_7\">\r\n      <g>\r\n       <use style=\"stroke:#000000;stroke-width:0.8;\" x=\"39.65\" xlink:href=\"#mc135176bcd\" y=\"176.847313\"/>\r\n      </g>\r\n     </g>\r\n     <g id=\"text_7\">\r\n      <!-- 1000 -->\r\n      <g transform=\"translate(7.2 180.646531)scale(0.1 -0.1)\">\r\n       <use xlink:href=\"#DejaVuSans-49\"/>\r\n       <use x=\"63.623047\" xlink:href=\"#DejaVuSans-48\"/>\r\n       <use x=\"127.246094\" xlink:href=\"#DejaVuSans-48\"/>\r\n       <use x=\"190.869141\" xlink:href=\"#DejaVuSans-48\"/>\r\n      </g>\r\n     </g>\r\n    </g>\r\n    <g id=\"ytick_3\">\r\n     <g id=\"line2d_8\">\r\n      <g>\r\n       <use style=\"stroke:#000000;stroke-width:0.8;\" x=\"39.65\" xlink:href=\"#mc135176bcd\" y=\"129.054625\"/>\r\n      </g>\r\n     </g>\r\n     <g id=\"text_8\">\r\n      <!-- 2000 -->\r\n      <g transform=\"translate(7.2 132.853844)scale(0.1 -0.1)\">\r\n       <use xlink:href=\"#DejaVuSans-50\"/>\r\n       <use x=\"63.623047\" xlink:href=\"#DejaVuSans-48\"/>\r\n       <use x=\"127.246094\" xlink:href=\"#DejaVuSans-48\"/>\r\n       <use x=\"190.869141\" xlink:href=\"#DejaVuSans-48\"/>\r\n      </g>\r\n     </g>\r\n    </g>\r\n    <g id=\"ytick_4\">\r\n     <g id=\"line2d_9\">\r\n      <g>\r\n       <use style=\"stroke:#000000;stroke-width:0.8;\" x=\"39.65\" xlink:href=\"#mc135176bcd\" y=\"81.261938\"/>\r\n      </g>\r\n     </g>\r\n     <g id=\"text_9\">\r\n      <!-- 3000 -->\r\n      <g transform=\"translate(7.2 85.061157)scale(0.1 -0.1)\">\r\n       <defs>\r\n        <path d=\"M 40.578125 39.3125 \r\nQ 47.65625 37.796875 51.625 33 \r\nQ 55.609375 28.21875 55.609375 21.1875 \r\nQ 55.609375 10.40625 48.1875 4.484375 \r\nQ 40.765625 -1.421875 27.09375 -1.421875 \r\nQ 22.515625 -1.421875 17.65625 -0.515625 \r\nQ 12.796875 0.390625 7.625 2.203125 \r\nL 7.625 11.71875 \r\nQ 11.71875 9.328125 16.59375 8.109375 \r\nQ 21.484375 6.890625 26.8125 6.890625 \r\nQ 36.078125 6.890625 40.9375 10.546875 \r\nQ 45.796875 14.203125 45.796875 21.1875 \r\nQ 45.796875 27.640625 41.28125 31.265625 \r\nQ 36.765625 34.90625 28.71875 34.90625 \r\nL 20.21875 34.90625 \r\nL 20.21875 43.015625 \r\nL 29.109375 43.015625 \r\nQ 36.375 43.015625 40.234375 45.921875 \r\nQ 44.09375 48.828125 44.09375 54.296875 \r\nQ 44.09375 59.90625 40.109375 62.90625 \r\nQ 36.140625 65.921875 28.71875 65.921875 \r\nQ 24.65625 65.921875 20.015625 65.03125 \r\nQ 15.375 64.15625 9.8125 62.3125 \r\nL 9.8125 71.09375 \r\nQ 15.4375 72.65625 20.34375 73.4375 \r\nQ 25.25 74.21875 29.59375 74.21875 \r\nQ 40.828125 74.21875 47.359375 69.109375 \r\nQ 53.90625 64.015625 53.90625 55.328125 \r\nQ 53.90625 49.265625 50.4375 45.09375 \r\nQ 46.96875 40.921875 40.578125 39.3125 \r\nz\r\n\" id=\"DejaVuSans-51\"/>\r\n       </defs>\r\n       <use xlink:href=\"#DejaVuSans-51\"/>\r\n       <use x=\"63.623047\" xlink:href=\"#DejaVuSans-48\"/>\r\n       <use x=\"127.246094\" xlink:href=\"#DejaVuSans-48\"/>\r\n       <use x=\"190.869141\" xlink:href=\"#DejaVuSans-48\"/>\r\n      </g>\r\n     </g>\r\n    </g>\r\n    <g id=\"ytick_5\">\r\n     <g id=\"line2d_10\">\r\n      <g>\r\n       <use style=\"stroke:#000000;stroke-width:0.8;\" x=\"39.65\" xlink:href=\"#mc135176bcd\" y=\"33.469251\"/>\r\n      </g>\r\n     </g>\r\n     <g id=\"text_10\">\r\n      <!-- 4000 -->\r\n      <g transform=\"translate(7.2 37.268469)scale(0.1 -0.1)\">\r\n       <defs>\r\n        <path d=\"M 37.796875 64.3125 \r\nL 12.890625 25.390625 \r\nL 37.796875 25.390625 \r\nz\r\nM 35.203125 72.90625 \r\nL 47.609375 72.90625 \r\nL 47.609375 25.390625 \r\nL 58.015625 25.390625 \r\nL 58.015625 17.1875 \r\nL 47.609375 17.1875 \r\nL 47.609375 0 \r\nL 37.796875 0 \r\nL 37.796875 17.1875 \r\nL 4.890625 17.1875 \r\nL 4.890625 26.703125 \r\nz\r\n\" id=\"DejaVuSans-52\"/>\r\n       </defs>\r\n       <use xlink:href=\"#DejaVuSans-52\"/>\r\n       <use x=\"63.623047\" xlink:href=\"#DejaVuSans-48\"/>\r\n       <use x=\"127.246094\" xlink:href=\"#DejaVuSans-48\"/>\r\n       <use x=\"190.869141\" xlink:href=\"#DejaVuSans-48\"/>\r\n      </g>\r\n     </g>\r\n    </g>\r\n   </g>\r\n   <g id=\"patch_203\">\r\n    <path d=\"M 39.65 224.64 \r\nL 39.65 7.2 \r\n\" style=\"fill:none;stroke:#000000;stroke-linecap:square;stroke-linejoin:miter;stroke-width:0.8;\"/>\r\n   </g>\r\n   <g id=\"patch_204\">\r\n    <path d=\"M 374.45 224.64 \r\nL 374.45 7.2 \r\n\" style=\"fill:none;stroke:#000000;stroke-linecap:square;stroke-linejoin:miter;stroke-width:0.8;\"/>\r\n   </g>\r\n   <g id=\"patch_205\">\r\n    <path d=\"M 39.65 224.64 \r\nL 374.45 224.64 \r\n\" style=\"fill:none;stroke:#000000;stroke-linecap:square;stroke-linejoin:miter;stroke-width:0.8;\"/>\r\n   </g>\r\n   <g id=\"patch_206\">\r\n    <path d=\"M 39.65 7.2 \r\nL 374.45 7.2 \r\n\" style=\"fill:none;stroke:#000000;stroke-linecap:square;stroke-linejoin:miter;stroke-width:0.8;\"/>\r\n   </g>\r\n  </g>\r\n </g>\r\n <defs>\r\n  <clipPath id=\"p2c4f240e61\">\r\n   <rect height=\"217.44\" width=\"334.8\" x=\"39.65\" y=\"7.2\"/>\r\n  </clipPath>\r\n </defs>\r\n</svg>\r\n",
      "image/png": "[encoded data removed]"
     },
     "metadata": {
      "needs_background": "light"
     }
    },
    {
     "output_type": "stream",
     "name": "stdout",
     "text": [
      "Number of patients with specific duration of admissions in days : \n 4      4333\n2      4216\n3      3478\n5      3119\n6      2739\n       ... \n121       1\n151       1\n163       1\n169       1\n202       1\nName: ELAPSED_DAYS, Length: 156, dtype: int64\n"
     ]
    }
   ],
   "source": [
    "#We now add a new column with the duration of each stay.\n",
    "adm_1=adm_1.copy()\n",
    "adm_1['ADMITTIME']=pd.to_datetime(adm_1[\"ADMITTIME\"], format='%Y-%m-%d %H:%M:%S')\n",
    "adm_1['DISCHTIME']=pd.to_datetime(adm_1[\"DISCHTIME\"], format='%Y-%m-%d %H:%M:%S')\n",
    "\n",
    "adm_1[\"ELAPSED_TIME\"]=adm_1[\"DISCHTIME\"]-adm_1[\"ADMITTIME\"]\n",
    "adm_1.head()\n",
    "adm_1[\"ELAPSED_DAYS\"]=adm_1[\"ELAPSED_TIME\"].dt.days #Elapsed time in days in ICU\n",
    "plt.hist(adm_1[\"ELAPSED_DAYS\"],bins=200)\n",
    "plt.show()\n",
    "print(\"Number of patients with specific duration of admissions in days : \\n\",adm_1[\"ELAPSED_DAYS\"].value_counts())"
   ]
  },
  {
   "cell_type": "code",
   "execution_count": 8,
   "metadata": {},
   "outputs": [
    {
     "output_type": "display_data",
     "data": {
      "text/plain": "<Figure size 432x288 with 1 Axes>",
      "image/svg+xml": "<?xml version=\"1.0\" encoding=\"utf-8\" standalone=\"no\"?>\r\n<!DOCTYPE svg PUBLIC \"-//W3C//DTD SVG 1.1//EN\"\r\n  \"http://www.w3.org/Graphics/SVG/1.1/DTD/svg11.dtd\">\r\n<!-- Created with matplotlib (https://matplotlib.org/) -->\r\n<svg height=\"279.427812pt\" version=\"1.1\" viewBox=\"0 0 385.78125 279.427812\" width=\"385.78125pt\" xmlns=\"http://www.w3.org/2000/svg\" xmlns:xlink=\"http://www.w3.org/1999/xlink\">\r\n <metadata>\r\n  <rdf:RDF xmlns:cc=\"http://creativecommons.org/ns#\" xmlns:dc=\"http://purl.org/dc/elements/1.1/\" xmlns:rdf=\"http://www.w3.org/1999/02/22-rdf-syntax-ns#\">\r\n   <cc:Work>\r\n    <dc:type rdf:resource=\"http://purl.org/dc/dcmitype/StillImage\"/>\r\n    <dc:date>2021-01-17T02:35:18.103360</dc:date>\r\n    <dc:format>image/svg+xml</dc:format>\r\n    <dc:creator>\r\n     <cc:Agent>\r\n      <dc:title>Matplotlib v3.3.2, https://matplotlib.org/</dc:title>\r\n     </cc:Agent>\r\n    </dc:creator>\r\n   </cc:Work>\r\n  </rdf:RDF>\r\n </metadata>\r\n <defs>\r\n  <style type=\"text/css\">*{stroke-linecap:butt;stroke-linejoin:round;}</style>\r\n </defs>\r\n <g id=\"figure_1\">\r\n  <g id=\"patch_1\">\r\n   <path d=\"M 0 279.427812 \r\nL 385.78125 279.427812 \r\nL 385.78125 0 \r\nL 0 0 \r\nz\r\n\" style=\"fill:none;\"/>\r\n  </g>\r\n  <g id=\"axes_1\">\r\n   <g id=\"patch_2\">\r\n    <path d=\"M 43.78125 241.871562 \r\nL 378.58125 241.871562 \r\nL 378.58125 24.431562 \r\nL 43.78125 24.431562 \r\nz\r\n\" style=\"fill:#ffffff;\"/>\r\n   </g>\r\n   <g id=\"matplotlib.axis_1\">\r\n    <g id=\"xtick_1\">\r\n     <g id=\"line2d_1\">\r\n      <defs>\r\n       <path d=\"M 0 0 \r\nL 0 3.5 \r\n\" id=\"m8eb4e28338\" style=\"stroke:#000000;stroke-width:0.8;\"/>\r\n      </defs>\r\n      <g>\r\n       <use style=\"stroke:#000000;stroke-width:0.8;\" x=\"60.469788\" xlink:href=\"#m8eb4e28338\" y=\"241.871562\"/>\r\n      </g>\r\n     </g>\r\n     <g id=\"text_1\">\r\n      <!-- 0 -->\r\n      <g transform=\"translate(57.288538 256.47)scale(0.1 -0.1)\">\r\n       <defs>\r\n        <path d=\"M 31.78125 66.40625 \r\nQ 24.171875 66.40625 20.328125 58.90625 \r\nQ 16.5 51.421875 16.5 36.375 \r\nQ 16.5 21.390625 20.328125 13.890625 \r\nQ 24.171875 6.390625 31.78125 6.390625 \r\nQ 39.453125 6.390625 43.28125 13.890625 \r\nQ 47.125 21.390625 47.125 36.375 \r\nQ 47.125 51.421875 43.28125 58.90625 \r\nQ 39.453125 66.40625 31.78125 66.40625 \r\nz\r\nM 31.78125 74.21875 \r\nQ 44.046875 74.21875 50.515625 64.515625 \r\nQ 56.984375 54.828125 56.984375 36.375 \r\nQ 56.984375 17.96875 50.515625 8.265625 \r\nQ 44.046875 -1.421875 31.78125 -1.421875 \r\nQ 19.53125 -1.421875 13.0625 8.265625 \r\nQ 6.59375 17.96875 6.59375 36.375 \r\nQ 6.59375 54.828125 13.0625 64.515625 \r\nQ 19.53125 74.21875 31.78125 74.21875 \r\nz\r\n\" id=\"DejaVuSans-48\"/>\r\n       </defs>\r\n       <use xlink:href=\"#DejaVuSans-48\"/>\r\n      </g>\r\n     </g>\r\n    </g>\r\n    <g id=\"xtick_2\">\r\n     <g id=\"line2d_2\">\r\n      <g>\r\n       <use style=\"stroke:#000000;stroke-width:0.8;\" x=\"133.987574\" xlink:href=\"#m8eb4e28338\" y=\"241.871562\"/>\r\n      </g>\r\n     </g>\r\n     <g id=\"text_2\">\r\n      <!-- 50 -->\r\n      <g transform=\"translate(127.625074 256.47)scale(0.1 -0.1)\">\r\n       <defs>\r\n        <path d=\"M 10.796875 72.90625 \r\nL 49.515625 72.90625 \r\nL 49.515625 64.59375 \r\nL 19.828125 64.59375 \r\nL 19.828125 46.734375 \r\nQ 21.96875 47.46875 24.109375 47.828125 \r\nQ 26.265625 48.1875 28.421875 48.1875 \r\nQ 40.625 48.1875 47.75 41.5 \r\nQ 54.890625 34.8125 54.890625 23.390625 \r\nQ 54.890625 11.625 47.5625 5.09375 \r\nQ 40.234375 -1.421875 26.90625 -1.421875 \r\nQ 22.3125 -1.421875 17.546875 -0.640625 \r\nQ 12.796875 0.140625 7.71875 1.703125 \r\nL 7.71875 11.625 \r\nQ 12.109375 9.234375 16.796875 8.0625 \r\nQ 21.484375 6.890625 26.703125 6.890625 \r\nQ 35.15625 6.890625 40.078125 11.328125 \r\nQ 45.015625 15.765625 45.015625 23.390625 \r\nQ 45.015625 31 40.078125 35.4375 \r\nQ 35.15625 39.890625 26.703125 39.890625 \r\nQ 22.75 39.890625 18.8125 39.015625 \r\nQ 14.890625 38.140625 10.796875 36.28125 \r\nz\r\n\" id=\"DejaVuSans-53\"/>\r\n       </defs>\r\n       <use xlink:href=\"#DejaVuSans-53\"/>\r\n       <use x=\"63.623047\" xlink:href=\"#DejaVuSans-48\"/>\r\n      </g>\r\n     </g>\r\n    </g>\r\n    <g id=\"xtick_3\">\r\n     <g id=\"line2d_3\">\r\n      <g>\r\n       <use style=\"stroke:#000000;stroke-width:0.8;\" x=\"207.505361\" xlink:href=\"#m8eb4e28338\" y=\"241.871562\"/>\r\n      </g>\r\n     </g>\r\n     <g id=\"text_3\">\r\n      <!-- 100 -->\r\n      <g transform=\"translate(197.961611 256.47)scale(0.1 -0.1)\">\r\n       <defs>\r\n        <path d=\"M 12.40625 8.296875 \r\nL 28.515625 8.296875 \r\nL 28.515625 63.921875 \r\nL 10.984375 60.40625 \r\nL 10.984375 69.390625 \r\nL 28.421875 72.90625 \r\nL 38.28125 72.90625 \r\nL 38.28125 8.296875 \r\nL 54.390625 8.296875 \r\nL 54.390625 0 \r\nL 12.40625 0 \r\nz\r\n\" id=\"DejaVuSans-49\"/>\r\n       </defs>\r\n       <use xlink:href=\"#DejaVuSans-49\"/>\r\n       <use x=\"63.623047\" xlink:href=\"#DejaVuSans-48\"/>\r\n       <use x=\"127.246094\" xlink:href=\"#DejaVuSans-48\"/>\r\n      </g>\r\n     </g>\r\n    </g>\r\n    <g id=\"xtick_4\">\r\n     <g id=\"line2d_4\">\r\n      <g>\r\n       <use style=\"stroke:#000000;stroke-width:0.8;\" x=\"281.023147\" xlink:href=\"#m8eb4e28338\" y=\"241.871562\"/>\r\n      </g>\r\n     </g>\r\n     <g id=\"text_4\">\r\n      <!-- 150 -->\r\n      <g transform=\"translate(271.479397 256.47)scale(0.1 -0.1)\">\r\n       <use xlink:href=\"#DejaVuSans-49\"/>\r\n       <use x=\"63.623047\" xlink:href=\"#DejaVuSans-53\"/>\r\n       <use x=\"127.246094\" xlink:href=\"#DejaVuSans-48\"/>\r\n      </g>\r\n     </g>\r\n    </g>\r\n    <g id=\"xtick_5\">\r\n     <g id=\"line2d_5\">\r\n      <g>\r\n       <use style=\"stroke:#000000;stroke-width:0.8;\" x=\"354.540934\" xlink:href=\"#m8eb4e28338\" y=\"241.871562\"/>\r\n      </g>\r\n     </g>\r\n     <g id=\"text_5\">\r\n      <!-- 200 -->\r\n      <g transform=\"translate(344.997184 256.47)scale(0.1 -0.1)\">\r\n       <defs>\r\n        <path d=\"M 19.1875 8.296875 \r\nL 53.609375 8.296875 \r\nL 53.609375 0 \r\nL 7.328125 0 \r\nL 7.328125 8.296875 \r\nQ 12.9375 14.109375 22.625 23.890625 \r\nQ 32.328125 33.6875 34.8125 36.53125 \r\nQ 39.546875 41.84375 41.421875 45.53125 \r\nQ 43.3125 49.21875 43.3125 52.78125 \r\nQ 43.3125 58.59375 39.234375 62.25 \r\nQ 35.15625 65.921875 28.609375 65.921875 \r\nQ 23.96875 65.921875 18.8125 64.3125 \r\nQ 13.671875 62.703125 7.8125 59.421875 \r\nL 7.8125 69.390625 \r\nQ 13.765625 71.78125 18.9375 73 \r\nQ 24.125 74.21875 28.421875 74.21875 \r\nQ 39.75 74.21875 46.484375 68.546875 \r\nQ 53.21875 62.890625 53.21875 53.421875 \r\nQ 53.21875 48.921875 51.53125 44.890625 \r\nQ 49.859375 40.875 45.40625 35.40625 \r\nQ 44.1875 33.984375 37.640625 27.21875 \r\nQ 31.109375 20.453125 19.1875 8.296875 \r\nz\r\n\" id=\"DejaVuSans-50\"/>\r\n       </defs>\r\n       <use xlink:href=\"#DejaVuSans-50\"/>\r\n       <use x=\"63.623047\" xlink:href=\"#DejaVuSans-48\"/>\r\n       <use x=\"127.246094\" xlink:href=\"#DejaVuSans-48\"/>\r\n      </g>\r\n     </g>\r\n    </g>\r\n    <g id=\"text_6\">\r\n     <!-- Duration in days -->\r\n     <g transform=\"translate(169.927344 270.148125)scale(0.1 -0.1)\">\r\n      <defs>\r\n       <path d=\"M 19.671875 64.796875 \r\nL 19.671875 8.109375 \r\nL 31.59375 8.109375 \r\nQ 46.6875 8.109375 53.6875 14.9375 \r\nQ 60.6875 21.78125 60.6875 36.53125 \r\nQ 60.6875 51.171875 53.6875 57.984375 \r\nQ 46.6875 64.796875 31.59375 64.796875 \r\nz\r\nM 9.8125 72.90625 \r\nL 30.078125 72.90625 \r\nQ 51.265625 72.90625 61.171875 64.09375 \r\nQ 71.09375 55.28125 71.09375 36.53125 \r\nQ 71.09375 17.671875 61.125 8.828125 \r\nQ 51.171875 0 30.078125 0 \r\nL 9.8125 0 \r\nz\r\n\" id=\"DejaVuSans-68\"/>\r\n       <path d=\"M 8.5 21.578125 \r\nL 8.5 54.6875 \r\nL 17.484375 54.6875 \r\nL 17.484375 21.921875 \r\nQ 17.484375 14.15625 20.5 10.265625 \r\nQ 23.53125 6.390625 29.59375 6.390625 \r\nQ 36.859375 6.390625 41.078125 11.03125 \r\nQ 45.3125 15.671875 45.3125 23.6875 \r\nL 45.3125 54.6875 \r\nL 54.296875 54.6875 \r\nL 54.296875 0 \r\nL 45.3125 0 \r\nL 45.3125 8.40625 \r\nQ 42.046875 3.421875 37.71875 1 \r\nQ 33.40625 -1.421875 27.6875 -1.421875 \r\nQ 18.265625 -1.421875 13.375 4.4375 \r\nQ 8.5 10.296875 8.5 21.578125 \r\nz\r\nM 31.109375 56 \r\nz\r\n\" id=\"DejaVuSans-117\"/>\r\n       <path d=\"M 41.109375 46.296875 \r\nQ 39.59375 47.171875 37.8125 47.578125 \r\nQ 36.03125 48 33.890625 48 \r\nQ 26.265625 48 22.1875 43.046875 \r\nQ 18.109375 38.09375 18.109375 28.8125 \r\nL 18.109375 0 \r\nL 9.078125 0 \r\nL 9.078125 54.6875 \r\nL 18.109375 54.6875 \r\nL 18.109375 46.1875 \r\nQ 20.953125 51.171875 25.484375 53.578125 \r\nQ 30.03125 56 36.53125 56 \r\nQ 37.453125 56 38.578125 55.875 \r\nQ 39.703125 55.765625 41.0625 55.515625 \r\nz\r\n\" id=\"DejaVuSans-114\"/>\r\n       <path d=\"M 34.28125 27.484375 \r\nQ 23.390625 27.484375 19.1875 25 \r\nQ 14.984375 22.515625 14.984375 16.5 \r\nQ 14.984375 11.71875 18.140625 8.90625 \r\nQ 21.296875 6.109375 26.703125 6.109375 \r\nQ 34.1875 6.109375 38.703125 11.40625 \r\nQ 43.21875 16.703125 43.21875 25.484375 \r\nL 43.21875 27.484375 \r\nz\r\nM 52.203125 31.203125 \r\nL 52.203125 0 \r\nL 43.21875 0 \r\nL 43.21875 8.296875 \r\nQ 40.140625 3.328125 35.546875 0.953125 \r\nQ 30.953125 -1.421875 24.3125 -1.421875 \r\nQ 15.921875 -1.421875 10.953125 3.296875 \r\nQ 6 8.015625 6 15.921875 \r\nQ 6 25.140625 12.171875 29.828125 \r\nQ 18.359375 34.515625 30.609375 34.515625 \r\nL 43.21875 34.515625 \r\nL 43.21875 35.40625 \r\nQ 43.21875 41.609375 39.140625 45 \r\nQ 35.0625 48.390625 27.6875 48.390625 \r\nQ 23 48.390625 18.546875 47.265625 \r\nQ 14.109375 46.140625 10.015625 43.890625 \r\nL 10.015625 52.203125 \r\nQ 14.9375 54.109375 19.578125 55.046875 \r\nQ 24.21875 56 28.609375 56 \r\nQ 40.484375 56 46.34375 49.84375 \r\nQ 52.203125 43.703125 52.203125 31.203125 \r\nz\r\n\" id=\"DejaVuSans-97\"/>\r\n       <path d=\"M 18.3125 70.21875 \r\nL 18.3125 54.6875 \r\nL 36.8125 54.6875 \r\nL 36.8125 47.703125 \r\nL 18.3125 47.703125 \r\nL 18.3125 18.015625 \r\nQ 18.3125 11.328125 20.140625 9.421875 \r\nQ 21.96875 7.515625 27.59375 7.515625 \r\nL 36.8125 7.515625 \r\nL 36.8125 0 \r\nL 27.59375 0 \r\nQ 17.1875 0 13.234375 3.875 \r\nQ 9.28125 7.765625 9.28125 18.015625 \r\nL 9.28125 47.703125 \r\nL 2.6875 47.703125 \r\nL 2.6875 54.6875 \r\nL 9.28125 54.6875 \r\nL 9.28125 70.21875 \r\nz\r\n\" id=\"DejaVuSans-116\"/>\r\n       <path d=\"M 9.421875 54.6875 \r\nL 18.40625 54.6875 \r\nL 18.40625 0 \r\nL 9.421875 0 \r\nz\r\nM 9.421875 75.984375 \r\nL 18.40625 75.984375 \r\nL 18.40625 64.59375 \r\nL 9.421875 64.59375 \r\nz\r\n\" id=\"DejaVuSans-105\"/>\r\n       <path d=\"M 30.609375 48.390625 \r\nQ 23.390625 48.390625 19.1875 42.75 \r\nQ 14.984375 37.109375 14.984375 27.296875 \r\nQ 14.984375 17.484375 19.15625 11.84375 \r\nQ 23.34375 6.203125 30.609375 6.203125 \r\nQ 37.796875 6.203125 41.984375 11.859375 \r\nQ 46.1875 17.53125 46.1875 27.296875 \r\nQ 46.1875 37.015625 41.984375 42.703125 \r\nQ 37.796875 48.390625 30.609375 48.390625 \r\nz\r\nM 30.609375 56 \r\nQ 42.328125 56 49.015625 48.375 \r\nQ 55.71875 40.765625 55.71875 27.296875 \r\nQ 55.71875 13.875 49.015625 6.21875 \r\nQ 42.328125 -1.421875 30.609375 -1.421875 \r\nQ 18.84375 -1.421875 12.171875 6.21875 \r\nQ 5.515625 13.875 5.515625 27.296875 \r\nQ 5.515625 40.765625 12.171875 48.375 \r\nQ 18.84375 56 30.609375 56 \r\nz\r\n\" id=\"DejaVuSans-111\"/>\r\n       <path d=\"M 54.890625 33.015625 \r\nL 54.890625 0 \r\nL 45.90625 0 \r\nL 45.90625 32.71875 \r\nQ 45.90625 40.484375 42.875 44.328125 \r\nQ 39.84375 48.1875 33.796875 48.1875 \r\nQ 26.515625 48.1875 22.3125 43.546875 \r\nQ 18.109375 38.921875 18.109375 30.90625 \r\nL 18.109375 0 \r\nL 9.078125 0 \r\nL 9.078125 54.6875 \r\nL 18.109375 54.6875 \r\nL 18.109375 46.1875 \r\nQ 21.34375 51.125 25.703125 53.5625 \r\nQ 30.078125 56 35.796875 56 \r\nQ 45.21875 56 50.046875 50.171875 \r\nQ 54.890625 44.34375 54.890625 33.015625 \r\nz\r\n\" id=\"DejaVuSans-110\"/>\r\n       <path id=\"DejaVuSans-32\"/>\r\n       <path d=\"M 45.40625 46.390625 \r\nL 45.40625 75.984375 \r\nL 54.390625 75.984375 \r\nL 54.390625 0 \r\nL 45.40625 0 \r\nL 45.40625 8.203125 \r\nQ 42.578125 3.328125 38.25 0.953125 \r\nQ 33.9375 -1.421875 27.875 -1.421875 \r\nQ 17.96875 -1.421875 11.734375 6.484375 \r\nQ 5.515625 14.40625 5.515625 27.296875 \r\nQ 5.515625 40.1875 11.734375 48.09375 \r\nQ 17.96875 56 27.875 56 \r\nQ 33.9375 56 38.25 53.625 \r\nQ 42.578125 51.265625 45.40625 46.390625 \r\nz\r\nM 14.796875 27.296875 \r\nQ 14.796875 17.390625 18.875 11.75 \r\nQ 22.953125 6.109375 30.078125 6.109375 \r\nQ 37.203125 6.109375 41.296875 11.75 \r\nQ 45.40625 17.390625 45.40625 27.296875 \r\nQ 45.40625 37.203125 41.296875 42.84375 \r\nQ 37.203125 48.484375 30.078125 48.484375 \r\nQ 22.953125 48.484375 18.875 42.84375 \r\nQ 14.796875 37.203125 14.796875 27.296875 \r\nz\r\n\" id=\"DejaVuSans-100\"/>\r\n       <path d=\"M 32.171875 -5.078125 \r\nQ 28.375 -14.84375 24.75 -17.8125 \r\nQ 21.140625 -20.796875 15.09375 -20.796875 \r\nL 7.90625 -20.796875 \r\nL 7.90625 -13.28125 \r\nL 13.1875 -13.28125 \r\nQ 16.890625 -13.28125 18.9375 -11.515625 \r\nQ 21 -9.765625 23.484375 -3.21875 \r\nL 25.09375 0.875 \r\nL 2.984375 54.6875 \r\nL 12.5 54.6875 \r\nL 29.59375 11.921875 \r\nL 46.6875 54.6875 \r\nL 56.203125 54.6875 \r\nz\r\n\" id=\"DejaVuSans-121\"/>\r\n       <path d=\"M 44.28125 53.078125 \r\nL 44.28125 44.578125 \r\nQ 40.484375 46.53125 36.375 47.5 \r\nQ 32.28125 48.484375 27.875 48.484375 \r\nQ 21.1875 48.484375 17.84375 46.4375 \r\nQ 14.5 44.390625 14.5 40.28125 \r\nQ 14.5 37.15625 16.890625 35.375 \r\nQ 19.28125 33.59375 26.515625 31.984375 \r\nL 29.59375 31.296875 \r\nQ 39.15625 29.25 43.1875 25.515625 \r\nQ 47.21875 21.78125 47.21875 15.09375 \r\nQ 47.21875 7.46875 41.1875 3.015625 \r\nQ 35.15625 -1.421875 24.609375 -1.421875 \r\nQ 20.21875 -1.421875 15.453125 -0.5625 \r\nQ 10.6875 0.296875 5.421875 2 \r\nL 5.421875 11.28125 \r\nQ 10.40625 8.6875 15.234375 7.390625 \r\nQ 20.0625 6.109375 24.8125 6.109375 \r\nQ 31.15625 6.109375 34.5625 8.28125 \r\nQ 37.984375 10.453125 37.984375 14.40625 \r\nQ 37.984375 18.0625 35.515625 20.015625 \r\nQ 33.0625 21.96875 24.703125 23.78125 \r\nL 21.578125 24.515625 \r\nQ 13.234375 26.265625 9.515625 29.90625 \r\nQ 5.8125 33.546875 5.8125 39.890625 \r\nQ 5.8125 47.609375 11.28125 51.796875 \r\nQ 16.75 56 26.8125 56 \r\nQ 31.78125 56 36.171875 55.265625 \r\nQ 40.578125 54.546875 44.28125 53.078125 \r\nz\r\n\" id=\"DejaVuSans-115\"/>\r\n      </defs>\r\n      <use xlink:href=\"#DejaVuSans-68\"/>\r\n      <use x=\"77.001953\" xlink:href=\"#DejaVuSans-117\"/>\r\n      <use x=\"140.380859\" xlink:href=\"#DejaVuSans-114\"/>\r\n      <use x=\"181.494141\" xlink:href=\"#DejaVuSans-97\"/>\r\n      <use x=\"242.773438\" xlink:href=\"#DejaVuSans-116\"/>\r\n      <use x=\"281.982422\" xlink:href=\"#DejaVuSans-105\"/>\r\n      <use x=\"309.765625\" xlink:href=\"#DejaVuSans-111\"/>\r\n      <use x=\"370.947266\" xlink:href=\"#DejaVuSans-110\"/>\r\n      <use x=\"434.326172\" xlink:href=\"#DejaVuSans-32\"/>\r\n      <use x=\"466.113281\" xlink:href=\"#DejaVuSans-105\"/>\r\n      <use x=\"493.896484\" xlink:href=\"#DejaVuSans-110\"/>\r\n      <use x=\"557.275391\" xlink:href=\"#DejaVuSans-32\"/>\r\n      <use x=\"589.0625\" xlink:href=\"#DejaVuSans-100\"/>\r\n      <use x=\"652.539062\" xlink:href=\"#DejaVuSans-97\"/>\r\n      <use x=\"713.818359\" xlink:href=\"#DejaVuSans-121\"/>\r\n      <use x=\"772.998047\" xlink:href=\"#DejaVuSans-115\"/>\r\n     </g>\r\n    </g>\r\n   </g>\r\n   <g id=\"matplotlib.axis_2\">\r\n    <g id=\"ytick_1\">\r\n     <g id=\"line2d_6\">\r\n      <defs>\r\n       <path d=\"M 0 0 \r\nL -3.5 0 \r\n\" id=\"mc12dfb2f19\" style=\"stroke:#000000;stroke-width:0.8;\"/>\r\n      </defs>\r\n      <g>\r\n       <use style=\"stroke:#000000;stroke-width:0.8;\" x=\"43.78125\" xlink:href=\"#mc12dfb2f19\" y=\"231.987926\"/>\r\n      </g>\r\n     </g>\r\n     <g id=\"text_7\">\r\n      <!-- 0.0 -->\r\n      <g transform=\"translate(20.878125 235.787145)scale(0.1 -0.1)\">\r\n       <defs>\r\n        <path d=\"M 10.6875 12.40625 \r\nL 21 12.40625 \r\nL 21 0 \r\nL 10.6875 0 \r\nz\r\n\" id=\"DejaVuSans-46\"/>\r\n       </defs>\r\n       <use xlink:href=\"#DejaVuSans-48\"/>\r\n       <use x=\"63.623047\" xlink:href=\"#DejaVuSans-46\"/>\r\n       <use x=\"95.410156\" xlink:href=\"#DejaVuSans-48\"/>\r\n      </g>\r\n     </g>\r\n    </g>\r\n    <g id=\"ytick_2\">\r\n     <g id=\"line2d_7\">\r\n      <g>\r\n       <use style=\"stroke:#000000;stroke-width:0.8;\" x=\"43.78125\" xlink:href=\"#mc12dfb2f19\" y=\"192.453381\"/>\r\n      </g>\r\n     </g>\r\n     <g id=\"text_8\">\r\n      <!-- 0.2 -->\r\n      <g transform=\"translate(20.878125 196.252599)scale(0.1 -0.1)\">\r\n       <use xlink:href=\"#DejaVuSans-48\"/>\r\n       <use x=\"63.623047\" xlink:href=\"#DejaVuSans-46\"/>\r\n       <use x=\"95.410156\" xlink:href=\"#DejaVuSans-50\"/>\r\n      </g>\r\n     </g>\r\n    </g>\r\n    <g id=\"ytick_3\">\r\n     <g id=\"line2d_8\">\r\n      <g>\r\n       <use style=\"stroke:#000000;stroke-width:0.8;\" x=\"43.78125\" xlink:href=\"#mc12dfb2f19\" y=\"152.918835\"/>\r\n      </g>\r\n     </g>\r\n     <g id=\"text_9\">\r\n      <!-- 0.4 -->\r\n      <g transform=\"translate(20.878125 156.718054)scale(0.1 -0.1)\">\r\n       <defs>\r\n        <path d=\"M 37.796875 64.3125 \r\nL 12.890625 25.390625 \r\nL 37.796875 25.390625 \r\nz\r\nM 35.203125 72.90625 \r\nL 47.609375 72.90625 \r\nL 47.609375 25.390625 \r\nL 58.015625 25.390625 \r\nL 58.015625 17.1875 \r\nL 47.609375 17.1875 \r\nL 47.609375 0 \r\nL 37.796875 0 \r\nL 37.796875 17.1875 \r\nL 4.890625 17.1875 \r\nL 4.890625 26.703125 \r\nz\r\n\" id=\"DejaVuSans-52\"/>\r\n       </defs>\r\n       <use xlink:href=\"#DejaVuSans-48\"/>\r\n       <use x=\"63.623047\" xlink:href=\"#DejaVuSans-46\"/>\r\n       <use x=\"95.410156\" xlink:href=\"#DejaVuSans-52\"/>\r\n      </g>\r\n     </g>\r\n    </g>\r\n    <g id=\"ytick_4\">\r\n     <g id=\"line2d_9\">\r\n      <g>\r\n       <use style=\"stroke:#000000;stroke-width:0.8;\" x=\"43.78125\" xlink:href=\"#mc12dfb2f19\" y=\"113.38429\"/>\r\n      </g>\r\n     </g>\r\n     <g id=\"text_10\">\r\n      <!-- 0.6 -->\r\n      <g transform=\"translate(20.878125 117.183509)scale(0.1 -0.1)\">\r\n       <defs>\r\n        <path d=\"M 33.015625 40.375 \r\nQ 26.375 40.375 22.484375 35.828125 \r\nQ 18.609375 31.296875 18.609375 23.390625 \r\nQ 18.609375 15.53125 22.484375 10.953125 \r\nQ 26.375 6.390625 33.015625 6.390625 \r\nQ 39.65625 6.390625 43.53125 10.953125 \r\nQ 47.40625 15.53125 47.40625 23.390625 \r\nQ 47.40625 31.296875 43.53125 35.828125 \r\nQ 39.65625 40.375 33.015625 40.375 \r\nz\r\nM 52.59375 71.296875 \r\nL 52.59375 62.3125 \r\nQ 48.875 64.0625 45.09375 64.984375 \r\nQ 41.3125 65.921875 37.59375 65.921875 \r\nQ 27.828125 65.921875 22.671875 59.328125 \r\nQ 17.53125 52.734375 16.796875 39.40625 \r\nQ 19.671875 43.65625 24.015625 45.921875 \r\nQ 28.375 48.1875 33.59375 48.1875 \r\nQ 44.578125 48.1875 50.953125 41.515625 \r\nQ 57.328125 34.859375 57.328125 23.390625 \r\nQ 57.328125 12.15625 50.6875 5.359375 \r\nQ 44.046875 -1.421875 33.015625 -1.421875 \r\nQ 20.359375 -1.421875 13.671875 8.265625 \r\nQ 6.984375 17.96875 6.984375 36.375 \r\nQ 6.984375 53.65625 15.1875 63.9375 \r\nQ 23.390625 74.21875 37.203125 74.21875 \r\nQ 40.921875 74.21875 44.703125 73.484375 \r\nQ 48.484375 72.75 52.59375 71.296875 \r\nz\r\n\" id=\"DejaVuSans-54\"/>\r\n       </defs>\r\n       <use xlink:href=\"#DejaVuSans-48\"/>\r\n       <use x=\"63.623047\" xlink:href=\"#DejaVuSans-46\"/>\r\n       <use x=\"95.410156\" xlink:href=\"#DejaVuSans-54\"/>\r\n      </g>\r\n     </g>\r\n    </g>\r\n    <g id=\"ytick_5\">\r\n     <g id=\"line2d_10\">\r\n      <g>\r\n       <use style=\"stroke:#000000;stroke-width:0.8;\" x=\"43.78125\" xlink:href=\"#mc12dfb2f19\" y=\"73.849744\"/>\r\n      </g>\r\n     </g>\r\n     <g id=\"text_11\">\r\n      <!-- 0.8 -->\r\n      <g transform=\"translate(20.878125 77.648963)scale(0.1 -0.1)\">\r\n       <defs>\r\n        <path d=\"M 31.78125 34.625 \r\nQ 24.75 34.625 20.71875 30.859375 \r\nQ 16.703125 27.09375 16.703125 20.515625 \r\nQ 16.703125 13.921875 20.71875 10.15625 \r\nQ 24.75 6.390625 31.78125 6.390625 \r\nQ 38.8125 6.390625 42.859375 10.171875 \r\nQ 46.921875 13.96875 46.921875 20.515625 \r\nQ 46.921875 27.09375 42.890625 30.859375 \r\nQ 38.875 34.625 31.78125 34.625 \r\nz\r\nM 21.921875 38.8125 \r\nQ 15.578125 40.375 12.03125 44.71875 \r\nQ 8.5 49.078125 8.5 55.328125 \r\nQ 8.5 64.0625 14.71875 69.140625 \r\nQ 20.953125 74.21875 31.78125 74.21875 \r\nQ 42.671875 74.21875 48.875 69.140625 \r\nQ 55.078125 64.0625 55.078125 55.328125 \r\nQ 55.078125 49.078125 51.53125 44.71875 \r\nQ 48 40.375 41.703125 38.8125 \r\nQ 48.828125 37.15625 52.796875 32.3125 \r\nQ 56.78125 27.484375 56.78125 20.515625 \r\nQ 56.78125 9.90625 50.3125 4.234375 \r\nQ 43.84375 -1.421875 31.78125 -1.421875 \r\nQ 19.734375 -1.421875 13.25 4.234375 \r\nQ 6.78125 9.90625 6.78125 20.515625 \r\nQ 6.78125 27.484375 10.78125 32.3125 \r\nQ 14.796875 37.15625 21.921875 38.8125 \r\nz\r\nM 18.3125 54.390625 \r\nQ 18.3125 48.734375 21.84375 45.5625 \r\nQ 25.390625 42.390625 31.78125 42.390625 \r\nQ 38.140625 42.390625 41.71875 45.5625 \r\nQ 45.3125 48.734375 45.3125 54.390625 \r\nQ 45.3125 60.0625 41.71875 63.234375 \r\nQ 38.140625 66.40625 31.78125 66.40625 \r\nQ 25.390625 66.40625 21.84375 63.234375 \r\nQ 18.3125 60.0625 18.3125 54.390625 \r\nz\r\n\" id=\"DejaVuSans-56\"/>\r\n       </defs>\r\n       <use xlink:href=\"#DejaVuSans-48\"/>\r\n       <use x=\"63.623047\" xlink:href=\"#DejaVuSans-46\"/>\r\n       <use x=\"95.410156\" xlink:href=\"#DejaVuSans-56\"/>\r\n      </g>\r\n     </g>\r\n    </g>\r\n    <g id=\"ytick_6\">\r\n     <g id=\"line2d_11\">\r\n      <g>\r\n       <use style=\"stroke:#000000;stroke-width:0.8;\" x=\"43.78125\" xlink:href=\"#mc12dfb2f19\" y=\"34.315199\"/>\r\n      </g>\r\n     </g>\r\n     <g id=\"text_12\">\r\n      <!-- 1.0 -->\r\n      <g transform=\"translate(20.878125 38.114418)scale(0.1 -0.1)\">\r\n       <use xlink:href=\"#DejaVuSans-49\"/>\r\n       <use x=\"63.623047\" xlink:href=\"#DejaVuSans-46\"/>\r\n       <use x=\"95.410156\" xlink:href=\"#DejaVuSans-48\"/>\r\n      </g>\r\n     </g>\r\n    </g>\r\n    <g id=\"text_13\">\r\n     <!-- Death rate (Number of deaths/Nunber of patients) -->\r\n     <g transform=\"translate(14.798438 259.103125)rotate(-90)scale(0.1 -0.1)\">\r\n      <defs>\r\n       <path d=\"M 56.203125 29.59375 \r\nL 56.203125 25.203125 \r\nL 14.890625 25.203125 \r\nQ 15.484375 15.921875 20.484375 11.0625 \r\nQ 25.484375 6.203125 34.421875 6.203125 \r\nQ 39.59375 6.203125 44.453125 7.46875 \r\nQ 49.3125 8.734375 54.109375 11.28125 \r\nL 54.109375 2.78125 \r\nQ 49.265625 0.734375 44.1875 -0.34375 \r\nQ 39.109375 -1.421875 33.890625 -1.421875 \r\nQ 20.796875 -1.421875 13.15625 6.1875 \r\nQ 5.515625 13.8125 5.515625 26.8125 \r\nQ 5.515625 40.234375 12.765625 48.109375 \r\nQ 20.015625 56 32.328125 56 \r\nQ 43.359375 56 49.78125 48.890625 \r\nQ 56.203125 41.796875 56.203125 29.59375 \r\nz\r\nM 47.21875 32.234375 \r\nQ 47.125 39.59375 43.09375 43.984375 \r\nQ 39.0625 48.390625 32.421875 48.390625 \r\nQ 24.90625 48.390625 20.390625 44.140625 \r\nQ 15.875 39.890625 15.1875 32.171875 \r\nz\r\n\" id=\"DejaVuSans-101\"/>\r\n       <path d=\"M 54.890625 33.015625 \r\nL 54.890625 0 \r\nL 45.90625 0 \r\nL 45.90625 32.71875 \r\nQ 45.90625 40.484375 42.875 44.328125 \r\nQ 39.84375 48.1875 33.796875 48.1875 \r\nQ 26.515625 48.1875 22.3125 43.546875 \r\nQ 18.109375 38.921875 18.109375 30.90625 \r\nL 18.109375 0 \r\nL 9.078125 0 \r\nL 9.078125 75.984375 \r\nL 18.109375 75.984375 \r\nL 18.109375 46.1875 \r\nQ 21.34375 51.125 25.703125 53.5625 \r\nQ 30.078125 56 35.796875 56 \r\nQ 45.21875 56 50.046875 50.171875 \r\nQ 54.890625 44.34375 54.890625 33.015625 \r\nz\r\n\" id=\"DejaVuSans-104\"/>\r\n       <path d=\"M 31 75.875 \r\nQ 24.46875 64.65625 21.28125 53.65625 \r\nQ 18.109375 42.671875 18.109375 31.390625 \r\nQ 18.109375 20.125 21.3125 9.0625 \r\nQ 24.515625 -2 31 -13.1875 \r\nL 23.1875 -13.1875 \r\nQ 15.875 -1.703125 12.234375 9.375 \r\nQ 8.59375 20.453125 8.59375 31.390625 \r\nQ 8.59375 42.28125 12.203125 53.3125 \r\nQ 15.828125 64.359375 23.1875 75.875 \r\nz\r\n\" id=\"DejaVuSans-40\"/>\r\n       <path d=\"M 9.8125 72.90625 \r\nL 23.09375 72.90625 \r\nL 55.421875 11.921875 \r\nL 55.421875 72.90625 \r\nL 64.984375 72.90625 \r\nL 64.984375 0 \r\nL 51.703125 0 \r\nL 19.390625 60.984375 \r\nL 19.390625 0 \r\nL 9.8125 0 \r\nz\r\n\" id=\"DejaVuSans-78\"/>\r\n       <path d=\"M 52 44.1875 \r\nQ 55.375 50.25 60.0625 53.125 \r\nQ 64.75 56 71.09375 56 \r\nQ 79.640625 56 84.28125 50.015625 \r\nQ 88.921875 44.046875 88.921875 33.015625 \r\nL 88.921875 0 \r\nL 79.890625 0 \r\nL 79.890625 32.71875 \r\nQ 79.890625 40.578125 77.09375 44.375 \r\nQ 74.3125 48.1875 68.609375 48.1875 \r\nQ 61.625 48.1875 57.5625 43.546875 \r\nQ 53.515625 38.921875 53.515625 30.90625 \r\nL 53.515625 0 \r\nL 44.484375 0 \r\nL 44.484375 32.71875 \r\nQ 44.484375 40.625 41.703125 44.40625 \r\nQ 38.921875 48.1875 33.109375 48.1875 \r\nQ 26.21875 48.1875 22.15625 43.53125 \r\nQ 18.109375 38.875 18.109375 30.90625 \r\nL 18.109375 0 \r\nL 9.078125 0 \r\nL 9.078125 54.6875 \r\nL 18.109375 54.6875 \r\nL 18.109375 46.1875 \r\nQ 21.1875 51.21875 25.484375 53.609375 \r\nQ 29.78125 56 35.6875 56 \r\nQ 41.65625 56 45.828125 52.96875 \r\nQ 50 49.953125 52 44.1875 \r\nz\r\n\" id=\"DejaVuSans-109\"/>\r\n       <path d=\"M 48.6875 27.296875 \r\nQ 48.6875 37.203125 44.609375 42.84375 \r\nQ 40.53125 48.484375 33.40625 48.484375 \r\nQ 26.265625 48.484375 22.1875 42.84375 \r\nQ 18.109375 37.203125 18.109375 27.296875 \r\nQ 18.109375 17.390625 22.1875 11.75 \r\nQ 26.265625 6.109375 33.40625 6.109375 \r\nQ 40.53125 6.109375 44.609375 11.75 \r\nQ 48.6875 17.390625 48.6875 27.296875 \r\nz\r\nM 18.109375 46.390625 \r\nQ 20.953125 51.265625 25.265625 53.625 \r\nQ 29.59375 56 35.59375 56 \r\nQ 45.5625 56 51.78125 48.09375 \r\nQ 58.015625 40.1875 58.015625 27.296875 \r\nQ 58.015625 14.40625 51.78125 6.484375 \r\nQ 45.5625 -1.421875 35.59375 -1.421875 \r\nQ 29.59375 -1.421875 25.265625 0.953125 \r\nQ 20.953125 3.328125 18.109375 8.203125 \r\nL 18.109375 0 \r\nL 9.078125 0 \r\nL 9.078125 75.984375 \r\nL 18.109375 75.984375 \r\nz\r\n\" id=\"DejaVuSans-98\"/>\r\n       <path d=\"M 37.109375 75.984375 \r\nL 37.109375 68.5 \r\nL 28.515625 68.5 \r\nQ 23.6875 68.5 21.796875 66.546875 \r\nQ 19.921875 64.59375 19.921875 59.515625 \r\nL 19.921875 54.6875 \r\nL 34.71875 54.6875 \r\nL 34.71875 47.703125 \r\nL 19.921875 47.703125 \r\nL 19.921875 0 \r\nL 10.890625 0 \r\nL 10.890625 47.703125 \r\nL 2.296875 47.703125 \r\nL 2.296875 54.6875 \r\nL 10.890625 54.6875 \r\nL 10.890625 58.5 \r\nQ 10.890625 67.625 15.140625 71.796875 \r\nQ 19.390625 75.984375 28.609375 75.984375 \r\nz\r\n\" id=\"DejaVuSans-102\"/>\r\n       <path d=\"M 25.390625 72.90625 \r\nL 33.6875 72.90625 \r\nL 8.296875 -9.28125 \r\nL 0 -9.28125 \r\nz\r\n\" id=\"DejaVuSans-47\"/>\r\n       <path d=\"M 18.109375 8.203125 \r\nL 18.109375 -20.796875 \r\nL 9.078125 -20.796875 \r\nL 9.078125 54.6875 \r\nL 18.109375 54.6875 \r\nL 18.109375 46.390625 \r\nQ 20.953125 51.265625 25.265625 53.625 \r\nQ 29.59375 56 35.59375 56 \r\nQ 45.5625 56 51.78125 48.09375 \r\nQ 58.015625 40.1875 58.015625 27.296875 \r\nQ 58.015625 14.40625 51.78125 6.484375 \r\nQ 45.5625 -1.421875 35.59375 -1.421875 \r\nQ 29.59375 -1.421875 25.265625 0.953125 \r\nQ 20.953125 3.328125 18.109375 8.203125 \r\nz\r\nM 48.6875 27.296875 \r\nQ 48.6875 37.203125 44.609375 42.84375 \r\nQ 40.53125 48.484375 33.40625 48.484375 \r\nQ 26.265625 48.484375 22.1875 42.84375 \r\nQ 18.109375 37.203125 18.109375 27.296875 \r\nQ 18.109375 17.390625 22.1875 11.75 \r\nQ 26.265625 6.109375 33.40625 6.109375 \r\nQ 40.53125 6.109375 44.609375 11.75 \r\nQ 48.6875 17.390625 48.6875 27.296875 \r\nz\r\n\" id=\"DejaVuSans-112\"/>\r\n       <path d=\"M 8.015625 75.875 \r\nL 15.828125 75.875 \r\nQ 23.140625 64.359375 26.78125 53.3125 \r\nQ 30.421875 42.28125 30.421875 31.390625 \r\nQ 30.421875 20.453125 26.78125 9.375 \r\nQ 23.140625 -1.703125 15.828125 -13.1875 \r\nL 8.015625 -13.1875 \r\nQ 14.5 -2 17.703125 9.0625 \r\nQ 20.90625 20.125 20.90625 31.390625 \r\nQ 20.90625 42.671875 17.703125 53.65625 \r\nQ 14.5 64.65625 8.015625 75.875 \r\nz\r\n\" id=\"DejaVuSans-41\"/>\r\n      </defs>\r\n      <use xlink:href=\"#DejaVuSans-68\"/>\r\n      <use x=\"77.001953\" xlink:href=\"#DejaVuSans-101\"/>\r\n      <use x=\"138.525391\" xlink:href=\"#DejaVuSans-97\"/>\r\n      <use x=\"199.804688\" xlink:href=\"#DejaVuSans-116\"/>\r\n      <use x=\"239.013672\" xlink:href=\"#DejaVuSans-104\"/>\r\n      <use x=\"302.392578\" xlink:href=\"#DejaVuSans-32\"/>\r\n      <use x=\"334.179688\" xlink:href=\"#DejaVuSans-114\"/>\r\n      <use x=\"375.292969\" xlink:href=\"#DejaVuSans-97\"/>\r\n      <use x=\"436.572266\" xlink:href=\"#DejaVuSans-116\"/>\r\n      <use x=\"475.78125\" xlink:href=\"#DejaVuSans-101\"/>\r\n      <use x=\"537.304688\" xlink:href=\"#DejaVuSans-32\"/>\r\n      <use x=\"569.091797\" xlink:href=\"#DejaVuSans-40\"/>\r\n      <use x=\"608.105469\" xlink:href=\"#DejaVuSans-78\"/>\r\n      <use x=\"682.910156\" xlink:href=\"#DejaVuSans-117\"/>\r\n      <use x=\"746.289062\" xlink:href=\"#DejaVuSans-109\"/>\r\n      <use x=\"843.701172\" xlink:href=\"#DejaVuSans-98\"/>\r\n      <use x=\"907.177734\" xlink:href=\"#DejaVuSans-101\"/>\r\n      <use x=\"968.701172\" xlink:href=\"#DejaVuSans-114\"/>\r\n      <use x=\"1009.814453\" xlink:href=\"#DejaVuSans-32\"/>\r\n      <use x=\"1041.601562\" xlink:href=\"#DejaVuSans-111\"/>\r\n      <use x=\"1102.783203\" xlink:href=\"#DejaVuSans-102\"/>\r\n      <use x=\"1137.988281\" xlink:href=\"#DejaVuSans-32\"/>\r\n      <use x=\"1169.775391\" xlink:href=\"#DejaVuSans-100\"/>\r\n      <use x=\"1233.251953\" xlink:href=\"#DejaVuSans-101\"/>\r\n      <use x=\"1294.775391\" xlink:href=\"#DejaVuSans-97\"/>\r\n      <use x=\"1356.054688\" xlink:href=\"#DejaVuSans-116\"/>\r\n      <use x=\"1395.263672\" xlink:href=\"#DejaVuSans-104\"/>\r\n      <use x=\"1458.642578\" xlink:href=\"#DejaVuSans-115\"/>\r\n      <use x=\"1510.742188\" xlink:href=\"#DejaVuSans-47\"/>\r\n      <use x=\"1544.433594\" xlink:href=\"#DejaVuSans-78\"/>\r\n      <use x=\"1619.238281\" xlink:href=\"#DejaVuSans-117\"/>\r\n      <use x=\"1682.617188\" xlink:href=\"#DejaVuSans-110\"/>\r\n      <use x=\"1745.996094\" xlink:href=\"#DejaVuSans-98\"/>\r\n      <use x=\"1809.472656\" xlink:href=\"#DejaVuSans-101\"/>\r\n      <use x=\"1870.996094\" xlink:href=\"#DejaVuSans-114\"/>\r\n      <use x=\"1912.109375\" xlink:href=\"#DejaVuSans-32\"/>\r\n      <use x=\"1943.896484\" xlink:href=\"#DejaVuSans-111\"/>\r\n      <use x=\"2005.078125\" xlink:href=\"#DejaVuSans-102\"/>\r\n      <use x=\"2040.283203\" xlink:href=\"#DejaVuSans-32\"/>\r\n      <use x=\"2072.070312\" xlink:href=\"#DejaVuSans-112\"/>\r\n      <use x=\"2135.546875\" xlink:href=\"#DejaVuSans-97\"/>\r\n      <use x=\"2196.826172\" xlink:href=\"#DejaVuSans-116\"/>\r\n      <use x=\"2236.035156\" xlink:href=\"#DejaVuSans-105\"/>\r\n      <use x=\"2263.818359\" xlink:href=\"#DejaVuSans-101\"/>\r\n      <use x=\"2325.341797\" xlink:href=\"#DejaVuSans-110\"/>\r\n      <use x=\"2388.720703\" xlink:href=\"#DejaVuSans-116\"/>\r\n      <use x=\"2427.929688\" xlink:href=\"#DejaVuSans-115\"/>\r\n      <use x=\"2480.029297\" xlink:href=\"#DejaVuSans-41\"/>\r\n     </g>\r\n    </g>\r\n   </g>\r\n   <g id=\"line2d_12\">\r\n    <path clip-path=\"url(#p43703f0389)\" d=\"M 58.999432 58.035926 \r\nL 60.469788 139.17817 \r\nL 61.940143 196.514479 \r\nL 63.410499 216.327895 \r\nL 64.880855 216.983441 \r\nL 66.35121 219.989789 \r\nL 67.821566 217.664734 \r\nL 69.291922 215.677581 \r\nL 70.762278 217.832334 \r\nL 72.232633 214.229853 \r\nL 73.702989 213.680314 \r\nL 75.173345 214.017678 \r\nL 76.643701 211.09421 \r\nL 78.114056 210.43962 \r\nL 79.584412 209.971682 \r\nL 81.054768 211.59074 \r\nL 83.995479 203.105953 \r\nL 85.465835 210.606998 \r\nL 86.936191 207.339249 \r\nL 88.406546 206.124205 \r\nL 89.876902 210.888028 \r\nL 92.817614 208.267199 \r\nL 94.287969 200.682291 \r\nL 95.758325 211.036439 \r\nL 97.228681 193.521882 \r\nL 98.699037 205.790336 \r\nL 100.169392 198.238924 \r\nL 101.639748 197.395199 \r\nL 103.110104 194.54991 \r\nL 104.580459 205.978357 \r\nL 106.050815 208.607281 \r\nL 107.521171 191.439674 \r\nL 108.991527 182.569744 \r\nL 110.461882 203.160653 \r\nL 111.932238 199.042472 \r\nL 113.402594 202.037513 \r\nL 114.87295 193.633516 \r\nL 116.343305 208.926108 \r\nL 117.813661 219.633381 \r\nL 119.284017 209.179535 \r\nL 120.754373 193.633516 \r\nL 122.224728 202.337017 \r\nL 123.695084 215.515199 \r\nL 125.16544 199.932889 \r\nL 126.635795 192.453381 \r\nL 128.106151 208.455459 \r\nL 129.576507 223.002802 \r\nL 131.046863 209.396757 \r\nL 132.517218 205.032554 \r\nL 133.987574 223.39346 \r\nL 135.45793 185.476696 \r\nL 136.928286 211.539023 \r\nL 138.398641 200.36029 \r\nL 139.868997 203.748965 \r\nL 141.339353 214.017678 \r\nL 142.809708 197.610061 \r\nL 144.280064 213.161952 \r\nL 145.75042 217.868446 \r\nL 147.220776 231.987926 \r\nL 148.691131 196.04743 \r\nL 150.161487 205.631562 \r\nL 151.631843 220.360119 \r\nL 153.102199 212.220653 \r\nL 154.572554 190.372615 \r\nL 156.04291 199.042472 \r\nL 157.513266 217.868446 \r\nL 158.983622 231.987926 \r\nL 160.453977 214.017678 \r\nL 161.924333 214.017678 \r\nL 163.394689 212.220653 \r\nL 164.865044 196.04743 \r\nL 166.3354 201.576737 \r\nL 167.805756 231.987926 \r\nL 169.276112 231.987926 \r\nL 170.746467 219.633381 \r\nL 172.216823 199.042472 \r\nL 173.687179 231.987926 \r\nL 175.157535 211.180271 \r\nL 176.62789 231.987926 \r\nL 178.098246 214.017678 \r\nL 179.568602 231.987926 \r\nL 181.038958 182.569744 \r\nL 182.509313 231.987926 \r\nL 183.979669 231.987926 \r\nL 186.92038 166.097017 \r\nL 188.390736 182.569744 \r\nL 189.861092 210.02429 \r\nL 191.331448 231.987926 \r\nL 197.212871 231.987926 \r\nL 198.683226 166.097017 \r\nL 200.153582 231.987926 \r\nL 201.623938 231.987926 \r\nL 203.094293 192.453381 \r\nL 204.564649 231.987926 \r\nL 206.035005 231.987926 \r\nL 207.505361 199.042472 \r\nL 208.975716 231.987926 \r\nL 210.446072 182.569744 \r\nL 211.916428 231.987926 \r\nL 214.857139 231.987926 \r\nL 216.327495 166.097017 \r\nL 217.797851 152.918835 \r\nL 219.268207 231.987926 \r\nL 231.031052 231.987926 \r\nL 232.501408 133.151562 \r\nL 233.971764 231.987926 \r\nL 239.853187 231.987926 \r\nL 241.323542 203.748965 \r\nL 242.793898 231.987926 \r\nL 245.73461 231.987926 \r\nL 247.204965 133.151562 \r\nL 248.675321 231.987926 \r\nL 250.145677 133.151562 \r\nL 253.086388 166.097017 \r\nL 254.556744 231.987926 \r\nL 260.438167 231.987926 \r\nL 261.908523 133.151562 \r\nL 263.378878 231.987926 \r\nL 272.201013 231.987926 \r\nL 273.671369 133.151562 \r\nL 278.082436 231.987926 \r\nL 301.608127 231.987926 \r\nL 304.548839 34.315199 \r\nL 306.019195 231.987926 \r\nL 357.481645 231.987926 \r\nL 363.363068 34.315199 \r\nL 363.363068 34.315199 \r\n\" style=\"fill:none;stroke:#1f77b4;stroke-linecap:square;stroke-width:1.5;\"/>\r\n   </g>\r\n   <g id=\"patch_3\">\r\n    <path d=\"M 43.78125 241.871562 \r\nL 43.78125 24.431562 \r\n\" style=\"fill:none;stroke:#000000;stroke-linecap:square;stroke-linejoin:miter;stroke-width:0.8;\"/>\r\n   </g>\r\n   <g id=\"patch_4\">\r\n    <path d=\"M 378.58125 241.871562 \r\nL 378.58125 24.431562 \r\n\" style=\"fill:none;stroke:#000000;stroke-linecap:square;stroke-linejoin:miter;stroke-width:0.8;\"/>\r\n   </g>\r\n   <g id=\"patch_5\">\r\n    <path d=\"M 43.78125 241.871562 \r\nL 378.58125 241.871562 \r\n\" style=\"fill:none;stroke:#000000;stroke-linecap:square;stroke-linejoin:miter;stroke-width:0.8;\"/>\r\n   </g>\r\n   <g id=\"patch_6\">\r\n    <path d=\"M 43.78125 24.431562 \r\nL 378.58125 24.431562 \r\n\" style=\"fill:none;stroke:#000000;stroke-linecap:square;stroke-linejoin:miter;stroke-width:0.8;\"/>\r\n   </g>\r\n   <g id=\"text_14\">\r\n    <!-- Death Ratio per ICU stay duration -->\r\n    <g transform=\"translate(109.83 18.431562)scale(0.12 -0.12)\">\r\n     <defs>\r\n      <path d=\"M 44.390625 34.1875 \r\nQ 47.5625 33.109375 50.5625 29.59375 \r\nQ 53.5625 26.078125 56.59375 19.921875 \r\nL 66.609375 0 \r\nL 56 0 \r\nL 46.6875 18.703125 \r\nQ 43.0625 26.03125 39.671875 28.421875 \r\nQ 36.28125 30.8125 30.421875 30.8125 \r\nL 19.671875 30.8125 \r\nL 19.671875 0 \r\nL 9.8125 0 \r\nL 9.8125 72.90625 \r\nL 32.078125 72.90625 \r\nQ 44.578125 72.90625 50.734375 67.671875 \r\nQ 56.890625 62.453125 56.890625 51.90625 \r\nQ 56.890625 45.015625 53.6875 40.46875 \r\nQ 50.484375 35.9375 44.390625 34.1875 \r\nz\r\nM 19.671875 64.796875 \r\nL 19.671875 38.921875 \r\nL 32.078125 38.921875 \r\nQ 39.203125 38.921875 42.84375 42.21875 \r\nQ 46.484375 45.515625 46.484375 51.90625 \r\nQ 46.484375 58.296875 42.84375 61.546875 \r\nQ 39.203125 64.796875 32.078125 64.796875 \r\nz\r\n\" id=\"DejaVuSans-82\"/>\r\n      <path d=\"M 9.8125 72.90625 \r\nL 19.671875 72.90625 \r\nL 19.671875 0 \r\nL 9.8125 0 \r\nz\r\n\" id=\"DejaVuSans-73\"/>\r\n      <path d=\"M 64.40625 67.28125 \r\nL 64.40625 56.890625 \r\nQ 59.421875 61.53125 53.78125 63.8125 \r\nQ 48.140625 66.109375 41.796875 66.109375 \r\nQ 29.296875 66.109375 22.65625 58.46875 \r\nQ 16.015625 50.828125 16.015625 36.375 \r\nQ 16.015625 21.96875 22.65625 14.328125 \r\nQ 29.296875 6.6875 41.796875 6.6875 \r\nQ 48.140625 6.6875 53.78125 8.984375 \r\nQ 59.421875 11.28125 64.40625 15.921875 \r\nL 64.40625 5.609375 \r\nQ 59.234375 2.09375 53.4375 0.328125 \r\nQ 47.65625 -1.421875 41.21875 -1.421875 \r\nQ 24.65625 -1.421875 15.125 8.703125 \r\nQ 5.609375 18.84375 5.609375 36.375 \r\nQ 5.609375 53.953125 15.125 64.078125 \r\nQ 24.65625 74.21875 41.21875 74.21875 \r\nQ 47.75 74.21875 53.53125 72.484375 \r\nQ 59.328125 70.75 64.40625 67.28125 \r\nz\r\n\" id=\"DejaVuSans-67\"/>\r\n      <path d=\"M 8.6875 72.90625 \r\nL 18.609375 72.90625 \r\nL 18.609375 28.609375 \r\nQ 18.609375 16.890625 22.84375 11.734375 \r\nQ 27.09375 6.59375 36.625 6.59375 \r\nQ 46.09375 6.59375 50.34375 11.734375 \r\nQ 54.59375 16.890625 54.59375 28.609375 \r\nL 54.59375 72.90625 \r\nL 64.5 72.90625 \r\nL 64.5 27.390625 \r\nQ 64.5 13.140625 57.4375 5.859375 \r\nQ 50.390625 -1.421875 36.625 -1.421875 \r\nQ 22.796875 -1.421875 15.734375 5.859375 \r\nQ 8.6875 13.140625 8.6875 27.390625 \r\nz\r\n\" id=\"DejaVuSans-85\"/>\r\n     </defs>\r\n     <use xlink:href=\"#DejaVuSans-68\"/>\r\n     <use x=\"77.001953\" xlink:href=\"#DejaVuSans-101\"/>\r\n     <use x=\"138.525391\" xlink:href=\"#DejaVuSans-97\"/>\r\n     <use x=\"199.804688\" xlink:href=\"#DejaVuSans-116\"/>\r\n     <use x=\"239.013672\" xlink:href=\"#DejaVuSans-104\"/>\r\n     <use x=\"302.392578\" xlink:href=\"#DejaVuSans-32\"/>\r\n     <use x=\"334.179688\" xlink:href=\"#DejaVuSans-82\"/>\r\n     <use x=\"401.412109\" xlink:href=\"#DejaVuSans-97\"/>\r\n     <use x=\"462.691406\" xlink:href=\"#DejaVuSans-116\"/>\r\n     <use x=\"501.900391\" xlink:href=\"#DejaVuSans-105\"/>\r\n     <use x=\"529.683594\" xlink:href=\"#DejaVuSans-111\"/>\r\n     <use x=\"590.865234\" xlink:href=\"#DejaVuSans-32\"/>\r\n     <use x=\"622.652344\" xlink:href=\"#DejaVuSans-112\"/>\r\n     <use x=\"686.128906\" xlink:href=\"#DejaVuSans-101\"/>\r\n     <use x=\"747.652344\" xlink:href=\"#DejaVuSans-114\"/>\r\n     <use x=\"788.765625\" xlink:href=\"#DejaVuSans-32\"/>\r\n     <use x=\"820.552734\" xlink:href=\"#DejaVuSans-73\"/>\r\n     <use x=\"850.044922\" xlink:href=\"#DejaVuSans-67\"/>\r\n     <use x=\"919.869141\" xlink:href=\"#DejaVuSans-85\"/>\r\n     <use x=\"993.0625\" xlink:href=\"#DejaVuSans-32\"/>\r\n     <use x=\"1024.849609\" xlink:href=\"#DejaVuSans-115\"/>\r\n     <use x=\"1076.949219\" xlink:href=\"#DejaVuSans-116\"/>\r\n     <use x=\"1116.158203\" xlink:href=\"#DejaVuSans-97\"/>\r\n     <use x=\"1177.4375\" xlink:href=\"#DejaVuSans-121\"/>\r\n     <use x=\"1236.617188\" xlink:href=\"#DejaVuSans-32\"/>\r\n     <use x=\"1268.404297\" xlink:href=\"#DejaVuSans-100\"/>\r\n     <use x=\"1331.880859\" xlink:href=\"#DejaVuSans-117\"/>\r\n     <use x=\"1395.259766\" xlink:href=\"#DejaVuSans-114\"/>\r\n     <use x=\"1436.373047\" xlink:href=\"#DejaVuSans-97\"/>\r\n     <use x=\"1497.652344\" xlink:href=\"#DejaVuSans-116\"/>\r\n     <use x=\"1536.861328\" xlink:href=\"#DejaVuSans-105\"/>\r\n     <use x=\"1564.644531\" xlink:href=\"#DejaVuSans-111\"/>\r\n     <use x=\"1625.826172\" xlink:href=\"#DejaVuSans-110\"/>\r\n    </g>\r\n   </g>\r\n  </g>\r\n </g>\r\n <defs>\r\n  <clipPath id=\"p43703f0389\">\r\n   <rect height=\"217.44\" width=\"334.8\" x=\"43.78125\" y=\"24.431562\"/>\r\n  </clipPath>\r\n </defs>\r\n</svg>\r\n",
      "image/png": "[encoded data removed]"
     },
     "metadata": {
      "needs_background": "light"
     }
    }
   ],
   "source": [
    "#Let's now report the death rate in function of the duration stay in ICU.\n",
    "adm_1[\"DEATHTAG\"]=0\n",
    "adm_1.loc[adm_1.DEATHTIME.notnull(),\"DEATHTAG\"]=1\n",
    "\n",
    "df_deaths_per_duration=adm_1.groupby(\"ELAPSED_DAYS\")[\"DEATHTAG\"].sum()\n",
    "df_patients_per_duration=adm_1.groupby(\"ELAPSED_DAYS\")[\"SUBJECT_ID\"].nunique()\n",
    "df_death_ratio_per_duration=df_deaths_per_duration/df_patients_per_duration\n",
    "plt.plot(df_death_ratio_per_duration)\n",
    "plt.title(\"Death Ratio per ICU stay duration\")\n",
    "plt.xlabel(\"Duration in days\")\n",
    "plt.ylabel(\"Death rate (Number of deaths/Nunber of patients)\")\n",
    "plt.show()"
   ]
  },
  {
   "cell_type": "markdown",
   "metadata": {},
   "source": [
    "Given the results above, we select patients with a least 48 hours in the ICU and with less than 30 days stay."
   ]
  },
  {
   "cell_type": "code",
   "execution_count": 9,
   "metadata": {},
   "outputs": [
    {
     "output_type": "stream",
     "name": "stdout",
     "text": [
      "Number of patients remaining in the dataframe: \n28840\n"
     ]
    }
   ],
   "source": [
    "adm_2=adm_1.loc[(adm_1[\"ELAPSED_DAYS\"]<30) & (adm_1[\"ELAPSED_DAYS\"]>2)]\n",
    "print(\"Number of patients remaining in the dataframe: \")\n",
    "print(len(adm_2.index))"
   ]
  },
  {
   "source": [
    "we remove patients older than 89, whose date of birth have been set to exactly 300 years before their first admission. In MIMIC dataset, the date tend to be shifted 100 year later."
   ],
   "cell_type": "markdown",
   "metadata": {}
  },
  {
   "cell_type": "code",
   "execution_count": 10,
   "metadata": {},
   "outputs": [
    {
     "output_type": "stream",
     "name": "stdout",
     "text": [
      "27614\n"
     ]
    }
   ],
   "source": [
    "adm_2_90=adm_2.loc[adm_2[\"DOBTIME\"]>pd.to_datetime(\"1950-01-01\",format='%Y-%m-%d')].copy()\n",
    "print(len(adm_2_90.index))"
   ]
  },
  {
   "source": [
    "We remove the patients who are younger than 15 at admission time"
   ],
   "cell_type": "markdown",
   "metadata": {}
  },
  {
   "cell_type": "code",
   "execution_count": 11,
   "metadata": {},
   "outputs": [
    {
     "output_type": "stream",
     "name": "stdout",
     "text": [
      "Number of patients remaining in the dataframe: \n23495\n"
     ]
    }
   ],
   "source": [
    "adm_2_15=adm_2_90.loc[((pd.to_datetime(adm_2_90[\"ADMITTIME\"].dt.date)-adm_2_90[\"DOBTIME\"]).dt.days/365)>15].copy()\n",
    "print(\"Number of patients remaining in the dataframe: \")\n",
    "print(len(adm_2_15.index))"
   ]
  },
  {
   "cell_type": "markdown",
   "metadata": {},
   "source": [
    "We remove the admissions with no chart events data."
   ]
  },
  {
   "cell_type": "code",
   "execution_count": 12,
   "metadata": {},
   "outputs": [
    {
     "output_type": "stream",
     "name": "stdout",
     "text": [
      "Number of patients remaining in the dataframe: \n23465\n"
     ]
    }
   ],
   "source": [
    "adm_2_15_chart=adm_2_15.loc[adm_2_15[\"HAS_CHARTEVENTS_DATA\"]==1].copy()\n",
    "print(\"Number of patients remaining in the dataframe: \")\n",
    "print(len(adm_2_15_chart.index))"
   ]
  },
  {
   "cell_type": "code",
   "execution_count": 13,
   "metadata": {},
   "outputs": [
    {
     "output_type": "execute_result",
     "data": {
      "text/plain": [
       "ADMISSION_TYPE\n",
       "ELECTIVE      4577\n",
       "EMERGENCY    18187\n",
       "URGENT         701\n",
       "Name: SUBJECT_ID, dtype: int64"
      ]
     },
     "metadata": {},
     "execution_count": 13
    }
   ],
   "source": [
    "#We now investigate the admission_type\n",
    "df_type=adm_2_15_chart.groupby(\"ADMISSION_TYPE\")[\"SUBJECT_ID\"].count()\n",
    "df_type"
   ]
  },
  {
   "cell_type": "markdown",
   "metadata": {},
   "source": [
    "We remove the newborns as they are specific"
   ]
  },
  {
   "cell_type": "code",
   "execution_count": 14,
   "metadata": {},
   "outputs": [
    {
     "output_type": "stream",
     "name": "stdout",
     "text": [
      "Number of patients remaining in the dataframe: \n23465\n"
     ]
    }
   ],
   "source": [
    "adm_3=adm_2_15_chart.loc[adm_2_15_chart[\"ADMISSION_TYPE\"]!=\"NEWBORN\"]\n",
    "print(\"Number of patients remaining in the dataframe: \")\n",
    "print(adm_3[\"SUBJECT_ID\"].nunique())\n",
    "\n",
    "adm_3.to_csv(file_path+\"./Admissions_processed.csv\")"
   ]
  },
  {
   "cell_type": "markdown",
   "metadata": {},
   "source": [
    "## INPUTS EVENTS DATA\n",
    "\n",
    "We now consider the inputevents dataset. We select only the patients in the metavision system and with the same criteria as above."
   ]
  },
  {
   "cell_type": "code",
   "execution_count": 15,
   "metadata": {
    "scrolled": true
   },
   "outputs": [
    {
     "output_type": "stream",
     "name": "stdout",
     "text": [
      "   SUBJECT_ID  HADM_ID            STARTTIME              ENDTIME  ITEMID  \\\n0       27063   139787  2133-02-05 06:29:00  2133-02-05 08:45:00  225166   \n1       27063   139787  2133-02-05 05:34:00  2133-02-05 06:30:00  225944   \n2       27063   139787  2133-02-05 05:34:00  2133-02-05 06:30:00  225166   \n3       27063   139787  2133-02-03 12:00:00  2133-02-03 12:01:00  225893   \n4       27063   139787  2133-02-03 12:00:00  2133-02-03 12:01:00  220949   \n\n       AMOUNT AMOUNTUOM       RATE  RATEUOM  PATIENTWEIGHT  \\\n0    6.774532       mEq        NaN      NaN           83.2   \n1   28.132997        ml  30.142497  mL/hour           83.2   \n2    2.813300       mEq        NaN      NaN           83.2   \n3    1.000000      dose        NaN      NaN           83.2   \n4  100.000000        ml        NaN      NaN           83.2   \n\n  ORDERCATEGORYDESCRIPTION  \n0            Continuous IV  \n1            Continuous IV  \n2            Continuous IV  \n3                Drug Push  \n4                Drug Push  \nNumber of patients remaining in the database: \n10100\n"
     ]
    }
   ],
   "source": [
    "inputs=pd.read_csv(file_path+\"INPUTEVENTS_MV.csv\")\n",
    "#Restrict the dataset to the previously selected admission ids only.\n",
    "adm_ids=list(adm_3[\"HADM_ID\"])\n",
    "inputs=inputs.loc[inputs[\"HADM_ID\"].isin(adm_ids)]\n",
    "\n",
    "#Inputs_small only contains the columns of interest.\n",
    "inputs_small=inputs[[\"SUBJECT_ID\",\"HADM_ID\",\"STARTTIME\",\"ENDTIME\",\"ITEMID\",\"AMOUNT\",\"AMOUNTUOM\",\"RATE\",\"RATEUOM\",\"PATIENTWEIGHT\",\"ORDERCATEGORYDESCRIPTION\"]]\n",
    "print(inputs_small.head())\n",
    "\n",
    "print(\"Number of patients remaining in the database: \")\n",
    "print(inputs_small[\"SUBJECT_ID\"].nunique())"
   ]
  },
  {
   "cell_type": "markdown",
   "metadata": {},
   "source": [
    "We load the D_ITEMS dataframe which contains the name of the ITEMID. And we merge both tables together."
   ]
  },
  {
   "cell_type": "code",
   "execution_count": 16,
   "metadata": {},
   "outputs": [
    {
     "output_type": "stream",
     "name": "stdout",
     "text": [
      "Number of patients remaining in the database: \n10100\n"
     ]
    }
   ],
   "source": [
    "#item_id \n",
    "item_id=pd.read_csv(file_path+\"D_ITEMS.csv\")\n",
    "item_id_1=item_id[[\"ITEMID\",\"LABEL\"]]\n",
    "item_id_1.head()\n",
    "\n",
    "#We merge the name of the item administrated.\n",
    "inputs_small_2=pd.merge(inputs_small,item_id_1,on=\"ITEMID\")\n",
    "inputs_small_2.head()\n",
    "print(\"Number of patients remaining in the database: \")\n",
    "print(inputs_small_2[\"SUBJECT_ID\"].nunique())"
   ]
  },
  {
   "cell_type": "code",
   "execution_count": 17,
   "metadata": {},
   "outputs": [
    {
     "output_type": "stream",
     "name": "stdout",
     "text": [
      "Number of patients remaining in the database: \n10099\n"
     ]
    }
   ],
   "source": [
    "#For each item, evaluate the number of patients who have been given this item.\n",
    "pat_for_item=inputs_small_2.groupby(\"LABEL\")[\"SUBJECT_ID\"].nunique()\n",
    "#Order by occurence and take the 33 best (the ones with the most patients)\n",
    "frequent_labels=pat_for_item.sort_values(ascending=False)[:50]\n",
    "\n",
    "#Select only the time series with high occurence.\n",
    "inputs_small_3=inputs_small_2.loc[inputs_small_2[\"LABEL\"].isin(list(frequent_labels.index))].copy()\n",
    "\n",
    "print(\"Number of patients remaining in the database: \")\n",
    "print(inputs_small_3[\"SUBJECT_ID\"].nunique())"
   ]
  },
  {
   "cell_type": "code",
   "execution_count": 18,
   "metadata": {},
   "outputs": [],
   "source": [
    "#Only select specific labels for the inputs.\n",
    "#list of retained inputs :\n",
    "retained_list=[\"Albumin 5%\",\"Dextrose 5%\",\"Lorazepam (Ativan)\",\"Calcium Gluconate\",\"Midazolam (Versed)\",\"Phenylephrine\",\"Furosemide (Lasix)\",\"Hydralazine\",\"Norepinephrine\",\"Magnesium Sulfate\",\"Nitroglycerin\",\"Insulin - Glargine\",\"Insulin - Humalog\",\"Insulin - Regular\",\"Heparin Sodium\",\"Morphine Sulfate\",\"Potassium Chloride\",\"Packed Red Blood Cells\",\"Gastric Meds\",\"D5 1/2NS\",\"LR\",\"K Phos\",\"Solution\",\"Sterile Water\",\"Metoprolol\",\"Piggyback\",\"OR Crystalloid Intake\",\"OR Cell Saver Intake\",\"PO Intake\",\"GT Flush\",\"KCL (Bolus)\",\"Magnesium Sulfate (Bolus)\"]\n",
    "#missing :Fresh Frozen Plasma\n",
    "inputs_small_3=inputs_small_3.loc[inputs_small_3[\"LABEL\"].isin(retained_list)].copy()\n",
    "\n"
   ]
  },
  {
   "cell_type": "markdown",
   "metadata": {},
   "source": [
    "# Cleaning of the input data\n",
    "\n",
    "### Units Cleaning\n",
    "\n",
    "#### 1) Amounts"
   ]
  },
  {
   "cell_type": "code",
   "execution_count": 19,
   "metadata": {},
   "outputs": [
    {
     "output_type": "execute_result",
     "data": {
      "text/plain": [
       "LABEL                      AMOUNTUOM\n",
       "Albumin 5%                 ml             4050\n",
       "Calcium Gluconate          grams         12193\n",
       "D5 1/2NS                   ml             8322\n",
       "Dextrose 5%                ml           191961\n",
       "Furosemide (Lasix)         mg            21904\n",
       "GT Flush                   ml            26003\n",
       "Gastric Meds               ml            38580\n",
       "Heparin Sodium             units         14522\n",
       "Hydralazine                mg             7310\n",
       "Insulin - Glargine         units          4127\n",
       "Insulin - Humalog          units         12671\n",
       "Insulin - Regular          units         65047\n",
       "K Phos                     mmol           3002\n",
       "KCL (Bolus)                ml            21302\n",
       "LR                         ml            29414\n",
       "Lorazepam (Ativan)         mg             9660\n",
       "Magnesium Sulfate          grams         13120\n",
       "                           mg                1\n",
       "Magnesium Sulfate (Bolus)  ml             9283\n",
       "Metoprolol                 mg            15485\n",
       "                           mcg               1\n",
       "Midazolam (Versed)         mg            33687\n",
       "Morphine Sulfate           mg            22765\n",
       "Nitroglycerin              mg            21664\n",
       "Norepinephrine             mg            34950\n",
       "OR Cell Saver Intake       ml             1509\n",
       "OR Crystalloid Intake      ml             4312\n",
       "PO Intake                  ml            63597\n",
       "Packed Red Blood Cells     ml            10456\n",
       "Phenylephrine              mg            46652\n",
       "Piggyback                  ml            17939\n",
       "Potassium Chloride         mEq           41829\n",
       "Solution                   ml           133523\n",
       "Sterile Water              ml            11647\n",
       "Name: AMOUNTUOM, dtype: int64"
      ]
     },
     "metadata": {},
     "execution_count": 19
    }
   ],
   "source": [
    "#Verification that all input labels have the same amounts units.\n",
    "inputs_small_3.groupby(\"LABEL\")[\"AMOUNTUOM\"].value_counts()"
   ]
  },
  {
   "cell_type": "code",
   "execution_count": 20,
   "metadata": {},
   "outputs": [
    {
     "output_type": "execute_result",
     "data": {
      "text/plain": [
       "LABEL                      AMOUNTUOM\n",
       "Albumin 5%                 ml             4050\n",
       "Calcium Gluconate          grams         12193\n",
       "D5 1/2NS                   ml             8322\n",
       "Dextrose 5%                ml           191961\n",
       "Furosemide (Lasix)         mg            21904\n",
       "GT Flush                   ml            26003\n",
       "Gastric Meds               ml            38580\n",
       "Heparin Sodium             units         14522\n",
       "Hydralazine                mg             7310\n",
       "Insulin - Glargine         units          4127\n",
       "Insulin - Humalog          units         12671\n",
       "Insulin - Regular          units         65047\n",
       "K Phos                     mmol           3002\n",
       "KCL (Bolus)                ml            21302\n",
       "LR                         ml            29414\n",
       "Lorazepam (Ativan)         mg             9660\n",
       "Magnesium Sulfate          grams         13120\n",
       "Magnesium Sulfate (Bolus)  ml             9283\n",
       "Metoprolol                 mg            15485\n",
       "Midazolam (Versed)         mg            33687\n",
       "Morphine Sulfate           mg            22765\n",
       "Nitroglycerin              mg            21664\n",
       "Norepinephrine             mg            34950\n",
       "OR Cell Saver Intake       ml             1509\n",
       "OR Crystalloid Intake      ml             4312\n",
       "PO Intake                  ml            63597\n",
       "Packed Red Blood Cells     ml            10456\n",
       "Phenylephrine              mg            46652\n",
       "Piggyback                  ml            17939\n",
       "Potassium Chloride         mEq           41829\n",
       "Solution                   ml           133523\n",
       "Sterile Water              ml            11647\n",
       "Name: AMOUNTUOM, dtype: int64"
      ]
     },
     "metadata": {},
     "execution_count": 20
    }
   ],
   "source": [
    "##### Cleaning the Cefazolin (remove the ones that are not in dose unit)\n",
    "inputs_small_3=inputs_small_3.drop(inputs_small_3.loc[(inputs_small_3[\"ITEMID\"]==225850) & (inputs_small_3[\"AMOUNTUOM\"]!=\"dose\")].index).copy()\n",
    "#Cleaning the Cefepime (remove the non dose)\n",
    "inputs_small_3=inputs_small_3.drop(inputs_small_3.loc[(inputs_small_3[\"LABEL\"]==\"Cefepime\") & (inputs_small_3[\"AMOUNTUOM\"]!=\"dose\")].index).copy()\n",
    "#Cleaning the Ceftriaxone (remove the non dose)\n",
    "inputs_small_3=inputs_small_3.drop(inputs_small_3.loc[(inputs_small_3[\"LABEL\"]==\"Ceftriaxone\") & (inputs_small_3[\"AMOUNTUOM\"]!=\"dose\")].index).copy()\n",
    "#Cleaning the Ciprofloxacin (remove the non dose)\n",
    "inputs_small_3=inputs_small_3.drop(inputs_small_3.loc[(inputs_small_3[\"LABEL\"]==\"Ciprofloxacin\") & (inputs_small_3[\"AMOUNTUOM\"]!=\"dose\")].index).copy()\n",
    "#Cleaning the Famotidine (Pepcid) (remove the non dose)\n",
    "inputs_small_3=inputs_small_3.drop(inputs_small_3.loc[(inputs_small_3[\"LABEL\"]==\"Famotidine (Pepcid)\") & (inputs_small_3[\"AMOUNTUOM\"]!=\"dose\")].index).copy()\n",
    "#Cleaning the Fentanyl (Concentrate) (remove the non mg)\n",
    "inputs_small_3=inputs_small_3.drop(inputs_small_3.loc[(inputs_small_3[\"LABEL\"]==\"Fentanyl (Concentrate)\") & (inputs_small_3[\"AMOUNTUOM\"]!=\"mg\")].index).copy()\n",
    "inputs_small_3.loc[(inputs_small_3[\"LABEL\"]==\"Fentanyl (Concentrate)\") & (inputs_small_3[\"AMOUNTUOM\"]==\"mg\"),\"AMOUNT\"]*=1000\n",
    "inputs_small_3.loc[(inputs_small_3[\"LABEL\"]==\"Fentanyl (Concentrate)\") & (inputs_small_3[\"AMOUNTUOM\"]==\"mg\"),\"AMOUNTUOM\"]=\"mcg\"\n",
    "#Cleaning the Heparin Sodium (Prophylaxis) (remove the non dose)\n",
    "inputs_small_3=inputs_small_3.drop(inputs_small_3.loc[(inputs_small_3[\"LABEL\"]==\"Heparin Sodium (Prophylaxis)\") & (inputs_small_3[\"AMOUNTUOM\"]!=\"dose\")].index).copy()\n",
    "#Cleaning the Hydromorphone (Dilaudid) (remove the non mg)\n",
    "inputs_small_3=inputs_small_3.drop(inputs_small_3.loc[(inputs_small_3[\"LABEL\"]==\"Hydromorphone (Dilaudid)\") & (inputs_small_3[\"AMOUNTUOM\"]!=\"mg\")].index).copy()\n",
    "#Cleaning the Magnesium Sulfate (remove the non grams)\n",
    "inputs_small_3=inputs_small_3.drop(inputs_small_3.loc[(inputs_small_3[\"LABEL\"]==\"Magnesium Sulfate\") & (inputs_small_3[\"AMOUNTUOM\"]!=\"grams\")].index).copy()\n",
    "#Cleaning the Propofol (remove the non mg)\n",
    "inputs_small_3=inputs_small_3.drop(inputs_small_3.loc[(inputs_small_3[\"LABEL\"]==\"Propofol\") & (inputs_small_3[\"AMOUNTUOM\"]!=\"mg\")].index).copy()\n",
    "#Cleaning the Metoprolol (remove the non mg)\n",
    "inputs_small_3=inputs_small_3.drop(inputs_small_3.loc[(inputs_small_3[\"LABEL\"]==\"Metoprolol\") & (inputs_small_3[\"AMOUNTUOM\"]!=\"mg\")].index).copy()\n",
    "#Cleaning the Piperacillin/Tazobactam (Zosyn) (remove the non dose)\n",
    "inputs_small_3=inputs_small_3.drop(inputs_small_3.loc[(inputs_small_3[\"LABEL\"]==\"Piperacillin/Tazobactam (Zosyn)\") & (inputs_small_3[\"AMOUNTUOM\"]!=\"dose\")].index).copy()\n",
    "#Cleaning the Metronidazole (remove the non dose)\n",
    "inputs_small_3=inputs_small_3.drop(inputs_small_3.loc[(inputs_small_3[\"LABEL\"]==\"Metronidazole\") & (inputs_small_3[\"AMOUNTUOM\"]!=\"dose\")].index).copy()\n",
    "#Cleaning the Ranitidine (Prophylaxis)(remove the non dose)\n",
    "inputs_small_3=inputs_small_3.drop(inputs_small_3.loc[(inputs_small_3[\"LABEL\"]==\"Ranitidine (Prophylaxis)\") & (inputs_small_3[\"AMOUNTUOM\"]!=\"dose\")].index).copy()\n",
    "#Cleaning the Vancomycin (remove the non dose)\n",
    "inputs_small_3=inputs_small_3.drop(inputs_small_3.loc[(inputs_small_3[\"LABEL\"]==\"Vancomycin\") & (inputs_small_3[\"AMOUNTUOM\"]!=\"dose\")].index).copy()\n",
    "#Cleaning the Fentanyl. Put the mg to mcg \n",
    "inputs_small_3.loc[(inputs_small_3[\"ITEMID\"]==221744) & (inputs_small_3[\"AMOUNTUOM\"]==\"mg\"),\"AMOUNT\"]*=1000\n",
    "inputs_small_3.loc[(inputs_small_3[\"ITEMID\"]==221744) & (inputs_small_3[\"AMOUNTUOM\"]==\"mg\"),\"AMOUNTUOM\"]=\"mcg\"\n",
    "#Cleaning of the Pantoprazole (Protonix)\n",
    "    #divide in two (drug shot or continuous treatment and create a new item id for the continuous version)\n",
    "inputs_small_3.loc[(inputs_small_3[\"ITEMID\"]==225910) & (inputs_small_3[\"ORDERCATEGORYDESCRIPTION\"]==\"Continuous Med\"),\"LABEL\"]=\"Pantoprazole (Protonix) Continuous\"\n",
    "inputs_small_3.loc[(inputs_small_3[\"ITEMID\"]==225910) & (inputs_small_3[\"ORDERCATEGORYDESCRIPTION\"]==\"Continuous Med\"),\"ITEMID\"]=2217441\n",
    "#remove the non dose from the drug shot version\n",
    "inputs_small_3=inputs_small_3.drop(inputs_small_3.loc[(inputs_small_3[\"LABEL\"]==\"Pantoprazole (Protonix)\") & (inputs_small_3[\"AMOUNTUOM\"]!=\"dose\")].index).copy()\n",
    "\n",
    "\n",
    "#Verification that all input labels have the same units.\n",
    "inputs_small_3.groupby(\"LABEL\")[\"AMOUNTUOM\"].value_counts()"
   ]
  },
  {
   "cell_type": "markdown",
   "metadata": {},
   "source": [
    "#### 2) Rates"
   ]
  },
  {
   "cell_type": "code",
   "execution_count": 21,
   "metadata": {},
   "outputs": [],
   "source": [
    "#inputs_small_3.groupby(\"LABEL\")[\"RATEUOM\"].value_counts()"
   ]
  },
  {
   "cell_type": "code",
   "execution_count": 22,
   "metadata": {},
   "outputs": [
    {
     "output_type": "execute_result",
     "data": {
      "text/plain": [
       "LABEL                      RATEUOM   \n",
       "Albumin 5%                 mL/hour         4050\n",
       "D5 1/2NS                   mL/hour         8299\n",
       "Dextrose 5%                mL/hour       106902\n",
       "Furosemide (Lasix)         mg/hour         8843\n",
       "Heparin Sodium             units/hour     13413\n",
       "Hydralazine                mg/hour            2\n",
       "Insulin - Regular          units/hour     30520\n",
       "KCL (Bolus)                mL/hour        21302\n",
       "LR                         mL/hour        18543\n",
       "Lorazepam (Ativan)         mg/hour          104\n",
       "Magnesium Sulfate (Bolus)  mL/hour         9281\n",
       "Midazolam (Versed)         mg/hour        19412\n",
       "Morphine Sulfate           mg/hour         2004\n",
       "Nitroglycerin              mcg/kg/min     21664\n",
       "Norepinephrine             mcg/kg/min     34950\n",
       "Packed Red Blood Cells     mL/hour        10454\n",
       "Phenylephrine              mcg/kg/min     46652\n",
       "Piggyback                  mL/hour        17934\n",
       "Solution                   mL/hour       115980\n",
       "Sterile Water              mL/hour        11605\n",
       "Name: RATEUOM, dtype: int64"
      ]
     },
     "metadata": {},
     "execution_count": 22
    }
   ],
   "source": [
    "#Cleaning of Dextrose 5%  (remove the non mL/hour)\n",
    "inputs_small_3=inputs_small_3.drop(inputs_small_3.loc[(inputs_small_3[\"LABEL\"]==\"Dextrose 5%\") & (inputs_small_3[\"RATEUOM\"]!=\"mL/hour\")].index).copy()\n",
    "#Cleaning of Magnesium Sulfate (Bolus)  (remove the non mL/hour)\n",
    "inputs_small_3=inputs_small_3.drop(inputs_small_3.loc[(inputs_small_3[\"LABEL\"]==\"Magnesium Sulfate (Bolus)\") & (inputs_small_3[\"RATEUOM\"]!=\"mL/hour\")].index).copy()\n",
    "#Cleaning of NaCl 0.9% (remove the non mL/hour)\n",
    "inputs_small_3=inputs_small_3.drop(inputs_small_3.loc[(inputs_small_3[\"LABEL\"]==\"NaCl 0.9%\") & (inputs_small_3[\"RATEUOM\"]!=\"mL/hour\")].index).copy()\n",
    "#Cleaning of Piggyback (remove the non mL/hour)\n",
    "inputs_small_3=inputs_small_3.drop(inputs_small_3.loc[(inputs_small_3[\"LABEL\"]==\"Piggyback\") & (inputs_small_3[\"RATEUOM\"]!=\"mL/hour\")].index).copy()\n",
    "#Cleaning of Packed Red Bllod Cells (remove the non mL/hour)\n",
    "inputs_small_3=inputs_small_3.drop(inputs_small_3.loc[(inputs_small_3[\"LABEL\"]==\"Packed Red Blood Cells\") & (inputs_small_3[\"RATEUOM\"]!=\"mL/hour\")].index).copy()\n",
    "\n",
    "\n",
    "#Check if a single unit per drug\n",
    "inputs_small_3.groupby(\"LABEL\")[\"RATEUOM\"].value_counts()"
   ]
  },
  {
   "cell_type": "markdown",
   "metadata": {},
   "source": [
    "### Check for outliers\n",
    "\n",
    "#### 1) In amounts"
   ]
  },
  {
   "cell_type": "code",
   "execution_count": 23,
   "metadata": {},
   "outputs": [
    {
     "output_type": "execute_result",
     "data": {
      "text/plain": [
       "                              count         mean          std            min  \\\n",
       "LABEL                                                                          \n",
       "Albumin 5%                   4050.0   388.369612   166.110714    -149.999994   \n",
       "Calcium Gluconate           12193.0     2.405072     3.491139      -0.933333   \n",
       "D5 1/2NS                     8322.0   636.180349   439.026112    -918.173907   \n",
       "Dextrose 5%                106902.0   115.524221   191.605066   -5250.000000   \n",
       "Furosemide (Lasix)          21904.0    35.477109    44.378339    -120.000009   \n",
       "GT Flush                    26003.0    48.559512    63.428421   -3750.000000   \n",
       "Gastric Meds                38580.0    66.776721  1226.688211   -5400.000000   \n",
       "Heparin Sodium              14522.0  9512.448239  9765.479419 -525000.000000   \n",
       "Hydralazine                  7310.0    11.922217    28.098023    -240.000012   \n",
       "Insulin - Glargine           4127.0    23.442210    28.147084    -180.000000   \n",
       "Insulin - Humalog           12671.0     5.146176    10.454748     -30.000000   \n",
       "Insulin - Regular           65047.0     7.845160    16.835473    -140.000000   \n",
       "K Phos                       3002.0    17.227494     7.996231      -2.279736   \n",
       "KCL (Bolus)                 21302.0    54.950031    33.179979     -23.333332   \n",
       "LR                          29414.0   655.032208   416.998701  -23000.000000   \n",
       "Lorazepam (Ativan)           9660.0     1.379741     3.178132    -120.000002   \n",
       "Magnesium Sulfate           13120.0     2.048632     2.497431      -0.733333   \n",
       "Magnesium Sulfate (Bolus)    9281.0    49.575188     6.207162     -10.000000   \n",
       "Metoprolol                  15485.0     5.756933     4.152228    -180.000018   \n",
       "Midazolam (Versed)          33687.0    17.852877    33.090963     -38.000002   \n",
       "Morphine Sulfate            22765.0     4.993317    19.674722     -60.000003   \n",
       "Nitroglycerin               21664.0    11.542607    22.662372     -19.000001   \n",
       "Norepinephrine              34950.0     1.794691     3.356653      -8.757994   \n",
       "OR Cell Saver Intake         1509.0   611.918489   422.304142       0.000000   \n",
       "OR Crystalloid Intake        4312.0  2544.279917  1700.689937       0.000000   \n",
       "PO Intake                   63597.0   183.182288   940.242562   -4080.000000   \n",
       "Packed Red Blood Cells      10454.0   325.895091    92.548090    -195.999993   \n",
       "Phenylephrine               46652.0    11.677646    24.682574    -189.460306   \n",
       "Piggyback                   17934.0   110.837934   113.546257     -46.666665   \n",
       "Potassium Chloride          41829.0    18.223252     8.306887     -99.933338   \n",
       "Solution                   133523.0    38.789517    41.959803   -1600.000000   \n",
       "Sterile Water               11647.0    72.770775    62.563043    -175.500000   \n",
       "\n",
       "                                   25%          50%           75%  \\\n",
       "LABEL                                                               \n",
       "Albumin 5%                  249.999990   499.999980    499.999980   \n",
       "Calcium Gluconate             2.000000     2.000000      2.000000   \n",
       "D5 1/2NS                    201.666662   778.314861    999.999972   \n",
       "Dextrose 5%                   6.577475    47.717591    153.333326   \n",
       "Furosemide (Lasix)           16.098319    20.000001     40.000003   \n",
       "GT Flush                     30.000000    30.000000     50.000000   \n",
       "Gastric Meds                 30.000000    40.000000     60.000000   \n",
       "Heparin Sodium             2157.095630  6858.147894  15555.605203   \n",
       "Hydralazine                  10.000001    10.000001     10.000001   \n",
       "Insulin - Glargine           10.000000    20.000000     30.000000   \n",
       "Insulin - Humalog             2.000000     4.000000      6.000000   \n",
       "Insulin - Regular             2.000000     4.000000      8.000000   \n",
       "K Phos                       15.000000    15.000001     16.753996   \n",
       "KCL (Bolus)                  49.999999    49.999999     49.999999   \n",
       "LR                          400.000000   664.782125    999.999984   \n",
       "Lorazepam (Ativan)            0.500000     1.000000      2.000000   \n",
       "Magnesium Sulfate             2.000000     2.000000      2.000000   \n",
       "Magnesium Sulfate (Bolus)    49.999999    49.999999     49.999999   \n",
       "Metoprolol                    5.000000     5.000000      5.000000   \n",
       "Midazolam (Versed)            1.000000     2.000000     16.989001   \n",
       "Morphine Sulfate              2.000000     2.000000      3.333333   \n",
       "Nitroglycerin                 0.919592     2.716225      9.104737   \n",
       "Norepinephrine                0.127772     0.501482      1.838495   \n",
       "OR Cell Saver Intake        500.000000   500.000000    700.000000   \n",
       "OR Crystalloid Intake      1400.000000  2500.000000   3200.000000   \n",
       "PO Intake                   100.000000   120.000000    240.000000   \n",
       "Packed Red Blood Cells      281.250002   350.000004    350.000063   \n",
       "Phenylephrine                 0.909091     3.143352     10.900857   \n",
       "Piggyback                    49.999999    99.999996     99.999997   \n",
       "Potassium Chloride           19.900001    20.000000     20.000000   \n",
       "Solution                      6.752085    26.433121     62.131045   \n",
       "Sterile Water                49.999999    79.287867     99.999995   \n",
       "\n",
       "                                     max  \n",
       "LABEL                                     \n",
       "Albumin 5%                   5199.999792  \n",
       "Calcium Gluconate             199.999998  \n",
       "D5 1/2NS                     5999.999904  \n",
       "Dextrose 5%                  5000.000040  \n",
       "Furosemide (Lasix)           2320.000200  \n",
       "GT Flush                     2000.000000  \n",
       "Gastric Meds               240120.000000  \n",
       "Heparin Sodium              30640.000300  \n",
       "Hydralazine                  2350.000100  \n",
       "Insulin - Glargine           1515.000000  \n",
       "Insulin - Humalog             900.000000  \n",
       "Insulin - Regular            2499.999996  \n",
       "K Phos                         83.000005  \n",
       "KCL (Bolus)                  1000.000000  \n",
       "LR                          16855.000000  \n",
       "Lorazepam (Ativan)            113.283334  \n",
       "Magnesium Sulfate             249.999967  \n",
       "Magnesium Sulfate (Bolus)     249.999990  \n",
       "Metoprolol                    125.000000  \n",
       "Midazolam (Versed)           1710.134060  \n",
       "Morphine Sulfate             1945.000100  \n",
       "Nitroglycerin                 200.000006  \n",
       "Norepinephrine                249.999990  \n",
       "OR Cell Saver Intake         7500.000000  \n",
       "OR Crystalloid Intake       36000.000000  \n",
       "PO Intake                  180120.000000  \n",
       "Packed Red Blood Cells       2809.999920  \n",
       "Phenylephrine                 250.000000  \n",
       "Piggyback                    5000.000080  \n",
       "Potassium Chloride            500.000016  \n",
       "Solution                     4999.999836  \n",
       "Sterile Water                1666.666625  "
      ],
      "text/html": "<div>\n<style scoped>\n    .dataframe tbody tr th:only-of-type {\n        vertical-align: middle;\n    }\n\n    .dataframe tbody tr th {\n        vertical-align: top;\n    }\n\n    .dataframe thead th {\n        text-align: right;\n    }\n</style>\n<table border=\"1\" class=\"dataframe\">\n  <thead>\n    <tr style=\"text-align: right;\">\n      <th></th>\n      <th>count</th>\n      <th>mean</th>\n      <th>std</th>\n      <th>min</th>\n      <th>25%</th>\n      <th>50%</th>\n      <th>75%</th>\n      <th>max</th>\n    </tr>\n    <tr>\n      <th>LABEL</th>\n      <th></th>\n      <th></th>\n      <th></th>\n      <th></th>\n      <th></th>\n      <th></th>\n      <th></th>\n      <th></th>\n    </tr>\n  </thead>\n  <tbody>\n    <tr>\n      <th>Albumin 5%</th>\n      <td>4050.0</td>\n      <td>388.369612</td>\n      <td>166.110714</td>\n      <td>-149.999994</td>\n      <td>249.999990</td>\n      <td>499.999980</td>\n      <td>499.999980</td>\n      <td>5199.999792</td>\n    </tr>\n    <tr>\n      <th>Calcium Gluconate</th>\n      <td>12193.0</td>\n      <td>2.405072</td>\n      <td>3.491139</td>\n      <td>-0.933333</td>\n      <td>2.000000</td>\n      <td>2.000000</td>\n      <td>2.000000</td>\n      <td>199.999998</td>\n    </tr>\n    <tr>\n      <th>D5 1/2NS</th>\n      <td>8322.0</td>\n      <td>636.180349</td>\n      <td>439.026112</td>\n      <td>-918.173907</td>\n      <td>201.666662</td>\n      <td>778.314861</td>\n      <td>999.999972</td>\n      <td>5999.999904</td>\n    </tr>\n    <tr>\n      <th>Dextrose 5%</th>\n      <td>106902.0</td>\n      <td>115.524221</td>\n      <td>191.605066</td>\n      <td>-5250.000000</td>\n      <td>6.577475</td>\n      <td>47.717591</td>\n      <td>153.333326</td>\n      <td>5000.000040</td>\n    </tr>\n    <tr>\n      <th>Furosemide (Lasix)</th>\n      <td>21904.0</td>\n      <td>35.477109</td>\n      <td>44.378339</td>\n      <td>-120.000009</td>\n      <td>16.098319</td>\n      <td>20.000001</td>\n      <td>40.000003</td>\n      <td>2320.000200</td>\n    </tr>\n    <tr>\n      <th>GT Flush</th>\n      <td>26003.0</td>\n      <td>48.559512</td>\n      <td>63.428421</td>\n      <td>-3750.000000</td>\n      <td>30.000000</td>\n      <td>30.000000</td>\n      <td>50.000000</td>\n      <td>2000.000000</td>\n    </tr>\n    <tr>\n      <th>Gastric Meds</th>\n      <td>38580.0</td>\n      <td>66.776721</td>\n      <td>1226.688211</td>\n      <td>-5400.000000</td>\n      <td>30.000000</td>\n      <td>40.000000</td>\n      <td>60.000000</td>\n      <td>240120.000000</td>\n    </tr>\n    <tr>\n      <th>Heparin Sodium</th>\n      <td>14522.0</td>\n      <td>9512.448239</td>\n      <td>9765.479419</td>\n      <td>-525000.000000</td>\n      <td>2157.095630</td>\n      <td>6858.147894</td>\n      <td>15555.605203</td>\n      <td>30640.000300</td>\n    </tr>\n    <tr>\n      <th>Hydralazine</th>\n      <td>7310.0</td>\n      <td>11.922217</td>\n      <td>28.098023</td>\n      <td>-240.000012</td>\n      <td>10.000001</td>\n      <td>10.000001</td>\n      <td>10.000001</td>\n      <td>2350.000100</td>\n    </tr>\n    <tr>\n      <th>Insulin - Glargine</th>\n      <td>4127.0</td>\n      <td>23.442210</td>\n      <td>28.147084</td>\n      <td>-180.000000</td>\n      <td>10.000000</td>\n      <td>20.000000</td>\n      <td>30.000000</td>\n      <td>1515.000000</td>\n    </tr>\n    <tr>\n      <th>Insulin - Humalog</th>\n      <td>12671.0</td>\n      <td>5.146176</td>\n      <td>10.454748</td>\n      <td>-30.000000</td>\n      <td>2.000000</td>\n      <td>4.000000</td>\n      <td>6.000000</td>\n      <td>900.000000</td>\n    </tr>\n    <tr>\n      <th>Insulin - Regular</th>\n      <td>65047.0</td>\n      <td>7.845160</td>\n      <td>16.835473</td>\n      <td>-140.000000</td>\n      <td>2.000000</td>\n      <td>4.000000</td>\n      <td>8.000000</td>\n      <td>2499.999996</td>\n    </tr>\n    <tr>\n      <th>K Phos</th>\n      <td>3002.0</td>\n      <td>17.227494</td>\n      <td>7.996231</td>\n      <td>-2.279736</td>\n      <td>15.000000</td>\n      <td>15.000001</td>\n      <td>16.753996</td>\n      <td>83.000005</td>\n    </tr>\n    <tr>\n      <th>KCL (Bolus)</th>\n      <td>21302.0</td>\n      <td>54.950031</td>\n      <td>33.179979</td>\n      <td>-23.333332</td>\n      <td>49.999999</td>\n      <td>49.999999</td>\n      <td>49.999999</td>\n      <td>1000.000000</td>\n    </tr>\n    <tr>\n      <th>LR</th>\n      <td>29414.0</td>\n      <td>655.032208</td>\n      <td>416.998701</td>\n      <td>-23000.000000</td>\n      <td>400.000000</td>\n      <td>664.782125</td>\n      <td>999.999984</td>\n      <td>16855.000000</td>\n    </tr>\n    <tr>\n      <th>Lorazepam (Ativan)</th>\n      <td>9660.0</td>\n      <td>1.379741</td>\n      <td>3.178132</td>\n      <td>-120.000002</td>\n      <td>0.500000</td>\n      <td>1.000000</td>\n      <td>2.000000</td>\n      <td>113.283334</td>\n    </tr>\n    <tr>\n      <th>Magnesium Sulfate</th>\n      <td>13120.0</td>\n      <td>2.048632</td>\n      <td>2.497431</td>\n      <td>-0.733333</td>\n      <td>2.000000</td>\n      <td>2.000000</td>\n      <td>2.000000</td>\n      <td>249.999967</td>\n    </tr>\n    <tr>\n      <th>Magnesium Sulfate (Bolus)</th>\n      <td>9281.0</td>\n      <td>49.575188</td>\n      <td>6.207162</td>\n      <td>-10.000000</td>\n      <td>49.999999</td>\n      <td>49.999999</td>\n      <td>49.999999</td>\n      <td>249.999990</td>\n    </tr>\n    <tr>\n      <th>Metoprolol</th>\n      <td>15485.0</td>\n      <td>5.756933</td>\n      <td>4.152228</td>\n      <td>-180.000018</td>\n      <td>5.000000</td>\n      <td>5.000000</td>\n      <td>5.000000</td>\n      <td>125.000000</td>\n    </tr>\n    <tr>\n      <th>Midazolam (Versed)</th>\n      <td>33687.0</td>\n      <td>17.852877</td>\n      <td>33.090963</td>\n      <td>-38.000002</td>\n      <td>1.000000</td>\n      <td>2.000000</td>\n      <td>16.989001</td>\n      <td>1710.134060</td>\n    </tr>\n    <tr>\n      <th>Morphine Sulfate</th>\n      <td>22765.0</td>\n      <td>4.993317</td>\n      <td>19.674722</td>\n      <td>-60.000003</td>\n      <td>2.000000</td>\n      <td>2.000000</td>\n      <td>3.333333</td>\n      <td>1945.000100</td>\n    </tr>\n    <tr>\n      <th>Nitroglycerin</th>\n      <td>21664.0</td>\n      <td>11.542607</td>\n      <td>22.662372</td>\n      <td>-19.000001</td>\n      <td>0.919592</td>\n      <td>2.716225</td>\n      <td>9.104737</td>\n      <td>200.000006</td>\n    </tr>\n    <tr>\n      <th>Norepinephrine</th>\n      <td>34950.0</td>\n      <td>1.794691</td>\n      <td>3.356653</td>\n      <td>-8.757994</td>\n      <td>0.127772</td>\n      <td>0.501482</td>\n      <td>1.838495</td>\n      <td>249.999990</td>\n    </tr>\n    <tr>\n      <th>OR Cell Saver Intake</th>\n      <td>1509.0</td>\n      <td>611.918489</td>\n      <td>422.304142</td>\n      <td>0.000000</td>\n      <td>500.000000</td>\n      <td>500.000000</td>\n      <td>700.000000</td>\n      <td>7500.000000</td>\n    </tr>\n    <tr>\n      <th>OR Crystalloid Intake</th>\n      <td>4312.0</td>\n      <td>2544.279917</td>\n      <td>1700.689937</td>\n      <td>0.000000</td>\n      <td>1400.000000</td>\n      <td>2500.000000</td>\n      <td>3200.000000</td>\n      <td>36000.000000</td>\n    </tr>\n    <tr>\n      <th>PO Intake</th>\n      <td>63597.0</td>\n      <td>183.182288</td>\n      <td>940.242562</td>\n      <td>-4080.000000</td>\n      <td>100.000000</td>\n      <td>120.000000</td>\n      <td>240.000000</td>\n      <td>180120.000000</td>\n    </tr>\n    <tr>\n      <th>Packed Red Blood Cells</th>\n      <td>10454.0</td>\n      <td>325.895091</td>\n      <td>92.548090</td>\n      <td>-195.999993</td>\n      <td>281.250002</td>\n      <td>350.000004</td>\n      <td>350.000063</td>\n      <td>2809.999920</td>\n    </tr>\n    <tr>\n      <th>Phenylephrine</th>\n      <td>46652.0</td>\n      <td>11.677646</td>\n      <td>24.682574</td>\n      <td>-189.460306</td>\n      <td>0.909091</td>\n      <td>3.143352</td>\n      <td>10.900857</td>\n      <td>250.000000</td>\n    </tr>\n    <tr>\n      <th>Piggyback</th>\n      <td>17934.0</td>\n      <td>110.837934</td>\n      <td>113.546257</td>\n      <td>-46.666665</td>\n      <td>49.999999</td>\n      <td>99.999996</td>\n      <td>99.999997</td>\n      <td>5000.000080</td>\n    </tr>\n    <tr>\n      <th>Potassium Chloride</th>\n      <td>41829.0</td>\n      <td>18.223252</td>\n      <td>8.306887</td>\n      <td>-99.933338</td>\n      <td>19.900001</td>\n      <td>20.000000</td>\n      <td>20.000000</td>\n      <td>500.000016</td>\n    </tr>\n    <tr>\n      <th>Solution</th>\n      <td>133523.0</td>\n      <td>38.789517</td>\n      <td>41.959803</td>\n      <td>-1600.000000</td>\n      <td>6.752085</td>\n      <td>26.433121</td>\n      <td>62.131045</td>\n      <td>4999.999836</td>\n    </tr>\n    <tr>\n      <th>Sterile Water</th>\n      <td>11647.0</td>\n      <td>72.770775</td>\n      <td>62.563043</td>\n      <td>-175.500000</td>\n      <td>49.999999</td>\n      <td>79.287867</td>\n      <td>99.999995</td>\n      <td>1666.666625</td>\n    </tr>\n  </tbody>\n</table>\n</div>"
     },
     "metadata": {},
     "execution_count": 23
    }
   ],
   "source": [
    "inputs_small_3.groupby(\"LABEL\")[\"AMOUNT\"].describe()"
   ]
  },
  {
   "cell_type": "code",
   "execution_count": 24,
   "metadata": {},
   "outputs": [
    {
     "output_type": "stream",
     "name": "stdout",
     "text": [
      "Empty DataFrame\nColumns: [SUBJECT_ID, HADM_ID, STARTTIME, ENDTIME, ITEMID, AMOUNT, AMOUNTUOM, RATE, RATEUOM, PATIENTWEIGHT, ORDERCATEGORYDESCRIPTION, LABEL, DURATION]\nIndex: []\n"
     ]
    }
   ],
   "source": [
    "#Clean Albumin 5%\n",
    "#Invert start time and end time\n",
    "a=inputs_small_3.loc[(inputs_small_3[\"LABEL\"]==\"Albumin 5%\") & (inputs_small_3[\"AMOUNT\"]<0),\"STARTTIME\"]\n",
    "inputs_small_3.loc[(inputs_small_3[\"LABEL\"]==\"Albumin 5%\") & (inputs_small_3[\"AMOUNT\"]<0),\"STARTTIME\"]=inputs_small_3.loc[(inputs_small_3[\"LABEL\"]==\"Albumin 5%\") & (inputs_small_3[\"AMOUNT\"]<0),\"ENDTIME\"]\n",
    "a=inputs_small_3.loc[(inputs_small_3[\"LABEL\"]==\"Albumin 5%\") & (inputs_small_3[\"AMOUNT\"]<0),\"ENDTIME\"]=a\n",
    "#Positive rate\n",
    "inputs_small_3.loc[(inputs_small_3[\"LABEL\"]==\"Albumin 5%\") & (inputs_small_3[\"AMOUNT\"]<0),\"AMOUNT\"]*=-1\n",
    "\n",
    "#Clean Calcium Gluconate\n",
    "#Invert start time and end time\n",
    "a=inputs_small_3.loc[(inputs_small_3[\"LABEL\"]==\"Calcium Gluconate\") & (inputs_small_3[\"AMOUNT\"]<0),\"STARTTIME\"]\n",
    "inputs_small_3.loc[(inputs_small_3[\"LABEL\"]==\"Calcium Gluconate\") & (inputs_small_3[\"AMOUNT\"]<0),\"STARTTIME\"]=inputs_small_3.loc[(inputs_small_3[\"LABEL\"]==\"Calcium Gluconate\") & (inputs_small_3[\"AMOUNT\"]<0),\"ENDTIME\"]\n",
    "a=inputs_small_3.loc[(inputs_small_3[\"LABEL\"]==\"Calcium Gluconate\") & (inputs_small_3[\"AMOUNT\"]<0),\"ENDTIME\"]=a\n",
    "#Positive rate\n",
    "inputs_small_3.loc[(inputs_small_3[\"LABEL\"]==\"Calcium Gluconate\") & (inputs_small_3[\"AMOUNT\"]<0),\"AMOUNT\"]*=-1\n",
    "#Remove entries with more 10 grams.\n",
    "inputs_small_3=inputs_small_3.drop(inputs_small_3.loc[(inputs_small_3[\"LABEL\"]==\"Calcium Gluconate\") & (inputs_small_3[\"AMOUNT\"]>10)].index).copy()\n",
    "\n",
    "\n",
    "#Clean Cefazolin\n",
    "#Invert start time and end time\n",
    "a=inputs_small_3.loc[(inputs_small_3[\"LABEL\"]==\"Cefazolin\") & (inputs_small_3[\"AMOUNT\"]<0),\"STARTTIME\"]\n",
    "inputs_small_3.loc[(inputs_small_3[\"LABEL\"]==\"Cefazolin\") & (inputs_small_3[\"AMOUNT\"]<0),\"STARTTIME\"]=inputs_small_3.loc[(inputs_small_3[\"LABEL\"]==\"Cefazolin\") & (inputs_small_3[\"AMOUNT\"]<0),\"ENDTIME\"]\n",
    "a=inputs_small_3.loc[(inputs_small_3[\"LABEL\"]==\"Cefazolin\") & (inputs_small_3[\"AMOUNT\"]<0),\"ENDTIME\"]=a\n",
    "#Positive rate\n",
    "inputs_small_3.loc[(inputs_small_3[\"LABEL\"]==\"Cefazolin\") & (inputs_small_3[\"AMOUNT\"]<0),\"AMOUNT\"]*=-1\n",
    "#Remove entries with more than 2 doses amount.\n",
    "inputs_small_3=inputs_small_3.drop(inputs_small_3.loc[(inputs_small_3[\"LABEL\"]==\"Cefazolin\") & (inputs_small_3[\"AMOUNT\"]>2)].index).copy()\n",
    "\n",
    "#Clean Cefepime\n",
    "#Remove the negative entries (they are anyway too large in the positive range as well.)\n",
    "inputs_small_3=inputs_small_3.drop(inputs_small_3.loc[(inputs_small_3[\"LABEL\"]==\"Cefepime\") & (inputs_small_3[\"AMOUNT\"]<0)].index).copy()\n",
    "\n",
    "#Clean Ceftriaxone\n",
    "#Remove the negative entries (they are anyway too large in the positive range as well.)\n",
    "inputs_small_3=inputs_small_3.drop(inputs_small_3.loc[(inputs_small_3[\"LABEL\"]==\"Ceftriaxone\") & (inputs_small_3[\"AMOUNT\"]<0)].index).copy()\n",
    "\n",
    "#Clean Ciprofloxacin\n",
    "#Remove the negative entries (they are anyway too large in the positive range as well.)\n",
    "inputs_small_3=inputs_small_3.drop(inputs_small_3.loc[(inputs_small_3[\"LABEL\"]==\"Ciprofloxacin\") & (inputs_small_3[\"AMOUNT\"]<0)].index).copy()\n",
    "\n",
    "#Clean D5 1/2NS\n",
    "#Invert start time and end time\n",
    "a=inputs_small_3.loc[(inputs_small_3[\"LABEL\"]==\"D5 1/2NS\") & (inputs_small_3[\"AMOUNT\"]<0),\"STARTTIME\"]\n",
    "inputs_small_3.loc[(inputs_small_3[\"LABEL\"]==\"D5 1/2NS\") & (inputs_small_3[\"AMOUNT\"]<0),\"STARTTIME\"]=inputs_small_3.loc[(inputs_small_3[\"LABEL\"]==\"D5 1/2NS\") & (inputs_small_3[\"AMOUNT\"]<0),\"ENDTIME\"]\n",
    "a=inputs_small_3.loc[(inputs_small_3[\"LABEL\"]==\"D5 1/2NS\") & (inputs_small_3[\"AMOUNT\"]<0),\"ENDTIME\"]=a\n",
    "#Positive rate\n",
    "inputs_small_3.loc[(inputs_small_3[\"LABEL\"]==\"D5 1/2NS\") & (inputs_small_3[\"AMOUNT\"]<0),\"AMOUNT\"]*=-1\n",
    "\n",
    "#Clean Dextrose 5%\n",
    "#Invert start time and end time\n",
    "a=inputs_small_3.loc[(inputs_small_3[\"LABEL\"]==\"Dextrose 5%\") & (inputs_small_3[\"AMOUNT\"]<0),\"STARTTIME\"]\n",
    "inputs_small_3.loc[(inputs_small_3[\"LABEL\"]==\"Dextrose 5%\") & (inputs_small_3[\"AMOUNT\"]<0),\"STARTTIME\"]=inputs_small_3.loc[(inputs_small_3[\"LABEL\"]==\"Dextrose 5%\") & (inputs_small_3[\"AMOUNT\"]<0),\"ENDTIME\"]\n",
    "a=inputs_small_3.loc[(inputs_small_3[\"LABEL\"]==\"Dextrose 5%\") & (inputs_small_3[\"AMOUNT\"]<0),\"ENDTIME\"]=a\n",
    "#Positive rate\n",
    "inputs_small_3.loc[(inputs_small_3[\"LABEL\"]==\"Dextrose 5%\") & (inputs_small_3[\"AMOUNT\"]<0),\"AMOUNT\"]*=-1\n",
    "\n",
    "#Clean Famotidine (Pepcid)\n",
    "#Remove the negative entries (they are anyway too large in the positive range as well.)\n",
    "inputs_small_3=inputs_small_3.drop(inputs_small_3.loc[(inputs_small_3[\"LABEL\"]==\"Famotidine (Pepcid)\") & (inputs_small_3[\"AMOUNT\"]<0)].index).copy()\n",
    "inputs_small_3=inputs_small_3.drop(inputs_small_3.loc[(inputs_small_3[\"LABEL\"]==\"Famotidine (Pepcid)\") & (inputs_small_3[\"AMOUNT\"]>1)].index).copy()\n",
    "\n",
    "#Clean Fentanyl\n",
    "#Invert start time and end time\n",
    "a=inputs_small_3.loc[(inputs_small_3[\"LABEL\"]==\"Fentanyl\") & (inputs_small_3[\"AMOUNT\"]<0),\"STARTTIME\"]\n",
    "inputs_small_3.loc[(inputs_small_3[\"LABEL\"]==\"Fentanyl\") & (inputs_small_3[\"AMOUNT\"]<0),\"STARTTIME\"]=inputs_small_3.loc[(inputs_small_3[\"LABEL\"]==\"Fentanyl\") & (inputs_small_3[\"AMOUNT\"]<0),\"ENDTIME\"]\n",
    "a=inputs_small_3.loc[(inputs_small_3[\"LABEL\"]==\"Fentanyl\") & (inputs_small_3[\"AMOUNT\"]<0),\"ENDTIME\"]=a\n",
    "#Positive rate\n",
    "inputs_small_3.loc[(inputs_small_3[\"LABEL\"]==\"Fentanyl\") & (inputs_small_3[\"AMOUNT\"]<0),\"AMOUNT\"]*=-1\n",
    "\n",
    "#Clean Fentanyl (Concentrate)\n",
    "#Invert start time and end time\n",
    "a=inputs_small_3.loc[(inputs_small_3[\"LABEL\"]==\"Fentanyl (Concentrate)\") & (inputs_small_3[\"AMOUNT\"]<0),\"STARTTIME\"]\n",
    "inputs_small_3.loc[(inputs_small_3[\"LABEL\"]==\"Fentanyl (Concentrate)\") & (inputs_small_3[\"AMOUNT\"]<0),\"STARTTIME\"]=inputs_small_3.loc[(inputs_small_3[\"LABEL\"]==\"Fentanyl (Concentrate)\") & (inputs_small_3[\"AMOUNT\"]<0),\"ENDTIME\"]\n",
    "a=inputs_small_3.loc[(inputs_small_3[\"LABEL\"]==\"Fentanyl (Concentrate)\") & (inputs_small_3[\"AMOUNT\"]<0),\"ENDTIME\"]=a\n",
    "#Positive rate\n",
    "inputs_small_3.loc[(inputs_small_3[\"LABEL\"]==\"Fentanyl (Concentrate)\") & (inputs_small_3[\"AMOUNT\"]<0),\"AMOUNT\"]*=-1\n",
    "\n",
    "\n",
    "#Check if all remaining negative values are linked to the swapping the start and end times.\n",
    "inputs_small_3['STARTTIME']=pd.to_datetime(inputs_small_3[\"STARTTIME\"], format='%Y-%m-%d %H:%M:%S')\n",
    "inputs_small_3['ENDTIME']=pd.to_datetime(inputs_small_3[\"ENDTIME\"], format='%Y-%m-%d %H:%M:%S')\n",
    "inputs_small_3[\"DURATION\"]=inputs_small_3['ENDTIME']-inputs_small_3['STARTTIME']\n",
    "print(inputs_small_3.loc[(inputs_small_3[\"AMOUNT\"]<0)&(inputs_small_3[\"DURATION\"]>timedelta(0))]) #All are inverted\n",
    "\n",
    "#Revert all the remaining negative values to the positive range.\n",
    "a=inputs_small_3.loc[inputs_small_3[\"AMOUNT\"]<0,\"STARTTIME\"]\n",
    "inputs_small_3.loc[inputs_small_3[\"AMOUNT\"]<0,\"STARTTIME\"]=inputs_small_3.loc[inputs_small_3[\"AMOUNT\"]<0,\"ENDTIME\"]\n",
    "a=inputs_small_3.loc[inputs_small_3[\"AMOUNT\"]<0,\"ENDTIME\"]=a\n",
    "#Positive rate\n",
    "inputs_small_3.loc[inputs_small_3[\"AMOUNT\"]<0,\"AMOUNT\"]*=-1\n",
    "#Recompute the durations with the correct time stamps for start and end.\n",
    "inputs_small_3[\"DURATION\"]=inputs_small_3['ENDTIME']-inputs_small_3['STARTTIME']\n",
    "\n",
    "#Clean Gastric Meds, remove too large values\n",
    "inputs_small_3=inputs_small_3.drop(inputs_small_3.loc[(inputs_small_3[\"LABEL\"]==\"Gastric Meds\") & (inputs_small_3[\"AMOUNT\"]>5000)].index).copy()\n",
    "\n",
    "#Clean Heparin Sodium, remove too large values\n",
    "inputs_small_3=inputs_small_3.drop(inputs_small_3.loc[(inputs_small_3[\"LABEL\"]==\"Heparin Sodium\") & (inputs_small_3[\"AMOUNT\"]>50000)].index).copy()\n",
    "\n",
    "#Clean Heparin Sodium (Prophylaxis), remove too large values\n",
    "inputs_small_3=inputs_small_3.drop(inputs_small_3.loc[(inputs_small_3[\"LABEL\"]==\"Heparin Sodium (Prophylaxis)\") & (inputs_small_3[\"AMOUNT\"]>2)].index).copy()\n",
    "\n",
    "#Clean Hydralazine, remove too large values\n",
    "inputs_small_3=inputs_small_3.drop(inputs_small_3.loc[(inputs_small_3[\"LABEL\"]==\"Hydralazine\") & (inputs_small_3[\"AMOUNT\"]>200)].index).copy()\n",
    "\n",
    "#Clean Hydromorphone (Dilaudid), remove too large values\n",
    "inputs_small_3=inputs_small_3.drop(inputs_small_3.loc[(inputs_small_3[\"LABEL\"]==\"Hydromorphone (Dilaudid)\") & (inputs_small_3[\"AMOUNT\"]>500)].index).copy()\n",
    "\n",
    "#Clean Insulin - Humalog, remove too large values\n",
    "inputs_small_3=inputs_small_3.drop(inputs_small_3.loc[(inputs_small_3[\"LABEL\"]==\"Insulin - Humalog\") & (inputs_small_3[\"AMOUNT\"]>100)].index).copy()\n",
    "\n",
    "#Clean Insulin - Regular, remove too large values\n",
    "inputs_small_3=inputs_small_3.drop(inputs_small_3.loc[(inputs_small_3[\"LABEL\"]==\"Insulin - Regular\") & (inputs_small_3[\"AMOUNT\"]>1000)].index).copy()\n",
    "\n",
    "#Clean Magnesium Sulfate, remove too large values\n",
    "inputs_small_3=inputs_small_3.drop(inputs_small_3.loc[(inputs_small_3[\"LABEL\"]==\"Magnesium Sulfate\") & (inputs_small_3[\"AMOUNT\"]>51)].index).copy()\n",
    "\n",
    "#To be continued ..."
   ]
  },
  {
   "cell_type": "markdown",
   "metadata": {},
   "source": [
    "#### 2) In rates"
   ]
  },
  {
   "cell_type": "code",
   "execution_count": 25,
   "metadata": {},
   "outputs": [
    {
     "output_type": "execute_result",
     "data": {
      "text/plain": [
       "                              count         mean           std        min  \\\n",
       "LABEL                                                                       \n",
       "Albumin 5%                   4050.0   466.432805    249.881876  25.000000   \n",
       "Calcium Gluconate               0.0          NaN           NaN        NaN   \n",
       "D5 1/2NS                     8299.0   107.856254    679.450735   1.006036   \n",
       "Dextrose 5%                106902.0    44.410480    336.420551   0.000000   \n",
       "Furosemide (Lasix)           8843.0     9.198524     10.810320   0.050000   \n",
       "GT Flush                        0.0          NaN           NaN        NaN   \n",
       "Gastric Meds                    0.0          NaN           NaN        NaN   \n",
       "Heparin Sodium              13411.0  1960.233342  16709.719397  10.500053   \n",
       "Hydralazine                     2.0    45.000004      7.071069  40.000003   \n",
       "Insulin - Glargine              0.0          NaN           NaN        NaN   \n",
       "Insulin - Humalog               0.0          NaN           NaN        NaN   \n",
       "Insulin - Regular           30519.0     6.022688     26.277556   0.100014   \n",
       "K Phos                          0.0          NaN           NaN        NaN   \n",
       "KCL (Bolus)                 21302.0    53.602011     15.284899   4.524887   \n",
       "LR                          18543.0   237.526887    497.859707   2.772277   \n",
       "Lorazepam (Ativan)            104.0     4.404800      2.679658   0.248074   \n",
       "Magnesium Sulfate               0.0          NaN           NaN        NaN   \n",
       "Magnesium Sulfate (Bolus)    9281.0    52.001510     18.263725  13.953489   \n",
       "Metoprolol                      0.0          NaN           NaN        NaN   \n",
       "Midazolam (Versed)          19412.0     6.387720     33.696787   0.025000   \n",
       "Morphine Sulfate             2004.0    12.660172     39.740092   0.500000   \n",
       "Nitroglycerin               21664.0     1.567709      5.195948   0.021200   \n",
       "Norepinephrine              34950.0     0.201516      2.140389   0.000200   \n",
       "OR Cell Saver Intake            0.0          NaN           NaN        NaN   \n",
       "OR Crystalloid Intake           0.0          NaN           NaN        NaN   \n",
       "PO Intake                       0.0          NaN           NaN        NaN   \n",
       "Packed Red Blood Cells      10454.0   380.226137   1746.265764   1.000000   \n",
       "Phenylephrine               46652.0     1.603649      9.351598   0.004998   \n",
       "Piggyback                   17934.0   128.018719    148.002975   1.000000   \n",
       "Potassium Chloride              0.0          NaN           NaN        NaN   \n",
       "Solution                   115980.0    20.846113     44.905806   0.004000   \n",
       "Sterile Water               11605.0    41.453264    119.160203   0.660337   \n",
       "\n",
       "                                  25%          50%          75%           max  \n",
       "LABEL                                                                          \n",
       "Albumin 5%                 249.999990   499.999980   499.999980  4.285714e+03  \n",
       "Calcium Gluconate                 NaN          NaN          NaN           NaN  \n",
       "D5 1/2NS                    75.000000    80.002686   100.502514  5.959800e+04  \n",
       "Dextrose 5%                  9.628070    14.985362    30.133583  2.537500e+04  \n",
       "Furosemide (Lasix)           4.457647     7.996508    12.038351  6.357810e+02  \n",
       "GT Flush                          NaN          NaN          NaN           NaN  \n",
       "Gastric Meds                      NaN          NaN          NaN           NaN  \n",
       "Heparin Sodium             900.609870  1218.853140  1662.627330  1.500000e+06  \n",
       "Hydralazine                 42.500004    45.000004    47.500004  5.000000e+01  \n",
       "Insulin - Glargine                NaN          NaN          NaN           NaN  \n",
       "Insulin - Humalog                 NaN          NaN          NaN           NaN  \n",
       "Insulin - Regular            2.001317     4.000618     6.517845  3.000000e+03  \n",
       "K Phos                            NaN          NaN          NaN           NaN  \n",
       "KCL (Bolus)                 49.999999    49.999999    49.999999  5.000000e+02  \n",
       "LR                          75.065754   100.003344   150.000000  3.000000e+04  \n",
       "Lorazepam (Ativan)           2.001733     4.000000     6.015076  9.617822e+00  \n",
       "Magnesium Sulfate                 NaN          NaN          NaN           NaN  \n",
       "Magnesium Sulfate (Bolus)   49.999999    49.999999    49.999999  1.000000e+03  \n",
       "Metoprolol                        NaN          NaN          NaN           NaN  \n",
       "Midazolam (Versed)           2.000000     4.000000     7.031338  2.465550e+03  \n",
       "Morphine Sulfate             4.001368     8.002721    14.998502  1.604593e+03  \n",
       "Nitroglycerin                0.500305     1.000592     2.000026  3.236247e+02  \n",
       "Norepinephrine               0.059426     0.110777     0.230208  3.595506e+02  \n",
       "OR Cell Saver Intake              NaN          NaN          NaN           NaN  \n",
       "OR Crystalloid Intake             NaN          NaN          NaN           NaN  \n",
       "PO Intake                         NaN          NaN          NaN           NaN  \n",
       "Packed Red Blood Cells     160.305348   281.250000   351.562500  1.680000e+05  \n",
       "Phenylephrine                0.500165     0.999473     1.793272  9.744446e+02  \n",
       "Piggyback                   49.999999    99.999996    99.999996  1.000000e+04  \n",
       "Potassium Chloride                NaN          NaN          NaN           NaN  \n",
       "Solution                     7.746008    17.142858    28.678726  6.000000e+03  \n",
       "Sterile Water               20.074575    30.047246    49.999999  6.000000e+03  "
      ],
      "text/html": "<div>\n<style scoped>\n    .dataframe tbody tr th:only-of-type {\n        vertical-align: middle;\n    }\n\n    .dataframe tbody tr th {\n        vertical-align: top;\n    }\n\n    .dataframe thead th {\n        text-align: right;\n    }\n</style>\n<table border=\"1\" class=\"dataframe\">\n  <thead>\n    <tr style=\"text-align: right;\">\n      <th></th>\n      <th>count</th>\n      <th>mean</th>\n      <th>std</th>\n      <th>min</th>\n      <th>25%</th>\n      <th>50%</th>\n      <th>75%</th>\n      <th>max</th>\n    </tr>\n    <tr>\n      <th>LABEL</th>\n      <th></th>\n      <th></th>\n      <th></th>\n      <th></th>\n      <th></th>\n      <th></th>\n      <th></th>\n      <th></th>\n    </tr>\n  </thead>\n  <tbody>\n    <tr>\n      <th>Albumin 5%</th>\n      <td>4050.0</td>\n      <td>466.432805</td>\n      <td>249.881876</td>\n      <td>25.000000</td>\n      <td>249.999990</td>\n      <td>499.999980</td>\n      <td>499.999980</td>\n      <td>4.285714e+03</td>\n    </tr>\n    <tr>\n      <th>Calcium Gluconate</th>\n      <td>0.0</td>\n      <td>NaN</td>\n      <td>NaN</td>\n      <td>NaN</td>\n      <td>NaN</td>\n      <td>NaN</td>\n      <td>NaN</td>\n      <td>NaN</td>\n    </tr>\n    <tr>\n      <th>D5 1/2NS</th>\n      <td>8299.0</td>\n      <td>107.856254</td>\n      <td>679.450735</td>\n      <td>1.006036</td>\n      <td>75.000000</td>\n      <td>80.002686</td>\n      <td>100.502514</td>\n      <td>5.959800e+04</td>\n    </tr>\n    <tr>\n      <th>Dextrose 5%</th>\n      <td>106902.0</td>\n      <td>44.410480</td>\n      <td>336.420551</td>\n      <td>0.000000</td>\n      <td>9.628070</td>\n      <td>14.985362</td>\n      <td>30.133583</td>\n      <td>2.537500e+04</td>\n    </tr>\n    <tr>\n      <th>Furosemide (Lasix)</th>\n      <td>8843.0</td>\n      <td>9.198524</td>\n      <td>10.810320</td>\n      <td>0.050000</td>\n      <td>4.457647</td>\n      <td>7.996508</td>\n      <td>12.038351</td>\n      <td>6.357810e+02</td>\n    </tr>\n    <tr>\n      <th>GT Flush</th>\n      <td>0.0</td>\n      <td>NaN</td>\n      <td>NaN</td>\n      <td>NaN</td>\n      <td>NaN</td>\n      <td>NaN</td>\n      <td>NaN</td>\n      <td>NaN</td>\n    </tr>\n    <tr>\n      <th>Gastric Meds</th>\n      <td>0.0</td>\n      <td>NaN</td>\n      <td>NaN</td>\n      <td>NaN</td>\n      <td>NaN</td>\n      <td>NaN</td>\n      <td>NaN</td>\n      <td>NaN</td>\n    </tr>\n    <tr>\n      <th>Heparin Sodium</th>\n      <td>13411.0</td>\n      <td>1960.233342</td>\n      <td>16709.719397</td>\n      <td>10.500053</td>\n      <td>900.609870</td>\n      <td>1218.853140</td>\n      <td>1662.627330</td>\n      <td>1.500000e+06</td>\n    </tr>\n    <tr>\n      <th>Hydralazine</th>\n      <td>2.0</td>\n      <td>45.000004</td>\n      <td>7.071069</td>\n      <td>40.000003</td>\n      <td>42.500004</td>\n      <td>45.000004</td>\n      <td>47.500004</td>\n      <td>5.000000e+01</td>\n    </tr>\n    <tr>\n      <th>Insulin - Glargine</th>\n      <td>0.0</td>\n      <td>NaN</td>\n      <td>NaN</td>\n      <td>NaN</td>\n      <td>NaN</td>\n      <td>NaN</td>\n      <td>NaN</td>\n      <td>NaN</td>\n    </tr>\n    <tr>\n      <th>Insulin - Humalog</th>\n      <td>0.0</td>\n      <td>NaN</td>\n      <td>NaN</td>\n      <td>NaN</td>\n      <td>NaN</td>\n      <td>NaN</td>\n      <td>NaN</td>\n      <td>NaN</td>\n    </tr>\n    <tr>\n      <th>Insulin - Regular</th>\n      <td>30519.0</td>\n      <td>6.022688</td>\n      <td>26.277556</td>\n      <td>0.100014</td>\n      <td>2.001317</td>\n      <td>4.000618</td>\n      <td>6.517845</td>\n      <td>3.000000e+03</td>\n    </tr>\n    <tr>\n      <th>K Phos</th>\n      <td>0.0</td>\n      <td>NaN</td>\n      <td>NaN</td>\n      <td>NaN</td>\n      <td>NaN</td>\n      <td>NaN</td>\n      <td>NaN</td>\n      <td>NaN</td>\n    </tr>\n    <tr>\n      <th>KCL (Bolus)</th>\n      <td>21302.0</td>\n      <td>53.602011</td>\n      <td>15.284899</td>\n      <td>4.524887</td>\n      <td>49.999999</td>\n      <td>49.999999</td>\n      <td>49.999999</td>\n      <td>5.000000e+02</td>\n    </tr>\n    <tr>\n      <th>LR</th>\n      <td>18543.0</td>\n      <td>237.526887</td>\n      <td>497.859707</td>\n      <td>2.772277</td>\n      <td>75.065754</td>\n      <td>100.003344</td>\n      <td>150.000000</td>\n      <td>3.000000e+04</td>\n    </tr>\n    <tr>\n      <th>Lorazepam (Ativan)</th>\n      <td>104.0</td>\n      <td>4.404800</td>\n      <td>2.679658</td>\n      <td>0.248074</td>\n      <td>2.001733</td>\n      <td>4.000000</td>\n      <td>6.015076</td>\n      <td>9.617822e+00</td>\n    </tr>\n    <tr>\n      <th>Magnesium Sulfate</th>\n      <td>0.0</td>\n      <td>NaN</td>\n      <td>NaN</td>\n      <td>NaN</td>\n      <td>NaN</td>\n      <td>NaN</td>\n      <td>NaN</td>\n      <td>NaN</td>\n    </tr>\n    <tr>\n      <th>Magnesium Sulfate (Bolus)</th>\n      <td>9281.0</td>\n      <td>52.001510</td>\n      <td>18.263725</td>\n      <td>13.953489</td>\n      <td>49.999999</td>\n      <td>49.999999</td>\n      <td>49.999999</td>\n      <td>1.000000e+03</td>\n    </tr>\n    <tr>\n      <th>Metoprolol</th>\n      <td>0.0</td>\n      <td>NaN</td>\n      <td>NaN</td>\n      <td>NaN</td>\n      <td>NaN</td>\n      <td>NaN</td>\n      <td>NaN</td>\n      <td>NaN</td>\n    </tr>\n    <tr>\n      <th>Midazolam (Versed)</th>\n      <td>19412.0</td>\n      <td>6.387720</td>\n      <td>33.696787</td>\n      <td>0.025000</td>\n      <td>2.000000</td>\n      <td>4.000000</td>\n      <td>7.031338</td>\n      <td>2.465550e+03</td>\n    </tr>\n    <tr>\n      <th>Morphine Sulfate</th>\n      <td>2004.0</td>\n      <td>12.660172</td>\n      <td>39.740092</td>\n      <td>0.500000</td>\n      <td>4.001368</td>\n      <td>8.002721</td>\n      <td>14.998502</td>\n      <td>1.604593e+03</td>\n    </tr>\n    <tr>\n      <th>Nitroglycerin</th>\n      <td>21664.0</td>\n      <td>1.567709</td>\n      <td>5.195948</td>\n      <td>0.021200</td>\n      <td>0.500305</td>\n      <td>1.000592</td>\n      <td>2.000026</td>\n      <td>3.236247e+02</td>\n    </tr>\n    <tr>\n      <th>Norepinephrine</th>\n      <td>34950.0</td>\n      <td>0.201516</td>\n      <td>2.140389</td>\n      <td>0.000200</td>\n      <td>0.059426</td>\n      <td>0.110777</td>\n      <td>0.230208</td>\n      <td>3.595506e+02</td>\n    </tr>\n    <tr>\n      <th>OR Cell Saver Intake</th>\n      <td>0.0</td>\n      <td>NaN</td>\n      <td>NaN</td>\n      <td>NaN</td>\n      <td>NaN</td>\n      <td>NaN</td>\n      <td>NaN</td>\n      <td>NaN</td>\n    </tr>\n    <tr>\n      <th>OR Crystalloid Intake</th>\n      <td>0.0</td>\n      <td>NaN</td>\n      <td>NaN</td>\n      <td>NaN</td>\n      <td>NaN</td>\n      <td>NaN</td>\n      <td>NaN</td>\n      <td>NaN</td>\n    </tr>\n    <tr>\n      <th>PO Intake</th>\n      <td>0.0</td>\n      <td>NaN</td>\n      <td>NaN</td>\n      <td>NaN</td>\n      <td>NaN</td>\n      <td>NaN</td>\n      <td>NaN</td>\n      <td>NaN</td>\n    </tr>\n    <tr>\n      <th>Packed Red Blood Cells</th>\n      <td>10454.0</td>\n      <td>380.226137</td>\n      <td>1746.265764</td>\n      <td>1.000000</td>\n      <td>160.305348</td>\n      <td>281.250000</td>\n      <td>351.562500</td>\n      <td>1.680000e+05</td>\n    </tr>\n    <tr>\n      <th>Phenylephrine</th>\n      <td>46652.0</td>\n      <td>1.603649</td>\n      <td>9.351598</td>\n      <td>0.004998</td>\n      <td>0.500165</td>\n      <td>0.999473</td>\n      <td>1.793272</td>\n      <td>9.744446e+02</td>\n    </tr>\n    <tr>\n      <th>Piggyback</th>\n      <td>17934.0</td>\n      <td>128.018719</td>\n      <td>148.002975</td>\n      <td>1.000000</td>\n      <td>49.999999</td>\n      <td>99.999996</td>\n      <td>99.999996</td>\n      <td>1.000000e+04</td>\n    </tr>\n    <tr>\n      <th>Potassium Chloride</th>\n      <td>0.0</td>\n      <td>NaN</td>\n      <td>NaN</td>\n      <td>NaN</td>\n      <td>NaN</td>\n      <td>NaN</td>\n      <td>NaN</td>\n      <td>NaN</td>\n    </tr>\n    <tr>\n      <th>Solution</th>\n      <td>115980.0</td>\n      <td>20.846113</td>\n      <td>44.905806</td>\n      <td>0.004000</td>\n      <td>7.746008</td>\n      <td>17.142858</td>\n      <td>28.678726</td>\n      <td>6.000000e+03</td>\n    </tr>\n    <tr>\n      <th>Sterile Water</th>\n      <td>11605.0</td>\n      <td>41.453264</td>\n      <td>119.160203</td>\n      <td>0.660337</td>\n      <td>20.074575</td>\n      <td>30.047246</td>\n      <td>49.999999</td>\n      <td>6.000000e+03</td>\n    </tr>\n  </tbody>\n</table>\n</div>"
     },
     "metadata": {},
     "execution_count": 25
    }
   ],
   "source": [
    "inputs_small_3.groupby(\"LABEL\")[\"RATE\"].describe()"
   ]
  },
  {
   "cell_type": "code",
   "execution_count": 26,
   "metadata": {},
   "outputs": [],
   "source": [
    "#Clean D5 1/2NS Remove too large rates\n",
    "inputs_small_3=inputs_small_3.drop(inputs_small_3.loc[(inputs_small_3[\"LABEL\"]==\"D5 1/2NS\") & (inputs_small_3[\"RATE\"]>1000)].index).copy()\n",
    "\n",
    "#Remove all entries whose rate is more than 4 std away from the mean.\n",
    "rate_desc=inputs_small_3.groupby(\"LABEL\")[\"RATE\"].describe()\n",
    "name_list=list(rate_desc.loc[rate_desc[\"count\"]!=0].index)\n",
    "for label in name_list:\n",
    "    inputs_small_3=inputs_small_3.drop(inputs_small_3.loc[(inputs_small_3[\"LABEL\"]==label)&(inputs_small_3[\"RATE\"]>(rate_desc.loc[label,\"mean\"]+4*rate_desc.loc[label,\"std\"]))].index).copy()"
   ]
  },
  {
   "cell_type": "code",
   "execution_count": 27,
   "metadata": {},
   "outputs": [
    {
     "output_type": "execute_result",
     "data": {
      "text/plain": [
       "                              count         mean          std        min  \\\n",
       "LABEL                                                                      \n",
       "Albumin 5%                   4040.0   462.461521   234.013232  25.000000   \n",
       "Calcium Gluconate               0.0          NaN          NaN        NaN   \n",
       "D5 1/2NS                     8202.0    89.741701    46.449467   1.006036   \n",
       "Dextrose 5%                106684.0    34.317221    77.575143   0.000000   \n",
       "Furosemide (Lasix)           8828.0     8.952322     6.026809   0.050000   \n",
       "GT Flush                        0.0          NaN          NaN        NaN   \n",
       "Gastric Meds                    0.0          NaN          NaN        NaN   \n",
       "Heparin Sodium              13375.0  1417.969830  1397.500690  10.500053   \n",
       "Hydralazine                     2.0    45.000004     7.071069  40.000003   \n",
       "Insulin - Glargine              0.0          NaN          NaN        NaN   \n",
       "Insulin - Humalog               0.0          NaN          NaN        NaN   \n",
       "Insulin - Regular           30497.0     5.570054     6.166659   0.100014   \n",
       "K Phos                          0.0          NaN          NaN        NaN   \n",
       "KCL (Bolus)                 21198.0    53.104374    12.778303   4.524887   \n",
       "LR                          18493.0   225.259102   337.676086   2.772277   \n",
       "Lorazepam (Ativan)            104.0     4.404800     2.679658   0.248074   \n",
       "Magnesium Sulfate               0.0          NaN          NaN        NaN   \n",
       "Magnesium Sulfate (Bolus)    9233.0    51.044649     7.486249  13.953489   \n",
       "Metoprolol                      0.0          NaN          NaN        NaN   \n",
       "Midazolam (Versed)          19392.0     5.714411     6.987860   0.025000   \n",
       "Morphine Sulfate             2001.0    11.490703    11.554609   0.500000   \n",
       "Nitroglycerin               21633.0     1.424940     1.176317   0.021200   \n",
       "Norepinephrine              34929.0     0.174721     0.281684   0.000200   \n",
       "OR Cell Saver Intake            0.0          NaN          NaN        NaN   \n",
       "OR Crystalloid Intake           0.0          NaN          NaN        NaN   \n",
       "PO Intake                       0.0          NaN          NaN        NaN   \n",
       "Packed Red Blood Cells      10438.0   348.225142   405.981950   1.000000   \n",
       "Phenylephrine               46595.0     1.370237     1.498969   0.004998   \n",
       "Piggyback                   17843.0   122.626850   103.631593   1.000000   \n",
       "Potassium Chloride              0.0          NaN          NaN        NaN   \n",
       "Solution                   115877.0    20.175119    16.288772   0.004000   \n",
       "Sterile Water               11592.0    38.698560    34.579311   0.660337   \n",
       "\n",
       "                                  25%          50%          75%           max  \n",
       "LABEL                                                                          \n",
       "Albumin 5%                 249.999990   499.999980   499.999980   1250.000040  \n",
       "Calcium Gluconate                 NaN          NaN          NaN           NaN  \n",
       "D5 1/2NS                    75.000000    80.000004   100.214476    399.999990  \n",
       "Dextrose 5%                  9.600108    14.974345    30.071384   1365.879240  \n",
       "Furosemide (Lasix)           4.246872     7.996272    12.033467     51.974998  \n",
       "GT Flush                          NaN          NaN          NaN           NaN  \n",
       "Gastric Meds                      NaN          NaN          NaN           NaN  \n",
       "Heparin Sodium             900.555060  1217.110980  1655.834310  66398.172000  \n",
       "Hydralazine                 42.500004    45.000004    47.500004     50.000005  \n",
       "Insulin - Glargine                NaN          NaN          NaN           NaN  \n",
       "Insulin - Humalog                 NaN          NaN          NaN           NaN  \n",
       "Insulin - Regular            2.001313     4.000509     6.513278    105.660954  \n",
       "K Phos                            NaN          NaN          NaN           NaN  \n",
       "KCL (Bolus)                 49.999999    49.999999    49.999999    111.111108  \n",
       "LR                          75.060156   100.000170   150.000000   2222.222220  \n",
       "Lorazepam (Ativan)           2.001733     4.000000     6.015076      9.617822  \n",
       "Magnesium Sulfate                 NaN          NaN          NaN           NaN  \n",
       "Magnesium Sulfate (Bolus)   49.999999    49.999999    49.999999    120.000000  \n",
       "Metoprolol                        NaN          NaN          NaN           NaN  \n",
       "Midazolam (Versed)           2.000000     4.000000     7.019833    120.000006  \n",
       "Morphine Sulfate             4.001368     8.002687    14.997699    104.206362  \n",
       "Nitroglycerin                0.500300     1.000580     2.000000     21.634409  \n",
       "Norepinephrine               0.059411     0.110632     0.229947      8.714598  \n",
       "OR Cell Saver Intake              NaN          NaN          NaN           NaN  \n",
       "OR Crystalloid Intake             NaN          NaN          NaN           NaN  \n",
       "PO Intake                         NaN          NaN          NaN           NaN  \n",
       "Packed Red Blood Cells     160.221963   281.125002   351.562500   5625.000000  \n",
       "Phenylephrine                0.500163     0.999439     1.787808     37.722284  \n",
       "Piggyback                   49.999999    99.999996    99.999996    703.125000  \n",
       "Potassium Chloride                NaN          NaN          NaN           NaN  \n",
       "Solution                     7.741935    17.132642    28.639054    199.999998  \n",
       "Sterile Water               20.073529    30.043666    49.999999    499.999980  "
      ],
      "text/html": "<div>\n<style scoped>\n    .dataframe tbody tr th:only-of-type {\n        vertical-align: middle;\n    }\n\n    .dataframe tbody tr th {\n        vertical-align: top;\n    }\n\n    .dataframe thead th {\n        text-align: right;\n    }\n</style>\n<table border=\"1\" class=\"dataframe\">\n  <thead>\n    <tr style=\"text-align: right;\">\n      <th></th>\n      <th>count</th>\n      <th>mean</th>\n      <th>std</th>\n      <th>min</th>\n      <th>25%</th>\n      <th>50%</th>\n      <th>75%</th>\n      <th>max</th>\n    </tr>\n    <tr>\n      <th>LABEL</th>\n      <th></th>\n      <th></th>\n      <th></th>\n      <th></th>\n      <th></th>\n      <th></th>\n      <th></th>\n      <th></th>\n    </tr>\n  </thead>\n  <tbody>\n    <tr>\n      <th>Albumin 5%</th>\n      <td>4040.0</td>\n      <td>462.461521</td>\n      <td>234.013232</td>\n      <td>25.000000</td>\n      <td>249.999990</td>\n      <td>499.999980</td>\n      <td>499.999980</td>\n      <td>1250.000040</td>\n    </tr>\n    <tr>\n      <th>Calcium Gluconate</th>\n      <td>0.0</td>\n      <td>NaN</td>\n      <td>NaN</td>\n      <td>NaN</td>\n      <td>NaN</td>\n      <td>NaN</td>\n      <td>NaN</td>\n      <td>NaN</td>\n    </tr>\n    <tr>\n      <th>D5 1/2NS</th>\n      <td>8202.0</td>\n      <td>89.741701</td>\n      <td>46.449467</td>\n      <td>1.006036</td>\n      <td>75.000000</td>\n      <td>80.000004</td>\n      <td>100.214476</td>\n      <td>399.999990</td>\n    </tr>\n    <tr>\n      <th>Dextrose 5%</th>\n      <td>106684.0</td>\n      <td>34.317221</td>\n      <td>77.575143</td>\n      <td>0.000000</td>\n      <td>9.600108</td>\n      <td>14.974345</td>\n      <td>30.071384</td>\n      <td>1365.879240</td>\n    </tr>\n    <tr>\n      <th>Furosemide (Lasix)</th>\n      <td>8828.0</td>\n      <td>8.952322</td>\n      <td>6.026809</td>\n      <td>0.050000</td>\n      <td>4.246872</td>\n      <td>7.996272</td>\n      <td>12.033467</td>\n      <td>51.974998</td>\n    </tr>\n    <tr>\n      <th>GT Flush</th>\n      <td>0.0</td>\n      <td>NaN</td>\n      <td>NaN</td>\n      <td>NaN</td>\n      <td>NaN</td>\n      <td>NaN</td>\n      <td>NaN</td>\n      <td>NaN</td>\n    </tr>\n    <tr>\n      <th>Gastric Meds</th>\n      <td>0.0</td>\n      <td>NaN</td>\n      <td>NaN</td>\n      <td>NaN</td>\n      <td>NaN</td>\n      <td>NaN</td>\n      <td>NaN</td>\n      <td>NaN</td>\n    </tr>\n    <tr>\n      <th>Heparin Sodium</th>\n      <td>13375.0</td>\n      <td>1417.969830</td>\n      <td>1397.500690</td>\n      <td>10.500053</td>\n      <td>900.555060</td>\n      <td>1217.110980</td>\n      <td>1655.834310</td>\n      <td>66398.172000</td>\n    </tr>\n    <tr>\n      <th>Hydralazine</th>\n      <td>2.0</td>\n      <td>45.000004</td>\n      <td>7.071069</td>\n      <td>40.000003</td>\n      <td>42.500004</td>\n      <td>45.000004</td>\n      <td>47.500004</td>\n      <td>50.000005</td>\n    </tr>\n    <tr>\n      <th>Insulin - Glargine</th>\n      <td>0.0</td>\n      <td>NaN</td>\n      <td>NaN</td>\n      <td>NaN</td>\n      <td>NaN</td>\n      <td>NaN</td>\n      <td>NaN</td>\n      <td>NaN</td>\n    </tr>\n    <tr>\n      <th>Insulin - Humalog</th>\n      <td>0.0</td>\n      <td>NaN</td>\n      <td>NaN</td>\n      <td>NaN</td>\n      <td>NaN</td>\n      <td>NaN</td>\n      <td>NaN</td>\n      <td>NaN</td>\n    </tr>\n    <tr>\n      <th>Insulin - Regular</th>\n      <td>30497.0</td>\n      <td>5.570054</td>\n      <td>6.166659</td>\n      <td>0.100014</td>\n      <td>2.001313</td>\n      <td>4.000509</td>\n      <td>6.513278</td>\n      <td>105.660954</td>\n    </tr>\n    <tr>\n      <th>K Phos</th>\n      <td>0.0</td>\n      <td>NaN</td>\n      <td>NaN</td>\n      <td>NaN</td>\n      <td>NaN</td>\n      <td>NaN</td>\n      <td>NaN</td>\n      <td>NaN</td>\n    </tr>\n    <tr>\n      <th>KCL (Bolus)</th>\n      <td>21198.0</td>\n      <td>53.104374</td>\n      <td>12.778303</td>\n      <td>4.524887</td>\n      <td>49.999999</td>\n      <td>49.999999</td>\n      <td>49.999999</td>\n      <td>111.111108</td>\n    </tr>\n    <tr>\n      <th>LR</th>\n      <td>18493.0</td>\n      <td>225.259102</td>\n      <td>337.676086</td>\n      <td>2.772277</td>\n      <td>75.060156</td>\n      <td>100.000170</td>\n      <td>150.000000</td>\n      <td>2222.222220</td>\n    </tr>\n    <tr>\n      <th>Lorazepam (Ativan)</th>\n      <td>104.0</td>\n      <td>4.404800</td>\n      <td>2.679658</td>\n      <td>0.248074</td>\n      <td>2.001733</td>\n      <td>4.000000</td>\n      <td>6.015076</td>\n      <td>9.617822</td>\n    </tr>\n    <tr>\n      <th>Magnesium Sulfate</th>\n      <td>0.0</td>\n      <td>NaN</td>\n      <td>NaN</td>\n      <td>NaN</td>\n      <td>NaN</td>\n      <td>NaN</td>\n      <td>NaN</td>\n      <td>NaN</td>\n    </tr>\n    <tr>\n      <th>Magnesium Sulfate (Bolus)</th>\n      <td>9233.0</td>\n      <td>51.044649</td>\n      <td>7.486249</td>\n      <td>13.953489</td>\n      <td>49.999999</td>\n      <td>49.999999</td>\n      <td>49.999999</td>\n      <td>120.000000</td>\n    </tr>\n    <tr>\n      <th>Metoprolol</th>\n      <td>0.0</td>\n      <td>NaN</td>\n      <td>NaN</td>\n      <td>NaN</td>\n      <td>NaN</td>\n      <td>NaN</td>\n      <td>NaN</td>\n      <td>NaN</td>\n    </tr>\n    <tr>\n      <th>Midazolam (Versed)</th>\n      <td>19392.0</td>\n      <td>5.714411</td>\n      <td>6.987860</td>\n      <td>0.025000</td>\n      <td>2.000000</td>\n      <td>4.000000</td>\n      <td>7.019833</td>\n      <td>120.000006</td>\n    </tr>\n    <tr>\n      <th>Morphine Sulfate</th>\n      <td>2001.0</td>\n      <td>11.490703</td>\n      <td>11.554609</td>\n      <td>0.500000</td>\n      <td>4.001368</td>\n      <td>8.002687</td>\n      <td>14.997699</td>\n      <td>104.206362</td>\n    </tr>\n    <tr>\n      <th>Nitroglycerin</th>\n      <td>21633.0</td>\n      <td>1.424940</td>\n      <td>1.176317</td>\n      <td>0.021200</td>\n      <td>0.500300</td>\n      <td>1.000580</td>\n      <td>2.000000</td>\n      <td>21.634409</td>\n    </tr>\n    <tr>\n      <th>Norepinephrine</th>\n      <td>34929.0</td>\n      <td>0.174721</td>\n      <td>0.281684</td>\n      <td>0.000200</td>\n      <td>0.059411</td>\n      <td>0.110632</td>\n      <td>0.229947</td>\n      <td>8.714598</td>\n    </tr>\n    <tr>\n      <th>OR Cell Saver Intake</th>\n      <td>0.0</td>\n      <td>NaN</td>\n      <td>NaN</td>\n      <td>NaN</td>\n      <td>NaN</td>\n      <td>NaN</td>\n      <td>NaN</td>\n      <td>NaN</td>\n    </tr>\n    <tr>\n      <th>OR Crystalloid Intake</th>\n      <td>0.0</td>\n      <td>NaN</td>\n      <td>NaN</td>\n      <td>NaN</td>\n      <td>NaN</td>\n      <td>NaN</td>\n      <td>NaN</td>\n      <td>NaN</td>\n    </tr>\n    <tr>\n      <th>PO Intake</th>\n      <td>0.0</td>\n      <td>NaN</td>\n      <td>NaN</td>\n      <td>NaN</td>\n      <td>NaN</td>\n      <td>NaN</td>\n      <td>NaN</td>\n      <td>NaN</td>\n    </tr>\n    <tr>\n      <th>Packed Red Blood Cells</th>\n      <td>10438.0</td>\n      <td>348.225142</td>\n      <td>405.981950</td>\n      <td>1.000000</td>\n      <td>160.221963</td>\n      <td>281.125002</td>\n      <td>351.562500</td>\n      <td>5625.000000</td>\n    </tr>\n    <tr>\n      <th>Phenylephrine</th>\n      <td>46595.0</td>\n      <td>1.370237</td>\n      <td>1.498969</td>\n      <td>0.004998</td>\n      <td>0.500163</td>\n      <td>0.999439</td>\n      <td>1.787808</td>\n      <td>37.722284</td>\n    </tr>\n    <tr>\n      <th>Piggyback</th>\n      <td>17843.0</td>\n      <td>122.626850</td>\n      <td>103.631593</td>\n      <td>1.000000</td>\n      <td>49.999999</td>\n      <td>99.999996</td>\n      <td>99.999996</td>\n      <td>703.125000</td>\n    </tr>\n    <tr>\n      <th>Potassium Chloride</th>\n      <td>0.0</td>\n      <td>NaN</td>\n      <td>NaN</td>\n      <td>NaN</td>\n      <td>NaN</td>\n      <td>NaN</td>\n      <td>NaN</td>\n      <td>NaN</td>\n    </tr>\n    <tr>\n      <th>Solution</th>\n      <td>115877.0</td>\n      <td>20.175119</td>\n      <td>16.288772</td>\n      <td>0.004000</td>\n      <td>7.741935</td>\n      <td>17.132642</td>\n      <td>28.639054</td>\n      <td>199.999998</td>\n    </tr>\n    <tr>\n      <th>Sterile Water</th>\n      <td>11592.0</td>\n      <td>38.698560</td>\n      <td>34.579311</td>\n      <td>0.660337</td>\n      <td>20.073529</td>\n      <td>30.043666</td>\n      <td>49.999999</td>\n      <td>499.999980</td>\n    </tr>\n  </tbody>\n</table>\n</div>"
     },
     "metadata": {},
     "execution_count": 27
    }
   ],
   "source": [
    "inputs_small_3.groupby(\"LABEL\")[\"RATE\"].describe()"
   ]
  },
  {
   "cell_type": "markdown",
   "metadata": {},
   "source": [
    "## We now split the entries which are spread in time.\n",
    "\n",
    "We chose the duration window for the sampling. here we choose 30 minutes. So every entry which has a rate and with duration larger than 1 hour, we split it into fixed times injections.\n",
    "\n"
   ]
  },
  {
   "cell_type": "code",
   "execution_count": 28,
   "metadata": {},
   "outputs": [],
   "source": [
    "#First we check if when there is a duration, the amount is matching.\n",
    "\n",
    "#First check the /hours units\n",
    "df_temp=inputs_small_3.loc[(inputs_small_3[\"RATE\"].notnull()) & (inputs_small_3[\"RATEUOM\"].str.contains(\"hour\"))].copy()\n",
    "df_temp[\"COMPUTED_AMOUNT\"]=df_temp[\"RATE\"]*(df_temp[\"DURATION\"].dt.total_seconds()/3600)\n",
    "\n",
    "#Check with a 0.01 tolerance\n",
    "assert(len(df_temp.loc[(abs(df_temp[\"COMPUTED_AMOUNT\"]-df_temp[\"AMOUNT\"])>0.01)].index)==0) #OK\n",
    "\n",
    "#Second check the /min units\n",
    "df_temp=inputs_small_3.loc[(inputs_small_3[\"RATE\"].notnull()) & (inputs_small_3[\"RATEUOM\"].str.contains(\"mL/min\"))].copy()\n",
    "df_temp[\"COMPUTED_AMOUNT\"]=df_temp[\"RATE\"]*(df_temp[\"DURATION\"].dt.total_seconds()/60)\n",
    "\n",
    "#Check with a 0.01 tolerance\n",
    "assert(len(df_temp.loc[(abs(df_temp[\"COMPUTED_AMOUNT\"]-df_temp[\"AMOUNT\"])>0.01)].index)==0) #OK\n",
    "\n",
    "#Third check the kg/min units\n",
    "df_temp=inputs_small_3.loc[(inputs_small_3[\"RATE\"].notnull()) & (inputs_small_3[\"RATEUOM\"].str.contains(\"kg/min\"))].copy()\n",
    "df_temp[\"COMPUTED_AMOUNT\"]=df_temp[\"RATE\"]*(df_temp[\"DURATION\"].dt.total_seconds()/60)*(df_temp[\"PATIENTWEIGHT\"])\n",
    "\n",
    "#Check with a 0.01 tolerance\n",
    "assert(len(df_temp.loc[(abs(df_temp[\"COMPUTED_AMOUNT\"]-1000*df_temp[\"AMOUNT\"])>0.01)].index)==0) #OK"
   ]
  },
  {
   "cell_type": "code",
   "execution_count": 29,
   "metadata": {},
   "outputs": [],
   "source": [
    "duration_split_hours=0.5\n",
    "to_sec_fact=3600*duration_split_hours\n",
    "\n",
    "#split data set in four.\n",
    "\n",
    "#The first dataframe contains the entries with no rate but with extended duration inputs (over 0.5 hour)\n",
    "df_temp1=inputs_small_3.loc[(inputs_small_3[\"DURATION\"]>timedelta(hours=duration_split_hours)) & (inputs_small_3[\"RATE\"].isnull())].copy().reset_index(drop=True)\n",
    "#The second dataframe contains the entries with no rate and low duration entries (<0.5hour)\n",
    "df_temp2=inputs_small_3.loc[(inputs_small_3[\"DURATION\"]<=timedelta(hours=duration_split_hours)) & (inputs_small_3[\"RATE\"].isnull())].copy().reset_index(drop=True)\n",
    "#The third dataframe contains the entries with a rate and extended duration inputs (over 0.5 hour)\n",
    "df_temp3=inputs_small_3.loc[(inputs_small_3[\"DURATION\"]>timedelta(hours=duration_split_hours)) & (inputs_small_3[\"RATE\"].notnull())].copy().reset_index(drop=True)\n",
    "#The forth dataframe contains the entries with a rate and low duration entries (< 0.5 hour)\n",
    "df_temp4=inputs_small_3.loc[(inputs_small_3[\"DURATION\"]<=timedelta(hours=duration_split_hours)) & (inputs_small_3[\"RATE\"].notnull())].copy().reset_index(drop=True)\n",
    "\n",
    "#Check if split is complete\n",
    "assert(len(df_temp1.index)+len(df_temp2.index)+len(df_temp3.index)+len(df_temp4.index)==len(inputs_small_3.index))\n",
    "\n"
   ]
  },
  {
   "cell_type": "code",
   "execution_count": 30,
   "metadata": {},
   "outputs": [],
   "source": [
    "#We then process all of these dfs.\n",
    "#In the first one, we need to duplicate the entries according to their duration and then divide each entry by the number of duplicates\n",
    "\n",
    "#We duplicate the rows with the number bins for each injection\n",
    "df_temp1[\"Repeat\"]=np.ceil(df_temp1[\"DURATION\"].dt.total_seconds()/to_sec_fact).astype(int)\n",
    "df_new1=df_temp1.reindex(df_temp1.index.repeat(df_temp1[\"Repeat\"]))\n",
    "#We then create the admninistration time as a shifted version of the STARTTIME.\n",
    "df_new1[\"CHARTTIME\"]=df_new1.groupby(level=0)['STARTTIME'].transform(lambda x: pd.date_range(start=x.iat[0],freq=str(60*duration_split_hours)+'min',periods=len(x)))\n",
    "#We divide each entry by the number of repeats\n",
    "df_new1[\"AMOUNT\"]=df_new1[\"AMOUNT\"]/df_new1[\"Repeat\"]\n",
    "\n",
    "\n",
    "# In the third one, we do the same\n",
    "#We duplicate the rows with the number bins for each injection\n",
    "df_temp3[\"Repeat\"]=np.ceil(df_temp3[\"DURATION\"].dt.total_seconds()/to_sec_fact).astype(int)\n",
    "df_new3=df_temp3.reindex(df_temp3.index.repeat(df_temp3[\"Repeat\"]))\n",
    "#We then create the admninistration time as a shifted version of the STARTTIME.\n",
    "df_new3[\"CHARTTIME\"]=df_new3.groupby(level=0)['STARTTIME'].transform(lambda x: pd.date_range(start=x.iat[0],freq=str(60*duration_split_hours)+'min',periods=len(x)))\n",
    "#We divide each entry by the number of repeats\n",
    "df_new3[\"AMOUNT\"]=df_new3[\"AMOUNT\"]/df_new3[\"Repeat\"]\n",
    "\n",
    "df_temp2[\"CHARTTIME\"]=df_temp2[\"STARTTIME\"]\n",
    "df_temp4[\"CHARTTIME\"]=df_temp4[\"STARTTIME\"]"
   ]
  },
  {
   "cell_type": "code",
   "execution_count": 31,
   "metadata": {},
   "outputs": [],
   "source": [
    "#Eventually, we merge all 4splits into one.\n",
    "inputs_small_4=df_new1.append([df_temp2,df_new3,df_temp4])\n",
    "#The result is a dataset with discrete inputs for each treatment."
   ]
  },
  {
   "cell_type": "code",
   "execution_count": 32,
   "metadata": {},
   "outputs": [
    {
     "output_type": "execute_result",
     "data": {
      "text/plain": [
       "                               count         mean          std       min  \\\n",
       "LABEL                                                                      \n",
       "Albumin 5%                    7984.0   196.469639    96.554213  0.000000   \n",
       "Calcium Gluconate            27225.0     0.900840     0.302560  0.000000   \n",
       "D5 1/2NS                    140735.0    37.272787    22.077725  0.000000   \n",
       "Dextrose 5%                1280157.0     9.610933    16.706352  0.000000   \n",
       "Furosemide (Lasix)          115479.0     6.727809    13.949675  0.000000   \n",
       "GT Flush                     26003.0    49.500942    62.696443  0.000000   \n",
       "Gastric Meds                 38577.0    61.504676    94.879027  0.000000   \n",
       "Heparin Sodium              234389.0   591.075743   424.007509  0.000000   \n",
       "Hydralazine                   7308.0    11.751698     5.488737  0.000000   \n",
       "Insulin - Glargine            4127.0    23.587109    28.025741  0.000000   \n",
       "Insulin - Humalog            12666.0     5.009016     4.512010  0.000000   \n",
       "Insulin - Regular           240858.0     2.108631     2.969762  0.000000   \n",
       "K Phos                       32822.0     1.576087     0.786053  0.039982   \n",
       "KCL (Bolus)                  43615.0    26.079884     7.297720  0.166667   \n",
       "LR                          258121.0    74.760064   169.190662  0.000000   \n",
       "Lorazepam (Ativan)           11009.0     1.243555     1.526588  0.000000   \n",
       "Magnesium Sulfate            26450.0     1.007157     0.564905  0.000000   \n",
       "Magnesium Sulfate (Bolus)    18249.0    25.080623     3.278394  0.833333   \n",
       "Metoprolol                   15485.0     5.851928     4.017231  0.000000   \n",
       "Midazolam (Versed)          317183.0     1.893243     2.182632  0.000000   \n",
       "Morphine Sulfate             37635.0     3.007026    10.389459  0.000000   \n",
       "Nitroglycerin                97661.0     2.537706     2.632051  0.000000   \n",
       "Norepinephrine              216703.0     0.288203     0.361786  0.000000   \n",
       "OR Cell Saver Intake          1509.0   611.918489   422.304142  0.000000   \n",
       "OR Crystalloid Intake         4312.0  2544.279917  1700.689937  0.000000   \n",
       "PO Intake                    63597.0   183.651965   940.150934  0.000000   \n",
       "Packed Red Blood Cells       37744.0    90.097666    71.776546  0.000000   \n",
       "Phenylephrine               232594.0     2.349435     2.811417  0.000000   \n",
       "Piggyback                    46785.0    41.804094    29.979460  0.000000   \n",
       "Potassium Chloride          242714.0     3.146304     3.976212  0.000000   \n",
       "Solution                    834404.0     6.208746     9.464254  0.000000   \n",
       "Sterile Water                62860.0    13.477099    11.047709  0.000000   \n",
       "\n",
       "                                   25%          50%          75%  \\\n",
       "LABEL                                                              \n",
       "Albumin 5%                  124.999995   249.999990   249.999990   \n",
       "Calcium Gluconate             1.000000     1.000000     1.000000   \n",
       "D5 1/2NS                     24.999999    37.037037    49.987469   \n",
       "Dextrose 5%                   3.731343     5.000000     9.172340   \n",
       "Furosemide (Lasix)            1.955730     3.447752     7.135588   \n",
       "GT Flush                     30.000000    30.000000    50.000000   \n",
       "Gastric Meds                 30.000000    40.000000    60.000000   \n",
       "Heparin Sodium              383.674861   531.222936   718.193882   \n",
       "Hydralazine                  10.000001    10.000001    10.000001   \n",
       "Insulin - Glargine           10.000000    20.000000    30.000000   \n",
       "Insulin - Humalog             2.000000     4.000000     6.000000   \n",
       "Insulin - Regular             0.745380     1.478125     2.488362   \n",
       "K Phos                        1.153846     1.250000     2.194271   \n",
       "KCL (Bolus)                  24.999999    24.999999    24.999999   \n",
       "LR                           20.947510    45.952379    59.374999   \n",
       "Lorazepam (Ativan)            0.500000     1.000000     2.000000   \n",
       "Magnesium Sulfate             1.000000     1.000000     1.000000   \n",
       "Magnesium Sulfate (Bolus)    24.999999    24.999999    24.999999   \n",
       "Metoprolol                    5.000000     5.000000     5.000000   \n",
       "Midazolam (Versed)            0.500000     1.000348     2.463700   \n",
       "Morphine Sulfate              1.923077     2.000000     3.998854   \n",
       "Nitroglycerin                 0.836827     1.632653     3.404549   \n",
       "Norepinephrine                0.058424     0.158569     0.388953   \n",
       "OR Cell Saver Intake        500.000000   500.000000   700.000000   \n",
       "OR Crystalloid Intake      1400.000000  2500.000000  3200.000000   \n",
       "PO Intake                   100.000000   120.000000   240.000000   \n",
       "Packed Red Blood Cells       46.874998    71.000002   138.999996   \n",
       "Phenylephrine                 0.659878     1.419048     2.952996   \n",
       "Piggyback                    24.999999    38.461540    49.999998   \n",
       "Potassium Chloride            0.738889     0.991700     5.000000   \n",
       "Solution                      0.984211     3.568866     9.081818   \n",
       "Sterile Water                 9.600000    10.000000    14.285714   \n",
       "\n",
       "                                     max  \n",
       "LABEL                                     \n",
       "Albumin 5%                    500.000000  \n",
       "Calcium Gluconate               9.007998  \n",
       "D5 1/2NS                     1000.000000  \n",
       "Dextrose 5%                   600.000000  \n",
       "Furosemide (Lasix)           2320.000200  \n",
       "GT Flush                     3750.000000  \n",
       "Gastric Meds                 4020.000000  \n",
       "Heparin Sodium              30000.000000  \n",
       "Hydralazine                   160.000016  \n",
       "Insulin - Glargine           1515.000000  \n",
       "Insulin - Humalog              75.000000  \n",
       "Insulin - Regular             810.000000  \n",
       "K Phos                         30.000001  \n",
       "KCL (Bolus)                    50.000002  \n",
       "LR                          23000.000000  \n",
       "Lorazepam (Ativan)            120.000002  \n",
       "Magnesium Sulfate              24.999999  \n",
       "Magnesium Sulfate (Bolus)      60.000000  \n",
       "Metoprolol                    180.000018  \n",
       "Midazolam (Versed)             80.000006  \n",
       "Morphine Sulfate             1945.000100  \n",
       "Nitroglycerin                  56.289019  \n",
       "Norepinephrine                 15.881999  \n",
       "OR Cell Saver Intake         7500.000000  \n",
       "OR Crystalloid Intake       36000.000000  \n",
       "PO Intake                  180120.000000  \n",
       "Packed Red Blood Cells       1404.999960  \n",
       "Phenylephrine                  80.000006  \n",
       "Piggyback                     300.000000  \n",
       "Potassium Chloride            500.000016  \n",
       "Solution                     1600.000000  \n",
       "Sterile Water                 249.999990  "
      ],
      "text/html": "<div>\n<style scoped>\n    .dataframe tbody tr th:only-of-type {\n        vertical-align: middle;\n    }\n\n    .dataframe tbody tr th {\n        vertical-align: top;\n    }\n\n    .dataframe thead th {\n        text-align: right;\n    }\n</style>\n<table border=\"1\" class=\"dataframe\">\n  <thead>\n    <tr style=\"text-align: right;\">\n      <th></th>\n      <th>count</th>\n      <th>mean</th>\n      <th>std</th>\n      <th>min</th>\n      <th>25%</th>\n      <th>50%</th>\n      <th>75%</th>\n      <th>max</th>\n    </tr>\n    <tr>\n      <th>LABEL</th>\n      <th></th>\n      <th></th>\n      <th></th>\n      <th></th>\n      <th></th>\n      <th></th>\n      <th></th>\n      <th></th>\n    </tr>\n  </thead>\n  <tbody>\n    <tr>\n      <th>Albumin 5%</th>\n      <td>7984.0</td>\n      <td>196.469639</td>\n      <td>96.554213</td>\n      <td>0.000000</td>\n      <td>124.999995</td>\n      <td>249.999990</td>\n      <td>249.999990</td>\n      <td>500.000000</td>\n    </tr>\n    <tr>\n      <th>Calcium Gluconate</th>\n      <td>27225.0</td>\n      <td>0.900840</td>\n      <td>0.302560</td>\n      <td>0.000000</td>\n      <td>1.000000</td>\n      <td>1.000000</td>\n      <td>1.000000</td>\n      <td>9.007998</td>\n    </tr>\n    <tr>\n      <th>D5 1/2NS</th>\n      <td>140735.0</td>\n      <td>37.272787</td>\n      <td>22.077725</td>\n      <td>0.000000</td>\n      <td>24.999999</td>\n      <td>37.037037</td>\n      <td>49.987469</td>\n      <td>1000.000000</td>\n    </tr>\n    <tr>\n      <th>Dextrose 5%</th>\n      <td>1280157.0</td>\n      <td>9.610933</td>\n      <td>16.706352</td>\n      <td>0.000000</td>\n      <td>3.731343</td>\n      <td>5.000000</td>\n      <td>9.172340</td>\n      <td>600.000000</td>\n    </tr>\n    <tr>\n      <th>Furosemide (Lasix)</th>\n      <td>115479.0</td>\n      <td>6.727809</td>\n      <td>13.949675</td>\n      <td>0.000000</td>\n      <td>1.955730</td>\n      <td>3.447752</td>\n      <td>7.135588</td>\n      <td>2320.000200</td>\n    </tr>\n    <tr>\n      <th>GT Flush</th>\n      <td>26003.0</td>\n      <td>49.500942</td>\n      <td>62.696443</td>\n      <td>0.000000</td>\n      <td>30.000000</td>\n      <td>30.000000</td>\n      <td>50.000000</td>\n      <td>3750.000000</td>\n    </tr>\n    <tr>\n      <th>Gastric Meds</th>\n      <td>38577.0</td>\n      <td>61.504676</td>\n      <td>94.879027</td>\n      <td>0.000000</td>\n      <td>30.000000</td>\n      <td>40.000000</td>\n      <td>60.000000</td>\n      <td>4020.000000</td>\n    </tr>\n    <tr>\n      <th>Heparin Sodium</th>\n      <td>234389.0</td>\n      <td>591.075743</td>\n      <td>424.007509</td>\n      <td>0.000000</td>\n      <td>383.674861</td>\n      <td>531.222936</td>\n      <td>718.193882</td>\n      <td>30000.000000</td>\n    </tr>\n    <tr>\n      <th>Hydralazine</th>\n      <td>7308.0</td>\n      <td>11.751698</td>\n      <td>5.488737</td>\n      <td>0.000000</td>\n      <td>10.000001</td>\n      <td>10.000001</td>\n      <td>10.000001</td>\n      <td>160.000016</td>\n    </tr>\n    <tr>\n      <th>Insulin - Glargine</th>\n      <td>4127.0</td>\n      <td>23.587109</td>\n      <td>28.025741</td>\n      <td>0.000000</td>\n      <td>10.000000</td>\n      <td>20.000000</td>\n      <td>30.000000</td>\n      <td>1515.000000</td>\n    </tr>\n    <tr>\n      <th>Insulin - Humalog</th>\n      <td>12666.0</td>\n      <td>5.009016</td>\n      <td>4.512010</td>\n      <td>0.000000</td>\n      <td>2.000000</td>\n      <td>4.000000</td>\n      <td>6.000000</td>\n      <td>75.000000</td>\n    </tr>\n    <tr>\n      <th>Insulin - Regular</th>\n      <td>240858.0</td>\n      <td>2.108631</td>\n      <td>2.969762</td>\n      <td>0.000000</td>\n      <td>0.745380</td>\n      <td>1.478125</td>\n      <td>2.488362</td>\n      <td>810.000000</td>\n    </tr>\n    <tr>\n      <th>K Phos</th>\n      <td>32822.0</td>\n      <td>1.576087</td>\n      <td>0.786053</td>\n      <td>0.039982</td>\n      <td>1.153846</td>\n      <td>1.250000</td>\n      <td>2.194271</td>\n      <td>30.000001</td>\n    </tr>\n    <tr>\n      <th>KCL (Bolus)</th>\n      <td>43615.0</td>\n      <td>26.079884</td>\n      <td>7.297720</td>\n      <td>0.166667</td>\n      <td>24.999999</td>\n      <td>24.999999</td>\n      <td>24.999999</td>\n      <td>50.000002</td>\n    </tr>\n    <tr>\n      <th>LR</th>\n      <td>258121.0</td>\n      <td>74.760064</td>\n      <td>169.190662</td>\n      <td>0.000000</td>\n      <td>20.947510</td>\n      <td>45.952379</td>\n      <td>59.374999</td>\n      <td>23000.000000</td>\n    </tr>\n    <tr>\n      <th>Lorazepam (Ativan)</th>\n      <td>11009.0</td>\n      <td>1.243555</td>\n      <td>1.526588</td>\n      <td>0.000000</td>\n      <td>0.500000</td>\n      <td>1.000000</td>\n      <td>2.000000</td>\n      <td>120.000002</td>\n    </tr>\n    <tr>\n      <th>Magnesium Sulfate</th>\n      <td>26450.0</td>\n      <td>1.007157</td>\n      <td>0.564905</td>\n      <td>0.000000</td>\n      <td>1.000000</td>\n      <td>1.000000</td>\n      <td>1.000000</td>\n      <td>24.999999</td>\n    </tr>\n    <tr>\n      <th>Magnesium Sulfate (Bolus)</th>\n      <td>18249.0</td>\n      <td>25.080623</td>\n      <td>3.278394</td>\n      <td>0.833333</td>\n      <td>24.999999</td>\n      <td>24.999999</td>\n      <td>24.999999</td>\n      <td>60.000000</td>\n    </tr>\n    <tr>\n      <th>Metoprolol</th>\n      <td>15485.0</td>\n      <td>5.851928</td>\n      <td>4.017231</td>\n      <td>0.000000</td>\n      <td>5.000000</td>\n      <td>5.000000</td>\n      <td>5.000000</td>\n      <td>180.000018</td>\n    </tr>\n    <tr>\n      <th>Midazolam (Versed)</th>\n      <td>317183.0</td>\n      <td>1.893243</td>\n      <td>2.182632</td>\n      <td>0.000000</td>\n      <td>0.500000</td>\n      <td>1.000348</td>\n      <td>2.463700</td>\n      <td>80.000006</td>\n    </tr>\n    <tr>\n      <th>Morphine Sulfate</th>\n      <td>37635.0</td>\n      <td>3.007026</td>\n      <td>10.389459</td>\n      <td>0.000000</td>\n      <td>1.923077</td>\n      <td>2.000000</td>\n      <td>3.998854</td>\n      <td>1945.000100</td>\n    </tr>\n    <tr>\n      <th>Nitroglycerin</th>\n      <td>97661.0</td>\n      <td>2.537706</td>\n      <td>2.632051</td>\n      <td>0.000000</td>\n      <td>0.836827</td>\n      <td>1.632653</td>\n      <td>3.404549</td>\n      <td>56.289019</td>\n    </tr>\n    <tr>\n      <th>Norepinephrine</th>\n      <td>216703.0</td>\n      <td>0.288203</td>\n      <td>0.361786</td>\n      <td>0.000000</td>\n      <td>0.058424</td>\n      <td>0.158569</td>\n      <td>0.388953</td>\n      <td>15.881999</td>\n    </tr>\n    <tr>\n      <th>OR Cell Saver Intake</th>\n      <td>1509.0</td>\n      <td>611.918489</td>\n      <td>422.304142</td>\n      <td>0.000000</td>\n      <td>500.000000</td>\n      <td>500.000000</td>\n      <td>700.000000</td>\n      <td>7500.000000</td>\n    </tr>\n    <tr>\n      <th>OR Crystalloid Intake</th>\n      <td>4312.0</td>\n      <td>2544.279917</td>\n      <td>1700.689937</td>\n      <td>0.000000</td>\n      <td>1400.000000</td>\n      <td>2500.000000</td>\n      <td>3200.000000</td>\n      <td>36000.000000</td>\n    </tr>\n    <tr>\n      <th>PO Intake</th>\n      <td>63597.0</td>\n      <td>183.651965</td>\n      <td>940.150934</td>\n      <td>0.000000</td>\n      <td>100.000000</td>\n      <td>120.000000</td>\n      <td>240.000000</td>\n      <td>180120.000000</td>\n    </tr>\n    <tr>\n      <th>Packed Red Blood Cells</th>\n      <td>37744.0</td>\n      <td>90.097666</td>\n      <td>71.776546</td>\n      <td>0.000000</td>\n      <td>46.874998</td>\n      <td>71.000002</td>\n      <td>138.999996</td>\n      <td>1404.999960</td>\n    </tr>\n    <tr>\n      <th>Phenylephrine</th>\n      <td>232594.0</td>\n      <td>2.349435</td>\n      <td>2.811417</td>\n      <td>0.000000</td>\n      <td>0.659878</td>\n      <td>1.419048</td>\n      <td>2.952996</td>\n      <td>80.000006</td>\n    </tr>\n    <tr>\n      <th>Piggyback</th>\n      <td>46785.0</td>\n      <td>41.804094</td>\n      <td>29.979460</td>\n      <td>0.000000</td>\n      <td>24.999999</td>\n      <td>38.461540</td>\n      <td>49.999998</td>\n      <td>300.000000</td>\n    </tr>\n    <tr>\n      <th>Potassium Chloride</th>\n      <td>242714.0</td>\n      <td>3.146304</td>\n      <td>3.976212</td>\n      <td>0.000000</td>\n      <td>0.738889</td>\n      <td>0.991700</td>\n      <td>5.000000</td>\n      <td>500.000016</td>\n    </tr>\n    <tr>\n      <th>Solution</th>\n      <td>834404.0</td>\n      <td>6.208746</td>\n      <td>9.464254</td>\n      <td>0.000000</td>\n      <td>0.984211</td>\n      <td>3.568866</td>\n      <td>9.081818</td>\n      <td>1600.000000</td>\n    </tr>\n    <tr>\n      <th>Sterile Water</th>\n      <td>62860.0</td>\n      <td>13.477099</td>\n      <td>11.047709</td>\n      <td>0.000000</td>\n      <td>9.600000</td>\n      <td>10.000000</td>\n      <td>14.285714</td>\n      <td>249.999990</td>\n    </tr>\n  </tbody>\n</table>\n</div>"
     },
     "metadata": {},
     "execution_count": 32
    }
   ],
   "source": [
    "inputs_small_4.groupby(\"LABEL\")[\"AMOUNT\"].describe()"
   ]
  },
  {
   "cell_type": "code",
   "execution_count": 33,
   "metadata": {},
   "outputs": [],
   "source": [
    "#Again, we remove all the observations that are more than 5std away from the mean.\n",
    "\n",
    "amount_desc=inputs_small_4.groupby(\"LABEL\")[\"AMOUNT\"].describe()\n",
    "name_list=list(amount_desc.loc[amount_desc[\"count\"]!=0].index)\n",
    "for label in name_list:\n",
    "    inputs_small_4=inputs_small_4.drop(inputs_small_4.loc[(inputs_small_4[\"LABEL\"]==label)&(inputs_small_4[\"AMOUNT\"]>(amount_desc.loc[label,\"mean\"]+5*amount_desc.loc[label,\"std\"]))].index).copy()\n"
   ]
  },
  {
   "cell_type": "code",
   "execution_count": 34,
   "metadata": {},
   "outputs": [
    {
     "output_type": "execute_result",
     "data": {
      "text/plain": [
       "                               count         mean          std       min  \\\n",
       "LABEL                                                                      \n",
       "Albumin 5%                    7983.0   196.431616    96.500468  0.000000   \n",
       "Calcium Gluconate            26163.0     0.898323     0.297023  0.000000   \n",
       "D5 1/2NS                    140224.0    37.062061    20.332373  0.000000   \n",
       "Dextrose 5%                1160685.0     8.721031    11.162632  0.000000   \n",
       "Furosemide (Lasix)          113409.0     5.945197     7.741557  0.000000   \n",
       "GT Flush                     25116.0    47.749841    48.647136  0.000000   \n",
       "Gastric Meds                 36997.0    56.947953    50.897849  0.000000   \n",
       "Heparin Sodium              233273.0   577.439340   326.936976  0.000000   \n",
       "Hydralazine                   7234.0    11.560189     4.417902  0.000000   \n",
       "Insulin - Glargine            4116.0    23.194849    15.511370  0.000000   \n",
       "Insulin - Humalog            12601.0     4.839632     3.788863  0.000000   \n",
       "Insulin - Regular           230429.0     2.062932     2.084401  0.000000   \n",
       "K Phos                       27503.0     1.554467     0.583514  0.039982   \n",
       "KCL (Bolus)                  43614.0    26.080463     7.296802  0.166667   \n",
       "LR                          248477.0    55.667621    87.683459  0.000000   \n",
       "Lorazepam (Ativan)           10963.0     1.215187     0.889103  0.000000   \n",
       "Magnesium Sulfate            25804.0     0.991435     0.215328  0.000000   \n",
       "Magnesium Sulfate (Bolus)    18041.0    24.795381     1.893760  0.833333   \n",
       "Metoprolol                   15348.0     5.765853     2.920962  0.000000   \n",
       "Midazolam (Versed)          314614.0     1.830940     1.841343  0.000000   \n",
       "Morphine Sulfate             37545.0     2.954195     2.750287  0.000000   \n",
       "Nitroglycerin                97256.0     2.481253     2.410982  0.000000   \n",
       "Norepinephrine              198326.0     0.306612     0.335205  0.000000   \n",
       "OR Cell Saver Intake          1497.0   585.732131   244.863243  0.000000   \n",
       "OR Crystalloid Intake         4302.0  2513.873780  1545.291486  0.000000   \n",
       "PO Intake                    63526.0   178.123194   134.276296  0.000000   \n",
       "Packed Red Blood Cells       37626.0    89.261181    68.770809  0.000000   \n",
       "Phenylephrine               231526.0     2.280101     2.502026  0.000000   \n",
       "Piggyback                    46341.0    40.123155    23.796789  0.000000   \n",
       "Potassium Chloride          232492.0     3.133674     3.798524  0.000000   \n",
       "Solution                    827438.0     6.144743     7.569991  0.000000   \n",
       "Sterile Water                60103.0    12.970725     8.134143  0.000000   \n",
       "\n",
       "                                   25%          50%          75%           max  \n",
       "LABEL                                                                           \n",
       "Albumin 5%                  124.999995   249.999990   249.999990    500.000000  \n",
       "Calcium Gluconate             1.000000     1.000000     1.000000      2.000000  \n",
       "D5 1/2NS                     24.999999    37.037037    49.978560    142.857146  \n",
       "Dextrose 5%                   3.728571     5.000000     8.852611     93.055552  \n",
       "Furosemide (Lasix)            1.949558     3.423073     7.050000     60.000002  \n",
       "GT Flush                     30.000000    30.000000    50.000000    360.000000  \n",
       "Gastric Meds                 30.000000    40.000000    60.000000    520.000000  \n",
       "Heparin Sodium              383.111102   529.421989   714.285748   2704.062477  \n",
       "Hydralazine                  10.000001    10.000001    10.000001     30.000001  \n",
       "Insulin - Glargine           10.000000    20.000000    30.000000    150.000000  \n",
       "Insulin - Humalog             2.000000     4.000000     6.000000     27.000000  \n",
       "Insulin - Regular             0.747425     1.480000     2.488392     16.765808  \n",
       "K Phos                        1.153846     1.250000     2.142857      5.000000  \n",
       "KCL (Bolus)                  24.999999    24.999999    24.999999     50.000002  \n",
       "LR                           19.612904    43.278898    57.812499    900.000000  \n",
       "Lorazepam (Ativan)            0.500000     1.000000     2.000000      8.000000  \n",
       "Magnesium Sulfate             1.000000     1.000000     1.000000      2.500000  \n",
       "Magnesium Sulfate (Bolus)    24.999999    24.999999    24.999999     34.999998  \n",
       "Metoprolol                    5.000000     5.000000     5.000000     25.000002  \n",
       "Midazolam (Versed)            0.500000     1.000183     2.458013     12.675620  \n",
       "Morphine Sulfate              1.931432     2.000000     3.998854     50.000001  \n",
       "Nitroglycerin                 0.835280     1.621888     3.377449     15.571214  \n",
       "Norepinephrine                0.076169     0.180153     0.420034      2.094934  \n",
       "OR Cell Saver Intake        500.000000   500.000000   700.000000   2500.000000  \n",
       "OR Crystalloid Intake      1400.000000  2500.000000  3200.000000  11000.000000  \n",
       "PO Intake                   100.000000   120.000000   240.000000   4800.000000  \n",
       "Packed Red Blood Cells       46.874998    70.999997   138.999993    384.999990  \n",
       "Phenylephrine                 0.659341     1.411043     2.926213     16.390244  \n",
       "Piggyback                    24.999999    38.461540    49.999998    187.500000  \n",
       "Potassium Chloride            0.738889     0.991700     5.000000     20.000001  \n",
       "Solution                      0.985477     3.580815     9.090909     53.333330  \n",
       "Sterile Water                 9.572072    10.000000    14.285714     66.699996  "
      ],
      "text/html": "<div>\n<style scoped>\n    .dataframe tbody tr th:only-of-type {\n        vertical-align: middle;\n    }\n\n    .dataframe tbody tr th {\n        vertical-align: top;\n    }\n\n    .dataframe thead th {\n        text-align: right;\n    }\n</style>\n<table border=\"1\" class=\"dataframe\">\n  <thead>\n    <tr style=\"text-align: right;\">\n      <th></th>\n      <th>count</th>\n      <th>mean</th>\n      <th>std</th>\n      <th>min</th>\n      <th>25%</th>\n      <th>50%</th>\n      <th>75%</th>\n      <th>max</th>\n    </tr>\n    <tr>\n      <th>LABEL</th>\n      <th></th>\n      <th></th>\n      <th></th>\n      <th></th>\n      <th></th>\n      <th></th>\n      <th></th>\n      <th></th>\n    </tr>\n  </thead>\n  <tbody>\n    <tr>\n      <th>Albumin 5%</th>\n      <td>7983.0</td>\n      <td>196.431616</td>\n      <td>96.500468</td>\n      <td>0.000000</td>\n      <td>124.999995</td>\n      <td>249.999990</td>\n      <td>249.999990</td>\n      <td>500.000000</td>\n    </tr>\n    <tr>\n      <th>Calcium Gluconate</th>\n      <td>26163.0</td>\n      <td>0.898323</td>\n      <td>0.297023</td>\n      <td>0.000000</td>\n      <td>1.000000</td>\n      <td>1.000000</td>\n      <td>1.000000</td>\n      <td>2.000000</td>\n    </tr>\n    <tr>\n      <th>D5 1/2NS</th>\n      <td>140224.0</td>\n      <td>37.062061</td>\n      <td>20.332373</td>\n      <td>0.000000</td>\n      <td>24.999999</td>\n      <td>37.037037</td>\n      <td>49.978560</td>\n      <td>142.857146</td>\n    </tr>\n    <tr>\n      <th>Dextrose 5%</th>\n      <td>1160685.0</td>\n      <td>8.721031</td>\n      <td>11.162632</td>\n      <td>0.000000</td>\n      <td>3.728571</td>\n      <td>5.000000</td>\n      <td>8.852611</td>\n      <td>93.055552</td>\n    </tr>\n    <tr>\n      <th>Furosemide (Lasix)</th>\n      <td>113409.0</td>\n      <td>5.945197</td>\n      <td>7.741557</td>\n      <td>0.000000</td>\n      <td>1.949558</td>\n      <td>3.423073</td>\n      <td>7.050000</td>\n      <td>60.000002</td>\n    </tr>\n    <tr>\n      <th>GT Flush</th>\n      <td>25116.0</td>\n      <td>47.749841</td>\n      <td>48.647136</td>\n      <td>0.000000</td>\n      <td>30.000000</td>\n      <td>30.000000</td>\n      <td>50.000000</td>\n      <td>360.000000</td>\n    </tr>\n    <tr>\n      <th>Gastric Meds</th>\n      <td>36997.0</td>\n      <td>56.947953</td>\n      <td>50.897849</td>\n      <td>0.000000</td>\n      <td>30.000000</td>\n      <td>40.000000</td>\n      <td>60.000000</td>\n      <td>520.000000</td>\n    </tr>\n    <tr>\n      <th>Heparin Sodium</th>\n      <td>233273.0</td>\n      <td>577.439340</td>\n      <td>326.936976</td>\n      <td>0.000000</td>\n      <td>383.111102</td>\n      <td>529.421989</td>\n      <td>714.285748</td>\n      <td>2704.062477</td>\n    </tr>\n    <tr>\n      <th>Hydralazine</th>\n      <td>7234.0</td>\n      <td>11.560189</td>\n      <td>4.417902</td>\n      <td>0.000000</td>\n      <td>10.000001</td>\n      <td>10.000001</td>\n      <td>10.000001</td>\n      <td>30.000001</td>\n    </tr>\n    <tr>\n      <th>Insulin - Glargine</th>\n      <td>4116.0</td>\n      <td>23.194849</td>\n      <td>15.511370</td>\n      <td>0.000000</td>\n      <td>10.000000</td>\n      <td>20.000000</td>\n      <td>30.000000</td>\n      <td>150.000000</td>\n    </tr>\n    <tr>\n      <th>Insulin - Humalog</th>\n      <td>12601.0</td>\n      <td>4.839632</td>\n      <td>3.788863</td>\n      <td>0.000000</td>\n      <td>2.000000</td>\n      <td>4.000000</td>\n      <td>6.000000</td>\n      <td>27.000000</td>\n    </tr>\n    <tr>\n      <th>Insulin - Regular</th>\n      <td>230429.0</td>\n      <td>2.062932</td>\n      <td>2.084401</td>\n      <td>0.000000</td>\n      <td>0.747425</td>\n      <td>1.480000</td>\n      <td>2.488392</td>\n      <td>16.765808</td>\n    </tr>\n    <tr>\n      <th>K Phos</th>\n      <td>27503.0</td>\n      <td>1.554467</td>\n      <td>0.583514</td>\n      <td>0.039982</td>\n      <td>1.153846</td>\n      <td>1.250000</td>\n      <td>2.142857</td>\n      <td>5.000000</td>\n    </tr>\n    <tr>\n      <th>KCL (Bolus)</th>\n      <td>43614.0</td>\n      <td>26.080463</td>\n      <td>7.296802</td>\n      <td>0.166667</td>\n      <td>24.999999</td>\n      <td>24.999999</td>\n      <td>24.999999</td>\n      <td>50.000002</td>\n    </tr>\n    <tr>\n      <th>LR</th>\n      <td>248477.0</td>\n      <td>55.667621</td>\n      <td>87.683459</td>\n      <td>0.000000</td>\n      <td>19.612904</td>\n      <td>43.278898</td>\n      <td>57.812499</td>\n      <td>900.000000</td>\n    </tr>\n    <tr>\n      <th>Lorazepam (Ativan)</th>\n      <td>10963.0</td>\n      <td>1.215187</td>\n      <td>0.889103</td>\n      <td>0.000000</td>\n      <td>0.500000</td>\n      <td>1.000000</td>\n      <td>2.000000</td>\n      <td>8.000000</td>\n    </tr>\n    <tr>\n      <th>Magnesium Sulfate</th>\n      <td>25804.0</td>\n      <td>0.991435</td>\n      <td>0.215328</td>\n      <td>0.000000</td>\n      <td>1.000000</td>\n      <td>1.000000</td>\n      <td>1.000000</td>\n      <td>2.500000</td>\n    </tr>\n    <tr>\n      <th>Magnesium Sulfate (Bolus)</th>\n      <td>18041.0</td>\n      <td>24.795381</td>\n      <td>1.893760</td>\n      <td>0.833333</td>\n      <td>24.999999</td>\n      <td>24.999999</td>\n      <td>24.999999</td>\n      <td>34.999998</td>\n    </tr>\n    <tr>\n      <th>Metoprolol</th>\n      <td>15348.0</td>\n      <td>5.765853</td>\n      <td>2.920962</td>\n      <td>0.000000</td>\n      <td>5.000000</td>\n      <td>5.000000</td>\n      <td>5.000000</td>\n      <td>25.000002</td>\n    </tr>\n    <tr>\n      <th>Midazolam (Versed)</th>\n      <td>314614.0</td>\n      <td>1.830940</td>\n      <td>1.841343</td>\n      <td>0.000000</td>\n      <td>0.500000</td>\n      <td>1.000183</td>\n      <td>2.458013</td>\n      <td>12.675620</td>\n    </tr>\n    <tr>\n      <th>Morphine Sulfate</th>\n      <td>37545.0</td>\n      <td>2.954195</td>\n      <td>2.750287</td>\n      <td>0.000000</td>\n      <td>1.931432</td>\n      <td>2.000000</td>\n      <td>3.998854</td>\n      <td>50.000001</td>\n    </tr>\n    <tr>\n      <th>Nitroglycerin</th>\n      <td>97256.0</td>\n      <td>2.481253</td>\n      <td>2.410982</td>\n      <td>0.000000</td>\n      <td>0.835280</td>\n      <td>1.621888</td>\n      <td>3.377449</td>\n      <td>15.571214</td>\n    </tr>\n    <tr>\n      <th>Norepinephrine</th>\n      <td>198326.0</td>\n      <td>0.306612</td>\n      <td>0.335205</td>\n      <td>0.000000</td>\n      <td>0.076169</td>\n      <td>0.180153</td>\n      <td>0.420034</td>\n      <td>2.094934</td>\n    </tr>\n    <tr>\n      <th>OR Cell Saver Intake</th>\n      <td>1497.0</td>\n      <td>585.732131</td>\n      <td>244.863243</td>\n      <td>0.000000</td>\n      <td>500.000000</td>\n      <td>500.000000</td>\n      <td>700.000000</td>\n      <td>2500.000000</td>\n    </tr>\n    <tr>\n      <th>OR Crystalloid Intake</th>\n      <td>4302.0</td>\n      <td>2513.873780</td>\n      <td>1545.291486</td>\n      <td>0.000000</td>\n      <td>1400.000000</td>\n      <td>2500.000000</td>\n      <td>3200.000000</td>\n      <td>11000.000000</td>\n    </tr>\n    <tr>\n      <th>PO Intake</th>\n      <td>63526.0</td>\n      <td>178.123194</td>\n      <td>134.276296</td>\n      <td>0.000000</td>\n      <td>100.000000</td>\n      <td>120.000000</td>\n      <td>240.000000</td>\n      <td>4800.000000</td>\n    </tr>\n    <tr>\n      <th>Packed Red Blood Cells</th>\n      <td>37626.0</td>\n      <td>89.261181</td>\n      <td>68.770809</td>\n      <td>0.000000</td>\n      <td>46.874998</td>\n      <td>70.999997</td>\n      <td>138.999993</td>\n      <td>384.999990</td>\n    </tr>\n    <tr>\n      <th>Phenylephrine</th>\n      <td>231526.0</td>\n      <td>2.280101</td>\n      <td>2.502026</td>\n      <td>0.000000</td>\n      <td>0.659341</td>\n      <td>1.411043</td>\n      <td>2.926213</td>\n      <td>16.390244</td>\n    </tr>\n    <tr>\n      <th>Piggyback</th>\n      <td>46341.0</td>\n      <td>40.123155</td>\n      <td>23.796789</td>\n      <td>0.000000</td>\n      <td>24.999999</td>\n      <td>38.461540</td>\n      <td>49.999998</td>\n      <td>187.500000</td>\n    </tr>\n    <tr>\n      <th>Potassium Chloride</th>\n      <td>232492.0</td>\n      <td>3.133674</td>\n      <td>3.798524</td>\n      <td>0.000000</td>\n      <td>0.738889</td>\n      <td>0.991700</td>\n      <td>5.000000</td>\n      <td>20.000001</td>\n    </tr>\n    <tr>\n      <th>Solution</th>\n      <td>827438.0</td>\n      <td>6.144743</td>\n      <td>7.569991</td>\n      <td>0.000000</td>\n      <td>0.985477</td>\n      <td>3.580815</td>\n      <td>9.090909</td>\n      <td>53.333330</td>\n    </tr>\n    <tr>\n      <th>Sterile Water</th>\n      <td>60103.0</td>\n      <td>12.970725</td>\n      <td>8.134143</td>\n      <td>0.000000</td>\n      <td>9.572072</td>\n      <td>10.000000</td>\n      <td>14.285714</td>\n      <td>66.699996</td>\n    </tr>\n  </tbody>\n</table>\n</div>"
     },
     "metadata": {},
     "execution_count": 34
    }
   ],
   "source": [
    "inputs_small_4.groupby(\"LABEL\")[\"AMOUNT\"].describe()\n"
   ]
  },
  {
   "cell_type": "code",
   "execution_count": 35,
   "metadata": {},
   "outputs": [],
   "source": [
    "inputs_small_4.to_csv(file_path+\"INPUTS_processed.csv\")"
   ]
  },
  {
   "cell_type": "code",
   "execution_count": 36,
   "metadata": {},
   "outputs": [
    {
     "output_type": "execute_result",
     "data": {
      "text/plain": [
       "0.06449676136363636"
      ]
     },
     "metadata": {},
     "execution_count": 36
    }
   ],
   "source": [
    "len(inputs_small_4.index)/(22000*32*100)"
   ]
  },
  {
   "cell_type": "code",
   "execution_count": 37,
   "metadata": {},
   "outputs": [
    {
     "output_type": "execute_result",
     "data": {
      "text/plain": [
       "10100"
      ]
     },
     "metadata": {},
     "execution_count": 37
    }
   ],
   "source": [
    "inputs_small[\"HADM_ID\"].nunique()"
   ]
  },
  {
   "cell_type": "code",
   "execution_count": null,
   "metadata": {},
   "outputs": [],
   "source": []
  }
 ],
 "metadata": {
  "kernelspec": {
   "display_name": "Python 3",
   "language": "python",
   "name": "python3"
  },
  "language_info": {
   "codemirror_mode": {
    "name": "ipython",
    "version": 3
   },
   "file_extension": ".py",
   "mimetype": "text/x-python",
   "name": "python",
   "nbconvert_exporter": "python",
   "pygments_lexer": "ipython3",
   "version": "3.8.6-final"
  }
 },
 "nbformat": 4,
 "nbformat_minor": 2
}