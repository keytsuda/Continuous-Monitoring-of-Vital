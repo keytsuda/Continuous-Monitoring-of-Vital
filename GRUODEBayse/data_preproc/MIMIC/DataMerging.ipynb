{
 "cells": [
  {
   "cell_type": "markdown",
   "metadata": {},
   "source": [
    "# Merging of the different MIMIC data sources\n",
    "\n",
    "##### This file takes as inputs : \n",
    "\n",
    "-LAB_processed (from notebook LabEvents) with the pre-selected and cleaned lab measurements of the patients\n",
    "\n",
    "-INPUTS_processed (from notebook Admissions) with the pre-selected and cleaned inputs to the patients\n",
    "\n",
    "-Admissions_processed (from the notebook Admissions) with the death label of the patients\n",
    "\n",
    "-Diagnoses_ICD with the ICD9 codes of each patient.\n",
    "\n",
    "##### This notebook outputs :\n",
    "\n",
    "-death_tags.csv. A dataframe with the patient id and the corresponding death label\n",
    "\n",
    "-complete_tensor_csv. A dataframe containing all the measurments in tensor version.\n",
    "\n",
    "-complete_tensor_train.csv. A dataframe containing all the training measurments in tensor version.\n",
    "\n",
    "-complete_tensor_val.csv. A dataframe containing all the validation measurments in tensor version.\n",
    "\n",
    "-complete_covariates.csv. A dataframe with the ICD9 covariates codes (binary) of each patient index."
   ]
  },
  {
   "cell_type": "code",
   "execution_count": 1,
   "metadata": {},
   "outputs": [],
   "source": [
    "import pandas as pd\n",
    "import matplotlib.pyplot as plt\n",
    "from sklearn.model_selection import train_test_split\n",
    "\n",
    "import datetime\n",
    "from datetime import timedelta\n",
    "import numpy as np\n",
    "\n",
    "file_path=\"D:/mimic_iii/csv/\"\n",
    "outfile_path=\"D:/mimic_iii/clean_data/\""
   ]
  },
  {
   "cell_type": "code",
   "execution_count": 2,
   "metadata": {
    "scrolled": true
   },
   "outputs": [],
   "source": [
    "lab_df=pd.read_csv(file_path+\"LAB_processed.csv\")[[\"SUBJECT_ID\",\"HADM_ID\",\"CHARTTIME\",\"VALUENUM\",\"LABEL\"]]\n",
    "inputs_df=pd.read_csv(file_path+\"INPUTS_processed.csv\")[[\"SUBJECT_ID\",\"HADM_ID\",\"CHARTTIME\",\"AMOUNT\",\"LABEL\"]]\n",
    "outputs_df=pd.read_csv(file_path+\"OUTPUTS_processed.csv\")[[\"SUBJECT_ID\",\"HADM_ID\",\"CHARTTIME\",\"VALUE\",\"LABEL\"]]\n",
    "presc_df=pd.read_csv(file_path+\"PRESCRIPTIONS_processed.csv\")[[\"SUBJECT_ID\",\"HADM_ID\",\"CHARTTIME\",\"DOSE_VAL_RX\",\"DRUG\"]]"
   ]
  },
  {
   "cell_type": "code",
   "execution_count": 3,
   "metadata": {},
   "outputs": [],
   "source": [
    "#Process names of columns to have the same everywhere.\n",
    "\n",
    "#Change the name of amount. Valuenum for every table\n",
    "inputs_df[\"VALUENUM\"]=inputs_df[\"AMOUNT\"]\n",
    "inputs_df.head()\n",
    "inputs_df=inputs_df.drop(columns=[\"AMOUNT\"]).copy()\n",
    "\n",
    "#Change the name of amount. Valuenum for every table\n",
    "outputs_df[\"VALUENUM\"]=outputs_df[\"VALUE\"]\n",
    "outputs_df=outputs_df.drop(columns=[\"VALUE\"]).copy()\n",
    "\n",
    "#Change the name of amount. Valuenum for every table\n",
    "presc_df[\"VALUENUM\"]=presc_df[\"DOSE_VAL_RX\"]\n",
    "presc_df=presc_df.drop(columns=[\"DOSE_VAL_RX\"]).copy()\n",
    "presc_df[\"LABEL\"]=presc_df[\"DRUG\"]\n",
    "presc_df=presc_df.drop(columns=[\"DRUG\"]).copy()\n",
    "\n",
    "\n",
    "#Tag to distinguish between lab and inputs events\n",
    "inputs_df[\"Origin\"]=\"Inputs\"\n",
    "lab_df[\"Origin\"]=\"Lab\"\n",
    "outputs_df[\"Origin\"]=\"Outputs\"\n",
    "presc_df[\"Origin\"]=\"Prescriptions\"\n",
    "\n",
    "\n",
    "#merge both dfs.\n",
    "merged_df1=(inputs_df.append(lab_df)).reset_index()\n",
    "merged_df2=(merged_df1.append(outputs_df)).reset_index()\n",
    "merged_df2.drop(columns=\"level_0\",inplace=True)\n",
    "merged_df=(merged_df2.append(presc_df)).reset_index()\n",
    "\n",
    "\n",
    "#Check that all labels have different names.\n",
    "assert(merged_df[\"LABEL\"].nunique()==(inputs_df[\"LABEL\"].nunique()+lab_df[\"LABEL\"].nunique()+outputs_df[\"LABEL\"].nunique()+presc_df[\"LABEL\"].nunique()))\n"
   ]
  },
  {
   "cell_type": "code",
   "execution_count": 4,
   "metadata": {},
   "outputs": [
    {
     "output_type": "execute_result",
     "data": {
      "text/plain": [
       "   level_0  index  SUBJECT_ID   HADM_ID            CHARTTIME  \\\n",
       "0        0    0.0       27063  139787.0  2133-02-05 06:29:00   \n",
       "1        1    1.0       27063  139787.0  2133-02-05 06:59:00   \n",
       "2        2    2.0       27063  139787.0  2133-02-05 07:29:00   \n",
       "3        3    3.0       27063  139787.0  2133-02-05 07:59:00   \n",
       "4        4    4.0       27063  139787.0  2133-02-05 08:29:00   \n",
       "\n",
       "                LABEL  VALUENUM  Origin  \n",
       "0  Potassium Chloride  1.354906  Inputs  \n",
       "1  Potassium Chloride  1.354906  Inputs  \n",
       "2  Potassium Chloride  1.354906  Inputs  \n",
       "3  Potassium Chloride  1.354906  Inputs  \n",
       "4  Potassium Chloride  1.354906  Inputs  "
      ],
      "text/html": "<div>\n<style scoped>\n    .dataframe tbody tr th:only-of-type {\n        vertical-align: middle;\n    }\n\n    .dataframe tbody tr th {\n        vertical-align: top;\n    }\n\n    .dataframe thead th {\n        text-align: right;\n    }\n</style>\n<table border=\"1\" class=\"dataframe\">\n  <thead>\n    <tr style=\"text-align: right;\">\n      <th></th>\n      <th>level_0</th>\n      <th>index</th>\n      <th>SUBJECT_ID</th>\n      <th>HADM_ID</th>\n      <th>CHARTTIME</th>\n      <th>LABEL</th>\n      <th>VALUENUM</th>\n      <th>Origin</th>\n    </tr>\n  </thead>\n  <tbody>\n    <tr>\n      <th>0</th>\n      <td>0</td>\n      <td>0.0</td>\n      <td>27063</td>\n      <td>139787.0</td>\n      <td>2133-02-05 06:29:00</td>\n      <td>Potassium Chloride</td>\n      <td>1.354906</td>\n      <td>Inputs</td>\n    </tr>\n    <tr>\n      <th>1</th>\n      <td>1</td>\n      <td>1.0</td>\n      <td>27063</td>\n      <td>139787.0</td>\n      <td>2133-02-05 06:59:00</td>\n      <td>Potassium Chloride</td>\n      <td>1.354906</td>\n      <td>Inputs</td>\n    </tr>\n    <tr>\n      <th>2</th>\n      <td>2</td>\n      <td>2.0</td>\n      <td>27063</td>\n      <td>139787.0</td>\n      <td>2133-02-05 07:29:00</td>\n      <td>Potassium Chloride</td>\n      <td>1.354906</td>\n      <td>Inputs</td>\n    </tr>\n    <tr>\n      <th>3</th>\n      <td>3</td>\n      <td>3.0</td>\n      <td>27063</td>\n      <td>139787.0</td>\n      <td>2133-02-05 07:59:00</td>\n      <td>Potassium Chloride</td>\n      <td>1.354906</td>\n      <td>Inputs</td>\n    </tr>\n    <tr>\n      <th>4</th>\n      <td>4</td>\n      <td>4.0</td>\n      <td>27063</td>\n      <td>139787.0</td>\n      <td>2133-02-05 08:29:00</td>\n      <td>Potassium Chloride</td>\n      <td>1.354906</td>\n      <td>Inputs</td>\n    </tr>\n  </tbody>\n</table>\n</div>"
     },
     "metadata": {},
     "execution_count": 4
    }
   ],
   "source": [
    "merged_df.head()"
   ]
  },
  {
   "cell_type": "code",
   "execution_count": 5,
   "metadata": {},
   "outputs": [],
   "source": [
    "#Set the reference time as the lowest chart time for each admission.\n",
    "merged_df['CHARTTIME']=pd.to_datetime(merged_df[\"CHARTTIME\"], format='%Y-%m-%d %H:%M:%S')\n",
    "ref_time=merged_df.groupby(\"HADM_ID\")[\"CHARTTIME\"].min()\n",
    "\n",
    "merged_df_1=pd.merge(ref_time.to_frame(name=\"REF_TIME\"),merged_df,left_index=True,right_on=\"HADM_ID\")\n",
    "merged_df_1[\"TIME_STAMP\"]=merged_df_1[\"CHARTTIME\"]-merged_df_1[\"REF_TIME\"]\n",
    "assert(len(merged_df_1.loc[merged_df_1[\"TIME_STAMP\"]<timedelta(hours=0)].index)==0)"
   ]
  },
  {
   "cell_type": "code",
   "execution_count": 6,
   "metadata": {},
   "outputs": [],
   "source": [
    "#Create a label code (int) for the labels.\n",
    "label_dict=dict(zip(list(merged_df_1[\"LABEL\"].unique()),range(len(list(merged_df_1[\"LABEL\"].unique())))))\n",
    "merged_df_1[\"LABEL_CODE\"]=merged_df_1[\"LABEL\"].map(label_dict)\n",
    "\n",
    "merged_df_short=merged_df_1[[\"HADM_ID\",\"VALUENUM\",\"TIME_STAMP\",\"LABEL_CODE\",\"Origin\"]]\n",
    "\n",
    "#To do : store the label dictionnary in a csv file."
   ]
  },
  {
   "cell_type": "code",
   "execution_count": 7,
   "metadata": {},
   "outputs": [],
   "source": [
    "label_dict_df=pd.Series(merged_df_1[\"LABEL\"].unique()).reset_index()\n",
    "label_dict_df.columns=[\"index\",\"LABEL\"]\n",
    "label_dict_df[\"LABEL_CODE\"]=label_dict_df[\"LABEL\"].map(label_dict)\n",
    "label_dict_df.drop(columns=[\"index\"],inplace=True)\n",
    "label_dict_df.to_csv(outfile_path+\"label_dict.csv\")"
   ]
  },
  {
   "cell_type": "markdown",
   "metadata": {},
   "source": [
    "#### Time binning of the data\n",
    "First we select the data up to a certain time limit (48 hours)"
   ]
  },
  {
   "cell_type": "code",
   "execution_count": 8,
   "metadata": {},
   "outputs": [
    {
     "output_type": "stream",
     "name": "stdout",
     "text": [
      "Number of patients considered :23457\n"
     ]
    }
   ],
   "source": [
    "#Now only select values within 48 hours.\n",
    "merged_df_short=merged_df_short.loc[(merged_df_short[\"TIME_STAMP\"]<timedelta(hours=48))]\n",
    "print(\"Number of patients considered :\"+str(merged_df_short[\"HADM_ID\"].nunique()))"
   ]
  },
  {
   "cell_type": "code",
   "execution_count": 9,
   "metadata": {},
   "outputs": [
    {
     "output_type": "display_data",
     "data": {
      "text/plain": "<Figure size 432x288 with 1 Axes>",
      "image/svg+xml": "<?xml version=\"1.0\" encoding=\"utf-8\" standalone=\"no\"?>\r\n<!DOCTYPE svg PUBLIC \"-//W3C//DTD SVG 1.1//EN\"\r\n  \"http://www.w3.org/Graphics/SVG/1.1/DTD/svg11.dtd\">\r\n<!-- Created with matplotlib (https://matplotlib.org/) -->\r\n<svg height=\"277.314375pt\" version=\"1.1\" viewBox=\"0 0 392.14375 277.314375\" width=\"392.14375pt\" xmlns=\"http://www.w3.org/2000/svg\" xmlns:xlink=\"http://www.w3.org/1999/xlink\">\r\n <metadata>\r\n  <rdf:RDF xmlns:cc=\"http://creativecommons.org/ns#\" xmlns:dc=\"http://purl.org/dc/elements/1.1/\" xmlns:rdf=\"http://www.w3.org/1999/02/22-rdf-syntax-ns#\">\r\n   <cc:Work>\r\n    <dc:type rdf:resource=\"http://purl.org/dc/dcmitype/StillImage\"/>\r\n    <dc:date>2021-02-14T15:54:02.846221</dc:date>\r\n    <dc:format>image/svg+xml</dc:format>\r\n    <dc:creator>\r\n     <cc:Agent>\r\n      <dc:title>Matplotlib v3.3.2, https://matplotlib.org/</dc:title>\r\n     </cc:Agent>\r\n    </dc:creator>\r\n   </cc:Work>\r\n  </rdf:RDF>\r\n </metadata>\r\n <defs>\r\n  <style type=\"text/css\">*{stroke-linecap:butt;stroke-linejoin:round;}</style>\r\n </defs>\r\n <g id=\"figure_1\">\r\n  <g id=\"patch_1\">\r\n   <path d=\"M 0 277.314375 \r\nL 392.14375 277.314375 \r\nL 392.14375 0 \r\nL 0 0 \r\nz\r\n\" style=\"fill:none;\"/>\r\n  </g>\r\n  <g id=\"axes_1\">\r\n   <g id=\"patch_2\">\r\n    <path d=\"M 50.14375 239.758125 \r\nL 384.94375 239.758125 \r\nL 384.94375 22.318125 \r\nL 50.14375 22.318125 \r\nz\r\n\" style=\"fill:#ffffff;\"/>\r\n   </g>\r\n   <g id=\"matplotlib.axis_1\">\r\n    <g id=\"xtick_1\">\r\n     <g id=\"line2d_1\">\r\n      <defs>\r\n       <path d=\"M 0 0 \r\nL 0 3.5 \r\n\" id=\"m1d240f4b6d\" style=\"stroke:#000000;stroke-width:0.8;\"/>\r\n      </defs>\r\n      <g>\r\n       <use style=\"stroke:#000000;stroke-width:0.8;\" x=\"60.114283\" xlink:href=\"#m1d240f4b6d\" y=\"239.758125\"/>\r\n      </g>\r\n     </g>\r\n     <g id=\"text_1\">\r\n      <!-- 0 -->\r\n      <g transform=\"translate(56.933033 254.356562)scale(0.1 -0.1)\">\r\n       <defs>\r\n        <path d=\"M 31.78125 66.40625 \r\nQ 24.171875 66.40625 20.328125 58.90625 \r\nQ 16.5 51.421875 16.5 36.375 \r\nQ 16.5 21.390625 20.328125 13.890625 \r\nQ 24.171875 6.390625 31.78125 6.390625 \r\nQ 39.453125 6.390625 43.28125 13.890625 \r\nQ 47.125 21.390625 47.125 36.375 \r\nQ 47.125 51.421875 43.28125 58.90625 \r\nQ 39.453125 66.40625 31.78125 66.40625 \r\nz\r\nM 31.78125 74.21875 \r\nQ 44.046875 74.21875 50.515625 64.515625 \r\nQ 56.984375 54.828125 56.984375 36.375 \r\nQ 56.984375 17.96875 50.515625 8.265625 \r\nQ 44.046875 -1.421875 31.78125 -1.421875 \r\nQ 19.53125 -1.421875 13.0625 8.265625 \r\nQ 6.59375 17.96875 6.59375 36.375 \r\nQ 6.59375 54.828125 13.0625 64.515625 \r\nQ 19.53125 74.21875 31.78125 74.21875 \r\nz\r\n\" id=\"DejaVuSans-48\"/>\r\n       </defs>\r\n       <use xlink:href=\"#DejaVuSans-48\"/>\r\n      </g>\r\n     </g>\r\n    </g>\r\n    <g id=\"xtick_2\">\r\n     <g id=\"line2d_2\">\r\n      <g>\r\n       <use style=\"stroke:#000000;stroke-width:0.8;\" x=\"112.590772\" xlink:href=\"#m1d240f4b6d\" y=\"239.758125\"/>\r\n      </g>\r\n     </g>\r\n     <g id=\"text_2\">\r\n      <!-- 10 -->\r\n      <g transform=\"translate(106.228272 254.356562)scale(0.1 -0.1)\">\r\n       <defs>\r\n        <path d=\"M 12.40625 8.296875 \r\nL 28.515625 8.296875 \r\nL 28.515625 63.921875 \r\nL 10.984375 60.40625 \r\nL 10.984375 69.390625 \r\nL 28.421875 72.90625 \r\nL 38.28125 72.90625 \r\nL 38.28125 8.296875 \r\nL 54.390625 8.296875 \r\nL 54.390625 0 \r\nL 12.40625 0 \r\nz\r\n\" id=\"DejaVuSans-49\"/>\r\n       </defs>\r\n       <use xlink:href=\"#DejaVuSans-49\"/>\r\n       <use x=\"63.623047\" xlink:href=\"#DejaVuSans-48\"/>\r\n      </g>\r\n     </g>\r\n    </g>\r\n    <g id=\"xtick_3\">\r\n     <g id=\"line2d_3\">\r\n      <g>\r\n       <use style=\"stroke:#000000;stroke-width:0.8;\" x=\"165.067261\" xlink:href=\"#m1d240f4b6d\" y=\"239.758125\"/>\r\n      </g>\r\n     </g>\r\n     <g id=\"text_3\">\r\n      <!-- 20 -->\r\n      <g transform=\"translate(158.704761 254.356562)scale(0.1 -0.1)\">\r\n       <defs>\r\n        <path d=\"M 19.1875 8.296875 \r\nL 53.609375 8.296875 \r\nL 53.609375 0 \r\nL 7.328125 0 \r\nL 7.328125 8.296875 \r\nQ 12.9375 14.109375 22.625 23.890625 \r\nQ 32.328125 33.6875 34.8125 36.53125 \r\nQ 39.546875 41.84375 41.421875 45.53125 \r\nQ 43.3125 49.21875 43.3125 52.78125 \r\nQ 43.3125 58.59375 39.234375 62.25 \r\nQ 35.15625 65.921875 28.609375 65.921875 \r\nQ 23.96875 65.921875 18.8125 64.3125 \r\nQ 13.671875 62.703125 7.8125 59.421875 \r\nL 7.8125 69.390625 \r\nQ 13.765625 71.78125 18.9375 73 \r\nQ 24.125 74.21875 28.421875 74.21875 \r\nQ 39.75 74.21875 46.484375 68.546875 \r\nQ 53.21875 62.890625 53.21875 53.421875 \r\nQ 53.21875 48.921875 51.53125 44.890625 \r\nQ 49.859375 40.875 45.40625 35.40625 \r\nQ 44.1875 33.984375 37.640625 27.21875 \r\nQ 31.109375 20.453125 19.1875 8.296875 \r\nz\r\n\" id=\"DejaVuSans-50\"/>\r\n       </defs>\r\n       <use xlink:href=\"#DejaVuSans-50\"/>\r\n       <use x=\"63.623047\" xlink:href=\"#DejaVuSans-48\"/>\r\n      </g>\r\n     </g>\r\n    </g>\r\n    <g id=\"xtick_4\">\r\n     <g id=\"line2d_4\">\r\n      <g>\r\n       <use style=\"stroke:#000000;stroke-width:0.8;\" x=\"217.54375\" xlink:href=\"#m1d240f4b6d\" y=\"239.758125\"/>\r\n      </g>\r\n     </g>\r\n     <g id=\"text_4\">\r\n      <!-- 30 -->\r\n      <g transform=\"translate(211.18125 254.356562)scale(0.1 -0.1)\">\r\n       <defs>\r\n        <path d=\"M 40.578125 39.3125 \r\nQ 47.65625 37.796875 51.625 33 \r\nQ 55.609375 28.21875 55.609375 21.1875 \r\nQ 55.609375 10.40625 48.1875 4.484375 \r\nQ 40.765625 -1.421875 27.09375 -1.421875 \r\nQ 22.515625 -1.421875 17.65625 -0.515625 \r\nQ 12.796875 0.390625 7.625 2.203125 \r\nL 7.625 11.71875 \r\nQ 11.71875 9.328125 16.59375 8.109375 \r\nQ 21.484375 6.890625 26.8125 6.890625 \r\nQ 36.078125 6.890625 40.9375 10.546875 \r\nQ 45.796875 14.203125 45.796875 21.1875 \r\nQ 45.796875 27.640625 41.28125 31.265625 \r\nQ 36.765625 34.90625 28.71875 34.90625 \r\nL 20.21875 34.90625 \r\nL 20.21875 43.015625 \r\nL 29.109375 43.015625 \r\nQ 36.375 43.015625 40.234375 45.921875 \r\nQ 44.09375 48.828125 44.09375 54.296875 \r\nQ 44.09375 59.90625 40.109375 62.90625 \r\nQ 36.140625 65.921875 28.71875 65.921875 \r\nQ 24.65625 65.921875 20.015625 65.03125 \r\nQ 15.375 64.15625 9.8125 62.3125 \r\nL 9.8125 71.09375 \r\nQ 15.4375 72.65625 20.34375 73.4375 \r\nQ 25.25 74.21875 29.59375 74.21875 \r\nQ 40.828125 74.21875 47.359375 69.109375 \r\nQ 53.90625 64.015625 53.90625 55.328125 \r\nQ 53.90625 49.265625 50.4375 45.09375 \r\nQ 46.96875 40.921875 40.578125 39.3125 \r\nz\r\n\" id=\"DejaVuSans-51\"/>\r\n       </defs>\r\n       <use xlink:href=\"#DejaVuSans-51\"/>\r\n       <use x=\"63.623047\" xlink:href=\"#DejaVuSans-48\"/>\r\n      </g>\r\n     </g>\r\n    </g>\r\n    <g id=\"xtick_5\">\r\n     <g id=\"line2d_5\">\r\n      <g>\r\n       <use style=\"stroke:#000000;stroke-width:0.8;\" x=\"270.020239\" xlink:href=\"#m1d240f4b6d\" y=\"239.758125\"/>\r\n      </g>\r\n     </g>\r\n     <g id=\"text_5\">\r\n      <!-- 40 -->\r\n      <g transform=\"translate(263.657739 254.356562)scale(0.1 -0.1)\">\r\n       <defs>\r\n        <path d=\"M 37.796875 64.3125 \r\nL 12.890625 25.390625 \r\nL 37.796875 25.390625 \r\nz\r\nM 35.203125 72.90625 \r\nL 47.609375 72.90625 \r\nL 47.609375 25.390625 \r\nL 58.015625 25.390625 \r\nL 58.015625 17.1875 \r\nL 47.609375 17.1875 \r\nL 47.609375 0 \r\nL 37.796875 0 \r\nL 37.796875 17.1875 \r\nL 4.890625 17.1875 \r\nL 4.890625 26.703125 \r\nz\r\n\" id=\"DejaVuSans-52\"/>\r\n       </defs>\r\n       <use xlink:href=\"#DejaVuSans-52\"/>\r\n       <use x=\"63.623047\" xlink:href=\"#DejaVuSans-48\"/>\r\n      </g>\r\n     </g>\r\n    </g>\r\n    <g id=\"xtick_6\">\r\n     <g id=\"line2d_6\">\r\n      <g>\r\n       <use style=\"stroke:#000000;stroke-width:0.8;\" x=\"322.496728\" xlink:href=\"#m1d240f4b6d\" y=\"239.758125\"/>\r\n      </g>\r\n     </g>\r\n     <g id=\"text_6\">\r\n      <!-- 50 -->\r\n      <g transform=\"translate(316.134228 254.356562)scale(0.1 -0.1)\">\r\n       <defs>\r\n        <path d=\"M 10.796875 72.90625 \r\nL 49.515625 72.90625 \r\nL 49.515625 64.59375 \r\nL 19.828125 64.59375 \r\nL 19.828125 46.734375 \r\nQ 21.96875 47.46875 24.109375 47.828125 \r\nQ 26.265625 48.1875 28.421875 48.1875 \r\nQ 40.625 48.1875 47.75 41.5 \r\nQ 54.890625 34.8125 54.890625 23.390625 \r\nQ 54.890625 11.625 47.5625 5.09375 \r\nQ 40.234375 -1.421875 26.90625 -1.421875 \r\nQ 22.3125 -1.421875 17.546875 -0.640625 \r\nQ 12.796875 0.140625 7.71875 1.703125 \r\nL 7.71875 11.625 \r\nQ 12.109375 9.234375 16.796875 8.0625 \r\nQ 21.484375 6.890625 26.703125 6.890625 \r\nQ 35.15625 6.890625 40.078125 11.328125 \r\nQ 45.015625 15.765625 45.015625 23.390625 \r\nQ 45.015625 31 40.078125 35.4375 \r\nQ 35.15625 39.890625 26.703125 39.890625 \r\nQ 22.75 39.890625 18.8125 39.015625 \r\nQ 14.890625 38.140625 10.796875 36.28125 \r\nz\r\n\" id=\"DejaVuSans-53\"/>\r\n       </defs>\r\n       <use xlink:href=\"#DejaVuSans-53\"/>\r\n       <use x=\"63.623047\" xlink:href=\"#DejaVuSans-48\"/>\r\n      </g>\r\n     </g>\r\n    </g>\r\n    <g id=\"xtick_7\">\r\n     <g id=\"line2d_7\">\r\n      <g>\r\n       <use style=\"stroke:#000000;stroke-width:0.8;\" x=\"374.973217\" xlink:href=\"#m1d240f4b6d\" y=\"239.758125\"/>\r\n      </g>\r\n     </g>\r\n     <g id=\"text_7\">\r\n      <!-- 60 -->\r\n      <g transform=\"translate(368.610717 254.356562)scale(0.1 -0.1)\">\r\n       <defs>\r\n        <path d=\"M 33.015625 40.375 \r\nQ 26.375 40.375 22.484375 35.828125 \r\nQ 18.609375 31.296875 18.609375 23.390625 \r\nQ 18.609375 15.53125 22.484375 10.953125 \r\nQ 26.375 6.390625 33.015625 6.390625 \r\nQ 39.65625 6.390625 43.53125 10.953125 \r\nQ 47.40625 15.53125 47.40625 23.390625 \r\nQ 47.40625 31.296875 43.53125 35.828125 \r\nQ 39.65625 40.375 33.015625 40.375 \r\nz\r\nM 52.59375 71.296875 \r\nL 52.59375 62.3125 \r\nQ 48.875 64.0625 45.09375 64.984375 \r\nQ 41.3125 65.921875 37.59375 65.921875 \r\nQ 27.828125 65.921875 22.671875 59.328125 \r\nQ 17.53125 52.734375 16.796875 39.40625 \r\nQ 19.671875 43.65625 24.015625 45.921875 \r\nQ 28.375 48.1875 33.59375 48.1875 \r\nQ 44.578125 48.1875 50.953125 41.515625 \r\nQ 57.328125 34.859375 57.328125 23.390625 \r\nQ 57.328125 12.15625 50.6875 5.359375 \r\nQ 44.046875 -1.421875 33.015625 -1.421875 \r\nQ 20.359375 -1.421875 13.671875 8.265625 \r\nQ 6.984375 17.96875 6.984375 36.375 \r\nQ 6.984375 53.65625 15.1875 63.9375 \r\nQ 23.390625 74.21875 37.203125 74.21875 \r\nQ 40.921875 74.21875 44.703125 73.484375 \r\nQ 48.484375 72.75 52.59375 71.296875 \r\nz\r\n\" id=\"DejaVuSans-54\"/>\r\n       </defs>\r\n       <use xlink:href=\"#DejaVuSans-54\"/>\r\n       <use x=\"63.623047\" xlink:href=\"#DejaVuSans-48\"/>\r\n      </g>\r\n     </g>\r\n    </g>\r\n    <g id=\"text_8\">\r\n     <!-- Number of bins/hour -->\r\n     <g transform=\"translate(165.986719 268.034687)scale(0.1 -0.1)\">\r\n      <defs>\r\n       <path d=\"M 9.8125 72.90625 \r\nL 23.09375 72.90625 \r\nL 55.421875 11.921875 \r\nL 55.421875 72.90625 \r\nL 64.984375 72.90625 \r\nL 64.984375 0 \r\nL 51.703125 0 \r\nL 19.390625 60.984375 \r\nL 19.390625 0 \r\nL 9.8125 0 \r\nz\r\n\" id=\"DejaVuSans-78\"/>\r\n       <path d=\"M 8.5 21.578125 \r\nL 8.5 54.6875 \r\nL 17.484375 54.6875 \r\nL 17.484375 21.921875 \r\nQ 17.484375 14.15625 20.5 10.265625 \r\nQ 23.53125 6.390625 29.59375 6.390625 \r\nQ 36.859375 6.390625 41.078125 11.03125 \r\nQ 45.3125 15.671875 45.3125 23.6875 \r\nL 45.3125 54.6875 \r\nL 54.296875 54.6875 \r\nL 54.296875 0 \r\nL 45.3125 0 \r\nL 45.3125 8.40625 \r\nQ 42.046875 3.421875 37.71875 1 \r\nQ 33.40625 -1.421875 27.6875 -1.421875 \r\nQ 18.265625 -1.421875 13.375 4.4375 \r\nQ 8.5 10.296875 8.5 21.578125 \r\nz\r\nM 31.109375 56 \r\nz\r\n\" id=\"DejaVuSans-117\"/>\r\n       <path d=\"M 52 44.1875 \r\nQ 55.375 50.25 60.0625 53.125 \r\nQ 64.75 56 71.09375 56 \r\nQ 79.640625 56 84.28125 50.015625 \r\nQ 88.921875 44.046875 88.921875 33.015625 \r\nL 88.921875 0 \r\nL 79.890625 0 \r\nL 79.890625 32.71875 \r\nQ 79.890625 40.578125 77.09375 44.375 \r\nQ 74.3125 48.1875 68.609375 48.1875 \r\nQ 61.625 48.1875 57.5625 43.546875 \r\nQ 53.515625 38.921875 53.515625 30.90625 \r\nL 53.515625 0 \r\nL 44.484375 0 \r\nL 44.484375 32.71875 \r\nQ 44.484375 40.625 41.703125 44.40625 \r\nQ 38.921875 48.1875 33.109375 48.1875 \r\nQ 26.21875 48.1875 22.15625 43.53125 \r\nQ 18.109375 38.875 18.109375 30.90625 \r\nL 18.109375 0 \r\nL 9.078125 0 \r\nL 9.078125 54.6875 \r\nL 18.109375 54.6875 \r\nL 18.109375 46.1875 \r\nQ 21.1875 51.21875 25.484375 53.609375 \r\nQ 29.78125 56 35.6875 56 \r\nQ 41.65625 56 45.828125 52.96875 \r\nQ 50 49.953125 52 44.1875 \r\nz\r\n\" id=\"DejaVuSans-109\"/>\r\n       <path d=\"M 48.6875 27.296875 \r\nQ 48.6875 37.203125 44.609375 42.84375 \r\nQ 40.53125 48.484375 33.40625 48.484375 \r\nQ 26.265625 48.484375 22.1875 42.84375 \r\nQ 18.109375 37.203125 18.109375 27.296875 \r\nQ 18.109375 17.390625 22.1875 11.75 \r\nQ 26.265625 6.109375 33.40625 6.109375 \r\nQ 40.53125 6.109375 44.609375 11.75 \r\nQ 48.6875 17.390625 48.6875 27.296875 \r\nz\r\nM 18.109375 46.390625 \r\nQ 20.953125 51.265625 25.265625 53.625 \r\nQ 29.59375 56 35.59375 56 \r\nQ 45.5625 56 51.78125 48.09375 \r\nQ 58.015625 40.1875 58.015625 27.296875 \r\nQ 58.015625 14.40625 51.78125 6.484375 \r\nQ 45.5625 -1.421875 35.59375 -1.421875 \r\nQ 29.59375 -1.421875 25.265625 0.953125 \r\nQ 20.953125 3.328125 18.109375 8.203125 \r\nL 18.109375 0 \r\nL 9.078125 0 \r\nL 9.078125 75.984375 \r\nL 18.109375 75.984375 \r\nz\r\n\" id=\"DejaVuSans-98\"/>\r\n       <path d=\"M 56.203125 29.59375 \r\nL 56.203125 25.203125 \r\nL 14.890625 25.203125 \r\nQ 15.484375 15.921875 20.484375 11.0625 \r\nQ 25.484375 6.203125 34.421875 6.203125 \r\nQ 39.59375 6.203125 44.453125 7.46875 \r\nQ 49.3125 8.734375 54.109375 11.28125 \r\nL 54.109375 2.78125 \r\nQ 49.265625 0.734375 44.1875 -0.34375 \r\nQ 39.109375 -1.421875 33.890625 -1.421875 \r\nQ 20.796875 -1.421875 13.15625 6.1875 \r\nQ 5.515625 13.8125 5.515625 26.8125 \r\nQ 5.515625 40.234375 12.765625 48.109375 \r\nQ 20.015625 56 32.328125 56 \r\nQ 43.359375 56 49.78125 48.890625 \r\nQ 56.203125 41.796875 56.203125 29.59375 \r\nz\r\nM 47.21875 32.234375 \r\nQ 47.125 39.59375 43.09375 43.984375 \r\nQ 39.0625 48.390625 32.421875 48.390625 \r\nQ 24.90625 48.390625 20.390625 44.140625 \r\nQ 15.875 39.890625 15.1875 32.171875 \r\nz\r\n\" id=\"DejaVuSans-101\"/>\r\n       <path d=\"M 41.109375 46.296875 \r\nQ 39.59375 47.171875 37.8125 47.578125 \r\nQ 36.03125 48 33.890625 48 \r\nQ 26.265625 48 22.1875 43.046875 \r\nQ 18.109375 38.09375 18.109375 28.8125 \r\nL 18.109375 0 \r\nL 9.078125 0 \r\nL 9.078125 54.6875 \r\nL 18.109375 54.6875 \r\nL 18.109375 46.1875 \r\nQ 20.953125 51.171875 25.484375 53.578125 \r\nQ 30.03125 56 36.53125 56 \r\nQ 37.453125 56 38.578125 55.875 \r\nQ 39.703125 55.765625 41.0625 55.515625 \r\nz\r\n\" id=\"DejaVuSans-114\"/>\r\n       <path id=\"DejaVuSans-32\"/>\r\n       <path d=\"M 30.609375 48.390625 \r\nQ 23.390625 48.390625 19.1875 42.75 \r\nQ 14.984375 37.109375 14.984375 27.296875 \r\nQ 14.984375 17.484375 19.15625 11.84375 \r\nQ 23.34375 6.203125 30.609375 6.203125 \r\nQ 37.796875 6.203125 41.984375 11.859375 \r\nQ 46.1875 17.53125 46.1875 27.296875 \r\nQ 46.1875 37.015625 41.984375 42.703125 \r\nQ 37.796875 48.390625 30.609375 48.390625 \r\nz\r\nM 30.609375 56 \r\nQ 42.328125 56 49.015625 48.375 \r\nQ 55.71875 40.765625 55.71875 27.296875 \r\nQ 55.71875 13.875 49.015625 6.21875 \r\nQ 42.328125 -1.421875 30.609375 -1.421875 \r\nQ 18.84375 -1.421875 12.171875 6.21875 \r\nQ 5.515625 13.875 5.515625 27.296875 \r\nQ 5.515625 40.765625 12.171875 48.375 \r\nQ 18.84375 56 30.609375 56 \r\nz\r\n\" id=\"DejaVuSans-111\"/>\r\n       <path d=\"M 37.109375 75.984375 \r\nL 37.109375 68.5 \r\nL 28.515625 68.5 \r\nQ 23.6875 68.5 21.796875 66.546875 \r\nQ 19.921875 64.59375 19.921875 59.515625 \r\nL 19.921875 54.6875 \r\nL 34.71875 54.6875 \r\nL 34.71875 47.703125 \r\nL 19.921875 47.703125 \r\nL 19.921875 0 \r\nL 10.890625 0 \r\nL 10.890625 47.703125 \r\nL 2.296875 47.703125 \r\nL 2.296875 54.6875 \r\nL 10.890625 54.6875 \r\nL 10.890625 58.5 \r\nQ 10.890625 67.625 15.140625 71.796875 \r\nQ 19.390625 75.984375 28.609375 75.984375 \r\nz\r\n\" id=\"DejaVuSans-102\"/>\r\n       <path d=\"M 9.421875 54.6875 \r\nL 18.40625 54.6875 \r\nL 18.40625 0 \r\nL 9.421875 0 \r\nz\r\nM 9.421875 75.984375 \r\nL 18.40625 75.984375 \r\nL 18.40625 64.59375 \r\nL 9.421875 64.59375 \r\nz\r\n\" id=\"DejaVuSans-105\"/>\r\n       <path d=\"M 54.890625 33.015625 \r\nL 54.890625 0 \r\nL 45.90625 0 \r\nL 45.90625 32.71875 \r\nQ 45.90625 40.484375 42.875 44.328125 \r\nQ 39.84375 48.1875 33.796875 48.1875 \r\nQ 26.515625 48.1875 22.3125 43.546875 \r\nQ 18.109375 38.921875 18.109375 30.90625 \r\nL 18.109375 0 \r\nL 9.078125 0 \r\nL 9.078125 54.6875 \r\nL 18.109375 54.6875 \r\nL 18.109375 46.1875 \r\nQ 21.34375 51.125 25.703125 53.5625 \r\nQ 30.078125 56 35.796875 56 \r\nQ 45.21875 56 50.046875 50.171875 \r\nQ 54.890625 44.34375 54.890625 33.015625 \r\nz\r\n\" id=\"DejaVuSans-110\"/>\r\n       <path d=\"M 44.28125 53.078125 \r\nL 44.28125 44.578125 \r\nQ 40.484375 46.53125 36.375 47.5 \r\nQ 32.28125 48.484375 27.875 48.484375 \r\nQ 21.1875 48.484375 17.84375 46.4375 \r\nQ 14.5 44.390625 14.5 40.28125 \r\nQ 14.5 37.15625 16.890625 35.375 \r\nQ 19.28125 33.59375 26.515625 31.984375 \r\nL 29.59375 31.296875 \r\nQ 39.15625 29.25 43.1875 25.515625 \r\nQ 47.21875 21.78125 47.21875 15.09375 \r\nQ 47.21875 7.46875 41.1875 3.015625 \r\nQ 35.15625 -1.421875 24.609375 -1.421875 \r\nQ 20.21875 -1.421875 15.453125 -0.5625 \r\nQ 10.6875 0.296875 5.421875 2 \r\nL 5.421875 11.28125 \r\nQ 10.40625 8.6875 15.234375 7.390625 \r\nQ 20.0625 6.109375 24.8125 6.109375 \r\nQ 31.15625 6.109375 34.5625 8.28125 \r\nQ 37.984375 10.453125 37.984375 14.40625 \r\nQ 37.984375 18.0625 35.515625 20.015625 \r\nQ 33.0625 21.96875 24.703125 23.78125 \r\nL 21.578125 24.515625 \r\nQ 13.234375 26.265625 9.515625 29.90625 \r\nQ 5.8125 33.546875 5.8125 39.890625 \r\nQ 5.8125 47.609375 11.28125 51.796875 \r\nQ 16.75 56 26.8125 56 \r\nQ 31.78125 56 36.171875 55.265625 \r\nQ 40.578125 54.546875 44.28125 53.078125 \r\nz\r\n\" id=\"DejaVuSans-115\"/>\r\n       <path d=\"M 25.390625 72.90625 \r\nL 33.6875 72.90625 \r\nL 8.296875 -9.28125 \r\nL 0 -9.28125 \r\nz\r\n\" id=\"DejaVuSans-47\"/>\r\n       <path d=\"M 54.890625 33.015625 \r\nL 54.890625 0 \r\nL 45.90625 0 \r\nL 45.90625 32.71875 \r\nQ 45.90625 40.484375 42.875 44.328125 \r\nQ 39.84375 48.1875 33.796875 48.1875 \r\nQ 26.515625 48.1875 22.3125 43.546875 \r\nQ 18.109375 38.921875 18.109375 30.90625 \r\nL 18.109375 0 \r\nL 9.078125 0 \r\nL 9.078125 75.984375 \r\nL 18.109375 75.984375 \r\nL 18.109375 46.1875 \r\nQ 21.34375 51.125 25.703125 53.5625 \r\nQ 30.078125 56 35.796875 56 \r\nQ 45.21875 56 50.046875 50.171875 \r\nQ 54.890625 44.34375 54.890625 33.015625 \r\nz\r\n\" id=\"DejaVuSans-104\"/>\r\n      </defs>\r\n      <use xlink:href=\"#DejaVuSans-78\"/>\r\n      <use x=\"74.804688\" xlink:href=\"#DejaVuSans-117\"/>\r\n      <use x=\"138.183594\" xlink:href=\"#DejaVuSans-109\"/>\r\n      <use x=\"235.595703\" xlink:href=\"#DejaVuSans-98\"/>\r\n      <use x=\"299.072266\" xlink:href=\"#DejaVuSans-101\"/>\r\n      <use x=\"360.595703\" xlink:href=\"#DejaVuSans-114\"/>\r\n      <use x=\"401.708984\" xlink:href=\"#DejaVuSans-32\"/>\r\n      <use x=\"433.496094\" xlink:href=\"#DejaVuSans-111\"/>\r\n      <use x=\"494.677734\" xlink:href=\"#DejaVuSans-102\"/>\r\n      <use x=\"529.882812\" xlink:href=\"#DejaVuSans-32\"/>\r\n      <use x=\"561.669922\" xlink:href=\"#DejaVuSans-98\"/>\r\n      <use x=\"625.146484\" xlink:href=\"#DejaVuSans-105\"/>\r\n      <use x=\"652.929688\" xlink:href=\"#DejaVuSans-110\"/>\r\n      <use x=\"716.308594\" xlink:href=\"#DejaVuSans-115\"/>\r\n      <use x=\"768.408203\" xlink:href=\"#DejaVuSans-47\"/>\r\n      <use x=\"802.099609\" xlink:href=\"#DejaVuSans-104\"/>\r\n      <use x=\"865.478516\" xlink:href=\"#DejaVuSans-111\"/>\r\n      <use x=\"926.660156\" xlink:href=\"#DejaVuSans-117\"/>\r\n      <use x=\"990.039062\" xlink:href=\"#DejaVuSans-114\"/>\r\n     </g>\r\n    </g>\r\n   </g>\r\n   <g id=\"matplotlib.axis_2\">\r\n    <g id=\"ytick_1\">\r\n     <g id=\"line2d_8\">\r\n      <defs>\r\n       <path d=\"M 0 0 \r\nL -3.5 0 \r\n\" id=\"mcb3af2ed78\" style=\"stroke:#000000;stroke-width:0.8;\"/>\r\n      </defs>\r\n      <g>\r\n       <use style=\"stroke:#000000;stroke-width:0.8;\" x=\"50.14375\" xlink:href=\"#mcb3af2ed78\" y=\"227.758005\"/>\r\n      </g>\r\n     </g>\r\n     <g id=\"text_9\">\r\n      <!-- 0.08 -->\r\n      <g transform=\"translate(20.878125 231.557224)scale(0.1 -0.1)\">\r\n       <defs>\r\n        <path d=\"M 10.6875 12.40625 \r\nL 21 12.40625 \r\nL 21 0 \r\nL 10.6875 0 \r\nz\r\n\" id=\"DejaVuSans-46\"/>\r\n        <path d=\"M 31.78125 34.625 \r\nQ 24.75 34.625 20.71875 30.859375 \r\nQ 16.703125 27.09375 16.703125 20.515625 \r\nQ 16.703125 13.921875 20.71875 10.15625 \r\nQ 24.75 6.390625 31.78125 6.390625 \r\nQ 38.8125 6.390625 42.859375 10.171875 \r\nQ 46.921875 13.96875 46.921875 20.515625 \r\nQ 46.921875 27.09375 42.890625 30.859375 \r\nQ 38.875 34.625 31.78125 34.625 \r\nz\r\nM 21.921875 38.8125 \r\nQ 15.578125 40.375 12.03125 44.71875 \r\nQ 8.5 49.078125 8.5 55.328125 \r\nQ 8.5 64.0625 14.71875 69.140625 \r\nQ 20.953125 74.21875 31.78125 74.21875 \r\nQ 42.671875 74.21875 48.875 69.140625 \r\nQ 55.078125 64.0625 55.078125 55.328125 \r\nQ 55.078125 49.078125 51.53125 44.71875 \r\nQ 48 40.375 41.703125 38.8125 \r\nQ 48.828125 37.15625 52.796875 32.3125 \r\nQ 56.78125 27.484375 56.78125 20.515625 \r\nQ 56.78125 9.90625 50.3125 4.234375 \r\nQ 43.84375 -1.421875 31.78125 -1.421875 \r\nQ 19.734375 -1.421875 13.25 4.234375 \r\nQ 6.78125 9.90625 6.78125 20.515625 \r\nQ 6.78125 27.484375 10.78125 32.3125 \r\nQ 14.796875 37.15625 21.921875 38.8125 \r\nz\r\nM 18.3125 54.390625 \r\nQ 18.3125 48.734375 21.84375 45.5625 \r\nQ 25.390625 42.390625 31.78125 42.390625 \r\nQ 38.140625 42.390625 41.71875 45.5625 \r\nQ 45.3125 48.734375 45.3125 54.390625 \r\nQ 45.3125 60.0625 41.71875 63.234375 \r\nQ 38.140625 66.40625 31.78125 66.40625 \r\nQ 25.390625 66.40625 21.84375 63.234375 \r\nQ 18.3125 60.0625 18.3125 54.390625 \r\nz\r\n\" id=\"DejaVuSans-56\"/>\r\n       </defs>\r\n       <use xlink:href=\"#DejaVuSans-48\"/>\r\n       <use x=\"63.623047\" xlink:href=\"#DejaVuSans-46\"/>\r\n       <use x=\"95.410156\" xlink:href=\"#DejaVuSans-48\"/>\r\n       <use x=\"159.033203\" xlink:href=\"#DejaVuSans-56\"/>\r\n      </g>\r\n     </g>\r\n    </g>\r\n    <g id=\"ytick_2\">\r\n     <g id=\"line2d_9\">\r\n      <g>\r\n       <use style=\"stroke:#000000;stroke-width:0.8;\" x=\"50.14375\" xlink:href=\"#mcb3af2ed78\" y=\"199.609188\"/>\r\n      </g>\r\n     </g>\r\n     <g id=\"text_10\">\r\n      <!-- 0.10 -->\r\n      <g transform=\"translate(20.878125 203.408407)scale(0.1 -0.1)\">\r\n       <use xlink:href=\"#DejaVuSans-48\"/>\r\n       <use x=\"63.623047\" xlink:href=\"#DejaVuSans-46\"/>\r\n       <use x=\"95.410156\" xlink:href=\"#DejaVuSans-49\"/>\r\n       <use x=\"159.033203\" xlink:href=\"#DejaVuSans-48\"/>\r\n      </g>\r\n     </g>\r\n    </g>\r\n    <g id=\"ytick_3\">\r\n     <g id=\"line2d_10\">\r\n      <g>\r\n       <use style=\"stroke:#000000;stroke-width:0.8;\" x=\"50.14375\" xlink:href=\"#mcb3af2ed78\" y=\"171.460371\"/>\r\n      </g>\r\n     </g>\r\n     <g id=\"text_11\">\r\n      <!-- 0.12 -->\r\n      <g transform=\"translate(20.878125 175.259589)scale(0.1 -0.1)\">\r\n       <use xlink:href=\"#DejaVuSans-48\"/>\r\n       <use x=\"63.623047\" xlink:href=\"#DejaVuSans-46\"/>\r\n       <use x=\"95.410156\" xlink:href=\"#DejaVuSans-49\"/>\r\n       <use x=\"159.033203\" xlink:href=\"#DejaVuSans-50\"/>\r\n      </g>\r\n     </g>\r\n    </g>\r\n    <g id=\"ytick_4\">\r\n     <g id=\"line2d_11\">\r\n      <g>\r\n       <use style=\"stroke:#000000;stroke-width:0.8;\" x=\"50.14375\" xlink:href=\"#mcb3af2ed78\" y=\"143.311553\"/>\r\n      </g>\r\n     </g>\r\n     <g id=\"text_12\">\r\n      <!-- 0.14 -->\r\n      <g transform=\"translate(20.878125 147.110772)scale(0.1 -0.1)\">\r\n       <use xlink:href=\"#DejaVuSans-48\"/>\r\n       <use x=\"63.623047\" xlink:href=\"#DejaVuSans-46\"/>\r\n       <use x=\"95.410156\" xlink:href=\"#DejaVuSans-49\"/>\r\n       <use x=\"159.033203\" xlink:href=\"#DejaVuSans-52\"/>\r\n      </g>\r\n     </g>\r\n    </g>\r\n    <g id=\"ytick_5\">\r\n     <g id=\"line2d_12\">\r\n      <g>\r\n       <use style=\"stroke:#000000;stroke-width:0.8;\" x=\"50.14375\" xlink:href=\"#mcb3af2ed78\" y=\"115.162736\"/>\r\n      </g>\r\n     </g>\r\n     <g id=\"text_13\">\r\n      <!-- 0.16 -->\r\n      <g transform=\"translate(20.878125 118.961955)scale(0.1 -0.1)\">\r\n       <use xlink:href=\"#DejaVuSans-48\"/>\r\n       <use x=\"63.623047\" xlink:href=\"#DejaVuSans-46\"/>\r\n       <use x=\"95.410156\" xlink:href=\"#DejaVuSans-49\"/>\r\n       <use x=\"159.033203\" xlink:href=\"#DejaVuSans-54\"/>\r\n      </g>\r\n     </g>\r\n    </g>\r\n    <g id=\"ytick_6\">\r\n     <g id=\"line2d_13\">\r\n      <g>\r\n       <use style=\"stroke:#000000;stroke-width:0.8;\" x=\"50.14375\" xlink:href=\"#mcb3af2ed78\" y=\"87.013919\"/>\r\n      </g>\r\n     </g>\r\n     <g id=\"text_14\">\r\n      <!-- 0.18 -->\r\n      <g transform=\"translate(20.878125 90.813138)scale(0.1 -0.1)\">\r\n       <use xlink:href=\"#DejaVuSans-48\"/>\r\n       <use x=\"63.623047\" xlink:href=\"#DejaVuSans-46\"/>\r\n       <use x=\"95.410156\" xlink:href=\"#DejaVuSans-49\"/>\r\n       <use x=\"159.033203\" xlink:href=\"#DejaVuSans-56\"/>\r\n      </g>\r\n     </g>\r\n    </g>\r\n    <g id=\"ytick_7\">\r\n     <g id=\"line2d_14\">\r\n      <g>\r\n       <use style=\"stroke:#000000;stroke-width:0.8;\" x=\"50.14375\" xlink:href=\"#mcb3af2ed78\" y=\"58.865102\"/>\r\n      </g>\r\n     </g>\r\n     <g id=\"text_15\">\r\n      <!-- 0.20 -->\r\n      <g transform=\"translate(20.878125 62.66432)scale(0.1 -0.1)\">\r\n       <use xlink:href=\"#DejaVuSans-48\"/>\r\n       <use x=\"63.623047\" xlink:href=\"#DejaVuSans-46\"/>\r\n       <use x=\"95.410156\" xlink:href=\"#DejaVuSans-50\"/>\r\n       <use x=\"159.033203\" xlink:href=\"#DejaVuSans-48\"/>\r\n      </g>\r\n     </g>\r\n    </g>\r\n    <g id=\"ytick_8\">\r\n     <g id=\"line2d_15\">\r\n      <g>\r\n       <use style=\"stroke:#000000;stroke-width:0.8;\" x=\"50.14375\" xlink:href=\"#mcb3af2ed78\" y=\"30.716284\"/>\r\n      </g>\r\n     </g>\r\n     <g id=\"text_16\">\r\n      <!-- 0.22 -->\r\n      <g transform=\"translate(20.878125 34.515503)scale(0.1 -0.1)\">\r\n       <use xlink:href=\"#DejaVuSans-48\"/>\r\n       <use x=\"63.623047\" xlink:href=\"#DejaVuSans-46\"/>\r\n       <use x=\"95.410156\" xlink:href=\"#DejaVuSans-50\"/>\r\n       <use x=\"159.033203\" xlink:href=\"#DejaVuSans-50\"/>\r\n      </g>\r\n     </g>\r\n    </g>\r\n    <g id=\"text_17\">\r\n     <!-- % of hits -->\r\n     <g transform=\"translate(14.798438 152.909219)rotate(-90)scale(0.1 -0.1)\">\r\n      <defs>\r\n       <path d=\"M 72.703125 32.078125 \r\nQ 68.453125 32.078125 66.03125 28.46875 \r\nQ 63.625 24.859375 63.625 18.40625 \r\nQ 63.625 12.0625 66.03125 8.421875 \r\nQ 68.453125 4.78125 72.703125 4.78125 \r\nQ 76.859375 4.78125 79.265625 8.421875 \r\nQ 81.6875 12.0625 81.6875 18.40625 \r\nQ 81.6875 24.8125 79.265625 28.4375 \r\nQ 76.859375 32.078125 72.703125 32.078125 \r\nz\r\nM 72.703125 38.28125 \r\nQ 80.421875 38.28125 84.953125 32.90625 \r\nQ 89.5 27.546875 89.5 18.40625 \r\nQ 89.5 9.28125 84.9375 3.921875 \r\nQ 80.375 -1.421875 72.703125 -1.421875 \r\nQ 64.890625 -1.421875 60.34375 3.921875 \r\nQ 55.8125 9.28125 55.8125 18.40625 \r\nQ 55.8125 27.59375 60.375 32.9375 \r\nQ 64.9375 38.28125 72.703125 38.28125 \r\nz\r\nM 22.3125 68.015625 \r\nQ 18.109375 68.015625 15.6875 64.375 \r\nQ 13.28125 60.75 13.28125 54.390625 \r\nQ 13.28125 47.953125 15.671875 44.328125 \r\nQ 18.0625 40.71875 22.3125 40.71875 \r\nQ 26.5625 40.71875 28.96875 44.328125 \r\nQ 31.390625 47.953125 31.390625 54.390625 \r\nQ 31.390625 60.6875 28.953125 64.34375 \r\nQ 26.515625 68.015625 22.3125 68.015625 \r\nz\r\nM 66.40625 74.21875 \r\nL 74.21875 74.21875 \r\nL 28.609375 -1.421875 \r\nL 20.796875 -1.421875 \r\nz\r\nM 22.3125 74.21875 \r\nQ 30.03125 74.21875 34.609375 68.875 \r\nQ 39.203125 63.53125 39.203125 54.390625 \r\nQ 39.203125 45.171875 34.640625 39.84375 \r\nQ 30.078125 34.515625 22.3125 34.515625 \r\nQ 14.546875 34.515625 10.03125 39.859375 \r\nQ 5.515625 45.21875 5.515625 54.390625 \r\nQ 5.515625 63.484375 10.046875 68.84375 \r\nQ 14.59375 74.21875 22.3125 74.21875 \r\nz\r\n\" id=\"DejaVuSans-37\"/>\r\n       <path d=\"M 18.3125 70.21875 \r\nL 18.3125 54.6875 \r\nL 36.8125 54.6875 \r\nL 36.8125 47.703125 \r\nL 18.3125 47.703125 \r\nL 18.3125 18.015625 \r\nQ 18.3125 11.328125 20.140625 9.421875 \r\nQ 21.96875 7.515625 27.59375 7.515625 \r\nL 36.8125 7.515625 \r\nL 36.8125 0 \r\nL 27.59375 0 \r\nQ 17.1875 0 13.234375 3.875 \r\nQ 9.28125 7.765625 9.28125 18.015625 \r\nL 9.28125 47.703125 \r\nL 2.6875 47.703125 \r\nL 2.6875 54.6875 \r\nL 9.28125 54.6875 \r\nL 9.28125 70.21875 \r\nz\r\n\" id=\"DejaVuSans-116\"/>\r\n      </defs>\r\n      <use xlink:href=\"#DejaVuSans-37\"/>\r\n      <use x=\"95.019531\" xlink:href=\"#DejaVuSans-32\"/>\r\n      <use x=\"126.806641\" xlink:href=\"#DejaVuSans-111\"/>\r\n      <use x=\"187.988281\" xlink:href=\"#DejaVuSans-102\"/>\r\n      <use x=\"223.193359\" xlink:href=\"#DejaVuSans-32\"/>\r\n      <use x=\"254.980469\" xlink:href=\"#DejaVuSans-104\"/>\r\n      <use x=\"318.359375\" xlink:href=\"#DejaVuSans-105\"/>\r\n      <use x=\"346.142578\" xlink:href=\"#DejaVuSans-116\"/>\r\n      <use x=\"385.351562\" xlink:href=\"#DejaVuSans-115\"/>\r\n     </g>\r\n    </g>\r\n   </g>\r\n   <g id=\"line2d_16\">\r\n    <path clip-path=\"url(#pa9f30dc1c8)\" d=\"M 65.361932 32.201761 \r\nL 70.609581 157.224374 \r\nL 75.85723 181.746657 \r\nL 81.104879 192.899632 \r\nL 86.352527 199.265679 \r\nL 91.600176 203.501575 \r\nL 96.847825 207.354989 \r\nL 102.095474 210.401494 \r\nL 107.343123 212.089675 \r\nL 112.590772 213.682902 \r\nL 117.838421 215.683017 \r\nL 123.08607 217.082907 \r\nL 128.333719 217.892105 \r\nL 133.581368 218.552962 \r\nL 138.829016 219.345763 \r\nL 144.076665 221.156734 \r\nL 149.324314 221.339395 \r\nL 154.571963 221.91674 \r\nL 159.819612 222.202361 \r\nL 165.067261 222.923852 \r\nL 170.31491 223.203753 \r\nL 175.562559 223.508442 \r\nL 180.810208 223.956132 \r\nL 186.057857 223.9813 \r\nL 191.305505 224.449201 \r\nL 196.553154 224.715375 \r\nL 201.800803 224.8538 \r\nL 207.048452 225.11883 \r\nL 212.296101 225.483007 \r\nL 217.54375 225.205012 \r\nL 222.791399 226.826459 \r\nL 228.039048 227.40838 \r\nL 233.286697 227.115894 \r\nL 238.534346 227.26309 \r\nL 243.781995 227.179959 \r\nL 249.029643 228.082966 \r\nL 254.277292 227.391982 \r\nL 259.524941 227.840816 \r\nL 264.77259 227.602862 \r\nL 270.020239 228.057416 \r\nL 275.267888 227.947591 \r\nL 280.515537 228.280117 \r\nL 285.763186 227.996021 \r\nL 291.010835 228.426551 \r\nL 296.258484 228.329309 \r\nL 301.506132 228.574128 \r\nL 306.753781 228.63743 \r\nL 312.00143 229.049274 \r\nL 317.249079 228.6973 \r\nL 322.496728 229.078637 \r\nL 327.744377 229.015717 \r\nL 332.992026 229.508023 \r\nL 338.239675 229.237655 \r\nL 343.487324 229.425655 \r\nL 348.734973 229.419553 \r\nL 353.982621 229.868006 \r\nL 359.23027 229.517175 \r\nL 364.477919 229.874489 \r\nL 369.725568 229.790213 \r\n\" style=\"fill:none;stroke:#1f77b4;stroke-linecap:square;stroke-width:1.5;\"/>\r\n   </g>\r\n   <g id=\"patch_3\">\r\n    <path d=\"M 50.14375 239.758125 \r\nL 50.14375 22.318125 \r\n\" style=\"fill:none;stroke:#000000;stroke-linecap:square;stroke-linejoin:miter;stroke-width:0.8;\"/>\r\n   </g>\r\n   <g id=\"patch_4\">\r\n    <path d=\"M 384.94375 239.758125 \r\nL 384.94375 22.318125 \r\n\" style=\"fill:none;stroke:#000000;stroke-linecap:square;stroke-linejoin:miter;stroke-width:0.8;\"/>\r\n   </g>\r\n   <g id=\"patch_5\">\r\n    <path d=\"M 50.14375 239.758125 \r\nL 384.94375 239.758125 \r\n\" style=\"fill:none;stroke:#000000;stroke-linecap:square;stroke-linejoin:miter;stroke-width:0.8;\"/>\r\n   </g>\r\n   <g id=\"patch_6\">\r\n    <path d=\"M 50.14375 22.318125 \r\nL 384.94375 22.318125 \r\n\" style=\"fill:none;stroke:#000000;stroke-linecap:square;stroke-linejoin:miter;stroke-width:0.8;\"/>\r\n   </g>\r\n   <g id=\"text_18\">\r\n    <!-- Percentage of hits in function of the binning factor -->\r\n    <g transform=\"translate(66.265 16.318125)scale(0.12 -0.12)\">\r\n     <defs>\r\n      <path d=\"M 19.671875 64.796875 \r\nL 19.671875 37.40625 \r\nL 32.078125 37.40625 \r\nQ 38.96875 37.40625 42.71875 40.96875 \r\nQ 46.484375 44.53125 46.484375 51.125 \r\nQ 46.484375 57.671875 42.71875 61.234375 \r\nQ 38.96875 64.796875 32.078125 64.796875 \r\nz\r\nM 9.8125 72.90625 \r\nL 32.078125 72.90625 \r\nQ 44.34375 72.90625 50.609375 67.359375 \r\nQ 56.890625 61.8125 56.890625 51.125 \r\nQ 56.890625 40.328125 50.609375 34.8125 \r\nQ 44.34375 29.296875 32.078125 29.296875 \r\nL 19.671875 29.296875 \r\nL 19.671875 0 \r\nL 9.8125 0 \r\nz\r\n\" id=\"DejaVuSans-80\"/>\r\n      <path d=\"M 48.78125 52.59375 \r\nL 48.78125 44.1875 \r\nQ 44.96875 46.296875 41.140625 47.34375 \r\nQ 37.3125 48.390625 33.40625 48.390625 \r\nQ 24.65625 48.390625 19.8125 42.84375 \r\nQ 14.984375 37.3125 14.984375 27.296875 \r\nQ 14.984375 17.28125 19.8125 11.734375 \r\nQ 24.65625 6.203125 33.40625 6.203125 \r\nQ 37.3125 6.203125 41.140625 7.25 \r\nQ 44.96875 8.296875 48.78125 10.40625 \r\nL 48.78125 2.09375 \r\nQ 45.015625 0.34375 40.984375 -0.53125 \r\nQ 36.96875 -1.421875 32.421875 -1.421875 \r\nQ 20.0625 -1.421875 12.78125 6.34375 \r\nQ 5.515625 14.109375 5.515625 27.296875 \r\nQ 5.515625 40.671875 12.859375 48.328125 \r\nQ 20.21875 56 33.015625 56 \r\nQ 37.15625 56 41.109375 55.140625 \r\nQ 45.0625 54.296875 48.78125 52.59375 \r\nz\r\n\" id=\"DejaVuSans-99\"/>\r\n      <path d=\"M 34.28125 27.484375 \r\nQ 23.390625 27.484375 19.1875 25 \r\nQ 14.984375 22.515625 14.984375 16.5 \r\nQ 14.984375 11.71875 18.140625 8.90625 \r\nQ 21.296875 6.109375 26.703125 6.109375 \r\nQ 34.1875 6.109375 38.703125 11.40625 \r\nQ 43.21875 16.703125 43.21875 25.484375 \r\nL 43.21875 27.484375 \r\nz\r\nM 52.203125 31.203125 \r\nL 52.203125 0 \r\nL 43.21875 0 \r\nL 43.21875 8.296875 \r\nQ 40.140625 3.328125 35.546875 0.953125 \r\nQ 30.953125 -1.421875 24.3125 -1.421875 \r\nQ 15.921875 -1.421875 10.953125 3.296875 \r\nQ 6 8.015625 6 15.921875 \r\nQ 6 25.140625 12.171875 29.828125 \r\nQ 18.359375 34.515625 30.609375 34.515625 \r\nL 43.21875 34.515625 \r\nL 43.21875 35.40625 \r\nQ 43.21875 41.609375 39.140625 45 \r\nQ 35.0625 48.390625 27.6875 48.390625 \r\nQ 23 48.390625 18.546875 47.265625 \r\nQ 14.109375 46.140625 10.015625 43.890625 \r\nL 10.015625 52.203125 \r\nQ 14.9375 54.109375 19.578125 55.046875 \r\nQ 24.21875 56 28.609375 56 \r\nQ 40.484375 56 46.34375 49.84375 \r\nQ 52.203125 43.703125 52.203125 31.203125 \r\nz\r\n\" id=\"DejaVuSans-97\"/>\r\n      <path d=\"M 45.40625 27.984375 \r\nQ 45.40625 37.75 41.375 43.109375 \r\nQ 37.359375 48.484375 30.078125 48.484375 \r\nQ 22.859375 48.484375 18.828125 43.109375 \r\nQ 14.796875 37.75 14.796875 27.984375 \r\nQ 14.796875 18.265625 18.828125 12.890625 \r\nQ 22.859375 7.515625 30.078125 7.515625 \r\nQ 37.359375 7.515625 41.375 12.890625 \r\nQ 45.40625 18.265625 45.40625 27.984375 \r\nz\r\nM 54.390625 6.78125 \r\nQ 54.390625 -7.171875 48.1875 -13.984375 \r\nQ 42 -20.796875 29.203125 -20.796875 \r\nQ 24.46875 -20.796875 20.265625 -20.09375 \r\nQ 16.0625 -19.390625 12.109375 -17.921875 \r\nL 12.109375 -9.1875 \r\nQ 16.0625 -11.328125 19.921875 -12.34375 \r\nQ 23.78125 -13.375 27.78125 -13.375 \r\nQ 36.625 -13.375 41.015625 -8.765625 \r\nQ 45.40625 -4.15625 45.40625 5.171875 \r\nL 45.40625 9.625 \r\nQ 42.625 4.78125 38.28125 2.390625 \r\nQ 33.9375 0 27.875 0 \r\nQ 17.828125 0 11.671875 7.65625 \r\nQ 5.515625 15.328125 5.515625 27.984375 \r\nQ 5.515625 40.671875 11.671875 48.328125 \r\nQ 17.828125 56 27.875 56 \r\nQ 33.9375 56 38.28125 53.609375 \r\nQ 42.625 51.21875 45.40625 46.390625 \r\nL 45.40625 54.6875 \r\nL 54.390625 54.6875 \r\nz\r\n\" id=\"DejaVuSans-103\"/>\r\n     </defs>\r\n     <use xlink:href=\"#DejaVuSans-80\"/>\r\n     <use x=\"56.677734\" xlink:href=\"#DejaVuSans-101\"/>\r\n     <use x=\"118.201172\" xlink:href=\"#DejaVuSans-114\"/>\r\n     <use x=\"157.064453\" xlink:href=\"#DejaVuSans-99\"/>\r\n     <use x=\"212.044922\" xlink:href=\"#DejaVuSans-101\"/>\r\n     <use x=\"273.568359\" xlink:href=\"#DejaVuSans-110\"/>\r\n     <use x=\"336.947266\" xlink:href=\"#DejaVuSans-116\"/>\r\n     <use x=\"376.15625\" xlink:href=\"#DejaVuSans-97\"/>\r\n     <use x=\"437.435547\" xlink:href=\"#DejaVuSans-103\"/>\r\n     <use x=\"500.912109\" xlink:href=\"#DejaVuSans-101\"/>\r\n     <use x=\"562.435547\" xlink:href=\"#DejaVuSans-32\"/>\r\n     <use x=\"594.222656\" xlink:href=\"#DejaVuSans-111\"/>\r\n     <use x=\"655.404297\" xlink:href=\"#DejaVuSans-102\"/>\r\n     <use x=\"690.609375\" xlink:href=\"#DejaVuSans-32\"/>\r\n     <use x=\"722.396484\" xlink:href=\"#DejaVuSans-104\"/>\r\n     <use x=\"785.775391\" xlink:href=\"#DejaVuSans-105\"/>\r\n     <use x=\"813.558594\" xlink:href=\"#DejaVuSans-116\"/>\r\n     <use x=\"852.767578\" xlink:href=\"#DejaVuSans-115\"/>\r\n     <use x=\"904.867188\" xlink:href=\"#DejaVuSans-32\"/>\r\n     <use x=\"936.654297\" xlink:href=\"#DejaVuSans-105\"/>\r\n     <use x=\"964.4375\" xlink:href=\"#DejaVuSans-110\"/>\r\n     <use x=\"1027.816406\" xlink:href=\"#DejaVuSans-32\"/>\r\n     <use x=\"1059.603516\" xlink:href=\"#DejaVuSans-102\"/>\r\n     <use x=\"1094.808594\" xlink:href=\"#DejaVuSans-117\"/>\r\n     <use x=\"1158.1875\" xlink:href=\"#DejaVuSans-110\"/>\r\n     <use x=\"1221.566406\" xlink:href=\"#DejaVuSans-99\"/>\r\n     <use x=\"1276.546875\" xlink:href=\"#DejaVuSans-116\"/>\r\n     <use x=\"1315.755859\" xlink:href=\"#DejaVuSans-105\"/>\r\n     <use x=\"1343.539062\" xlink:href=\"#DejaVuSans-111\"/>\r\n     <use x=\"1404.720703\" xlink:href=\"#DejaVuSans-110\"/>\r\n     <use x=\"1468.099609\" xlink:href=\"#DejaVuSans-32\"/>\r\n     <use x=\"1499.886719\" xlink:href=\"#DejaVuSans-111\"/>\r\n     <use x=\"1561.068359\" xlink:href=\"#DejaVuSans-102\"/>\r\n     <use x=\"1596.273438\" xlink:href=\"#DejaVuSans-32\"/>\r\n     <use x=\"1628.060547\" xlink:href=\"#DejaVuSans-116\"/>\r\n     <use x=\"1667.269531\" xlink:href=\"#DejaVuSans-104\"/>\r\n     <use x=\"1730.648438\" xlink:href=\"#DejaVuSans-101\"/>\r\n     <use x=\"1792.171875\" xlink:href=\"#DejaVuSans-32\"/>\r\n     <use x=\"1823.958984\" xlink:href=\"#DejaVuSans-98\"/>\r\n     <use x=\"1887.435547\" xlink:href=\"#DejaVuSans-105\"/>\r\n     <use x=\"1915.21875\" xlink:href=\"#DejaVuSans-110\"/>\r\n     <use x=\"1978.597656\" xlink:href=\"#DejaVuSans-110\"/>\r\n     <use x=\"2041.976562\" xlink:href=\"#DejaVuSans-105\"/>\r\n     <use x=\"2069.759766\" xlink:href=\"#DejaVuSans-110\"/>\r\n     <use x=\"2133.138672\" xlink:href=\"#DejaVuSans-103\"/>\r\n     <use x=\"2196.615234\" xlink:href=\"#DejaVuSans-32\"/>\r\n     <use x=\"2228.402344\" xlink:href=\"#DejaVuSans-102\"/>\r\n     <use x=\"2263.607422\" xlink:href=\"#DejaVuSans-97\"/>\r\n     <use x=\"2324.886719\" xlink:href=\"#DejaVuSans-99\"/>\r\n     <use x=\"2379.867188\" xlink:href=\"#DejaVuSans-116\"/>\r\n     <use x=\"2419.076172\" xlink:href=\"#DejaVuSans-111\"/>\r\n     <use x=\"2480.257812\" xlink:href=\"#DejaVuSans-114\"/>\r\n    </g>\r\n   </g>\r\n  </g>\r\n </g>\r\n <defs>\r\n  <clipPath id=\"pa9f30dc1c8\">\r\n   <rect height=\"217.44\" width=\"334.8\" x=\"50.14375\" y=\"22.318125\"/>\r\n  </clipPath>\r\n </defs>\r\n</svg>\r\n",
      "image/png": "[encoded data removed]"
     },
     "metadata": {
      "needs_background": "light"
     }
    }
   ],
   "source": [
    "#Plot the number of \"hits\" based on the binning. That is, the number of measurements falling into the same bin in function of the number of bins\n",
    "bins_num=range(1,60)\n",
    "merged_df_short_binned=merged_df_short.copy()\n",
    "hits_vec=[]\n",
    "for bin_k in bins_num:\n",
    "    time_stamp_str=\"TIME_STAMP_Bin_\"+str(bin_k)\n",
    "    merged_df_short_binned[time_stamp_str]=round(merged_df_short_binned[\"TIME_STAMP\"].dt.total_seconds()*bin_k/(100*36)).astype(int)\n",
    "    hits_prop=merged_df_short_binned.duplicated(subset=[\"HADM_ID\",\"LABEL_CODE\",time_stamp_str]).sum()/len(merged_df_short_binned.index)\n",
    "    hits_vec+=[hits_prop]\n",
    "plt.plot(bins_num,hits_vec)\n",
    "plt.title(\"Percentage of hits in function of the binning factor\")\n",
    "plt.xlabel(\"Number of bins/hour\")\n",
    "plt.ylabel(\"% of hits\")\n",
    "plt.show()"
   ]
  },
  {
   "cell_type": "code",
   "execution_count": 10,
   "metadata": {},
   "outputs": [],
   "source": [
    "#We choose 60 bins per hour. We now need to aggregate the data in different ways.\n",
    "bin_k=60\n",
    "merged_df_short[\"TIME\"]=round(merged_df_short_binned[\"TIME_STAMP\"].dt.total_seconds()*bin_k/(100*36)).astype(int)\n",
    "\n",
    "#For lab, we have to average the duplicates.\n",
    "lab_subset=merged_df_short.loc[merged_df_short[\"Origin\"]==\"Lab\",[\"HADM_ID\",\"TIME\",\"LABEL_CODE\",\"VALUENUM\"]]\n",
    "lab_subset[\"KEY_ID\"]=lab_subset[\"HADM_ID\"].astype(str)+\"/\"+lab_subset[\"TIME\"].astype(str)+\"/\"+lab_subset[\"LABEL_CODE\"].astype(str)\n",
    "lab_subset[\"VALUENUM\"]=lab_subset[\"VALUENUM\"].astype(float)\n",
    "\n",
    "lab_subset_s=lab_subset.groupby(\"KEY_ID\")[\"VALUENUM\"].mean().to_frame().reset_index()\n",
    "\n",
    "lab_subset.rename(inplace=True,columns={\"VALUENUM\":\"ExVALUENUM\"})\n",
    "lab_s=pd.merge(lab_subset,lab_subset_s,on=\"KEY_ID\")\n",
    "assert(not lab_s.isnull().values.any())\n",
    "\n",
    "#For inputs, we have to sum the duplicates.\n",
    "input_subset=merged_df_short.loc[merged_df_short[\"Origin\"]==\"Inputs\",[\"HADM_ID\",\"TIME\",\"LABEL_CODE\",\"VALUENUM\"]]\n",
    "input_subset[\"KEY_ID\"]=input_subset[\"HADM_ID\"].astype(str)+\"/\"+input_subset[\"TIME\"].astype(str)+\"/\"+input_subset[\"LABEL_CODE\"].astype(str)\n",
    "input_subset[\"VALUENUM\"]=input_subset[\"VALUENUM\"].astype(float)\n",
    "\n",
    "input_subset_s=input_subset.groupby(\"KEY_ID\")[\"VALUENUM\"].sum().to_frame().reset_index()\n",
    "\n",
    "input_subset.rename(inplace=True,columns={\"VALUENUM\":\"ExVALUENUM\"})\n",
    "input_s=pd.merge(input_subset,input_subset_s,on=\"KEY_ID\")\n",
    "assert(not input_s.isnull().values.any())\n",
    "\n",
    "#For outpus, we have to sum the duplicates as well.\n",
    "output_subset=merged_df_short.loc[merged_df_short[\"Origin\"]==\"Outputs\",[\"HADM_ID\",\"TIME\",\"LABEL_CODE\",\"VALUENUM\"]]\n",
    "output_subset[\"KEY_ID\"]=output_subset[\"HADM_ID\"].astype(str)+\"/\"+output_subset[\"TIME\"].astype(str)+\"/\"+output_subset[\"LABEL_CODE\"].astype(str)\n",
    "output_subset[\"VALUENUM\"]=output_subset[\"VALUENUM\"].astype(float)\n",
    "\n",
    "output_subset_s=output_subset.groupby(\"KEY_ID\")[\"VALUENUM\"].sum().to_frame().reset_index()\n",
    "\n",
    "output_subset.rename(inplace=True,columns={\"VALUENUM\":\"ExVALUENUM\"})\n",
    "output_s=pd.merge(output_subset,output_subset_s,on=\"KEY_ID\")\n",
    "assert(not output_s.isnull().values.any())\n",
    "\n",
    "#For prescriptions, we have to sum the duplicates as well.\n",
    "presc_subset=merged_df_short.loc[merged_df_short[\"Origin\"]==\"Prescriptions\",[\"HADM_ID\",\"TIME\",\"LABEL_CODE\",\"VALUENUM\"]]\n",
    "presc_subset[\"KEY_ID\"]=presc_subset[\"HADM_ID\"].astype(str)+\"/\"+presc_subset[\"TIME\"].astype(str)+\"/\"+presc_subset[\"LABEL_CODE\"].astype(str)\n",
    "presc_subset[\"VALUENUM\"]=presc_subset[\"VALUENUM\"].astype(float)\n",
    "\n",
    "presc_subset_s=presc_subset.groupby(\"KEY_ID\")[\"VALUENUM\"].sum().to_frame().reset_index()\n",
    "\n",
    "presc_subset.rename(inplace=True,columns={\"VALUENUM\":\"ExVALUENUM\"})\n",
    "presc_s=pd.merge(presc_subset,presc_subset_s,on=\"KEY_ID\")\n",
    "assert(not presc_s.isnull().values.any())\n",
    "\n",
    "#Now remove the duplicates/\n",
    "lab_s=(lab_s.drop_duplicates(subset=[\"HADM_ID\",\"LABEL_CODE\",\"TIME\"]))[[\"HADM_ID\",\"TIME\",\"LABEL_CODE\",\"VALUENUM\"]].copy()\n",
    "input_s=(input_s.drop_duplicates(subset=[\"HADM_ID\",\"LABEL_CODE\",\"TIME\"]))[[\"HADM_ID\",\"TIME\",\"LABEL_CODE\",\"VALUENUM\"]].copy()\n",
    "output_s=(output_s.drop_duplicates(subset=[\"HADM_ID\",\"LABEL_CODE\",\"TIME\"]))[[\"HADM_ID\",\"TIME\",\"LABEL_CODE\",\"VALUENUM\"]].copy()\n",
    "presc_s=(presc_s.drop_duplicates(subset=[\"HADM_ID\",\"LABEL_CODE\",\"TIME\"]))[[\"HADM_ID\",\"TIME\",\"LABEL_CODE\",\"VALUENUM\"]].copy()\n",
    "\n",
    "#We append both subsets together to form the complete dataframe\n",
    "complete_df1=lab_s.append(input_s)\n",
    "complete_df2=complete_df1.append(output_s)\n",
    "complete_df=complete_df2.append(presc_s)\n",
    "\n",
    "\n",
    "assert(sum(complete_df.duplicated(subset=[\"HADM_ID\",\"LABEL_CODE\",\"TIME\"])==True)==0) #Check if no duplicates anymore.\n",
    "\n",
    "# We remove patients with less than 50 observations.\n",
    "id_counts=complete_df.groupby(\"HADM_ID\").count()\n",
    "id_list=list(id_counts.loc[id_counts[\"TIME\"]<50].index)\n",
    "complete_df=complete_df.drop(complete_df.loc[complete_df[\"HADM_ID\"].isin(id_list)].index).copy()"
   ]
  },
  {
   "cell_type": "code",
   "execution_count": 11,
   "metadata": {},
   "outputs": [],
   "source": [
    "#We also choose 10 bins per hour. We now need to aggregate the data in different ways.\n",
    "bin_k=10\n",
    "merged_df_short[\"TIME\"]=round(merged_df_short_binned[\"TIME_STAMP\"].dt.total_seconds()*bin_k/(100*36))\n",
    "\n",
    "#For lab, we have to average the duplicates.\n",
    "lab_subset=merged_df_short.loc[merged_df_short[\"Origin\"]==\"Lab\",[\"HADM_ID\",\"TIME\",\"LABEL_CODE\",\"VALUENUM\"]]\n",
    "lab_subset[\"KEY_ID\"]=lab_subset[\"HADM_ID\"].astype(str)+\"/\"+lab_subset[\"TIME\"].astype(str)+\"/\"+lab_subset[\"LABEL_CODE\"].astype(str)\n",
    "lab_subset[\"VALUENUM\"]=lab_subset[\"VALUENUM\"].astype(float)\n",
    "\n",
    "lab_subset_s=lab_subset.groupby(\"KEY_ID\")[\"VALUENUM\"].mean().to_frame().reset_index()\n",
    "\n",
    "lab_subset.rename(inplace=True,columns={\"VALUENUM\":\"ExVALUENUM\"})\n",
    "lab_s=pd.merge(lab_subset,lab_subset_s,on=\"KEY_ID\")\n",
    "assert(not lab_s.isnull().values.any())\n",
    "\n",
    "#For inputs, we have to sum the duplicates.\n",
    "input_subset=merged_df_short.loc[merged_df_short[\"Origin\"]==\"Inputs\",[\"HADM_ID\",\"TIME\",\"LABEL_CODE\",\"VALUENUM\"]]\n",
    "input_subset[\"KEY_ID\"]=input_subset[\"HADM_ID\"].astype(str)+\"/\"+input_subset[\"TIME\"].astype(str)+\"/\"+input_subset[\"LABEL_CODE\"].astype(str)\n",
    "input_subset[\"VALUENUM\"]=input_subset[\"VALUENUM\"].astype(float)\n",
    "\n",
    "input_subset_s=input_subset.groupby(\"KEY_ID\")[\"VALUENUM\"].sum().to_frame().reset_index()\n",
    "\n",
    "input_subset.rename(inplace=True,columns={\"VALUENUM\":\"ExVALUENUM\"})\n",
    "input_s=pd.merge(input_subset,input_subset_s,on=\"KEY_ID\")\n",
    "assert(not input_s.isnull().values.any())\n",
    "\n",
    "#For outpus, we have to sum the duplicates as well.\n",
    "output_subset=merged_df_short.loc[merged_df_short[\"Origin\"]==\"Outputs\",[\"HADM_ID\",\"TIME\",\"LABEL_CODE\",\"VALUENUM\"]]\n",
    "output_subset[\"KEY_ID\"]=output_subset[\"HADM_ID\"].astype(str)+\"/\"+output_subset[\"TIME\"].astype(str)+\"/\"+output_subset[\"LABEL_CODE\"].astype(str)\n",
    "output_subset[\"VALUENUM\"]=output_subset[\"VALUENUM\"].astype(float)\n",
    "\n",
    "output_subset_s=output_subset.groupby(\"KEY_ID\")[\"VALUENUM\"].sum().to_frame().reset_index()\n",
    "\n",
    "output_subset.rename(inplace=True,columns={\"VALUENUM\":\"ExVALUENUM\"})\n",
    "output_s=pd.merge(output_subset,output_subset_s,on=\"KEY_ID\")\n",
    "assert(not output_s.isnull().values.any())\n",
    "\n",
    "#For prescriptions, we have to sum the duplicates as well.\n",
    "presc_subset=merged_df_short.loc[merged_df_short[\"Origin\"]==\"Prescriptions\",[\"HADM_ID\",\"TIME\",\"LABEL_CODE\",\"VALUENUM\"]]\n",
    "presc_subset[\"KEY_ID\"]=presc_subset[\"HADM_ID\"].astype(str)+\"/\"+presc_subset[\"TIME\"].astype(str)+\"/\"+presc_subset[\"LABEL_CODE\"].astype(str)\n",
    "presc_subset[\"VALUENUM\"]=presc_subset[\"VALUENUM\"].astype(float)\n",
    "\n",
    "presc_subset_s=presc_subset.groupby(\"KEY_ID\")[\"VALUENUM\"].sum().to_frame().reset_index()\n",
    "\n",
    "presc_subset.rename(inplace=True,columns={\"VALUENUM\":\"ExVALUENUM\"})\n",
    "presc_s=pd.merge(presc_subset,presc_subset_s,on=\"KEY_ID\")\n",
    "assert(not presc_s.isnull().values.any())\n",
    "\n",
    "#Now remove the duplicates/\n",
    "lab_s=(lab_s.drop_duplicates(subset=[\"HADM_ID\",\"LABEL_CODE\",\"TIME\"]))[[\"HADM_ID\",\"TIME\",\"LABEL_CODE\",\"VALUENUM\"]].copy()\n",
    "input_s=(input_s.drop_duplicates(subset=[\"HADM_ID\",\"LABEL_CODE\",\"TIME\"]))[[\"HADM_ID\",\"TIME\",\"LABEL_CODE\",\"VALUENUM\"]].copy()\n",
    "output_s=(output_s.drop_duplicates(subset=[\"HADM_ID\",\"LABEL_CODE\",\"TIME\"]))[[\"HADM_ID\",\"TIME\",\"LABEL_CODE\",\"VALUENUM\"]].copy()\n",
    "presc_s=(presc_s.drop_duplicates(subset=[\"HADM_ID\",\"LABEL_CODE\",\"TIME\"]))[[\"HADM_ID\",\"TIME\",\"LABEL_CODE\",\"VALUENUM\"]].copy()\n",
    "\n",
    "#We append both subsets together to form the complete dataframe\n",
    "complete_df1=lab_s.append(input_s)\n",
    "complete_df2=complete_df1.append(output_s)\n",
    "complete_df10=complete_df2.append(presc_s)\n",
    "\n",
    "\n",
    "assert(sum(complete_df10.duplicated(subset=[\"HADM_ID\",\"LABEL_CODE\",\"TIME\"])==True)==0) #Check if no duplicates anymore.\n",
    "\n",
    "# We remove patients with less than 50 observations.\n",
    "id_counts=complete_df10.groupby(\"HADM_ID\").count()\n",
    "id_list=list(id_counts.loc[id_counts[\"TIME\"]<50].index)\n",
    "complete_df10=complete_df10.drop(complete_df10.loc[complete_df10[\"HADM_ID\"].isin(id_list)].index).copy()"
   ]
  },
  {
   "cell_type": "code",
   "execution_count": 12,
   "metadata": {},
   "outputs": [],
   "source": [
    "#We also choose 2 bins per hour. We now need to aggregate the data in different ways.\n",
    "bin_k=2\n",
    "merged_df_short[\"TIME\"]=round(merged_df_short_binned[\"TIME_STAMP\"].dt.total_seconds()*bin_k/(100*36))\n",
    "\n",
    "#For lab, we have to average the duplicates.\n",
    "lab_subset=merged_df_short.loc[merged_df_short[\"Origin\"]==\"Lab\",[\"HADM_ID\",\"TIME\",\"LABEL_CODE\",\"VALUENUM\"]]\n",
    "lab_subset[\"KEY_ID\"]=lab_subset[\"HADM_ID\"].astype(str)+\"/\"+lab_subset[\"TIME\"].astype(str)+\"/\"+lab_subset[\"LABEL_CODE\"].astype(str)\n",
    "lab_subset[\"VALUENUM\"]=lab_subset[\"VALUENUM\"].astype(float)\n",
    "\n",
    "lab_subset_s=lab_subset.groupby(\"KEY_ID\")[\"VALUENUM\"].mean().to_frame().reset_index()\n",
    "\n",
    "lab_subset.rename(inplace=True,columns={\"VALUENUM\":\"ExVALUENUM\"})\n",
    "lab_s=pd.merge(lab_subset,lab_subset_s,on=\"KEY_ID\")\n",
    "assert(not lab_s.isnull().values.any())\n",
    "\n",
    "#For inputs, we have to sum the duplicates.\n",
    "input_subset=merged_df_short.loc[merged_df_short[\"Origin\"]==\"Inputs\",[\"HADM_ID\",\"TIME\",\"LABEL_CODE\",\"VALUENUM\"]]\n",
    "input_subset[\"KEY_ID\"]=input_subset[\"HADM_ID\"].astype(str)+\"/\"+input_subset[\"TIME\"].astype(str)+\"/\"+input_subset[\"LABEL_CODE\"].astype(str)\n",
    "input_subset[\"VALUENUM\"]=input_subset[\"VALUENUM\"].astype(float)\n",
    "\n",
    "input_subset_s=input_subset.groupby(\"KEY_ID\")[\"VALUENUM\"].sum().to_frame().reset_index()\n",
    "\n",
    "input_subset.rename(inplace=True,columns={\"VALUENUM\":\"ExVALUENUM\"})\n",
    "input_s=pd.merge(input_subset,input_subset_s,on=\"KEY_ID\")\n",
    "assert(not input_s.isnull().values.any())\n",
    "\n",
    "#For outpus, we have to sum the duplicates as well.\n",
    "output_subset=merged_df_short.loc[merged_df_short[\"Origin\"]==\"Outputs\",[\"HADM_ID\",\"TIME\",\"LABEL_CODE\",\"VALUENUM\"]]\n",
    "output_subset[\"KEY_ID\"]=output_subset[\"HADM_ID\"].astype(str)+\"/\"+output_subset[\"TIME\"].astype(str)+\"/\"+output_subset[\"LABEL_CODE\"].astype(str)\n",
    "output_subset[\"VALUENUM\"]=output_subset[\"VALUENUM\"].astype(float)\n",
    "\n",
    "output_subset_s=output_subset.groupby(\"KEY_ID\")[\"VALUENUM\"].sum().to_frame().reset_index()\n",
    "\n",
    "output_subset.rename(inplace=True,columns={\"VALUENUM\":\"ExVALUENUM\"})\n",
    "output_s=pd.merge(output_subset,output_subset_s,on=\"KEY_ID\")\n",
    "assert(not output_s.isnull().values.any())\n",
    "\n",
    "#For prescriptions, we have to sum the duplicates as well.\n",
    "presc_subset=merged_df_short.loc[merged_df_short[\"Origin\"]==\"Prescriptions\",[\"HADM_ID\",\"TIME\",\"LABEL_CODE\",\"VALUENUM\"]]\n",
    "presc_subset[\"KEY_ID\"]=presc_subset[\"HADM_ID\"].astype(str)+\"/\"+presc_subset[\"TIME\"].astype(str)+\"/\"+presc_subset[\"LABEL_CODE\"].astype(str)\n",
    "presc_subset[\"VALUENUM\"]=presc_subset[\"VALUENUM\"].astype(float)\n",
    "\n",
    "presc_subset_s=presc_subset.groupby(\"KEY_ID\")[\"VALUENUM\"].sum().to_frame().reset_index()\n",
    "\n",
    "presc_subset.rename(inplace=True,columns={\"VALUENUM\":\"ExVALUENUM\"})\n",
    "presc_s=pd.merge(presc_subset,presc_subset_s,on=\"KEY_ID\")\n",
    "assert(not presc_s.isnull().values.any())\n",
    "\n",
    "#Now remove the duplicates/\n",
    "lab_s=(lab_s.drop_duplicates(subset=[\"HADM_ID\",\"LABEL_CODE\",\"TIME\"]))[[\"HADM_ID\",\"TIME\",\"LABEL_CODE\",\"VALUENUM\"]].copy()\n",
    "input_s=(input_s.drop_duplicates(subset=[\"HADM_ID\",\"LABEL_CODE\",\"TIME\"]))[[\"HADM_ID\",\"TIME\",\"LABEL_CODE\",\"VALUENUM\"]].copy()\n",
    "output_s=(output_s.drop_duplicates(subset=[\"HADM_ID\",\"LABEL_CODE\",\"TIME\"]))[[\"HADM_ID\",\"TIME\",\"LABEL_CODE\",\"VALUENUM\"]].copy()\n",
    "presc_s=(presc_s.drop_duplicates(subset=[\"HADM_ID\",\"LABEL_CODE\",\"TIME\"]))[[\"HADM_ID\",\"TIME\",\"LABEL_CODE\",\"VALUENUM\"]].copy()\n",
    "\n",
    "#We append both subsets together to form the complete dataframe\n",
    "complete_df1=lab_s.append(input_s)\n",
    "complete_df2=complete_df1.append(output_s)\n",
    "complete_df02=complete_df2.append(presc_s)\n",
    "\n",
    "\n",
    "assert(sum(complete_df02.duplicated(subset=[\"HADM_ID\",\"LABEL_CODE\",\"TIME\"])==True)==0) #Check if no duplicates anymore.\n",
    "\n",
    "# We remove patients with less than 50 observations. Over 2000 patients removed by this criterion.\n",
    "id_counts=complete_df02.groupby(\"HADM_ID\").count()\n",
    "id_list=list(id_counts.loc[id_counts[\"TIME\"]<50].index)\n",
    "complete_df02=complete_df02.drop(complete_df02.loc[complete_df02[\"HADM_ID\"].isin(id_list)].index).copy()"
   ]
  },
  {
   "cell_type": "code",
   "execution_count": 13,
   "metadata": {},
   "outputs": [
    {
     "output_type": "execute_result",
     "data": {
      "text/plain": [
       "(45, 43, 44)"
      ]
     },
     "metadata": {},
     "execution_count": 13
    }
   ],
   "source": [
    "sum(complete_df02.groupby(\"HADM_ID\").count()[\"TIME\"] < 50), sum(complete_df10.groupby(\"HADM_ID\").count()[\"TIME\"] < 50), sum(complete_df.groupby(\"HADM_ID\").count()[\"TIME\"] < 50)"
   ]
  },
  {
   "cell_type": "code",
   "execution_count": 14,
   "metadata": {},
   "outputs": [
    {
     "output_type": "execute_result",
     "data": {
      "text/plain": [
       "<AxesSubplot:>"
      ]
     },
     "metadata": {},
     "execution_count": 14
    },
    {
     "output_type": "display_data",
     "data": {
      "text/plain": "<Figure size 432x288 with 1 Axes>",
      "image/svg+xml": "<?xml version=\"1.0\" encoding=\"utf-8\" standalone=\"no\"?>\r\n<!DOCTYPE svg PUBLIC \"-//W3C//DTD SVG 1.1//EN\"\r\n  \"http://www.w3.org/Graphics/SVG/1.1/DTD/svg11.dtd\">\r\n<!-- Created with matplotlib (https://matplotlib.org/) -->\r\n<svg height=\"248.518125pt\" version=\"1.1\" viewBox=\"0 0 381.65 248.518125\" width=\"381.65pt\" xmlns=\"http://www.w3.org/2000/svg\" xmlns:xlink=\"http://www.w3.org/1999/xlink\">\r\n <metadata>\r\n  <rdf:RDF xmlns:cc=\"http://creativecommons.org/ns#\" xmlns:dc=\"http://purl.org/dc/elements/1.1/\" xmlns:rdf=\"http://www.w3.org/1999/02/22-rdf-syntax-ns#\">\r\n   <cc:Work>\r\n    <dc:type rdf:resource=\"http://purl.org/dc/dcmitype/StillImage\"/>\r\n    <dc:date>2021-02-14T15:54:49.030298</dc:date>\r\n    <dc:format>image/svg+xml</dc:format>\r\n    <dc:creator>\r\n     <cc:Agent>\r\n      <dc:title>Matplotlib v3.3.2, https://matplotlib.org/</dc:title>\r\n     </cc:Agent>\r\n    </dc:creator>\r\n   </cc:Work>\r\n  </rdf:RDF>\r\n </metadata>\r\n <defs>\r\n  <style type=\"text/css\">*{stroke-linecap:butt;stroke-linejoin:round;}</style>\r\n </defs>\r\n <g id=\"figure_1\">\r\n  <g id=\"patch_1\">\r\n   <path d=\"M -0 248.518125 \r\nL 381.65 248.518125 \r\nL 381.65 0 \r\nL -0 0 \r\nz\r\n\" style=\"fill:none;\"/>\r\n  </g>\r\n  <g id=\"axes_1\">\r\n   <g id=\"patch_2\">\r\n    <path d=\"M 39.65 224.64 \r\nL 374.45 224.64 \r\nL 374.45 7.2 \r\nL 39.65 7.2 \r\nz\r\n\" style=\"fill:#ffffff;\"/>\r\n   </g>\r\n   <g id=\"patch_3\">\r\n    <path clip-path=\"url(#pa5a1fe9ae6)\" d=\"M 54.868182 224.64 \r\nL 59.940909 224.64 \r\nL 59.940909 137.814007 \r\nL 54.868182 137.814007 \r\nz\r\n\" style=\"fill:#1f77b4;\"/>\r\n   </g>\r\n   <g id=\"patch_4\">\r\n    <path clip-path=\"url(#pa5a1fe9ae6)\" d=\"M 59.940909 224.64 \r\nL 65.013636 224.64 \r\nL 65.013636 21.622268 \r\nL 59.940909 21.622268 \r\nz\r\n\" style=\"fill:#1f77b4;\"/>\r\n   </g>\r\n   <g id=\"patch_5\">\r\n    <path clip-path=\"url(#pa5a1fe9ae6)\" d=\"M 65.013636 224.64 \r\nL 70.086364 224.64 \r\nL 70.086364 37.004325 \r\nL 65.013636 37.004325 \r\nz\r\n\" style=\"fill:#1f77b4;\"/>\r\n   </g>\r\n   <g id=\"patch_6\">\r\n    <path clip-path=\"url(#pa5a1fe9ae6)\" d=\"M 70.086364 224.64 \r\nL 75.159091 224.64 \r\nL 75.159091 26.071623 \r\nL 70.086364 26.071623 \r\nz\r\n\" style=\"fill:#1f77b4;\"/>\r\n   </g>\r\n   <g id=\"patch_7\">\r\n    <path clip-path=\"url(#pa5a1fe9ae6)\" d=\"M 75.159091 224.64 \r\nL 80.231818 224.64 \r\nL 80.231818 17.554286 \r\nL 75.159091 17.554286 \r\nz\r\n\" style=\"fill:#1f77b4;\"/>\r\n   </g>\r\n   <g id=\"patch_8\">\r\n    <path clip-path=\"url(#pa5a1fe9ae6)\" d=\"M 80.231818 224.64 \r\nL 85.304545 224.64 \r\nL 85.304545 54.166125 \r\nL 80.231818 54.166125 \r\nz\r\n\" style=\"fill:#1f77b4;\"/>\r\n   </g>\r\n   <g id=\"patch_9\">\r\n    <path clip-path=\"url(#pa5a1fe9ae6)\" d=\"M 85.304545 224.64 \r\nL 90.377273 224.64 \r\nL 90.377273 60.395222 \r\nL 85.304545 60.395222 \r\nz\r\n\" style=\"fill:#1f77b4;\"/>\r\n   </g>\r\n   <g id=\"patch_10\">\r\n    <path clip-path=\"url(#pa5a1fe9ae6)\" d=\"M 90.377273 224.64 \r\nL 95.45 224.64 \r\nL 95.45 71.963546 \r\nL 90.377273 71.963546 \r\nz\r\n\" style=\"fill:#1f77b4;\"/>\r\n   </g>\r\n   <g id=\"patch_11\">\r\n    <path clip-path=\"url(#pa5a1fe9ae6)\" d=\"M 95.45 224.64 \r\nL 100.522727 224.64 \r\nL 100.522727 67.387067 \r\nL 95.45 67.387067 \r\nz\r\n\" style=\"fill:#1f77b4;\"/>\r\n   </g>\r\n   <g id=\"patch_12\">\r\n    <path clip-path=\"url(#pa5a1fe9ae6)\" d=\"M 100.522727 224.64 \r\nL 105.595455 224.64 \r\nL 105.595455 107.049892 \r\nL 100.522727 107.049892 \r\nz\r\n\" style=\"fill:#1f77b4;\"/>\r\n   </g>\r\n   <g id=\"patch_13\">\r\n    <path clip-path=\"url(#pa5a1fe9ae6)\" d=\"M 105.595455 224.64 \r\nL 110.668182 224.64 \r\nL 110.668182 118.872465 \r\nL 105.595455 118.872465 \r\nz\r\n\" style=\"fill:#1f77b4;\"/>\r\n   </g>\r\n   <g id=\"patch_14\">\r\n    <path clip-path=\"url(#pa5a1fe9ae6)\" d=\"M 110.668182 224.64 \r\nL 115.740909 224.64 \r\nL 115.740909 139.593749 \r\nL 110.668182 139.593749 \r\nz\r\n\" style=\"fill:#1f77b4;\"/>\r\n   </g>\r\n   <g id=\"patch_15\">\r\n    <path clip-path=\"url(#pa5a1fe9ae6)\" d=\"M 115.740909 224.64 \r\nL 120.813636 224.64 \r\nL 120.813636 139.212376 \r\nL 115.740909 139.212376 \r\nz\r\n\" style=\"fill:#1f77b4;\"/>\r\n   </g>\r\n   <g id=\"patch_16\">\r\n    <path clip-path=\"url(#pa5a1fe9ae6)\" d=\"M 120.813636 224.64 \r\nL 125.886364 224.64 \r\nL 125.886364 160.187908 \r\nL 120.813636 160.187908 \r\nz\r\n\" style=\"fill:#1f77b4;\"/>\r\n   </g>\r\n   <g id=\"patch_17\">\r\n    <path clip-path=\"url(#pa5a1fe9ae6)\" d=\"M 125.886364 224.64 \r\nL 130.959091 224.64 \r\nL 130.959091 169.722242 \r\nL 125.886364 169.722242 \r\nz\r\n\" style=\"fill:#1f77b4;\"/>\r\n   </g>\r\n   <g id=\"patch_18\">\r\n    <path clip-path=\"url(#pa5a1fe9ae6)\" d=\"M 130.959091 224.64 \r\nL 136.031818 224.64 \r\nL 136.031818 178.875201 \r\nL 130.959091 178.875201 \r\nz\r\n\" style=\"fill:#1f77b4;\"/>\r\n   </g>\r\n   <g id=\"patch_19\">\r\n    <path clip-path=\"url(#pa5a1fe9ae6)\" d=\"M 136.031818 224.64 \r\nL 141.104545 224.64 \r\nL 141.104545 179.12945 \r\nL 136.031818 179.12945 \r\nz\r\n\" style=\"fill:#1f77b4;\"/>\r\n   </g>\r\n   <g id=\"patch_20\">\r\n    <path clip-path=\"url(#pa5a1fe9ae6)\" d=\"M 141.104545 224.64 \r\nL 146.177273 224.64 \r\nL 146.177273 184.85005 \r\nL 141.104545 184.85005 \r\nz\r\n\" style=\"fill:#1f77b4;\"/>\r\n   </g>\r\n   <g id=\"patch_21\">\r\n    <path clip-path=\"url(#pa5a1fe9ae6)\" d=\"M 146.177273 224.64 \r\nL 151.25 224.64 \r\nL 151.25 191.969019 \r\nL 146.177273 191.969019 \r\nz\r\n\" style=\"fill:#1f77b4;\"/>\r\n   </g>\r\n   <g id=\"patch_22\">\r\n    <path clip-path=\"url(#pa5a1fe9ae6)\" d=\"M 151.25 224.64 \r\nL 156.322727 224.64 \r\nL 156.322727 186.629792 \r\nL 151.25 186.629792 \r\nz\r\n\" style=\"fill:#1f77b4;\"/>\r\n   </g>\r\n   <g id=\"patch_23\">\r\n    <path clip-path=\"url(#pa5a1fe9ae6)\" d=\"M 156.322727 224.64 \r\nL 161.395455 224.64 \r\nL 161.395455 190.57065 \r\nL 156.322727 190.57065 \r\nz\r\n\" style=\"fill:#1f77b4;\"/>\r\n   </g>\r\n   <g id=\"patch_24\">\r\n    <path clip-path=\"url(#pa5a1fe9ae6)\" d=\"M 161.395455 224.64 \r\nL 166.468182 224.64 \r\nL 166.468182 197.562494 \r\nL 161.395455 197.562494 \r\nz\r\n\" style=\"fill:#1f77b4;\"/>\r\n   </g>\r\n   <g id=\"patch_25\">\r\n    <path clip-path=\"url(#pa5a1fe9ae6)\" d=\"M 166.468182 224.64 \r\nL 171.540909 224.64 \r\nL 171.540909 196.926872 \r\nL 166.468182 196.926872 \r\nz\r\n\" style=\"fill:#1f77b4;\"/>\r\n   </g>\r\n   <g id=\"patch_26\">\r\n    <path clip-path=\"url(#pa5a1fe9ae6)\" d=\"M 171.540909 224.64 \r\nL 176.613636 224.64 \r\nL 176.613636 198.325241 \r\nL 171.540909 198.325241 \r\nz\r\n\" style=\"fill:#1f77b4;\"/>\r\n   </g>\r\n   <g id=\"patch_27\">\r\n    <path clip-path=\"url(#pa5a1fe9ae6)\" d=\"M 176.613636 224.64 \r\nL 181.686364 224.64 \r\nL 181.686364 197.689619 \r\nL 176.613636 197.689619 \r\nz\r\n\" style=\"fill:#1f77b4;\"/>\r\n   </g>\r\n   <g id=\"patch_28\">\r\n    <path clip-path=\"url(#pa5a1fe9ae6)\" d=\"M 181.686364 224.64 \r\nL 186.759091 224.64 \r\nL 186.759091 203.537343 \r\nL 181.686364 203.537343 \r\nz\r\n\" style=\"fill:#1f77b4;\"/>\r\n   </g>\r\n   <g id=\"patch_29\">\r\n    <path clip-path=\"url(#pa5a1fe9ae6)\" d=\"M 186.759091 224.64 \r\nL 191.831818 224.64 \r\nL 191.831818 207.4782 \r\nL 186.759091 207.4782 \r\nz\r\n\" style=\"fill:#1f77b4;\"/>\r\n   </g>\r\n   <g id=\"patch_30\">\r\n    <path clip-path=\"url(#pa5a1fe9ae6)\" d=\"M 191.831818 224.64 \r\nL 196.904545 224.64 \r\nL 196.904545 209.385067 \r\nL 191.831818 209.385067 \r\nz\r\n\" style=\"fill:#1f77b4;\"/>\r\n   </g>\r\n   <g id=\"patch_31\">\r\n    <path clip-path=\"url(#pa5a1fe9ae6)\" d=\"M 196.904545 224.64 \r\nL 201.977273 224.64 \r\nL 201.977273 206.969703 \r\nL 196.904545 206.969703 \r\nz\r\n\" style=\"fill:#1f77b4;\"/>\r\n   </g>\r\n   <g id=\"patch_32\">\r\n    <path clip-path=\"url(#pa5a1fe9ae6)\" d=\"M 201.977273 224.64 \r\nL 207.05 224.64 \r\nL 207.05 210.529187 \r\nL 201.977273 210.529187 \r\nz\r\n\" style=\"fill:#1f77b4;\"/>\r\n   </g>\r\n   <g id=\"patch_33\">\r\n    <path clip-path=\"url(#pa5a1fe9ae6)\" d=\"M 207.05 224.64 \r\nL 212.122727 224.64 \r\nL 212.122727 208.368072 \r\nL 207.05 208.368072 \r\nz\r\n\" style=\"fill:#1f77b4;\"/>\r\n   </g>\r\n   <g id=\"patch_34\">\r\n    <path clip-path=\"url(#pa5a1fe9ae6)\" d=\"M 212.122727 224.64 \r\nL 217.195455 224.64 \r\nL 217.195455 211.164809 \r\nL 212.122727 211.164809 \r\nz\r\n\" style=\"fill:#1f77b4;\"/>\r\n   </g>\r\n   <g id=\"patch_35\">\r\n    <path clip-path=\"url(#pa5a1fe9ae6)\" d=\"M 217.195455 224.64 \r\nL 222.268182 224.64 \r\nL 222.268182 207.351076 \r\nL 217.195455 207.351076 \r\nz\r\n\" style=\"fill:#1f77b4;\"/>\r\n   </g>\r\n   <g id=\"patch_36\">\r\n    <path clip-path=\"url(#pa5a1fe9ae6)\" d=\"M 222.268182 224.64 \r\nL 227.340909 224.64 \r\nL 227.340909 212.563178 \r\nL 222.268182 212.563178 \r\nz\r\n\" style=\"fill:#1f77b4;\"/>\r\n   </g>\r\n   <g id=\"patch_37\">\r\n    <path clip-path=\"url(#pa5a1fe9ae6)\" d=\"M 227.340909 224.64 \r\nL 232.413636 224.64 \r\nL 232.413636 212.817427 \r\nL 227.340909 212.817427 \r\nz\r\n\" style=\"fill:#1f77b4;\"/>\r\n   </g>\r\n   <g id=\"patch_38\">\r\n    <path clip-path=\"url(#pa5a1fe9ae6)\" d=\"M 232.413636 224.64 \r\nL 237.486364 224.64 \r\nL 237.486364 214.088671 \r\nL 232.413636 214.088671 \r\nz\r\n\" style=\"fill:#1f77b4;\"/>\r\n   </g>\r\n   <g id=\"patch_39\">\r\n    <path clip-path=\"url(#pa5a1fe9ae6)\" d=\"M 237.486364 224.64 \r\nL 242.559091 224.64 \r\nL 242.559091 212.563178 \r\nL 237.486364 212.563178 \r\nz\r\n\" style=\"fill:#1f77b4;\"/>\r\n   </g>\r\n   <g id=\"patch_40\">\r\n    <path clip-path=\"url(#pa5a1fe9ae6)\" d=\"M 242.559091 224.64 \r\nL 247.631818 224.64 \r\nL 247.631818 214.34292 \r\nL 242.559091 214.34292 \r\nz\r\n\" style=\"fill:#1f77b4;\"/>\r\n   </g>\r\n   <g id=\"patch_41\">\r\n    <path clip-path=\"url(#pa5a1fe9ae6)\" d=\"M 247.631818 224.64 \r\nL 252.704545 224.64 \r\nL 252.704545 215.614165 \r\nL 247.631818 215.614165 \r\nz\r\n\" style=\"fill:#1f77b4;\"/>\r\n   </g>\r\n   <g id=\"patch_42\">\r\n    <path clip-path=\"url(#pa5a1fe9ae6)\" d=\"M 252.704545 224.64 \r\nL 257.777273 224.64 \r\nL 257.777273 214.978542 \r\nL 252.704545 214.978542 \r\nz\r\n\" style=\"fill:#1f77b4;\"/>\r\n   </g>\r\n   <g id=\"patch_43\">\r\n    <path clip-path=\"url(#pa5a1fe9ae6)\" d=\"M 257.777273 224.64 \r\nL 262.85 224.64 \r\nL 262.85 218.283778 \r\nL 257.777273 218.283778 \r\nz\r\n\" style=\"fill:#1f77b4;\"/>\r\n   </g>\r\n   <g id=\"patch_44\">\r\n    <path clip-path=\"url(#pa5a1fe9ae6)\" d=\"M 262.85 224.64 \r\nL 267.922727 224.64 \r\nL 267.922727 218.665151 \r\nL 262.85 218.665151 \r\nz\r\n\" style=\"fill:#1f77b4;\"/>\r\n   </g>\r\n   <g id=\"patch_45\">\r\n    <path clip-path=\"url(#pa5a1fe9ae6)\" d=\"M 267.922727 224.64 \r\nL 272.995455 224.64 \r\nL 272.995455 218.156654 \r\nL 267.922727 218.156654 \r\nz\r\n\" style=\"fill:#1f77b4;\"/>\r\n   </g>\r\n   <g id=\"patch_46\">\r\n    <path clip-path=\"url(#pa5a1fe9ae6)\" d=\"M 272.995455 224.64 \r\nL 278.068182 224.64 \r\nL 278.068182 218.9194 \r\nL 272.995455 218.9194 \r\nz\r\n\" style=\"fill:#1f77b4;\"/>\r\n   </g>\r\n   <g id=\"patch_47\">\r\n    <path clip-path=\"url(#pa5a1fe9ae6)\" d=\"M 278.068182 224.64 \r\nL 283.140909 224.64 \r\nL 283.140909 217.77528 \r\nL 278.068182 217.77528 \r\nz\r\n\" style=\"fill:#1f77b4;\"/>\r\n   </g>\r\n   <g id=\"patch_48\">\r\n    <path clip-path=\"url(#pa5a1fe9ae6)\" d=\"M 283.140909 224.64 \r\nL 288.213636 224.64 \r\nL 288.213636 219.936396 \r\nL 283.140909 219.936396 \r\nz\r\n\" style=\"fill:#1f77b4;\"/>\r\n   </g>\r\n   <g id=\"patch_49\">\r\n    <path clip-path=\"url(#pa5a1fe9ae6)\" d=\"M 288.213636 224.64 \r\nL 293.286364 224.64 \r\nL 293.286364 220.06352 \r\nL 288.213636 220.06352 \r\nz\r\n\" style=\"fill:#1f77b4;\"/>\r\n   </g>\r\n   <g id=\"patch_50\">\r\n    <path clip-path=\"url(#pa5a1fe9ae6)\" d=\"M 293.286364 224.64 \r\nL 298.359091 224.64 \r\nL 298.359091 220.826267 \r\nL 293.286364 220.826267 \r\nz\r\n\" style=\"fill:#1f77b4;\"/>\r\n   </g>\r\n   <g id=\"patch_51\">\r\n    <path clip-path=\"url(#pa5a1fe9ae6)\" d=\"M 298.359091 224.64 \r\nL 303.431818 224.64 \r\nL 303.431818 220.444893 \r\nL 298.359091 220.444893 \r\nz\r\n\" style=\"fill:#1f77b4;\"/>\r\n   </g>\r\n   <g id=\"patch_52\">\r\n    <path clip-path=\"url(#pa5a1fe9ae6)\" d=\"M 303.431818 224.64 \r\nL 308.504545 224.64 \r\nL 308.504545 220.953391 \r\nL 303.431818 220.953391 \r\nz\r\n\" style=\"fill:#1f77b4;\"/>\r\n   </g>\r\n   <g id=\"patch_53\">\r\n    <path clip-path=\"url(#pa5a1fe9ae6)\" d=\"M 308.504545 224.64 \r\nL 313.577273 224.64 \r\nL 313.577273 221.461889 \r\nL 308.504545 221.461889 \r\nz\r\n\" style=\"fill:#1f77b4;\"/>\r\n   </g>\r\n   <g id=\"patch_54\">\r\n    <path clip-path=\"url(#pa5a1fe9ae6)\" d=\"M 313.577273 224.64 \r\nL 318.65 224.64 \r\nL 318.65 221.589013 \r\nL 313.577273 221.589013 \r\nz\r\n\" style=\"fill:#1f77b4;\"/>\r\n   </g>\r\n   <g id=\"patch_55\">\r\n    <path clip-path=\"url(#pa5a1fe9ae6)\" d=\"M 318.65 224.64 \r\nL 323.722727 224.64 \r\nL 323.722727 220.699142 \r\nL 318.65 220.699142 \r\nz\r\n\" style=\"fill:#1f77b4;\"/>\r\n   </g>\r\n   <g id=\"patch_56\">\r\n    <path clip-path=\"url(#pa5a1fe9ae6)\" d=\"M 323.722727 224.64 \r\nL 328.795455 224.64 \r\nL 328.795455 220.953391 \r\nL 323.722727 220.953391 \r\nz\r\n\" style=\"fill:#1f77b4;\"/>\r\n   </g>\r\n   <g id=\"patch_57\">\r\n    <path clip-path=\"url(#pa5a1fe9ae6)\" d=\"M 328.795455 224.64 \r\nL 333.868182 224.64 \r\nL 333.868182 221.461889 \r\nL 328.795455 221.461889 \r\nz\r\n\" style=\"fill:#1f77b4;\"/>\r\n   </g>\r\n   <g id=\"patch_58\">\r\n    <path clip-path=\"url(#pa5a1fe9ae6)\" d=\"M 333.868182 224.64 \r\nL 338.940909 224.64 \r\nL 338.940909 222.606009 \r\nL 333.868182 222.606009 \r\nz\r\n\" style=\"fill:#1f77b4;\"/>\r\n   </g>\r\n   <g id=\"patch_59\">\r\n    <path clip-path=\"url(#pa5a1fe9ae6)\" d=\"M 338.940909 224.64 \r\nL 344.013636 224.64 \r\nL 344.013636 221.970387 \r\nL 338.940909 221.970387 \r\nz\r\n\" style=\"fill:#1f77b4;\"/>\r\n   </g>\r\n   <g id=\"patch_60\">\r\n    <path clip-path=\"url(#pa5a1fe9ae6)\" d=\"M 344.013636 224.64 \r\nL 349.086364 224.64 \r\nL 349.086364 221.970387 \r\nL 344.013636 221.970387 \r\nz\r\n\" style=\"fill:#1f77b4;\"/>\r\n   </g>\r\n   <g id=\"patch_61\">\r\n    <path clip-path=\"url(#pa5a1fe9ae6)\" d=\"M 349.086364 224.64 \r\nL 354.159091 224.64 \r\nL 354.159091 222.097511 \r\nL 349.086364 222.097511 \r\nz\r\n\" style=\"fill:#1f77b4;\"/>\r\n   </g>\r\n   <g id=\"patch_62\">\r\n    <path clip-path=\"url(#pa5a1fe9ae6)\" d=\"M 354.159091 224.64 \r\nL 359.231818 224.64 \r\nL 359.231818 221.716138 \r\nL 354.159091 221.716138 \r\nz\r\n\" style=\"fill:#1f77b4;\"/>\r\n   </g>\r\n   <g id=\"matplotlib.axis_1\">\r\n    <g id=\"xtick_1\">\r\n     <g id=\"line2d_1\">\r\n      <path clip-path=\"url(#pa5a1fe9ae6)\" d=\"M 85.578747 224.64 \r\nL 85.578747 7.2 \r\n\" style=\"fill:none;stroke:#b0b0b0;stroke-linecap:square;stroke-width:0.8;\"/>\r\n     </g>\r\n     <g id=\"line2d_2\">\r\n      <defs>\r\n       <path d=\"M 0 0 \r\nL 0 3.5 \r\n\" id=\"ma373e32e8f\" style=\"stroke:#000000;stroke-width:0.8;\"/>\r\n      </defs>\r\n      <g>\r\n       <use style=\"stroke:#000000;stroke-width:0.8;\" x=\"85.578747\" xlink:href=\"#ma373e32e8f\" y=\"224.64\"/>\r\n      </g>\r\n     </g>\r\n     <g id=\"text_1\">\r\n      <!-- 100 -->\r\n      <g transform=\"translate(76.034997 239.238437)scale(0.1 -0.1)\">\r\n       <defs>\r\n        <path d=\"M 12.40625 8.296875 \r\nL 28.515625 8.296875 \r\nL 28.515625 63.921875 \r\nL 10.984375 60.40625 \r\nL 10.984375 69.390625 \r\nL 28.421875 72.90625 \r\nL 38.28125 72.90625 \r\nL 38.28125 8.296875 \r\nL 54.390625 8.296875 \r\nL 54.390625 0 \r\nL 12.40625 0 \r\nz\r\n\" id=\"DejaVuSans-49\"/>\r\n        <path d=\"M 31.78125 66.40625 \r\nQ 24.171875 66.40625 20.328125 58.90625 \r\nQ 16.5 51.421875 16.5 36.375 \r\nQ 16.5 21.390625 20.328125 13.890625 \r\nQ 24.171875 6.390625 31.78125 6.390625 \r\nQ 39.453125 6.390625 43.28125 13.890625 \r\nQ 47.125 21.390625 47.125 36.375 \r\nQ 47.125 51.421875 43.28125 58.90625 \r\nQ 39.453125 66.40625 31.78125 66.40625 \r\nz\r\nM 31.78125 74.21875 \r\nQ 44.046875 74.21875 50.515625 64.515625 \r\nQ 56.984375 54.828125 56.984375 36.375 \r\nQ 56.984375 17.96875 50.515625 8.265625 \r\nQ 44.046875 -1.421875 31.78125 -1.421875 \r\nQ 19.53125 -1.421875 13.0625 8.265625 \r\nQ 6.59375 17.96875 6.59375 36.375 \r\nQ 6.59375 54.828125 13.0625 64.515625 \r\nQ 19.53125 74.21875 31.78125 74.21875 \r\nz\r\n\" id=\"DejaVuSans-48\"/>\r\n       </defs>\r\n       <use xlink:href=\"#DejaVuSans-49\"/>\r\n       <use x=\"63.623047\" xlink:href=\"#DejaVuSans-48\"/>\r\n       <use x=\"127.246094\" xlink:href=\"#DejaVuSans-48\"/>\r\n      </g>\r\n     </g>\r\n    </g>\r\n    <g id=\"xtick_2\">\r\n     <g id=\"line2d_3\">\r\n      <path clip-path=\"url(#pa5a1fe9ae6)\" d=\"M 140.419042 224.64 \r\nL 140.419042 7.2 \r\n\" style=\"fill:none;stroke:#b0b0b0;stroke-linecap:square;stroke-width:0.8;\"/>\r\n     </g>\r\n     <g id=\"line2d_4\">\r\n      <g>\r\n       <use style=\"stroke:#000000;stroke-width:0.8;\" x=\"140.419042\" xlink:href=\"#ma373e32e8f\" y=\"224.64\"/>\r\n      </g>\r\n     </g>\r\n     <g id=\"text_2\">\r\n      <!-- 200 -->\r\n      <g transform=\"translate(130.875292 239.238437)scale(0.1 -0.1)\">\r\n       <defs>\r\n        <path d=\"M 19.1875 8.296875 \r\nL 53.609375 8.296875 \r\nL 53.609375 0 \r\nL 7.328125 0 \r\nL 7.328125 8.296875 \r\nQ 12.9375 14.109375 22.625 23.890625 \r\nQ 32.328125 33.6875 34.8125 36.53125 \r\nQ 39.546875 41.84375 41.421875 45.53125 \r\nQ 43.3125 49.21875 43.3125 52.78125 \r\nQ 43.3125 58.59375 39.234375 62.25 \r\nQ 35.15625 65.921875 28.609375 65.921875 \r\nQ 23.96875 65.921875 18.8125 64.3125 \r\nQ 13.671875 62.703125 7.8125 59.421875 \r\nL 7.8125 69.390625 \r\nQ 13.765625 71.78125 18.9375 73 \r\nQ 24.125 74.21875 28.421875 74.21875 \r\nQ 39.75 74.21875 46.484375 68.546875 \r\nQ 53.21875 62.890625 53.21875 53.421875 \r\nQ 53.21875 48.921875 51.53125 44.890625 \r\nQ 49.859375 40.875 45.40625 35.40625 \r\nQ 44.1875 33.984375 37.640625 27.21875 \r\nQ 31.109375 20.453125 19.1875 8.296875 \r\nz\r\n\" id=\"DejaVuSans-50\"/>\r\n       </defs>\r\n       <use xlink:href=\"#DejaVuSans-50\"/>\r\n       <use x=\"63.623047\" xlink:href=\"#DejaVuSans-48\"/>\r\n       <use x=\"127.246094\" xlink:href=\"#DejaVuSans-48\"/>\r\n      </g>\r\n     </g>\r\n    </g>\r\n    <g id=\"xtick_3\">\r\n     <g id=\"line2d_5\">\r\n      <path clip-path=\"url(#pa5a1fe9ae6)\" d=\"M 195.259337 224.64 \r\nL 195.259337 7.2 \r\n\" style=\"fill:none;stroke:#b0b0b0;stroke-linecap:square;stroke-width:0.8;\"/>\r\n     </g>\r\n     <g id=\"line2d_6\">\r\n      <g>\r\n       <use style=\"stroke:#000000;stroke-width:0.8;\" x=\"195.259337\" xlink:href=\"#ma373e32e8f\" y=\"224.64\"/>\r\n      </g>\r\n     </g>\r\n     <g id=\"text_3\">\r\n      <!-- 300 -->\r\n      <g transform=\"translate(185.715587 239.238437)scale(0.1 -0.1)\">\r\n       <defs>\r\n        <path d=\"M 40.578125 39.3125 \r\nQ 47.65625 37.796875 51.625 33 \r\nQ 55.609375 28.21875 55.609375 21.1875 \r\nQ 55.609375 10.40625 48.1875 4.484375 \r\nQ 40.765625 -1.421875 27.09375 -1.421875 \r\nQ 22.515625 -1.421875 17.65625 -0.515625 \r\nQ 12.796875 0.390625 7.625 2.203125 \r\nL 7.625 11.71875 \r\nQ 11.71875 9.328125 16.59375 8.109375 \r\nQ 21.484375 6.890625 26.8125 6.890625 \r\nQ 36.078125 6.890625 40.9375 10.546875 \r\nQ 45.796875 14.203125 45.796875 21.1875 \r\nQ 45.796875 27.640625 41.28125 31.265625 \r\nQ 36.765625 34.90625 28.71875 34.90625 \r\nL 20.21875 34.90625 \r\nL 20.21875 43.015625 \r\nL 29.109375 43.015625 \r\nQ 36.375 43.015625 40.234375 45.921875 \r\nQ 44.09375 48.828125 44.09375 54.296875 \r\nQ 44.09375 59.90625 40.109375 62.90625 \r\nQ 36.140625 65.921875 28.71875 65.921875 \r\nQ 24.65625 65.921875 20.015625 65.03125 \r\nQ 15.375 64.15625 9.8125 62.3125 \r\nL 9.8125 71.09375 \r\nQ 15.4375 72.65625 20.34375 73.4375 \r\nQ 25.25 74.21875 29.59375 74.21875 \r\nQ 40.828125 74.21875 47.359375 69.109375 \r\nQ 53.90625 64.015625 53.90625 55.328125 \r\nQ 53.90625 49.265625 50.4375 45.09375 \r\nQ 46.96875 40.921875 40.578125 39.3125 \r\nz\r\n\" id=\"DejaVuSans-51\"/>\r\n       </defs>\r\n       <use xlink:href=\"#DejaVuSans-51\"/>\r\n       <use x=\"63.623047\" xlink:href=\"#DejaVuSans-48\"/>\r\n       <use x=\"127.246094\" xlink:href=\"#DejaVuSans-48\"/>\r\n      </g>\r\n     </g>\r\n    </g>\r\n    <g id=\"xtick_4\">\r\n     <g id=\"line2d_7\">\r\n      <path clip-path=\"url(#pa5a1fe9ae6)\" d=\"M 250.099631 224.64 \r\nL 250.099631 7.2 \r\n\" style=\"fill:none;stroke:#b0b0b0;stroke-linecap:square;stroke-width:0.8;\"/>\r\n     </g>\r\n     <g id=\"line2d_8\">\r\n      <g>\r\n       <use style=\"stroke:#000000;stroke-width:0.8;\" x=\"250.099631\" xlink:href=\"#ma373e32e8f\" y=\"224.64\"/>\r\n      </g>\r\n     </g>\r\n     <g id=\"text_4\">\r\n      <!-- 400 -->\r\n      <g transform=\"translate(240.555881 239.238437)scale(0.1 -0.1)\">\r\n       <defs>\r\n        <path d=\"M 37.796875 64.3125 \r\nL 12.890625 25.390625 \r\nL 37.796875 25.390625 \r\nz\r\nM 35.203125 72.90625 \r\nL 47.609375 72.90625 \r\nL 47.609375 25.390625 \r\nL 58.015625 25.390625 \r\nL 58.015625 17.1875 \r\nL 47.609375 17.1875 \r\nL 47.609375 0 \r\nL 37.796875 0 \r\nL 37.796875 17.1875 \r\nL 4.890625 17.1875 \r\nL 4.890625 26.703125 \r\nz\r\n\" id=\"DejaVuSans-52\"/>\r\n       </defs>\r\n       <use xlink:href=\"#DejaVuSans-52\"/>\r\n       <use x=\"63.623047\" xlink:href=\"#DejaVuSans-48\"/>\r\n       <use x=\"127.246094\" xlink:href=\"#DejaVuSans-48\"/>\r\n      </g>\r\n     </g>\r\n    </g>\r\n    <g id=\"xtick_5\">\r\n     <g id=\"line2d_9\">\r\n      <path clip-path=\"url(#pa5a1fe9ae6)\" d=\"M 304.939926 224.64 \r\nL 304.939926 7.2 \r\n\" style=\"fill:none;stroke:#b0b0b0;stroke-linecap:square;stroke-width:0.8;\"/>\r\n     </g>\r\n     <g id=\"line2d_10\">\r\n      <g>\r\n       <use style=\"stroke:#000000;stroke-width:0.8;\" x=\"304.939926\" xlink:href=\"#ma373e32e8f\" y=\"224.64\"/>\r\n      </g>\r\n     </g>\r\n     <g id=\"text_5\">\r\n      <!-- 500 -->\r\n      <g transform=\"translate(295.396176 239.238437)scale(0.1 -0.1)\">\r\n       <defs>\r\n        <path d=\"M 10.796875 72.90625 \r\nL 49.515625 72.90625 \r\nL 49.515625 64.59375 \r\nL 19.828125 64.59375 \r\nL 19.828125 46.734375 \r\nQ 21.96875 47.46875 24.109375 47.828125 \r\nQ 26.265625 48.1875 28.421875 48.1875 \r\nQ 40.625 48.1875 47.75 41.5 \r\nQ 54.890625 34.8125 54.890625 23.390625 \r\nQ 54.890625 11.625 47.5625 5.09375 \r\nQ 40.234375 -1.421875 26.90625 -1.421875 \r\nQ 22.3125 -1.421875 17.546875 -0.640625 \r\nQ 12.796875 0.140625 7.71875 1.703125 \r\nL 7.71875 11.625 \r\nQ 12.109375 9.234375 16.796875 8.0625 \r\nQ 21.484375 6.890625 26.703125 6.890625 \r\nQ 35.15625 6.890625 40.078125 11.328125 \r\nQ 45.015625 15.765625 45.015625 23.390625 \r\nQ 45.015625 31 40.078125 35.4375 \r\nQ 35.15625 39.890625 26.703125 39.890625 \r\nQ 22.75 39.890625 18.8125 39.015625 \r\nQ 14.890625 38.140625 10.796875 36.28125 \r\nz\r\n\" id=\"DejaVuSans-53\"/>\r\n       </defs>\r\n       <use xlink:href=\"#DejaVuSans-53\"/>\r\n       <use x=\"63.623047\" xlink:href=\"#DejaVuSans-48\"/>\r\n       <use x=\"127.246094\" xlink:href=\"#DejaVuSans-48\"/>\r\n      </g>\r\n     </g>\r\n    </g>\r\n    <g id=\"xtick_6\">\r\n     <g id=\"line2d_11\">\r\n      <path clip-path=\"url(#pa5a1fe9ae6)\" d=\"M 359.780221 224.64 \r\nL 359.780221 7.2 \r\n\" style=\"fill:none;stroke:#b0b0b0;stroke-linecap:square;stroke-width:0.8;\"/>\r\n     </g>\r\n     <g id=\"line2d_12\">\r\n      <g>\r\n       <use style=\"stroke:#000000;stroke-width:0.8;\" x=\"359.780221\" xlink:href=\"#ma373e32e8f\" y=\"224.64\"/>\r\n      </g>\r\n     </g>\r\n     <g id=\"text_6\">\r\n      <!-- 600 -->\r\n      <g transform=\"translate(350.236471 239.238437)scale(0.1 -0.1)\">\r\n       <defs>\r\n        <path d=\"M 33.015625 40.375 \r\nQ 26.375 40.375 22.484375 35.828125 \r\nQ 18.609375 31.296875 18.609375 23.390625 \r\nQ 18.609375 15.53125 22.484375 10.953125 \r\nQ 26.375 6.390625 33.015625 6.390625 \r\nQ 39.65625 6.390625 43.53125 10.953125 \r\nQ 47.40625 15.53125 47.40625 23.390625 \r\nQ 47.40625 31.296875 43.53125 35.828125 \r\nQ 39.65625 40.375 33.015625 40.375 \r\nz\r\nM 52.59375 71.296875 \r\nL 52.59375 62.3125 \r\nQ 48.875 64.0625 45.09375 64.984375 \r\nQ 41.3125 65.921875 37.59375 65.921875 \r\nQ 27.828125 65.921875 22.671875 59.328125 \r\nQ 17.53125 52.734375 16.796875 39.40625 \r\nQ 19.671875 43.65625 24.015625 45.921875 \r\nQ 28.375 48.1875 33.59375 48.1875 \r\nQ 44.578125 48.1875 50.953125 41.515625 \r\nQ 57.328125 34.859375 57.328125 23.390625 \r\nQ 57.328125 12.15625 50.6875 5.359375 \r\nQ 44.046875 -1.421875 33.015625 -1.421875 \r\nQ 20.359375 -1.421875 13.671875 8.265625 \r\nQ 6.984375 17.96875 6.984375 36.375 \r\nQ 6.984375 53.65625 15.1875 63.9375 \r\nQ 23.390625 74.21875 37.203125 74.21875 \r\nQ 40.921875 74.21875 44.703125 73.484375 \r\nQ 48.484375 72.75 52.59375 71.296875 \r\nz\r\n\" id=\"DejaVuSans-54\"/>\r\n       </defs>\r\n       <use xlink:href=\"#DejaVuSans-54\"/>\r\n       <use x=\"63.623047\" xlink:href=\"#DejaVuSans-48\"/>\r\n       <use x=\"127.246094\" xlink:href=\"#DejaVuSans-48\"/>\r\n      </g>\r\n     </g>\r\n    </g>\r\n   </g>\r\n   <g id=\"matplotlib.axis_2\">\r\n    <g id=\"ytick_1\">\r\n     <g id=\"line2d_13\">\r\n      <path clip-path=\"url(#pa5a1fe9ae6)\" d=\"M 39.65 224.64 \r\nL 374.45 224.64 \r\n\" style=\"fill:none;stroke:#b0b0b0;stroke-linecap:square;stroke-width:0.8;\"/>\r\n     </g>\r\n     <g id=\"line2d_14\">\r\n      <defs>\r\n       <path d=\"M 0 0 \r\nL -3.5 0 \r\n\" id=\"m71b2786a08\" style=\"stroke:#000000;stroke-width:0.8;\"/>\r\n      </defs>\r\n      <g>\r\n       <use style=\"stroke:#000000;stroke-width:0.8;\" x=\"39.65\" xlink:href=\"#m71b2786a08\" y=\"224.64\"/>\r\n      </g>\r\n     </g>\r\n     <g id=\"text_7\">\r\n      <!-- 0 -->\r\n      <g transform=\"translate(26.2875 228.439219)scale(0.1 -0.1)\">\r\n       <use xlink:href=\"#DejaVuSans-48\"/>\r\n      </g>\r\n     </g>\r\n    </g>\r\n    <g id=\"ytick_2\">\r\n     <g id=\"line2d_15\">\r\n      <path clip-path=\"url(#pa5a1fe9ae6)\" d=\"M 39.65 199.215112 \r\nL 374.45 199.215112 \r\n\" style=\"fill:none;stroke:#b0b0b0;stroke-linecap:square;stroke-width:0.8;\"/>\r\n     </g>\r\n     <g id=\"line2d_16\">\r\n      <g>\r\n       <use style=\"stroke:#000000;stroke-width:0.8;\" x=\"39.65\" xlink:href=\"#m71b2786a08\" y=\"199.215112\"/>\r\n      </g>\r\n     </g>\r\n     <g id=\"text_8\">\r\n      <!-- 200 -->\r\n      <g transform=\"translate(13.5625 203.014331)scale(0.1 -0.1)\">\r\n       <use xlink:href=\"#DejaVuSans-50\"/>\r\n       <use x=\"63.623047\" xlink:href=\"#DejaVuSans-48\"/>\r\n       <use x=\"127.246094\" xlink:href=\"#DejaVuSans-48\"/>\r\n      </g>\r\n     </g>\r\n    </g>\r\n    <g id=\"ytick_3\">\r\n     <g id=\"line2d_17\">\r\n      <path clip-path=\"url(#pa5a1fe9ae6)\" d=\"M 39.65 173.790224 \r\nL 374.45 173.790224 \r\n\" style=\"fill:none;stroke:#b0b0b0;stroke-linecap:square;stroke-width:0.8;\"/>\r\n     </g>\r\n     <g id=\"line2d_18\">\r\n      <g>\r\n       <use style=\"stroke:#000000;stroke-width:0.8;\" x=\"39.65\" xlink:href=\"#m71b2786a08\" y=\"173.790224\"/>\r\n      </g>\r\n     </g>\r\n     <g id=\"text_9\">\r\n      <!-- 400 -->\r\n      <g transform=\"translate(13.5625 177.589442)scale(0.1 -0.1)\">\r\n       <use xlink:href=\"#DejaVuSans-52\"/>\r\n       <use x=\"63.623047\" xlink:href=\"#DejaVuSans-48\"/>\r\n       <use x=\"127.246094\" xlink:href=\"#DejaVuSans-48\"/>\r\n      </g>\r\n     </g>\r\n    </g>\r\n    <g id=\"ytick_4\">\r\n     <g id=\"line2d_19\">\r\n      <path clip-path=\"url(#pa5a1fe9ae6)\" d=\"M 39.65 148.365335 \r\nL 374.45 148.365335 \r\n\" style=\"fill:none;stroke:#b0b0b0;stroke-linecap:square;stroke-width:0.8;\"/>\r\n     </g>\r\n     <g id=\"line2d_20\">\r\n      <g>\r\n       <use style=\"stroke:#000000;stroke-width:0.8;\" x=\"39.65\" xlink:href=\"#m71b2786a08\" y=\"148.365335\"/>\r\n      </g>\r\n     </g>\r\n     <g id=\"text_10\">\r\n      <!-- 600 -->\r\n      <g transform=\"translate(13.5625 152.164554)scale(0.1 -0.1)\">\r\n       <use xlink:href=\"#DejaVuSans-54\"/>\r\n       <use x=\"63.623047\" xlink:href=\"#DejaVuSans-48\"/>\r\n       <use x=\"127.246094\" xlink:href=\"#DejaVuSans-48\"/>\r\n      </g>\r\n     </g>\r\n    </g>\r\n    <g id=\"ytick_5\">\r\n     <g id=\"line2d_21\">\r\n      <path clip-path=\"url(#pa5a1fe9ae6)\" d=\"M 39.65 122.940447 \r\nL 374.45 122.940447 \r\n\" style=\"fill:none;stroke:#b0b0b0;stroke-linecap:square;stroke-width:0.8;\"/>\r\n     </g>\r\n     <g id=\"line2d_22\">\r\n      <g>\r\n       <use style=\"stroke:#000000;stroke-width:0.8;\" x=\"39.65\" xlink:href=\"#m71b2786a08\" y=\"122.940447\"/>\r\n      </g>\r\n     </g>\r\n     <g id=\"text_11\">\r\n      <!-- 800 -->\r\n      <g transform=\"translate(13.5625 126.739666)scale(0.1 -0.1)\">\r\n       <defs>\r\n        <path d=\"M 31.78125 34.625 \r\nQ 24.75 34.625 20.71875 30.859375 \r\nQ 16.703125 27.09375 16.703125 20.515625 \r\nQ 16.703125 13.921875 20.71875 10.15625 \r\nQ 24.75 6.390625 31.78125 6.390625 \r\nQ 38.8125 6.390625 42.859375 10.171875 \r\nQ 46.921875 13.96875 46.921875 20.515625 \r\nQ 46.921875 27.09375 42.890625 30.859375 \r\nQ 38.875 34.625 31.78125 34.625 \r\nz\r\nM 21.921875 38.8125 \r\nQ 15.578125 40.375 12.03125 44.71875 \r\nQ 8.5 49.078125 8.5 55.328125 \r\nQ 8.5 64.0625 14.71875 69.140625 \r\nQ 20.953125 74.21875 31.78125 74.21875 \r\nQ 42.671875 74.21875 48.875 69.140625 \r\nQ 55.078125 64.0625 55.078125 55.328125 \r\nQ 55.078125 49.078125 51.53125 44.71875 \r\nQ 48 40.375 41.703125 38.8125 \r\nQ 48.828125 37.15625 52.796875 32.3125 \r\nQ 56.78125 27.484375 56.78125 20.515625 \r\nQ 56.78125 9.90625 50.3125 4.234375 \r\nQ 43.84375 -1.421875 31.78125 -1.421875 \r\nQ 19.734375 -1.421875 13.25 4.234375 \r\nQ 6.78125 9.90625 6.78125 20.515625 \r\nQ 6.78125 27.484375 10.78125 32.3125 \r\nQ 14.796875 37.15625 21.921875 38.8125 \r\nz\r\nM 18.3125 54.390625 \r\nQ 18.3125 48.734375 21.84375 45.5625 \r\nQ 25.390625 42.390625 31.78125 42.390625 \r\nQ 38.140625 42.390625 41.71875 45.5625 \r\nQ 45.3125 48.734375 45.3125 54.390625 \r\nQ 45.3125 60.0625 41.71875 63.234375 \r\nQ 38.140625 66.40625 31.78125 66.40625 \r\nQ 25.390625 66.40625 21.84375 63.234375 \r\nQ 18.3125 60.0625 18.3125 54.390625 \r\nz\r\n\" id=\"DejaVuSans-56\"/>\r\n       </defs>\r\n       <use xlink:href=\"#DejaVuSans-56\"/>\r\n       <use x=\"63.623047\" xlink:href=\"#DejaVuSans-48\"/>\r\n       <use x=\"127.246094\" xlink:href=\"#DejaVuSans-48\"/>\r\n      </g>\r\n     </g>\r\n    </g>\r\n    <g id=\"ytick_6\">\r\n     <g id=\"line2d_23\">\r\n      <path clip-path=\"url(#pa5a1fe9ae6)\" d=\"M 39.65 97.515559 \r\nL 374.45 97.515559 \r\n\" style=\"fill:none;stroke:#b0b0b0;stroke-linecap:square;stroke-width:0.8;\"/>\r\n     </g>\r\n     <g id=\"line2d_24\">\r\n      <g>\r\n       <use style=\"stroke:#000000;stroke-width:0.8;\" x=\"39.65\" xlink:href=\"#m71b2786a08\" y=\"97.515559\"/>\r\n      </g>\r\n     </g>\r\n     <g id=\"text_12\">\r\n      <!-- 1000 -->\r\n      <g transform=\"translate(7.2 101.314778)scale(0.1 -0.1)\">\r\n       <use xlink:href=\"#DejaVuSans-49\"/>\r\n       <use x=\"63.623047\" xlink:href=\"#DejaVuSans-48\"/>\r\n       <use x=\"127.246094\" xlink:href=\"#DejaVuSans-48\"/>\r\n       <use x=\"190.869141\" xlink:href=\"#DejaVuSans-48\"/>\r\n      </g>\r\n     </g>\r\n    </g>\r\n    <g id=\"ytick_7\">\r\n     <g id=\"line2d_25\">\r\n      <path clip-path=\"url(#pa5a1fe9ae6)\" d=\"M 39.65 72.090671 \r\nL 374.45 72.090671 \r\n\" style=\"fill:none;stroke:#b0b0b0;stroke-linecap:square;stroke-width:0.8;\"/>\r\n     </g>\r\n     <g id=\"line2d_26\">\r\n      <g>\r\n       <use style=\"stroke:#000000;stroke-width:0.8;\" x=\"39.65\" xlink:href=\"#m71b2786a08\" y=\"72.090671\"/>\r\n      </g>\r\n     </g>\r\n     <g id=\"text_13\">\r\n      <!-- 1200 -->\r\n      <g transform=\"translate(7.2 75.88989)scale(0.1 -0.1)\">\r\n       <use xlink:href=\"#DejaVuSans-49\"/>\r\n       <use x=\"63.623047\" xlink:href=\"#DejaVuSans-50\"/>\r\n       <use x=\"127.246094\" xlink:href=\"#DejaVuSans-48\"/>\r\n       <use x=\"190.869141\" xlink:href=\"#DejaVuSans-48\"/>\r\n      </g>\r\n     </g>\r\n    </g>\r\n    <g id=\"ytick_8\">\r\n     <g id=\"line2d_27\">\r\n      <path clip-path=\"url(#pa5a1fe9ae6)\" d=\"M 39.65 46.665783 \r\nL 374.45 46.665783 \r\n\" style=\"fill:none;stroke:#b0b0b0;stroke-linecap:square;stroke-width:0.8;\"/>\r\n     </g>\r\n     <g id=\"line2d_28\">\r\n      <g>\r\n       <use style=\"stroke:#000000;stroke-width:0.8;\" x=\"39.65\" xlink:href=\"#m71b2786a08\" y=\"46.665783\"/>\r\n      </g>\r\n     </g>\r\n     <g id=\"text_14\">\r\n      <!-- 1400 -->\r\n      <g transform=\"translate(7.2 50.465001)scale(0.1 -0.1)\">\r\n       <use xlink:href=\"#DejaVuSans-49\"/>\r\n       <use x=\"63.623047\" xlink:href=\"#DejaVuSans-52\"/>\r\n       <use x=\"127.246094\" xlink:href=\"#DejaVuSans-48\"/>\r\n       <use x=\"190.869141\" xlink:href=\"#DejaVuSans-48\"/>\r\n      </g>\r\n     </g>\r\n    </g>\r\n    <g id=\"ytick_9\">\r\n     <g id=\"line2d_29\">\r\n      <path clip-path=\"url(#pa5a1fe9ae6)\" d=\"M 39.65 21.240895 \r\nL 374.45 21.240895 \r\n\" style=\"fill:none;stroke:#b0b0b0;stroke-linecap:square;stroke-width:0.8;\"/>\r\n     </g>\r\n     <g id=\"line2d_30\">\r\n      <g>\r\n       <use style=\"stroke:#000000;stroke-width:0.8;\" x=\"39.65\" xlink:href=\"#m71b2786a08\" y=\"21.240895\"/>\r\n      </g>\r\n     </g>\r\n     <g id=\"text_15\">\r\n      <!-- 1600 -->\r\n      <g transform=\"translate(7.2 25.040113)scale(0.1 -0.1)\">\r\n       <use xlink:href=\"#DejaVuSans-49\"/>\r\n       <use x=\"63.623047\" xlink:href=\"#DejaVuSans-54\"/>\r\n       <use x=\"127.246094\" xlink:href=\"#DejaVuSans-48\"/>\r\n       <use x=\"190.869141\" xlink:href=\"#DejaVuSans-48\"/>\r\n      </g>\r\n     </g>\r\n    </g>\r\n   </g>\r\n   <g id=\"patch_63\">\r\n    <path d=\"M 39.65 224.64 \r\nL 39.65 7.2 \r\n\" style=\"fill:none;stroke:#000000;stroke-linecap:square;stroke-linejoin:miter;stroke-width:0.8;\"/>\r\n   </g>\r\n   <g id=\"patch_64\">\r\n    <path d=\"M 374.45 224.64 \r\nL 374.45 7.2 \r\n\" style=\"fill:none;stroke:#000000;stroke-linecap:square;stroke-linejoin:miter;stroke-width:0.8;\"/>\r\n   </g>\r\n   <g id=\"patch_65\">\r\n    <path d=\"M 39.65 224.64 \r\nL 374.45 224.64 \r\n\" style=\"fill:none;stroke:#000000;stroke-linecap:square;stroke-linejoin:miter;stroke-width:0.8;\"/>\r\n   </g>\r\n   <g id=\"patch_66\">\r\n    <path d=\"M 39.65 7.2 \r\nL 374.45 7.2 \r\n\" style=\"fill:none;stroke:#000000;stroke-linecap:square;stroke-linejoin:miter;stroke-width:0.8;\"/>\r\n   </g>\r\n  </g>\r\n </g>\r\n <defs>\r\n  <clipPath id=\"pa5a1fe9ae6\">\r\n   <rect height=\"217.44\" width=\"334.8\" x=\"39.65\" y=\"7.2\"/>\r\n  </clipPath>\r\n </defs>\r\n</svg>\r\n",
      "image/png": "[encoded data removed]"
     },
     "metadata": {
      "needs_background": "light"
     }
    }
   ],
   "source": [
    "id_counts=complete_df.groupby(\"HADM_ID\").count()\n",
    "id_counts[\"TIME\"][id_counts[\"TIME\"]<600].hist(bins=60)"
   ]
  },
  {
   "cell_type": "code",
   "execution_count": 15,
   "metadata": {},
   "outputs": [
    {
     "output_type": "execute_result",
     "data": {
      "text/plain": [
       "<AxesSubplot:>"
      ]
     },
     "metadata": {},
     "execution_count": 15
    },
    {
     "output_type": "display_data",
     "data": {
      "text/plain": "<Figure size 432x288 with 1 Axes>",
      "image/svg+xml": "<?xml version=\"1.0\" encoding=\"utf-8\" standalone=\"no\"?>\r\n<!DOCTYPE svg PUBLIC \"-//W3C//DTD SVG 1.1//EN\"\r\n  \"http://www.w3.org/Graphics/SVG/1.1/DTD/svg11.dtd\">\r\n<!-- Created with matplotlib (https://matplotlib.org/) -->\r\n<svg height=\"248.518125pt\" version=\"1.1\" viewBox=\"0 0 381.65 248.518125\" width=\"381.65pt\" xmlns=\"http://www.w3.org/2000/svg\" xmlns:xlink=\"http://www.w3.org/1999/xlink\">\r\n <metadata>\r\n  <rdf:RDF xmlns:cc=\"http://creativecommons.org/ns#\" xmlns:dc=\"http://purl.org/dc/elements/1.1/\" xmlns:rdf=\"http://www.w3.org/1999/02/22-rdf-syntax-ns#\">\r\n   <cc:Work>\r\n    <dc:type rdf:resource=\"http://purl.org/dc/dcmitype/StillImage\"/>\r\n    <dc:date>2021-02-14T15:54:49.477301</dc:date>\r\n    <dc:format>image/svg+xml</dc:format>\r\n    <dc:creator>\r\n     <cc:Agent>\r\n      <dc:title>Matplotlib v3.3.2, https://matplotlib.org/</dc:title>\r\n     </cc:Agent>\r\n    </dc:creator>\r\n   </cc:Work>\r\n  </rdf:RDF>\r\n </metadata>\r\n <defs>\r\n  <style type=\"text/css\">*{stroke-linecap:butt;stroke-linejoin:round;}</style>\r\n </defs>\r\n <g id=\"figure_1\">\r\n  <g id=\"patch_1\">\r\n   <path d=\"M -0 248.518125 \r\nL 381.65 248.518125 \r\nL 381.65 0 \r\nL -0 0 \r\nz\r\n\" style=\"fill:none;\"/>\r\n  </g>\r\n  <g id=\"axes_1\">\r\n   <g id=\"patch_2\">\r\n    <path d=\"M 39.65 224.64 \r\nL 374.45 224.64 \r\nL 374.45 7.2 \r\nL 39.65 7.2 \r\nz\r\n\" style=\"fill:#ffffff;\"/>\r\n   </g>\r\n   <g id=\"patch_3\">\r\n    <path clip-path=\"url(#p8eb7f47df1)\" d=\"M 54.868182 224.64 \r\nL 59.940909 224.64 \r\nL 59.940909 137.94713 \r\nL 54.868182 137.94713 \r\nz\r\n\" style=\"fill:#1f77b4;\"/>\r\n   </g>\r\n   <g id=\"patch_4\">\r\n    <path clip-path=\"url(#p8eb7f47df1)\" d=\"M 59.940909 224.64 \r\nL 65.013636 224.64 \r\nL 65.013636 22.815992 \r\nL 59.940909 22.815992 \r\nz\r\n\" style=\"fill:#1f77b4;\"/>\r\n   </g>\r\n   <g id=\"patch_5\">\r\n    <path clip-path=\"url(#p8eb7f47df1)\" d=\"M 65.013636 224.64 \r\nL 70.086364 224.64 \r\nL 70.086364 37.974716 \r\nL 65.013636 37.974716 \r\nz\r\n\" style=\"fill:#1f77b4;\"/>\r\n   </g>\r\n   <g id=\"patch_6\">\r\n    <path clip-path=\"url(#p8eb7f47df1)\" d=\"M 70.086364 224.64 \r\nL 75.159091 224.64 \r\nL 75.159091 25.196287 \r\nL 70.086364 25.196287 \r\nz\r\n\" style=\"fill:#1f77b4;\"/>\r\n   </g>\r\n   <g id=\"patch_7\">\r\n    <path clip-path=\"url(#p8eb7f47df1)\" d=\"M 75.159091 224.64 \r\nL 80.231818 224.64 \r\nL 80.231818 17.554286 \r\nL 75.159091 17.554286 \r\nz\r\n\" style=\"fill:#1f77b4;\"/>\r\n   </g>\r\n   <g id=\"patch_8\">\r\n    <path clip-path=\"url(#p8eb7f47df1)\" d=\"M 80.231818 224.64 \r\nL 85.304545 224.64 \r\nL 85.304545 51.880653 \r\nL 80.231818 51.880653 \r\nz\r\n\" style=\"fill:#1f77b4;\"/>\r\n   </g>\r\n   <g id=\"patch_9\">\r\n    <path clip-path=\"url(#p8eb7f47df1)\" d=\"M 85.304545 224.64 \r\nL 90.377273 224.64 \r\nL 90.377273 59.146819 \r\nL 85.304545 59.146819 \r\nz\r\n\" style=\"fill:#1f77b4;\"/>\r\n   </g>\r\n   <g id=\"patch_10\">\r\n    <path clip-path=\"url(#p8eb7f47df1)\" d=\"M 90.377273 224.64 \r\nL 95.45 224.64 \r\nL 95.45 69.795509 \r\nL 90.377273 69.795509 \r\nz\r\n\" style=\"fill:#1f77b4;\"/>\r\n   </g>\r\n   <g id=\"patch_11\">\r\n    <path clip-path=\"url(#p8eb7f47df1)\" d=\"M 95.45 224.64 \r\nL 100.522727 224.64 \r\nL 100.522727 66.412984 \r\nL 95.45 66.412984 \r\nz\r\n\" style=\"fill:#1f77b4;\"/>\r\n   </g>\r\n   <g id=\"patch_12\">\r\n    <path clip-path=\"url(#p8eb7f47df1)\" d=\"M 100.522727 224.64 \r\nL 105.595455 224.64 \r\nL 105.595455 108.381353 \r\nL 100.522727 108.381353 \r\nz\r\n\" style=\"fill:#1f77b4;\"/>\r\n   </g>\r\n   <g id=\"patch_13\">\r\n    <path clip-path=\"url(#p8eb7f47df1)\" d=\"M 105.595455 224.64 \r\nL 110.668182 224.64 \r\nL 110.668182 119.906995 \r\nL 105.595455 119.906995 \r\nz\r\n\" style=\"fill:#1f77b4;\"/>\r\n   </g>\r\n   <g id=\"patch_14\">\r\n    <path clip-path=\"url(#p8eb7f47df1)\" d=\"M 110.668182 224.64 \r\nL 115.740909 224.64 \r\nL 115.740909 138.072409 \r\nL 110.668182 138.072409 \r\nz\r\n\" style=\"fill:#1f77b4;\"/>\r\n   </g>\r\n   <g id=\"patch_15\">\r\n    <path clip-path=\"url(#p8eb7f47df1)\" d=\"M 115.740909 224.64 \r\nL 120.813636 224.64 \r\nL 120.813636 139.325196 \r\nL 115.740909 139.325196 \r\nz\r\n\" style=\"fill:#1f77b4;\"/>\r\n   </g>\r\n   <g id=\"patch_16\">\r\n    <path clip-path=\"url(#p8eb7f47df1)\" d=\"M 120.813636 224.64 \r\nL 125.886364 224.64 \r\nL 125.886364 159.620347 \r\nL 120.813636 159.620347 \r\nz\r\n\" style=\"fill:#1f77b4;\"/>\r\n   </g>\r\n   <g id=\"patch_17\">\r\n    <path clip-path=\"url(#p8eb7f47df1)\" d=\"M 125.886364 224.64 \r\nL 130.959091 224.64 \r\nL 130.959091 171.271268 \r\nL 125.886364 171.271268 \r\nz\r\n\" style=\"fill:#1f77b4;\"/>\r\n   </g>\r\n   <g id=\"patch_18\">\r\n    <path clip-path=\"url(#p8eb7f47df1)\" d=\"M 130.959091 224.64 \r\nL 136.031818 224.64 \r\nL 136.031818 178.036318 \r\nL 130.959091 178.036318 \r\nz\r\n\" style=\"fill:#1f77b4;\"/>\r\n   </g>\r\n   <g id=\"patch_19\">\r\n    <path clip-path=\"url(#p8eb7f47df1)\" d=\"M 136.031818 224.64 \r\nL 141.104545 224.64 \r\nL 141.104545 177.535204 \r\nL 136.031818 177.535204 \r\nz\r\n\" style=\"fill:#1f77b4;\"/>\r\n   </g>\r\n   <g id=\"patch_20\">\r\n    <path clip-path=\"url(#p8eb7f47df1)\" d=\"M 141.104545 224.64 \r\nL 146.177273 224.64 \r\nL 146.177273 179.163827 \r\nL 141.104545 179.163827 \r\nz\r\n\" style=\"fill:#1f77b4;\"/>\r\n   </g>\r\n   <g id=\"patch_21\">\r\n    <path clip-path=\"url(#p8eb7f47df1)\" d=\"M 146.177273 224.64 \r\nL 151.25 224.64 \r\nL 151.25 183.673861 \r\nL 146.177273 183.673861 \r\nz\r\n\" style=\"fill:#1f77b4;\"/>\r\n   </g>\r\n   <g id=\"patch_22\">\r\n    <path clip-path=\"url(#p8eb7f47df1)\" d=\"M 151.25 224.64 \r\nL 156.322727 224.64 \r\nL 156.322727 188.058616 \r\nL 151.25 188.058616 \r\nz\r\n\" style=\"fill:#1f77b4;\"/>\r\n   </g>\r\n   <g id=\"patch_23\">\r\n    <path clip-path=\"url(#p8eb7f47df1)\" d=\"M 156.322727 224.64 \r\nL 161.395455 224.64 \r\nL 161.395455 189.937796 \r\nL 156.322727 189.937796 \r\nz\r\n\" style=\"fill:#1f77b4;\"/>\r\n   </g>\r\n   <g id=\"patch_24\">\r\n    <path clip-path=\"url(#p8eb7f47df1)\" d=\"M 161.395455 224.64 \r\nL 166.468182 224.64 \r\nL 166.468182 194.823666 \r\nL 161.395455 194.823666 \r\nz\r\n\" style=\"fill:#1f77b4;\"/>\r\n   </g>\r\n   <g id=\"patch_25\">\r\n    <path clip-path=\"url(#p8eb7f47df1)\" d=\"M 166.468182 224.64 \r\nL 171.540909 224.64 \r\nL 171.540909 197.830355 \r\nL 166.468182 197.830355 \r\nz\r\n\" style=\"fill:#1f77b4;\"/>\r\n   </g>\r\n   <g id=\"patch_26\">\r\n    <path clip-path=\"url(#p8eb7f47df1)\" d=\"M 171.540909 224.64 \r\nL 176.613636 224.64 \r\nL 176.613636 200.837044 \r\nL 171.540909 200.837044 \r\nz\r\n\" style=\"fill:#1f77b4;\"/>\r\n   </g>\r\n   <g id=\"patch_27\">\r\n    <path clip-path=\"url(#p8eb7f47df1)\" d=\"M 176.613636 224.64 \r\nL 181.686364 224.64 \r\nL 181.686364 199.584257 \r\nL 176.613636 199.584257 \r\nz\r\n\" style=\"fill:#1f77b4;\"/>\r\n   </g>\r\n   <g id=\"patch_28\">\r\n    <path clip-path=\"url(#p8eb7f47df1)\" d=\"M 181.686364 224.64 \r\nL 186.759091 224.64 \r\nL 186.759091 205.848193 \r\nL 181.686364 205.848193 \r\nz\r\n\" style=\"fill:#1f77b4;\"/>\r\n   </g>\r\n   <g id=\"patch_29\">\r\n    <path clip-path=\"url(#p8eb7f47df1)\" d=\"M 186.759091 224.64 \r\nL 191.831818 224.64 \r\nL 191.831818 205.472357 \r\nL 186.759091 205.472357 \r\nz\r\n\" style=\"fill:#1f77b4;\"/>\r\n   </g>\r\n   <g id=\"patch_30\">\r\n    <path clip-path=\"url(#p8eb7f47df1)\" d=\"M 191.831818 224.64 \r\nL 196.904545 224.64 \r\nL 196.904545 206.09875 \r\nL 191.831818 206.09875 \r\nz\r\n\" style=\"fill:#1f77b4;\"/>\r\n   </g>\r\n   <g id=\"patch_31\">\r\n    <path clip-path=\"url(#p8eb7f47df1)\" d=\"M 196.904545 224.64 \r\nL 201.977273 224.64 \r\nL 201.977273 205.597635 \r\nL 196.904545 205.597635 \r\nz\r\n\" style=\"fill:#1f77b4;\"/>\r\n   </g>\r\n   <g id=\"patch_32\">\r\n    <path clip-path=\"url(#p8eb7f47df1)\" d=\"M 201.977273 224.64 \r\nL 207.05 224.64 \r\nL 207.05 208.479046 \r\nL 201.977273 208.479046 \r\nz\r\n\" style=\"fill:#1f77b4;\"/>\r\n   </g>\r\n   <g id=\"patch_33\">\r\n    <path clip-path=\"url(#p8eb7f47df1)\" d=\"M 207.05 224.64 \r\nL 212.122727 224.64 \r\nL 212.122727 206.725144 \r\nL 207.05 206.725144 \r\nz\r\n\" style=\"fill:#1f77b4;\"/>\r\n   </g>\r\n   <g id=\"patch_34\">\r\n    <path clip-path=\"url(#p8eb7f47df1)\" d=\"M 212.122727 224.64 \r\nL 217.195455 224.64 \r\nL 217.195455 212.98908 \r\nL 212.122727 212.98908 \r\nz\r\n\" style=\"fill:#1f77b4;\"/>\r\n   </g>\r\n   <g id=\"patch_35\">\r\n    <path clip-path=\"url(#p8eb7f47df1)\" d=\"M 217.195455 224.64 \r\nL 222.268182 224.64 \r\nL 222.268182 210.483505 \r\nL 217.195455 210.483505 \r\nz\r\n\" style=\"fill:#1f77b4;\"/>\r\n   </g>\r\n   <g id=\"patch_36\">\r\n    <path clip-path=\"url(#p8eb7f47df1)\" d=\"M 222.268182 224.64 \r\nL 227.340909 224.64 \r\nL 227.340909 213.364916 \r\nL 222.268182 213.364916 \r\nz\r\n\" style=\"fill:#1f77b4;\"/>\r\n   </g>\r\n   <g id=\"patch_37\">\r\n    <path clip-path=\"url(#p8eb7f47df1)\" d=\"M 227.340909 224.64 \r\nL 232.413636 224.64 \r\nL 232.413636 213.740752 \r\nL 227.340909 213.740752 \r\nz\r\n\" style=\"fill:#1f77b4;\"/>\r\n   </g>\r\n   <g id=\"patch_38\">\r\n    <path clip-path=\"url(#p8eb7f47df1)\" d=\"M 232.413636 224.64 \r\nL 237.486364 224.64 \r\nL 237.486364 216.121047 \r\nL 232.413636 216.121047 \r\nz\r\n\" style=\"fill:#1f77b4;\"/>\r\n   </g>\r\n   <g id=\"patch_39\">\r\n    <path clip-path=\"url(#p8eb7f47df1)\" d=\"M 237.486364 224.64 \r\nL 242.559091 224.64 \r\nL 242.559091 214.993539 \r\nL 237.486364 214.993539 \r\nz\r\n\" style=\"fill:#1f77b4;\"/>\r\n   </g>\r\n   <g id=\"patch_40\">\r\n    <path clip-path=\"url(#p8eb7f47df1)\" d=\"M 242.559091 224.64 \r\nL 247.631818 224.64 \r\nL 247.631818 218.376064 \r\nL 242.559091 218.376064 \r\nz\r\n\" style=\"fill:#1f77b4;\"/>\r\n   </g>\r\n   <g id=\"patch_41\">\r\n    <path clip-path=\"url(#p8eb7f47df1)\" d=\"M 247.631818 224.64 \r\nL 252.704545 224.64 \r\nL 252.704545 217.874949 \r\nL 247.631818 217.874949 \r\nz\r\n\" style=\"fill:#1f77b4;\"/>\r\n   </g>\r\n   <g id=\"patch_42\">\r\n    <path clip-path=\"url(#p8eb7f47df1)\" d=\"M 252.704545 224.64 \r\nL 257.777273 224.64 \r\nL 257.777273 219.127737 \r\nL 252.704545 219.127737 \r\nz\r\n\" style=\"fill:#1f77b4;\"/>\r\n   </g>\r\n   <g id=\"patch_43\">\r\n    <path clip-path=\"url(#p8eb7f47df1)\" d=\"M 257.777273 224.64 \r\nL 262.85 224.64 \r\nL 262.85 219.253015 \r\nL 257.777273 219.253015 \r\nz\r\n\" style=\"fill:#1f77b4;\"/>\r\n   </g>\r\n   <g id=\"patch_44\">\r\n    <path clip-path=\"url(#p8eb7f47df1)\" d=\"M 262.85 224.64 \r\nL 267.922727 224.64 \r\nL 267.922727 219.002458 \r\nL 262.85 219.002458 \r\nz\r\n\" style=\"fill:#1f77b4;\"/>\r\n   </g>\r\n   <g id=\"patch_45\">\r\n    <path clip-path=\"url(#p8eb7f47df1)\" d=\"M 267.922727 224.64 \r\nL 272.995455 224.64 \r\nL 272.995455 219.879409 \r\nL 267.922727 219.879409 \r\nz\r\n\" style=\"fill:#1f77b4;\"/>\r\n   </g>\r\n   <g id=\"patch_46\">\r\n    <path clip-path=\"url(#p8eb7f47df1)\" d=\"M 272.995455 224.64 \r\nL 278.068182 224.64 \r\nL 278.068182 220.129966 \r\nL 272.995455 220.129966 \r\nz\r\n\" style=\"fill:#1f77b4;\"/>\r\n   </g>\r\n   <g id=\"patch_47\">\r\n    <path clip-path=\"url(#p8eb7f47df1)\" d=\"M 278.068182 224.64 \r\nL 283.140909 224.64 \r\nL 283.140909 220.631081 \r\nL 278.068182 220.631081 \r\nz\r\n\" style=\"fill:#1f77b4;\"/>\r\n   </g>\r\n   <g id=\"patch_48\">\r\n    <path clip-path=\"url(#p8eb7f47df1)\" d=\"M 283.140909 224.64 \r\nL 288.213636 224.64 \r\nL 288.213636 220.380524 \r\nL 283.140909 220.380524 \r\nz\r\n\" style=\"fill:#1f77b4;\"/>\r\n   </g>\r\n   <g id=\"patch_49\">\r\n    <path clip-path=\"url(#p8eb7f47df1)\" d=\"M 288.213636 224.64 \r\nL 293.286364 224.64 \r\nL 293.286364 221.508032 \r\nL 288.213636 221.508032 \r\nz\r\n\" style=\"fill:#1f77b4;\"/>\r\n   </g>\r\n   <g id=\"patch_50\">\r\n    <path clip-path=\"url(#p8eb7f47df1)\" d=\"M 293.286364 224.64 \r\nL 298.359091 224.64 \r\nL 298.359091 222.009147 \r\nL 293.286364 222.009147 \r\nz\r\n\" style=\"fill:#1f77b4;\"/>\r\n   </g>\r\n   <g id=\"patch_51\">\r\n    <path clip-path=\"url(#p8eb7f47df1)\" d=\"M 298.359091 224.64 \r\nL 303.431818 224.64 \r\nL 303.431818 221.006917 \r\nL 298.359091 221.006917 \r\nz\r\n\" style=\"fill:#1f77b4;\"/>\r\n   </g>\r\n   <g id=\"patch_52\">\r\n    <path clip-path=\"url(#p8eb7f47df1)\" d=\"M 303.431818 224.64 \r\nL 308.504545 224.64 \r\nL 308.504545 221.883868 \r\nL 303.431818 221.883868 \r\nz\r\n\" style=\"fill:#1f77b4;\"/>\r\n   </g>\r\n   <g id=\"patch_53\">\r\n    <path clip-path=\"url(#p8eb7f47df1)\" d=\"M 308.504545 224.64 \r\nL 313.577273 224.64 \r\nL 313.577273 222.009147 \r\nL 308.504545 222.009147 \r\nz\r\n\" style=\"fill:#1f77b4;\"/>\r\n   </g>\r\n   <g id=\"patch_54\">\r\n    <path clip-path=\"url(#p8eb7f47df1)\" d=\"M 313.577273 224.64 \r\nL 318.65 224.64 \r\nL 318.65 221.883868 \r\nL 313.577273 221.883868 \r\nz\r\n\" style=\"fill:#1f77b4;\"/>\r\n   </g>\r\n   <g id=\"patch_55\">\r\n    <path clip-path=\"url(#p8eb7f47df1)\" d=\"M 318.65 224.64 \r\nL 323.722727 224.64 \r\nL 323.722727 221.633311 \r\nL 318.65 221.633311 \r\nz\r\n\" style=\"fill:#1f77b4;\"/>\r\n   </g>\r\n   <g id=\"patch_56\">\r\n    <path clip-path=\"url(#p8eb7f47df1)\" d=\"M 323.722727 224.64 \r\nL 328.795455 224.64 \r\nL 328.795455 222.886098 \r\nL 323.722727 222.886098 \r\nz\r\n\" style=\"fill:#1f77b4;\"/>\r\n   </g>\r\n   <g id=\"patch_57\">\r\n    <path clip-path=\"url(#p8eb7f47df1)\" d=\"M 328.795455 224.64 \r\nL 333.868182 224.64 \r\nL 333.868182 222.635541 \r\nL 328.795455 222.635541 \r\nz\r\n\" style=\"fill:#1f77b4;\"/>\r\n   </g>\r\n   <g id=\"patch_58\">\r\n    <path clip-path=\"url(#p8eb7f47df1)\" d=\"M 333.868182 224.64 \r\nL 338.940909 224.64 \r\nL 338.940909 223.011377 \r\nL 333.868182 223.011377 \r\nz\r\n\" style=\"fill:#1f77b4;\"/>\r\n   </g>\r\n   <g id=\"patch_59\">\r\n    <path clip-path=\"url(#p8eb7f47df1)\" d=\"M 338.940909 224.64 \r\nL 344.013636 224.64 \r\nL 344.013636 223.763049 \r\nL 338.940909 223.763049 \r\nz\r\n\" style=\"fill:#1f77b4;\"/>\r\n   </g>\r\n   <g id=\"patch_60\">\r\n    <path clip-path=\"url(#p8eb7f47df1)\" d=\"M 344.013636 224.64 \r\nL 349.086364 224.64 \r\nL 349.086364 223.387213 \r\nL 344.013636 223.387213 \r\nz\r\n\" style=\"fill:#1f77b4;\"/>\r\n   </g>\r\n   <g id=\"patch_61\">\r\n    <path clip-path=\"url(#p8eb7f47df1)\" d=\"M 349.086364 224.64 \r\nL 354.159091 224.64 \r\nL 354.159091 223.63777 \r\nL 349.086364 223.63777 \r\nz\r\n\" style=\"fill:#1f77b4;\"/>\r\n   </g>\r\n   <g id=\"patch_62\">\r\n    <path clip-path=\"url(#p8eb7f47df1)\" d=\"M 354.159091 224.64 \r\nL 359.231818 224.64 \r\nL 359.231818 223.763049 \r\nL 354.159091 223.763049 \r\nz\r\n\" style=\"fill:#1f77b4;\"/>\r\n   </g>\r\n   <g id=\"matplotlib.axis_1\">\r\n    <g id=\"xtick_1\">\r\n     <g id=\"line2d_1\">\r\n      <path clip-path=\"url(#p8eb7f47df1)\" d=\"M 85.578747 224.64 \r\nL 85.578747 7.2 \r\n\" style=\"fill:none;stroke:#b0b0b0;stroke-linecap:square;stroke-width:0.8;\"/>\r\n     </g>\r\n     <g id=\"line2d_2\">\r\n      <defs>\r\n       <path d=\"M 0 0 \r\nL 0 3.5 \r\n\" id=\"m20849f95b1\" style=\"stroke:#000000;stroke-width:0.8;\"/>\r\n      </defs>\r\n      <g>\r\n       <use style=\"stroke:#000000;stroke-width:0.8;\" x=\"85.578747\" xlink:href=\"#m20849f95b1\" y=\"224.64\"/>\r\n      </g>\r\n     </g>\r\n     <g id=\"text_1\">\r\n      <!-- 100 -->\r\n      <g transform=\"translate(76.034997 239.238437)scale(0.1 -0.1)\">\r\n       <defs>\r\n        <path d=\"M 12.40625 8.296875 \r\nL 28.515625 8.296875 \r\nL 28.515625 63.921875 \r\nL 10.984375 60.40625 \r\nL 10.984375 69.390625 \r\nL 28.421875 72.90625 \r\nL 38.28125 72.90625 \r\nL 38.28125 8.296875 \r\nL 54.390625 8.296875 \r\nL 54.390625 0 \r\nL 12.40625 0 \r\nz\r\n\" id=\"DejaVuSans-49\"/>\r\n        <path d=\"M 31.78125 66.40625 \r\nQ 24.171875 66.40625 20.328125 58.90625 \r\nQ 16.5 51.421875 16.5 36.375 \r\nQ 16.5 21.390625 20.328125 13.890625 \r\nQ 24.171875 6.390625 31.78125 6.390625 \r\nQ 39.453125 6.390625 43.28125 13.890625 \r\nQ 47.125 21.390625 47.125 36.375 \r\nQ 47.125 51.421875 43.28125 58.90625 \r\nQ 39.453125 66.40625 31.78125 66.40625 \r\nz\r\nM 31.78125 74.21875 \r\nQ 44.046875 74.21875 50.515625 64.515625 \r\nQ 56.984375 54.828125 56.984375 36.375 \r\nQ 56.984375 17.96875 50.515625 8.265625 \r\nQ 44.046875 -1.421875 31.78125 -1.421875 \r\nQ 19.53125 -1.421875 13.0625 8.265625 \r\nQ 6.59375 17.96875 6.59375 36.375 \r\nQ 6.59375 54.828125 13.0625 64.515625 \r\nQ 19.53125 74.21875 31.78125 74.21875 \r\nz\r\n\" id=\"DejaVuSans-48\"/>\r\n       </defs>\r\n       <use xlink:href=\"#DejaVuSans-49\"/>\r\n       <use x=\"63.623047\" xlink:href=\"#DejaVuSans-48\"/>\r\n       <use x=\"127.246094\" xlink:href=\"#DejaVuSans-48\"/>\r\n      </g>\r\n     </g>\r\n    </g>\r\n    <g id=\"xtick_2\">\r\n     <g id=\"line2d_3\">\r\n      <path clip-path=\"url(#p8eb7f47df1)\" d=\"M 140.419042 224.64 \r\nL 140.419042 7.2 \r\n\" style=\"fill:none;stroke:#b0b0b0;stroke-linecap:square;stroke-width:0.8;\"/>\r\n     </g>\r\n     <g id=\"line2d_4\">\r\n      <g>\r\n       <use style=\"stroke:#000000;stroke-width:0.8;\" x=\"140.419042\" xlink:href=\"#m20849f95b1\" y=\"224.64\"/>\r\n      </g>\r\n     </g>\r\n     <g id=\"text_2\">\r\n      <!-- 200 -->\r\n      <g transform=\"translate(130.875292 239.238437)scale(0.1 -0.1)\">\r\n       <defs>\r\n        <path d=\"M 19.1875 8.296875 \r\nL 53.609375 8.296875 \r\nL 53.609375 0 \r\nL 7.328125 0 \r\nL 7.328125 8.296875 \r\nQ 12.9375 14.109375 22.625 23.890625 \r\nQ 32.328125 33.6875 34.8125 36.53125 \r\nQ 39.546875 41.84375 41.421875 45.53125 \r\nQ 43.3125 49.21875 43.3125 52.78125 \r\nQ 43.3125 58.59375 39.234375 62.25 \r\nQ 35.15625 65.921875 28.609375 65.921875 \r\nQ 23.96875 65.921875 18.8125 64.3125 \r\nQ 13.671875 62.703125 7.8125 59.421875 \r\nL 7.8125 69.390625 \r\nQ 13.765625 71.78125 18.9375 73 \r\nQ 24.125 74.21875 28.421875 74.21875 \r\nQ 39.75 74.21875 46.484375 68.546875 \r\nQ 53.21875 62.890625 53.21875 53.421875 \r\nQ 53.21875 48.921875 51.53125 44.890625 \r\nQ 49.859375 40.875 45.40625 35.40625 \r\nQ 44.1875 33.984375 37.640625 27.21875 \r\nQ 31.109375 20.453125 19.1875 8.296875 \r\nz\r\n\" id=\"DejaVuSans-50\"/>\r\n       </defs>\r\n       <use xlink:href=\"#DejaVuSans-50\"/>\r\n       <use x=\"63.623047\" xlink:href=\"#DejaVuSans-48\"/>\r\n       <use x=\"127.246094\" xlink:href=\"#DejaVuSans-48\"/>\r\n      </g>\r\n     </g>\r\n    </g>\r\n    <g id=\"xtick_3\">\r\n     <g id=\"line2d_5\">\r\n      <path clip-path=\"url(#p8eb7f47df1)\" d=\"M 195.259337 224.64 \r\nL 195.259337 7.2 \r\n\" style=\"fill:none;stroke:#b0b0b0;stroke-linecap:square;stroke-width:0.8;\"/>\r\n     </g>\r\n     <g id=\"line2d_6\">\r\n      <g>\r\n       <use style=\"stroke:#000000;stroke-width:0.8;\" x=\"195.259337\" xlink:href=\"#m20849f95b1\" y=\"224.64\"/>\r\n      </g>\r\n     </g>\r\n     <g id=\"text_3\">\r\n      <!-- 300 -->\r\n      <g transform=\"translate(185.715587 239.238437)scale(0.1 -0.1)\">\r\n       <defs>\r\n        <path d=\"M 40.578125 39.3125 \r\nQ 47.65625 37.796875 51.625 33 \r\nQ 55.609375 28.21875 55.609375 21.1875 \r\nQ 55.609375 10.40625 48.1875 4.484375 \r\nQ 40.765625 -1.421875 27.09375 -1.421875 \r\nQ 22.515625 -1.421875 17.65625 -0.515625 \r\nQ 12.796875 0.390625 7.625 2.203125 \r\nL 7.625 11.71875 \r\nQ 11.71875 9.328125 16.59375 8.109375 \r\nQ 21.484375 6.890625 26.8125 6.890625 \r\nQ 36.078125 6.890625 40.9375 10.546875 \r\nQ 45.796875 14.203125 45.796875 21.1875 \r\nQ 45.796875 27.640625 41.28125 31.265625 \r\nQ 36.765625 34.90625 28.71875 34.90625 \r\nL 20.21875 34.90625 \r\nL 20.21875 43.015625 \r\nL 29.109375 43.015625 \r\nQ 36.375 43.015625 40.234375 45.921875 \r\nQ 44.09375 48.828125 44.09375 54.296875 \r\nQ 44.09375 59.90625 40.109375 62.90625 \r\nQ 36.140625 65.921875 28.71875 65.921875 \r\nQ 24.65625 65.921875 20.015625 65.03125 \r\nQ 15.375 64.15625 9.8125 62.3125 \r\nL 9.8125 71.09375 \r\nQ 15.4375 72.65625 20.34375 73.4375 \r\nQ 25.25 74.21875 29.59375 74.21875 \r\nQ 40.828125 74.21875 47.359375 69.109375 \r\nQ 53.90625 64.015625 53.90625 55.328125 \r\nQ 53.90625 49.265625 50.4375 45.09375 \r\nQ 46.96875 40.921875 40.578125 39.3125 \r\nz\r\n\" id=\"DejaVuSans-51\"/>\r\n       </defs>\r\n       <use xlink:href=\"#DejaVuSans-51\"/>\r\n       <use x=\"63.623047\" xlink:href=\"#DejaVuSans-48\"/>\r\n       <use x=\"127.246094\" xlink:href=\"#DejaVuSans-48\"/>\r\n      </g>\r\n     </g>\r\n    </g>\r\n    <g id=\"xtick_4\">\r\n     <g id=\"line2d_7\">\r\n      <path clip-path=\"url(#p8eb7f47df1)\" d=\"M 250.099631 224.64 \r\nL 250.099631 7.2 \r\n\" style=\"fill:none;stroke:#b0b0b0;stroke-linecap:square;stroke-width:0.8;\"/>\r\n     </g>\r\n     <g id=\"line2d_8\">\r\n      <g>\r\n       <use style=\"stroke:#000000;stroke-width:0.8;\" x=\"250.099631\" xlink:href=\"#m20849f95b1\" y=\"224.64\"/>\r\n      </g>\r\n     </g>\r\n     <g id=\"text_4\">\r\n      <!-- 400 -->\r\n      <g transform=\"translate(240.555881 239.238437)scale(0.1 -0.1)\">\r\n       <defs>\r\n        <path d=\"M 37.796875 64.3125 \r\nL 12.890625 25.390625 \r\nL 37.796875 25.390625 \r\nz\r\nM 35.203125 72.90625 \r\nL 47.609375 72.90625 \r\nL 47.609375 25.390625 \r\nL 58.015625 25.390625 \r\nL 58.015625 17.1875 \r\nL 47.609375 17.1875 \r\nL 47.609375 0 \r\nL 37.796875 0 \r\nL 37.796875 17.1875 \r\nL 4.890625 17.1875 \r\nL 4.890625 26.703125 \r\nz\r\n\" id=\"DejaVuSans-52\"/>\r\n       </defs>\r\n       <use xlink:href=\"#DejaVuSans-52\"/>\r\n       <use x=\"63.623047\" xlink:href=\"#DejaVuSans-48\"/>\r\n       <use x=\"127.246094\" xlink:href=\"#DejaVuSans-48\"/>\r\n      </g>\r\n     </g>\r\n    </g>\r\n    <g id=\"xtick_5\">\r\n     <g id=\"line2d_9\">\r\n      <path clip-path=\"url(#p8eb7f47df1)\" d=\"M 304.939926 224.64 \r\nL 304.939926 7.2 \r\n\" style=\"fill:none;stroke:#b0b0b0;stroke-linecap:square;stroke-width:0.8;\"/>\r\n     </g>\r\n     <g id=\"line2d_10\">\r\n      <g>\r\n       <use style=\"stroke:#000000;stroke-width:0.8;\" x=\"304.939926\" xlink:href=\"#m20849f95b1\" y=\"224.64\"/>\r\n      </g>\r\n     </g>\r\n     <g id=\"text_5\">\r\n      <!-- 500 -->\r\n      <g transform=\"translate(295.396176 239.238437)scale(0.1 -0.1)\">\r\n       <defs>\r\n        <path d=\"M 10.796875 72.90625 \r\nL 49.515625 72.90625 \r\nL 49.515625 64.59375 \r\nL 19.828125 64.59375 \r\nL 19.828125 46.734375 \r\nQ 21.96875 47.46875 24.109375 47.828125 \r\nQ 26.265625 48.1875 28.421875 48.1875 \r\nQ 40.625 48.1875 47.75 41.5 \r\nQ 54.890625 34.8125 54.890625 23.390625 \r\nQ 54.890625 11.625 47.5625 5.09375 \r\nQ 40.234375 -1.421875 26.90625 -1.421875 \r\nQ 22.3125 -1.421875 17.546875 -0.640625 \r\nQ 12.796875 0.140625 7.71875 1.703125 \r\nL 7.71875 11.625 \r\nQ 12.109375 9.234375 16.796875 8.0625 \r\nQ 21.484375 6.890625 26.703125 6.890625 \r\nQ 35.15625 6.890625 40.078125 11.328125 \r\nQ 45.015625 15.765625 45.015625 23.390625 \r\nQ 45.015625 31 40.078125 35.4375 \r\nQ 35.15625 39.890625 26.703125 39.890625 \r\nQ 22.75 39.890625 18.8125 39.015625 \r\nQ 14.890625 38.140625 10.796875 36.28125 \r\nz\r\n\" id=\"DejaVuSans-53\"/>\r\n       </defs>\r\n       <use xlink:href=\"#DejaVuSans-53\"/>\r\n       <use x=\"63.623047\" xlink:href=\"#DejaVuSans-48\"/>\r\n       <use x=\"127.246094\" xlink:href=\"#DejaVuSans-48\"/>\r\n      </g>\r\n     </g>\r\n    </g>\r\n    <g id=\"xtick_6\">\r\n     <g id=\"line2d_11\">\r\n      <path clip-path=\"url(#p8eb7f47df1)\" d=\"M 359.780221 224.64 \r\nL 359.780221 7.2 \r\n\" style=\"fill:none;stroke:#b0b0b0;stroke-linecap:square;stroke-width:0.8;\"/>\r\n     </g>\r\n     <g id=\"line2d_12\">\r\n      <g>\r\n       <use style=\"stroke:#000000;stroke-width:0.8;\" x=\"359.780221\" xlink:href=\"#m20849f95b1\" y=\"224.64\"/>\r\n      </g>\r\n     </g>\r\n     <g id=\"text_6\">\r\n      <!-- 600 -->\r\n      <g transform=\"translate(350.236471 239.238437)scale(0.1 -0.1)\">\r\n       <defs>\r\n        <path d=\"M 33.015625 40.375 \r\nQ 26.375 40.375 22.484375 35.828125 \r\nQ 18.609375 31.296875 18.609375 23.390625 \r\nQ 18.609375 15.53125 22.484375 10.953125 \r\nQ 26.375 6.390625 33.015625 6.390625 \r\nQ 39.65625 6.390625 43.53125 10.953125 \r\nQ 47.40625 15.53125 47.40625 23.390625 \r\nQ 47.40625 31.296875 43.53125 35.828125 \r\nQ 39.65625 40.375 33.015625 40.375 \r\nz\r\nM 52.59375 71.296875 \r\nL 52.59375 62.3125 \r\nQ 48.875 64.0625 45.09375 64.984375 \r\nQ 41.3125 65.921875 37.59375 65.921875 \r\nQ 27.828125 65.921875 22.671875 59.328125 \r\nQ 17.53125 52.734375 16.796875 39.40625 \r\nQ 19.671875 43.65625 24.015625 45.921875 \r\nQ 28.375 48.1875 33.59375 48.1875 \r\nQ 44.578125 48.1875 50.953125 41.515625 \r\nQ 57.328125 34.859375 57.328125 23.390625 \r\nQ 57.328125 12.15625 50.6875 5.359375 \r\nQ 44.046875 -1.421875 33.015625 -1.421875 \r\nQ 20.359375 -1.421875 13.671875 8.265625 \r\nQ 6.984375 17.96875 6.984375 36.375 \r\nQ 6.984375 53.65625 15.1875 63.9375 \r\nQ 23.390625 74.21875 37.203125 74.21875 \r\nQ 40.921875 74.21875 44.703125 73.484375 \r\nQ 48.484375 72.75 52.59375 71.296875 \r\nz\r\n\" id=\"DejaVuSans-54\"/>\r\n       </defs>\r\n       <use xlink:href=\"#DejaVuSans-54\"/>\r\n       <use x=\"63.623047\" xlink:href=\"#DejaVuSans-48\"/>\r\n       <use x=\"127.246094\" xlink:href=\"#DejaVuSans-48\"/>\r\n      </g>\r\n     </g>\r\n    </g>\r\n   </g>\r\n   <g id=\"matplotlib.axis_2\">\r\n    <g id=\"ytick_1\">\r\n     <g id=\"line2d_13\">\r\n      <path clip-path=\"url(#p8eb7f47df1)\" d=\"M 39.65 224.64 \r\nL 374.45 224.64 \r\n\" style=\"fill:none;stroke:#b0b0b0;stroke-linecap:square;stroke-width:0.8;\"/>\r\n     </g>\r\n     <g id=\"line2d_14\">\r\n      <defs>\r\n       <path d=\"M 0 0 \r\nL -3.5 0 \r\n\" id=\"m1d95980e6d\" style=\"stroke:#000000;stroke-width:0.8;\"/>\r\n      </defs>\r\n      <g>\r\n       <use style=\"stroke:#000000;stroke-width:0.8;\" x=\"39.65\" xlink:href=\"#m1d95980e6d\" y=\"224.64\"/>\r\n      </g>\r\n     </g>\r\n     <g id=\"text_7\">\r\n      <!-- 0 -->\r\n      <g transform=\"translate(26.2875 228.439219)scale(0.1 -0.1)\">\r\n       <use xlink:href=\"#DejaVuSans-48\"/>\r\n      </g>\r\n     </g>\r\n    </g>\r\n    <g id=\"ytick_2\">\r\n     <g id=\"line2d_15\">\r\n      <path clip-path=\"url(#p8eb7f47df1)\" d=\"M 39.65 199.584257 \r\nL 374.45 199.584257 \r\n\" style=\"fill:none;stroke:#b0b0b0;stroke-linecap:square;stroke-width:0.8;\"/>\r\n     </g>\r\n     <g id=\"line2d_16\">\r\n      <g>\r\n       <use style=\"stroke:#000000;stroke-width:0.8;\" x=\"39.65\" xlink:href=\"#m1d95980e6d\" y=\"199.584257\"/>\r\n      </g>\r\n     </g>\r\n     <g id=\"text_8\">\r\n      <!-- 200 -->\r\n      <g transform=\"translate(13.5625 203.383476)scale(0.1 -0.1)\">\r\n       <use xlink:href=\"#DejaVuSans-50\"/>\r\n       <use x=\"63.623047\" xlink:href=\"#DejaVuSans-48\"/>\r\n       <use x=\"127.246094\" xlink:href=\"#DejaVuSans-48\"/>\r\n      </g>\r\n     </g>\r\n    </g>\r\n    <g id=\"ytick_3\">\r\n     <g id=\"line2d_17\">\r\n      <path clip-path=\"url(#p8eb7f47df1)\" d=\"M 39.65 174.528514 \r\nL 374.45 174.528514 \r\n\" style=\"fill:none;stroke:#b0b0b0;stroke-linecap:square;stroke-width:0.8;\"/>\r\n     </g>\r\n     <g id=\"line2d_18\">\r\n      <g>\r\n       <use style=\"stroke:#000000;stroke-width:0.8;\" x=\"39.65\" xlink:href=\"#m1d95980e6d\" y=\"174.528514\"/>\r\n      </g>\r\n     </g>\r\n     <g id=\"text_9\">\r\n      <!-- 400 -->\r\n      <g transform=\"translate(13.5625 178.327733)scale(0.1 -0.1)\">\r\n       <use xlink:href=\"#DejaVuSans-52\"/>\r\n       <use x=\"63.623047\" xlink:href=\"#DejaVuSans-48\"/>\r\n       <use x=\"127.246094\" xlink:href=\"#DejaVuSans-48\"/>\r\n      </g>\r\n     </g>\r\n    </g>\r\n    <g id=\"ytick_4\">\r\n     <g id=\"line2d_19\">\r\n      <path clip-path=\"url(#p8eb7f47df1)\" d=\"M 39.65 149.472772 \r\nL 374.45 149.472772 \r\n\" style=\"fill:none;stroke:#b0b0b0;stroke-linecap:square;stroke-width:0.8;\"/>\r\n     </g>\r\n     <g id=\"line2d_20\">\r\n      <g>\r\n       <use style=\"stroke:#000000;stroke-width:0.8;\" x=\"39.65\" xlink:href=\"#m1d95980e6d\" y=\"149.472772\"/>\r\n      </g>\r\n     </g>\r\n     <g id=\"text_10\">\r\n      <!-- 600 -->\r\n      <g transform=\"translate(13.5625 153.27199)scale(0.1 -0.1)\">\r\n       <use xlink:href=\"#DejaVuSans-54\"/>\r\n       <use x=\"63.623047\" xlink:href=\"#DejaVuSans-48\"/>\r\n       <use x=\"127.246094\" xlink:href=\"#DejaVuSans-48\"/>\r\n      </g>\r\n     </g>\r\n    </g>\r\n    <g id=\"ytick_5\">\r\n     <g id=\"line2d_21\">\r\n      <path clip-path=\"url(#p8eb7f47df1)\" d=\"M 39.65 124.417029 \r\nL 374.45 124.417029 \r\n\" style=\"fill:none;stroke:#b0b0b0;stroke-linecap:square;stroke-width:0.8;\"/>\r\n     </g>\r\n     <g id=\"line2d_22\">\r\n      <g>\r\n       <use style=\"stroke:#000000;stroke-width:0.8;\" x=\"39.65\" xlink:href=\"#m1d95980e6d\" y=\"124.417029\"/>\r\n      </g>\r\n     </g>\r\n     <g id=\"text_11\">\r\n      <!-- 800 -->\r\n      <g transform=\"translate(13.5625 128.216248)scale(0.1 -0.1)\">\r\n       <defs>\r\n        <path d=\"M 31.78125 34.625 \r\nQ 24.75 34.625 20.71875 30.859375 \r\nQ 16.703125 27.09375 16.703125 20.515625 \r\nQ 16.703125 13.921875 20.71875 10.15625 \r\nQ 24.75 6.390625 31.78125 6.390625 \r\nQ 38.8125 6.390625 42.859375 10.171875 \r\nQ 46.921875 13.96875 46.921875 20.515625 \r\nQ 46.921875 27.09375 42.890625 30.859375 \r\nQ 38.875 34.625 31.78125 34.625 \r\nz\r\nM 21.921875 38.8125 \r\nQ 15.578125 40.375 12.03125 44.71875 \r\nQ 8.5 49.078125 8.5 55.328125 \r\nQ 8.5 64.0625 14.71875 69.140625 \r\nQ 20.953125 74.21875 31.78125 74.21875 \r\nQ 42.671875 74.21875 48.875 69.140625 \r\nQ 55.078125 64.0625 55.078125 55.328125 \r\nQ 55.078125 49.078125 51.53125 44.71875 \r\nQ 48 40.375 41.703125 38.8125 \r\nQ 48.828125 37.15625 52.796875 32.3125 \r\nQ 56.78125 27.484375 56.78125 20.515625 \r\nQ 56.78125 9.90625 50.3125 4.234375 \r\nQ 43.84375 -1.421875 31.78125 -1.421875 \r\nQ 19.734375 -1.421875 13.25 4.234375 \r\nQ 6.78125 9.90625 6.78125 20.515625 \r\nQ 6.78125 27.484375 10.78125 32.3125 \r\nQ 14.796875 37.15625 21.921875 38.8125 \r\nz\r\nM 18.3125 54.390625 \r\nQ 18.3125 48.734375 21.84375 45.5625 \r\nQ 25.390625 42.390625 31.78125 42.390625 \r\nQ 38.140625 42.390625 41.71875 45.5625 \r\nQ 45.3125 48.734375 45.3125 54.390625 \r\nQ 45.3125 60.0625 41.71875 63.234375 \r\nQ 38.140625 66.40625 31.78125 66.40625 \r\nQ 25.390625 66.40625 21.84375 63.234375 \r\nQ 18.3125 60.0625 18.3125 54.390625 \r\nz\r\n\" id=\"DejaVuSans-56\"/>\r\n       </defs>\r\n       <use xlink:href=\"#DejaVuSans-56\"/>\r\n       <use x=\"63.623047\" xlink:href=\"#DejaVuSans-48\"/>\r\n       <use x=\"127.246094\" xlink:href=\"#DejaVuSans-48\"/>\r\n      </g>\r\n     </g>\r\n    </g>\r\n    <g id=\"ytick_6\">\r\n     <g id=\"line2d_23\">\r\n      <path clip-path=\"url(#p8eb7f47df1)\" d=\"M 39.65 99.361286 \r\nL 374.45 99.361286 \r\n\" style=\"fill:none;stroke:#b0b0b0;stroke-linecap:square;stroke-width:0.8;\"/>\r\n     </g>\r\n     <g id=\"line2d_24\">\r\n      <g>\r\n       <use style=\"stroke:#000000;stroke-width:0.8;\" x=\"39.65\" xlink:href=\"#m1d95980e6d\" y=\"99.361286\"/>\r\n      </g>\r\n     </g>\r\n     <g id=\"text_12\">\r\n      <!-- 1000 -->\r\n      <g transform=\"translate(7.2 103.160505)scale(0.1 -0.1)\">\r\n       <use xlink:href=\"#DejaVuSans-49\"/>\r\n       <use x=\"63.623047\" xlink:href=\"#DejaVuSans-48\"/>\r\n       <use x=\"127.246094\" xlink:href=\"#DejaVuSans-48\"/>\r\n       <use x=\"190.869141\" xlink:href=\"#DejaVuSans-48\"/>\r\n      </g>\r\n     </g>\r\n    </g>\r\n    <g id=\"ytick_7\">\r\n     <g id=\"line2d_25\">\r\n      <path clip-path=\"url(#p8eb7f47df1)\" d=\"M 39.65 74.305543 \r\nL 374.45 74.305543 \r\n\" style=\"fill:none;stroke:#b0b0b0;stroke-linecap:square;stroke-width:0.8;\"/>\r\n     </g>\r\n     <g id=\"line2d_26\">\r\n      <g>\r\n       <use style=\"stroke:#000000;stroke-width:0.8;\" x=\"39.65\" xlink:href=\"#m1d95980e6d\" y=\"74.305543\"/>\r\n      </g>\r\n     </g>\r\n     <g id=\"text_13\">\r\n      <!-- 1200 -->\r\n      <g transform=\"translate(7.2 78.104762)scale(0.1 -0.1)\">\r\n       <use xlink:href=\"#DejaVuSans-49\"/>\r\n       <use x=\"63.623047\" xlink:href=\"#DejaVuSans-50\"/>\r\n       <use x=\"127.246094\" xlink:href=\"#DejaVuSans-48\"/>\r\n       <use x=\"190.869141\" xlink:href=\"#DejaVuSans-48\"/>\r\n      </g>\r\n     </g>\r\n    </g>\r\n    <g id=\"ytick_8\">\r\n     <g id=\"line2d_27\">\r\n      <path clip-path=\"url(#p8eb7f47df1)\" d=\"M 39.65 49.2498 \r\nL 374.45 49.2498 \r\n\" style=\"fill:none;stroke:#b0b0b0;stroke-linecap:square;stroke-width:0.8;\"/>\r\n     </g>\r\n     <g id=\"line2d_28\">\r\n      <g>\r\n       <use style=\"stroke:#000000;stroke-width:0.8;\" x=\"39.65\" xlink:href=\"#m1d95980e6d\" y=\"49.2498\"/>\r\n      </g>\r\n     </g>\r\n     <g id=\"text_14\">\r\n      <!-- 1400 -->\r\n      <g transform=\"translate(7.2 53.049019)scale(0.1 -0.1)\">\r\n       <use xlink:href=\"#DejaVuSans-49\"/>\r\n       <use x=\"63.623047\" xlink:href=\"#DejaVuSans-52\"/>\r\n       <use x=\"127.246094\" xlink:href=\"#DejaVuSans-48\"/>\r\n       <use x=\"190.869141\" xlink:href=\"#DejaVuSans-48\"/>\r\n      </g>\r\n     </g>\r\n    </g>\r\n    <g id=\"ytick_9\">\r\n     <g id=\"line2d_29\">\r\n      <path clip-path=\"url(#p8eb7f47df1)\" d=\"M 39.65 24.194058 \r\nL 374.45 24.194058 \r\n\" style=\"fill:none;stroke:#b0b0b0;stroke-linecap:square;stroke-width:0.8;\"/>\r\n     </g>\r\n     <g id=\"line2d_30\">\r\n      <g>\r\n       <use style=\"stroke:#000000;stroke-width:0.8;\" x=\"39.65\" xlink:href=\"#m1d95980e6d\" y=\"24.194058\"/>\r\n      </g>\r\n     </g>\r\n     <g id=\"text_15\">\r\n      <!-- 1600 -->\r\n      <g transform=\"translate(7.2 27.993276)scale(0.1 -0.1)\">\r\n       <use xlink:href=\"#DejaVuSans-49\"/>\r\n       <use x=\"63.623047\" xlink:href=\"#DejaVuSans-54\"/>\r\n       <use x=\"127.246094\" xlink:href=\"#DejaVuSans-48\"/>\r\n       <use x=\"190.869141\" xlink:href=\"#DejaVuSans-48\"/>\r\n      </g>\r\n     </g>\r\n    </g>\r\n   </g>\r\n   <g id=\"patch_63\">\r\n    <path d=\"M 39.65 224.64 \r\nL 39.65 7.2 \r\n\" style=\"fill:none;stroke:#000000;stroke-linecap:square;stroke-linejoin:miter;stroke-width:0.8;\"/>\r\n   </g>\r\n   <g id=\"patch_64\">\r\n    <path d=\"M 374.45 224.64 \r\nL 374.45 7.2 \r\n\" style=\"fill:none;stroke:#000000;stroke-linecap:square;stroke-linejoin:miter;stroke-width:0.8;\"/>\r\n   </g>\r\n   <g id=\"patch_65\">\r\n    <path d=\"M 39.65 224.64 \r\nL 374.45 224.64 \r\n\" style=\"fill:none;stroke:#000000;stroke-linecap:square;stroke-linejoin:miter;stroke-width:0.8;\"/>\r\n   </g>\r\n   <g id=\"patch_66\">\r\n    <path d=\"M 39.65 7.2 \r\nL 374.45 7.2 \r\n\" style=\"fill:none;stroke:#000000;stroke-linecap:square;stroke-linejoin:miter;stroke-width:0.8;\"/>\r\n   </g>\r\n  </g>\r\n </g>\r\n <defs>\r\n  <clipPath id=\"p8eb7f47df1\">\r\n   <rect height=\"217.44\" width=\"334.8\" x=\"39.65\" y=\"7.2\"/>\r\n  </clipPath>\r\n </defs>\r\n</svg>\r\n",
      "image/png": "[encoded data removed]"
     },
     "metadata": {
      "needs_background": "light"
     }
    }
   ],
   "source": [
    "id_counts=complete_df02.groupby(\"HADM_ID\").count()\n",
    "id_counts[\"TIME\"][id_counts[\"TIME\"]<600].hist(bins=60)"
   ]
  },
  {
   "cell_type": "code",
   "execution_count": 16,
   "metadata": {},
   "outputs": [
    {
     "output_type": "execute_result",
     "data": {
      "text/plain": [
       "96.0"
      ]
     },
     "metadata": {},
     "execution_count": 16
    }
   ],
   "source": [
    "complete_df02[\"TIME\"].max()"
   ]
  },
  {
   "cell_type": "markdown",
   "metadata": {},
   "source": [
    "# Dataframe creation for Tensor Decomposition\n",
    "\n",
    "Creation of a unique index for the admissions id."
   ]
  },
  {
   "cell_type": "code",
   "execution_count": 17,
   "metadata": {},
   "outputs": [],
   "source": [
    "#Creation of a unique index\n",
    "unique_ids=np.arange(complete_df02[\"HADM_ID\"].nunique())\n",
    "np.random.shuffle(unique_ids)\n",
    "d=dict(zip(complete_df02[\"HADM_ID\"].unique(),unique_ids))\n"
   ]
  },
  {
   "cell_type": "code",
   "execution_count": 18,
   "metadata": {},
   "outputs": [],
   "source": [
    "Unique_id_dict=pd.Series(complete_df02[\"HADM_ID\"].unique()).reset_index().copy()\n",
    "Unique_id_dict.columns=[\"index\",\"HADM_ID\"]\n",
    "Unique_id_dict[\"UNIQUE_ID\"]=Unique_id_dict[\"HADM_ID\"].map(d)\n",
    "Unique_id_dict.to_csv(outfile_path+\"UNIQUE_ID_dict.csv\")"
   ]
  },
  {
   "cell_type": "code",
   "execution_count": 19,
   "metadata": {},
   "outputs": [],
   "source": [
    "unique_id_df   = pd.read_csv(outfile_path+\"UNIQUE_ID_dict.csv\")\n",
    "d = dict(zip(unique_id_df[\"HADM_ID\"].values,unique_id_df[\"UNIQUE_ID\"].values))"
   ]
  },
  {
   "cell_type": "markdown",
   "metadata": {},
   "source": [
    "\n",
    "### Death tags data set"
   ]
  },
  {
   "cell_type": "code",
   "execution_count": 20,
   "metadata": {},
   "outputs": [],
   "source": [
    "admissions=pd.read_csv(file_path+\"Admissions_processed.csv\")\n",
    "death_tags_s=admissions.groupby(\"HADM_ID\")[\"DEATHTAG\"].unique().astype(int).to_frame().reset_index()\n",
    "death_tags_df=death_tags_s.loc[death_tags_s[\"HADM_ID\"].isin(complete_df02[\"HADM_ID\"])].copy()\n",
    "death_tags_df[\"UNIQUE_ID\"]=death_tags_df[\"HADM_ID\"].map(d)\n",
    "death_tags_df.sort_values(by=\"UNIQUE_ID\",inplace=True)\n",
    "death_tags_df.rename(columns={\"DEATHTAG\":\"Value\"},inplace=True)\n",
    "death_tags_df.to_csv(outfile_path+\"complete_death_tags.csv\")"
   ]
  },
  {
   "source": [
    "### comparison with sapsii"
   ],
   "cell_type": "markdown",
   "metadata": {}
  },
  {
   "cell_type": "code",
   "execution_count": 21,
   "metadata": {},
   "outputs": [
    {
     "output_type": "execute_result",
     "data": {
      "text/plain": [
       "    subject_id  hadm_id  icustay_id  sapsii  sapsii_prob  age_score  hr_score  \\\n",
       "1        27513   163557      200003      30     0.106398          7       4.0   \n",
       "3        20707   129310      200007      18     0.029295          7       0.0   \n",
       "8         9514   127229      200014      43     0.305597         18       2.0   \n",
       "16       76603   179633      200024      52     0.507019         18       4.0   \n",
       "17       19167   164161      200025      29     0.096698          7       0.0   \n",
       "\n",
       "    sysbp_score  temp_score  pao2fio2_score  ...  bun_score  wbc_score  \\\n",
       "1           5.0         0.0             NaN  ...        0.0        3.0   \n",
       "3           5.0         0.0             NaN  ...        0.0        0.0   \n",
       "8           5.0         0.0             6.0  ...        0.0        0.0   \n",
       "16          5.0         0.0             6.0  ...        6.0        0.0   \n",
       "17          5.0         0.0             6.0  ...        0.0        0.0   \n",
       "\n",
       "    potassium_score  sodium_score  bicarbonate_score  bilirubin_score  \\\n",
       "1               0.0           0.0                3.0              0.0   \n",
       "3               0.0           0.0                0.0              NaN   \n",
       "8               0.0           0.0                0.0              0.0   \n",
       "16              3.0           1.0                3.0              NaN   \n",
       "17              3.0           0.0                0.0              NaN   \n",
       "\n",
       "    gcs_score  comorbidity_score  admissiontype_score  HADM_ID  \n",
       "1         0.0                  0                    8   163557  \n",
       "3         0.0                  0                    6   129310  \n",
       "8         0.0                  0                    8   127229  \n",
       "16        0.0                  0                    6   179633  \n",
       "17        0.0                  0                    8   164161  \n",
       "\n",
       "[5 rows x 21 columns]"
      ],
      "text/html": "<div>\n<style scoped>\n    .dataframe tbody tr th:only-of-type {\n        vertical-align: middle;\n    }\n\n    .dataframe tbody tr th {\n        vertical-align: top;\n    }\n\n    .dataframe thead th {\n        text-align: right;\n    }\n</style>\n<table border=\"1\" class=\"dataframe\">\n  <thead>\n    <tr style=\"text-align: right;\">\n      <th></th>\n      <th>subject_id</th>\n      <th>hadm_id</th>\n      <th>icustay_id</th>\n      <th>sapsii</th>\n      <th>sapsii_prob</th>\n      <th>age_score</th>\n      <th>hr_score</th>\n      <th>sysbp_score</th>\n      <th>temp_score</th>\n      <th>pao2fio2_score</th>\n      <th>...</th>\n      <th>bun_score</th>\n      <th>wbc_score</th>\n      <th>potassium_score</th>\n      <th>sodium_score</th>\n      <th>bicarbonate_score</th>\n      <th>bilirubin_score</th>\n      <th>gcs_score</th>\n      <th>comorbidity_score</th>\n      <th>admissiontype_score</th>\n      <th>HADM_ID</th>\n    </tr>\n  </thead>\n  <tbody>\n    <tr>\n      <th>1</th>\n      <td>27513</td>\n      <td>163557</td>\n      <td>200003</td>\n      <td>30</td>\n      <td>0.106398</td>\n      <td>7</td>\n      <td>4.0</td>\n      <td>5.0</td>\n      <td>0.0</td>\n      <td>NaN</td>\n      <td>...</td>\n      <td>0.0</td>\n      <td>3.0</td>\n      <td>0.0</td>\n      <td>0.0</td>\n      <td>3.0</td>\n      <td>0.0</td>\n      <td>0.0</td>\n      <td>0</td>\n      <td>8</td>\n      <td>163557</td>\n    </tr>\n    <tr>\n      <th>3</th>\n      <td>20707</td>\n      <td>129310</td>\n      <td>200007</td>\n      <td>18</td>\n      <td>0.029295</td>\n      <td>7</td>\n      <td>0.0</td>\n      <td>5.0</td>\n      <td>0.0</td>\n      <td>NaN</td>\n      <td>...</td>\n      <td>0.0</td>\n      <td>0.0</td>\n      <td>0.0</td>\n      <td>0.0</td>\n      <td>0.0</td>\n      <td>NaN</td>\n      <td>0.0</td>\n      <td>0</td>\n      <td>6</td>\n      <td>129310</td>\n    </tr>\n    <tr>\n      <th>8</th>\n      <td>9514</td>\n      <td>127229</td>\n      <td>200014</td>\n      <td>43</td>\n      <td>0.305597</td>\n      <td>18</td>\n      <td>2.0</td>\n      <td>5.0</td>\n      <td>0.0</td>\n      <td>6.0</td>\n      <td>...</td>\n      <td>0.0</td>\n      <td>0.0</td>\n      <td>0.0</td>\n      <td>0.0</td>\n      <td>0.0</td>\n      <td>0.0</td>\n      <td>0.0</td>\n      <td>0</td>\n      <td>8</td>\n      <td>127229</td>\n    </tr>\n    <tr>\n      <th>16</th>\n      <td>76603</td>\n      <td>179633</td>\n      <td>200024</td>\n      <td>52</td>\n      <td>0.507019</td>\n      <td>18</td>\n      <td>4.0</td>\n      <td>5.0</td>\n      <td>0.0</td>\n      <td>6.0</td>\n      <td>...</td>\n      <td>6.0</td>\n      <td>0.0</td>\n      <td>3.0</td>\n      <td>1.0</td>\n      <td>3.0</td>\n      <td>NaN</td>\n      <td>0.0</td>\n      <td>0</td>\n      <td>6</td>\n      <td>179633</td>\n    </tr>\n    <tr>\n      <th>17</th>\n      <td>19167</td>\n      <td>164161</td>\n      <td>200025</td>\n      <td>29</td>\n      <td>0.096698</td>\n      <td>7</td>\n      <td>0.0</td>\n      <td>5.0</td>\n      <td>0.0</td>\n      <td>6.0</td>\n      <td>...</td>\n      <td>0.0</td>\n      <td>0.0</td>\n      <td>3.0</td>\n      <td>0.0</td>\n      <td>0.0</td>\n      <td>NaN</td>\n      <td>0.0</td>\n      <td>0</td>\n      <td>8</td>\n      <td>164161</td>\n    </tr>\n  </tbody>\n</table>\n<p>5 rows × 21 columns</p>\n</div>"
     },
     "metadata": {},
     "execution_count": 21
    }
   ],
   "source": [
    "#SAPSII data\n",
    "saps=pd.read_csv(file_path+'sapsii.csv')\n",
    "valid_hadm_id=complete_df02[\"HADM_ID\"].unique()\n",
    "saps=saps.loc[saps[\"hadm_id\"].isin(list(valid_hadm_id))].copy()\n",
    "saps[\"HADM_ID\"]=saps[\"hadm_id\"]\n",
    "saps.head()"
   ]
  },
  {
   "cell_type": "code",
   "execution_count": 22,
   "metadata": {},
   "outputs": [
    {
     "output_type": "execute_result",
     "data": {
      "text/plain": [
       "    subject_id  hadm_id  icustay_id  sapsii  sapsii_prob  age_score  hr_score  \\\n",
       "1        27513   163557      200003      30     0.106398          7       4.0   \n",
       "3        20707   129310      200007      18     0.029295          7       0.0   \n",
       "8         9514   127229      200014      43     0.305597         18       2.0   \n",
       "16       76603   179633      200024      52     0.507019         18       4.0   \n",
       "17       19167   164161      200025      29     0.096698          7       0.0   \n",
       "\n",
       "    sysbp_score  temp_score  pao2fio2_score  ...  sodium_score  \\\n",
       "1           5.0         0.0             NaN  ...           0.0   \n",
       "3           5.0         0.0             NaN  ...           0.0   \n",
       "8           5.0         0.0             6.0  ...           0.0   \n",
       "16          5.0         0.0             6.0  ...           1.0   \n",
       "17          5.0         0.0             6.0  ...           0.0   \n",
       "\n",
       "    bicarbonate_score  bilirubin_score  gcs_score  comorbidity_score  \\\n",
       "1                 3.0              0.0        0.0                  0   \n",
       "3                 0.0              NaN        0.0                  0   \n",
       "8                 0.0              0.0        0.0                  0   \n",
       "16                3.0              NaN        0.0                  0   \n",
       "17                0.0              NaN        0.0                  0   \n",
       "\n",
       "    admissiontype_score  HADM_ID  SUM_score         X      PROB  \n",
       "1                     8   163557       15.0 -3.893052  0.980024  \n",
       "3                     6   129310        5.0 -5.608037  0.996345  \n",
       "8                     8   127229       17.0 -3.628210  0.974124  \n",
       "16                    6   179633       28.0 -2.341969  0.912294  \n",
       "17                    8   164161       14.0 -4.031103  0.982555  \n",
       "\n",
       "[5 rows x 24 columns]"
      ],
      "text/html": "<div>\n<style scoped>\n    .dataframe tbody tr th:only-of-type {\n        vertical-align: middle;\n    }\n\n    .dataframe tbody tr th {\n        vertical-align: top;\n    }\n\n    .dataframe thead th {\n        text-align: right;\n    }\n</style>\n<table border=\"1\" class=\"dataframe\">\n  <thead>\n    <tr style=\"text-align: right;\">\n      <th></th>\n      <th>subject_id</th>\n      <th>hadm_id</th>\n      <th>icustay_id</th>\n      <th>sapsii</th>\n      <th>sapsii_prob</th>\n      <th>age_score</th>\n      <th>hr_score</th>\n      <th>sysbp_score</th>\n      <th>temp_score</th>\n      <th>pao2fio2_score</th>\n      <th>...</th>\n      <th>sodium_score</th>\n      <th>bicarbonate_score</th>\n      <th>bilirubin_score</th>\n      <th>gcs_score</th>\n      <th>comorbidity_score</th>\n      <th>admissiontype_score</th>\n      <th>HADM_ID</th>\n      <th>SUM_score</th>\n      <th>X</th>\n      <th>PROB</th>\n    </tr>\n  </thead>\n  <tbody>\n    <tr>\n      <th>1</th>\n      <td>27513</td>\n      <td>163557</td>\n      <td>200003</td>\n      <td>30</td>\n      <td>0.106398</td>\n      <td>7</td>\n      <td>4.0</td>\n      <td>5.0</td>\n      <td>0.0</td>\n      <td>NaN</td>\n      <td>...</td>\n      <td>0.0</td>\n      <td>3.0</td>\n      <td>0.0</td>\n      <td>0.0</td>\n      <td>0</td>\n      <td>8</td>\n      <td>163557</td>\n      <td>15.0</td>\n      <td>-3.893052</td>\n      <td>0.980024</td>\n    </tr>\n    <tr>\n      <th>3</th>\n      <td>20707</td>\n      <td>129310</td>\n      <td>200007</td>\n      <td>18</td>\n      <td>0.029295</td>\n      <td>7</td>\n      <td>0.0</td>\n      <td>5.0</td>\n      <td>0.0</td>\n      <td>NaN</td>\n      <td>...</td>\n      <td>0.0</td>\n      <td>0.0</td>\n      <td>NaN</td>\n      <td>0.0</td>\n      <td>0</td>\n      <td>6</td>\n      <td>129310</td>\n      <td>5.0</td>\n      <td>-5.608037</td>\n      <td>0.996345</td>\n    </tr>\n    <tr>\n      <th>8</th>\n      <td>9514</td>\n      <td>127229</td>\n      <td>200014</td>\n      <td>43</td>\n      <td>0.305597</td>\n      <td>18</td>\n      <td>2.0</td>\n      <td>5.0</td>\n      <td>0.0</td>\n      <td>6.0</td>\n      <td>...</td>\n      <td>0.0</td>\n      <td>0.0</td>\n      <td>0.0</td>\n      <td>0.0</td>\n      <td>0</td>\n      <td>8</td>\n      <td>127229</td>\n      <td>17.0</td>\n      <td>-3.628210</td>\n      <td>0.974124</td>\n    </tr>\n    <tr>\n      <th>16</th>\n      <td>76603</td>\n      <td>179633</td>\n      <td>200024</td>\n      <td>52</td>\n      <td>0.507019</td>\n      <td>18</td>\n      <td>4.0</td>\n      <td>5.0</td>\n      <td>0.0</td>\n      <td>6.0</td>\n      <td>...</td>\n      <td>1.0</td>\n      <td>3.0</td>\n      <td>NaN</td>\n      <td>0.0</td>\n      <td>0</td>\n      <td>6</td>\n      <td>179633</td>\n      <td>28.0</td>\n      <td>-2.341969</td>\n      <td>0.912294</td>\n    </tr>\n    <tr>\n      <th>17</th>\n      <td>19167</td>\n      <td>164161</td>\n      <td>200025</td>\n      <td>29</td>\n      <td>0.096698</td>\n      <td>7</td>\n      <td>0.0</td>\n      <td>5.0</td>\n      <td>0.0</td>\n      <td>6.0</td>\n      <td>...</td>\n      <td>0.0</td>\n      <td>0.0</td>\n      <td>NaN</td>\n      <td>0.0</td>\n      <td>0</td>\n      <td>8</td>\n      <td>164161</td>\n      <td>14.0</td>\n      <td>-4.031103</td>\n      <td>0.982555</td>\n    </tr>\n  </tbody>\n</table>\n<p>5 rows × 24 columns</p>\n</div>"
     },
     "metadata": {},
     "execution_count": 22
    }
   ],
   "source": [
    "saps[\"SUM_score\"]=saps[[ 'hr_score', 'sysbp_score', 'temp_score', 'pao2fio2_score','uo_score', 'bun_score', 'wbc_score', 'potassium_score', 'sodium_score','bicarbonate_score', 'bilirubin_score', 'gcs_score']].sum(axis=1)\n",
    "saps[\"X\"]=-7.7631 + 0.0737 * saps[\"SUM_score\"] + 0.9971 * (np.log(saps[\"SUM_score\"] + 1))\n",
    "saps[\"PROB\"]=1/(1+np.exp(saps[\"X\"]))\n",
    "saps.head()\n"
   ]
  },
  {
   "cell_type": "code",
   "execution_count": 23,
   "metadata": {},
   "outputs": [],
   "source": [
    "saps.to_csv(file_path+\"sapsii_processed.csv\")"
   ]
  },
  {
   "cell_type": "code",
   "execution_count": 24,
   "metadata": {},
   "outputs": [
    {
     "output_type": "execute_result",
     "data": {
      "text/plain": [
       "   HADM_ID  UNIQUE_ID  subject_id  hadm_id  icustay_id  sapsii  sapsii_prob  \\\n",
       "0   126509          0       30685   126509      271809      32     0.128048   \n",
       "1   149789          1       82207   149789      275192      25     0.064649   \n",
       "2   149789          1       82207   149789      299392      34     0.152870   \n",
       "3   122678          2       13282   122678      215594      20     0.037205   \n",
       "4   176370          3       85017   176370      210921      14     0.017445   \n",
       "\n",
       "   age_score  hr_score  sysbp_score  ...  sodium_score  bicarbonate_score  \\\n",
       "0          7       2.0          5.0  ...           0.0                0.0   \n",
       "1          7       2.0          5.0  ...           0.0                0.0   \n",
       "2          7       2.0          5.0  ...           0.0                0.0   \n",
       "3          7       2.0          5.0  ...           0.0                0.0   \n",
       "4          0       0.0          5.0  ...           1.0                0.0   \n",
       "\n",
       "   bilirubin_score  gcs_score  comorbidity_score  admissiontype_score  \\\n",
       "0              NaN        0.0                  0                    6   \n",
       "1              0.0        0.0                  0                    8   \n",
       "2              NaN        0.0                  0                    8   \n",
       "3              NaN        0.0                  0                    6   \n",
       "4              NaN        0.0                  0                    8   \n",
       "\n",
       "   SUM_score         X      PROB  DEATHTAG  \n",
       "0       19.0 -3.375755  0.966938         0  \n",
       "1       10.0 -4.635159  0.990389         0  \n",
       "2       19.0 -3.375755  0.966938         0  \n",
       "3        7.0 -5.173789  0.994369         0  \n",
       "4        6.0 -5.380633  0.995416         0  \n",
       "\n",
       "[5 rows x 26 columns]"
      ],
      "text/html": "<div>\n<style scoped>\n    .dataframe tbody tr th:only-of-type {\n        vertical-align: middle;\n    }\n\n    .dataframe tbody tr th {\n        vertical-align: top;\n    }\n\n    .dataframe thead th {\n        text-align: right;\n    }\n</style>\n<table border=\"1\" class=\"dataframe\">\n  <thead>\n    <tr style=\"text-align: right;\">\n      <th></th>\n      <th>HADM_ID</th>\n      <th>UNIQUE_ID</th>\n      <th>subject_id</th>\n      <th>hadm_id</th>\n      <th>icustay_id</th>\n      <th>sapsii</th>\n      <th>sapsii_prob</th>\n      <th>age_score</th>\n      <th>hr_score</th>\n      <th>sysbp_score</th>\n      <th>...</th>\n      <th>sodium_score</th>\n      <th>bicarbonate_score</th>\n      <th>bilirubin_score</th>\n      <th>gcs_score</th>\n      <th>comorbidity_score</th>\n      <th>admissiontype_score</th>\n      <th>SUM_score</th>\n      <th>X</th>\n      <th>PROB</th>\n      <th>DEATHTAG</th>\n    </tr>\n  </thead>\n  <tbody>\n    <tr>\n      <th>0</th>\n      <td>126509</td>\n      <td>0</td>\n      <td>30685</td>\n      <td>126509</td>\n      <td>271809</td>\n      <td>32</td>\n      <td>0.128048</td>\n      <td>7</td>\n      <td>2.0</td>\n      <td>5.0</td>\n      <td>...</td>\n      <td>0.0</td>\n      <td>0.0</td>\n      <td>NaN</td>\n      <td>0.0</td>\n      <td>0</td>\n      <td>6</td>\n      <td>19.0</td>\n      <td>-3.375755</td>\n      <td>0.966938</td>\n      <td>0</td>\n    </tr>\n    <tr>\n      <th>1</th>\n      <td>149789</td>\n      <td>1</td>\n      <td>82207</td>\n      <td>149789</td>\n      <td>275192</td>\n      <td>25</td>\n      <td>0.064649</td>\n      <td>7</td>\n      <td>2.0</td>\n      <td>5.0</td>\n      <td>...</td>\n      <td>0.0</td>\n      <td>0.0</td>\n      <td>0.0</td>\n      <td>0.0</td>\n      <td>0</td>\n      <td>8</td>\n      <td>10.0</td>\n      <td>-4.635159</td>\n      <td>0.990389</td>\n      <td>0</td>\n    </tr>\n    <tr>\n      <th>2</th>\n      <td>149789</td>\n      <td>1</td>\n      <td>82207</td>\n      <td>149789</td>\n      <td>299392</td>\n      <td>34</td>\n      <td>0.152870</td>\n      <td>7</td>\n      <td>2.0</td>\n      <td>5.0</td>\n      <td>...</td>\n      <td>0.0</td>\n      <td>0.0</td>\n      <td>NaN</td>\n      <td>0.0</td>\n      <td>0</td>\n      <td>8</td>\n      <td>19.0</td>\n      <td>-3.375755</td>\n      <td>0.966938</td>\n      <td>0</td>\n    </tr>\n    <tr>\n      <th>3</th>\n      <td>122678</td>\n      <td>2</td>\n      <td>13282</td>\n      <td>122678</td>\n      <td>215594</td>\n      <td>20</td>\n      <td>0.037205</td>\n      <td>7</td>\n      <td>2.0</td>\n      <td>5.0</td>\n      <td>...</td>\n      <td>0.0</td>\n      <td>0.0</td>\n      <td>NaN</td>\n      <td>0.0</td>\n      <td>0</td>\n      <td>6</td>\n      <td>7.0</td>\n      <td>-5.173789</td>\n      <td>0.994369</td>\n      <td>0</td>\n    </tr>\n    <tr>\n      <th>4</th>\n      <td>176370</td>\n      <td>3</td>\n      <td>85017</td>\n      <td>176370</td>\n      <td>210921</td>\n      <td>14</td>\n      <td>0.017445</td>\n      <td>0</td>\n      <td>0.0</td>\n      <td>5.0</td>\n      <td>...</td>\n      <td>1.0</td>\n      <td>0.0</td>\n      <td>NaN</td>\n      <td>0.0</td>\n      <td>0</td>\n      <td>8</td>\n      <td>6.0</td>\n      <td>-5.380633</td>\n      <td>0.995416</td>\n      <td>0</td>\n    </tr>\n  </tbody>\n</table>\n<p>5 rows × 26 columns</p>\n</div>"
     },
     "metadata": {},
     "execution_count": 24
    }
   ],
   "source": [
    "saps_death=pd.merge(death_tags_df,saps,on=\"HADM_ID\")\n",
    "saps_death[\"DEATHTAG\"] = saps_death[\"Value\"]\n",
    "saps_death = saps_death.drop(columns=\"Value\").copy()\n",
    "saps_death.head()"
   ]
  },
  {
   "cell_type": "code",
   "execution_count": 25,
   "metadata": {},
   "outputs": [
    {
     "output_type": "stream",
     "name": "stdout",
     "text": [
      "0.24310602984427915\n0.8017834754634465\n"
     ]
    }
   ],
   "source": [
    "y_pred=np.array(saps_death[\"PROB\"])\n",
    "y_pred_full=np.array(saps_death[\"sapsii_prob\"])\n",
    "y=np.array(saps_death[\"DEATHTAG\"])\n",
    "from sklearn.metrics import roc_auc_score\n",
    "print(roc_auc_score(y,y_pred))\n",
    "print(roc_auc_score(y,y_pred_full))"
   ]
  },
  {
   "cell_type": "markdown",
   "metadata": {},
   "source": [
    "### Tensor Dataset"
   ]
  },
  {
   "cell_type": "code",
   "execution_count": 26,
   "metadata": {},
   "outputs": [],
   "source": [
    "complete_df02[\"UNIQUE_ID\"] = complete_df02[\"HADM_ID\"].map(d)"
   ]
  },
  {
   "cell_type": "code",
   "execution_count": 27,
   "metadata": {},
   "outputs": [],
   "source": [
    "#ICD9 codes\n",
    "ICD_diag=pd.read_csv(file_path+\"DIAGNOSES_ICD.csv\")"
   ]
  },
  {
   "cell_type": "code",
   "execution_count": 28,
   "metadata": {},
   "outputs": [],
   "source": [
    "main_diag=ICD_diag.loc[(ICD_diag[\"SEQ_NUM\"]==1)]\n",
    "complete_tensor=pd.merge(complete_df02,main_diag[[\"HADM_ID\",\"ICD9_CODE\"]],on=\"HADM_ID\")\n",
    "\n",
    "#Only select the first 3 digits of each ICD9 code.\n",
    "complete_tensor[\"ICD9_short\"]=complete_tensor[\"ICD9_CODE\"].astype(str).str[:3]\n",
    "#Check that all codes are 3 digits long.\n",
    "str_len=complete_tensor[\"ICD9_short\"].str.len()\n",
    "assert(str_len.loc[str_len!=3].count()==0)\n",
    "\n",
    "#Finer encoding (3 digits)\n",
    "hot_encodings=pd.get_dummies(complete_tensor[\"ICD9_short\"])\n",
    "complete_tensor[hot_encodings.columns]=hot_encodings\n",
    "complete_tensor_nocov=complete_tensor[[\"UNIQUE_ID\",\"LABEL_CODE\",\"TIME\"]+[\"VALUENUM\"]].copy()\n",
    "\n",
    "complete_tensor_nocov.rename(columns={\"TIME\":\"TIME_STAMP\"},inplace=True)"
   ]
  },
  {
   "cell_type": "markdown",
   "metadata": {},
   "source": [
    "### Normalization of the data (N(0,1))"
   ]
  },
  {
   "cell_type": "code",
   "execution_count": 29,
   "metadata": {},
   "outputs": [],
   "source": [
    "#Add a column with the mean and std of each different measurement type and then normalize them.\n",
    "d_mean=dict(complete_tensor_nocov.groupby(\"LABEL_CODE\")[\"VALUENUM\"].mean())\n",
    "complete_tensor_nocov[\"MEAN\"]=complete_tensor_nocov[\"LABEL_CODE\"].map(d_mean)\n",
    "d_std=dict(complete_tensor_nocov.groupby(\"LABEL_CODE\")[\"VALUENUM\"].std())\n",
    "complete_tensor_nocov[\"STD\"]=complete_tensor_nocov[\"LABEL_CODE\"].map(d_std)\n",
    "complete_tensor_nocov[\"VALUENORM\"]=(complete_tensor_nocov[\"VALUENUM\"]-complete_tensor_nocov[\"MEAN\"])/complete_tensor_nocov[\"STD\"]\n"
   ]
  },
  {
   "cell_type": "markdown",
   "metadata": {},
   "source": [
    "### Train-Validation-Test split\n",
    "Random sampling"
   ]
  },
  {
   "cell_type": "code",
   "execution_count": 30,
   "metadata": {},
   "outputs": [],
   "source": [
    "#Split training_validation_test sets RANDOM DIVISION.\n",
    "\n",
    "df_train,df_test =train_test_split(complete_tensor_nocov,test_size=0.1) \n",
    "\n",
    "#Make sure that patients of the test set have instances in the training set. (same with labels but this should be nearly certain)\n",
    "assert(len(df_test.loc[~df_test[\"UNIQUE_ID\"].isin(df_train[\"UNIQUE_ID\"])].index)==0)\n",
    "assert(len(df_test.loc[~df_test[\"LABEL_CODE\"].isin(df_train[\"LABEL_CODE\"])].index)==0)\n"
   ]
  },
  {
   "cell_type": "code",
   "execution_count": 31,
   "metadata": {},
   "outputs": [],
   "source": [
    "#First train_val fold\n",
    "df_train1,df_val1 =train_test_split(df_train,test_size=0.2) \n",
    "\n",
    "#Make sure that patients of the test set have instances in the training set. (same with labels but this should be nearly certain)\n",
    "assert(len(df_val1.loc[~df_val1[\"UNIQUE_ID\"].isin(df_train1[\"UNIQUE_ID\"])].index)==0)\n",
    "assert(len(df_val1.loc[~df_val1[\"LABEL_CODE\"].isin(df_train1[\"LABEL_CODE\"])].index)==0)"
   ]
  },
  {
   "cell_type": "code",
   "execution_count": 32,
   "metadata": {},
   "outputs": [],
   "source": [
    "#Second train_val fold\n",
    "df_train2,df_val2 =train_test_split(df_train,test_size=0.2) \n",
    "\n",
    "#Make sure that patients of the test set have instances in the training set. (same with labels but this should be nearly certain)\n",
    "assert(len(df_val2.loc[~df_val2[\"UNIQUE_ID\"].isin(df_train2[\"UNIQUE_ID\"])].index)==0)\n",
    "assert(len(df_val2.loc[~df_val2[\"LABEL_CODE\"].isin(df_train2[\"LABEL_CODE\"])].index)==0)"
   ]
  },
  {
   "cell_type": "code",
   "execution_count": 33,
   "metadata": {},
   "outputs": [],
   "source": [
    "#Third train_val fold\n",
    "df_train3,df_val3 =train_test_split(df_train,test_size=0.2) \n",
    "\n",
    "#Make sure that patients of the test set have instances in the training set. (same with labels but this should be nearly certain)\n",
    "assert(len(df_val3.loc[~df_val3[\"UNIQUE_ID\"].isin(df_train3[\"UNIQUE_ID\"])].index)==0)\n",
    "assert(len(df_val3.loc[~df_val3[\"LABEL_CODE\"].isin(df_train3[\"LABEL_CODE\"])].index)==0)"
   ]
  },
  {
   "cell_type": "markdown",
   "metadata": {},
   "source": [
    "#### Venn diagram of the training sets. Visualization of the number of common samples.\n"
   ]
  },
  {
   "cell_type": "code",
   "execution_count": 34,
   "metadata": {},
   "outputs": [
    {
     "output_type": "display_data",
     "data": {
      "text/plain": "<Figure size 432x288 with 1 Axes>",
      "image/svg+xml": "<?xml version=\"1.0\" encoding=\"utf-8\" standalone=\"no\"?>\r\n<!DOCTYPE svg PUBLIC \"-//W3C//DTD SVG 1.1//EN\"\r\n  \"http://www.w3.org/Graphics/SVG/1.1/DTD/svg11.dtd\">\r\n<!-- Created with matplotlib (https://matplotlib.org/) -->\r\n<svg height=\"235.516981pt\" version=\"1.1\" viewBox=\"0 0 235.326505 235.516981\" width=\"235.326505pt\" xmlns=\"http://www.w3.org/2000/svg\" xmlns:xlink=\"http://www.w3.org/1999/xlink\">\r\n <metadata>\r\n  <rdf:RDF xmlns:cc=\"http://creativecommons.org/ns#\" xmlns:dc=\"http://purl.org/dc/elements/1.1/\" xmlns:rdf=\"http://www.w3.org/1999/02/22-rdf-syntax-ns#\">\r\n   <cc:Work>\r\n    <dc:type rdf:resource=\"http://purl.org/dc/dcmitype/StillImage\"/>\r\n    <dc:date>2021-02-14T15:55:13.078835</dc:date>\r\n    <dc:format>image/svg+xml</dc:format>\r\n    <dc:creator>\r\n     <cc:Agent>\r\n      <dc:title>Matplotlib v3.3.2, https://matplotlib.org/</dc:title>\r\n     </cc:Agent>\r\n    </dc:creator>\r\n   </cc:Work>\r\n  </rdf:RDF>\r\n </metadata>\r\n <defs>\r\n  <style type=\"text/css\">*{stroke-linecap:butt;stroke-linejoin:round;}</style>\r\n </defs>\r\n <g id=\"figure_1\">\r\n  <g id=\"patch_1\">\r\n   <path d=\"M 0 235.516981 \r\nL 235.326505 235.516981 \r\nL 235.326505 0 \r\nL 0 0 \r\nz\r\n\" style=\"fill:none;\"/>\r\n  </g>\r\n  <g id=\"axes_1\">\r\n   <g id=\"patch_2\">\r\n    <path clip-path=\"url(#pbf241983b9)\" d=\"M 117.663252 24.30936 \r\nC 101.361654 21.704112 84.646914 24.111637 69.743213 31.211574 \r\nC 54.839511 38.311511 42.438595 49.77432 34.190617 64.074679 \r\nC 25.94264 78.375039 22.230425 94.849206 23.547947 111.305012 \r\nC 24.865469 127.760818 31.151576 143.434477 41.569794 156.240341 \r\nC 36.437121 142.863389 34.921074 128.36664 37.175082 114.217201 \r\nC 39.42909 100.067762 45.374461 86.759618 54.409508 75.639587 \r\nC 59.524209 62.288539 68.062689 50.515231 79.164413 41.506215 \r\nC 90.266137 32.497199 103.545185 26.565647 117.663252 24.30936 \r\n\" style=\"fill:#ff0000;opacity:0.4;\"/>\r\n   </g>\r\n   <g id=\"patch_3\">\r\n    <path clip-path=\"url(#pbf241983b9)\" d=\"M 117.663252 24.30936 \r\nC 131.774163 26.564503 145.04703 32.491206 156.145488 41.492744 \r\nC 167.243945 50.494283 175.78258 62.258063 180.901688 75.599659 \r\nC 189.944684 86.715128 195.898734 100.02109 198.161152 114.17068 \r\nC 200.42357 128.320269 198.915355 142.819394 193.789173 156.200413 \r\nC 204.196539 143.391377 210.472246 127.718598 211.781628 111.26654 \r\nC 213.091011 94.814483 209.373328 78.346352 201.123029 64.052393 \r\nC 192.872729 49.758435 180.47254 38.301742 165.571677 31.206042 \r\nC 150.670814 24.110342 133.960521 21.704804 117.663252 24.30936 \r\n\" style=\"fill:#008000;opacity:0.4;\"/>\r\n   </g>\r\n   <g id=\"patch_4\">\r\n    <path clip-path=\"url(#pbf241983b9)\" d=\"M 117.663252 24.30936 \r\nC 103.545185 26.565647 90.266137 32.497199 79.164413 41.506215 \r\nC 68.062689 50.515231 59.524209 62.288539 54.409508 75.639587 \r\nC 62.049339 66.236741 71.69029 58.654398 82.628832 53.445865 \r\nC 93.567374 48.237332 105.5308 45.532462 117.6461 45.528638 \r\nC 129.7614 45.524813 141.726531 48.22213 152.668359 53.423757 \r\nC 163.610187 58.625383 173.255923 66.201639 180.901688 75.599659 \r\nC 175.78258 62.258063 167.243945 50.494283 156.145488 41.492744 \r\nC 145.04703 32.491206 131.774163 26.564503 117.663252 24.30936 \r\n\" style=\"fill:#b25900;opacity:0.4;\"/>\r\n   </g>\r\n   <g id=\"patch_5\">\r\n    <path clip-path=\"url(#pbf241983b9)\" d=\"M 41.569794 156.240341 \r\nC 47.476548 171.634727 57.917659 184.880431 71.506957 194.218945 \r\nC 85.096256 203.557458 101.204522 208.556382 117.69321 208.552057 \r\nC 134.181899 208.547732 150.28754 203.540358 163.871938 194.194717 \r\nC 177.456335 184.849076 187.890496 171.597896 193.789173 156.200413 \r\nC 184.769248 167.301831 172.984093 175.835859 159.622522 180.941635 \r\nC 146.260951 186.04741 131.787875 187.54728 117.663252 185.289946 \r\nC 103.547242 187.545904 89.083053 186.049262 75.728019 180.950815 \r\nC 62.372985 175.852368 50.591221 167.329297 41.569794 156.240341 \r\n\" style=\"fill:#0000ff;opacity:0.4;\"/>\r\n   </g>\r\n   <g id=\"patch_6\">\r\n    <path clip-path=\"url(#pbf241983b9)\" d=\"M 41.569794 156.240341 \r\nC 50.591221 167.329297 62.372985 175.852368 75.728019 180.950815 \r\nC 89.083053 186.049262 103.547242 187.545904 117.663252 185.289946 \r\nC 105.687258 183.375996 94.288021 178.813127 84.299085 171.934987 \r\nC 74.310149 165.056847 65.981068 156.035275 59.920886 145.52995 \r\nC 53.860704 135.024625 50.220824 123.298005 49.267403 111.207569 \r\nC 48.313981 99.117133 50.070838 86.964939 54.409508 75.639587 \r\nC 45.374461 86.759618 39.42909 100.067762 37.175082 114.217201 \r\nC 34.921074 128.36664 36.437121 142.863389 41.569794 156.240341 \r\n\" style=\"fill:#b200b2;opacity:0.4;\"/>\r\n   </g>\r\n   <g id=\"patch_7\">\r\n    <path clip-path=\"url(#pbf241983b9)\" d=\"M 180.901688 75.599659 \r\nC 185.247591 86.926101 187.010563 99.08119 186.061617 111.175596 \r\nC 185.112671 123.270002 181.475527 135.001389 175.4163 145.511428 \r\nC 169.357072 156.021467 161.027228 165.047428 151.036224 171.928923 \r\nC 141.045219 178.810419 129.642809 183.375427 117.663252 185.289946 \r\nC 131.787875 187.54728 146.260951 186.04741 159.622522 180.941635 \r\nC 172.984093 175.835859 184.769248 167.301831 193.789173 156.200413 \r\nC 198.915355 142.819394 200.42357 128.320269 198.161152 114.17068 \r\nC 195.898734 100.02109 189.944684 86.715128 180.901688 75.599659 \r\n\" style=\"fill:#0059b2;opacity:0.4;\"/>\r\n   </g>\r\n   <g id=\"patch_8\">\r\n    <path clip-path=\"url(#pbf241983b9)\" d=\"M 54.409508 75.639587 \r\nC 50.070838 86.964939 48.313981 99.117133 49.267403 111.207569 \r\nC 50.220824 123.298005 53.860704 135.024625 59.920886 145.52995 \r\nC 65.981068 156.035275 74.310149 165.056847 84.299085 171.934987 \r\nC 94.288021 178.813127 105.687258 183.375996 117.663252 185.289946 \r\nC 129.642809 183.375427 141.045219 178.810419 151.036224 171.928923 \r\nC 161.027228 165.047428 169.357072 156.021467 175.4163 145.511428 \r\nC 181.475527 135.001389 185.112671 123.270002 186.061617 111.175596 \r\nC 187.010563 99.08119 185.247591 86.926101 180.901688 75.599659 \r\nC 173.255923 66.201639 163.610187 58.625383 152.668359 53.423757 \r\nC 141.726531 48.22213 129.7614 45.524813 117.6461 45.528638 \r\nC 105.5308 45.532462 93.567374 48.237332 82.628832 53.445865 \r\nC 71.69029 58.654398 62.049339 66.236741 54.409508 75.639587 \r\n\" style=\"fill:#663366;opacity:0.4;\"/>\r\n   </g>\r\n   <g id=\"text_1\">\r\n    <!-- 89148 -->\r\n    <g transform=\"translate(29.420242 73.260543)scale(0.1 -0.1)\">\r\n     <defs>\r\n      <path d=\"M 31.78125 34.625 \r\nQ 24.75 34.625 20.71875 30.859375 \r\nQ 16.703125 27.09375 16.703125 20.515625 \r\nQ 16.703125 13.921875 20.71875 10.15625 \r\nQ 24.75 6.390625 31.78125 6.390625 \r\nQ 38.8125 6.390625 42.859375 10.171875 \r\nQ 46.921875 13.96875 46.921875 20.515625 \r\nQ 46.921875 27.09375 42.890625 30.859375 \r\nQ 38.875 34.625 31.78125 34.625 \r\nz\r\nM 21.921875 38.8125 \r\nQ 15.578125 40.375 12.03125 44.71875 \r\nQ 8.5 49.078125 8.5 55.328125 \r\nQ 8.5 64.0625 14.71875 69.140625 \r\nQ 20.953125 74.21875 31.78125 74.21875 \r\nQ 42.671875 74.21875 48.875 69.140625 \r\nQ 55.078125 64.0625 55.078125 55.328125 \r\nQ 55.078125 49.078125 51.53125 44.71875 \r\nQ 48 40.375 41.703125 38.8125 \r\nQ 48.828125 37.15625 52.796875 32.3125 \r\nQ 56.78125 27.484375 56.78125 20.515625 \r\nQ 56.78125 9.90625 50.3125 4.234375 \r\nQ 43.84375 -1.421875 31.78125 -1.421875 \r\nQ 19.734375 -1.421875 13.25 4.234375 \r\nQ 6.78125 9.90625 6.78125 20.515625 \r\nQ 6.78125 27.484375 10.78125 32.3125 \r\nQ 14.796875 37.15625 21.921875 38.8125 \r\nz\r\nM 18.3125 54.390625 \r\nQ 18.3125 48.734375 21.84375 45.5625 \r\nQ 25.390625 42.390625 31.78125 42.390625 \r\nQ 38.140625 42.390625 41.71875 45.5625 \r\nQ 45.3125 48.734375 45.3125 54.390625 \r\nQ 45.3125 60.0625 41.71875 63.234375 \r\nQ 38.140625 66.40625 31.78125 66.40625 \r\nQ 25.390625 66.40625 21.84375 63.234375 \r\nQ 18.3125 60.0625 18.3125 54.390625 \r\nz\r\n\" id=\"DejaVuSans-56\"/>\r\n      <path d=\"M 10.984375 1.515625 \r\nL 10.984375 10.5 \r\nQ 14.703125 8.734375 18.5 7.8125 \r\nQ 22.3125 6.890625 25.984375 6.890625 \r\nQ 35.75 6.890625 40.890625 13.453125 \r\nQ 46.046875 20.015625 46.78125 33.40625 \r\nQ 43.953125 29.203125 39.59375 26.953125 \r\nQ 35.25 24.703125 29.984375 24.703125 \r\nQ 19.046875 24.703125 12.671875 31.3125 \r\nQ 6.296875 37.9375 6.296875 49.421875 \r\nQ 6.296875 60.640625 12.9375 67.421875 \r\nQ 19.578125 74.21875 30.609375 74.21875 \r\nQ 43.265625 74.21875 49.921875 64.515625 \r\nQ 56.59375 54.828125 56.59375 36.375 \r\nQ 56.59375 19.140625 48.40625 8.859375 \r\nQ 40.234375 -1.421875 26.421875 -1.421875 \r\nQ 22.703125 -1.421875 18.890625 -0.6875 \r\nQ 15.09375 0.046875 10.984375 1.515625 \r\nz\r\nM 30.609375 32.421875 \r\nQ 37.25 32.421875 41.125 36.953125 \r\nQ 45.015625 41.5 45.015625 49.421875 \r\nQ 45.015625 57.28125 41.125 61.84375 \r\nQ 37.25 66.40625 30.609375 66.40625 \r\nQ 23.96875 66.40625 20.09375 61.84375 \r\nQ 16.21875 57.28125 16.21875 49.421875 \r\nQ 16.21875 41.5 20.09375 36.953125 \r\nQ 23.96875 32.421875 30.609375 32.421875 \r\nz\r\n\" id=\"DejaVuSans-57\"/>\r\n      <path d=\"M 12.40625 8.296875 \r\nL 28.515625 8.296875 \r\nL 28.515625 63.921875 \r\nL 10.984375 60.40625 \r\nL 10.984375 69.390625 \r\nL 28.421875 72.90625 \r\nL 38.28125 72.90625 \r\nL 38.28125 8.296875 \r\nL 54.390625 8.296875 \r\nL 54.390625 0 \r\nL 12.40625 0 \r\nz\r\n\" id=\"DejaVuSans-49\"/>\r\n      <path d=\"M 37.796875 64.3125 \r\nL 12.890625 25.390625 \r\nL 37.796875 25.390625 \r\nz\r\nM 35.203125 72.90625 \r\nL 47.609375 72.90625 \r\nL 47.609375 25.390625 \r\nL 58.015625 25.390625 \r\nL 58.015625 17.1875 \r\nL 47.609375 17.1875 \r\nL 47.609375 0 \r\nL 37.796875 0 \r\nL 37.796875 17.1875 \r\nL 4.890625 17.1875 \r\nL 4.890625 26.703125 \r\nz\r\n\" id=\"DejaVuSans-52\"/>\r\n     </defs>\r\n     <use xlink:href=\"#DejaVuSans-56\"/>\r\n     <use x=\"63.623047\" xlink:href=\"#DejaVuSans-57\"/>\r\n     <use x=\"127.246094\" xlink:href=\"#DejaVuSans-49\"/>\r\n     <use x=\"190.869141\" xlink:href=\"#DejaVuSans-52\"/>\r\n     <use x=\"254.492188\" xlink:href=\"#DejaVuSans-56\"/>\r\n    </g>\r\n   </g>\r\n   <g id=\"text_2\">\r\n    <!-- 89001 -->\r\n    <g transform=\"translate(174.087864 73.239974)scale(0.1 -0.1)\">\r\n     <defs>\r\n      <path d=\"M 31.78125 66.40625 \r\nQ 24.171875 66.40625 20.328125 58.90625 \r\nQ 16.5 51.421875 16.5 36.375 \r\nQ 16.5 21.390625 20.328125 13.890625 \r\nQ 24.171875 6.390625 31.78125 6.390625 \r\nQ 39.453125 6.390625 43.28125 13.890625 \r\nQ 47.125 21.390625 47.125 36.375 \r\nQ 47.125 51.421875 43.28125 58.90625 \r\nQ 39.453125 66.40625 31.78125 66.40625 \r\nz\r\nM 31.78125 74.21875 \r\nQ 44.046875 74.21875 50.515625 64.515625 \r\nQ 56.984375 54.828125 56.984375 36.375 \r\nQ 56.984375 17.96875 50.515625 8.265625 \r\nQ 44.046875 -1.421875 31.78125 -1.421875 \r\nQ 19.53125 -1.421875 13.0625 8.265625 \r\nQ 6.59375 17.96875 6.59375 36.375 \r\nQ 6.59375 54.828125 13.0625 64.515625 \r\nQ 19.53125 74.21875 31.78125 74.21875 \r\nz\r\n\" id=\"DejaVuSans-48\"/>\r\n     </defs>\r\n     <use xlink:href=\"#DejaVuSans-56\"/>\r\n     <use x=\"63.623047\" xlink:href=\"#DejaVuSans-57\"/>\r\n     <use x=\"127.246094\" xlink:href=\"#DejaVuSans-48\"/>\r\n     <use x=\"190.869141\" xlink:href=\"#DejaVuSans-48\"/>\r\n     <use x=\"254.492188\" xlink:href=\"#DejaVuSans-49\"/>\r\n    </g>\r\n   </g>\r\n   <g id=\"text_3\">\r\n    <!-- 354391 -->\r\n    <g transform=\"translate(98.558167 46.108833)scale(0.1 -0.1)\">\r\n     <defs>\r\n      <path d=\"M 40.578125 39.3125 \r\nQ 47.65625 37.796875 51.625 33 \r\nQ 55.609375 28.21875 55.609375 21.1875 \r\nQ 55.609375 10.40625 48.1875 4.484375 \r\nQ 40.765625 -1.421875 27.09375 -1.421875 \r\nQ 22.515625 -1.421875 17.65625 -0.515625 \r\nQ 12.796875 0.390625 7.625 2.203125 \r\nL 7.625 11.71875 \r\nQ 11.71875 9.328125 16.59375 8.109375 \r\nQ 21.484375 6.890625 26.8125 6.890625 \r\nQ 36.078125 6.890625 40.9375 10.546875 \r\nQ 45.796875 14.203125 45.796875 21.1875 \r\nQ 45.796875 27.640625 41.28125 31.265625 \r\nQ 36.765625 34.90625 28.71875 34.90625 \r\nL 20.21875 34.90625 \r\nL 20.21875 43.015625 \r\nL 29.109375 43.015625 \r\nQ 36.375 43.015625 40.234375 45.921875 \r\nQ 44.09375 48.828125 44.09375 54.296875 \r\nQ 44.09375 59.90625 40.109375 62.90625 \r\nQ 36.140625 65.921875 28.71875 65.921875 \r\nQ 24.65625 65.921875 20.015625 65.03125 \r\nQ 15.375 64.15625 9.8125 62.3125 \r\nL 9.8125 71.09375 \r\nQ 15.4375 72.65625 20.34375 73.4375 \r\nQ 25.25 74.21875 29.59375 74.21875 \r\nQ 40.828125 74.21875 47.359375 69.109375 \r\nQ 53.90625 64.015625 53.90625 55.328125 \r\nQ 53.90625 49.265625 50.4375 45.09375 \r\nQ 46.96875 40.921875 40.578125 39.3125 \r\nz\r\n\" id=\"DejaVuSans-51\"/>\r\n      <path d=\"M 10.796875 72.90625 \r\nL 49.515625 72.90625 \r\nL 49.515625 64.59375 \r\nL 19.828125 64.59375 \r\nL 19.828125 46.734375 \r\nQ 21.96875 47.46875 24.109375 47.828125 \r\nQ 26.265625 48.1875 28.421875 48.1875 \r\nQ 40.625 48.1875 47.75 41.5 \r\nQ 54.890625 34.8125 54.890625 23.390625 \r\nQ 54.890625 11.625 47.5625 5.09375 \r\nQ 40.234375 -1.421875 26.90625 -1.421875 \r\nQ 22.3125 -1.421875 17.546875 -0.640625 \r\nQ 12.796875 0.140625 7.71875 1.703125 \r\nL 7.71875 11.625 \r\nQ 12.109375 9.234375 16.796875 8.0625 \r\nQ 21.484375 6.890625 26.703125 6.890625 \r\nQ 35.15625 6.890625 40.078125 11.328125 \r\nQ 45.015625 15.765625 45.015625 23.390625 \r\nQ 45.015625 31 40.078125 35.4375 \r\nQ 35.15625 39.890625 26.703125 39.890625 \r\nQ 22.75 39.890625 18.8125 39.015625 \r\nQ 14.890625 38.140625 10.796875 36.28125 \r\nz\r\n\" id=\"DejaVuSans-53\"/>\r\n     </defs>\r\n     <use xlink:href=\"#DejaVuSans-51\"/>\r\n     <use x=\"63.623047\" xlink:href=\"#DejaVuSans-53\"/>\r\n     <use x=\"127.246094\" xlink:href=\"#DejaVuSans-52\"/>\r\n     <use x=\"190.869141\" xlink:href=\"#DejaVuSans-51\"/>\r\n     <use x=\"254.492188\" xlink:href=\"#DejaVuSans-57\"/>\r\n     <use x=\"318.115234\" xlink:href=\"#DejaVuSans-49\"/>\r\n    </g>\r\n   </g>\r\n   <g id=\"text_4\">\r\n    <!-- 88486 -->\r\n    <g transform=\"translate(101.784501 198.477512)scale(0.1 -0.1)\">\r\n     <defs>\r\n      <path d=\"M 33.015625 40.375 \r\nQ 26.375 40.375 22.484375 35.828125 \r\nQ 18.609375 31.296875 18.609375 23.390625 \r\nQ 18.609375 15.53125 22.484375 10.953125 \r\nQ 26.375 6.390625 33.015625 6.390625 \r\nQ 39.65625 6.390625 43.53125 10.953125 \r\nQ 47.40625 15.53125 47.40625 23.390625 \r\nQ 47.40625 31.296875 43.53125 35.828125 \r\nQ 39.65625 40.375 33.015625 40.375 \r\nz\r\nM 52.59375 71.296875 \r\nL 52.59375 62.3125 \r\nQ 48.875 64.0625 45.09375 64.984375 \r\nQ 41.3125 65.921875 37.59375 65.921875 \r\nQ 27.828125 65.921875 22.671875 59.328125 \r\nQ 17.53125 52.734375 16.796875 39.40625 \r\nQ 19.671875 43.65625 24.015625 45.921875 \r\nQ 28.375 48.1875 33.59375 48.1875 \r\nQ 44.578125 48.1875 50.953125 41.515625 \r\nQ 57.328125 34.859375 57.328125 23.390625 \r\nQ 57.328125 12.15625 50.6875 5.359375 \r\nQ 44.046875 -1.421875 33.015625 -1.421875 \r\nQ 20.359375 -1.421875 13.671875 8.265625 \r\nQ 6.984375 17.96875 6.984375 36.375 \r\nQ 6.984375 53.65625 15.1875 63.9375 \r\nQ 23.390625 74.21875 37.203125 74.21875 \r\nQ 40.921875 74.21875 44.703125 73.484375 \r\nQ 48.484375 72.75 52.59375 71.296875 \r\nz\r\n\" id=\"DejaVuSans-54\"/>\r\n     </defs>\r\n     <use xlink:href=\"#DejaVuSans-56\"/>\r\n     <use x=\"63.623047\" xlink:href=\"#DejaVuSans-56\"/>\r\n     <use x=\"127.246094\" xlink:href=\"#DejaVuSans-52\"/>\r\n     <use x=\"190.869141\" xlink:href=\"#DejaVuSans-56\"/>\r\n     <use x=\"254.492188\" xlink:href=\"#DejaVuSans-54\"/>\r\n    </g>\r\n   </g>\r\n   <g id=\"text_5\">\r\n    <!-- 354906 -->\r\n    <g transform=\"translate(38.945033 149.379977)scale(0.1 -0.1)\">\r\n     <use xlink:href=\"#DejaVuSans-51\"/>\r\n     <use x=\"63.623047\" xlink:href=\"#DejaVuSans-53\"/>\r\n     <use x=\"127.246094\" xlink:href=\"#DejaVuSans-52\"/>\r\n     <use x=\"190.869141\" xlink:href=\"#DejaVuSans-57\"/>\r\n     <use x=\"254.492188\" xlink:href=\"#DejaVuSans-48\"/>\r\n     <use x=\"318.115234\" xlink:href=\"#DejaVuSans-54\"/>\r\n    </g>\r\n   </g>\r\n   <g id=\"text_6\">\r\n    <!-- 355053 -->\r\n    <g transform=\"translate(158.217939 149.360954)scale(0.1 -0.1)\">\r\n     <use xlink:href=\"#DejaVuSans-51\"/>\r\n     <use x=\"63.623047\" xlink:href=\"#DejaVuSans-53\"/>\r\n     <use x=\"127.246094\" xlink:href=\"#DejaVuSans-53\"/>\r\n     <use x=\"190.869141\" xlink:href=\"#DejaVuSans-48\"/>\r\n     <use x=\"254.492188\" xlink:href=\"#DejaVuSans-53\"/>\r\n     <use x=\"318.115234\" xlink:href=\"#DejaVuSans-51\"/>\r\n    </g>\r\n   </g>\r\n   <g id=\"text_7\">\r\n    <!-- 1420755 -->\r\n    <g transform=\"translate(95.398032 114.975688)scale(0.1 -0.1)\">\r\n     <defs>\r\n      <path d=\"M 19.1875 8.296875 \r\nL 53.609375 8.296875 \r\nL 53.609375 0 \r\nL 7.328125 0 \r\nL 7.328125 8.296875 \r\nQ 12.9375 14.109375 22.625 23.890625 \r\nQ 32.328125 33.6875 34.8125 36.53125 \r\nQ 39.546875 41.84375 41.421875 45.53125 \r\nQ 43.3125 49.21875 43.3125 52.78125 \r\nQ 43.3125 58.59375 39.234375 62.25 \r\nQ 35.15625 65.921875 28.609375 65.921875 \r\nQ 23.96875 65.921875 18.8125 64.3125 \r\nQ 13.671875 62.703125 7.8125 59.421875 \r\nL 7.8125 69.390625 \r\nQ 13.765625 71.78125 18.9375 73 \r\nQ 24.125 74.21875 28.421875 74.21875 \r\nQ 39.75 74.21875 46.484375 68.546875 \r\nQ 53.21875 62.890625 53.21875 53.421875 \r\nQ 53.21875 48.921875 51.53125 44.890625 \r\nQ 49.859375 40.875 45.40625 35.40625 \r\nQ 44.1875 33.984375 37.640625 27.21875 \r\nQ 31.109375 20.453125 19.1875 8.296875 \r\nz\r\n\" id=\"DejaVuSans-50\"/>\r\n      <path d=\"M 8.203125 72.90625 \r\nL 55.078125 72.90625 \r\nL 55.078125 68.703125 \r\nL 28.609375 0 \r\nL 18.3125 0 \r\nL 43.21875 64.59375 \r\nL 8.203125 64.59375 \r\nz\r\n\" id=\"DejaVuSans-55\"/>\r\n     </defs>\r\n     <use xlink:href=\"#DejaVuSans-49\"/>\r\n     <use x=\"63.623047\" xlink:href=\"#DejaVuSans-52\"/>\r\n     <use x=\"127.246094\" xlink:href=\"#DejaVuSans-50\"/>\r\n     <use x=\"190.869141\" xlink:href=\"#DejaVuSans-48\"/>\r\n     <use x=\"254.492188\" xlink:href=\"#DejaVuSans-55\"/>\r\n     <use x=\"318.115234\" xlink:href=\"#DejaVuSans-53\"/>\r\n     <use x=\"381.738281\" xlink:href=\"#DejaVuSans-53\"/>\r\n    </g>\r\n   </g>\r\n   <g id=\"text_8\">\r\n    <!-- A -->\r\n    <g transform=\"translate(55.835047 23.28794)scale(0.12 -0.12)\">\r\n     <defs>\r\n      <path d=\"M 34.1875 63.1875 \r\nL 20.796875 26.90625 \r\nL 47.609375 26.90625 \r\nz\r\nM 28.609375 72.90625 \r\nL 39.796875 72.90625 \r\nL 67.578125 0 \r\nL 57.328125 0 \r\nL 50.6875 18.703125 \r\nL 17.828125 18.703125 \r\nL 11.1875 0 \r\nL 0.78125 0 \r\nz\r\n\" id=\"DejaVuSans-65\"/>\r\n     </defs>\r\n     <use xlink:href=\"#DejaVuSans-65\"/>\r\n    </g>\r\n   </g>\r\n   <g id=\"text_9\">\r\n    <!-- B -->\r\n    <g transform=\"translate(171.282708 23.28794)scale(0.12 -0.12)\">\r\n     <defs>\r\n      <path d=\"M 19.671875 34.8125 \r\nL 19.671875 8.109375 \r\nL 35.5 8.109375 \r\nQ 43.453125 8.109375 47.28125 11.40625 \r\nQ 51.125 14.703125 51.125 21.484375 \r\nQ 51.125 28.328125 47.28125 31.5625 \r\nQ 43.453125 34.8125 35.5 34.8125 \r\nz\r\nM 19.671875 64.796875 \r\nL 19.671875 42.828125 \r\nL 34.28125 42.828125 \r\nQ 41.5 42.828125 45.03125 45.53125 \r\nQ 48.578125 48.25 48.578125 53.8125 \r\nQ 48.578125 59.328125 45.03125 62.0625 \r\nQ 41.5 64.796875 34.28125 64.796875 \r\nz\r\nM 9.8125 72.90625 \r\nL 35.015625 72.90625 \r\nQ 46.296875 72.90625 52.390625 68.21875 \r\nQ 58.5 63.53125 58.5 54.890625 \r\nQ 58.5 48.1875 55.375 44.234375 \r\nQ 52.25 40.28125 46.1875 39.3125 \r\nQ 53.46875 37.75 57.5 32.78125 \r\nQ 61.53125 27.828125 61.53125 20.40625 \r\nQ 61.53125 10.640625 54.890625 5.3125 \r\nQ 48.25 0 35.984375 0 \r\nL 9.8125 0 \r\nz\r\n\" id=\"DejaVuSans-66\"/>\r\n     </defs>\r\n     <use xlink:href=\"#DejaVuSans-66\"/>\r\n    </g>\r\n   </g>\r\n   <g id=\"text_10\">\r\n    <!-- C -->\r\n    <g transform=\"translate(113.482142 225.821356)scale(0.12 -0.12)\">\r\n     <defs>\r\n      <path d=\"M 64.40625 67.28125 \r\nL 64.40625 56.890625 \r\nQ 59.421875 61.53125 53.78125 63.8125 \r\nQ 48.140625 66.109375 41.796875 66.109375 \r\nQ 29.296875 66.109375 22.65625 58.46875 \r\nQ 16.015625 50.828125 16.015625 36.375 \r\nQ 16.015625 21.96875 22.65625 14.328125 \r\nQ 29.296875 6.6875 41.796875 6.6875 \r\nQ 48.140625 6.6875 53.78125 8.984375 \r\nQ 59.421875 11.28125 64.40625 15.921875 \r\nL 64.40625 5.609375 \r\nQ 59.234375 2.09375 53.4375 0.328125 \r\nQ 47.65625 -1.421875 41.21875 -1.421875 \r\nQ 24.65625 -1.421875 15.125 8.703125 \r\nQ 5.609375 18.84375 5.609375 36.375 \r\nQ 5.609375 53.953125 15.125 64.078125 \r\nQ 24.65625 74.21875 41.21875 74.21875 \r\nQ 47.75 74.21875 53.53125 72.484375 \r\nQ 59.328125 70.75 64.40625 67.28125 \r\nz\r\n\" id=\"DejaVuSans-67\"/>\r\n     </defs>\r\n     <use xlink:href=\"#DejaVuSans-67\"/>\r\n    </g>\r\n   </g>\r\n  </g>\r\n </g>\r\n <defs>\r\n  <clipPath id=\"pbf241983b9\">\r\n   <rect height=\"217.44\" width=\"220.926505\" x=\"7.2\" y=\"7.2\"/>\r\n  </clipPath>\r\n </defs>\r\n</svg>\r\n",
      "image/png": "[encoded data removed]"
     },
     "metadata": {}
    }
   ],
   "source": [
    "import matplotlib.pyplot as plt\n",
    "from matplotlib_venn import venn3\n",
    "\n",
    "temp12=pd.merge(df_train1,df_train2,how=\"inner\",on=[\"UNIQUE_ID\",\"LABEL_CODE\",\"TIME_STAMP\"])\n",
    "temp13=pd.merge(df_train1,df_train3,how=\"inner\",on=[\"UNIQUE_ID\",\"LABEL_CODE\",\"TIME_STAMP\"])\n",
    "temp23=pd.merge(df_train2,df_train3,how=\"inner\",on=[\"UNIQUE_ID\",\"LABEL_CODE\",\"TIME_STAMP\"])\n",
    "temp123=pd.merge(temp12,temp23,how=\"inner\",on=[\"UNIQUE_ID\",\"LABEL_CODE\",\"TIME_STAMP\"])\n",
    "\n",
    " \n",
    "# Make the diagram\n",
    "venn3(subsets = (len(df_train1.index)-len(temp12.index)-len(temp13.index)+len(temp123.index), len(df_train2.index)-len(temp12.index)-len(temp23.index)+len(temp123.index), len(temp12.index)-len(temp123), len(df_train3.index)-len(temp13.index)-len(temp23.index)+len(temp123.index),len(temp13.index)-len(temp123.index),len(temp23.index)-len(temp123.index),len(temp123)))\n",
    "plt.show()"
   ]
  },
  {
   "cell_type": "code",
   "execution_count": 35,
   "metadata": {},
   "outputs": [],
   "source": [
    "#Save locally.\n",
    "complete_tensor_nocov.to_csv(outfile_path+\"complete_tensor.csv\") #Full data\n",
    "df_train1.to_csv(outfile_path+\"complete_tensor_train1.csv\") #Train data\n",
    "df_val1.to_csv(outfile_path+\"complete_tensor_val1.csv\") #Validation data\n",
    "df_train2.to_csv(outfile_path+\"complete_tensor_train2.csv\") #Train data\n",
    "df_val2.to_csv(outfile_path+\"complete_tensor_val2.csv\") #Validation data\n",
    "df_train3.to_csv(outfile_path+\"complete_tensor_train3.csv\") #Train data\n",
    "df_val3.to_csv(outfile_path+\"complete_tensor_val3.csv\") #Validation data\n",
    "df_test.to_csv(outfile_path+\"complete_tensor_test.csv\") #Test data\n"
   ]
  },
  {
   "cell_type": "markdown",
   "metadata": {},
   "source": [
    "#### Covariates dataset"
   ]
  },
  {
   "cell_type": "code",
   "execution_count": 36,
   "metadata": {},
   "outputs": [],
   "source": [
    "#We create a data set with the covariates\n",
    "covariates=complete_tensor.groupby(\"UNIQUE_ID\").nth(0)[list(hot_encodings.columns)]\n",
    "covariates.to_csv(outfile_path+\"complete_covariates.csv\") #save locally"
   ]
  },
  {
   "cell_type": "markdown",
   "metadata": {},
   "source": [
    "## Creation of the dataset for LSTM operation\n",
    "\n",
    "We split the data patient-wise and provide imputation methods."
   ]
  },
  {
   "cell_type": "code",
   "execution_count": 37,
   "metadata": {},
   "outputs": [],
   "source": [
    "#Unique_ids of train and test\n",
    "test_prop=0.1\n",
    "val_prop=0.2\n",
    "sorted_unique_ids=np.sort(unique_ids)\n",
    "train_unique_ids=sorted_unique_ids[:int((1-test_prop)*(1-val_prop)*len(unique_ids))]\n",
    "val_unique_ids=sorted_unique_ids[int((1-test_prop)*(1-val_prop)*len(unique_ids)):int((1-test_prop)*len(unique_ids))]\n",
    "test_unique_ids=sorted_unique_ids[int((1-test_prop)*len(unique_ids)):]"
   ]
  },
  {
   "cell_type": "markdown",
   "metadata": {},
   "source": [
    "#### Death tags"
   ]
  },
  {
   "cell_type": "code",
   "execution_count": 38,
   "metadata": {},
   "outputs": [],
   "source": [
    "death_tags_train_df=death_tags_df.loc[death_tags_df[\"UNIQUE_ID\"].isin(list(train_unique_ids))].sort_values(by=\"UNIQUE_ID\")\n",
    "death_tags_val_df=death_tags_df.loc[death_tags_df[\"UNIQUE_ID\"].isin(list(val_unique_ids))].sort_values(by=\"UNIQUE_ID\")\n",
    "death_tags_test_df=death_tags_df.loc[death_tags_df[\"UNIQUE_ID\"].isin(list(test_unique_ids))].sort_values(by=\"UNIQUE_ID\")\n",
    "\n",
    "death_tags_train_df.to_csv(outfile_path+\"LSTM_death_tags_train.csv\")\n",
    "death_tags_val_df.to_csv(outfile_path+\"LSTM_death_tags_val.csv\")\n",
    "death_tags_test_df.to_csv(outfile_path+\"LSTM_death_tags_test.csv\")"
   ]
  },
  {
   "cell_type": "markdown",
   "metadata": {},
   "source": [
    "#### Tensor split"
   ]
  },
  {
   "cell_type": "code",
   "execution_count": 39,
   "metadata": {},
   "outputs": [],
   "source": [
    "#Create a segmented tensor (by patients)\n",
    "complete_tensor_train=complete_tensor_nocov.loc[complete_tensor_nocov[\"UNIQUE_ID\"].isin(list(train_unique_ids))].sort_values(by=\"UNIQUE_ID\")\n",
    "complete_tensor_val=complete_tensor_nocov.loc[complete_tensor_nocov[\"UNIQUE_ID\"].isin(list(val_unique_ids))].sort_values(by=\"UNIQUE_ID\")\n",
    "complete_tensor_test=complete_tensor_nocov.loc[complete_tensor_nocov[\"UNIQUE_ID\"].isin(list(test_unique_ids))].sort_values(by=\"UNIQUE_ID\")\n",
    "\n",
    "complete_tensor_train.to_csv(outfile_path+\"LSTM_tensor_train.csv\") \n",
    "complete_tensor_val.to_csv(outfile_path+\"LSTM_tensor_val.csv\") \n",
    "complete_tensor_test.to_csv(outfile_path+\"LSTM_tensor_test.csv\") "
   ]
  },
  {
   "cell_type": "markdown",
   "metadata": {},
   "source": [
    "#### Covariates split"
   ]
  },
  {
   "cell_type": "code",
   "execution_count": 40,
   "metadata": {},
   "outputs": [],
   "source": [
    "covariates_train=covariates.loc[covariates.index.isin(train_unique_ids)].sort_index()\n",
    "covariates_val=covariates.loc[covariates.index.isin(val_unique_ids)].sort_index()\n",
    "covariates_test=covariates.loc[covariates.index.isin(test_unique_ids)].sort_index()\n",
    "\n",
    "covariates_train.to_csv(outfile_path+\"LSTM_covariates_train.csv\") #save locally\n",
    "covariates_val.to_csv(outfile_path+\"LSTM_covariates_val.csv\") #save locally\n",
    "covariates_test.to_csv(outfile_path+\"LSTM_covariates_test.csv\") #save locally"
   ]
  },
  {
   "cell_type": "markdown",
   "metadata": {},
   "source": [
    "#### Mean Imputation"
   ]
  },
  {
   "cell_type": "code",
   "execution_count": 41,
   "metadata": {},
   "outputs": [],
   "source": [
    "#Vector containing the mean_values of each dimension.\n",
    "mean_dims=complete_tensor_train.groupby(\"LABEL_CODE\")[\"MEAN\"].mean()\n",
    "mean_dims.to_csv(outfile_path+\"mean_features.csv\")"
   ]
  },
  {
   "cell_type": "markdown",
   "metadata": {},
   "source": [
    "## Dataset for GRU_D (continuous time operation)"
   ]
  },
  {
   "cell_type": "code",
   "execution_count": 42,
   "metadata": {},
   "outputs": [],
   "source": [
    "#map the admission id to the unique id\n",
    "complete_df10[\"UNIQUE_ID\"]=complete_df10[\"HADM_ID\"].map(d)\n",
    "complete_df10[\"TIME_CONTINUOUS\"]=complete_df10[\"TIME\"]/10"
   ]
  },
  {
   "cell_type": "code",
   "execution_count": 43,
   "metadata": {},
   "outputs": [],
   "source": [
    "#Add a column with the mean and std of each different measurement type and then normalize them.\n",
    "d_mean=dict(complete_df10.groupby(\"LABEL_CODE\")[\"VALUENUM\"].mean())\n",
    "complete_df10[\"MEAN\"]=complete_df10[\"LABEL_CODE\"].map(d_mean)\n",
    "d_std=dict(complete_df10.groupby(\"LABEL_CODE\")[\"VALUENUM\"].std())\n",
    "complete_df10[\"STD\"]=complete_df10[\"LABEL_CODE\"].map(d_std)\n",
    "complete_df10[\"VALUENORM\"]=(complete_df10[\"VALUENUM\"]-complete_df10[\"MEAN\"])/complete_df10[\"STD\"]\n",
    "\n",
    "assert(len(complete_df10.loc[complete_df10[\"VALUENORM\"]==0].index)==0) #Make sure that there are no zeros. (Zeros can be used to represent missing values then)"
   ]
  },
  {
   "cell_type": "code",
   "execution_count": 44,
   "metadata": {},
   "outputs": [],
   "source": [
    "max_time_bins=complete_df10.groupby(\"UNIQUE_ID\")[\"TIME\"].nunique().max() #This is the maximal number of different time steps in a patient time series."
   ]
  },
  {
   "cell_type": "code",
   "execution_count": 45,
   "metadata": {},
   "outputs": [],
   "source": [
    "a=complete_df10.sort_values(by=[\"UNIQUE_ID\",\"TIME_CONTINUOUS\"]).copy()\n",
    "a.reset_index(inplace=True)"
   ]
  },
  {
   "cell_type": "code",
   "execution_count": 46,
   "metadata": {},
   "outputs": [],
   "source": [
    "b=a.assign(Time_order=a.groupby('UNIQUE_ID').TIME.rank(method='dense') - 1)\n"
   ]
  },
  {
   "cell_type": "code",
   "execution_count": 47,
   "metadata": {},
   "outputs": [
    {
     "output_type": "execute_result",
     "data": {
      "text/plain": [
       "          index   HADM_ID   TIME  LABEL_CODE  VALUENUM  UNIQUE_ID  \\\n",
       "0        592468  126509.0    0.0           0     18.00        0.0   \n",
       "1        592472  126509.0    0.0           1     22.00        0.0   \n",
       "2        592478  126509.0    0.0           3    106.00        0.0   \n",
       "3        592482  126509.0    0.0           4      1.10        0.0   \n",
       "4        592487  126509.0    0.0           5     98.00        0.0   \n",
       "...         ...       ...    ...         ...       ...        ...   \n",
       "3225035  432580  119225.0  415.0          33      7.35        NaN   \n",
       "3225036  432582  119225.0  415.0          34     64.00        NaN   \n",
       "3225037  432584  119225.0  415.0          17      8.70        NaN   \n",
       "3225038  432585  119225.0  440.0          17      8.80        NaN   \n",
       "3225039  432587  119225.0  440.0           5    157.00        NaN   \n",
       "\n",
       "         TIME_CONTINUOUS        MEAN         STD  VALUENORM  Time_order  \n",
       "0                    0.0   14.333616    3.958092   0.926301         0.0  \n",
       "1                    0.0   23.683217    4.552615  -0.369725         0.0  \n",
       "2                    0.0  105.072327    6.554967   0.141522         0.0  \n",
       "3                    0.0    1.350306    1.445883  -0.173116         0.0  \n",
       "4                    0.0  135.704576   93.624455  -0.402721         0.0  \n",
       "...                  ...         ...         ...        ...         ...  \n",
       "3225035             41.5    7.145331    0.648851   0.315433        42.0  \n",
       "3225036             41.5  188.338393  119.567732  -1.039899        42.0  \n",
       "3225037             41.5   11.006425    2.161977  -1.066813        42.0  \n",
       "3225038             44.0   11.006425    2.161977  -1.020559        43.0  \n",
       "3225039             44.0  135.704576   93.624455   0.227456        43.0  \n",
       "\n",
       "[3225040 rows x 11 columns]"
      ],
      "text/html": "<div>\n<style scoped>\n    .dataframe tbody tr th:only-of-type {\n        vertical-align: middle;\n    }\n\n    .dataframe tbody tr th {\n        vertical-align: top;\n    }\n\n    .dataframe thead th {\n        text-align: right;\n    }\n</style>\n<table border=\"1\" class=\"dataframe\">\n  <thead>\n    <tr style=\"text-align: right;\">\n      <th></th>\n      <th>index</th>\n      <th>HADM_ID</th>\n      <th>TIME</th>\n      <th>LABEL_CODE</th>\n      <th>VALUENUM</th>\n      <th>UNIQUE_ID</th>\n      <th>TIME_CONTINUOUS</th>\n      <th>MEAN</th>\n      <th>STD</th>\n      <th>VALUENORM</th>\n      <th>Time_order</th>\n    </tr>\n  </thead>\n  <tbody>\n    <tr>\n      <th>0</th>\n      <td>592468</td>\n      <td>126509.0</td>\n      <td>0.0</td>\n      <td>0</td>\n      <td>18.00</td>\n      <td>0.0</td>\n      <td>0.0</td>\n      <td>14.333616</td>\n      <td>3.958092</td>\n      <td>0.926301</td>\n      <td>0.0</td>\n    </tr>\n    <tr>\n      <th>1</th>\n      <td>592472</td>\n      <td>126509.0</td>\n      <td>0.0</td>\n      <td>1</td>\n      <td>22.00</td>\n      <td>0.0</td>\n      <td>0.0</td>\n      <td>23.683217</td>\n      <td>4.552615</td>\n      <td>-0.369725</td>\n      <td>0.0</td>\n    </tr>\n    <tr>\n      <th>2</th>\n      <td>592478</td>\n      <td>126509.0</td>\n      <td>0.0</td>\n      <td>3</td>\n      <td>106.00</td>\n      <td>0.0</td>\n      <td>0.0</td>\n      <td>105.072327</td>\n      <td>6.554967</td>\n      <td>0.141522</td>\n      <td>0.0</td>\n    </tr>\n    <tr>\n      <th>3</th>\n      <td>592482</td>\n      <td>126509.0</td>\n      <td>0.0</td>\n      <td>4</td>\n      <td>1.10</td>\n      <td>0.0</td>\n      <td>0.0</td>\n      <td>1.350306</td>\n      <td>1.445883</td>\n      <td>-0.173116</td>\n      <td>0.0</td>\n    </tr>\n    <tr>\n      <th>4</th>\n      <td>592487</td>\n      <td>126509.0</td>\n      <td>0.0</td>\n      <td>5</td>\n      <td>98.00</td>\n      <td>0.0</td>\n      <td>0.0</td>\n      <td>135.704576</td>\n      <td>93.624455</td>\n      <td>-0.402721</td>\n      <td>0.0</td>\n    </tr>\n    <tr>\n      <th>...</th>\n      <td>...</td>\n      <td>...</td>\n      <td>...</td>\n      <td>...</td>\n      <td>...</td>\n      <td>...</td>\n      <td>...</td>\n      <td>...</td>\n      <td>...</td>\n      <td>...</td>\n      <td>...</td>\n    </tr>\n    <tr>\n      <th>3225035</th>\n      <td>432580</td>\n      <td>119225.0</td>\n      <td>415.0</td>\n      <td>33</td>\n      <td>7.35</td>\n      <td>NaN</td>\n      <td>41.5</td>\n      <td>7.145331</td>\n      <td>0.648851</td>\n      <td>0.315433</td>\n      <td>42.0</td>\n    </tr>\n    <tr>\n      <th>3225036</th>\n      <td>432582</td>\n      <td>119225.0</td>\n      <td>415.0</td>\n      <td>34</td>\n      <td>64.00</td>\n      <td>NaN</td>\n      <td>41.5</td>\n      <td>188.338393</td>\n      <td>119.567732</td>\n      <td>-1.039899</td>\n      <td>42.0</td>\n    </tr>\n    <tr>\n      <th>3225037</th>\n      <td>432584</td>\n      <td>119225.0</td>\n      <td>415.0</td>\n      <td>17</td>\n      <td>8.70</td>\n      <td>NaN</td>\n      <td>41.5</td>\n      <td>11.006425</td>\n      <td>2.161977</td>\n      <td>-1.066813</td>\n      <td>42.0</td>\n    </tr>\n    <tr>\n      <th>3225038</th>\n      <td>432585</td>\n      <td>119225.0</td>\n      <td>440.0</td>\n      <td>17</td>\n      <td>8.80</td>\n      <td>NaN</td>\n      <td>44.0</td>\n      <td>11.006425</td>\n      <td>2.161977</td>\n      <td>-1.020559</td>\n      <td>43.0</td>\n    </tr>\n    <tr>\n      <th>3225039</th>\n      <td>432587</td>\n      <td>119225.0</td>\n      <td>440.0</td>\n      <td>5</td>\n      <td>157.00</td>\n      <td>NaN</td>\n      <td>44.0</td>\n      <td>135.704576</td>\n      <td>93.624455</td>\n      <td>0.227456</td>\n      <td>43.0</td>\n    </tr>\n  </tbody>\n</table>\n<p>3225040 rows × 11 columns</p>\n</div>"
     },
     "metadata": {},
     "execution_count": 47
    }
   ],
   "source": [
    "b"
   ]
  },
  {
   "cell_type": "code",
   "execution_count": 48,
   "metadata": {},
   "outputs": [],
   "source": [
    "#### END OF FILE ####### (below is testing stuff.)"
   ]
  },
  {
   "cell_type": "code",
   "execution_count": 49,
   "metadata": {},
   "outputs": [
    {
     "output_type": "execute_result",
     "data": {
      "text/plain": [
       "array([    0,     1,     2, ..., 15297, 15298, 15299], dtype=int64)"
      ]
     },
     "metadata": {},
     "execution_count": 49
    }
   ],
   "source": [
    "tags=pd.read_csv(outfile_path+\"LSTM_death_tags_train.csv\")\n",
    "tags[\"UNIQUE_ID\"].unique()"
   ]
  },
  {
   "cell_type": "code",
   "execution_count": 50,
   "metadata": {},
   "outputs": [
    {
     "output_type": "execute_result",
     "data": {
      "text/plain": [
       "array([15300, 15301, 15302, ..., 19122, 19123, 19124], dtype=int64)"
      ]
     },
     "metadata": {},
     "execution_count": 50
    }
   ],
   "source": [
    "tags=pd.read_csv(outfile_path+\"LSTM_death_tags_val.csv\")\n",
    "tags[\"UNIQUE_ID\"].unique()"
   ]
  },
  {
   "cell_type": "code",
   "execution_count": 51,
   "metadata": {},
   "outputs": [],
   "source": [
    "df=pd.read_csv(outfile_path+\"LSTM_tensor_train.csv\")"
   ]
  },
  {
   "cell_type": "code",
   "execution_count": 52,
   "metadata": {},
   "outputs": [
    {
     "output_type": "execute_result",
     "data": {
      "text/plain": [
       "array([    0,     1,     2, ..., 15297, 15298, 15299], dtype=int64)"
      ]
     },
     "metadata": {},
     "execution_count": 52
    }
   ],
   "source": [
    "df[\"UNIQUE_ID\"].unique()"
   ]
  },
  {
   "cell_type": "code",
   "execution_count": 53,
   "metadata": {},
   "outputs": [
    {
     "output_type": "execute_result",
     "data": {
      "text/plain": [
       "15300"
      ]
     },
     "metadata": {},
     "execution_count": 53
    }
   ],
   "source": [
    "df[\"UNIQUE_ID\"].nunique()"
   ]
  },
  {
   "cell_type": "code",
   "execution_count": 54,
   "metadata": {},
   "outputs": [],
   "source": [
    "df2=pd.read_csv(outfile_path+\"LSTM_tensor_val.csv\")"
   ]
  },
  {
   "cell_type": "code",
   "execution_count": 55,
   "metadata": {},
   "outputs": [
    {
     "output_type": "execute_result",
     "data": {
      "text/plain": [
       "array([15300, 15301, 15302, ..., 19122, 19123, 19124], dtype=int64)"
      ]
     },
     "metadata": {},
     "execution_count": 55
    }
   ],
   "source": [
    "df2[\"UNIQUE_ID\"].unique()"
   ]
  },
  {
   "cell_type": "code",
   "execution_count": 56,
   "metadata": {},
   "outputs": [],
   "source": [
    "df3=pd.concat([df,df2])"
   ]
  },
  {
   "cell_type": "code",
   "execution_count": 57,
   "metadata": {},
   "outputs": [
    {
     "output_type": "execute_result",
     "data": {
      "text/plain": [
       "array([    0,     1,     2, ..., 19122, 19123, 19124], dtype=int64)"
      ]
     },
     "metadata": {},
     "execution_count": 57
    }
   ],
   "source": [
    "df3[\"UNIQUE_ID\"].unique()"
   ]
  },
  {
   "cell_type": "code",
   "execution_count": 58,
   "metadata": {},
   "outputs": [
    {
     "output_type": "error",
     "ename": "AttributeError",
     "evalue": "type object 'Series' has no attribute 'from_csv'",
     "traceback": [
      "\u001b[1;31m---------------------------------------------------------------------------\u001b[0m",
      "\u001b[1;31mAttributeError\u001b[0m                            Traceback (most recent call last)",
      "\u001b[1;32m<ipython-input-58-d007c4290422>\u001b[0m in \u001b[0;36m<module>\u001b[1;34m\u001b[0m\n\u001b[1;32m----> 1\u001b[1;33m \u001b[0mmeans_df\u001b[0m\u001b[1;33m=\u001b[0m\u001b[0mpd\u001b[0m\u001b[1;33m.\u001b[0m\u001b[0mSeries\u001b[0m\u001b[1;33m.\u001b[0m\u001b[0mfrom_csv\u001b[0m\u001b[1;33m(\u001b[0m\u001b[1;34m\"~/Documents/Data/Full_MIMIC/Clean_data/mean_features.csv\"\u001b[0m\u001b[1;33m)\u001b[0m\u001b[1;33m\u001b[0m\u001b[1;33m\u001b[0m\u001b[0m\n\u001b[0m\u001b[0;32m      2\u001b[0m \u001b[0mmeans_vec\u001b[0m\u001b[1;33m=\u001b[0m\u001b[0mtorch\u001b[0m\u001b[1;33m.\u001b[0m\u001b[0mtensor\u001b[0m\u001b[1;33m(\u001b[0m\u001b[0mmeans_df\u001b[0m\u001b[1;33m.\u001b[0m\u001b[0mas_matrix\u001b[0m\u001b[1;33m(\u001b[0m\u001b[1;33m)\u001b[0m\u001b[1;33m)\u001b[0m\u001b[1;33m\u001b[0m\u001b[1;33m\u001b[0m\u001b[0m\n",
      "\u001b[1;31mAttributeError\u001b[0m: type object 'Series' has no attribute 'from_csv'"
     ]
    }
   ],
   "source": [
    "means_df=pd.Series.from_csv(\"~/Documents/Data/Full_MIMIC/Clean_data/mean_features.csv\")\n",
    "means_vec=torch.tensor(means_df.as_matrix())"
   ]
  },
  {
   "cell_type": "code",
   "execution_count": 153,
   "metadata": {},
   "outputs": [
    {
     "data": {
      "text/plain": [
       "torch.Size([96])"
      ]
     },
     "execution_count": 153,
     "metadata": {},
     "output_type": "execute_result"
    }
   ],
   "source": [
    "means_vec.size()"
   ]
  },
  {
   "cell_type": "code",
   "execution_count": 144,
   "metadata": {},
   "outputs": [
    {
     "data": {
      "text/plain": [
       "LABEL_CODE\n",
       "0      14.332368\n",
       "1      23.683532\n",
       "2       8.319696\n",
       "3     105.072921\n",
       "4       1.349956\n",
       "5     135.362454\n",
       "6       2.001855\n",
       "7       3.504950\n",
       "8       4.151537\n",
       "9     138.632943\n",
       "10    119.696930\n",
       "11    317.702850\n",
       "12      2.099668\n",
       "13     24.828327\n",
       "14      0.305753\n",
       "15      1.108482\n",
       "16     32.246985\n",
       "17     11.025442\n",
       "18     14.218029\n",
       "19     30.393274\n",
       "20     34.072047\n",
       "21     89.270204\n",
       "22      5.021936\n",
       "23     77.249455\n",
       "24    212.120463\n",
       "25     14.662603\n",
       "26      3.706547\n",
       "27     11.987865\n",
       "28     39.857678\n",
       "29     -1.064501\n",
       "         ...    \n",
       "66    108.225806\n",
       "67    211.900036\n",
       "68    135.809443\n",
       "69      3.275288\n",
       "70     70.765905\n",
       "71     40.142469\n",
       "72     11.517381\n",
       "73      2.691385\n",
       "74      5.582121\n",
       "75     73.378317\n",
       "76    315.733581\n",
       "77     20.315678\n",
       "78    605.229537\n",
       "79    235.878698\n",
       "80      1.307061\n",
       "81     59.813022\n",
       "82    574.522817\n",
       "83     42.854298\n",
       "84    108.222934\n",
       "85    196.146218\n",
       "86    174.020606\n",
       "87     30.696462\n",
       "88    819.275713\n",
       "89      1.757776\n",
       "90      0.491271\n",
       "91     92.211538\n",
       "92    187.327189\n",
       "93    516.350000\n",
       "94     98.466102\n",
       "95    307.347741\n",
       "Name: MEAN, Length: 96, dtype: float64"
      ]
     },
     "execution_count": 144,
     "metadata": {},
     "output_type": "execute_result"
    }
   ],
   "source": [
    "mean_dims"
   ]
  },
  {
   "cell_type": "code",
   "execution_count": 4,
   "metadata": {},
   "outputs": [],
   "source": [
    "cov=pd.read_csv(file_path+\"complete_covariates.csv\")\n",
    "df_train=pd.read_csv(file_path+\"complete_tensor_train1.csv\")\n",
    "df_val=pd.read_csv(file_path+\"complete_tensor_val1.csv\")\n",
    "deaths=pd.read_csv(file_path+\"complete_death_tags.csv\")\n",
    "df=pd.read_csv(file_path+\"complete_tensor.csv\")"
   ]
  },
  {
   "cell_type": "markdown",
   "metadata": {},
   "source": [
    "## Create a segmented dataset by patients for actual testing."
   ]
  },
  {
   "cell_type": "code",
   "execution_count": 15,
   "metadata": {},
   "outputs": [],
   "source": [
    "unique_ids=cov[\"UNIQUE_ID\"]\n",
    "train_unique_ids,test_unique_ids=train_test_split(unique_ids,test_size=0.1)"
   ]
  },
  {
   "cell_type": "code",
   "execution_count": 20,
   "metadata": {},
   "outputs": [],
   "source": [
    "df_segment_train=df.loc[df[\"UNIQUE_ID\"].isin(list(train_unique_ids))]\n",
    "df_segment_test=df.loc[df[\"UNIQUE_ID\"].isin(list(test_unique_ids))]\n",
    "cov_segment_train=cov.loc[cov[\"UNIQUE_ID\"].isin(list(train_unique_ids))]\n",
    "cov_segment_test=cov.loc[cov[\"UNIQUE_ID\"].isin(list(test_unique_ids))]"
   ]
  },
  {
   "cell_type": "code",
   "execution_count": 21,
   "metadata": {},
   "outputs": [],
   "source": [
    "df_segment_train.to_csv(file_path+\"segmented_tensor_train.csv\")\n",
    "df_segment_test.to_csv(file_path+\"segmented_tensor_test.csv\")\n",
    "cov_segment_train.to_csv(file_path+\"segmented_covariates_train.csv\")\n",
    "cov_segment_test.to_csv(file_path+\"segmented_covariates_test.csv\")"
   ]
  },
  {
   "cell_type": "code",
   "execution_count": 1,
   "metadata": {},
   "outputs": [],
   "source": [
    "#list(df[\"UNIQUE_ID\"].unique())"
   ]
  },
  {
   "cell_type": "code",
   "execution_count": 6,
   "metadata": {},
   "outputs": [
    {
     "data": {
      "text/plain": [
       "23341"
      ]
     },
     "execution_count": 6,
     "metadata": {},
     "output_type": "execute_result"
    }
   ],
   "source": [
    "df_train['UNIQUE_ID'].nunique()"
   ]
  },
  {
   "cell_type": "code",
   "execution_count": 7,
   "metadata": {},
   "outputs": [
    {
     "data": {
      "text/plain": [
       "23336"
      ]
     },
     "execution_count": 7,
     "metadata": {},
     "output_type": "execute_result"
    }
   ],
   "source": [
    "df_val['UNIQUE_ID'].nunique()"
   ]
  },
  {
   "cell_type": "code",
   "execution_count": 10,
   "metadata": {},
   "outputs": [
    {
     "data": {
      "text/plain": [
       "23341"
      ]
     },
     "execution_count": 10,
     "metadata": {},
     "output_type": "execute_result"
    }
   ],
   "source": [
    "deaths[\"UNIQUE_ID\"].nunique()"
   ]
  },
  {
   "cell_type": "code",
   "execution_count": 11,
   "metadata": {},
   "outputs": [
    {
     "data": {
      "text/plain": [
       "23341"
      ]
     },
     "execution_count": 11,
     "metadata": {},
     "output_type": "execute_result"
    }
   ],
   "source": [
    "df[\"UNIQUE_ID\"].nunique()"
   ]
  },
  {
   "cell_type": "code",
   "execution_count": 87,
   "metadata": {},
   "outputs": [],
   "source": [
    "import torch"
   ]
  },
  {
   "cell_type": "code",
   "execution_count": 89,
   "metadata": {},
   "outputs": [],
   "source": [
    "a=torch.tensor([3,2,1])"
   ]
  },
  {
   "cell_type": "code",
   "execution_count": 96,
   "metadata": {},
   "outputs": [],
   "source": [
    "b=a.repeat(10,5,1)"
   ]
  },
  {
   "cell_type": "code",
   "execution_count": 97,
   "metadata": {},
   "outputs": [
    {
     "data": {
      "text/plain": [
       "torch.Size([10, 5, 3])"
      ]
     },
     "execution_count": 97,
     "metadata": {},
     "output_type": "execute_result"
    }
   ],
   "source": [
    "b.shape"
   ]
  },
  {
   "cell_type": "code",
   "execution_count": null,
   "metadata": {},
   "outputs": [],
   "source": [
    "torch.cumsum(b)"
   ]
  },
  {
   "cell_type": "code",
   "execution_count": 2,
   "metadata": {},
   "outputs": [],
   "source": [
    "import torch\n",
    "import numpy as np"
   ]
  },
  {
   "cell_type": "code",
   "execution_count": 15,
   "metadata": {},
   "outputs": [],
   "source": [
    "a=torch.tensor([np.nan, 3, 4, np.nan])"
   ]
  },
  {
   "cell_type": "code",
   "execution_count": 16,
   "metadata": {},
   "outputs": [],
   "source": [
    "observed_mask=a==a"
   ]
  },
  {
   "cell_type": "code",
   "execution_count": 19,
   "metadata": {},
   "outputs": [
    {
     "data": {
      "text/plain": [
       "tensor([ 0,  1,  1,  0], dtype=torch.uint8)"
      ]
     },
     "execution_count": 19,
     "metadata": {},
     "output_type": "execute_result"
    }
   ],
   "source": [
    "observed_mask"
   ]
  },
  {
   "cell_type": "code",
   "execution_count": 9,
   "metadata": {},
   "outputs": [],
   "source": [
    "a=torch.randn((3,4,5))\n",
    "b=torch.randn((3,4,5))\n",
    "c=torch.randn((3,4,5))"
   ]
  },
  {
   "cell_type": "code",
   "execution_count": 11,
   "metadata": {},
   "outputs": [
    {
     "data": {
      "text/plain": [
       "torch.Size([9, 4, 5])"
      ]
     },
     "execution_count": 11,
     "metadata": {},
     "output_type": "execute_result"
    }
   ],
   "source": [
    "d=torch.cat((a,b,c))\n",
    "d.size()"
   ]
  },
  {
   "cell_type": "code",
   "execution_count": 12,
   "metadata": {},
   "outputs": [
    {
     "name": "stdout",
     "output_type": "stream",
     "text": [
      "torch.float32\n"
     ]
    }
   ],
   "source": [
    "print(d.dtype)"
   ]
  },
  {
   "cell_type": "code",
   "execution_count": 13,
   "metadata": {},
   "outputs": [],
   "source": [
    "z=torch.zeros((4))"
   ]
  },
  {
   "cell_type": "code",
   "execution_count": 17,
   "metadata": {},
   "outputs": [
    {
     "data": {
      "text/plain": [
       "tensor([nan.,   0.,   0.,   3.])"
      ]
     },
     "execution_count": 17,
     "metadata": {},
     "output_type": "execute_result"
    }
   ],
   "source": [
    "torch.zeros((4)).masked_scatter_(1-observed_mask,a)"
   ]
  },
  {
   "cell_type": "code",
   "execution_count": 20,
   "metadata": {},
   "outputs": [
    {
     "data": {
      "text/plain": [
       "tensor([nan.,   3.,   4., nan.])"
      ]
     },
     "execution_count": 20,
     "metadata": {},
     "output_type": "execute_result"
    }
   ],
   "source": [
    "a.float()"
   ]
  },
  {
   "cell_type": "code",
   "execution_count": 21,
   "metadata": {},
   "outputs": [
    {
     "data": {
      "text/plain": [
       "torch.float32"
      ]
     },
     "execution_count": 21,
     "metadata": {},
     "output_type": "execute_result"
    }
   ],
   "source": [
    "a.dtype"
   ]
  },
  {
   "cell_type": "code",
   "execution_count": 23,
   "metadata": {},
   "outputs": [],
   "source": [
    "b=a.repeat(3)"
   ]
  },
  {
   "cell_type": "code",
   "execution_count": 24,
   "metadata": {},
   "outputs": [
    {
     "data": {
      "text/plain": [
       "tensor([nan.,   3.,   4., nan., nan.,   3.,   4., nan., nan.,   3.,\n",
       "          4., nan.])"
      ]
     },
     "execution_count": 24,
     "metadata": {},
     "output_type": "execute_result"
    }
   ],
   "source": [
    "b"
   ]
  },
  {
   "cell_type": "code",
   "execution_count": 29,
   "metadata": {},
   "outputs": [
    {
     "data": {
      "text/plain": [
       "tensor([nan.,   3.,   4., nan., nan.,   3.,   4., nan., nan.,   3.,\n",
       "          4., nan.])"
      ]
     },
     "execution_count": 29,
     "metadata": {},
     "output_type": "execute_result"
    }
   ],
   "source": [
    "b.to(device)"
   ]
  },
  {
   "cell_type": "code",
   "execution_count": 28,
   "metadata": {},
   "outputs": [],
   "source": [
    "device=torch.device(\"cpu\")"
   ]
  },
  {
   "cell_type": "code",
   "execution_count": 30,
   "metadata": {},
   "outputs": [
    {
     "data": {
      "text/plain": [
       "torch.float32"
      ]
     },
     "execution_count": 30,
     "metadata": {},
     "output_type": "execute_result"
    }
   ],
   "source": [
    "b.dtype"
   ]
  },
  {
   "cell_type": "code",
   "execution_count": 35,
   "metadata": {},
   "outputs": [
    {
     "data": {
      "text/plain": [
       "[array([1, 0, 2]), array([3])]"
      ]
     },
     "execution_count": 35,
     "metadata": {},
     "output_type": "execute_result"
    }
   ],
   "source": [
    "train_test_split(np.arange(4),test_size=0.2)"
   ]
  },
  {
   "cell_type": "code",
   "execution_count": 44,
   "metadata": {},
   "outputs": [],
   "source": [
    "a=3\n",
    "#a=None"
   ]
  },
  {
   "cell_type": "code",
   "execution_count": 45,
   "metadata": {},
   "outputs": [
    {
     "data": {
      "text/plain": [
       "True"
      ]
     },
     "execution_count": 45,
     "metadata": {},
     "output_type": "execute_result"
    }
   ],
   "source": [
    "a is not None "
   ]
  },
  {
   "cell_type": "code",
   "execution_count": 14,
   "metadata": {},
   "outputs": [],
   "source": [
    "df=pd.read_csv(outfile_path+\"complete_tensor.csv\")"
   ]
  },
  {
   "cell_type": "code",
   "execution_count": 15,
   "metadata": {},
   "outputs": [
    {
     "data": {
      "text/plain": [
       "3082224"
      ]
     },
     "execution_count": 15,
     "metadata": {},
     "output_type": "execute_result"
    }
   ],
   "source": [
    "len(df.index)"
   ]
  },
  {
   "cell_type": "code",
   "execution_count": 16,
   "metadata": {},
   "outputs": [
    {
     "data": {
      "text/html": [
       "<div>\n",
       "<style scoped>\n",
       "    .dataframe tbody tr th:only-of-type {\n",
       "        vertical-align: middle;\n",
       "    }\n",
       "\n",
       "    .dataframe tbody tr th {\n",
       "        vertical-align: top;\n",
       "    }\n",
       "\n",
       "    .dataframe thead th {\n",
       "        text-align: right;\n",
       "    }\n",
       "</style>\n",
       "<table border=\"1\" class=\"dataframe\">\n",
       "  <thead>\n",
       "    <tr style=\"text-align: right;\">\n",
       "      <th></th>\n",
       "      <th>Unnamed: 0</th>\n",
       "      <th>UNIQUE_ID</th>\n",
       "      <th>LABEL_CODE</th>\n",
       "      <th>TIME_STAMP</th>\n",
       "      <th>VALUENUM</th>\n",
       "      <th>MEAN</th>\n",
       "      <th>STD</th>\n",
       "      <th>VALUENORM</th>\n",
       "    </tr>\n",
       "  </thead>\n",
       "  <tbody>\n",
       "    <tr>\n",
       "      <th>0</th>\n",
       "      <td>0</td>\n",
       "      <td>13227</td>\n",
       "      <td>0</td>\n",
       "      <td>0</td>\n",
       "      <td>15.0</td>\n",
       "      <td>14.332368</td>\n",
       "      <td>3.957156</td>\n",
       "      <td>0.168715</td>\n",
       "    </tr>\n",
       "    <tr>\n",
       "      <th>1</th>\n",
       "      <td>1</td>\n",
       "      <td>13227</td>\n",
       "      <td>0</td>\n",
       "      <td>26</td>\n",
       "      <td>12.0</td>\n",
       "      <td>14.332368</td>\n",
       "      <td>3.957156</td>\n",
       "      <td>-0.589405</td>\n",
       "    </tr>\n",
       "    <tr>\n",
       "      <th>2</th>\n",
       "      <td>2</td>\n",
       "      <td>13227</td>\n",
       "      <td>0</td>\n",
       "      <td>59</td>\n",
       "      <td>10.0</td>\n",
       "      <td>14.332368</td>\n",
       "      <td>3.957156</td>\n",
       "      <td>-1.094819</td>\n",
       "    </tr>\n",
       "    <tr>\n",
       "      <th>3</th>\n",
       "      <td>3</td>\n",
       "      <td>13227</td>\n",
       "      <td>1</td>\n",
       "      <td>0</td>\n",
       "      <td>25.0</td>\n",
       "      <td>23.683532</td>\n",
       "      <td>4.551461</td>\n",
       "      <td>0.289241</td>\n",
       "    </tr>\n",
       "    <tr>\n",
       "      <th>4</th>\n",
       "      <td>4</td>\n",
       "      <td>13227</td>\n",
       "      <td>1</td>\n",
       "      <td>26</td>\n",
       "      <td>25.0</td>\n",
       "      <td>23.683532</td>\n",
       "      <td>4.551461</td>\n",
       "      <td>0.289241</td>\n",
       "    </tr>\n",
       "    <tr>\n",
       "      <th>5</th>\n",
       "      <td>5</td>\n",
       "      <td>13227</td>\n",
       "      <td>1</td>\n",
       "      <td>59</td>\n",
       "      <td>27.0</td>\n",
       "      <td>23.683532</td>\n",
       "      <td>4.551461</td>\n",
       "      <td>0.728660</td>\n",
       "    </tr>\n",
       "    <tr>\n",
       "      <th>6</th>\n",
       "      <td>6</td>\n",
       "      <td>13227</td>\n",
       "      <td>2</td>\n",
       "      <td>26</td>\n",
       "      <td>8.9</td>\n",
       "      <td>8.319696</td>\n",
       "      <td>0.907730</td>\n",
       "      <td>0.639292</td>\n",
       "    </tr>\n",
       "    <tr>\n",
       "      <th>7</th>\n",
       "      <td>7</td>\n",
       "      <td>13227</td>\n",
       "      <td>2</td>\n",
       "      <td>59</td>\n",
       "      <td>8.5</td>\n",
       "      <td>8.319696</td>\n",
       "      <td>0.907730</td>\n",
       "      <td>0.198632</td>\n",
       "    </tr>\n",
       "    <tr>\n",
       "      <th>8</th>\n",
       "      <td>8</td>\n",
       "      <td>13227</td>\n",
       "      <td>3</td>\n",
       "      <td>0</td>\n",
       "      <td>103.0</td>\n",
       "      <td>105.072921</td>\n",
       "      <td>6.552307</td>\n",
       "      <td>-0.316365</td>\n",
       "    </tr>\n",
       "    <tr>\n",
       "      <th>9</th>\n",
       "      <td>9</td>\n",
       "      <td>13227</td>\n",
       "      <td>3</td>\n",
       "      <td>26</td>\n",
       "      <td>107.0</td>\n",
       "      <td>105.072921</td>\n",
       "      <td>6.552307</td>\n",
       "      <td>0.294107</td>\n",
       "    </tr>\n",
       "    <tr>\n",
       "      <th>10</th>\n",
       "      <td>10</td>\n",
       "      <td>13227</td>\n",
       "      <td>3</td>\n",
       "      <td>59</td>\n",
       "      <td>106.0</td>\n",
       "      <td>105.072921</td>\n",
       "      <td>6.552307</td>\n",
       "      <td>0.141489</td>\n",
       "    </tr>\n",
       "    <tr>\n",
       "      <th>11</th>\n",
       "      <td>11</td>\n",
       "      <td>13227</td>\n",
       "      <td>4</td>\n",
       "      <td>0</td>\n",
       "      <td>0.8</td>\n",
       "      <td>1.349956</td>\n",
       "      <td>1.445214</td>\n",
       "      <td>-0.380536</td>\n",
       "    </tr>\n",
       "    <tr>\n",
       "      <th>12</th>\n",
       "      <td>12</td>\n",
       "      <td>13227</td>\n",
       "      <td>4</td>\n",
       "      <td>26</td>\n",
       "      <td>0.6</td>\n",
       "      <td>1.349956</td>\n",
       "      <td>1.445214</td>\n",
       "      <td>-0.518924</td>\n",
       "    </tr>\n",
       "    <tr>\n",
       "      <th>13</th>\n",
       "      <td>13</td>\n",
       "      <td>13227</td>\n",
       "      <td>4</td>\n",
       "      <td>59</td>\n",
       "      <td>0.7</td>\n",
       "      <td>1.349956</td>\n",
       "      <td>1.445214</td>\n",
       "      <td>-0.449730</td>\n",
       "    </tr>\n",
       "    <tr>\n",
       "      <th>14</th>\n",
       "      <td>14</td>\n",
       "      <td>13227</td>\n",
       "      <td>5</td>\n",
       "      <td>0</td>\n",
       "      <td>116.0</td>\n",
       "      <td>135.362454</td>\n",
       "      <td>91.375215</td>\n",
       "      <td>-0.211901</td>\n",
       "    </tr>\n",
       "    <tr>\n",
       "      <th>15</th>\n",
       "      <td>15</td>\n",
       "      <td>13227</td>\n",
       "      <td>5</td>\n",
       "      <td>26</td>\n",
       "      <td>115.0</td>\n",
       "      <td>135.362454</td>\n",
       "      <td>91.375215</td>\n",
       "      <td>-0.222844</td>\n",
       "    </tr>\n",
       "    <tr>\n",
       "      <th>16</th>\n",
       "      <td>16</td>\n",
       "      <td>13227</td>\n",
       "      <td>5</td>\n",
       "      <td>59</td>\n",
       "      <td>137.0</td>\n",
       "      <td>135.362454</td>\n",
       "      <td>91.375215</td>\n",
       "      <td>0.017921</td>\n",
       "    </tr>\n",
       "    <tr>\n",
       "      <th>17</th>\n",
       "      <td>17</td>\n",
       "      <td>13227</td>\n",
       "      <td>6</td>\n",
       "      <td>26</td>\n",
       "      <td>1.6</td>\n",
       "      <td>2.001855</td>\n",
       "      <td>0.519634</td>\n",
       "      <td>-0.773342</td>\n",
       "    </tr>\n",
       "    <tr>\n",
       "      <th>18</th>\n",
       "      <td>18</td>\n",
       "      <td>13227</td>\n",
       "      <td>6</td>\n",
       "      <td>59</td>\n",
       "      <td>2.6</td>\n",
       "      <td>2.001855</td>\n",
       "      <td>0.519634</td>\n",
       "      <td>1.151088</td>\n",
       "    </tr>\n",
       "    <tr>\n",
       "      <th>19</th>\n",
       "      <td>19</td>\n",
       "      <td>13227</td>\n",
       "      <td>7</td>\n",
       "      <td>26</td>\n",
       "      <td>4.2</td>\n",
       "      <td>3.504950</td>\n",
       "      <td>1.392238</td>\n",
       "      <td>0.499232</td>\n",
       "    </tr>\n",
       "    <tr>\n",
       "      <th>20</th>\n",
       "      <td>20</td>\n",
       "      <td>13227</td>\n",
       "      <td>7</td>\n",
       "      <td>59</td>\n",
       "      <td>3.6</td>\n",
       "      <td>3.504950</td>\n",
       "      <td>1.392238</td>\n",
       "      <td>0.068271</td>\n",
       "    </tr>\n",
       "    <tr>\n",
       "      <th>21</th>\n",
       "      <td>21</td>\n",
       "      <td>13227</td>\n",
       "      <td>8</td>\n",
       "      <td>0</td>\n",
       "      <td>3.8</td>\n",
       "      <td>4.151537</td>\n",
       "      <td>0.712880</td>\n",
       "      <td>-0.493123</td>\n",
       "    </tr>\n",
       "    <tr>\n",
       "      <th>22</th>\n",
       "      <td>22</td>\n",
       "      <td>13227</td>\n",
       "      <td>8</td>\n",
       "      <td>26</td>\n",
       "      <td>4.1</td>\n",
       "      <td>4.151537</td>\n",
       "      <td>0.712880</td>\n",
       "      <td>-0.072294</td>\n",
       "    </tr>\n",
       "    <tr>\n",
       "      <th>23</th>\n",
       "      <td>23</td>\n",
       "      <td>13227</td>\n",
       "      <td>10</td>\n",
       "      <td>0</td>\n",
       "      <td>89.0</td>\n",
       "      <td>119.696930</td>\n",
       "      <td>151.316366</td>\n",
       "      <td>-0.202866</td>\n",
       "    </tr>\n",
       "    <tr>\n",
       "      <th>24</th>\n",
       "      <td>24</td>\n",
       "      <td>13227</td>\n",
       "      <td>11</td>\n",
       "      <td>0</td>\n",
       "      <td>22.0</td>\n",
       "      <td>317.702850</td>\n",
       "      <td>1277.969093</td>\n",
       "      <td>-0.231385</td>\n",
       "    </tr>\n",
       "    <tr>\n",
       "      <th>25</th>\n",
       "      <td>25</td>\n",
       "      <td>13227</td>\n",
       "      <td>12</td>\n",
       "      <td>0</td>\n",
       "      <td>0.3</td>\n",
       "      <td>2.099668</td>\n",
       "      <td>4.620891</td>\n",
       "      <td>-0.389463</td>\n",
       "    </tr>\n",
       "    <tr>\n",
       "      <th>26</th>\n",
       "      <td>26</td>\n",
       "      <td>13227</td>\n",
       "      <td>13</td>\n",
       "      <td>0</td>\n",
       "      <td>16.0</td>\n",
       "      <td>24.828327</td>\n",
       "      <td>21.364763</td>\n",
       "      <td>-0.413219</td>\n",
       "    </tr>\n",
       "    <tr>\n",
       "      <th>27</th>\n",
       "      <td>27</td>\n",
       "      <td>13227</td>\n",
       "      <td>13</td>\n",
       "      <td>26</td>\n",
       "      <td>12.0</td>\n",
       "      <td>24.828327</td>\n",
       "      <td>21.364763</td>\n",
       "      <td>-0.600443</td>\n",
       "    </tr>\n",
       "    <tr>\n",
       "      <th>28</th>\n",
       "      <td>28</td>\n",
       "      <td>13227</td>\n",
       "      <td>13</td>\n",
       "      <td>59</td>\n",
       "      <td>14.0</td>\n",
       "      <td>24.828327</td>\n",
       "      <td>21.364763</td>\n",
       "      <td>-0.506831</td>\n",
       "    </tr>\n",
       "    <tr>\n",
       "      <th>29</th>\n",
       "      <td>29</td>\n",
       "      <td>13227</td>\n",
       "      <td>14</td>\n",
       "      <td>0</td>\n",
       "      <td>1.4</td>\n",
       "      <td>0.305753</td>\n",
       "      <td>0.525673</td>\n",
       "      <td>2.081613</td>\n",
       "    </tr>\n",
       "    <tr>\n",
       "      <th>...</th>\n",
       "      <td>...</td>\n",
       "      <td>...</td>\n",
       "      <td>...</td>\n",
       "      <td>...</td>\n",
       "      <td>...</td>\n",
       "      <td>...</td>\n",
       "      <td>...</td>\n",
       "      <td>...</td>\n",
       "    </tr>\n",
       "    <tr>\n",
       "      <th>3082194</th>\n",
       "      <td>3082194</td>\n",
       "      <td>1356</td>\n",
       "      <td>62</td>\n",
       "      <td>38</td>\n",
       "      <td>50.0</td>\n",
       "      <td>114.904780</td>\n",
       "      <td>122.628835</td>\n",
       "      <td>-0.529278</td>\n",
       "    </tr>\n",
       "    <tr>\n",
       "      <th>3082195</th>\n",
       "      <td>3082195</td>\n",
       "      <td>1356</td>\n",
       "      <td>62</td>\n",
       "      <td>40</td>\n",
       "      <td>110.0</td>\n",
       "      <td>114.904780</td>\n",
       "      <td>122.628835</td>\n",
       "      <td>-0.039997</td>\n",
       "    </tr>\n",
       "    <tr>\n",
       "      <th>3082196</th>\n",
       "      <td>3082196</td>\n",
       "      <td>1356</td>\n",
       "      <td>62</td>\n",
       "      <td>42</td>\n",
       "      <td>32.0</td>\n",
       "      <td>114.904780</td>\n",
       "      <td>122.628835</td>\n",
       "      <td>-0.676063</td>\n",
       "    </tr>\n",
       "    <tr>\n",
       "      <th>3082197</th>\n",
       "      <td>3082197</td>\n",
       "      <td>1356</td>\n",
       "      <td>62</td>\n",
       "      <td>44</td>\n",
       "      <td>40.0</td>\n",
       "      <td>114.904780</td>\n",
       "      <td>122.628835</td>\n",
       "      <td>-0.610825</td>\n",
       "    </tr>\n",
       "    <tr>\n",
       "      <th>3082198</th>\n",
       "      <td>3082198</td>\n",
       "      <td>1356</td>\n",
       "      <td>62</td>\n",
       "      <td>46</td>\n",
       "      <td>40.0</td>\n",
       "      <td>114.904780</td>\n",
       "      <td>122.628835</td>\n",
       "      <td>-0.610825</td>\n",
       "    </tr>\n",
       "    <tr>\n",
       "      <th>3082199</th>\n",
       "      <td>3082199</td>\n",
       "      <td>1356</td>\n",
       "      <td>62</td>\n",
       "      <td>48</td>\n",
       "      <td>80.0</td>\n",
       "      <td>114.904780</td>\n",
       "      <td>122.628835</td>\n",
       "      <td>-0.284638</td>\n",
       "    </tr>\n",
       "    <tr>\n",
       "      <th>3082200</th>\n",
       "      <td>3082200</td>\n",
       "      <td>1356</td>\n",
       "      <td>62</td>\n",
       "      <td>50</td>\n",
       "      <td>80.0</td>\n",
       "      <td>114.904780</td>\n",
       "      <td>122.628835</td>\n",
       "      <td>-0.284638</td>\n",
       "    </tr>\n",
       "    <tr>\n",
       "      <th>3082201</th>\n",
       "      <td>3082201</td>\n",
       "      <td>1356</td>\n",
       "      <td>62</td>\n",
       "      <td>52</td>\n",
       "      <td>70.0</td>\n",
       "      <td>114.904780</td>\n",
       "      <td>122.628835</td>\n",
       "      <td>-0.366185</td>\n",
       "    </tr>\n",
       "    <tr>\n",
       "      <th>3082202</th>\n",
       "      <td>3082202</td>\n",
       "      <td>1356</td>\n",
       "      <td>62</td>\n",
       "      <td>54</td>\n",
       "      <td>30.0</td>\n",
       "      <td>114.904780</td>\n",
       "      <td>122.628835</td>\n",
       "      <td>-0.692372</td>\n",
       "    </tr>\n",
       "    <tr>\n",
       "      <th>3082203</th>\n",
       "      <td>3082203</td>\n",
       "      <td>1356</td>\n",
       "      <td>62</td>\n",
       "      <td>56</td>\n",
       "      <td>30.0</td>\n",
       "      <td>114.904780</td>\n",
       "      <td>122.628835</td>\n",
       "      <td>-0.692372</td>\n",
       "    </tr>\n",
       "    <tr>\n",
       "      <th>3082204</th>\n",
       "      <td>3082204</td>\n",
       "      <td>1356</td>\n",
       "      <td>62</td>\n",
       "      <td>58</td>\n",
       "      <td>80.0</td>\n",
       "      <td>114.904780</td>\n",
       "      <td>122.628835</td>\n",
       "      <td>-0.284638</td>\n",
       "    </tr>\n",
       "    <tr>\n",
       "      <th>3082205</th>\n",
       "      <td>3082205</td>\n",
       "      <td>1356</td>\n",
       "      <td>62</td>\n",
       "      <td>60</td>\n",
       "      <td>50.0</td>\n",
       "      <td>114.904780</td>\n",
       "      <td>122.628835</td>\n",
       "      <td>-0.529278</td>\n",
       "    </tr>\n",
       "    <tr>\n",
       "      <th>3082206</th>\n",
       "      <td>3082206</td>\n",
       "      <td>1356</td>\n",
       "      <td>62</td>\n",
       "      <td>62</td>\n",
       "      <td>70.0</td>\n",
       "      <td>114.904780</td>\n",
       "      <td>122.628835</td>\n",
       "      <td>-0.366185</td>\n",
       "    </tr>\n",
       "    <tr>\n",
       "      <th>3082207</th>\n",
       "      <td>3082207</td>\n",
       "      <td>1356</td>\n",
       "      <td>62</td>\n",
       "      <td>64</td>\n",
       "      <td>42.0</td>\n",
       "      <td>114.904780</td>\n",
       "      <td>122.628835</td>\n",
       "      <td>-0.594516</td>\n",
       "    </tr>\n",
       "    <tr>\n",
       "      <th>3082208</th>\n",
       "      <td>3082208</td>\n",
       "      <td>1356</td>\n",
       "      <td>62</td>\n",
       "      <td>66</td>\n",
       "      <td>100.0</td>\n",
       "      <td>114.904780</td>\n",
       "      <td>122.628835</td>\n",
       "      <td>-0.121544</td>\n",
       "    </tr>\n",
       "    <tr>\n",
       "      <th>3082209</th>\n",
       "      <td>3082209</td>\n",
       "      <td>1356</td>\n",
       "      <td>62</td>\n",
       "      <td>68</td>\n",
       "      <td>80.0</td>\n",
       "      <td>114.904780</td>\n",
       "      <td>122.628835</td>\n",
       "      <td>-0.284638</td>\n",
       "    </tr>\n",
       "    <tr>\n",
       "      <th>3082210</th>\n",
       "      <td>3082210</td>\n",
       "      <td>1356</td>\n",
       "      <td>62</td>\n",
       "      <td>70</td>\n",
       "      <td>60.0</td>\n",
       "      <td>114.904780</td>\n",
       "      <td>122.628835</td>\n",
       "      <td>-0.447731</td>\n",
       "    </tr>\n",
       "    <tr>\n",
       "      <th>3082211</th>\n",
       "      <td>3082211</td>\n",
       "      <td>1356</td>\n",
       "      <td>62</td>\n",
       "      <td>72</td>\n",
       "      <td>60.0</td>\n",
       "      <td>114.904780</td>\n",
       "      <td>122.628835</td>\n",
       "      <td>-0.447731</td>\n",
       "    </tr>\n",
       "    <tr>\n",
       "      <th>3082212</th>\n",
       "      <td>3082212</td>\n",
       "      <td>1356</td>\n",
       "      <td>62</td>\n",
       "      <td>74</td>\n",
       "      <td>110.0</td>\n",
       "      <td>114.904780</td>\n",
       "      <td>122.628835</td>\n",
       "      <td>-0.039997</td>\n",
       "    </tr>\n",
       "    <tr>\n",
       "      <th>3082213</th>\n",
       "      <td>3082213</td>\n",
       "      <td>1356</td>\n",
       "      <td>62</td>\n",
       "      <td>76</td>\n",
       "      <td>80.0</td>\n",
       "      <td>114.904780</td>\n",
       "      <td>122.628835</td>\n",
       "      <td>-0.284638</td>\n",
       "    </tr>\n",
       "    <tr>\n",
       "      <th>3082214</th>\n",
       "      <td>3082214</td>\n",
       "      <td>1356</td>\n",
       "      <td>62</td>\n",
       "      <td>78</td>\n",
       "      <td>80.0</td>\n",
       "      <td>114.904780</td>\n",
       "      <td>122.628835</td>\n",
       "      <td>-0.284638</td>\n",
       "    </tr>\n",
       "    <tr>\n",
       "      <th>3082215</th>\n",
       "      <td>3082215</td>\n",
       "      <td>1356</td>\n",
       "      <td>62</td>\n",
       "      <td>80</td>\n",
       "      <td>100.0</td>\n",
       "      <td>114.904780</td>\n",
       "      <td>122.628835</td>\n",
       "      <td>-0.121544</td>\n",
       "    </tr>\n",
       "    <tr>\n",
       "      <th>3082216</th>\n",
       "      <td>3082216</td>\n",
       "      <td>1356</td>\n",
       "      <td>62</td>\n",
       "      <td>82</td>\n",
       "      <td>60.0</td>\n",
       "      <td>114.904780</td>\n",
       "      <td>122.628835</td>\n",
       "      <td>-0.447731</td>\n",
       "    </tr>\n",
       "    <tr>\n",
       "      <th>3082217</th>\n",
       "      <td>3082217</td>\n",
       "      <td>1356</td>\n",
       "      <td>62</td>\n",
       "      <td>84</td>\n",
       "      <td>40.0</td>\n",
       "      <td>114.904780</td>\n",
       "      <td>122.628835</td>\n",
       "      <td>-0.610825</td>\n",
       "    </tr>\n",
       "    <tr>\n",
       "      <th>3082218</th>\n",
       "      <td>3082218</td>\n",
       "      <td>1356</td>\n",
       "      <td>62</td>\n",
       "      <td>86</td>\n",
       "      <td>50.0</td>\n",
       "      <td>114.904780</td>\n",
       "      <td>122.628835</td>\n",
       "      <td>-0.529278</td>\n",
       "    </tr>\n",
       "    <tr>\n",
       "      <th>3082219</th>\n",
       "      <td>3082219</td>\n",
       "      <td>1356</td>\n",
       "      <td>62</td>\n",
       "      <td>88</td>\n",
       "      <td>43.0</td>\n",
       "      <td>114.904780</td>\n",
       "      <td>122.628835</td>\n",
       "      <td>-0.586361</td>\n",
       "    </tr>\n",
       "    <tr>\n",
       "      <th>3082220</th>\n",
       "      <td>3082220</td>\n",
       "      <td>1356</td>\n",
       "      <td>62</td>\n",
       "      <td>90</td>\n",
       "      <td>40.0</td>\n",
       "      <td>114.904780</td>\n",
       "      <td>122.628835</td>\n",
       "      <td>-0.610825</td>\n",
       "    </tr>\n",
       "    <tr>\n",
       "      <th>3082221</th>\n",
       "      <td>3082221</td>\n",
       "      <td>1356</td>\n",
       "      <td>62</td>\n",
       "      <td>92</td>\n",
       "      <td>40.0</td>\n",
       "      <td>114.904780</td>\n",
       "      <td>122.628835</td>\n",
       "      <td>-0.610825</td>\n",
       "    </tr>\n",
       "    <tr>\n",
       "      <th>3082222</th>\n",
       "      <td>3082222</td>\n",
       "      <td>1356</td>\n",
       "      <td>62</td>\n",
       "      <td>94</td>\n",
       "      <td>55.0</td>\n",
       "      <td>114.904780</td>\n",
       "      <td>122.628835</td>\n",
       "      <td>-0.488505</td>\n",
       "    </tr>\n",
       "    <tr>\n",
       "      <th>3082223</th>\n",
       "      <td>3082223</td>\n",
       "      <td>1356</td>\n",
       "      <td>40</td>\n",
       "      <td>0</td>\n",
       "      <td>2.0</td>\n",
       "      <td>4.159712</td>\n",
       "      <td>3.337186</td>\n",
       "      <td>-0.647165</td>\n",
       "    </tr>\n",
       "  </tbody>\n",
       "</table>\n",
       "<p>3082224 rows × 8 columns</p>\n",
       "</div>"
      ],
      "text/plain": [
       "         Unnamed: 0  UNIQUE_ID  LABEL_CODE  TIME_STAMP  VALUENUM        MEAN  \\\n",
       "0                 0      13227           0           0      15.0   14.332368   \n",
       "1                 1      13227           0          26      12.0   14.332368   \n",
       "2                 2      13227           0          59      10.0   14.332368   \n",
       "3                 3      13227           1           0      25.0   23.683532   \n",
       "4                 4      13227           1          26      25.0   23.683532   \n",
       "5                 5      13227           1          59      27.0   23.683532   \n",
       "6                 6      13227           2          26       8.9    8.319696   \n",
       "7                 7      13227           2          59       8.5    8.319696   \n",
       "8                 8      13227           3           0     103.0  105.072921   \n",
       "9                 9      13227           3          26     107.0  105.072921   \n",
       "10               10      13227           3          59     106.0  105.072921   \n",
       "11               11      13227           4           0       0.8    1.349956   \n",
       "12               12      13227           4          26       0.6    1.349956   \n",
       "13               13      13227           4          59       0.7    1.349956   \n",
       "14               14      13227           5           0     116.0  135.362454   \n",
       "15               15      13227           5          26     115.0  135.362454   \n",
       "16               16      13227           5          59     137.0  135.362454   \n",
       "17               17      13227           6          26       1.6    2.001855   \n",
       "18               18      13227           6          59       2.6    2.001855   \n",
       "19               19      13227           7          26       4.2    3.504950   \n",
       "20               20      13227           7          59       3.6    3.504950   \n",
       "21               21      13227           8           0       3.8    4.151537   \n",
       "22               22      13227           8          26       4.1    4.151537   \n",
       "23               23      13227          10           0      89.0  119.696930   \n",
       "24               24      13227          11           0      22.0  317.702850   \n",
       "25               25      13227          12           0       0.3    2.099668   \n",
       "26               26      13227          13           0      16.0   24.828327   \n",
       "27               27      13227          13          26      12.0   24.828327   \n",
       "28               28      13227          13          59      14.0   24.828327   \n",
       "29               29      13227          14           0       1.4    0.305753   \n",
       "...             ...        ...         ...         ...       ...         ...   \n",
       "3082194     3082194       1356          62          38      50.0  114.904780   \n",
       "3082195     3082195       1356          62          40     110.0  114.904780   \n",
       "3082196     3082196       1356          62          42      32.0  114.904780   \n",
       "3082197     3082197       1356          62          44      40.0  114.904780   \n",
       "3082198     3082198       1356          62          46      40.0  114.904780   \n",
       "3082199     3082199       1356          62          48      80.0  114.904780   \n",
       "3082200     3082200       1356          62          50      80.0  114.904780   \n",
       "3082201     3082201       1356          62          52      70.0  114.904780   \n",
       "3082202     3082202       1356          62          54      30.0  114.904780   \n",
       "3082203     3082203       1356          62          56      30.0  114.904780   \n",
       "3082204     3082204       1356          62          58      80.0  114.904780   \n",
       "3082205     3082205       1356          62          60      50.0  114.904780   \n",
       "3082206     3082206       1356          62          62      70.0  114.904780   \n",
       "3082207     3082207       1356          62          64      42.0  114.904780   \n",
       "3082208     3082208       1356          62          66     100.0  114.904780   \n",
       "3082209     3082209       1356          62          68      80.0  114.904780   \n",
       "3082210     3082210       1356          62          70      60.0  114.904780   \n",
       "3082211     3082211       1356          62          72      60.0  114.904780   \n",
       "3082212     3082212       1356          62          74     110.0  114.904780   \n",
       "3082213     3082213       1356          62          76      80.0  114.904780   \n",
       "3082214     3082214       1356          62          78      80.0  114.904780   \n",
       "3082215     3082215       1356          62          80     100.0  114.904780   \n",
       "3082216     3082216       1356          62          82      60.0  114.904780   \n",
       "3082217     3082217       1356          62          84      40.0  114.904780   \n",
       "3082218     3082218       1356          62          86      50.0  114.904780   \n",
       "3082219     3082219       1356          62          88      43.0  114.904780   \n",
       "3082220     3082220       1356          62          90      40.0  114.904780   \n",
       "3082221     3082221       1356          62          92      40.0  114.904780   \n",
       "3082222     3082222       1356          62          94      55.0  114.904780   \n",
       "3082223     3082223       1356          40           0       2.0    4.159712   \n",
       "\n",
       "                 STD  VALUENORM  \n",
       "0           3.957156   0.168715  \n",
       "1           3.957156  -0.589405  \n",
       "2           3.957156  -1.094819  \n",
       "3           4.551461   0.289241  \n",
       "4           4.551461   0.289241  \n",
       "5           4.551461   0.728660  \n",
       "6           0.907730   0.639292  \n",
       "7           0.907730   0.198632  \n",
       "8           6.552307  -0.316365  \n",
       "9           6.552307   0.294107  \n",
       "10          6.552307   0.141489  \n",
       "11          1.445214  -0.380536  \n",
       "12          1.445214  -0.518924  \n",
       "13          1.445214  -0.449730  \n",
       "14         91.375215  -0.211901  \n",
       "15         91.375215  -0.222844  \n",
       "16         91.375215   0.017921  \n",
       "17          0.519634  -0.773342  \n",
       "18          0.519634   1.151088  \n",
       "19          1.392238   0.499232  \n",
       "20          1.392238   0.068271  \n",
       "21          0.712880  -0.493123  \n",
       "22          0.712880  -0.072294  \n",
       "23        151.316366  -0.202866  \n",
       "24       1277.969093  -0.231385  \n",
       "25          4.620891  -0.389463  \n",
       "26         21.364763  -0.413219  \n",
       "27         21.364763  -0.600443  \n",
       "28         21.364763  -0.506831  \n",
       "29          0.525673   2.081613  \n",
       "...              ...        ...  \n",
       "3082194   122.628835  -0.529278  \n",
       "3082195   122.628835  -0.039997  \n",
       "3082196   122.628835  -0.676063  \n",
       "3082197   122.628835  -0.610825  \n",
       "3082198   122.628835  -0.610825  \n",
       "3082199   122.628835  -0.284638  \n",
       "3082200   122.628835  -0.284638  \n",
       "3082201   122.628835  -0.366185  \n",
       "3082202   122.628835  -0.692372  \n",
       "3082203   122.628835  -0.692372  \n",
       "3082204   122.628835  -0.284638  \n",
       "3082205   122.628835  -0.529278  \n",
       "3082206   122.628835  -0.366185  \n",
       "3082207   122.628835  -0.594516  \n",
       "3082208   122.628835  -0.121544  \n",
       "3082209   122.628835  -0.284638  \n",
       "3082210   122.628835  -0.447731  \n",
       "3082211   122.628835  -0.447731  \n",
       "3082212   122.628835  -0.039997  \n",
       "3082213   122.628835  -0.284638  \n",
       "3082214   122.628835  -0.284638  \n",
       "3082215   122.628835  -0.121544  \n",
       "3082216   122.628835  -0.447731  \n",
       "3082217   122.628835  -0.610825  \n",
       "3082218   122.628835  -0.529278  \n",
       "3082219   122.628835  -0.586361  \n",
       "3082220   122.628835  -0.610825  \n",
       "3082221   122.628835  -0.610825  \n",
       "3082222   122.628835  -0.488505  \n",
       "3082223     3.337186  -0.647165  \n",
       "\n",
       "[3082224 rows x 8 columns]"
      ]
     },
     "execution_count": 16,
     "metadata": {},
     "output_type": "execute_result"
    }
   ],
   "source": [
    "df"
   ]
  },
  {
   "cell_type": "code",
   "execution_count": 17,
   "metadata": {},
   "outputs": [
    {
     "name": "stderr",
     "output_type": "stream",
     "text": [
      "/Users/XXXX/miniconda3/envs/pytorch/lib/python3.6/site-packages/IPython/core/interactiveshell.py:2728: DtypeWarning: Columns (6,9) have mixed types. Specify dtype option on import or set low_memory=False.\n",
      "  interactivity=interactivity, compiler=compiler, result=result)\n"
     ]
    }
   ],
   "source": [
    "lab_df=pd.read_csv(file_path+\"LAB_processed.csv\")"
   ]
  },
  {
   "cell_type": "code",
   "execution_count": 19,
   "metadata": {},
   "outputs": [
    {
     "data": {
      "text/plain": [
       "array(['Anion Gap', 'Bicarbonate', 'Calcium, Total', 'Chloride',\n",
       "       'Creatinine', 'Glucose', 'Magnesium', 'Phosphate', 'Potassium',\n",
       "       'Sodium', 'Alkaline Phosphatase',\n",
       "       'Asparate Aminotransferase (AST)', 'Bilirubin, Total',\n",
       "       'Urea Nitrogen', 'Basophils', 'Eosinophils', 'Hematocrit',\n",
       "       'Hemoglobin', 'Lymphocytes', 'MCH', 'MCHC', 'MCV', 'Monocytes',\n",
       "       'Neutrophils', 'Platelet Count', 'RDW', 'Red Blood Cells',\n",
       "       'White Blood Cells', 'PTT', 'Base Excess', 'Calculated Total CO2',\n",
       "       'Lactate', 'pCO2', 'pH', 'pO2', 'PT',\n",
       "       'Alanine Aminotransferase (ALT)', 'Albumin', 'Specific Gravity'],\n",
       "      dtype=object)"
      ]
     },
     "execution_count": 19,
     "metadata": {},
     "output_type": "execute_result"
    }
   ],
   "source": [
    "lab_df[\"LABEL\"].unique()"
   ]
  },
  {
   "cell_type": "code",
   "execution_count": 6,
   "metadata": {},
   "outputs": [],
   "source": [
    "a=pd.read_csv(outfile_path+\"LSTM_covariates_test.csv\")\n",
    "b=pd.read_csv(outfile_path+\"LSTM_tensor_test.csv\") "
   ]
  },
  {
   "cell_type": "code",
   "execution_count": 5,
   "metadata": {},
   "outputs": [
    {
     "data": {
      "text/plain": [
       "2125"
      ]
     },
     "execution_count": 5,
     "metadata": {},
     "output_type": "execute_result"
    }
   ],
   "source": [
    "len(a.index)"
   ]
  },
  {
   "cell_type": "code",
   "execution_count": 7,
   "metadata": {},
   "outputs": [
    {
     "data": {
      "text/plain": [
       "2125"
      ]
     },
     "execution_count": 7,
     "metadata": {},
     "output_type": "execute_result"
    }
   ],
   "source": [
    "b[\"UNIQUE_ID\"].nunique()"
   ]
  },
  {
   "cell_type": "code",
   "execution_count": 17,
   "metadata": {},
   "outputs": [
    {
     "data": {
      "text/plain": [
       "96"
      ]
     },
     "execution_count": 17,
     "metadata": {},
     "output_type": "execute_result"
    }
   ],
   "source": [
    "len(merged_df[\"LABEL\"].unique())"
   ]
  },
  {
   "cell_type": "code",
   "execution_count": 21,
   "metadata": {},
   "outputs": [
    {
     "data": {
      "text/plain": [
       "0.05962794510522801"
      ]
     },
     "execution_count": 21,
     "metadata": {},
     "output_type": "execute_result"
    }
   ],
   "source": [
    "len(merged_df.index)/(96*merged_df[\"SUBJECT_ID\"].nunique()*48*2)"
   ]
  },
  {
   "cell_type": "code",
   "execution_count": 19,
   "metadata": {},
   "outputs": [
    {
     "data": {
      "text/html": [
       "<div>\n",
       "<style scoped>\n",
       "    .dataframe tbody tr th:only-of-type {\n",
       "        vertical-align: middle;\n",
       "    }\n",
       "\n",
       "    .dataframe tbody tr th {\n",
       "        vertical-align: top;\n",
       "    }\n",
       "\n",
       "    .dataframe thead th {\n",
       "        text-align: right;\n",
       "    }\n",
       "</style>\n",
       "<table border=\"1\" class=\"dataframe\">\n",
       "  <thead>\n",
       "    <tr style=\"text-align: right;\">\n",
       "      <th></th>\n",
       "      <th>level_0</th>\n",
       "      <th>CHARTTIME</th>\n",
       "      <th>HADM_ID</th>\n",
       "      <th>LABEL</th>\n",
       "      <th>Origin</th>\n",
       "      <th>SUBJECT_ID</th>\n",
       "      <th>VALUENUM</th>\n",
       "      <th>index</th>\n",
       "    </tr>\n",
       "  </thead>\n",
       "  <tbody>\n",
       "    <tr>\n",
       "      <th>0</th>\n",
       "      <td>0</td>\n",
       "      <td>2133-02-05 06:29:00</td>\n",
       "      <td>139787.0</td>\n",
       "      <td>Potassium Chloride</td>\n",
       "      <td>Inputs</td>\n",
       "      <td>27063</td>\n",
       "      <td>1.354906</td>\n",
       "      <td>0.0</td>\n",
       "    </tr>\n",
       "    <tr>\n",
       "      <th>1</th>\n",
       "      <td>1</td>\n",
       "      <td>2133-02-05 06:59:00</td>\n",
       "      <td>139787.0</td>\n",
       "      <td>Potassium Chloride</td>\n",
       "      <td>Inputs</td>\n",
       "      <td>27063</td>\n",
       "      <td>1.354906</td>\n",
       "      <td>1.0</td>\n",
       "    </tr>\n",
       "    <tr>\n",
       "      <th>2</th>\n",
       "      <td>2</td>\n",
       "      <td>2133-02-05 07:29:00</td>\n",
       "      <td>139787.0</td>\n",
       "      <td>Potassium Chloride</td>\n",
       "      <td>Inputs</td>\n",
       "      <td>27063</td>\n",
       "      <td>1.354906</td>\n",
       "      <td>2.0</td>\n",
       "    </tr>\n",
       "    <tr>\n",
       "      <th>3</th>\n",
       "      <td>3</td>\n",
       "      <td>2133-02-05 07:59:00</td>\n",
       "      <td>139787.0</td>\n",
       "      <td>Potassium Chloride</td>\n",
       "      <td>Inputs</td>\n",
       "      <td>27063</td>\n",
       "      <td>1.354906</td>\n",
       "      <td>3.0</td>\n",
       "    </tr>\n",
       "    <tr>\n",
       "      <th>4</th>\n",
       "      <td>4</td>\n",
       "      <td>2133-02-05 08:29:00</td>\n",
       "      <td>139787.0</td>\n",
       "      <td>Potassium Chloride</td>\n",
       "      <td>Inputs</td>\n",
       "      <td>27063</td>\n",
       "      <td>1.354906</td>\n",
       "      <td>4.0</td>\n",
       "    </tr>\n",
       "  </tbody>\n",
       "</table>\n",
       "</div>"
      ],
      "text/plain": [
       "   level_0           CHARTTIME   HADM_ID               LABEL  Origin  \\\n",
       "0        0 2133-02-05 06:29:00  139787.0  Potassium Chloride  Inputs   \n",
       "1        1 2133-02-05 06:59:00  139787.0  Potassium Chloride  Inputs   \n",
       "2        2 2133-02-05 07:29:00  139787.0  Potassium Chloride  Inputs   \n",
       "3        3 2133-02-05 07:59:00  139787.0  Potassium Chloride  Inputs   \n",
       "4        4 2133-02-05 08:29:00  139787.0  Potassium Chloride  Inputs   \n",
       "\n",
       "   SUBJECT_ID  VALUENUM  index  \n",
       "0       27063  1.354906    0.0  \n",
       "1       27063  1.354906    1.0  \n",
       "2       27063  1.354906    2.0  \n",
       "3       27063  1.354906    3.0  \n",
       "4       27063  1.354906    4.0  "
      ]
     },
     "execution_count": 19,
     "metadata": {},
     "output_type": "execute_result"
    }
   ],
   "source": [
    "merged_df.head()"
   ]
  },
  {
   "cell_type": "code",
   "execution_count": 26,
   "metadata": {},
   "outputs": [
    {
     "data": {
      "text/plain": [
       "array(['D5WDrug Drug', 'Docusate SodiumDrug Drug',\n",
       "       'Magnesium SulfateDrug Drug', 'Potassium ChlorideDrug Drug',\n",
       "       'PantoprazoleDrug Drug', 'BisacodylDrug Drug',\n",
       "       'Humulin-R InsulinDrug Drug', 'AspirinDrug Drug',\n",
       "       'Sodium Chloride 0.9%  FlushDrug Drug',\n",
       "       'Metoprolol TartrateDrug Drug'], dtype=object)"
      ]
     },
     "execution_count": 26,
     "metadata": {},
     "output_type": "execute_result"
    }
   ],
   "source": [
    "presc_df[\"LABEL\"].unique()"
   ]
  },
  {
   "cell_type": "code",
   "execution_count": 27,
   "metadata": {},
   "outputs": [
    {
     "data": {
      "text/plain": [
       "96"
      ]
     },
     "execution_count": 27,
     "metadata": {},
     "output_type": "execute_result"
    }
   ],
   "source": [
    "merged_df[\"LABEL\"].nunique()"
   ]
  },
  {
   "cell_type": "code",
   "execution_count": null,
   "metadata": {},
   "outputs": [],
   "source": []
  }
 ],
 "metadata": {
  "kernelspec": {
   "display_name": "Python 3",
   "language": "python",
   "name": "python3"
  },
  "language_info": {
   "codemirror_mode": {
    "name": "ipython",
    "version": 3
   },
   "file_extension": ".py",
   "mimetype": "text/x-python",
   "name": "python",
   "nbconvert_exporter": "python",
   "pygments_lexer": "ipython3",
   "version": "3.8.6-final"
  }
 },
 "nbformat": 4,
 "nbformat_minor": 2
}