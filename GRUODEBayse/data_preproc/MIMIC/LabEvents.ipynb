{
 "cells": [
  {
   "cell_type": "code",
   "execution_count": 2,
   "metadata": {},
   "outputs": [],
   "source": [
    "import pandas as pd\n",
    "import matplotlib.pyplot as plt\n",
    "from sklearn.model_selection import train_test_split\n",
    "\n",
    "import datetime\n",
    "from datetime import timedelta\n",
    "\n",
    "file_path=\"D:/mimic_iii/csv/\"\n",
    "\n",
    "pd.set_option('display.max_rows', 150)\n",
    "pd.set_option('display.max_columns', 300)"
   ]
  },
  {
   "cell_type": "code",
   "execution_count": 3,
   "metadata": {},
   "outputs": [],
   "source": [
    "adm=pd.read_csv(file_path+\"Admissions_processed.csv\")"
   ]
  },
  {
   "cell_type": "code",
   "execution_count": 4,
   "metadata": {},
   "outputs": [
    {
     "output_type": "execute_result",
     "data": {
      "text/plain": [
       "   Unnamed: 0  SUBJECT_ID              DOBTIME  ROW_ID  HADM_ID  \\\n",
       "0           3         250  2164-12-27 00:00:00     324   124271   \n",
       "1           7         253  2089-11-26 00:00:00     328   176189   \n",
       "2           8         255  2109-08-05 00:00:00     329   112013   \n",
       "3          16         261  2025-08-04 00:00:00     337   118523   \n",
       "4          17         262  2090-01-05 00:00:00     338   106019   \n",
       "\n",
       "             ADMITTIME            DISCHTIME            DEATHTIME  \\\n",
       "0  2188-11-12 09:22:00  2188-11-22 12:00:00  2188-11-22 12:00:00   \n",
       "1  2174-01-21 20:58:00  2174-01-26 16:15:00                  NaN   \n",
       "2  2187-02-12 10:30:00  2187-02-15 10:30:00                  NaN   \n",
       "3  2101-12-27 01:50:00  2102-01-12 13:39:00                  NaN   \n",
       "4  2153-09-25 18:01:00  2153-09-28 18:48:00                  NaN   \n",
       "\n",
       "  ADMISSION_TYPE         ADMISSION_LOCATION         DISCHARGE_LOCATION  \\\n",
       "0      EMERGENCY       EMERGENCY ROOM ADMIT               DEAD/EXPIRED   \n",
       "1      EMERGENCY  TRANSFER FROM HOSP/EXTRAM                        SNF   \n",
       "2       ELECTIVE  PHYS REFERRAL/NORMAL DELI                       HOME   \n",
       "3      EMERGENCY       EMERGENCY ROOM ADMIT  DISC-TRAN CANCER/CHLDRN H   \n",
       "4       ELECTIVE  PHYS REFERRAL/NORMAL DELI                       HOME   \n",
       "\n",
       "  INSURANCE LANGUAGE       RELIGION MARITAL_STATUS               ETHNICITY  \\\n",
       "0  Self Pay     HAIT  NOT SPECIFIED         SINGLE  BLACK/AFRICAN AMERICAN   \n",
       "1  Medicare      NaN       CATHOLIC        WIDOWED                   WHITE   \n",
       "2  Medicare     ENGL  NOT SPECIFIED        MARRIED                   WHITE   \n",
       "3  Medicare      NaN          OTHER        MARRIED                   WHITE   \n",
       "4   Private     ENGL       CATHOLIC         SINGLE   UNKNOWN/NOT SPECIFIED   \n",
       "\n",
       "             EDREGTIME            EDOUTTIME  \\\n",
       "0  2188-11-12 06:56:00  2188-11-12 10:10:00   \n",
       "1                  NaN                  NaN   \n",
       "2                  NaN                  NaN   \n",
       "3  2101-12-26 20:11:00  2101-12-27 01:50:00   \n",
       "4                  NaN                  NaN   \n",
       "\n",
       "                                           DIAGNOSIS  HOSPITAL_EXPIRE_FLAG  \\\n",
       "0                                   PNEUMONIA;R/O TB                     1   \n",
       "1             COMPLETE HEART BLOCK\\PACEMAKER IMPLANT                     0   \n",
       "2                   BENIGN PROSTATIC HYPERTROPHY/SDA                     0   \n",
       "3                                            HYPOXIA                     0   \n",
       "4  HYPERTROPHIC CARDIOMYOPATHY\\ETHANOL SEPTAL ABL...                     0   \n",
       "\n",
       "   HAS_CHARTEVENTS_DATA      ELAPSED_TIME  ELAPSED_DAYS  DEATHTAG  \n",
       "0                     1  10 days 02:38:00            10         1  \n",
       "1                     1   4 days 19:17:00             4         0  \n",
       "2                     1   3 days 00:00:00             3         0  \n",
       "3                     1  16 days 11:49:00            16         0  \n",
       "4                     1   3 days 00:47:00             3         0  "
      ],
      "text/html": "<div>\n<style scoped>\n    .dataframe tbody tr th:only-of-type {\n        vertical-align: middle;\n    }\n\n    .dataframe tbody tr th {\n        vertical-align: top;\n    }\n\n    .dataframe thead th {\n        text-align: right;\n    }\n</style>\n<table border=\"1\" class=\"dataframe\">\n  <thead>\n    <tr style=\"text-align: right;\">\n      <th></th>\n      <th>Unnamed: 0</th>\n      <th>SUBJECT_ID</th>\n      <th>DOBTIME</th>\n      <th>ROW_ID</th>\n      <th>HADM_ID</th>\n      <th>ADMITTIME</th>\n      <th>DISCHTIME</th>\n      <th>DEATHTIME</th>\n      <th>ADMISSION_TYPE</th>\n      <th>ADMISSION_LOCATION</th>\n      <th>DISCHARGE_LOCATION</th>\n      <th>INSURANCE</th>\n      <th>LANGUAGE</th>\n      <th>RELIGION</th>\n      <th>MARITAL_STATUS</th>\n      <th>ETHNICITY</th>\n      <th>EDREGTIME</th>\n      <th>EDOUTTIME</th>\n      <th>DIAGNOSIS</th>\n      <th>HOSPITAL_EXPIRE_FLAG</th>\n      <th>HAS_CHARTEVENTS_DATA</th>\n      <th>ELAPSED_TIME</th>\n      <th>ELAPSED_DAYS</th>\n      <th>DEATHTAG</th>\n    </tr>\n  </thead>\n  <tbody>\n    <tr>\n      <th>0</th>\n      <td>3</td>\n      <td>250</td>\n      <td>2164-12-27 00:00:00</td>\n      <td>324</td>\n      <td>124271</td>\n      <td>2188-11-12 09:22:00</td>\n      <td>2188-11-22 12:00:00</td>\n      <td>2188-11-22 12:00:00</td>\n      <td>EMERGENCY</td>\n      <td>EMERGENCY ROOM ADMIT</td>\n      <td>DEAD/EXPIRED</td>\n      <td>Self Pay</td>\n      <td>HAIT</td>\n      <td>NOT SPECIFIED</td>\n      <td>SINGLE</td>\n      <td>BLACK/AFRICAN AMERICAN</td>\n      <td>2188-11-12 06:56:00</td>\n      <td>2188-11-12 10:10:00</td>\n      <td>PNEUMONIA;R/O TB</td>\n      <td>1</td>\n      <td>1</td>\n      <td>10 days 02:38:00</td>\n      <td>10</td>\n      <td>1</td>\n    </tr>\n    <tr>\n      <th>1</th>\n      <td>7</td>\n      <td>253</td>\n      <td>2089-11-26 00:00:00</td>\n      <td>328</td>\n      <td>176189</td>\n      <td>2174-01-21 20:58:00</td>\n      <td>2174-01-26 16:15:00</td>\n      <td>NaN</td>\n      <td>EMERGENCY</td>\n      <td>TRANSFER FROM HOSP/EXTRAM</td>\n      <td>SNF</td>\n      <td>Medicare</td>\n      <td>NaN</td>\n      <td>CATHOLIC</td>\n      <td>WIDOWED</td>\n      <td>WHITE</td>\n      <td>NaN</td>\n      <td>NaN</td>\n      <td>COMPLETE HEART BLOCK\\PACEMAKER IMPLANT</td>\n      <td>0</td>\n      <td>1</td>\n      <td>4 days 19:17:00</td>\n      <td>4</td>\n      <td>0</td>\n    </tr>\n    <tr>\n      <th>2</th>\n      <td>8</td>\n      <td>255</td>\n      <td>2109-08-05 00:00:00</td>\n      <td>329</td>\n      <td>112013</td>\n      <td>2187-02-12 10:30:00</td>\n      <td>2187-02-15 10:30:00</td>\n      <td>NaN</td>\n      <td>ELECTIVE</td>\n      <td>PHYS REFERRAL/NORMAL DELI</td>\n      <td>HOME</td>\n      <td>Medicare</td>\n      <td>ENGL</td>\n      <td>NOT SPECIFIED</td>\n      <td>MARRIED</td>\n      <td>WHITE</td>\n      <td>NaN</td>\n      <td>NaN</td>\n      <td>BENIGN PROSTATIC HYPERTROPHY/SDA</td>\n      <td>0</td>\n      <td>1</td>\n      <td>3 days 00:00:00</td>\n      <td>3</td>\n      <td>0</td>\n    </tr>\n    <tr>\n      <th>3</th>\n      <td>16</td>\n      <td>261</td>\n      <td>2025-08-04 00:00:00</td>\n      <td>337</td>\n      <td>118523</td>\n      <td>2101-12-27 01:50:00</td>\n      <td>2102-01-12 13:39:00</td>\n      <td>NaN</td>\n      <td>EMERGENCY</td>\n      <td>EMERGENCY ROOM ADMIT</td>\n      <td>DISC-TRAN CANCER/CHLDRN H</td>\n      <td>Medicare</td>\n      <td>NaN</td>\n      <td>OTHER</td>\n      <td>MARRIED</td>\n      <td>WHITE</td>\n      <td>2101-12-26 20:11:00</td>\n      <td>2101-12-27 01:50:00</td>\n      <td>HYPOXIA</td>\n      <td>0</td>\n      <td>1</td>\n      <td>16 days 11:49:00</td>\n      <td>16</td>\n      <td>0</td>\n    </tr>\n    <tr>\n      <th>4</th>\n      <td>17</td>\n      <td>262</td>\n      <td>2090-01-05 00:00:00</td>\n      <td>338</td>\n      <td>106019</td>\n      <td>2153-09-25 18:01:00</td>\n      <td>2153-09-28 18:48:00</td>\n      <td>NaN</td>\n      <td>ELECTIVE</td>\n      <td>PHYS REFERRAL/NORMAL DELI</td>\n      <td>HOME</td>\n      <td>Private</td>\n      <td>ENGL</td>\n      <td>CATHOLIC</td>\n      <td>SINGLE</td>\n      <td>UNKNOWN/NOT SPECIFIED</td>\n      <td>NaN</td>\n      <td>NaN</td>\n      <td>HYPERTROPHIC CARDIOMYOPATHY\\ETHANOL SEPTAL ABL...</td>\n      <td>0</td>\n      <td>1</td>\n      <td>3 days 00:47:00</td>\n      <td>3</td>\n      <td>0</td>\n    </tr>\n  </tbody>\n</table>\n</div>"
     },
     "metadata": {},
     "execution_count": 4
    }
   ],
   "source": [
    "adm.head()"
   ]
  },
  {
   "cell_type": "markdown",
   "metadata": {},
   "source": [
    "We now consider the labevents dataset. We select only the patients with the same criteria as above."
   ]
  },
  {
   "cell_type": "code",
   "execution_count": 5,
   "metadata": {},
   "outputs": [
    {
     "output_type": "stream",
     "name": "stdout",
     "text": [
      "Number of patients remaining in the database: \n23418\n"
     ]
    }
   ],
   "source": [
    "lab=pd.read_csv(file_path+\"LABEVENTS.csv\")\n",
    "\n",
    "#Restrict the dataset to the previously selected admission ids only.\n",
    "adm_ids=list(adm[\"HADM_ID\"])\n",
    "lab=lab.loc[lab[\"HADM_ID\"].isin(adm_ids)]\n",
    "\n",
    "print(\"Number of patients remaining in the database: \")\n",
    "print(lab[\"SUBJECT_ID\"].nunique())"
   ]
  },
  {
   "cell_type": "markdown",
   "metadata": {},
   "source": [
    "We load the D_ITEMS dataframe which contains the name of the ITEMID. And we merge both tables together."
   ]
  },
  {
   "cell_type": "code",
   "execution_count": 6,
   "metadata": {},
   "outputs": [
    {
     "output_type": "stream",
     "name": "stdout",
     "text": [
      "Number of patients remaining in the database: \n23418\n"
     ]
    }
   ],
   "source": [
    "#item_id\n",
    "item_id=pd.read_csv(file_path+\"D_LABITEMS.csv\")\n",
    "item_id_1=item_id[[\"ITEMID\",\"LABEL\"]]\n",
    "item_id_1.head()\n",
    "\n",
    "#We merge the name of the item administrated.\n",
    "lab2=pd.merge(lab,item_id_1,on=\"ITEMID\")\n",
    "lab2.head()\n",
    "print(\"Number of patients remaining in the database: \")\n",
    "print(lab2[\"SUBJECT_ID\"].nunique())"
   ]
  },
  {
   "cell_type": "code",
   "execution_count": 7,
   "metadata": {},
   "outputs": [
    {
     "output_type": "stream",
     "name": "stdout",
     "text": [
      "Number of patients remaining in the database: \n23418\n"
     ]
    }
   ],
   "source": [
    "n_best=150\n",
    "#For each item, evaluate the number of patients who have been given this item.\n",
    "pat_for_item=lab2.groupby(\"LABEL\")[\"SUBJECT_ID\"].nunique()\n",
    "#Order by occurence and take the 20 best (the ones with the most patients)\n",
    "frequent_labels=pat_for_item.sort_values(ascending=False)[:n_best]\n",
    "\n",
    "#Select only the time series with high occurence.\n",
    "lab3=lab2.loc[lab2[\"LABEL\"].isin(list(frequent_labels.index))].copy()\n",
    "\n",
    "print(\"Number of patients remaining in the database: \")\n",
    "print(lab3[\"SUBJECT_ID\"].nunique())"
   ]
  },
  {
   "cell_type": "markdown",
   "metadata": {},
   "source": [
    "### Units Cleaning\n",
    "\n",
    "#### 1) In amounts"
   ]
  },
  {
   "cell_type": "code",
   "execution_count": 8,
   "metadata": {},
   "outputs": [
    {
     "output_type": "stream",
     "name": "stdout",
     "text": [
      "LABEL                                VALUEUOM\n% Hemoglobin A1c                     %             4484\nAcetaminophen                        ug/mL         3507\nAlanine Aminotransferase (ALT)       IU/L         56771\nAlbumin                              g/dL         37366\nAlkaline Phosphatase                 IU/L         54975\nAlveolar-arterial Gradient           mm Hg         7446\nAmylase                              IU/L         20973\nAnion Gap                            mEq/L       250362\nAsparate Aminotransferase (AST)      IU/L         56708\nAtypical Lymphocytes                 %            12255\nBands                                %            16712\nBase Excess                          mEq/L       223138\nBasophils                            %            38033\nBicarbonate                          mEq/L       256363\nBilirubin                            EU/dL        17596\n                                     mg/dL        11891\nBilirubin, Direct                    mg/dL         4619\nBilirubin, Indirect                  mg/dL         4339\nBilirubin, Total                     mg/dL        56964\nBlood                                mg/dL         5688\nCK-MB Index                          %            10557\nCalcium, Total                       mg/dL       196865\nCalculated Bicarbonate, Whole Blood  mEq/L         4013\nCalculated Total CO2                 mEq/L       213439\n                                     MEQ/L         9687\nChloride                             mEq/L       263518\nChloride, Urine                      mEq/L         3727\nChloride, Whole Blood                mEq/L        24036\nCholesterol Ratio (Total/HDL)        Ratio         3702\nCholesterol, HDL                     mg/dL         3722\nCholesterol, LDL, Calculated         mg/dL         3508\nCholesterol, Total                   mg/dL         3988\nCortisol                             ug/dL         4386\nCreatine Kinase (CK)                 IU/L         44416\nCreatine Kinase, MB Isoenzyme        ng/mL        39424\nCreatinine                           mg/dL       265620\nCreatinine, Urine                    mg/dL         9294\nD-Dimer                              ng/mL         1778\nEosinophils                          %            38634\nEpithelial Cells                     #/hpf        26253\nEthanol                              mg/dL         3389\nFerritin                             ng/mL         3967\n                                     ng/ml          315\nFibrinogen, Functional               mg/dL        19195\nFolate                               ng/mL         2215\nFree Calcium                         mmol/L      121988\nGlucose                              mg/dL       387800\nGranular Casts                       #/lpf         2427\nHaptoglobin                          mg/dL         3428\n                                     MG/DL          360\nHematocrit                           %           300108\nHematocrit, Calculated               %            50143\nHemoglobin                           g/dL        296779\nHyaline Casts                        #/lpf         5114\nIron                                 ug/dL         4472\nIron Binding Capacity, Total         ug/dL         4301\nKetone                               mg/dL        30453\nLactate                              mmol/L       79064\nLactate Dehydrogenase (LD)           IU/L         30548\nLipase                               IU/L         21161\nLymphocytes                          %            40360\nMCH                                  pg          244834\nMCHC                                 %           244894\nMCV                                  fL          244832\nMagnesium                            mg/dL       237650\nMetamyelocytes                       %            12092\nMonocytes                            %            40228\nMyelocytes                           %            12070\nNTproBNP                             pg/mL         1666\nNeutrophils                          %            37915\nO2 Flow                              L/min         5165\nOsmolality, Measured                 mOsm/kg       8693\n                                     MOSM/KG        451\n                                     MOSM/L         224\nOsmolality, Urine                    mOsm/kg       6800\nOxygen                               %            29037\nOxygen Saturation                    %            68696\nPT                                   sec         149786\n                                     SECONDS      12629\nPTT                                  sec         173953\nPhenytoin                            ug/mL        10112\nPhosphate                            mg/dL       198645\nPlatelet Count                       K/uL        254753\nPolys                                %             3769\nPotassium                            mEq/L       280697\nPotassium, Urine                     mEq/L         4162\nPotassium, Whole Blood               mEq/L       102517\nProtein                              mg/dL        32217\nProtein, Total                       g/dL          1733\nRBC                                  #/hpf        26669\nRDW                                  %           244318\nRed Blood Cells                      m/uL        244837\nReticulocyte Count, Automated        %             2540\nSalicylate                           mg/dL         3229\nSedimentation Rate                   mm/hr         1574\nSodium                               mEq/L       267473\nSodium, Urine                        mEq/L         9101\nSodium, Whole Blood                  mEq/L        38621\nSpecific Gravity                                  36412\nThyroid Stimulating Hormone          uIU/mL        5654\n                                     uU/ML          720\nTransferrin                          mg/dL         4313\nTransitional Epithelial Cells        #/hpf         1579\nTriglycerides                        mg/dL         4705\n                                     MG/DL          855\nTroponin I                           ng/ml         4259\nTroponin T                           ng/mL        23457\n                                     ng/ml         3726\nUrea Nitrogen                        mg/dL       264389\nUrea Nitrogen, Urine                 mg/dL         4505\nUric Acid                            mg/dL         3739\nUrobilinogen                         mg/dL        19523\n                                     EU/dL        10960\nVancomycin                           ug/mL        15205\nVitamin B12                          pg/mL         3045\nWBC                                  #/hpf        26856\nWhite Blood Cells                    K/uL        246727\npCO2                                 mm Hg       213504\n                                     MM HG         9602\npH                                   units       269235\n                                     UNITS        11404\npO2                                  mm Hg       213521\n                                     MM HG         9602\nName: VALUEUOM, dtype: int64\n"
     ]
    }
   ],
   "source": [
    "#Verification that all input labels have the same amounts units.\n",
    "print(lab3.groupby(\"LABEL\")[\"VALUEUOM\"].value_counts())\n",
    "\n",
    "#Correct the units\n",
    "lab3.loc[lab3[\"LABEL\"]==\"Calculated Total CO2\",\"VALUEUOM\"]=\"mEq/L\"\n",
    "lab3.loc[lab3[\"LABEL\"]==\"PT\",\"VALUEUOM\"]=\"sec\"\n",
    "lab3.loc[lab3[\"LABEL\"]==\"pCO2\",\"VALUEUOM\"]=\"mm Hg\"\n",
    "lab3.loc[lab3[\"LABEL\"]==\"pH\",\"VALUEUOM\"]=\"units\"\n",
    "lab3.loc[lab3[\"LABEL\"]==\"pO2\",\"VALUEUOM\"]=\"mm Hg\""
   ]
  },
  {
   "cell_type": "code",
   "execution_count": 9,
   "metadata": {},
   "outputs": [],
   "source": [
    "#Only select the subset that was used in the paper (only missing is INR(PT))\n",
    "subset=[\"Albumin\",\"Alanine Aminotransferase (ALT)\",\"Alkaline Phosphatase\",\"Anion Gap\",\"Asparate Aminotransferase (AST)\",\"Base Excess\",\"Basophils\",\"Bicarbonate\",\"Bilirubin, Total\",\"Calcium, Total\",\"Calculated Total CO2\",\"Chloride\",\"Creatinine\",\"Eosinophils\",\"Glucose\",\"Hematocrit\",\"Hemoglobin\",\n",
    "\"Lactate\",\"Lymphocytes\",\"MCH\",\"MCHC\",\"MCV\",\"Magnesium\",\"Monocytes\",\"Neutrophils\",\"PT\",\"PTT\",\"Phosphate\",\"Platelet Count\",\"Potassium\",\"RDW\",\"Red Blood Cells\",\"Sodium\",\"Specific Gravity\",\"Urea Nitrogen\",\"White Blood Cells\",\"pCO2\",\"pH\",\"pO2\"]\n",
    "\n",
    "lab3=lab3.loc[lab3[\"LABEL\"].isin(subset)].copy()\n"
   ]
  },
  {
   "cell_type": "markdown",
   "metadata": {},
   "source": [
    "### Check for outliers\n",
    "\n",
    "#### 1) In amounts"
   ]
  },
  {
   "cell_type": "code",
   "execution_count": 10,
   "metadata": {},
   "outputs": [
    {
     "output_type": "execute_result",
     "data": {
      "text/plain": [
       "                                    count        mean          std      min  \\\n",
       "LABEL                                                                         \n",
       "Alanine Aminotransferase (ALT)    56767.0  220.221912   818.161372    0.000   \n",
       "Albumin                           37358.0    3.035668     0.695180    1.000   \n",
       "Alkaline Phosphatase              54975.0  140.230341   165.232238    0.000   \n",
       "Anion Gap                        250378.0   13.503702     3.638658   -6.000   \n",
       "Asparate Aminotransferase (AST)   56708.0  243.030472  1050.164745    0.000   \n",
       "Base Excess                      223110.0   -0.015864     4.870077 -413.000   \n",
       "Basophils                         38033.0    0.296372     0.486295    0.000   \n",
       "Bicarbonate                      256337.0   25.351605     4.665601    2.000   \n",
       "Bilirubin, Total                  56960.0    3.330205     6.660632    0.000   \n",
       "Calcium, Total                   196861.0    8.387876     0.791130    0.000   \n",
       "Calculated Total CO2             223114.0   25.887735     5.354913    0.000   \n",
       "Chloride                         263521.0  104.013433     6.048956   39.000   \n",
       "Creatinine                       265601.0    1.338388     1.356336    0.000   \n",
       "Eosinophils                       38634.0    1.530233     2.907665    0.000   \n",
       "Glucose                          360949.0  135.896352    72.165565 -251.000   \n",
       "Hematocrit                       300095.0   30.888162     5.166604    0.000   \n",
       "Hemoglobin                       296749.0   10.519762     1.919812    0.000   \n",
       "Lactate                           79042.0    2.587442     2.480977    0.100   \n",
       "Lymphocytes                       40359.0   14.231998    13.029516    0.000   \n",
       "MCH                              244709.0   30.286463     2.351838    0.000   \n",
       "MCHC                             244844.0   33.825413     1.498184    0.000   \n",
       "MCV                              244704.0   89.613149     6.281078    0.000   \n",
       "Magnesium                        237650.0    2.049438     0.405154    0.000   \n",
       "Monocytes                         40228.0    5.480839     6.361556    0.000   \n",
       "Neutrophils                       37915.0   76.377352    16.234455    0.000   \n",
       "PT                               162381.0   16.178182     6.972080    7.000   \n",
       "PTT                              173518.0   43.993670    25.507155    0.150   \n",
       "Phosphate                        198645.0    3.477487     1.286130    0.000   \n",
       "Platelet Count                   254717.0  237.352042   146.191717    4.000   \n",
       "Potassium                        280607.0    4.084886     0.623854    0.800   \n",
       "RDW                              244199.0   15.144905     2.148347    0.000   \n",
       "Red Blood Cells                  244713.0    3.501585     0.632873    0.000   \n",
       "Sodium                           267476.0  138.666493     4.998076   74.000   \n",
       "Specific Gravity                  35441.0    1.016648     0.009964    0.015   \n",
       "Urea Nitrogen                    264396.0   26.498398    21.558703    0.000   \n",
       "White Blood Cells                246687.0   11.489575     8.077706    0.100   \n",
       "pCO2                             223095.0   41.802743    10.054990    0.000   \n",
       "pH                               280910.0    7.191423     0.616787    0.940   \n",
       "pO2                              223106.0  151.722329   102.264953    0.000   \n",
       "\n",
       "                                    25%      50%      75%       max  \n",
       "LABEL                                                                \n",
       "Alanine Aminotransferase (ALT)    21.00   40.000   97.000  25460.00  \n",
       "Albumin                            2.50    3.000    3.500      6.40  \n",
       "Alkaline Phosphatase              66.00   94.000  151.000   4695.00  \n",
       "Anion Gap                         11.00   13.000   15.000     67.00  \n",
       "Asparate Aminotransferase (AST)   26.00   48.000  106.000  36400.00  \n",
       "Base Excess                       -2.00    0.000    2.000    162.00  \n",
       "Basophils                          0.00    0.200    0.400     40.00  \n",
       "Bicarbonate                       23.00   25.000   28.000     53.00  \n",
       "Bilirubin, Total                   0.50    0.900    2.600     82.80  \n",
       "Calcium, Total                     7.90    8.400    8.800     31.20  \n",
       "Calculated Total CO2              23.00   26.000   29.000    231.00  \n",
       "Chloride                         100.00  104.000  108.000    155.00  \n",
       "Creatinine                         0.70    0.900    1.400     73.00  \n",
       "Eosinophils                        0.10    0.800    2.000     97.00  \n",
       "Glucose                          102.00  122.000  150.000   2590.00  \n",
       "Hematocrit                        27.30   30.300   33.900     77.70  \n",
       "Hemoglobin                         9.20   10.300   11.600    130.00  \n",
       "Lactate                            1.20    1.800    2.900     36.00  \n",
       "Lymphocytes                        6.00   10.900   18.000    100.00  \n",
       "MCH                               29.10   30.400   31.600     48.00  \n",
       "MCHC                              32.90   33.900   34.800     40.00  \n",
       "MCV                               86.00   89.000   93.000    139.00  \n",
       "Magnesium                          1.80    2.000    2.200     37.50  \n",
       "Monocytes                          2.90    4.300    6.100    100.00  \n",
       "Neutrophils                       70.90   80.100   87.000    100.00  \n",
       "PT                                13.10   14.200   16.500    150.00  \n",
       "PTT                               27.80   33.800   51.800    162.60  \n",
       "Phosphate                          2.70    3.300    4.000     32.80  \n",
       "Platelet Count                   141.00  209.000  297.000   2813.00  \n",
       "Potassium                          3.70    4.000    4.400     97.00  \n",
       "RDW                               13.60   14.600   16.100     34.40  \n",
       "Red Blood Cells                    3.06    3.430    3.880      8.44  \n",
       "Sodium                           136.00  139.000  141.000    184.00  \n",
       "Specific Gravity                   1.01    1.015    1.021      1.08  \n",
       "Urea Nitrogen                     13.00   20.000   32.000    280.00  \n",
       "White Blood Cells                  7.60   10.300   13.800    600.20  \n",
       "pCO2                              36.00   40.000   46.000    247.00  \n",
       "pH                                 7.31    7.380    7.430     10.00  \n",
       "pO2                               85.00  115.000  175.000    797.00  "
      ],
      "text/html": "<div>\n<style scoped>\n    .dataframe tbody tr th:only-of-type {\n        vertical-align: middle;\n    }\n\n    .dataframe tbody tr th {\n        vertical-align: top;\n    }\n\n    .dataframe thead th {\n        text-align: right;\n    }\n</style>\n<table border=\"1\" class=\"dataframe\">\n  <thead>\n    <tr style=\"text-align: right;\">\n      <th></th>\n      <th>count</th>\n      <th>mean</th>\n      <th>std</th>\n      <th>min</th>\n      <th>25%</th>\n      <th>50%</th>\n      <th>75%</th>\n      <th>max</th>\n    </tr>\n    <tr>\n      <th>LABEL</th>\n      <th></th>\n      <th></th>\n      <th></th>\n      <th></th>\n      <th></th>\n      <th></th>\n      <th></th>\n      <th></th>\n    </tr>\n  </thead>\n  <tbody>\n    <tr>\n      <th>Alanine Aminotransferase (ALT)</th>\n      <td>56767.0</td>\n      <td>220.221912</td>\n      <td>818.161372</td>\n      <td>0.000</td>\n      <td>21.00</td>\n      <td>40.000</td>\n      <td>97.000</td>\n      <td>25460.00</td>\n    </tr>\n    <tr>\n      <th>Albumin</th>\n      <td>37358.0</td>\n      <td>3.035668</td>\n      <td>0.695180</td>\n      <td>1.000</td>\n      <td>2.50</td>\n      <td>3.000</td>\n      <td>3.500</td>\n      <td>6.40</td>\n    </tr>\n    <tr>\n      <th>Alkaline Phosphatase</th>\n      <td>54975.0</td>\n      <td>140.230341</td>\n      <td>165.232238</td>\n      <td>0.000</td>\n      <td>66.00</td>\n      <td>94.000</td>\n      <td>151.000</td>\n      <td>4695.00</td>\n    </tr>\n    <tr>\n      <th>Anion Gap</th>\n      <td>250378.0</td>\n      <td>13.503702</td>\n      <td>3.638658</td>\n      <td>-6.000</td>\n      <td>11.00</td>\n      <td>13.000</td>\n      <td>15.000</td>\n      <td>67.00</td>\n    </tr>\n    <tr>\n      <th>Asparate Aminotransferase (AST)</th>\n      <td>56708.0</td>\n      <td>243.030472</td>\n      <td>1050.164745</td>\n      <td>0.000</td>\n      <td>26.00</td>\n      <td>48.000</td>\n      <td>106.000</td>\n      <td>36400.00</td>\n    </tr>\n    <tr>\n      <th>Base Excess</th>\n      <td>223110.0</td>\n      <td>-0.015864</td>\n      <td>4.870077</td>\n      <td>-413.000</td>\n      <td>-2.00</td>\n      <td>0.000</td>\n      <td>2.000</td>\n      <td>162.00</td>\n    </tr>\n    <tr>\n      <th>Basophils</th>\n      <td>38033.0</td>\n      <td>0.296372</td>\n      <td>0.486295</td>\n      <td>0.000</td>\n      <td>0.00</td>\n      <td>0.200</td>\n      <td>0.400</td>\n      <td>40.00</td>\n    </tr>\n    <tr>\n      <th>Bicarbonate</th>\n      <td>256337.0</td>\n      <td>25.351605</td>\n      <td>4.665601</td>\n      <td>2.000</td>\n      <td>23.00</td>\n      <td>25.000</td>\n      <td>28.000</td>\n      <td>53.00</td>\n    </tr>\n    <tr>\n      <th>Bilirubin, Total</th>\n      <td>56960.0</td>\n      <td>3.330205</td>\n      <td>6.660632</td>\n      <td>0.000</td>\n      <td>0.50</td>\n      <td>0.900</td>\n      <td>2.600</td>\n      <td>82.80</td>\n    </tr>\n    <tr>\n      <th>Calcium, Total</th>\n      <td>196861.0</td>\n      <td>8.387876</td>\n      <td>0.791130</td>\n      <td>0.000</td>\n      <td>7.90</td>\n      <td>8.400</td>\n      <td>8.800</td>\n      <td>31.20</td>\n    </tr>\n    <tr>\n      <th>Calculated Total CO2</th>\n      <td>223114.0</td>\n      <td>25.887735</td>\n      <td>5.354913</td>\n      <td>0.000</td>\n      <td>23.00</td>\n      <td>26.000</td>\n      <td>29.000</td>\n      <td>231.00</td>\n    </tr>\n    <tr>\n      <th>Chloride</th>\n      <td>263521.0</td>\n      <td>104.013433</td>\n      <td>6.048956</td>\n      <td>39.000</td>\n      <td>100.00</td>\n      <td>104.000</td>\n      <td>108.000</td>\n      <td>155.00</td>\n    </tr>\n    <tr>\n      <th>Creatinine</th>\n      <td>265601.0</td>\n      <td>1.338388</td>\n      <td>1.356336</td>\n      <td>0.000</td>\n      <td>0.70</td>\n      <td>0.900</td>\n      <td>1.400</td>\n      <td>73.00</td>\n    </tr>\n    <tr>\n      <th>Eosinophils</th>\n      <td>38634.0</td>\n      <td>1.530233</td>\n      <td>2.907665</td>\n      <td>0.000</td>\n      <td>0.10</td>\n      <td>0.800</td>\n      <td>2.000</td>\n      <td>97.00</td>\n    </tr>\n    <tr>\n      <th>Glucose</th>\n      <td>360949.0</td>\n      <td>135.896352</td>\n      <td>72.165565</td>\n      <td>-251.000</td>\n      <td>102.00</td>\n      <td>122.000</td>\n      <td>150.000</td>\n      <td>2590.00</td>\n    </tr>\n    <tr>\n      <th>Hematocrit</th>\n      <td>300095.0</td>\n      <td>30.888162</td>\n      <td>5.166604</td>\n      <td>0.000</td>\n      <td>27.30</td>\n      <td>30.300</td>\n      <td>33.900</td>\n      <td>77.70</td>\n    </tr>\n    <tr>\n      <th>Hemoglobin</th>\n      <td>296749.0</td>\n      <td>10.519762</td>\n      <td>1.919812</td>\n      <td>0.000</td>\n      <td>9.20</td>\n      <td>10.300</td>\n      <td>11.600</td>\n      <td>130.00</td>\n    </tr>\n    <tr>\n      <th>Lactate</th>\n      <td>79042.0</td>\n      <td>2.587442</td>\n      <td>2.480977</td>\n      <td>0.100</td>\n      <td>1.20</td>\n      <td>1.800</td>\n      <td>2.900</td>\n      <td>36.00</td>\n    </tr>\n    <tr>\n      <th>Lymphocytes</th>\n      <td>40359.0</td>\n      <td>14.231998</td>\n      <td>13.029516</td>\n      <td>0.000</td>\n      <td>6.00</td>\n      <td>10.900</td>\n      <td>18.000</td>\n      <td>100.00</td>\n    </tr>\n    <tr>\n      <th>MCH</th>\n      <td>244709.0</td>\n      <td>30.286463</td>\n      <td>2.351838</td>\n      <td>0.000</td>\n      <td>29.10</td>\n      <td>30.400</td>\n      <td>31.600</td>\n      <td>48.00</td>\n    </tr>\n    <tr>\n      <th>MCHC</th>\n      <td>244844.0</td>\n      <td>33.825413</td>\n      <td>1.498184</td>\n      <td>0.000</td>\n      <td>32.90</td>\n      <td>33.900</td>\n      <td>34.800</td>\n      <td>40.00</td>\n    </tr>\n    <tr>\n      <th>MCV</th>\n      <td>244704.0</td>\n      <td>89.613149</td>\n      <td>6.281078</td>\n      <td>0.000</td>\n      <td>86.00</td>\n      <td>89.000</td>\n      <td>93.000</td>\n      <td>139.00</td>\n    </tr>\n    <tr>\n      <th>Magnesium</th>\n      <td>237650.0</td>\n      <td>2.049438</td>\n      <td>0.405154</td>\n      <td>0.000</td>\n      <td>1.80</td>\n      <td>2.000</td>\n      <td>2.200</td>\n      <td>37.50</td>\n    </tr>\n    <tr>\n      <th>Monocytes</th>\n      <td>40228.0</td>\n      <td>5.480839</td>\n      <td>6.361556</td>\n      <td>0.000</td>\n      <td>2.90</td>\n      <td>4.300</td>\n      <td>6.100</td>\n      <td>100.00</td>\n    </tr>\n    <tr>\n      <th>Neutrophils</th>\n      <td>37915.0</td>\n      <td>76.377352</td>\n      <td>16.234455</td>\n      <td>0.000</td>\n      <td>70.90</td>\n      <td>80.100</td>\n      <td>87.000</td>\n      <td>100.00</td>\n    </tr>\n    <tr>\n      <th>PT</th>\n      <td>162381.0</td>\n      <td>16.178182</td>\n      <td>6.972080</td>\n      <td>7.000</td>\n      <td>13.10</td>\n      <td>14.200</td>\n      <td>16.500</td>\n      <td>150.00</td>\n    </tr>\n    <tr>\n      <th>PTT</th>\n      <td>173518.0</td>\n      <td>43.993670</td>\n      <td>25.507155</td>\n      <td>0.150</td>\n      <td>27.80</td>\n      <td>33.800</td>\n      <td>51.800</td>\n      <td>162.60</td>\n    </tr>\n    <tr>\n      <th>Phosphate</th>\n      <td>198645.0</td>\n      <td>3.477487</td>\n      <td>1.286130</td>\n      <td>0.000</td>\n      <td>2.70</td>\n      <td>3.300</td>\n      <td>4.000</td>\n      <td>32.80</td>\n    </tr>\n    <tr>\n      <th>Platelet Count</th>\n      <td>254717.0</td>\n      <td>237.352042</td>\n      <td>146.191717</td>\n      <td>4.000</td>\n      <td>141.00</td>\n      <td>209.000</td>\n      <td>297.000</td>\n      <td>2813.00</td>\n    </tr>\n    <tr>\n      <th>Potassium</th>\n      <td>280607.0</td>\n      <td>4.084886</td>\n      <td>0.623854</td>\n      <td>0.800</td>\n      <td>3.70</td>\n      <td>4.000</td>\n      <td>4.400</td>\n      <td>97.00</td>\n    </tr>\n    <tr>\n      <th>RDW</th>\n      <td>244199.0</td>\n      <td>15.144905</td>\n      <td>2.148347</td>\n      <td>0.000</td>\n      <td>13.60</td>\n      <td>14.600</td>\n      <td>16.100</td>\n      <td>34.40</td>\n    </tr>\n    <tr>\n      <th>Red Blood Cells</th>\n      <td>244713.0</td>\n      <td>3.501585</td>\n      <td>0.632873</td>\n      <td>0.000</td>\n      <td>3.06</td>\n      <td>3.430</td>\n      <td>3.880</td>\n      <td>8.44</td>\n    </tr>\n    <tr>\n      <th>Sodium</th>\n      <td>267476.0</td>\n      <td>138.666493</td>\n      <td>4.998076</td>\n      <td>74.000</td>\n      <td>136.00</td>\n      <td>139.000</td>\n      <td>141.000</td>\n      <td>184.00</td>\n    </tr>\n    <tr>\n      <th>Specific Gravity</th>\n      <td>35441.0</td>\n      <td>1.016648</td>\n      <td>0.009964</td>\n      <td>0.015</td>\n      <td>1.01</td>\n      <td>1.015</td>\n      <td>1.021</td>\n      <td>1.08</td>\n    </tr>\n    <tr>\n      <th>Urea Nitrogen</th>\n      <td>264396.0</td>\n      <td>26.498398</td>\n      <td>21.558703</td>\n      <td>0.000</td>\n      <td>13.00</td>\n      <td>20.000</td>\n      <td>32.000</td>\n      <td>280.00</td>\n    </tr>\n    <tr>\n      <th>White Blood Cells</th>\n      <td>246687.0</td>\n      <td>11.489575</td>\n      <td>8.077706</td>\n      <td>0.100</td>\n      <td>7.60</td>\n      <td>10.300</td>\n      <td>13.800</td>\n      <td>600.20</td>\n    </tr>\n    <tr>\n      <th>pCO2</th>\n      <td>223095.0</td>\n      <td>41.802743</td>\n      <td>10.054990</td>\n      <td>0.000</td>\n      <td>36.00</td>\n      <td>40.000</td>\n      <td>46.000</td>\n      <td>247.00</td>\n    </tr>\n    <tr>\n      <th>pH</th>\n      <td>280910.0</td>\n      <td>7.191423</td>\n      <td>0.616787</td>\n      <td>0.940</td>\n      <td>7.31</td>\n      <td>7.380</td>\n      <td>7.430</td>\n      <td>10.00</td>\n    </tr>\n    <tr>\n      <th>pO2</th>\n      <td>223106.0</td>\n      <td>151.722329</td>\n      <td>102.264953</td>\n      <td>0.000</td>\n      <td>85.00</td>\n      <td>115.000</td>\n      <td>175.000</td>\n      <td>797.00</td>\n    </tr>\n  </tbody>\n</table>\n</div>"
     },
     "metadata": {},
     "execution_count": 10
    }
   ],
   "source": [
    "lab3.groupby(\"LABEL\")[\"VALUENUM\"].describe()"
   ]
  },
  {
   "cell_type": "code",
   "execution_count": 11,
   "metadata": {},
   "outputs": [],
   "source": [
    "#Glucose : mettre -1 aux résultats négatifs et supprimer les autres entrées dont la valeur numérique est NaN.\n",
    "lab3.loc[(lab3[\"LABEL\"]==\"Glucose\")&(lab3[\"VALUENUM\"].isnull())&(lab3[\"VALUE\"]==\"NEG\"),\"VALUENUM\"]=-1\n",
    "lab3=lab3.drop(lab3.loc[(lab3[\"LABEL\"]==\"Glucose\")&(lab3[\"VALUENUM\"].isnull())].index).copy()\n",
    "\n",
    "#Retirer les entrées avec NaN aux values et valuenum\n",
    "lab3=lab3.drop(lab3.loc[(lab3[\"VALUENUM\"].isnull())&(lab3[\"VALUE\"].isnull())].index).copy()\n",
    "\n",
    "#Remove the remaining NAN Values\n",
    "lab3=lab3.drop(lab3.loc[(lab3[\"VALUENUM\"].isnull())].index).copy()\n",
    "\n",
    "#Remove anion gaps lower than 0\n",
    "lab3=lab3.drop(lab3.loc[(lab3[\"VALUENUM\"]<0)&(lab3[\"LABEL\"]==\"Anion Gap\")].index).copy()\n",
    "\n",
    "#Remove BE <-50\n",
    "lab3=lab3.drop(lab3.loc[(lab3[\"LABEL\"]==\"Base Excess\")&(lab3[\"VALUENUM\"]<-50)].index).copy()\n",
    "#Remove BE >50\n",
    "lab3=lab3.drop(lab3.loc[(lab3[\"LABEL\"]==\"Base Excess\")&(lab3[\"VALUENUM\"]>50)].index).copy()\n",
    "\n",
    "#Remove high Hemoglobins\n",
    "lab3=lab3.drop(lab3.loc[(lab3[\"LABEL\"]==\"Hemoglobin\")&(lab3[\"VALUENUM\"]>25)].index).copy()\n",
    "\n",
    "#Clean some glucose entries\n",
    "lab3=lab3.drop(lab3.loc[(lab3[\"LABEL\"]==\"Glucose\")&(lab3[\"VALUENUM\"]>2000)&(lab3[\"HADM_ID\"]==103500.0)].index).copy()\n",
    "lab3=lab3.drop(lab3.loc[(lab3[\"LABEL\"]==\"Glucose\")&(lab3[\"VALUENUM\"]>2000)&(lab3[\"HADM_ID\"]==117066.0)].index).copy()\n",
    "\n",
    "#Clean toO high levels of Potassium\n",
    "lab3=lab3.drop(lab3.loc[(lab3[\"LABEL\"]==\"Potassium\")&(lab3[\"VALUENUM\"]>30)].index).copy()\n"
   ]
  },
  {
   "cell_type": "code",
   "execution_count": 12,
   "metadata": {},
   "outputs": [],
   "source": [
    "lab3.to_csv(file_path+\"LAB_processed.csv\")"
   ]
  },
  {
   "cell_type": "code",
   "execution_count": 13,
   "metadata": {},
   "outputs": [],
   "source": [
    "#Merge the admission time.\n",
    "adm_short=adm[[\"HADM_ID\",\"ADMITTIME\",\"ELAPSED_TIME\",\"DEATHTAG\"]]\n",
    "lab4=pd.merge(lab3,adm_short,on=\"HADM_ID\")\n",
    "lab4['CHARTTIME']=pd.to_datetime(lab4[\"CHARTTIME\"], format='%Y-%m-%d %H:%M:%S')\n",
    "#lab4['ADMITTIME']=pd.to_datetime(lab4[\"ADMITTIME\"], format='%Y-%m-%d %H:%M:%S')"
   ]
  },
  {
   "cell_type": "code",
   "execution_count": 14,
   "metadata": {},
   "outputs": [],
   "source": [
    "#Set the reference time as the admission time for each admission.\n",
    "ref_time=lab4.groupby(\"HADM_ID\")[\"CHARTTIME\"].min()\n",
    "#ref_time=lab4.groupby(\"HADM_ID\")[\"ADMITTIME\"].min()\n",
    "lab5=pd.merge(ref_time.to_frame(name=\"REF_TIME\"),lab4,left_index=True,right_on=\"HADM_ID\")\n",
    "lab5[\"TIME_STAMP\"]=lab5[\"CHARTTIME\"]-lab5[\"REF_TIME\"]\n",
    "assert(len(lab5.loc[lab5[\"TIME_STAMP\"]<timedelta(hours=0)].index)==0)"
   ]
  },
  {
   "cell_type": "code",
   "execution_count": 15,
   "metadata": {},
   "outputs": [],
   "source": [
    "#Create a label code (int) for the labels.\n",
    "label_dict=dict(zip(list(lab5[\"LABEL\"].unique()),range(len(list(lab5[\"LABEL\"].unique())))))\n",
    "lab5[\"LABEL_CODE\"]=lab5[\"LABEL\"].map(label_dict)\n",
    "lab_short=lab5[[\"SUBJECT_ID\",\"HADM_ID\",\"VALUENUM\",\"TIME_STAMP\",\"LABEL_CODE\",\"DEATHTAG\"]]\n"
   ]
  },
  {
   "cell_type": "markdown",
   "metadata": {},
   "source": [
    "#### Time binning of the data\n",
    "First we select the data up to a certain time limit (48 hours)"
   ]
  },
  {
   "cell_type": "code",
   "execution_count": 16,
   "metadata": {},
   "outputs": [
    {
     "output_type": "stream",
     "name": "stdout",
     "text": [
      "Number of patients considered :23418\n"
     ]
    }
   ],
   "source": [
    "#Now only select values within 48 hours.\n",
    "lab_short=lab_short.loc[(lab_short[\"TIME_STAMP\"]<timedelta(hours=48))]\n",
    "print(\"Number of patients considered :\"+str(lab_short[\"SUBJECT_ID\"].nunique()))"
   ]
  },
  {
   "cell_type": "code",
   "execution_count": 17,
   "metadata": {},
   "outputs": [
    {
     "output_type": "display_data",
     "data": {
      "text/plain": "<Figure size 432x288 with 1 Axes>",
      "image/svg+xml": "<?xml version=\"1.0\" encoding=\"utf-8\" standalone=\"no\"?>\r\n<!DOCTYPE svg PUBLIC \"-//W3C//DTD SVG 1.1//EN\"\r\n  \"http://www.w3.org/Graphics/SVG/1.1/DTD/svg11.dtd\">\r\n<!-- Created with matplotlib (https://matplotlib.org/) -->\r\n<svg height=\"277.314375pt\" version=\"1.1\" viewBox=\"0 0 398.50625 277.314375\" width=\"398.50625pt\" xmlns=\"http://www.w3.org/2000/svg\" xmlns:xlink=\"http://www.w3.org/1999/xlink\">\r\n <metadata>\r\n  <rdf:RDF xmlns:cc=\"http://creativecommons.org/ns#\" xmlns:dc=\"http://purl.org/dc/elements/1.1/\" xmlns:rdf=\"http://www.w3.org/1999/02/22-rdf-syntax-ns#\">\r\n   <cc:Work>\r\n    <dc:type rdf:resource=\"http://purl.org/dc/dcmitype/StillImage\"/>\r\n    <dc:date>2021-01-17T02:45:09.238607</dc:date>\r\n    <dc:format>image/svg+xml</dc:format>\r\n    <dc:creator>\r\n     <cc:Agent>\r\n      <dc:title>Matplotlib v3.3.2, https://matplotlib.org/</dc:title>\r\n     </cc:Agent>\r\n    </dc:creator>\r\n   </cc:Work>\r\n  </rdf:RDF>\r\n </metadata>\r\n <defs>\r\n  <style type=\"text/css\">*{stroke-linecap:butt;stroke-linejoin:round;}</style>\r\n </defs>\r\n <g id=\"figure_1\">\r\n  <g id=\"patch_1\">\r\n   <path d=\"M 0 277.314375 \r\nL 398.50625 277.314375 \r\nL 398.50625 0 \r\nL 0 0 \r\nz\r\n\" style=\"fill:none;\"/>\r\n  </g>\r\n  <g id=\"axes_1\">\r\n   <g id=\"patch_2\">\r\n    <path d=\"M 56.50625 239.758125 \r\nL 391.30625 239.758125 \r\nL 391.30625 22.318125 \r\nL 56.50625 22.318125 \r\nz\r\n\" style=\"fill:#ffffff;\"/>\r\n   </g>\r\n   <g id=\"matplotlib.axis_1\">\r\n    <g id=\"xtick_1\">\r\n     <g id=\"line2d_1\">\r\n      <defs>\r\n       <path d=\"M 0 0 \r\nL 0 3.5 \r\n\" id=\"m11a64c681f\" style=\"stroke:#000000;stroke-width:0.8;\"/>\r\n      </defs>\r\n      <g>\r\n       <use style=\"stroke:#000000;stroke-width:0.8;\" x=\"71.724432\" xlink:href=\"#m11a64c681f\" y=\"239.758125\"/>\r\n      </g>\r\n     </g>\r\n     <g id=\"text_1\">\r\n      <!-- 1 -->\r\n      <g transform=\"translate(68.543182 254.356562)scale(0.1 -0.1)\">\r\n       <defs>\r\n        <path d=\"M 12.40625 8.296875 \r\nL 28.515625 8.296875 \r\nL 28.515625 63.921875 \r\nL 10.984375 60.40625 \r\nL 10.984375 69.390625 \r\nL 28.421875 72.90625 \r\nL 38.28125 72.90625 \r\nL 38.28125 8.296875 \r\nL 54.390625 8.296875 \r\nL 54.390625 0 \r\nL 12.40625 0 \r\nz\r\n\" id=\"DejaVuSans-49\"/>\r\n       </defs>\r\n       <use xlink:href=\"#DejaVuSans-49\"/>\r\n      </g>\r\n     </g>\r\n    </g>\r\n    <g id=\"xtick_2\">\r\n     <g id=\"line2d_2\">\r\n      <g>\r\n       <use style=\"stroke:#000000;stroke-width:0.8;\" x=\"109.769886\" xlink:href=\"#m11a64c681f\" y=\"239.758125\"/>\r\n      </g>\r\n     </g>\r\n     <g id=\"text_2\">\r\n      <!-- 2 -->\r\n      <g transform=\"translate(106.588636 254.356562)scale(0.1 -0.1)\">\r\n       <defs>\r\n        <path d=\"M 19.1875 8.296875 \r\nL 53.609375 8.296875 \r\nL 53.609375 0 \r\nL 7.328125 0 \r\nL 7.328125 8.296875 \r\nQ 12.9375 14.109375 22.625 23.890625 \r\nQ 32.328125 33.6875 34.8125 36.53125 \r\nQ 39.546875 41.84375 41.421875 45.53125 \r\nQ 43.3125 49.21875 43.3125 52.78125 \r\nQ 43.3125 58.59375 39.234375 62.25 \r\nQ 35.15625 65.921875 28.609375 65.921875 \r\nQ 23.96875 65.921875 18.8125 64.3125 \r\nQ 13.671875 62.703125 7.8125 59.421875 \r\nL 7.8125 69.390625 \r\nQ 13.765625 71.78125 18.9375 73 \r\nQ 24.125 74.21875 28.421875 74.21875 \r\nQ 39.75 74.21875 46.484375 68.546875 \r\nQ 53.21875 62.890625 53.21875 53.421875 \r\nQ 53.21875 48.921875 51.53125 44.890625 \r\nQ 49.859375 40.875 45.40625 35.40625 \r\nQ 44.1875 33.984375 37.640625 27.21875 \r\nQ 31.109375 20.453125 19.1875 8.296875 \r\nz\r\n\" id=\"DejaVuSans-50\"/>\r\n       </defs>\r\n       <use xlink:href=\"#DejaVuSans-50\"/>\r\n      </g>\r\n     </g>\r\n    </g>\r\n    <g id=\"xtick_3\">\r\n     <g id=\"line2d_3\">\r\n      <g>\r\n       <use style=\"stroke:#000000;stroke-width:0.8;\" x=\"147.815341\" xlink:href=\"#m11a64c681f\" y=\"239.758125\"/>\r\n      </g>\r\n     </g>\r\n     <g id=\"text_3\">\r\n      <!-- 3 -->\r\n      <g transform=\"translate(144.634091 254.356562)scale(0.1 -0.1)\">\r\n       <defs>\r\n        <path d=\"M 40.578125 39.3125 \r\nQ 47.65625 37.796875 51.625 33 \r\nQ 55.609375 28.21875 55.609375 21.1875 \r\nQ 55.609375 10.40625 48.1875 4.484375 \r\nQ 40.765625 -1.421875 27.09375 -1.421875 \r\nQ 22.515625 -1.421875 17.65625 -0.515625 \r\nQ 12.796875 0.390625 7.625 2.203125 \r\nL 7.625 11.71875 \r\nQ 11.71875 9.328125 16.59375 8.109375 \r\nQ 21.484375 6.890625 26.8125 6.890625 \r\nQ 36.078125 6.890625 40.9375 10.546875 \r\nQ 45.796875 14.203125 45.796875 21.1875 \r\nQ 45.796875 27.640625 41.28125 31.265625 \r\nQ 36.765625 34.90625 28.71875 34.90625 \r\nL 20.21875 34.90625 \r\nL 20.21875 43.015625 \r\nL 29.109375 43.015625 \r\nQ 36.375 43.015625 40.234375 45.921875 \r\nQ 44.09375 48.828125 44.09375 54.296875 \r\nQ 44.09375 59.90625 40.109375 62.90625 \r\nQ 36.140625 65.921875 28.71875 65.921875 \r\nQ 24.65625 65.921875 20.015625 65.03125 \r\nQ 15.375 64.15625 9.8125 62.3125 \r\nL 9.8125 71.09375 \r\nQ 15.4375 72.65625 20.34375 73.4375 \r\nQ 25.25 74.21875 29.59375 74.21875 \r\nQ 40.828125 74.21875 47.359375 69.109375 \r\nQ 53.90625 64.015625 53.90625 55.328125 \r\nQ 53.90625 49.265625 50.4375 45.09375 \r\nQ 46.96875 40.921875 40.578125 39.3125 \r\nz\r\n\" id=\"DejaVuSans-51\"/>\r\n       </defs>\r\n       <use xlink:href=\"#DejaVuSans-51\"/>\r\n      </g>\r\n     </g>\r\n    </g>\r\n    <g id=\"xtick_4\">\r\n     <g id=\"line2d_4\">\r\n      <g>\r\n       <use style=\"stroke:#000000;stroke-width:0.8;\" x=\"185.860795\" xlink:href=\"#m11a64c681f\" y=\"239.758125\"/>\r\n      </g>\r\n     </g>\r\n     <g id=\"text_4\">\r\n      <!-- 4 -->\r\n      <g transform=\"translate(182.679545 254.356562)scale(0.1 -0.1)\">\r\n       <defs>\r\n        <path d=\"M 37.796875 64.3125 \r\nL 12.890625 25.390625 \r\nL 37.796875 25.390625 \r\nz\r\nM 35.203125 72.90625 \r\nL 47.609375 72.90625 \r\nL 47.609375 25.390625 \r\nL 58.015625 25.390625 \r\nL 58.015625 17.1875 \r\nL 47.609375 17.1875 \r\nL 47.609375 0 \r\nL 37.796875 0 \r\nL 37.796875 17.1875 \r\nL 4.890625 17.1875 \r\nL 4.890625 26.703125 \r\nz\r\n\" id=\"DejaVuSans-52\"/>\r\n       </defs>\r\n       <use xlink:href=\"#DejaVuSans-52\"/>\r\n      </g>\r\n     </g>\r\n    </g>\r\n    <g id=\"xtick_5\">\r\n     <g id=\"line2d_5\">\r\n      <g>\r\n       <use style=\"stroke:#000000;stroke-width:0.8;\" x=\"223.90625\" xlink:href=\"#m11a64c681f\" y=\"239.758125\"/>\r\n      </g>\r\n     </g>\r\n     <g id=\"text_5\">\r\n      <!-- 5 -->\r\n      <g transform=\"translate(220.725 254.356562)scale(0.1 -0.1)\">\r\n       <defs>\r\n        <path d=\"M 10.796875 72.90625 \r\nL 49.515625 72.90625 \r\nL 49.515625 64.59375 \r\nL 19.828125 64.59375 \r\nL 19.828125 46.734375 \r\nQ 21.96875 47.46875 24.109375 47.828125 \r\nQ 26.265625 48.1875 28.421875 48.1875 \r\nQ 40.625 48.1875 47.75 41.5 \r\nQ 54.890625 34.8125 54.890625 23.390625 \r\nQ 54.890625 11.625 47.5625 5.09375 \r\nQ 40.234375 -1.421875 26.90625 -1.421875 \r\nQ 22.3125 -1.421875 17.546875 -0.640625 \r\nQ 12.796875 0.140625 7.71875 1.703125 \r\nL 7.71875 11.625 \r\nQ 12.109375 9.234375 16.796875 8.0625 \r\nQ 21.484375 6.890625 26.703125 6.890625 \r\nQ 35.15625 6.890625 40.078125 11.328125 \r\nQ 45.015625 15.765625 45.015625 23.390625 \r\nQ 45.015625 31 40.078125 35.4375 \r\nQ 35.15625 39.890625 26.703125 39.890625 \r\nQ 22.75 39.890625 18.8125 39.015625 \r\nQ 14.890625 38.140625 10.796875 36.28125 \r\nz\r\n\" id=\"DejaVuSans-53\"/>\r\n       </defs>\r\n       <use xlink:href=\"#DejaVuSans-53\"/>\r\n      </g>\r\n     </g>\r\n    </g>\r\n    <g id=\"xtick_6\">\r\n     <g id=\"line2d_6\">\r\n      <g>\r\n       <use style=\"stroke:#000000;stroke-width:0.8;\" x=\"261.951705\" xlink:href=\"#m11a64c681f\" y=\"239.758125\"/>\r\n      </g>\r\n     </g>\r\n     <g id=\"text_6\">\r\n      <!-- 6 -->\r\n      <g transform=\"translate(258.770455 254.356562)scale(0.1 -0.1)\">\r\n       <defs>\r\n        <path d=\"M 33.015625 40.375 \r\nQ 26.375 40.375 22.484375 35.828125 \r\nQ 18.609375 31.296875 18.609375 23.390625 \r\nQ 18.609375 15.53125 22.484375 10.953125 \r\nQ 26.375 6.390625 33.015625 6.390625 \r\nQ 39.65625 6.390625 43.53125 10.953125 \r\nQ 47.40625 15.53125 47.40625 23.390625 \r\nQ 47.40625 31.296875 43.53125 35.828125 \r\nQ 39.65625 40.375 33.015625 40.375 \r\nz\r\nM 52.59375 71.296875 \r\nL 52.59375 62.3125 \r\nQ 48.875 64.0625 45.09375 64.984375 \r\nQ 41.3125 65.921875 37.59375 65.921875 \r\nQ 27.828125 65.921875 22.671875 59.328125 \r\nQ 17.53125 52.734375 16.796875 39.40625 \r\nQ 19.671875 43.65625 24.015625 45.921875 \r\nQ 28.375 48.1875 33.59375 48.1875 \r\nQ 44.578125 48.1875 50.953125 41.515625 \r\nQ 57.328125 34.859375 57.328125 23.390625 \r\nQ 57.328125 12.15625 50.6875 5.359375 \r\nQ 44.046875 -1.421875 33.015625 -1.421875 \r\nQ 20.359375 -1.421875 13.671875 8.265625 \r\nQ 6.984375 17.96875 6.984375 36.375 \r\nQ 6.984375 53.65625 15.1875 63.9375 \r\nQ 23.390625 74.21875 37.203125 74.21875 \r\nQ 40.921875 74.21875 44.703125 73.484375 \r\nQ 48.484375 72.75 52.59375 71.296875 \r\nz\r\n\" id=\"DejaVuSans-54\"/>\r\n       </defs>\r\n       <use xlink:href=\"#DejaVuSans-54\"/>\r\n      </g>\r\n     </g>\r\n    </g>\r\n    <g id=\"xtick_7\">\r\n     <g id=\"line2d_7\">\r\n      <g>\r\n       <use style=\"stroke:#000000;stroke-width:0.8;\" x=\"299.997159\" xlink:href=\"#m11a64c681f\" y=\"239.758125\"/>\r\n      </g>\r\n     </g>\r\n     <g id=\"text_7\">\r\n      <!-- 7 -->\r\n      <g transform=\"translate(296.815909 254.356562)scale(0.1 -0.1)\">\r\n       <defs>\r\n        <path d=\"M 8.203125 72.90625 \r\nL 55.078125 72.90625 \r\nL 55.078125 68.703125 \r\nL 28.609375 0 \r\nL 18.3125 0 \r\nL 43.21875 64.59375 \r\nL 8.203125 64.59375 \r\nz\r\n\" id=\"DejaVuSans-55\"/>\r\n       </defs>\r\n       <use xlink:href=\"#DejaVuSans-55\"/>\r\n      </g>\r\n     </g>\r\n    </g>\r\n    <g id=\"xtick_8\">\r\n     <g id=\"line2d_8\">\r\n      <g>\r\n       <use style=\"stroke:#000000;stroke-width:0.8;\" x=\"338.042614\" xlink:href=\"#m11a64c681f\" y=\"239.758125\"/>\r\n      </g>\r\n     </g>\r\n     <g id=\"text_8\">\r\n      <!-- 8 -->\r\n      <g transform=\"translate(334.861364 254.356562)scale(0.1 -0.1)\">\r\n       <defs>\r\n        <path d=\"M 31.78125 34.625 \r\nQ 24.75 34.625 20.71875 30.859375 \r\nQ 16.703125 27.09375 16.703125 20.515625 \r\nQ 16.703125 13.921875 20.71875 10.15625 \r\nQ 24.75 6.390625 31.78125 6.390625 \r\nQ 38.8125 6.390625 42.859375 10.171875 \r\nQ 46.921875 13.96875 46.921875 20.515625 \r\nQ 46.921875 27.09375 42.890625 30.859375 \r\nQ 38.875 34.625 31.78125 34.625 \r\nz\r\nM 21.921875 38.8125 \r\nQ 15.578125 40.375 12.03125 44.71875 \r\nQ 8.5 49.078125 8.5 55.328125 \r\nQ 8.5 64.0625 14.71875 69.140625 \r\nQ 20.953125 74.21875 31.78125 74.21875 \r\nQ 42.671875 74.21875 48.875 69.140625 \r\nQ 55.078125 64.0625 55.078125 55.328125 \r\nQ 55.078125 49.078125 51.53125 44.71875 \r\nQ 48 40.375 41.703125 38.8125 \r\nQ 48.828125 37.15625 52.796875 32.3125 \r\nQ 56.78125 27.484375 56.78125 20.515625 \r\nQ 56.78125 9.90625 50.3125 4.234375 \r\nQ 43.84375 -1.421875 31.78125 -1.421875 \r\nQ 19.734375 -1.421875 13.25 4.234375 \r\nQ 6.78125 9.90625 6.78125 20.515625 \r\nQ 6.78125 27.484375 10.78125 32.3125 \r\nQ 14.796875 37.15625 21.921875 38.8125 \r\nz\r\nM 18.3125 54.390625 \r\nQ 18.3125 48.734375 21.84375 45.5625 \r\nQ 25.390625 42.390625 31.78125 42.390625 \r\nQ 38.140625 42.390625 41.71875 45.5625 \r\nQ 45.3125 48.734375 45.3125 54.390625 \r\nQ 45.3125 60.0625 41.71875 63.234375 \r\nQ 38.140625 66.40625 31.78125 66.40625 \r\nQ 25.390625 66.40625 21.84375 63.234375 \r\nQ 18.3125 60.0625 18.3125 54.390625 \r\nz\r\n\" id=\"DejaVuSans-56\"/>\r\n       </defs>\r\n       <use xlink:href=\"#DejaVuSans-56\"/>\r\n      </g>\r\n     </g>\r\n    </g>\r\n    <g id=\"xtick_9\">\r\n     <g id=\"line2d_9\">\r\n      <g>\r\n       <use style=\"stroke:#000000;stroke-width:0.8;\" x=\"376.088068\" xlink:href=\"#m11a64c681f\" y=\"239.758125\"/>\r\n      </g>\r\n     </g>\r\n     <g id=\"text_9\">\r\n      <!-- 9 -->\r\n      <g transform=\"translate(372.906818 254.356562)scale(0.1 -0.1)\">\r\n       <defs>\r\n        <path d=\"M 10.984375 1.515625 \r\nL 10.984375 10.5 \r\nQ 14.703125 8.734375 18.5 7.8125 \r\nQ 22.3125 6.890625 25.984375 6.890625 \r\nQ 35.75 6.890625 40.890625 13.453125 \r\nQ 46.046875 20.015625 46.78125 33.40625 \r\nQ 43.953125 29.203125 39.59375 26.953125 \r\nQ 35.25 24.703125 29.984375 24.703125 \r\nQ 19.046875 24.703125 12.671875 31.3125 \r\nQ 6.296875 37.9375 6.296875 49.421875 \r\nQ 6.296875 60.640625 12.9375 67.421875 \r\nQ 19.578125 74.21875 30.609375 74.21875 \r\nQ 43.265625 74.21875 49.921875 64.515625 \r\nQ 56.59375 54.828125 56.59375 36.375 \r\nQ 56.59375 19.140625 48.40625 8.859375 \r\nQ 40.234375 -1.421875 26.421875 -1.421875 \r\nQ 22.703125 -1.421875 18.890625 -0.6875 \r\nQ 15.09375 0.046875 10.984375 1.515625 \r\nz\r\nM 30.609375 32.421875 \r\nQ 37.25 32.421875 41.125 36.953125 \r\nQ 45.015625 41.5 45.015625 49.421875 \r\nQ 45.015625 57.28125 41.125 61.84375 \r\nQ 37.25 66.40625 30.609375 66.40625 \r\nQ 23.96875 66.40625 20.09375 61.84375 \r\nQ 16.21875 57.28125 16.21875 49.421875 \r\nQ 16.21875 41.5 20.09375 36.953125 \r\nQ 23.96875 32.421875 30.609375 32.421875 \r\nz\r\n\" id=\"DejaVuSans-57\"/>\r\n       </defs>\r\n       <use xlink:href=\"#DejaVuSans-57\"/>\r\n      </g>\r\n     </g>\r\n    </g>\r\n    <g id=\"text_10\">\r\n     <!-- Number of bins/hour -->\r\n     <g transform=\"translate(172.349219 268.034687)scale(0.1 -0.1)\">\r\n      <defs>\r\n       <path d=\"M 9.8125 72.90625 \r\nL 23.09375 72.90625 \r\nL 55.421875 11.921875 \r\nL 55.421875 72.90625 \r\nL 64.984375 72.90625 \r\nL 64.984375 0 \r\nL 51.703125 0 \r\nL 19.390625 60.984375 \r\nL 19.390625 0 \r\nL 9.8125 0 \r\nz\r\n\" id=\"DejaVuSans-78\"/>\r\n       <path d=\"M 8.5 21.578125 \r\nL 8.5 54.6875 \r\nL 17.484375 54.6875 \r\nL 17.484375 21.921875 \r\nQ 17.484375 14.15625 20.5 10.265625 \r\nQ 23.53125 6.390625 29.59375 6.390625 \r\nQ 36.859375 6.390625 41.078125 11.03125 \r\nQ 45.3125 15.671875 45.3125 23.6875 \r\nL 45.3125 54.6875 \r\nL 54.296875 54.6875 \r\nL 54.296875 0 \r\nL 45.3125 0 \r\nL 45.3125 8.40625 \r\nQ 42.046875 3.421875 37.71875 1 \r\nQ 33.40625 -1.421875 27.6875 -1.421875 \r\nQ 18.265625 -1.421875 13.375 4.4375 \r\nQ 8.5 10.296875 8.5 21.578125 \r\nz\r\nM 31.109375 56 \r\nz\r\n\" id=\"DejaVuSans-117\"/>\r\n       <path d=\"M 52 44.1875 \r\nQ 55.375 50.25 60.0625 53.125 \r\nQ 64.75 56 71.09375 56 \r\nQ 79.640625 56 84.28125 50.015625 \r\nQ 88.921875 44.046875 88.921875 33.015625 \r\nL 88.921875 0 \r\nL 79.890625 0 \r\nL 79.890625 32.71875 \r\nQ 79.890625 40.578125 77.09375 44.375 \r\nQ 74.3125 48.1875 68.609375 48.1875 \r\nQ 61.625 48.1875 57.5625 43.546875 \r\nQ 53.515625 38.921875 53.515625 30.90625 \r\nL 53.515625 0 \r\nL 44.484375 0 \r\nL 44.484375 32.71875 \r\nQ 44.484375 40.625 41.703125 44.40625 \r\nQ 38.921875 48.1875 33.109375 48.1875 \r\nQ 26.21875 48.1875 22.15625 43.53125 \r\nQ 18.109375 38.875 18.109375 30.90625 \r\nL 18.109375 0 \r\nL 9.078125 0 \r\nL 9.078125 54.6875 \r\nL 18.109375 54.6875 \r\nL 18.109375 46.1875 \r\nQ 21.1875 51.21875 25.484375 53.609375 \r\nQ 29.78125 56 35.6875 56 \r\nQ 41.65625 56 45.828125 52.96875 \r\nQ 50 49.953125 52 44.1875 \r\nz\r\n\" id=\"DejaVuSans-109\"/>\r\n       <path d=\"M 48.6875 27.296875 \r\nQ 48.6875 37.203125 44.609375 42.84375 \r\nQ 40.53125 48.484375 33.40625 48.484375 \r\nQ 26.265625 48.484375 22.1875 42.84375 \r\nQ 18.109375 37.203125 18.109375 27.296875 \r\nQ 18.109375 17.390625 22.1875 11.75 \r\nQ 26.265625 6.109375 33.40625 6.109375 \r\nQ 40.53125 6.109375 44.609375 11.75 \r\nQ 48.6875 17.390625 48.6875 27.296875 \r\nz\r\nM 18.109375 46.390625 \r\nQ 20.953125 51.265625 25.265625 53.625 \r\nQ 29.59375 56 35.59375 56 \r\nQ 45.5625 56 51.78125 48.09375 \r\nQ 58.015625 40.1875 58.015625 27.296875 \r\nQ 58.015625 14.40625 51.78125 6.484375 \r\nQ 45.5625 -1.421875 35.59375 -1.421875 \r\nQ 29.59375 -1.421875 25.265625 0.953125 \r\nQ 20.953125 3.328125 18.109375 8.203125 \r\nL 18.109375 0 \r\nL 9.078125 0 \r\nL 9.078125 75.984375 \r\nL 18.109375 75.984375 \r\nz\r\n\" id=\"DejaVuSans-98\"/>\r\n       <path d=\"M 56.203125 29.59375 \r\nL 56.203125 25.203125 \r\nL 14.890625 25.203125 \r\nQ 15.484375 15.921875 20.484375 11.0625 \r\nQ 25.484375 6.203125 34.421875 6.203125 \r\nQ 39.59375 6.203125 44.453125 7.46875 \r\nQ 49.3125 8.734375 54.109375 11.28125 \r\nL 54.109375 2.78125 \r\nQ 49.265625 0.734375 44.1875 -0.34375 \r\nQ 39.109375 -1.421875 33.890625 -1.421875 \r\nQ 20.796875 -1.421875 13.15625 6.1875 \r\nQ 5.515625 13.8125 5.515625 26.8125 \r\nQ 5.515625 40.234375 12.765625 48.109375 \r\nQ 20.015625 56 32.328125 56 \r\nQ 43.359375 56 49.78125 48.890625 \r\nQ 56.203125 41.796875 56.203125 29.59375 \r\nz\r\nM 47.21875 32.234375 \r\nQ 47.125 39.59375 43.09375 43.984375 \r\nQ 39.0625 48.390625 32.421875 48.390625 \r\nQ 24.90625 48.390625 20.390625 44.140625 \r\nQ 15.875 39.890625 15.1875 32.171875 \r\nz\r\n\" id=\"DejaVuSans-101\"/>\r\n       <path d=\"M 41.109375 46.296875 \r\nQ 39.59375 47.171875 37.8125 47.578125 \r\nQ 36.03125 48 33.890625 48 \r\nQ 26.265625 48 22.1875 43.046875 \r\nQ 18.109375 38.09375 18.109375 28.8125 \r\nL 18.109375 0 \r\nL 9.078125 0 \r\nL 9.078125 54.6875 \r\nL 18.109375 54.6875 \r\nL 18.109375 46.1875 \r\nQ 20.953125 51.171875 25.484375 53.578125 \r\nQ 30.03125 56 36.53125 56 \r\nQ 37.453125 56 38.578125 55.875 \r\nQ 39.703125 55.765625 41.0625 55.515625 \r\nz\r\n\" id=\"DejaVuSans-114\"/>\r\n       <path id=\"DejaVuSans-32\"/>\r\n       <path d=\"M 30.609375 48.390625 \r\nQ 23.390625 48.390625 19.1875 42.75 \r\nQ 14.984375 37.109375 14.984375 27.296875 \r\nQ 14.984375 17.484375 19.15625 11.84375 \r\nQ 23.34375 6.203125 30.609375 6.203125 \r\nQ 37.796875 6.203125 41.984375 11.859375 \r\nQ 46.1875 17.53125 46.1875 27.296875 \r\nQ 46.1875 37.015625 41.984375 42.703125 \r\nQ 37.796875 48.390625 30.609375 48.390625 \r\nz\r\nM 30.609375 56 \r\nQ 42.328125 56 49.015625 48.375 \r\nQ 55.71875 40.765625 55.71875 27.296875 \r\nQ 55.71875 13.875 49.015625 6.21875 \r\nQ 42.328125 -1.421875 30.609375 -1.421875 \r\nQ 18.84375 -1.421875 12.171875 6.21875 \r\nQ 5.515625 13.875 5.515625 27.296875 \r\nQ 5.515625 40.765625 12.171875 48.375 \r\nQ 18.84375 56 30.609375 56 \r\nz\r\n\" id=\"DejaVuSans-111\"/>\r\n       <path d=\"M 37.109375 75.984375 \r\nL 37.109375 68.5 \r\nL 28.515625 68.5 \r\nQ 23.6875 68.5 21.796875 66.546875 \r\nQ 19.921875 64.59375 19.921875 59.515625 \r\nL 19.921875 54.6875 \r\nL 34.71875 54.6875 \r\nL 34.71875 47.703125 \r\nL 19.921875 47.703125 \r\nL 19.921875 0 \r\nL 10.890625 0 \r\nL 10.890625 47.703125 \r\nL 2.296875 47.703125 \r\nL 2.296875 54.6875 \r\nL 10.890625 54.6875 \r\nL 10.890625 58.5 \r\nQ 10.890625 67.625 15.140625 71.796875 \r\nQ 19.390625 75.984375 28.609375 75.984375 \r\nz\r\n\" id=\"DejaVuSans-102\"/>\r\n       <path d=\"M 9.421875 54.6875 \r\nL 18.40625 54.6875 \r\nL 18.40625 0 \r\nL 9.421875 0 \r\nz\r\nM 9.421875 75.984375 \r\nL 18.40625 75.984375 \r\nL 18.40625 64.59375 \r\nL 9.421875 64.59375 \r\nz\r\n\" id=\"DejaVuSans-105\"/>\r\n       <path d=\"M 54.890625 33.015625 \r\nL 54.890625 0 \r\nL 45.90625 0 \r\nL 45.90625 32.71875 \r\nQ 45.90625 40.484375 42.875 44.328125 \r\nQ 39.84375 48.1875 33.796875 48.1875 \r\nQ 26.515625 48.1875 22.3125 43.546875 \r\nQ 18.109375 38.921875 18.109375 30.90625 \r\nL 18.109375 0 \r\nL 9.078125 0 \r\nL 9.078125 54.6875 \r\nL 18.109375 54.6875 \r\nL 18.109375 46.1875 \r\nQ 21.34375 51.125 25.703125 53.5625 \r\nQ 30.078125 56 35.796875 56 \r\nQ 45.21875 56 50.046875 50.171875 \r\nQ 54.890625 44.34375 54.890625 33.015625 \r\nz\r\n\" id=\"DejaVuSans-110\"/>\r\n       <path d=\"M 44.28125 53.078125 \r\nL 44.28125 44.578125 \r\nQ 40.484375 46.53125 36.375 47.5 \r\nQ 32.28125 48.484375 27.875 48.484375 \r\nQ 21.1875 48.484375 17.84375 46.4375 \r\nQ 14.5 44.390625 14.5 40.28125 \r\nQ 14.5 37.15625 16.890625 35.375 \r\nQ 19.28125 33.59375 26.515625 31.984375 \r\nL 29.59375 31.296875 \r\nQ 39.15625 29.25 43.1875 25.515625 \r\nQ 47.21875 21.78125 47.21875 15.09375 \r\nQ 47.21875 7.46875 41.1875 3.015625 \r\nQ 35.15625 -1.421875 24.609375 -1.421875 \r\nQ 20.21875 -1.421875 15.453125 -0.5625 \r\nQ 10.6875 0.296875 5.421875 2 \r\nL 5.421875 11.28125 \r\nQ 10.40625 8.6875 15.234375 7.390625 \r\nQ 20.0625 6.109375 24.8125 6.109375 \r\nQ 31.15625 6.109375 34.5625 8.28125 \r\nQ 37.984375 10.453125 37.984375 14.40625 \r\nQ 37.984375 18.0625 35.515625 20.015625 \r\nQ 33.0625 21.96875 24.703125 23.78125 \r\nL 21.578125 24.515625 \r\nQ 13.234375 26.265625 9.515625 29.90625 \r\nQ 5.8125 33.546875 5.8125 39.890625 \r\nQ 5.8125 47.609375 11.28125 51.796875 \r\nQ 16.75 56 26.8125 56 \r\nQ 31.78125 56 36.171875 55.265625 \r\nQ 40.578125 54.546875 44.28125 53.078125 \r\nz\r\n\" id=\"DejaVuSans-115\"/>\r\n       <path d=\"M 25.390625 72.90625 \r\nL 33.6875 72.90625 \r\nL 8.296875 -9.28125 \r\nL 0 -9.28125 \r\nz\r\n\" id=\"DejaVuSans-47\"/>\r\n       <path d=\"M 54.890625 33.015625 \r\nL 54.890625 0 \r\nL 45.90625 0 \r\nL 45.90625 32.71875 \r\nQ 45.90625 40.484375 42.875 44.328125 \r\nQ 39.84375 48.1875 33.796875 48.1875 \r\nQ 26.515625 48.1875 22.3125 43.546875 \r\nQ 18.109375 38.921875 18.109375 30.90625 \r\nL 18.109375 0 \r\nL 9.078125 0 \r\nL 9.078125 75.984375 \r\nL 18.109375 75.984375 \r\nL 18.109375 46.1875 \r\nQ 21.34375 51.125 25.703125 53.5625 \r\nQ 30.078125 56 35.796875 56 \r\nQ 45.21875 56 50.046875 50.171875 \r\nQ 54.890625 44.34375 54.890625 33.015625 \r\nz\r\n\" id=\"DejaVuSans-104\"/>\r\n      </defs>\r\n      <use xlink:href=\"#DejaVuSans-78\"/>\r\n      <use x=\"74.804688\" xlink:href=\"#DejaVuSans-117\"/>\r\n      <use x=\"138.183594\" xlink:href=\"#DejaVuSans-109\"/>\r\n      <use x=\"235.595703\" xlink:href=\"#DejaVuSans-98\"/>\r\n      <use x=\"299.072266\" xlink:href=\"#DejaVuSans-101\"/>\r\n      <use x=\"360.595703\" xlink:href=\"#DejaVuSans-114\"/>\r\n      <use x=\"401.708984\" xlink:href=\"#DejaVuSans-32\"/>\r\n      <use x=\"433.496094\" xlink:href=\"#DejaVuSans-111\"/>\r\n      <use x=\"494.677734\" xlink:href=\"#DejaVuSans-102\"/>\r\n      <use x=\"529.882812\" xlink:href=\"#DejaVuSans-32\"/>\r\n      <use x=\"561.669922\" xlink:href=\"#DejaVuSans-98\"/>\r\n      <use x=\"625.146484\" xlink:href=\"#DejaVuSans-105\"/>\r\n      <use x=\"652.929688\" xlink:href=\"#DejaVuSans-110\"/>\r\n      <use x=\"716.308594\" xlink:href=\"#DejaVuSans-115\"/>\r\n      <use x=\"768.408203\" xlink:href=\"#DejaVuSans-47\"/>\r\n      <use x=\"802.099609\" xlink:href=\"#DejaVuSans-104\"/>\r\n      <use x=\"865.478516\" xlink:href=\"#DejaVuSans-111\"/>\r\n      <use x=\"926.660156\" xlink:href=\"#DejaVuSans-117\"/>\r\n      <use x=\"990.039062\" xlink:href=\"#DejaVuSans-114\"/>\r\n     </g>\r\n    </g>\r\n   </g>\r\n   <g id=\"matplotlib.axis_2\">\r\n    <g id=\"ytick_1\">\r\n     <g id=\"line2d_10\">\r\n      <defs>\r\n       <path d=\"M 0 0 \r\nL -3.5 0 \r\n\" id=\"m0cff34affc\" style=\"stroke:#000000;stroke-width:0.8;\"/>\r\n      </defs>\r\n      <g>\r\n       <use style=\"stroke:#000000;stroke-width:0.8;\" x=\"56.50625\" xlink:href=\"#m0cff34affc\" y=\"211.108171\"/>\r\n      </g>\r\n     </g>\r\n     <g id=\"text_11\">\r\n      <!-- 0.005 -->\r\n      <g transform=\"translate(20.878125 214.90739)scale(0.1 -0.1)\">\r\n       <defs>\r\n        <path d=\"M 31.78125 66.40625 \r\nQ 24.171875 66.40625 20.328125 58.90625 \r\nQ 16.5 51.421875 16.5 36.375 \r\nQ 16.5 21.390625 20.328125 13.890625 \r\nQ 24.171875 6.390625 31.78125 6.390625 \r\nQ 39.453125 6.390625 43.28125 13.890625 \r\nQ 47.125 21.390625 47.125 36.375 \r\nQ 47.125 51.421875 43.28125 58.90625 \r\nQ 39.453125 66.40625 31.78125 66.40625 \r\nz\r\nM 31.78125 74.21875 \r\nQ 44.046875 74.21875 50.515625 64.515625 \r\nQ 56.984375 54.828125 56.984375 36.375 \r\nQ 56.984375 17.96875 50.515625 8.265625 \r\nQ 44.046875 -1.421875 31.78125 -1.421875 \r\nQ 19.53125 -1.421875 13.0625 8.265625 \r\nQ 6.59375 17.96875 6.59375 36.375 \r\nQ 6.59375 54.828125 13.0625 64.515625 \r\nQ 19.53125 74.21875 31.78125 74.21875 \r\nz\r\n\" id=\"DejaVuSans-48\"/>\r\n        <path d=\"M 10.6875 12.40625 \r\nL 21 12.40625 \r\nL 21 0 \r\nL 10.6875 0 \r\nz\r\n\" id=\"DejaVuSans-46\"/>\r\n       </defs>\r\n       <use xlink:href=\"#DejaVuSans-48\"/>\r\n       <use x=\"63.623047\" xlink:href=\"#DejaVuSans-46\"/>\r\n       <use x=\"95.410156\" xlink:href=\"#DejaVuSans-48\"/>\r\n       <use x=\"159.033203\" xlink:href=\"#DejaVuSans-48\"/>\r\n       <use x=\"222.65625\" xlink:href=\"#DejaVuSans-53\"/>\r\n      </g>\r\n     </g>\r\n    </g>\r\n    <g id=\"ytick_2\">\r\n     <g id=\"line2d_11\">\r\n      <g>\r\n       <use style=\"stroke:#000000;stroke-width:0.8;\" x=\"56.50625\" xlink:href=\"#m0cff34affc\" y=\"163.450972\"/>\r\n      </g>\r\n     </g>\r\n     <g id=\"text_12\">\r\n      <!-- 0.010 -->\r\n      <g transform=\"translate(20.878125 167.250191)scale(0.1 -0.1)\">\r\n       <use xlink:href=\"#DejaVuSans-48\"/>\r\n       <use x=\"63.623047\" xlink:href=\"#DejaVuSans-46\"/>\r\n       <use x=\"95.410156\" xlink:href=\"#DejaVuSans-48\"/>\r\n       <use x=\"159.033203\" xlink:href=\"#DejaVuSans-49\"/>\r\n       <use x=\"222.65625\" xlink:href=\"#DejaVuSans-48\"/>\r\n      </g>\r\n     </g>\r\n    </g>\r\n    <g id=\"ytick_3\">\r\n     <g id=\"line2d_12\">\r\n      <g>\r\n       <use style=\"stroke:#000000;stroke-width:0.8;\" x=\"56.50625\" xlink:href=\"#m0cff34affc\" y=\"115.793773\"/>\r\n      </g>\r\n     </g>\r\n     <g id=\"text_13\">\r\n      <!-- 0.015 -->\r\n      <g transform=\"translate(20.878125 119.592991)scale(0.1 -0.1)\">\r\n       <use xlink:href=\"#DejaVuSans-48\"/>\r\n       <use x=\"63.623047\" xlink:href=\"#DejaVuSans-46\"/>\r\n       <use x=\"95.410156\" xlink:href=\"#DejaVuSans-48\"/>\r\n       <use x=\"159.033203\" xlink:href=\"#DejaVuSans-49\"/>\r\n       <use x=\"222.65625\" xlink:href=\"#DejaVuSans-53\"/>\r\n      </g>\r\n     </g>\r\n    </g>\r\n    <g id=\"ytick_4\">\r\n     <g id=\"line2d_13\">\r\n      <g>\r\n       <use style=\"stroke:#000000;stroke-width:0.8;\" x=\"56.50625\" xlink:href=\"#m0cff34affc\" y=\"68.136574\"/>\r\n      </g>\r\n     </g>\r\n     <g id=\"text_14\">\r\n      <!-- 0.020 -->\r\n      <g transform=\"translate(20.878125 71.935792)scale(0.1 -0.1)\">\r\n       <use xlink:href=\"#DejaVuSans-48\"/>\r\n       <use x=\"63.623047\" xlink:href=\"#DejaVuSans-46\"/>\r\n       <use x=\"95.410156\" xlink:href=\"#DejaVuSans-48\"/>\r\n       <use x=\"159.033203\" xlink:href=\"#DejaVuSans-50\"/>\r\n       <use x=\"222.65625\" xlink:href=\"#DejaVuSans-48\"/>\r\n      </g>\r\n     </g>\r\n    </g>\r\n    <g id=\"text_15\">\r\n     <!-- % of hits -->\r\n     <g transform=\"translate(14.798437 152.909219)rotate(-90)scale(0.1 -0.1)\">\r\n      <defs>\r\n       <path d=\"M 72.703125 32.078125 \r\nQ 68.453125 32.078125 66.03125 28.46875 \r\nQ 63.625 24.859375 63.625 18.40625 \r\nQ 63.625 12.0625 66.03125 8.421875 \r\nQ 68.453125 4.78125 72.703125 4.78125 \r\nQ 76.859375 4.78125 79.265625 8.421875 \r\nQ 81.6875 12.0625 81.6875 18.40625 \r\nQ 81.6875 24.8125 79.265625 28.4375 \r\nQ 76.859375 32.078125 72.703125 32.078125 \r\nz\r\nM 72.703125 38.28125 \r\nQ 80.421875 38.28125 84.953125 32.90625 \r\nQ 89.5 27.546875 89.5 18.40625 \r\nQ 89.5 9.28125 84.9375 3.921875 \r\nQ 80.375 -1.421875 72.703125 -1.421875 \r\nQ 64.890625 -1.421875 60.34375 3.921875 \r\nQ 55.8125 9.28125 55.8125 18.40625 \r\nQ 55.8125 27.59375 60.375 32.9375 \r\nQ 64.9375 38.28125 72.703125 38.28125 \r\nz\r\nM 22.3125 68.015625 \r\nQ 18.109375 68.015625 15.6875 64.375 \r\nQ 13.28125 60.75 13.28125 54.390625 \r\nQ 13.28125 47.953125 15.671875 44.328125 \r\nQ 18.0625 40.71875 22.3125 40.71875 \r\nQ 26.5625 40.71875 28.96875 44.328125 \r\nQ 31.390625 47.953125 31.390625 54.390625 \r\nQ 31.390625 60.6875 28.953125 64.34375 \r\nQ 26.515625 68.015625 22.3125 68.015625 \r\nz\r\nM 66.40625 74.21875 \r\nL 74.21875 74.21875 \r\nL 28.609375 -1.421875 \r\nL 20.796875 -1.421875 \r\nz\r\nM 22.3125 74.21875 \r\nQ 30.03125 74.21875 34.609375 68.875 \r\nQ 39.203125 63.53125 39.203125 54.390625 \r\nQ 39.203125 45.171875 34.640625 39.84375 \r\nQ 30.078125 34.515625 22.3125 34.515625 \r\nQ 14.546875 34.515625 10.03125 39.859375 \r\nQ 5.515625 45.21875 5.515625 54.390625 \r\nQ 5.515625 63.484375 10.046875 68.84375 \r\nQ 14.59375 74.21875 22.3125 74.21875 \r\nz\r\n\" id=\"DejaVuSans-37\"/>\r\n       <path d=\"M 18.3125 70.21875 \r\nL 18.3125 54.6875 \r\nL 36.8125 54.6875 \r\nL 36.8125 47.703125 \r\nL 18.3125 47.703125 \r\nL 18.3125 18.015625 \r\nQ 18.3125 11.328125 20.140625 9.421875 \r\nQ 21.96875 7.515625 27.59375 7.515625 \r\nL 36.8125 7.515625 \r\nL 36.8125 0 \r\nL 27.59375 0 \r\nQ 17.1875 0 13.234375 3.875 \r\nQ 9.28125 7.765625 9.28125 18.015625 \r\nL 9.28125 47.703125 \r\nL 2.6875 47.703125 \r\nL 2.6875 54.6875 \r\nL 9.28125 54.6875 \r\nL 9.28125 70.21875 \r\nz\r\n\" id=\"DejaVuSans-116\"/>\r\n      </defs>\r\n      <use xlink:href=\"#DejaVuSans-37\"/>\r\n      <use x=\"95.019531\" xlink:href=\"#DejaVuSans-32\"/>\r\n      <use x=\"126.806641\" xlink:href=\"#DejaVuSans-111\"/>\r\n      <use x=\"187.988281\" xlink:href=\"#DejaVuSans-102\"/>\r\n      <use x=\"223.193359\" xlink:href=\"#DejaVuSans-32\"/>\r\n      <use x=\"254.980469\" xlink:href=\"#DejaVuSans-104\"/>\r\n      <use x=\"318.359375\" xlink:href=\"#DejaVuSans-105\"/>\r\n      <use x=\"346.142578\" xlink:href=\"#DejaVuSans-116\"/>\r\n      <use x=\"385.351562\" xlink:href=\"#DejaVuSans-115\"/>\r\n     </g>\r\n    </g>\r\n   </g>\r\n   <g id=\"line2d_14\">\r\n    <path clip-path=\"url(#p15630dfbe0)\" d=\"M 71.724432 32.201761 \r\nL 109.769886 170.058464 \r\nL 147.815341 197.675658 \r\nL 185.860795 210.303364 \r\nL 223.90625 216.64633 \r\nL 261.951705 221.126072 \r\nL 299.997159 225.045392 \r\nL 338.042614 228.517101 \r\nL 376.088068 229.874489 \r\n\" style=\"fill:none;stroke:#1f77b4;stroke-linecap:square;stroke-width:1.5;\"/>\r\n   </g>\r\n   <g id=\"patch_3\">\r\n    <path d=\"M 56.50625 239.758125 \r\nL 56.50625 22.318125 \r\n\" style=\"fill:none;stroke:#000000;stroke-linecap:square;stroke-linejoin:miter;stroke-width:0.8;\"/>\r\n   </g>\r\n   <g id=\"patch_4\">\r\n    <path d=\"M 391.30625 239.758125 \r\nL 391.30625 22.318125 \r\n\" style=\"fill:none;stroke:#000000;stroke-linecap:square;stroke-linejoin:miter;stroke-width:0.8;\"/>\r\n   </g>\r\n   <g id=\"patch_5\">\r\n    <path d=\"M 56.50625 239.758125 \r\nL 391.30625 239.758125 \r\n\" style=\"fill:none;stroke:#000000;stroke-linecap:square;stroke-linejoin:miter;stroke-width:0.8;\"/>\r\n   </g>\r\n   <g id=\"patch_6\">\r\n    <path d=\"M 56.50625 22.318125 \r\nL 391.30625 22.318125 \r\n\" style=\"fill:none;stroke:#000000;stroke-linecap:square;stroke-linejoin:miter;stroke-width:0.8;\"/>\r\n   </g>\r\n   <g id=\"text_16\">\r\n    <!-- Percentage of hits in function of the binning factor -->\r\n    <g transform=\"translate(72.6275 16.318125)scale(0.12 -0.12)\">\r\n     <defs>\r\n      <path d=\"M 19.671875 64.796875 \r\nL 19.671875 37.40625 \r\nL 32.078125 37.40625 \r\nQ 38.96875 37.40625 42.71875 40.96875 \r\nQ 46.484375 44.53125 46.484375 51.125 \r\nQ 46.484375 57.671875 42.71875 61.234375 \r\nQ 38.96875 64.796875 32.078125 64.796875 \r\nz\r\nM 9.8125 72.90625 \r\nL 32.078125 72.90625 \r\nQ 44.34375 72.90625 50.609375 67.359375 \r\nQ 56.890625 61.8125 56.890625 51.125 \r\nQ 56.890625 40.328125 50.609375 34.8125 \r\nQ 44.34375 29.296875 32.078125 29.296875 \r\nL 19.671875 29.296875 \r\nL 19.671875 0 \r\nL 9.8125 0 \r\nz\r\n\" id=\"DejaVuSans-80\"/>\r\n      <path d=\"M 48.78125 52.59375 \r\nL 48.78125 44.1875 \r\nQ 44.96875 46.296875 41.140625 47.34375 \r\nQ 37.3125 48.390625 33.40625 48.390625 \r\nQ 24.65625 48.390625 19.8125 42.84375 \r\nQ 14.984375 37.3125 14.984375 27.296875 \r\nQ 14.984375 17.28125 19.8125 11.734375 \r\nQ 24.65625 6.203125 33.40625 6.203125 \r\nQ 37.3125 6.203125 41.140625 7.25 \r\nQ 44.96875 8.296875 48.78125 10.40625 \r\nL 48.78125 2.09375 \r\nQ 45.015625 0.34375 40.984375 -0.53125 \r\nQ 36.96875 -1.421875 32.421875 -1.421875 \r\nQ 20.0625 -1.421875 12.78125 6.34375 \r\nQ 5.515625 14.109375 5.515625 27.296875 \r\nQ 5.515625 40.671875 12.859375 48.328125 \r\nQ 20.21875 56 33.015625 56 \r\nQ 37.15625 56 41.109375 55.140625 \r\nQ 45.0625 54.296875 48.78125 52.59375 \r\nz\r\n\" id=\"DejaVuSans-99\"/>\r\n      <path d=\"M 34.28125 27.484375 \r\nQ 23.390625 27.484375 19.1875 25 \r\nQ 14.984375 22.515625 14.984375 16.5 \r\nQ 14.984375 11.71875 18.140625 8.90625 \r\nQ 21.296875 6.109375 26.703125 6.109375 \r\nQ 34.1875 6.109375 38.703125 11.40625 \r\nQ 43.21875 16.703125 43.21875 25.484375 \r\nL 43.21875 27.484375 \r\nz\r\nM 52.203125 31.203125 \r\nL 52.203125 0 \r\nL 43.21875 0 \r\nL 43.21875 8.296875 \r\nQ 40.140625 3.328125 35.546875 0.953125 \r\nQ 30.953125 -1.421875 24.3125 -1.421875 \r\nQ 15.921875 -1.421875 10.953125 3.296875 \r\nQ 6 8.015625 6 15.921875 \r\nQ 6 25.140625 12.171875 29.828125 \r\nQ 18.359375 34.515625 30.609375 34.515625 \r\nL 43.21875 34.515625 \r\nL 43.21875 35.40625 \r\nQ 43.21875 41.609375 39.140625 45 \r\nQ 35.0625 48.390625 27.6875 48.390625 \r\nQ 23 48.390625 18.546875 47.265625 \r\nQ 14.109375 46.140625 10.015625 43.890625 \r\nL 10.015625 52.203125 \r\nQ 14.9375 54.109375 19.578125 55.046875 \r\nQ 24.21875 56 28.609375 56 \r\nQ 40.484375 56 46.34375 49.84375 \r\nQ 52.203125 43.703125 52.203125 31.203125 \r\nz\r\n\" id=\"DejaVuSans-97\"/>\r\n      <path d=\"M 45.40625 27.984375 \r\nQ 45.40625 37.75 41.375 43.109375 \r\nQ 37.359375 48.484375 30.078125 48.484375 \r\nQ 22.859375 48.484375 18.828125 43.109375 \r\nQ 14.796875 37.75 14.796875 27.984375 \r\nQ 14.796875 18.265625 18.828125 12.890625 \r\nQ 22.859375 7.515625 30.078125 7.515625 \r\nQ 37.359375 7.515625 41.375 12.890625 \r\nQ 45.40625 18.265625 45.40625 27.984375 \r\nz\r\nM 54.390625 6.78125 \r\nQ 54.390625 -7.171875 48.1875 -13.984375 \r\nQ 42 -20.796875 29.203125 -20.796875 \r\nQ 24.46875 -20.796875 20.265625 -20.09375 \r\nQ 16.0625 -19.390625 12.109375 -17.921875 \r\nL 12.109375 -9.1875 \r\nQ 16.0625 -11.328125 19.921875 -12.34375 \r\nQ 23.78125 -13.375 27.78125 -13.375 \r\nQ 36.625 -13.375 41.015625 -8.765625 \r\nQ 45.40625 -4.15625 45.40625 5.171875 \r\nL 45.40625 9.625 \r\nQ 42.625 4.78125 38.28125 2.390625 \r\nQ 33.9375 0 27.875 0 \r\nQ 17.828125 0 11.671875 7.65625 \r\nQ 5.515625 15.328125 5.515625 27.984375 \r\nQ 5.515625 40.671875 11.671875 48.328125 \r\nQ 17.828125 56 27.875 56 \r\nQ 33.9375 56 38.28125 53.609375 \r\nQ 42.625 51.21875 45.40625 46.390625 \r\nL 45.40625 54.6875 \r\nL 54.390625 54.6875 \r\nz\r\n\" id=\"DejaVuSans-103\"/>\r\n     </defs>\r\n     <use xlink:href=\"#DejaVuSans-80\"/>\r\n     <use x=\"56.677734\" xlink:href=\"#DejaVuSans-101\"/>\r\n     <use x=\"118.201172\" xlink:href=\"#DejaVuSans-114\"/>\r\n     <use x=\"157.064453\" xlink:href=\"#DejaVuSans-99\"/>\r\n     <use x=\"212.044922\" xlink:href=\"#DejaVuSans-101\"/>\r\n     <use x=\"273.568359\" xlink:href=\"#DejaVuSans-110\"/>\r\n     <use x=\"336.947266\" xlink:href=\"#DejaVuSans-116\"/>\r\n     <use x=\"376.15625\" xlink:href=\"#DejaVuSans-97\"/>\r\n     <use x=\"437.435547\" xlink:href=\"#DejaVuSans-103\"/>\r\n     <use x=\"500.912109\" xlink:href=\"#DejaVuSans-101\"/>\r\n     <use x=\"562.435547\" xlink:href=\"#DejaVuSans-32\"/>\r\n     <use x=\"594.222656\" xlink:href=\"#DejaVuSans-111\"/>\r\n     <use x=\"655.404297\" xlink:href=\"#DejaVuSans-102\"/>\r\n     <use x=\"690.609375\" xlink:href=\"#DejaVuSans-32\"/>\r\n     <use x=\"722.396484\" xlink:href=\"#DejaVuSans-104\"/>\r\n     <use x=\"785.775391\" xlink:href=\"#DejaVuSans-105\"/>\r\n     <use x=\"813.558594\" xlink:href=\"#DejaVuSans-116\"/>\r\n     <use x=\"852.767578\" xlink:href=\"#DejaVuSans-115\"/>\r\n     <use x=\"904.867188\" xlink:href=\"#DejaVuSans-32\"/>\r\n     <use x=\"936.654297\" xlink:href=\"#DejaVuSans-105\"/>\r\n     <use x=\"964.4375\" xlink:href=\"#DejaVuSans-110\"/>\r\n     <use x=\"1027.816406\" xlink:href=\"#DejaVuSans-32\"/>\r\n     <use x=\"1059.603516\" xlink:href=\"#DejaVuSans-102\"/>\r\n     <use x=\"1094.808594\" xlink:href=\"#DejaVuSans-117\"/>\r\n     <use x=\"1158.1875\" xlink:href=\"#DejaVuSans-110\"/>\r\n     <use x=\"1221.566406\" xlink:href=\"#DejaVuSans-99\"/>\r\n     <use x=\"1276.546875\" xlink:href=\"#DejaVuSans-116\"/>\r\n     <use x=\"1315.755859\" xlink:href=\"#DejaVuSans-105\"/>\r\n     <use x=\"1343.539062\" xlink:href=\"#DejaVuSans-111\"/>\r\n     <use x=\"1404.720703\" xlink:href=\"#DejaVuSans-110\"/>\r\n     <use x=\"1468.099609\" xlink:href=\"#DejaVuSans-32\"/>\r\n     <use x=\"1499.886719\" xlink:href=\"#DejaVuSans-111\"/>\r\n     <use x=\"1561.068359\" xlink:href=\"#DejaVuSans-102\"/>\r\n     <use x=\"1596.273438\" xlink:href=\"#DejaVuSans-32\"/>\r\n     <use x=\"1628.060547\" xlink:href=\"#DejaVuSans-116\"/>\r\n     <use x=\"1667.269531\" xlink:href=\"#DejaVuSans-104\"/>\r\n     <use x=\"1730.648438\" xlink:href=\"#DejaVuSans-101\"/>\r\n     <use x=\"1792.171875\" xlink:href=\"#DejaVuSans-32\"/>\r\n     <use x=\"1823.958984\" xlink:href=\"#DejaVuSans-98\"/>\r\n     <use x=\"1887.435547\" xlink:href=\"#DejaVuSans-105\"/>\r\n     <use x=\"1915.21875\" xlink:href=\"#DejaVuSans-110\"/>\r\n     <use x=\"1978.597656\" xlink:href=\"#DejaVuSans-110\"/>\r\n     <use x=\"2041.976562\" xlink:href=\"#DejaVuSans-105\"/>\r\n     <use x=\"2069.759766\" xlink:href=\"#DejaVuSans-110\"/>\r\n     <use x=\"2133.138672\" xlink:href=\"#DejaVuSans-103\"/>\r\n     <use x=\"2196.615234\" xlink:href=\"#DejaVuSans-32\"/>\r\n     <use x=\"2228.402344\" xlink:href=\"#DejaVuSans-102\"/>\r\n     <use x=\"2263.607422\" xlink:href=\"#DejaVuSans-97\"/>\r\n     <use x=\"2324.886719\" xlink:href=\"#DejaVuSans-99\"/>\r\n     <use x=\"2379.867188\" xlink:href=\"#DejaVuSans-116\"/>\r\n     <use x=\"2419.076172\" xlink:href=\"#DejaVuSans-111\"/>\r\n     <use x=\"2480.257812\" xlink:href=\"#DejaVuSans-114\"/>\r\n    </g>\r\n   </g>\r\n  </g>\r\n </g>\r\n <defs>\r\n  <clipPath id=\"p15630dfbe0\">\r\n   <rect height=\"217.44\" width=\"334.8\" x=\"56.50625\" y=\"22.318125\"/>\r\n  </clipPath>\r\n </defs>\r\n</svg>\r\n",
      "image/png": "[encoded data removed]"
     },
     "metadata": {
      "needs_background": "light"
     }
    }
   ],
   "source": [
    "#Plot the number of \"hits\" based on the binning. That is, the number of measurements falling into the same bin in function of the number of bins\n",
    "bins_num=range(1,10)\n",
    "lab_short_binned=lab_short.copy()\n",
    "hits_vec=[]\n",
    "for bin_k in bins_num:\n",
    "    time_stamp_str=\"TIME_STAMP_Bin_\"+str(bin_k)\n",
    "    lab_short_binned[time_stamp_str]=round(lab_short_binned[\"TIME_STAMP\"].dt.total_seconds()*bin_k/(100*36)).astype(int)\n",
    "    hits_prop=lab_short_binned.duplicated(subset=[\"HADM_ID\",\"LABEL_CODE\",time_stamp_str]).sum()/len(lab_short_binned.index)\n",
    "    hits_vec+=[hits_prop]\n",
    "plt.plot(bins_num,hits_vec)\n",
    "plt.title(\"Percentage of hits in function of the binning factor\")\n",
    "plt.xlabel(\"Number of bins/hour\")\n",
    "plt.ylabel(\"% of hits\")\n",
    "plt.show()"
   ]
  },
  {
   "cell_type": "code",
   "execution_count": 18,
   "metadata": {},
   "outputs": [],
   "source": [
    "#We then choose a binning factor of 2. \n",
    "#Set the time as an integer. We take 2 bins per hour\n",
    "lab_short[\"TIME_STAMP\"]=round(lab_short[\"TIME_STAMP\"].dt.total_seconds()*2/(100*36)).astype(int)\n",
    "#Then sort the dataframe with order : Admission ID, Label Code and time stamps\n",
    "lab_short=lab_short.sort_values(by=[\"HADM_ID\",\"LABEL_CODE\",\"TIME_STAMP\"],ascending=[1,1,1])"
   ]
  },
  {
   "cell_type": "code",
   "execution_count": 19,
   "metadata": {},
   "outputs": [
    {
     "output_type": "execute_result",
     "data": {
      "text/plain": [
       "False    2594793\n",
       "True       24376\n",
       "dtype: int64"
      ]
     },
     "metadata": {},
     "execution_count": 19
    }
   ],
   "source": [
    "lab_short.duplicated(subset=[\"HADM_ID\",\"LABEL_CODE\",\"TIME_STAMP\"]).value_counts()"
   ]
  },
  {
   "cell_type": "code",
   "execution_count": 20,
   "metadata": {},
   "outputs": [],
   "source": [
    "#Then save locally\n",
    "lab_short.to_csv(file_path+\"lab_events_short.csv\")"
   ]
  },
  {
   "cell_type": "code",
   "execution_count": 21,
   "metadata": {},
   "outputs": [
    {
     "output_type": "execute_result",
     "data": {
      "text/plain": [
       "0.030526445221445223"
      ]
     },
     "metadata": {},
     "execution_count": 21
    }
   ],
   "source": [
    "len(lab_short.index)/(22000*39*100)"
   ]
  },
  {
   "cell_type": "code",
   "execution_count": 22,
   "metadata": {
    "scrolled": false
   },
   "outputs": [
    {
     "output_type": "display_data",
     "data": {
      "text/plain": "<Figure size 432x288 with 1 Axes>",
      "image/svg+xml": "<?xml version=\"1.0\" encoding=\"utf-8\" standalone=\"no\"?>\r\n<!DOCTYPE svg PUBLIC \"-//W3C//DTD SVG 1.1//EN\"\r\n  \"http://www.w3.org/Graphics/SVG/1.1/DTD/svg11.dtd\">\r\n<!-- Created with matplotlib (https://matplotlib.org/) -->\r\n<svg height=\"248.518125pt\" version=\"1.1\" viewBox=\"0 0 378.465625 248.518125\" width=\"378.465625pt\" xmlns=\"http://www.w3.org/2000/svg\" xmlns:xlink=\"http://www.w3.org/1999/xlink\">\r\n <metadata>\r\n  <rdf:RDF xmlns:cc=\"http://creativecommons.org/ns#\" xmlns:dc=\"http://purl.org/dc/elements/1.1/\" xmlns:rdf=\"http://www.w3.org/1999/02/22-rdf-syntax-ns#\">\r\n   <cc:Work>\r\n    <dc:type rdf:resource=\"http://purl.org/dc/dcmitype/StillImage\"/>\r\n    <dc:date>2021-01-17T02:45:18.521404</dc:date>\r\n    <dc:format>image/svg+xml</dc:format>\r\n    <dc:creator>\r\n     <cc:Agent>\r\n      <dc:title>Matplotlib v3.3.2, https://matplotlib.org/</dc:title>\r\n     </cc:Agent>\r\n    </dc:creator>\r\n   </cc:Work>\r\n  </rdf:RDF>\r\n </metadata>\r\n <defs>\r\n  <style type=\"text/css\">*{stroke-linecap:butt;stroke-linejoin:round;}</style>\r\n </defs>\r\n <g id=\"figure_1\">\r\n  <g id=\"patch_1\">\r\n   <path d=\"M 0 248.518125 \r\nL 378.465625 248.518125 \r\nL 378.465625 0 \r\nL 0 0 \r\nz\r\n\" style=\"fill:none;\"/>\r\n  </g>\r\n  <g id=\"axes_1\">\r\n   <g id=\"patch_2\">\r\n    <path d=\"M 36.465625 224.64 \r\nL 371.265625 224.64 \r\nL 371.265625 7.2 \r\nL 36.465625 7.2 \r\nz\r\n\" style=\"fill:#ffffff;\"/>\r\n   </g>\r\n   <g id=\"matplotlib.axis_1\">\r\n    <g id=\"xtick_1\">\r\n     <g id=\"line2d_1\">\r\n      <defs>\r\n       <path d=\"M 0 0 \r\nL 0 3.5 \r\n\" id=\"mfdbf86d2e3\" style=\"stroke:#000000;stroke-width:0.8;\"/>\r\n      </defs>\r\n      <g>\r\n       <use style=\"stroke:#000000;stroke-width:0.8;\" x=\"51.683807\" xlink:href=\"#mfdbf86d2e3\" y=\"224.64\"/>\r\n      </g>\r\n     </g>\r\n     <g id=\"text_1\">\r\n      <!-- 0 -->\r\n      <g transform=\"translate(48.502557 239.238437)scale(0.1 -0.1)\">\r\n       <defs>\r\n        <path d=\"M 31.78125 66.40625 \r\nQ 24.171875 66.40625 20.328125 58.90625 \r\nQ 16.5 51.421875 16.5 36.375 \r\nQ 16.5 21.390625 20.328125 13.890625 \r\nQ 24.171875 6.390625 31.78125 6.390625 \r\nQ 39.453125 6.390625 43.28125 13.890625 \r\nQ 47.125 21.390625 47.125 36.375 \r\nQ 47.125 51.421875 43.28125 58.90625 \r\nQ 39.453125 66.40625 31.78125 66.40625 \r\nz\r\nM 31.78125 74.21875 \r\nQ 44.046875 74.21875 50.515625 64.515625 \r\nQ 56.984375 54.828125 56.984375 36.375 \r\nQ 56.984375 17.96875 50.515625 8.265625 \r\nQ 44.046875 -1.421875 31.78125 -1.421875 \r\nQ 19.53125 -1.421875 13.0625 8.265625 \r\nQ 6.59375 17.96875 6.59375 36.375 \r\nQ 6.59375 54.828125 13.0625 64.515625 \r\nQ 19.53125 74.21875 31.78125 74.21875 \r\nz\r\n\" id=\"DejaVuSans-48\"/>\r\n       </defs>\r\n       <use xlink:href=\"#DejaVuSans-48\"/>\r\n      </g>\r\n     </g>\r\n    </g>\r\n    <g id=\"xtick_2\">\r\n     <g id=\"line2d_2\">\r\n      <g>\r\n       <use style=\"stroke:#000000;stroke-width:0.8;\" x=\"119.32017\" xlink:href=\"#mfdbf86d2e3\" y=\"224.64\"/>\r\n      </g>\r\n     </g>\r\n     <g id=\"text_2\">\r\n      <!-- 20 -->\r\n      <g transform=\"translate(112.95767 239.238437)scale(0.1 -0.1)\">\r\n       <defs>\r\n        <path d=\"M 19.1875 8.296875 \r\nL 53.609375 8.296875 \r\nL 53.609375 0 \r\nL 7.328125 0 \r\nL 7.328125 8.296875 \r\nQ 12.9375 14.109375 22.625 23.890625 \r\nQ 32.328125 33.6875 34.8125 36.53125 \r\nQ 39.546875 41.84375 41.421875 45.53125 \r\nQ 43.3125 49.21875 43.3125 52.78125 \r\nQ 43.3125 58.59375 39.234375 62.25 \r\nQ 35.15625 65.921875 28.609375 65.921875 \r\nQ 23.96875 65.921875 18.8125 64.3125 \r\nQ 13.671875 62.703125 7.8125 59.421875 \r\nL 7.8125 69.390625 \r\nQ 13.765625 71.78125 18.9375 73 \r\nQ 24.125 74.21875 28.421875 74.21875 \r\nQ 39.75 74.21875 46.484375 68.546875 \r\nQ 53.21875 62.890625 53.21875 53.421875 \r\nQ 53.21875 48.921875 51.53125 44.890625 \r\nQ 49.859375 40.875 45.40625 35.40625 \r\nQ 44.1875 33.984375 37.640625 27.21875 \r\nQ 31.109375 20.453125 19.1875 8.296875 \r\nz\r\n\" id=\"DejaVuSans-50\"/>\r\n       </defs>\r\n       <use xlink:href=\"#DejaVuSans-50\"/>\r\n       <use x=\"63.623047\" xlink:href=\"#DejaVuSans-48\"/>\r\n      </g>\r\n     </g>\r\n    </g>\r\n    <g id=\"xtick_3\">\r\n     <g id=\"line2d_3\">\r\n      <g>\r\n       <use style=\"stroke:#000000;stroke-width:0.8;\" x=\"186.956534\" xlink:href=\"#mfdbf86d2e3\" y=\"224.64\"/>\r\n      </g>\r\n     </g>\r\n     <g id=\"text_3\">\r\n      <!-- 40 -->\r\n      <g transform=\"translate(180.594034 239.238437)scale(0.1 -0.1)\">\r\n       <defs>\r\n        <path d=\"M 37.796875 64.3125 \r\nL 12.890625 25.390625 \r\nL 37.796875 25.390625 \r\nz\r\nM 35.203125 72.90625 \r\nL 47.609375 72.90625 \r\nL 47.609375 25.390625 \r\nL 58.015625 25.390625 \r\nL 58.015625 17.1875 \r\nL 47.609375 17.1875 \r\nL 47.609375 0 \r\nL 37.796875 0 \r\nL 37.796875 17.1875 \r\nL 4.890625 17.1875 \r\nL 4.890625 26.703125 \r\nz\r\n\" id=\"DejaVuSans-52\"/>\r\n       </defs>\r\n       <use xlink:href=\"#DejaVuSans-52\"/>\r\n       <use x=\"63.623047\" xlink:href=\"#DejaVuSans-48\"/>\r\n      </g>\r\n     </g>\r\n    </g>\r\n    <g id=\"xtick_4\">\r\n     <g id=\"line2d_4\">\r\n      <g>\r\n       <use style=\"stroke:#000000;stroke-width:0.8;\" x=\"254.592898\" xlink:href=\"#mfdbf86d2e3\" y=\"224.64\"/>\r\n      </g>\r\n     </g>\r\n     <g id=\"text_4\">\r\n      <!-- 60 -->\r\n      <g transform=\"translate(248.230398 239.238437)scale(0.1 -0.1)\">\r\n       <defs>\r\n        <path d=\"M 33.015625 40.375 \r\nQ 26.375 40.375 22.484375 35.828125 \r\nQ 18.609375 31.296875 18.609375 23.390625 \r\nQ 18.609375 15.53125 22.484375 10.953125 \r\nQ 26.375 6.390625 33.015625 6.390625 \r\nQ 39.65625 6.390625 43.53125 10.953125 \r\nQ 47.40625 15.53125 47.40625 23.390625 \r\nQ 47.40625 31.296875 43.53125 35.828125 \r\nQ 39.65625 40.375 33.015625 40.375 \r\nz\r\nM 52.59375 71.296875 \r\nL 52.59375 62.3125 \r\nQ 48.875 64.0625 45.09375 64.984375 \r\nQ 41.3125 65.921875 37.59375 65.921875 \r\nQ 27.828125 65.921875 22.671875 59.328125 \r\nQ 17.53125 52.734375 16.796875 39.40625 \r\nQ 19.671875 43.65625 24.015625 45.921875 \r\nQ 28.375 48.1875 33.59375 48.1875 \r\nQ 44.578125 48.1875 50.953125 41.515625 \r\nQ 57.328125 34.859375 57.328125 23.390625 \r\nQ 57.328125 12.15625 50.6875 5.359375 \r\nQ 44.046875 -1.421875 33.015625 -1.421875 \r\nQ 20.359375 -1.421875 13.671875 8.265625 \r\nQ 6.984375 17.96875 6.984375 36.375 \r\nQ 6.984375 53.65625 15.1875 63.9375 \r\nQ 23.390625 74.21875 37.203125 74.21875 \r\nQ 40.921875 74.21875 44.703125 73.484375 \r\nQ 48.484375 72.75 52.59375 71.296875 \r\nz\r\n\" id=\"DejaVuSans-54\"/>\r\n       </defs>\r\n       <use xlink:href=\"#DejaVuSans-54\"/>\r\n       <use x=\"63.623047\" xlink:href=\"#DejaVuSans-48\"/>\r\n      </g>\r\n     </g>\r\n    </g>\r\n    <g id=\"xtick_5\">\r\n     <g id=\"line2d_5\">\r\n      <g>\r\n       <use style=\"stroke:#000000;stroke-width:0.8;\" x=\"322.229261\" xlink:href=\"#mfdbf86d2e3\" y=\"224.64\"/>\r\n      </g>\r\n     </g>\r\n     <g id=\"text_5\">\r\n      <!-- 80 -->\r\n      <g transform=\"translate(315.866761 239.238437)scale(0.1 -0.1)\">\r\n       <defs>\r\n        <path d=\"M 31.78125 34.625 \r\nQ 24.75 34.625 20.71875 30.859375 \r\nQ 16.703125 27.09375 16.703125 20.515625 \r\nQ 16.703125 13.921875 20.71875 10.15625 \r\nQ 24.75 6.390625 31.78125 6.390625 \r\nQ 38.8125 6.390625 42.859375 10.171875 \r\nQ 46.921875 13.96875 46.921875 20.515625 \r\nQ 46.921875 27.09375 42.890625 30.859375 \r\nQ 38.875 34.625 31.78125 34.625 \r\nz\r\nM 21.921875 38.8125 \r\nQ 15.578125 40.375 12.03125 44.71875 \r\nQ 8.5 49.078125 8.5 55.328125 \r\nQ 8.5 64.0625 14.71875 69.140625 \r\nQ 20.953125 74.21875 31.78125 74.21875 \r\nQ 42.671875 74.21875 48.875 69.140625 \r\nQ 55.078125 64.0625 55.078125 55.328125 \r\nQ 55.078125 49.078125 51.53125 44.71875 \r\nQ 48 40.375 41.703125 38.8125 \r\nQ 48.828125 37.15625 52.796875 32.3125 \r\nQ 56.78125 27.484375 56.78125 20.515625 \r\nQ 56.78125 9.90625 50.3125 4.234375 \r\nQ 43.84375 -1.421875 31.78125 -1.421875 \r\nQ 19.734375 -1.421875 13.25 4.234375 \r\nQ 6.78125 9.90625 6.78125 20.515625 \r\nQ 6.78125 27.484375 10.78125 32.3125 \r\nQ 14.796875 37.15625 21.921875 38.8125 \r\nz\r\nM 18.3125 54.390625 \r\nQ 18.3125 48.734375 21.84375 45.5625 \r\nQ 25.390625 42.390625 31.78125 42.390625 \r\nQ 38.140625 42.390625 41.71875 45.5625 \r\nQ 45.3125 48.734375 45.3125 54.390625 \r\nQ 45.3125 60.0625 41.71875 63.234375 \r\nQ 38.140625 66.40625 31.78125 66.40625 \r\nQ 25.390625 66.40625 21.84375 63.234375 \r\nQ 18.3125 60.0625 18.3125 54.390625 \r\nz\r\n\" id=\"DejaVuSans-56\"/>\r\n       </defs>\r\n       <use xlink:href=\"#DejaVuSans-56\"/>\r\n       <use x=\"63.623047\" xlink:href=\"#DejaVuSans-48\"/>\r\n      </g>\r\n     </g>\r\n    </g>\r\n   </g>\r\n   <g id=\"matplotlib.axis_2\">\r\n    <g id=\"ytick_1\">\r\n     <g id=\"line2d_6\">\r\n      <defs>\r\n       <path d=\"M 0 0 \r\nL -3.5 0 \r\n\" id=\"md7a8f59735\" style=\"stroke:#000000;stroke-width:0.8;\"/>\r\n      </defs>\r\n      <g>\r\n       <use style=\"stroke:#000000;stroke-width:0.8;\" x=\"36.465625\" xlink:href=\"#md7a8f59735\" y=\"221.345455\"/>\r\n      </g>\r\n     </g>\r\n     <g id=\"text_6\">\r\n      <!-- 13.0 -->\r\n      <g transform=\"translate(7.2 225.144673)scale(0.1 -0.1)\">\r\n       <defs>\r\n        <path d=\"M 12.40625 8.296875 \r\nL 28.515625 8.296875 \r\nL 28.515625 63.921875 \r\nL 10.984375 60.40625 \r\nL 10.984375 69.390625 \r\nL 28.421875 72.90625 \r\nL 38.28125 72.90625 \r\nL 38.28125 8.296875 \r\nL 54.390625 8.296875 \r\nL 54.390625 0 \r\nL 12.40625 0 \r\nz\r\n\" id=\"DejaVuSans-49\"/>\r\n        <path d=\"M 40.578125 39.3125 \r\nQ 47.65625 37.796875 51.625 33 \r\nQ 55.609375 28.21875 55.609375 21.1875 \r\nQ 55.609375 10.40625 48.1875 4.484375 \r\nQ 40.765625 -1.421875 27.09375 -1.421875 \r\nQ 22.515625 -1.421875 17.65625 -0.515625 \r\nQ 12.796875 0.390625 7.625 2.203125 \r\nL 7.625 11.71875 \r\nQ 11.71875 9.328125 16.59375 8.109375 \r\nQ 21.484375 6.890625 26.8125 6.890625 \r\nQ 36.078125 6.890625 40.9375 10.546875 \r\nQ 45.796875 14.203125 45.796875 21.1875 \r\nQ 45.796875 27.640625 41.28125 31.265625 \r\nQ 36.765625 34.90625 28.71875 34.90625 \r\nL 20.21875 34.90625 \r\nL 20.21875 43.015625 \r\nL 29.109375 43.015625 \r\nQ 36.375 43.015625 40.234375 45.921875 \r\nQ 44.09375 48.828125 44.09375 54.296875 \r\nQ 44.09375 59.90625 40.109375 62.90625 \r\nQ 36.140625 65.921875 28.71875 65.921875 \r\nQ 24.65625 65.921875 20.015625 65.03125 \r\nQ 15.375 64.15625 9.8125 62.3125 \r\nL 9.8125 71.09375 \r\nQ 15.4375 72.65625 20.34375 73.4375 \r\nQ 25.25 74.21875 29.59375 74.21875 \r\nQ 40.828125 74.21875 47.359375 69.109375 \r\nQ 53.90625 64.015625 53.90625 55.328125 \r\nQ 53.90625 49.265625 50.4375 45.09375 \r\nQ 46.96875 40.921875 40.578125 39.3125 \r\nz\r\n\" id=\"DejaVuSans-51\"/>\r\n        <path d=\"M 10.6875 12.40625 \r\nL 21 12.40625 \r\nL 21 0 \r\nL 10.6875 0 \r\nz\r\n\" id=\"DejaVuSans-46\"/>\r\n       </defs>\r\n       <use xlink:href=\"#DejaVuSans-49\"/>\r\n       <use x=\"63.623047\" xlink:href=\"#DejaVuSans-51\"/>\r\n       <use x=\"127.246094\" xlink:href=\"#DejaVuSans-46\"/>\r\n       <use x=\"159.033203\" xlink:href=\"#DejaVuSans-48\"/>\r\n      </g>\r\n     </g>\r\n    </g>\r\n    <g id=\"ytick_2\">\r\n     <g id=\"line2d_7\">\r\n      <g>\r\n       <use style=\"stroke:#000000;stroke-width:0.8;\" x=\"36.465625\" xlink:href=\"#md7a8f59735\" y=\"188.4\"/>\r\n      </g>\r\n     </g>\r\n     <g id=\"text_7\">\r\n      <!-- 13.5 -->\r\n      <g transform=\"translate(7.2 192.199219)scale(0.1 -0.1)\">\r\n       <defs>\r\n        <path d=\"M 10.796875 72.90625 \r\nL 49.515625 72.90625 \r\nL 49.515625 64.59375 \r\nL 19.828125 64.59375 \r\nL 19.828125 46.734375 \r\nQ 21.96875 47.46875 24.109375 47.828125 \r\nQ 26.265625 48.1875 28.421875 48.1875 \r\nQ 40.625 48.1875 47.75 41.5 \r\nQ 54.890625 34.8125 54.890625 23.390625 \r\nQ 54.890625 11.625 47.5625 5.09375 \r\nQ 40.234375 -1.421875 26.90625 -1.421875 \r\nQ 22.3125 -1.421875 17.546875 -0.640625 \r\nQ 12.796875 0.140625 7.71875 1.703125 \r\nL 7.71875 11.625 \r\nQ 12.109375 9.234375 16.796875 8.0625 \r\nQ 21.484375 6.890625 26.703125 6.890625 \r\nQ 35.15625 6.890625 40.078125 11.328125 \r\nQ 45.015625 15.765625 45.015625 23.390625 \r\nQ 45.015625 31 40.078125 35.4375 \r\nQ 35.15625 39.890625 26.703125 39.890625 \r\nQ 22.75 39.890625 18.8125 39.015625 \r\nQ 14.890625 38.140625 10.796875 36.28125 \r\nz\r\n\" id=\"DejaVuSans-53\"/>\r\n       </defs>\r\n       <use xlink:href=\"#DejaVuSans-49\"/>\r\n       <use x=\"63.623047\" xlink:href=\"#DejaVuSans-51\"/>\r\n       <use x=\"127.246094\" xlink:href=\"#DejaVuSans-46\"/>\r\n       <use x=\"159.033203\" xlink:href=\"#DejaVuSans-53\"/>\r\n      </g>\r\n     </g>\r\n    </g>\r\n    <g id=\"ytick_3\">\r\n     <g id=\"line2d_8\">\r\n      <g>\r\n       <use style=\"stroke:#000000;stroke-width:0.8;\" x=\"36.465625\" xlink:href=\"#md7a8f59735\" y=\"155.454545\"/>\r\n      </g>\r\n     </g>\r\n     <g id=\"text_8\">\r\n      <!-- 14.0 -->\r\n      <g transform=\"translate(7.2 159.253764)scale(0.1 -0.1)\">\r\n       <use xlink:href=\"#DejaVuSans-49\"/>\r\n       <use x=\"63.623047\" xlink:href=\"#DejaVuSans-52\"/>\r\n       <use x=\"127.246094\" xlink:href=\"#DejaVuSans-46\"/>\r\n       <use x=\"159.033203\" xlink:href=\"#DejaVuSans-48\"/>\r\n      </g>\r\n     </g>\r\n    </g>\r\n    <g id=\"ytick_4\">\r\n     <g id=\"line2d_9\">\r\n      <g>\r\n       <use style=\"stroke:#000000;stroke-width:0.8;\" x=\"36.465625\" xlink:href=\"#md7a8f59735\" y=\"122.509091\"/>\r\n      </g>\r\n     </g>\r\n     <g id=\"text_9\">\r\n      <!-- 14.5 -->\r\n      <g transform=\"translate(7.2 126.30831)scale(0.1 -0.1)\">\r\n       <use xlink:href=\"#DejaVuSans-49\"/>\r\n       <use x=\"63.623047\" xlink:href=\"#DejaVuSans-52\"/>\r\n       <use x=\"127.246094\" xlink:href=\"#DejaVuSans-46\"/>\r\n       <use x=\"159.033203\" xlink:href=\"#DejaVuSans-53\"/>\r\n      </g>\r\n     </g>\r\n    </g>\r\n    <g id=\"ytick_5\">\r\n     <g id=\"line2d_10\">\r\n      <g>\r\n       <use style=\"stroke:#000000;stroke-width:0.8;\" x=\"36.465625\" xlink:href=\"#md7a8f59735\" y=\"89.563636\"/>\r\n      </g>\r\n     </g>\r\n     <g id=\"text_10\">\r\n      <!-- 15.0 -->\r\n      <g transform=\"translate(7.2 93.362855)scale(0.1 -0.1)\">\r\n       <use xlink:href=\"#DejaVuSans-49\"/>\r\n       <use x=\"63.623047\" xlink:href=\"#DejaVuSans-53\"/>\r\n       <use x=\"127.246094\" xlink:href=\"#DejaVuSans-46\"/>\r\n       <use x=\"159.033203\" xlink:href=\"#DejaVuSans-48\"/>\r\n      </g>\r\n     </g>\r\n    </g>\r\n    <g id=\"ytick_6\">\r\n     <g id=\"line2d_11\">\r\n      <g>\r\n       <use style=\"stroke:#000000;stroke-width:0.8;\" x=\"36.465625\" xlink:href=\"#md7a8f59735\" y=\"56.618182\"/>\r\n      </g>\r\n     </g>\r\n     <g id=\"text_11\">\r\n      <!-- 15.5 -->\r\n      <g transform=\"translate(7.2 60.417401)scale(0.1 -0.1)\">\r\n       <use xlink:href=\"#DejaVuSans-49\"/>\r\n       <use x=\"63.623047\" xlink:href=\"#DejaVuSans-53\"/>\r\n       <use x=\"127.246094\" xlink:href=\"#DejaVuSans-46\"/>\r\n       <use x=\"159.033203\" xlink:href=\"#DejaVuSans-53\"/>\r\n      </g>\r\n     </g>\r\n    </g>\r\n    <g id=\"ytick_7\">\r\n     <g id=\"line2d_12\">\r\n      <g>\r\n       <use style=\"stroke:#000000;stroke-width:0.8;\" x=\"36.465625\" xlink:href=\"#md7a8f59735\" y=\"23.672727\"/>\r\n      </g>\r\n     </g>\r\n     <g id=\"text_12\">\r\n      <!-- 16.0 -->\r\n      <g transform=\"translate(7.2 27.471946)scale(0.1 -0.1)\">\r\n       <use xlink:href=\"#DejaVuSans-49\"/>\r\n       <use x=\"63.623047\" xlink:href=\"#DejaVuSans-54\"/>\r\n       <use x=\"127.246094\" xlink:href=\"#DejaVuSans-46\"/>\r\n       <use x=\"159.033203\" xlink:href=\"#DejaVuSans-48\"/>\r\n      </g>\r\n     </g>\r\n    </g>\r\n   </g>\r\n   <g id=\"line2d_13\">\r\n    <path clip-path=\"url(#p0bcfefc426)\" d=\"M 51.683807 214.756364 \r\nL 190.338352 201.578182 \r\nL 207.247443 194.989091 \r\nL 234.301989 201.578182 \r\nL 274.883807 175.221818 \r\nL 288.41108 148.865455 \r\nL 325.61108 115.92 \r\nL 356.047443 17.083636 \r\n\" style=\"fill:none;stroke:#1f77b4;stroke-linecap:square;stroke-width:1.5;\"/>\r\n   </g>\r\n   <g id=\"patch_3\">\r\n    <path d=\"M 36.465625 224.64 \r\nL 36.465625 7.2 \r\n\" style=\"fill:none;stroke:#000000;stroke-linecap:square;stroke-linejoin:miter;stroke-width:0.8;\"/>\r\n   </g>\r\n   <g id=\"patch_4\">\r\n    <path d=\"M 371.265625 224.64 \r\nL 371.265625 7.2 \r\n\" style=\"fill:none;stroke:#000000;stroke-linecap:square;stroke-linejoin:miter;stroke-width:0.8;\"/>\r\n   </g>\r\n   <g id=\"patch_5\">\r\n    <path d=\"M 36.465625 224.64 \r\nL 371.265625 224.64 \r\n\" style=\"fill:none;stroke:#000000;stroke-linecap:square;stroke-linejoin:miter;stroke-width:0.8;\"/>\r\n   </g>\r\n   <g id=\"patch_6\">\r\n    <path d=\"M 36.465625 7.2 \r\nL 371.265625 7.2 \r\n\" style=\"fill:none;stroke:#000000;stroke-linecap:square;stroke-linejoin:miter;stroke-width:0.8;\"/>\r\n   </g>\r\n  </g>\r\n </g>\r\n <defs>\r\n  <clipPath id=\"p0bcfefc426\">\r\n   <rect height=\"217.44\" width=\"334.8\" x=\"36.465625\" y=\"7.2\"/>\r\n  </clipPath>\r\n </defs>\r\n</svg>\r\n",
      "image/png": "[encoded data removed]"
     },
     "metadata": {
      "needs_background": "light"
     }
    }
   ],
   "source": [
    "#Example of time series for an ICU stay.\n",
    "plt.plot(lab_short.loc[(lab_short[\"HADM_ID\"]==130421)&(lab_short[\"LABEL_CODE\"]==25),\"TIME_STAMP\"],lab_short.loc[(lab_short[\"HADM_ID\"]==130421)&(lab_short[\"LABEL_CODE\"]==25),\"VALUENUM\"])\n",
    "plt.show()"
   ]
  },
  {
   "cell_type": "code",
   "execution_count": 23,
   "metadata": {},
   "outputs": [],
   "source": [
    "#Create an extra dataset with the deathtags of each hadm_id.\n",
    "death_tags_s=lab_short.groupby(\"HADM_ID\")[\"DEATHTAG\"].unique().astype(int)\n",
    "death_tags_df=pd.DataFrame({\"HADM_ID\":death_tags_s.index,\"DEATHTAG\":death_tags_s.values})\n",
    "death_tags_df.to_csv(file_path+\"death_tags.csv\")"
   ]
  },
  {
   "cell_type": "markdown",
   "metadata": {},
   "source": [
    "### Dataset creation for LSTM operation (One sample = one patient history)"
   ]
  },
  {
   "cell_type": "code",
   "execution_count": 24,
   "metadata": {},
   "outputs": [],
   "source": [
    "#Transform the dataframe as one row per patient/feature (for LSTM operation)\n",
    "import numpy as np\n",
    "results=[]\n",
    "unique_hadms=lab_short[\"HADM_ID\"].unique()\n",
    "for lab_code in range(30):\n",
    "    lab_short=lab_short.drop_duplicates([\"LABEL_CODE\",\"TIME_STAMP\",\"HADM_ID\"])\n",
    "    lab_code_view=lab_short.loc[lab_short[\"LABEL_CODE\"]==lab_code]\n",
    "    pivoted=lab_code_view.pivot(index=\"HADM_ID\",columns=\"TIME_STAMP\",values=\"VALUENUM\").reset_index()\n",
    "    pivoted[\"LABEL_CODE\"]=lab_code\n",
    "    \n",
    "    non_code=lab_short.loc[lab_short[\"LABEL_CODE\"]==lab_code,\"HADM_ID\"].unique()\n",
    "    missing_hadms=np.setdiff1d(unique_hadms,non_code)\n",
    "    \n",
    "    df_missing_hadms=pd.DataFrame(data=np.vstack((missing_hadms,lab_code*np.ones(missing_hadms.shape))).T,columns=[\"HADM_ID\",\"LABEL_CODE\"])\n",
    "    pivoted_full=pd.concat([pivoted,df_missing_hadms])\n",
    "    \n",
    "    results.append(pd.merge(pivoted_full,death_tags_df,on=\"HADM_ID\"))\n",
    "df_pre_proc=pd.concat(results)\n",
    "\n",
    "#We create a new HADM_ID which goes from 0 to nunique()\n",
    "d=dict(zip(df_pre_proc[\"HADM_ID\"].unique(),range(df_pre_proc[\"HADM_ID\"].nunique())))\n",
    "df_pre_proc[\"UNIQUE_ID\"]=df_pre_proc[\"HADM_ID\"].map(d)\n",
    "\n",
    "df_pre_proc.to_csv(file_path+\"lab_short_pre_proc.csv\")"
   ]
  },
  {
   "cell_type": "code",
   "execution_count": 25,
   "metadata": {},
   "outputs": [],
   "source": [
    "#Divide the LSTM dataset in train/val/test sets and save them locally.\n",
    "val_num=int(0.2*df_pre_proc[\"UNIQUE_ID\"].nunique())\n",
    "test_num=int(0.1*df_pre_proc[\"UNIQUE_ID\"].nunique())\n",
    "\n",
    "patients_list=df_pre_proc[\"UNIQUE_ID\"].unique()\n",
    "validation_choice=np.random.choice(patients_list,size=val_num,replace=False)\n",
    "patients_list=np.setdiff1d(patients_list,validation_choice)\n",
    "test_choice=np.random.choice(patients_list,size=test_num,replace=False)\n",
    "patients_list=np.setdiff1d(patients_list,test_choice)\n",
    "\n",
    "df_val=df_pre_proc.loc[df_pre_proc[\"UNIQUE_ID\"].isin(validation_choice)]\n",
    "d=dict(zip(df_val[\"UNIQUE_ID\"].unique(),range(df_val[\"UNIQUE_ID\"].nunique())))\n",
    "df_val[\"UNIQUE_ID\"].replace(d,inplace=True)\n",
    "\n",
    "df_test=df_pre_proc.loc[df_pre_proc[\"UNIQUE_ID\"].isin(test_choice)]\n",
    "d=dict(zip(df_test[\"UNIQUE_ID\"].unique(),range(df_test[\"UNIQUE_ID\"].nunique())))\n",
    "df_test[\"UNIQUE_ID\"].replace(d,inplace=True)\n",
    "\n",
    "df_train=df_pre_proc.loc[df_pre_proc[\"UNIQUE_ID\"].isin(patients_list)]\n",
    "d=dict(zip(df_train[\"UNIQUE_ID\"].unique(),range(df_train[\"UNIQUE_ID\"].nunique())))\n",
    "df_train[\"UNIQUE_ID\"].replace(d,inplace=True)\n",
    "\n",
    "assert((len(df_val.index)+len(df_test.index)+len(df_train.index))==len(df_pre_proc.index))\n",
    "\n",
    "df_val.to_csv(file_path+\"lab_short_pre_proc_val.csv\")\n",
    "df_test.to_csv(file_path+\"lab_short_pre_proc_test.csv\")\n",
    "df_train.to_csv(file_path+\"lab_short_pre_proc_train.csv\")"
   ]
  },
  {
   "cell_type": "markdown",
   "metadata": {},
   "source": [
    "### Dataframe creation for Tensor Factorization"
   ]
  },
  {
   "cell_type": "code",
   "execution_count": 26,
   "metadata": {},
   "outputs": [],
   "source": [
    "#We copy the lab_short with the required columns\n",
    "lab_short_tensor=lab_short[[\"HADM_ID\",\"VALUENUM\",\"TIME_STAMP\",\"LABEL_CODE\",\"DEATHTAG\"]].copy()\n",
    "#Creation of a unique index\n",
    "d=dict(zip(lab_short_tensor[\"HADM_ID\"].unique(),range(lab_short_tensor[\"HADM_ID\"].nunique())))\n",
    "lab_short_tensor[\"UNIQUE_ID\"]=lab_short_tensor[\"HADM_ID\"].map(d)\n",
    "#Apply the same unique index for the death tags.\n",
    "death_tags_df[\"UNIQUE_ID\"]=death_tags_df[\"HADM_ID\"].map(d)\n",
    "death_tags_df.to_csv(file_path+\"death_tag_tensor.csv\")"
   ]
  },
  {
   "cell_type": "code",
   "execution_count": 27,
   "metadata": {},
   "outputs": [
    {
     "output_type": "execute_result",
     "data": {
      "text/plain": [
       "        ROW_ID  SUBJECT_ID  HADM_ID  SEQ_NUM ICD9_CODE\n",
       "0         1297         109   172335      1.0     40301\n",
       "1         1298         109   172335      2.0       486\n",
       "2         1299         109   172335      3.0     58281\n",
       "3         1300         109   172335      4.0      5855\n",
       "4         1301         109   172335      5.0      4254\n",
       "...        ...         ...      ...      ...       ...\n",
       "651042  639798       97503   188195      2.0     20280\n",
       "651043  639799       97503   188195      3.0     V5869\n",
       "651044  639800       97503   188195      4.0     V1279\n",
       "651045  639801       97503   188195      5.0      5275\n",
       "651046  639802       97503   188195      6.0      5569\n",
       "\n",
       "[651047 rows x 5 columns]"
      ],
      "text/html": "<div>\n<style scoped>\n    .dataframe tbody tr th:only-of-type {\n        vertical-align: middle;\n    }\n\n    .dataframe tbody tr th {\n        vertical-align: top;\n    }\n\n    .dataframe thead th {\n        text-align: right;\n    }\n</style>\n<table border=\"1\" class=\"dataframe\">\n  <thead>\n    <tr style=\"text-align: right;\">\n      <th></th>\n      <th>ROW_ID</th>\n      <th>SUBJECT_ID</th>\n      <th>HADM_ID</th>\n      <th>SEQ_NUM</th>\n      <th>ICD9_CODE</th>\n    </tr>\n  </thead>\n  <tbody>\n    <tr>\n      <th>0</th>\n      <td>1297</td>\n      <td>109</td>\n      <td>172335</td>\n      <td>1.0</td>\n      <td>40301</td>\n    </tr>\n    <tr>\n      <th>1</th>\n      <td>1298</td>\n      <td>109</td>\n      <td>172335</td>\n      <td>2.0</td>\n      <td>486</td>\n    </tr>\n    <tr>\n      <th>2</th>\n      <td>1299</td>\n      <td>109</td>\n      <td>172335</td>\n      <td>3.0</td>\n      <td>58281</td>\n    </tr>\n    <tr>\n      <th>3</th>\n      <td>1300</td>\n      <td>109</td>\n      <td>172335</td>\n      <td>4.0</td>\n      <td>5855</td>\n    </tr>\n    <tr>\n      <th>4</th>\n      <td>1301</td>\n      <td>109</td>\n      <td>172335</td>\n      <td>5.0</td>\n      <td>4254</td>\n    </tr>\n    <tr>\n      <th>...</th>\n      <td>...</td>\n      <td>...</td>\n      <td>...</td>\n      <td>...</td>\n      <td>...</td>\n    </tr>\n    <tr>\n      <th>651042</th>\n      <td>639798</td>\n      <td>97503</td>\n      <td>188195</td>\n      <td>2.0</td>\n      <td>20280</td>\n    </tr>\n    <tr>\n      <th>651043</th>\n      <td>639799</td>\n      <td>97503</td>\n      <td>188195</td>\n      <td>3.0</td>\n      <td>V5869</td>\n    </tr>\n    <tr>\n      <th>651044</th>\n      <td>639800</td>\n      <td>97503</td>\n      <td>188195</td>\n      <td>4.0</td>\n      <td>V1279</td>\n    </tr>\n    <tr>\n      <th>651045</th>\n      <td>639801</td>\n      <td>97503</td>\n      <td>188195</td>\n      <td>5.0</td>\n      <td>5275</td>\n    </tr>\n    <tr>\n      <th>651046</th>\n      <td>639802</td>\n      <td>97503</td>\n      <td>188195</td>\n      <td>6.0</td>\n      <td>5569</td>\n    </tr>\n  </tbody>\n</table>\n<p>651047 rows × 5 columns</p>\n</div>"
     },
     "metadata": {},
     "execution_count": 27
    }
   ],
   "source": [
    "ICD_diag=pd.read_csv(file_path+\"DIAGNOSES_ICD.csv\")\n",
    "ICD_diag"
   ]
  },
  {
   "cell_type": "code",
   "execution_count": 28,
   "metadata": {},
   "outputs": [],
   "source": [
    "main_diag=ICD_diag.loc[(ICD_diag[\"SEQ_NUM\"]==1)]\n",
    "lab_short_tensor_m=pd.merge(lab_short_tensor,main_diag[[\"HADM_ID\",\"ICD9_CODE\"]],on=\"HADM_ID\")"
   ]
  },
  {
   "cell_type": "code",
   "execution_count": 29,
   "metadata": {},
   "outputs": [],
   "source": [
    "import numpy as np\n",
    "#Only select the first 3 digits of each ICD9 code.\n",
    "lab_short_tensor_m[\"ICD9_short\"]=lab_short_tensor_m[\"ICD9_CODE\"].astype(str).str[:3]\n",
    "#Check that all codes are 3 digits long.\n",
    "str_len=lab_short_tensor_m[\"ICD9_short\"].str.len()\n",
    "assert(str_len.loc[str_len!=3].count()==0)\n",
    "\n",
    "\n",
    "\n",
    "#Map the ICD codes to their main category and then derive a one hot encoding.\n",
    "#criteria=[lab_short_tensor_m[\"ICD9_short\"].between(\"001\",\"139\"),lab_short_tensor_m[\"ICD9_short\"].between(\"140\",\"239\"),lab_short_tensor_m[\"ICD9_short\"].between(\"240\",\"279\"),lab_short_tensor_m[\"ICD9_short\"].between(\"280\",\"289\"),lab_short_tensor_m[\"ICD9_short\"].between(\"290\",\"319\"),lab_short_tensor_m[\"ICD9_short\"].between(\"320\",\"389\"),lab_short_tensor_m[\"ICD9_short\"].between(\"390\",\"459\"),lab_short_tensor_m[\"ICD9_short\"].between(\"460\",\"519\"),lab_short_tensor_m[\"ICD9_short\"].between(\"520\",\"579\"),lab_short_tensor_m[\"ICD9_short\"].between(\"580\",\"629\"),lab_short_tensor_m[\"ICD9_short\"].between(\"630\",\"679\"),lab_short_tensor_m[\"ICD9_short\"].between(\"680\",\"709\"),lab_short_tensor_m[\"ICD9_short\"].between(\"710\",\"739\"),lab_short_tensor_m[\"ICD9_short\"].between(\"740\",\"759\"),lab_short_tensor_m[\"ICD9_short\"].between(\"760\",\"779\"),lab_short_tensor_m[\"ICD9_short\"].between(\"780\",\"799\"),lab_short_tensor_m[\"ICD9_short\"].between(\"800\",\"999\"),lab_short_tensor_m[\"ICD9_short\"].between(\"E\",\"W\")]\n",
    "#values=[chr(i) for i in range(ord('A'),ord('A')+18)]\n",
    "#lab_short_tensor_m[\"ICD9_label\"]=np.select(criteria,values,0)\n",
    "#hot_encoding=pd.get_dummies(lab_short_tensor_m[\"ICD9_label\"])\n",
    "#lab_short_tensor_m[hot_encoding.columns]=hot_encoding\n",
    "\n",
    "\n",
    "#Finer encoding (3 digits)\n",
    "hot_encodings=pd.get_dummies(lab_short_tensor_m[\"ICD9_short\"])\n",
    "lab_short_tensor_m[hot_encodings.columns]=hot_encodings\n",
    "\n",
    "#Extra time features computation\n",
    "lab_short_tensor_m[\"TIME_SQ\"]=lab_short_tensor_m[\"TIME_STAMP\"]**2\n",
    "\n",
    "#New order of the columns.\n",
    "new_cols=[\"UNIQUE_ID\",\"LABEL_CODE\",\"TIME_STAMP\",\"DEATHTAG\"]+list(hot_encodings.columns)+[\"VALUENUM\"]\n",
    "lab_short_tensor_m=lab_short_tensor_m[new_cols].copy()\n",
    "\n",
    "lab_short_tensor_nocov=lab_short_tensor_m[[\"UNIQUE_ID\",\"LABEL_CODE\",\"TIME_STAMP\",\"DEATHTAG\"]+[\"VALUENUM\"]].copy()"
   ]
  },
  {
   "cell_type": "code",
   "execution_count": 30,
   "metadata": {},
   "outputs": [],
   "source": [
    "#Add a column with the mean and std of each different measurement type and then normalize them.\n",
    "d_mean=dict(lab_short_tensor_nocov.groupby(\"LABEL_CODE\")[\"VALUENUM\"].mean())\n",
    "lab_short_tensor_nocov[\"MEAN\"]=lab_short_tensor_nocov[\"LABEL_CODE\"].map(d_mean)\n",
    "d_std=dict(lab_short_tensor_nocov.groupby(\"LABEL_CODE\")[\"VALUENUM\"].std())\n",
    "lab_short_tensor_nocov[\"STD\"]=lab_short_tensor_nocov[\"LABEL_CODE\"].map(d_std)\n",
    "lab_short_tensor_nocov[\"VALUENORM\"]=(lab_short_tensor_nocov[\"VALUENUM\"]-lab_short_tensor_nocov[\"MEAN\"])/lab_short_tensor_nocov[\"STD\"]"
   ]
  },
  {
   "cell_type": "markdown",
   "metadata": {},
   "source": [
    "#### Standard train-validation split\n",
    "We randomly split the dataset in validation and training set."
   ]
  },
  {
   "cell_type": "code",
   "execution_count": 31,
   "metadata": {},
   "outputs": [],
   "source": [
    "#Split training_validation_test sets RANDOM DIVISION.\n",
    "\n",
    "df_train,df_val =train_test_split(lab_short_tensor_nocov,test_size=0.2) \n",
    "\n",
    "#Make sure that patients of the validation set have instances in the training set. (same with labels but this should be nearly certain)\n",
    "assert(len(df_val.loc[~df_val[\"UNIQUE_ID\"].isin(df_train[\"UNIQUE_ID\"])].index)==0)\n",
    "assert(len(df_val.loc[~df_val[\"LABEL_CODE\"].isin(df_train[\"LABEL_CODE\"])].index)==0)\n",
    "\n",
    "#Save locally.\n",
    "lab_short_tensor_nocov.to_csv(file_path+\"lab_short_tensor.csv\")\n",
    "df_train.to_csv(file_path+\"lab_short_tensor_train.csv\")\n",
    "df_val.to_csv(file_path+\"lab_short_tensor_val.csv\")"
   ]
  },
  {
   "cell_type": "markdown",
   "metadata": {},
   "source": [
    "#### Special train-validation split\n",
    "\n",
    "We first randomly split the dataset in training and validation set but then remove all training samples that are located further in time than the validation sample. Concretely it gives :\n",
    "\n",
    "For each validation sample (x,y,t) with x:ID, y:feature and t=time, we remove all training samples (x,y,T) for T>t"
   ]
  },
  {
   "cell_type": "code",
   "execution_count": 32,
   "metadata": {},
   "outputs": [
    {
     "output_type": "error",
     "ename": "AssertionError",
     "evalue": "",
     "traceback": [
      "\u001b[1;31m---------------------------------------------------------------------------\u001b[0m",
      "\u001b[1;31mAssertionError\u001b[0m                            Traceback (most recent call last)",
      "\u001b[1;32m<ipython-input-32-b587b3d18721>\u001b[0m in \u001b[0;36m<module>\u001b[1;34m\u001b[0m\n\u001b[0;32m     13\u001b[0m \u001b[1;33m\u001b[0m\u001b[0m\n\u001b[0;32m     14\u001b[0m \u001b[1;31m#Make sure that patients of the validation set have instances in the training set. (same with labels but this should be nearly certain)\u001b[0m\u001b[1;33m\u001b[0m\u001b[1;33m\u001b[0m\u001b[1;33m\u001b[0m\u001b[0m\n\u001b[1;32m---> 15\u001b[1;33m \u001b[1;32massert\u001b[0m\u001b[1;33m(\u001b[0m\u001b[0mlen\u001b[0m\u001b[1;33m(\u001b[0m\u001b[0mdf_val\u001b[0m\u001b[1;33m.\u001b[0m\u001b[0mloc\u001b[0m\u001b[1;33m[\u001b[0m\u001b[1;33m~\u001b[0m\u001b[0mdf_val\u001b[0m\u001b[1;33m[\u001b[0m\u001b[1;34m\"UNIQUE_ID\"\u001b[0m\u001b[1;33m]\u001b[0m\u001b[1;33m.\u001b[0m\u001b[0misin\u001b[0m\u001b[1;33m(\u001b[0m\u001b[0mdf_train_clean\u001b[0m\u001b[1;33m[\u001b[0m\u001b[1;34m\"UNIQUE_ID\"\u001b[0m\u001b[1;33m]\u001b[0m\u001b[1;33m)\u001b[0m\u001b[1;33m]\u001b[0m\u001b[1;33m.\u001b[0m\u001b[0mindex\u001b[0m\u001b[1;33m)\u001b[0m\u001b[1;33m==\u001b[0m\u001b[1;36m0\u001b[0m\u001b[1;33m)\u001b[0m\u001b[1;33m\u001b[0m\u001b[1;33m\u001b[0m\u001b[0m\n\u001b[0m\u001b[0;32m     16\u001b[0m \u001b[1;33m\u001b[0m\u001b[0m\n\u001b[0;32m     17\u001b[0m \u001b[1;31m#Training and Validation ratios:\u001b[0m\u001b[1;33m\u001b[0m\u001b[1;33m\u001b[0m\u001b[1;33m\u001b[0m\u001b[0m\n",
      "\u001b[1;31mAssertionError\u001b[0m: "
     ]
    }
   ],
   "source": [
    "#Perform a more conservative split. We remove from the training set all further samples (in time) of each validation sample.\n",
    "\n",
    "df_train,df_val =train_test_split(lab_short_tensor_nocov,test_size=0.1) #This operation keeps the right index\n",
    "#We now select the entries of the full dataset wich have common UNIQUE_ID and LABEL CODE with the training samples.\n",
    "flagged_entries=pd.merge(lab_short_tensor_nocov.reset_index(),df_val,how=\"inner\",on=[\"UNIQUE_ID\",\"LABEL_CODE\"]).set_index(\"index\")\n",
    "#The index of entries to remove are the ones which are further in time than the validation samples\n",
    "to_drop_idx=np.intersect1d(flagged_entries.loc[flagged_entries[\"TIME_STAMP_x\"]>flagged_entries[\"TIME_STAMP_y\"]].index,df_train.index)\n",
    "df_train_clean=df_train.drop(to_drop_idx).copy()\n",
    "\n",
    "#UNIT TEST\n",
    "merged_train_clean=pd.merge(df_train_clean,df_val,how=\"inner\",on=[\"UNIQUE_ID\",\"LABEL_CODE\"])\n",
    "assert(len(merged_train_clean.loc[merged_train_clean[\"TIME_STAMP_x\"]>merged_train_clean[\"TIME_STAMP_y\"]].index)==0)\n",
    "\n",
    "#Make sure that patients of the validation set have instances in the training set. (same with labels but this should be nearly certain)\n",
    "assert(len(df_val.loc[~df_val[\"UNIQUE_ID\"].isin(df_train_clean[\"UNIQUE_ID\"])].index)==0)\n",
    "\n",
    "#Training and Validation ratios:\n",
    "print(\"Validation ratio : \"+str(len(df_val.index)/(len(df_val.index)+len(df_train_clean.index))))\n",
    "print(\"Number of training samples : \"+str(len(df_train_clean.index)))\n",
    "\n",
    "#Save locally\n",
    "df_train_clean.to_csv(file_path+\"lab_short_tensor_train_HARD.csv\")\n",
    "df_val.to_csv(file_path+\"lab_short_tensor_val_HARD.csv\")\n"
   ]
  },
  {
   "cell_type": "markdown",
   "metadata": {},
   "source": [
    "### Covariates values of each unique_id\n",
    "\n",
    "We create a dataset storing the value of the covariates for each patient id (UNIQUE_ID)\n"
   ]
  },
  {
   "cell_type": "code",
   "execution_count": 121,
   "metadata": {},
   "outputs": [],
   "source": [
    "covariates=lab_short_tensor_m.groupby(\"UNIQUE_ID\").first()[list(hot_encodings.columns)]\n",
    "covariates.to_csv(file_path+\"lab_covariates_val.csv\") #save locally"
   ]
  },
  {
   "cell_type": "code",
   "execution_count": null,
   "metadata": {},
   "outputs": [],
   "source": []
  },
  {
   "cell_type": "code",
   "execution_count": 60,
   "metadata": {},
   "outputs": [],
   "source": [
    "cov=pd.read_csv(file_path+\"lab_covariates_val.csv\")"
   ]
  },
  {
   "cell_type": "code",
   "execution_count": 64,
   "metadata": {},
   "outputs": [
    {
     "data": {
      "text/plain": [
       "array([[0, 0, 0, ..., 0, 0, 0],\n",
       "       [0, 0, 0, ..., 0, 0, 0],\n",
       "       [0, 0, 0, ..., 0, 0, 0],\n",
       "       ...,\n",
       "       [0, 0, 0, ..., 0, 0, 0],\n",
       "       [0, 0, 0, ..., 0, 0, 0],\n",
       "       [0, 0, 0, ..., 0, 0, 0]], dtype=uint8)"
      ]
     },
     "execution_count": 64,
     "metadata": {},
     "output_type": "execute_result"
    }
   ],
   "source": [
    "covariates.as_matrix()"
   ]
  },
  {
   "cell_type": "code",
   "execution_count": 174,
   "metadata": {},
   "outputs": [
    {
     "data": {
      "text/plain": [
       "21377"
      ]
     },
     "execution_count": 174,
     "metadata": {},
     "output_type": "execute_result"
    }
   ],
   "source": [
    "lab_short[\"HADM_ID\"].nunique()"
   ]
  },
  {
   "cell_type": "code",
   "execution_count": null,
   "metadata": {},
   "outputs": [],
   "source": []
  }
 ],
 "metadata": {
  "kernelspec": {
   "display_name": "Python 3",
   "language": "python",
   "name": "python3"
  },
  "language_info": {
   "codemirror_mode": {
    "name": "ipython",
    "version": 3
   },
   "file_extension": ".py",
   "mimetype": "text/x-python",
   "name": "python",
   "nbconvert_exporter": "python",
   "pygments_lexer": "ipython3",
   "version": "3.8.6-final"
  }
 },
 "nbformat": 4,
 "nbformat_minor": 2
}