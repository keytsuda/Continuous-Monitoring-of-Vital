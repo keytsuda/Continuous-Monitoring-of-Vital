{
 "cells": [
  {
   "cell_type": "code",
   "execution_count": 1,
   "metadata": {},
   "outputs": [],
   "source": [
    "import pandas as pd\n",
    "import matplotlib.pyplot as plt\n",
    "import numpy as np\n",
    "\n",
    "file_path=\"D:/mimic_iii/csv/\"\n",
    "\n",
    "pd.set_option('display.max_rows', 50)\n",
    "pd.set_option('display.max_columns', 300)"
   ]
  },
  {
   "cell_type": "code",
   "execution_count": 2,
   "metadata": {},
   "outputs": [],
   "source": [
    "adm=pd.read_csv(file_path+\"Admissions_processed.csv\")"
   ]
  },
  {
   "cell_type": "markdown",
   "metadata": {},
   "source": [
    "We now consider the prescriptions dataset. We select only the patients present in the cleaned admission file"
   ]
  },
  {
   "cell_type": "code",
   "execution_count": 3,
   "metadata": {},
   "outputs": [
    {
     "output_type": "stream",
     "name": "stdout",
     "text": [
      "Number of patients remaining in the database: \n21469\n"
     ]
    }
   ],
   "source": [
    "presc=pd.read_csv(file_path+\"PRESCRIPTIONS.csv\")\n",
    "\n",
    "#Restrict the dataset to the previously selected admission ids only.\n",
    "adm_ids=list(adm[\"HADM_ID\"])\n",
    "presc=presc.loc[presc[\"HADM_ID\"].isin(adm_ids)]\n",
    "\n",
    "print(\"Number of patients remaining in the database: \")\n",
    "print(presc[\"SUBJECT_ID\"].nunique())"
   ]
  },
  {
   "cell_type": "code",
   "execution_count": 4,
   "metadata": {},
   "outputs": [
    {
     "output_type": "stream",
     "name": "stdout",
     "text": [
      "Number of patients remaining in the database: \n21467\n"
     ]
    }
   ],
   "source": [
    "#This part is for selecting the x most frequent prescriptions. Instead we use the list of prescriptions as in the paper.\n",
    "\n",
    "n_best=10\n",
    "#For each item, evaluate the number of patients who have been given this item.\n",
    "pat_for_item=presc.groupby(\"DRUG\")[\"SUBJECT_ID\"].nunique()\n",
    "#Order by occurence and take the 20 best (the ones with the most patients)\n",
    "frequent_labels=pat_for_item.sort_values(ascending=False)[:n_best]\n",
    "\n",
    "#Select only the time series with high occurence.\n",
    "presc2=presc.loc[presc[\"DRUG\"].isin(list(frequent_labels.index))].copy()\n",
    "\n",
    "print(\"Number of patients remaining in the database: \")\n",
    "print(presc2[\"SUBJECT_ID\"].nunique())"
   ]
  },
  {
   "cell_type": "code",
   "execution_count": 5,
   "metadata": {},
   "outputs": [
    {
     "output_type": "stream",
     "name": "stdout",
     "text": [
      "Number of patients remaining in the database: \n21439\n"
     ]
    }
   ],
   "source": [
    "#Select entries whose drug name is in the list from the paper.\n",
    "drugs_list=[\"Aspirin\",\"Bisacodyl\",\"Docusate Sodium\",\"D5W\",\"Humulin-R Insulin\",\"Potassium Chloride\",\"Magnesium Sulfate\",\"Metoprolol Tartrate\",\"Sodium Chloride 0.9%  Flush\",\"Pantoprazole\"]\n",
    "presc2=presc.loc[presc[\"DRUG\"].isin(drugs_list)]\n",
    "\n",
    "print(\"Number of patients remaining in the database: \")\n",
    "print(presc2[\"SUBJECT_ID\"].nunique())\n",
    "\n"
   ]
  },
  {
   "cell_type": "markdown",
   "metadata": {},
   "source": [
    "### Units Cleaning\n",
    "\n",
    "#### 1) In amounts"
   ]
  },
  {
   "cell_type": "code",
   "execution_count": 6,
   "metadata": {},
   "outputs": [
    {
     "output_type": "stream",
     "name": "stdout",
     "text": [
      "DRUG                         DOSE_UNIT_RX\nAspirin                      mg              14120\nBisacodyl                    mg              21473\nD5W                          mL              63903\nDocusate Sodium              mg              25277\nHumulin-R Insulin            UNIT             1800\nMagnesium Sulfate            gm              44053\nMetoprolol Tartrate          mg              32322\nPantoprazole                 mg              14909\nPotassium Chloride           mEq             93649\nSodium Chloride 0.9%  Flush  mL              41429\nName: DOSE_UNIT_RX, dtype: int64\n"
     ]
    }
   ],
   "source": [
    "#Verification that all input labels have the same amounts units.\n",
    "\n",
    "#Units correction\n",
    "presc2=presc2.drop(presc2.loc[presc2[\"DOSE_UNIT_RX\"].isnull()].index).copy()\n",
    "presc2=presc2.drop(presc2.loc[(presc2[\"DRUG\"]==\"Acetaminophen\")&(presc2[\"DOSE_UNIT_RX\"]!=\"mg\")].index).copy()\n",
    "presc2.loc[(presc2[\"DRUG\"]==\"D5W\")&(presc2[\"DOSE_UNIT_RX\"]==\"ml\"),\"DOSE_UNIT_RX\"]=\"mL\"\n",
    "presc2=presc2.drop(presc2.loc[(presc2[\"DRUG\"]==\"D5W\")&(presc2[\"DOSE_UNIT_RX\"]!=\"mL\")].index).copy()\n",
    "presc2=presc2.drop(presc2.loc[(presc2[\"DRUG\"]==\"Heparin\")&(presc2[\"DOSE_UNIT_RX\"]!=\"UNIT\")].index).copy()\n",
    "presc2=presc2.drop(presc2.loc[(presc2[\"DRUG\"]==\"Insulin\")&(presc2[\"DOSE_UNIT_RX\"]!=\"UNIT\")].index).copy()\n",
    "presc2=presc2.drop(presc2.loc[(presc2[\"DRUG\"]==\"Magnesium Sulfate\")&(presc2[\"DOSE_UNIT_RX\"]!=\"gm\")].index).copy()\n",
    "presc2=presc2.drop(presc2.loc[(presc2[\"DRUG\"]==\"Potassium Chloride\")&(presc2[\"DOSE_UNIT_RX\"]!=\"mEq\")].index).copy()\n",
    "presc2.loc[(presc2[\"DRUG\"]==\"Sodium Chloride 0.9%  Flush\")&(presc2[\"DOSE_UNIT_RX\"]==\"ml\"),\"DOSE_UNIT_RX\"]=\"mL\"\n",
    "presc2=presc2.drop(presc2.loc[(presc2[\"DRUG\"]==\"Bisacodyl\")&(presc2[\"DOSE_UNIT_RX\"]!=\"mg\")].index).copy()\n",
    "presc2=presc2.drop(presc2.loc[(presc2[\"DRUG\"]==\"Humulin-R Insulin\")&(presc2[\"DOSE_UNIT_RX\"]!=\"UNIT\")].index).copy()\n",
    "presc2=presc2.drop(presc2.loc[(presc2[\"DRUG\"]==\"Pantoprazole\")&(presc2[\"DOSE_UNIT_RX\"]!=\"mg\")].index).copy()\n",
    "\n",
    "\n",
    "print(presc2.groupby(\"DRUG\")[\"DOSE_UNIT_RX\"].value_counts())"
   ]
  },
  {
   "cell_type": "markdown",
   "metadata": {},
   "source": [
    "### Check for outliers\n",
    "\n",
    "#### 1) In amounts"
   ]
  },
  {
   "cell_type": "code",
   "execution_count": 7,
   "metadata": {},
   "outputs": [
    {
     "output_type": "stream",
     "name": "stdout",
     "text": [
      "Lost entries in the process : 3\n"
     ]
    }
   ],
   "source": [
    "type(presc2[\"DOSE_VAL_RX\"])\n",
    "\n",
    "#We need to transform the value columns in float type.\n",
    "original_num_entries=len(presc2.index)\n",
    "#First transform the ranges (xx-yy) as the mean of the ranges.\n",
    "range_df=presc2.loc[presc2[\"DOSE_VAL_RX\"].str.contains(\"-\")].copy()\n",
    "range_df[\"First_digit\"]=range_df[\"DOSE_VAL_RX\"].str.split(\"-\").str[0].astype(float)\n",
    "range_df[\"Second_digit\"]=range_df[\"DOSE_VAL_RX\"].str.split(\"-\").str[1]\n",
    "range_df.loc[range_df[\"Second_digit\"]==\"\",'Second_digit']=range_df.loc[range_df[\"Second_digit\"]==\"\",'First_digit']\n",
    "range_df[\"Second_digit\"]=range_df[\"Second_digit\"].astype(float)\n",
    "range_df.head()\n",
    "range_df[\"mean\"]=(range_df[\"First_digit\"]+range_df[\"Second_digit\"])/2\n",
    "range_df[\"DOSE_VAL_RX\"]=range_df[\"mean\"]\n",
    "range_df.drop(columns=[\"First_digit\",\"Second_digit\",\"mean\"],inplace=True)\n",
    "\n",
    "\n",
    "#Now remove the entries with the - from the original df and force conversion to float.\n",
    "presc3=presc2.drop(presc2.loc[presc2[\"DOSE_VAL_RX\"].str.contains(\"-\")].index).copy()\n",
    "presc3[\"DOSE_VAL_RX\"]=pd.to_numeric(presc2[\"DOSE_VAL_RX\"], errors=\"coerce\")\n",
    "presc3.dropna(subset=[\"DOSE_VAL_RX\"],inplace=True)\n",
    "\n",
    "presc2=presc3.append(range_df)\n",
    "\n",
    "print(\"Lost entries in the process : {}\".format(original_num_entries-len(presc2.index)))\n",
    "\n",
    "\n"
   ]
  },
  {
   "cell_type": "code",
   "execution_count": 8,
   "metadata": {},
   "outputs": [
    {
     "output_type": "execute_result",
     "data": {
      "text/plain": [
       "        ROW_ID  SUBJECT_ID  HADM_ID  ICUSTAY_ID            STARTDATE  \\\n",
       "19864  1506242         275   129886    219649.0  2170-10-07 00:00:00   \n",
       "19869  1507031         275   129886    219649.0  2170-10-07 00:00:00   \n",
       "19870  1507033         275   129886    219649.0  2170-10-07 00:00:00   \n",
       "19872  1507030         275   129886    219649.0  2170-10-07 00:00:00   \n",
       "19879  1507771         275   129886    219649.0  2170-10-08 00:00:00   \n",
       "19880  1506245         275   129886    219649.0  2170-10-08 00:00:00   \n",
       "19888  1506247         275   129886    219649.0  2170-10-09 00:00:00   \n",
       "19889  1506249         275   129886    219649.0  2170-10-09 00:00:00   \n",
       "19893  1506248         275   129886    219649.0  2170-10-09 00:00:00   \n",
       "19894  1506250         275   129886    219649.0  2170-10-09 00:00:00   \n",
       "19895  1506251         275   129886    219649.0  2170-10-10 00:00:00   \n",
       "19896  1506252         275   129886    219649.0  2170-10-10 00:00:00   \n",
       "19897  1506253         275   129886    219649.0  2170-10-10 00:00:00   \n",
       "20524  1506256         275   129886    219649.0  2170-10-11 00:00:00   \n",
       "20526  1506257         275   129886    219649.0  2170-10-11 00:00:00   \n",
       "20531  1506262         275   129886    219649.0  2170-10-12 00:00:00   \n",
       "20534  1507775         275   129886    219649.0  2170-10-13 00:00:00   \n",
       "20536  1507774         275   129886    219649.0  2170-10-13 00:00:00   \n",
       "20538  1506267         275   129886    219649.0  2170-10-13 00:00:00   \n",
       "20540  1506269         275   129886    219649.0  2170-10-13 00:00:00   \n",
       "20541  1506265         275   129886    219649.0  2170-10-13 00:00:00   \n",
       "20542  1506266         275   129886    219649.0  2170-10-13 00:00:00   \n",
       "20544  1506276         275   129886    219649.0  2170-10-14 00:00:00   \n",
       "20555  1507008         275   129886    219649.0  2170-10-14 00:00:00   \n",
       "20724  1507011         275   129886    219649.0  2170-10-15 00:00:00   \n",
       "20728  1507779         275   129886    219649.0  2170-10-15 00:00:00   \n",
       "20730  1507014         275   129886         NaN  2170-10-16 00:00:00   \n",
       "23078  1507762         275   129886    219649.0  2170-10-07 00:00:00   \n",
       "23079  1507766         275   129886    219649.0  2170-10-07 00:00:00   \n",
       "25414  1517313         275   129886         NaN  2170-10-06 00:00:00   \n",
       "25415  1517314         275   129886         NaN  2170-10-06 00:00:00   \n",
       "25417  1507026         275   129886    219649.0  2170-10-07 00:00:00   \n",
       "25418  1507027         275   129886    219649.0  2170-10-07 00:00:00   \n",
       "\n",
       "                   ENDDATE DRUG_TYPE                         DRUG  \\\n",
       "19864  2170-10-08 00:00:00      MAIN            Magnesium Sulfate   \n",
       "19869  2170-10-12 00:00:00      BASE                          D5W   \n",
       "19870  2170-10-12 00:00:00      BASE                          D5W   \n",
       "19872  2170-10-12 00:00:00      BASE                          D5W   \n",
       "19879  2170-10-09 00:00:00      MAIN           Potassium Chloride   \n",
       "19880  2170-10-09 00:00:00      MAIN           Potassium Chloride   \n",
       "19888  2170-10-09 00:00:00      MAIN           Potassium Chloride   \n",
       "19889  2170-10-10 00:00:00      MAIN           Potassium Chloride   \n",
       "19893  2170-10-10 00:00:00      MAIN            Magnesium Sulfate   \n",
       "19894  2170-10-10 00:00:00      MAIN           Potassium Chloride   \n",
       "19895  2170-10-11 00:00:00      MAIN           Potassium Chloride   \n",
       "19896  2170-10-11 00:00:00      MAIN           Potassium Chloride   \n",
       "19897  2170-10-11 00:00:00      MAIN            Magnesium Sulfate   \n",
       "20524  2170-10-12 00:00:00      MAIN           Potassium Chloride   \n",
       "20526  2170-10-12 00:00:00      MAIN            Magnesium Sulfate   \n",
       "20531  2170-10-14 00:00:00      MAIN           Potassium Chloride   \n",
       "20534  2170-10-14 00:00:00      MAIN           Potassium Chloride   \n",
       "20536  2170-10-14 00:00:00      MAIN            Magnesium Sulfate   \n",
       "20538  2170-10-14 00:00:00      MAIN           Potassium Chloride   \n",
       "20540  2170-10-14 00:00:00      MAIN           Potassium Chloride   \n",
       "20541  2170-10-15 00:00:00      MAIN           Potassium Chloride   \n",
       "20542  2170-10-15 00:00:00      MAIN           Potassium Chloride   \n",
       "20544  2170-10-14 00:00:00      MAIN                 Pantoprazole   \n",
       "20555  2170-10-16 00:00:00      MAIN  Sodium Chloride 0.9%  Flush   \n",
       "20724  2170-10-15 00:00:00      MAIN           Potassium Chloride   \n",
       "20728  2170-10-16 00:00:00      MAIN           Potassium Chloride   \n",
       "20730  2170-10-19 00:00:00      BASE                          D5W   \n",
       "23078  2170-10-08 00:00:00      MAIN           Potassium Chloride   \n",
       "23079  2170-10-08 00:00:00      MAIN           Potassium Chloride   \n",
       "25414  2170-10-19 00:00:00      MAIN                    Bisacodyl   \n",
       "25415  2170-10-19 00:00:00      MAIN                    Bisacodyl   \n",
       "25417  2170-10-07 00:00:00      BASE                          D5W   \n",
       "25418  2170-10-07 00:00:00      BASE                          D5W   \n",
       "\n",
       "                     DRUG_NAME_POE            DRUG_NAME_GENERIC  \\\n",
       "19864            Magnesium Sulfate            Magnesium Sulfate   \n",
       "19869                          NaN                          NaN   \n",
       "19870                          NaN                          NaN   \n",
       "19872                          NaN                          NaN   \n",
       "19879                          NaN                          NaN   \n",
       "19880           Potassium Chloride           Potassium Chloride   \n",
       "19888           Potassium Chloride           Potassium Chloride   \n",
       "19889           Potassium Chloride           Potassium Chloride   \n",
       "19893            Magnesium Sulfate            Magnesium Sulfate   \n",
       "19894           Potassium Chloride           Potassium Chloride   \n",
       "19895           Potassium Chloride           Potassium Chloride   \n",
       "19896           Potassium Chloride           Potassium Chloride   \n",
       "19897            Magnesium Sulfate            Magnesium Sulfate   \n",
       "20524           Potassium Chloride           Potassium Chloride   \n",
       "20526            Magnesium Sulfate            Magnesium Sulfate   \n",
       "20531           Potassium Chloride           Potassium Chloride   \n",
       "20534                          NaN                          NaN   \n",
       "20536                          NaN                          NaN   \n",
       "20538           Potassium Chloride           Potassium Chloride   \n",
       "20540           Potassium Chloride           Potassium Chloride   \n",
       "20541           Potassium Chloride           Potassium Chloride   \n",
       "20542           Potassium Chloride           Potassium Chloride   \n",
       "20544                 Pantoprazole                 Pantoprazole   \n",
       "20555  Sodium Chloride 0.9%  Flush  Sodium Chloride 0.9%  Flush   \n",
       "20724           Potassium Chloride           Potassium Chloride   \n",
       "20728                          NaN                          NaN   \n",
       "20730                          NaN                          NaN   \n",
       "23078                          NaN                          NaN   \n",
       "23079                          NaN                          NaN   \n",
       "25414                    Bisacodyl                    Bisacodyl   \n",
       "25415                    Bisacodyl           Bisacodyl (Rectal)   \n",
       "25417                          NaN                          NaN   \n",
       "25418                          NaN                          NaN   \n",
       "\n",
       "      FORMULARY_DRUG_CD     GSN           NDC      PROD_STRENGTH  DOSE_VAL_RX  \\\n",
       "19864            MAGS1I  001417  5.172602e+08        1g/2mL Vial          2.0   \n",
       "19869            D5W250  001972  3.380017e+08          250mL Bag        250.0   \n",
       "19870          DOPABASE     NaN  0.000000e+00              1 Bag        250.0   \n",
       "19872             D5W50  001972  3.380017e+08           50mL Bag         50.0   \n",
       "19879            KCL40I  001255  7.466530e+07       2mEq/mL-20mL         40.0   \n",
       "19880          MICROK10  001248  5.817700e+10   10mEq ER Capsule         40.0   \n",
       "19888          MICROK10  001248  5.817700e+10   10mEq ER Capsule         40.0   \n",
       "19889            KCL20P  001262  4.560663e+08       20mEq Packet         40.0   \n",
       "19893            MAGS1I  001417  5.172602e+08        1g/2mL Vial          2.0   \n",
       "19894            KCL20P  001262  4.560663e+08       20mEq Packet         60.0   \n",
       "19895          MICROK10  001248  5.817700e+10   10mEq ER Capsule         40.0   \n",
       "19896            KCL20P  001262  4.560663e+08       20mEq Packet         40.0   \n",
       "19897            MAGS1I  001417  5.172602e+08        1g/2mL Vial          2.0   \n",
       "20524          MICROK10  001248  5.817700e+10   10mEq ER Capsule         40.0   \n",
       "20526            MAGS1I  001417  5.172602e+08        1g/2mL Vial          2.0   \n",
       "20531            KCL20P  001262  4.560663e+08       20mEq Packet         40.0   \n",
       "20534            KCL40I  001255  7.466530e+07       2mEq/mL-20mL         40.0   \n",
       "20536            MAGS1I  001417  5.172602e+08        1g/2mL Vial          4.0   \n",
       "20538          MICROK10  001248  5.817700e+10   10mEq ER Capsule         40.0   \n",
       "20540          MICROK10  001248  5.817700e+10   10mEq ER Capsule         40.0   \n",
       "20541          MICROK10  001248  5.817700e+10   10mEq ER Capsule         40.0   \n",
       "20542            KCL20P  001262  4.560663e+08       20mEq Packet         40.0   \n",
       "20544            PANT40  027462  8.084199e+06        40mg Tablet         40.0   \n",
       "20555         NACLFLUSH     NaN  0.000000e+00            Syringe          3.0   \n",
       "20724          MICROK10  001248  5.817700e+10   10mEq ER Capsule         40.0   \n",
       "20728            KCL40I  001255  7.466530e+07       2mEq/mL-20mL         40.0   \n",
       "20730           MORPD5W     NaN  0.000000e+00       100mL Bottle        100.0   \n",
       "23078           KCL20PM  045309  3.380703e+08  20mEq/50mL Premix         40.0   \n",
       "23079           KCL20PM  045309  3.380703e+08  20mEq/50mL Premix         40.0   \n",
       "25414             BISA5  002947  5.295907e+10           5 mg Tab         10.0   \n",
       "25415           BISA10R  002944  5.456919e+10         10 mg Supp         10.0   \n",
       "25417          DOPABASE     NaN  0.000000e+00              1 Bag        250.0   \n",
       "25418            D5W250  001972  3.380017e+08          250mL Bag        250.0   \n",
       "\n",
       "      DOSE_UNIT_RX FORM_VAL_DISP FORM_UNIT_DISP    ROUTE  \n",
       "19864           gm             4             ml       IV  \n",
       "19869           mL           250             ml  IV DRIP  \n",
       "19870           mL           250             ml  IV DRIP  \n",
       "19872           mL            50             ml  IV DRIP  \n",
       "19879          mEq            20             ml       IV  \n",
       "19880          mEq             4            CAP       PO  \n",
       "19888          mEq             4            CAP       PO  \n",
       "19889          mEq             2            PKT       PO  \n",
       "19893           gm             4             ml       IV  \n",
       "19894          mEq             3            PKT       PO  \n",
       "19895          mEq             4            CAP       PO  \n",
       "19896          mEq             2            PKT       PO  \n",
       "19897           gm             4             ml       IV  \n",
       "20524          mEq             4            CAP       PO  \n",
       "20526           gm             4             ml       IV  \n",
       "20531          mEq             2            PKT       PO  \n",
       "20534          mEq            20             ml       IV  \n",
       "20536           gm             8             ml       IV  \n",
       "20538          mEq             4            CAP       PO  \n",
       "20540          mEq             4            CAP       PO  \n",
       "20541          mEq             4            CAP       PO  \n",
       "20542          mEq             2            PKT       PO  \n",
       "20544           mg             1            TAB       PO  \n",
       "20555           mL           0.6            SYR       IV  \n",
       "20724          mEq             4            CAP       PO  \n",
       "20728          mEq            20             ml       IV  \n",
       "20730           mL             1            BTL  IV DRIP  \n",
       "23078          mEq             2            BAG       IV  \n",
       "23079          mEq             2            BAG       IV  \n",
       "25414           mg             2            TAB       PO  \n",
       "25415           mg             1           SUPP       PR  \n",
       "25417           mL           250             ml  IV DRIP  \n",
       "25418           mL           250             ml  IV DRIP  "
      ],
      "text/html": "<div>\n<style scoped>\n    .dataframe tbody tr th:only-of-type {\n        vertical-align: middle;\n    }\n\n    .dataframe tbody tr th {\n        vertical-align: top;\n    }\n\n    .dataframe thead th {\n        text-align: right;\n    }\n</style>\n<table border=\"1\" class=\"dataframe\">\n  <thead>\n    <tr style=\"text-align: right;\">\n      <th></th>\n      <th>ROW_ID</th>\n      <th>SUBJECT_ID</th>\n      <th>HADM_ID</th>\n      <th>ICUSTAY_ID</th>\n      <th>STARTDATE</th>\n      <th>ENDDATE</th>\n      <th>DRUG_TYPE</th>\n      <th>DRUG</th>\n      <th>DRUG_NAME_POE</th>\n      <th>DRUG_NAME_GENERIC</th>\n      <th>FORMULARY_DRUG_CD</th>\n      <th>GSN</th>\n      <th>NDC</th>\n      <th>PROD_STRENGTH</th>\n      <th>DOSE_VAL_RX</th>\n      <th>DOSE_UNIT_RX</th>\n      <th>FORM_VAL_DISP</th>\n      <th>FORM_UNIT_DISP</th>\n      <th>ROUTE</th>\n    </tr>\n  </thead>\n  <tbody>\n    <tr>\n      <th>19864</th>\n      <td>1506242</td>\n      <td>275</td>\n      <td>129886</td>\n      <td>219649.0</td>\n      <td>2170-10-07 00:00:00</td>\n      <td>2170-10-08 00:00:00</td>\n      <td>MAIN</td>\n      <td>Magnesium Sulfate</td>\n      <td>Magnesium Sulfate</td>\n      <td>Magnesium Sulfate</td>\n      <td>MAGS1I</td>\n      <td>001417</td>\n      <td>5.172602e+08</td>\n      <td>1g/2mL Vial</td>\n      <td>2.0</td>\n      <td>gm</td>\n      <td>4</td>\n      <td>ml</td>\n      <td>IV</td>\n    </tr>\n    <tr>\n      <th>19869</th>\n      <td>1507031</td>\n      <td>275</td>\n      <td>129886</td>\n      <td>219649.0</td>\n      <td>2170-10-07 00:00:00</td>\n      <td>2170-10-12 00:00:00</td>\n      <td>BASE</td>\n      <td>D5W</td>\n      <td>NaN</td>\n      <td>NaN</td>\n      <td>D5W250</td>\n      <td>001972</td>\n      <td>3.380017e+08</td>\n      <td>250mL Bag</td>\n      <td>250.0</td>\n      <td>mL</td>\n      <td>250</td>\n      <td>ml</td>\n      <td>IV DRIP</td>\n    </tr>\n    <tr>\n      <th>19870</th>\n      <td>1507033</td>\n      <td>275</td>\n      <td>129886</td>\n      <td>219649.0</td>\n      <td>2170-10-07 00:00:00</td>\n      <td>2170-10-12 00:00:00</td>\n      <td>BASE</td>\n      <td>D5W</td>\n      <td>NaN</td>\n      <td>NaN</td>\n      <td>DOPABASE</td>\n      <td>NaN</td>\n      <td>0.000000e+00</td>\n      <td>1 Bag</td>\n      <td>250.0</td>\n      <td>mL</td>\n      <td>250</td>\n      <td>ml</td>\n      <td>IV DRIP</td>\n    </tr>\n    <tr>\n      <th>19872</th>\n      <td>1507030</td>\n      <td>275</td>\n      <td>129886</td>\n      <td>219649.0</td>\n      <td>2170-10-07 00:00:00</td>\n      <td>2170-10-12 00:00:00</td>\n      <td>BASE</td>\n      <td>D5W</td>\n      <td>NaN</td>\n      <td>NaN</td>\n      <td>D5W50</td>\n      <td>001972</td>\n      <td>3.380017e+08</td>\n      <td>50mL Bag</td>\n      <td>50.0</td>\n      <td>mL</td>\n      <td>50</td>\n      <td>ml</td>\n      <td>IV DRIP</td>\n    </tr>\n    <tr>\n      <th>19879</th>\n      <td>1507771</td>\n      <td>275</td>\n      <td>129886</td>\n      <td>219649.0</td>\n      <td>2170-10-08 00:00:00</td>\n      <td>2170-10-09 00:00:00</td>\n      <td>MAIN</td>\n      <td>Potassium Chloride</td>\n      <td>NaN</td>\n      <td>NaN</td>\n      <td>KCL40I</td>\n      <td>001255</td>\n      <td>7.466530e+07</td>\n      <td>2mEq/mL-20mL</td>\n      <td>40.0</td>\n      <td>mEq</td>\n      <td>20</td>\n      <td>ml</td>\n      <td>IV</td>\n    </tr>\n    <tr>\n      <th>19880</th>\n      <td>1506245</td>\n      <td>275</td>\n      <td>129886</td>\n      <td>219649.0</td>\n      <td>2170-10-08 00:00:00</td>\n      <td>2170-10-09 00:00:00</td>\n      <td>MAIN</td>\n      <td>Potassium Chloride</td>\n      <td>Potassium Chloride</td>\n      <td>Potassium Chloride</td>\n      <td>MICROK10</td>\n      <td>001248</td>\n      <td>5.817700e+10</td>\n      <td>10mEq ER Capsule</td>\n      <td>40.0</td>\n      <td>mEq</td>\n      <td>4</td>\n      <td>CAP</td>\n      <td>PO</td>\n    </tr>\n    <tr>\n      <th>19888</th>\n      <td>1506247</td>\n      <td>275</td>\n      <td>129886</td>\n      <td>219649.0</td>\n      <td>2170-10-09 00:00:00</td>\n      <td>2170-10-09 00:00:00</td>\n      <td>MAIN</td>\n      <td>Potassium Chloride</td>\n      <td>Potassium Chloride</td>\n      <td>Potassium Chloride</td>\n      <td>MICROK10</td>\n      <td>001248</td>\n      <td>5.817700e+10</td>\n      <td>10mEq ER Capsule</td>\n      <td>40.0</td>\n      <td>mEq</td>\n      <td>4</td>\n      <td>CAP</td>\n      <td>PO</td>\n    </tr>\n    <tr>\n      <th>19889</th>\n      <td>1506249</td>\n      <td>275</td>\n      <td>129886</td>\n      <td>219649.0</td>\n      <td>2170-10-09 00:00:00</td>\n      <td>2170-10-10 00:00:00</td>\n      <td>MAIN</td>\n      <td>Potassium Chloride</td>\n      <td>Potassium Chloride</td>\n      <td>Potassium Chloride</td>\n      <td>KCL20P</td>\n      <td>001262</td>\n      <td>4.560663e+08</td>\n      <td>20mEq Packet</td>\n      <td>40.0</td>\n      <td>mEq</td>\n      <td>2</td>\n      <td>PKT</td>\n      <td>PO</td>\n    </tr>\n    <tr>\n      <th>19893</th>\n      <td>1506248</td>\n      <td>275</td>\n      <td>129886</td>\n      <td>219649.0</td>\n      <td>2170-10-09 00:00:00</td>\n      <td>2170-10-10 00:00:00</td>\n      <td>MAIN</td>\n      <td>Magnesium Sulfate</td>\n      <td>Magnesium Sulfate</td>\n      <td>Magnesium Sulfate</td>\n      <td>MAGS1I</td>\n      <td>001417</td>\n      <td>5.172602e+08</td>\n      <td>1g/2mL Vial</td>\n      <td>2.0</td>\n      <td>gm</td>\n      <td>4</td>\n      <td>ml</td>\n      <td>IV</td>\n    </tr>\n    <tr>\n      <th>19894</th>\n      <td>1506250</td>\n      <td>275</td>\n      <td>129886</td>\n      <td>219649.0</td>\n      <td>2170-10-09 00:00:00</td>\n      <td>2170-10-10 00:00:00</td>\n      <td>MAIN</td>\n      <td>Potassium Chloride</td>\n      <td>Potassium Chloride</td>\n      <td>Potassium Chloride</td>\n      <td>KCL20P</td>\n      <td>001262</td>\n      <td>4.560663e+08</td>\n      <td>20mEq Packet</td>\n      <td>60.0</td>\n      <td>mEq</td>\n      <td>3</td>\n      <td>PKT</td>\n      <td>PO</td>\n    </tr>\n    <tr>\n      <th>19895</th>\n      <td>1506251</td>\n      <td>275</td>\n      <td>129886</td>\n      <td>219649.0</td>\n      <td>2170-10-10 00:00:00</td>\n      <td>2170-10-11 00:00:00</td>\n      <td>MAIN</td>\n      <td>Potassium Chloride</td>\n      <td>Potassium Chloride</td>\n      <td>Potassium Chloride</td>\n      <td>MICROK10</td>\n      <td>001248</td>\n      <td>5.817700e+10</td>\n      <td>10mEq ER Capsule</td>\n      <td>40.0</td>\n      <td>mEq</td>\n      <td>4</td>\n      <td>CAP</td>\n      <td>PO</td>\n    </tr>\n    <tr>\n      <th>19896</th>\n      <td>1506252</td>\n      <td>275</td>\n      <td>129886</td>\n      <td>219649.0</td>\n      <td>2170-10-10 00:00:00</td>\n      <td>2170-10-11 00:00:00</td>\n      <td>MAIN</td>\n      <td>Potassium Chloride</td>\n      <td>Potassium Chloride</td>\n      <td>Potassium Chloride</td>\n      <td>KCL20P</td>\n      <td>001262</td>\n      <td>4.560663e+08</td>\n      <td>20mEq Packet</td>\n      <td>40.0</td>\n      <td>mEq</td>\n      <td>2</td>\n      <td>PKT</td>\n      <td>PO</td>\n    </tr>\n    <tr>\n      <th>19897</th>\n      <td>1506253</td>\n      <td>275</td>\n      <td>129886</td>\n      <td>219649.0</td>\n      <td>2170-10-10 00:00:00</td>\n      <td>2170-10-11 00:00:00</td>\n      <td>MAIN</td>\n      <td>Magnesium Sulfate</td>\n      <td>Magnesium Sulfate</td>\n      <td>Magnesium Sulfate</td>\n      <td>MAGS1I</td>\n      <td>001417</td>\n      <td>5.172602e+08</td>\n      <td>1g/2mL Vial</td>\n      <td>2.0</td>\n      <td>gm</td>\n      <td>4</td>\n      <td>ml</td>\n      <td>IV</td>\n    </tr>\n    <tr>\n      <th>20524</th>\n      <td>1506256</td>\n      <td>275</td>\n      <td>129886</td>\n      <td>219649.0</td>\n      <td>2170-10-11 00:00:00</td>\n      <td>2170-10-12 00:00:00</td>\n      <td>MAIN</td>\n      <td>Potassium Chloride</td>\n      <td>Potassium Chloride</td>\n      <td>Potassium Chloride</td>\n      <td>MICROK10</td>\n      <td>001248</td>\n      <td>5.817700e+10</td>\n      <td>10mEq ER Capsule</td>\n      <td>40.0</td>\n      <td>mEq</td>\n      <td>4</td>\n      <td>CAP</td>\n      <td>PO</td>\n    </tr>\n    <tr>\n      <th>20526</th>\n      <td>1506257</td>\n      <td>275</td>\n      <td>129886</td>\n      <td>219649.0</td>\n      <td>2170-10-11 00:00:00</td>\n      <td>2170-10-12 00:00:00</td>\n      <td>MAIN</td>\n      <td>Magnesium Sulfate</td>\n      <td>Magnesium Sulfate</td>\n      <td>Magnesium Sulfate</td>\n      <td>MAGS1I</td>\n      <td>001417</td>\n      <td>5.172602e+08</td>\n      <td>1g/2mL Vial</td>\n      <td>2.0</td>\n      <td>gm</td>\n      <td>4</td>\n      <td>ml</td>\n      <td>IV</td>\n    </tr>\n    <tr>\n      <th>20531</th>\n      <td>1506262</td>\n      <td>275</td>\n      <td>129886</td>\n      <td>219649.0</td>\n      <td>2170-10-12 00:00:00</td>\n      <td>2170-10-14 00:00:00</td>\n      <td>MAIN</td>\n      <td>Potassium Chloride</td>\n      <td>Potassium Chloride</td>\n      <td>Potassium Chloride</td>\n      <td>KCL20P</td>\n      <td>001262</td>\n      <td>4.560663e+08</td>\n      <td>20mEq Packet</td>\n      <td>40.0</td>\n      <td>mEq</td>\n      <td>2</td>\n      <td>PKT</td>\n      <td>PO</td>\n    </tr>\n    <tr>\n      <th>20534</th>\n      <td>1507775</td>\n      <td>275</td>\n      <td>129886</td>\n      <td>219649.0</td>\n      <td>2170-10-13 00:00:00</td>\n      <td>2170-10-14 00:00:00</td>\n      <td>MAIN</td>\n      <td>Potassium Chloride</td>\n      <td>NaN</td>\n      <td>NaN</td>\n      <td>KCL40I</td>\n      <td>001255</td>\n      <td>7.466530e+07</td>\n      <td>2mEq/mL-20mL</td>\n      <td>40.0</td>\n      <td>mEq</td>\n      <td>20</td>\n      <td>ml</td>\n      <td>IV</td>\n    </tr>\n    <tr>\n      <th>20536</th>\n      <td>1507774</td>\n      <td>275</td>\n      <td>129886</td>\n      <td>219649.0</td>\n      <td>2170-10-13 00:00:00</td>\n      <td>2170-10-14 00:00:00</td>\n      <td>MAIN</td>\n      <td>Magnesium Sulfate</td>\n      <td>NaN</td>\n      <td>NaN</td>\n      <td>MAGS1I</td>\n      <td>001417</td>\n      <td>5.172602e+08</td>\n      <td>1g/2mL Vial</td>\n      <td>4.0</td>\n      <td>gm</td>\n      <td>8</td>\n      <td>ml</td>\n      <td>IV</td>\n    </tr>\n    <tr>\n      <th>20538</th>\n      <td>1506267</td>\n      <td>275</td>\n      <td>129886</td>\n      <td>219649.0</td>\n      <td>2170-10-13 00:00:00</td>\n      <td>2170-10-14 00:00:00</td>\n      <td>MAIN</td>\n      <td>Potassium Chloride</td>\n      <td>Potassium Chloride</td>\n      <td>Potassium Chloride</td>\n      <td>MICROK10</td>\n      <td>001248</td>\n      <td>5.817700e+10</td>\n      <td>10mEq ER Capsule</td>\n      <td>40.0</td>\n      <td>mEq</td>\n      <td>4</td>\n      <td>CAP</td>\n      <td>PO</td>\n    </tr>\n    <tr>\n      <th>20540</th>\n      <td>1506269</td>\n      <td>275</td>\n      <td>129886</td>\n      <td>219649.0</td>\n      <td>2170-10-13 00:00:00</td>\n      <td>2170-10-14 00:00:00</td>\n      <td>MAIN</td>\n      <td>Potassium Chloride</td>\n      <td>Potassium Chloride</td>\n      <td>Potassium Chloride</td>\n      <td>MICROK10</td>\n      <td>001248</td>\n      <td>5.817700e+10</td>\n      <td>10mEq ER Capsule</td>\n      <td>40.0</td>\n      <td>mEq</td>\n      <td>4</td>\n      <td>CAP</td>\n      <td>PO</td>\n    </tr>\n    <tr>\n      <th>20541</th>\n      <td>1506265</td>\n      <td>275</td>\n      <td>129886</td>\n      <td>219649.0</td>\n      <td>2170-10-13 00:00:00</td>\n      <td>2170-10-15 00:00:00</td>\n      <td>MAIN</td>\n      <td>Potassium Chloride</td>\n      <td>Potassium Chloride</td>\n      <td>Potassium Chloride</td>\n      <td>MICROK10</td>\n      <td>001248</td>\n      <td>5.817700e+10</td>\n      <td>10mEq ER Capsule</td>\n      <td>40.0</td>\n      <td>mEq</td>\n      <td>4</td>\n      <td>CAP</td>\n      <td>PO</td>\n    </tr>\n    <tr>\n      <th>20542</th>\n      <td>1506266</td>\n      <td>275</td>\n      <td>129886</td>\n      <td>219649.0</td>\n      <td>2170-10-13 00:00:00</td>\n      <td>2170-10-15 00:00:00</td>\n      <td>MAIN</td>\n      <td>Potassium Chloride</td>\n      <td>Potassium Chloride</td>\n      <td>Potassium Chloride</td>\n      <td>KCL20P</td>\n      <td>001262</td>\n      <td>4.560663e+08</td>\n      <td>20mEq Packet</td>\n      <td>40.0</td>\n      <td>mEq</td>\n      <td>2</td>\n      <td>PKT</td>\n      <td>PO</td>\n    </tr>\n    <tr>\n      <th>20544</th>\n      <td>1506276</td>\n      <td>275</td>\n      <td>129886</td>\n      <td>219649.0</td>\n      <td>2170-10-14 00:00:00</td>\n      <td>2170-10-14 00:00:00</td>\n      <td>MAIN</td>\n      <td>Pantoprazole</td>\n      <td>Pantoprazole</td>\n      <td>Pantoprazole</td>\n      <td>PANT40</td>\n      <td>027462</td>\n      <td>8.084199e+06</td>\n      <td>40mg Tablet</td>\n      <td>40.0</td>\n      <td>mg</td>\n      <td>1</td>\n      <td>TAB</td>\n      <td>PO</td>\n    </tr>\n    <tr>\n      <th>20555</th>\n      <td>1507008</td>\n      <td>275</td>\n      <td>129886</td>\n      <td>219649.0</td>\n      <td>2170-10-14 00:00:00</td>\n      <td>2170-10-16 00:00:00</td>\n      <td>MAIN</td>\n      <td>Sodium Chloride 0.9%  Flush</td>\n      <td>Sodium Chloride 0.9%  Flush</td>\n      <td>Sodium Chloride 0.9%  Flush</td>\n      <td>NACLFLUSH</td>\n      <td>NaN</td>\n      <td>0.000000e+00</td>\n      <td>Syringe</td>\n      <td>3.0</td>\n      <td>mL</td>\n      <td>0.6</td>\n      <td>SYR</td>\n      <td>IV</td>\n    </tr>\n    <tr>\n      <th>20724</th>\n      <td>1507011</td>\n      <td>275</td>\n      <td>129886</td>\n      <td>219649.0</td>\n      <td>2170-10-15 00:00:00</td>\n      <td>2170-10-15 00:00:00</td>\n      <td>MAIN</td>\n      <td>Potassium Chloride</td>\n      <td>Potassium Chloride</td>\n      <td>Potassium Chloride</td>\n      <td>MICROK10</td>\n      <td>001248</td>\n      <td>5.817700e+10</td>\n      <td>10mEq ER Capsule</td>\n      <td>40.0</td>\n      <td>mEq</td>\n      <td>4</td>\n      <td>CAP</td>\n      <td>PO</td>\n    </tr>\n    <tr>\n      <th>20728</th>\n      <td>1507779</td>\n      <td>275</td>\n      <td>129886</td>\n      <td>219649.0</td>\n      <td>2170-10-15 00:00:00</td>\n      <td>2170-10-16 00:00:00</td>\n      <td>MAIN</td>\n      <td>Potassium Chloride</td>\n      <td>NaN</td>\n      <td>NaN</td>\n      <td>KCL40I</td>\n      <td>001255</td>\n      <td>7.466530e+07</td>\n      <td>2mEq/mL-20mL</td>\n      <td>40.0</td>\n      <td>mEq</td>\n      <td>20</td>\n      <td>ml</td>\n      <td>IV</td>\n    </tr>\n    <tr>\n      <th>20730</th>\n      <td>1507014</td>\n      <td>275</td>\n      <td>129886</td>\n      <td>NaN</td>\n      <td>2170-10-16 00:00:00</td>\n      <td>2170-10-19 00:00:00</td>\n      <td>BASE</td>\n      <td>D5W</td>\n      <td>NaN</td>\n      <td>NaN</td>\n      <td>MORPD5W</td>\n      <td>NaN</td>\n      <td>0.000000e+00</td>\n      <td>100mL Bottle</td>\n      <td>100.0</td>\n      <td>mL</td>\n      <td>1</td>\n      <td>BTL</td>\n      <td>IV DRIP</td>\n    </tr>\n    <tr>\n      <th>23078</th>\n      <td>1507762</td>\n      <td>275</td>\n      <td>129886</td>\n      <td>219649.0</td>\n      <td>2170-10-07 00:00:00</td>\n      <td>2170-10-08 00:00:00</td>\n      <td>MAIN</td>\n      <td>Potassium Chloride</td>\n      <td>NaN</td>\n      <td>NaN</td>\n      <td>KCL20PM</td>\n      <td>045309</td>\n      <td>3.380703e+08</td>\n      <td>20mEq/50mL Premix</td>\n      <td>40.0</td>\n      <td>mEq</td>\n      <td>2</td>\n      <td>BAG</td>\n      <td>IV</td>\n    </tr>\n    <tr>\n      <th>23079</th>\n      <td>1507766</td>\n      <td>275</td>\n      <td>129886</td>\n      <td>219649.0</td>\n      <td>2170-10-07 00:00:00</td>\n      <td>2170-10-08 00:00:00</td>\n      <td>MAIN</td>\n      <td>Potassium Chloride</td>\n      <td>NaN</td>\n      <td>NaN</td>\n      <td>KCL20PM</td>\n      <td>045309</td>\n      <td>3.380703e+08</td>\n      <td>20mEq/50mL Premix</td>\n      <td>40.0</td>\n      <td>mEq</td>\n      <td>2</td>\n      <td>BAG</td>\n      <td>IV</td>\n    </tr>\n    <tr>\n      <th>25414</th>\n      <td>1517313</td>\n      <td>275</td>\n      <td>129886</td>\n      <td>NaN</td>\n      <td>2170-10-06 00:00:00</td>\n      <td>2170-10-19 00:00:00</td>\n      <td>MAIN</td>\n      <td>Bisacodyl</td>\n      <td>Bisacodyl</td>\n      <td>Bisacodyl</td>\n      <td>BISA5</td>\n      <td>002947</td>\n      <td>5.295907e+10</td>\n      <td>5 mg Tab</td>\n      <td>10.0</td>\n      <td>mg</td>\n      <td>2</td>\n      <td>TAB</td>\n      <td>PO</td>\n    </tr>\n    <tr>\n      <th>25415</th>\n      <td>1517314</td>\n      <td>275</td>\n      <td>129886</td>\n      <td>NaN</td>\n      <td>2170-10-06 00:00:00</td>\n      <td>2170-10-19 00:00:00</td>\n      <td>MAIN</td>\n      <td>Bisacodyl</td>\n      <td>Bisacodyl</td>\n      <td>Bisacodyl (Rectal)</td>\n      <td>BISA10R</td>\n      <td>002944</td>\n      <td>5.456919e+10</td>\n      <td>10 mg Supp</td>\n      <td>10.0</td>\n      <td>mg</td>\n      <td>1</td>\n      <td>SUPP</td>\n      <td>PR</td>\n    </tr>\n    <tr>\n      <th>25417</th>\n      <td>1507026</td>\n      <td>275</td>\n      <td>129886</td>\n      <td>219649.0</td>\n      <td>2170-10-07 00:00:00</td>\n      <td>2170-10-07 00:00:00</td>\n      <td>BASE</td>\n      <td>D5W</td>\n      <td>NaN</td>\n      <td>NaN</td>\n      <td>DOPABASE</td>\n      <td>NaN</td>\n      <td>0.000000e+00</td>\n      <td>1 Bag</td>\n      <td>250.0</td>\n      <td>mL</td>\n      <td>250</td>\n      <td>ml</td>\n      <td>IV DRIP</td>\n    </tr>\n    <tr>\n      <th>25418</th>\n      <td>1507027</td>\n      <td>275</td>\n      <td>129886</td>\n      <td>219649.0</td>\n      <td>2170-10-07 00:00:00</td>\n      <td>2170-10-07 00:00:00</td>\n      <td>BASE</td>\n      <td>D5W</td>\n      <td>NaN</td>\n      <td>NaN</td>\n      <td>D5W250</td>\n      <td>001972</td>\n      <td>3.380017e+08</td>\n      <td>250mL Bag</td>\n      <td>250.0</td>\n      <td>mL</td>\n      <td>250</td>\n      <td>ml</td>\n      <td>IV DRIP</td>\n    </tr>\n  </tbody>\n</table>\n</div>"
     },
     "metadata": {},
     "execution_count": 8
    }
   ],
   "source": [
    "presc2.loc[presc2[\"SUBJECT_ID\"]==275]"
   ]
  },
  {
   "cell_type": "code",
   "execution_count": 9,
   "metadata": {},
   "outputs": [
    {
     "output_type": "execute_result",
     "data": {
      "text/plain": [
       "                               count        mean         std    min    25%  \\\n",
       "DRUG                                                                         \n",
       "Aspirin                      14120.0  192.283538  121.424018    0.0   81.0   \n",
       "Bisacodyl                    21472.0   10.108397   15.019865    5.0   10.0   \n",
       "D5W                          63901.0  270.993504  215.528569    0.0  250.0   \n",
       "Docusate Sodium              25277.0  100.975195   10.284491  100.0  100.0   \n",
       "Humulin-R Insulin             1800.0  100.461944   14.505230    1.0  100.0   \n",
       "Magnesium Sulfate            44053.0    2.504125    0.842145    0.0    2.0   \n",
       "Metoprolol Tartrate          32322.0   23.229793   22.852314    0.0    5.0   \n",
       "Pantoprazole                 14909.0   41.473204    7.654519    0.0   40.0   \n",
       "Potassium Chloride           93649.0   36.592713   15.761304    0.0   20.0   \n",
       "Sodium Chloride 0.9%  Flush  41429.0    4.016498    2.565794    1.0    3.0   \n",
       "\n",
       "                               50%    75%     max  \n",
       "DRUG                                               \n",
       "Aspirin                       81.0  325.0   975.0  \n",
       "Bisacodyl                     10.0   10.0  2210.0  \n",
       "D5W                          250.0  250.0  3250.0  \n",
       "Docusate Sodium              100.0  100.0   400.0  \n",
       "Humulin-R Insulin            100.0  100.0   500.0  \n",
       "Magnesium Sulfate              2.0    3.0    20.0  \n",
       "Metoprolol Tartrate           12.5   25.0   200.0  \n",
       "Pantoprazole                  40.0   40.0   120.0  \n",
       "Potassium Chloride            40.0   40.0   420.0  \n",
       "Sodium Chloride 0.9%  Flush    3.0    3.0   150.0  "
      ],
      "text/html": "<div>\n<style scoped>\n    .dataframe tbody tr th:only-of-type {\n        vertical-align: middle;\n    }\n\n    .dataframe tbody tr th {\n        vertical-align: top;\n    }\n\n    .dataframe thead th {\n        text-align: right;\n    }\n</style>\n<table border=\"1\" class=\"dataframe\">\n  <thead>\n    <tr style=\"text-align: right;\">\n      <th></th>\n      <th>count</th>\n      <th>mean</th>\n      <th>std</th>\n      <th>min</th>\n      <th>25%</th>\n      <th>50%</th>\n      <th>75%</th>\n      <th>max</th>\n    </tr>\n    <tr>\n      <th>DRUG</th>\n      <th></th>\n      <th></th>\n      <th></th>\n      <th></th>\n      <th></th>\n      <th></th>\n      <th></th>\n      <th></th>\n    </tr>\n  </thead>\n  <tbody>\n    <tr>\n      <th>Aspirin</th>\n      <td>14120.0</td>\n      <td>192.283538</td>\n      <td>121.424018</td>\n      <td>0.0</td>\n      <td>81.0</td>\n      <td>81.0</td>\n      <td>325.0</td>\n      <td>975.0</td>\n    </tr>\n    <tr>\n      <th>Bisacodyl</th>\n      <td>21472.0</td>\n      <td>10.108397</td>\n      <td>15.019865</td>\n      <td>5.0</td>\n      <td>10.0</td>\n      <td>10.0</td>\n      <td>10.0</td>\n      <td>2210.0</td>\n    </tr>\n    <tr>\n      <th>D5W</th>\n      <td>63901.0</td>\n      <td>270.993504</td>\n      <td>215.528569</td>\n      <td>0.0</td>\n      <td>250.0</td>\n      <td>250.0</td>\n      <td>250.0</td>\n      <td>3250.0</td>\n    </tr>\n    <tr>\n      <th>Docusate Sodium</th>\n      <td>25277.0</td>\n      <td>100.975195</td>\n      <td>10.284491</td>\n      <td>100.0</td>\n      <td>100.0</td>\n      <td>100.0</td>\n      <td>100.0</td>\n      <td>400.0</td>\n    </tr>\n    <tr>\n      <th>Humulin-R Insulin</th>\n      <td>1800.0</td>\n      <td>100.461944</td>\n      <td>14.505230</td>\n      <td>1.0</td>\n      <td>100.0</td>\n      <td>100.0</td>\n      <td>100.0</td>\n      <td>500.0</td>\n    </tr>\n    <tr>\n      <th>Magnesium Sulfate</th>\n      <td>44053.0</td>\n      <td>2.504125</td>\n      <td>0.842145</td>\n      <td>0.0</td>\n      <td>2.0</td>\n      <td>2.0</td>\n      <td>3.0</td>\n      <td>20.0</td>\n    </tr>\n    <tr>\n      <th>Metoprolol Tartrate</th>\n      <td>32322.0</td>\n      <td>23.229793</td>\n      <td>22.852314</td>\n      <td>0.0</td>\n      <td>5.0</td>\n      <td>12.5</td>\n      <td>25.0</td>\n      <td>200.0</td>\n    </tr>\n    <tr>\n      <th>Pantoprazole</th>\n      <td>14909.0</td>\n      <td>41.473204</td>\n      <td>7.654519</td>\n      <td>0.0</td>\n      <td>40.0</td>\n      <td>40.0</td>\n      <td>40.0</td>\n      <td>120.0</td>\n    </tr>\n    <tr>\n      <th>Potassium Chloride</th>\n      <td>93649.0</td>\n      <td>36.592713</td>\n      <td>15.761304</td>\n      <td>0.0</td>\n      <td>20.0</td>\n      <td>40.0</td>\n      <td>40.0</td>\n      <td>420.0</td>\n    </tr>\n    <tr>\n      <th>Sodium Chloride 0.9%  Flush</th>\n      <td>41429.0</td>\n      <td>4.016498</td>\n      <td>2.565794</td>\n      <td>1.0</td>\n      <td>3.0</td>\n      <td>3.0</td>\n      <td>3.0</td>\n      <td>150.0</td>\n    </tr>\n  </tbody>\n</table>\n</div>"
     },
     "metadata": {},
     "execution_count": 9
    }
   ],
   "source": [
    "presc2.groupby(\"DRUG\")[\"DOSE_VAL_RX\"].describe()"
   ]
  },
  {
   "cell_type": "code",
   "execution_count": 10,
   "metadata": {},
   "outputs": [
    {
     "output_type": "stream",
     "name": "stdout",
     "text": [
      "Number of patients remaining in the database: \n21439\nNumber of datapoints remaining in the database: \n351883\n"
     ]
    }
   ],
   "source": [
    "#Remove all entries whose rate is more than 4 std away from the mean.\n",
    "presc_desc=presc2.groupby(\"DRUG\")[\"DOSE_VAL_RX\"].describe()\n",
    "name_list=list(presc_desc.loc[presc_desc[\"count\"]!=0].index)\n",
    "for label in name_list:\n",
    "    presc2=presc2.drop(presc2.loc[(presc2[\"DRUG\"]==label)&(presc2[\"DOSE_VAL_RX\"]>(presc_desc.loc[label,\"mean\"]+4*presc_desc.loc[label,\"std\"]))].index).copy()\n",
    "\n",
    "print(\"Number of patients remaining in the database: \")\n",
    "print(presc2[\"SUBJECT_ID\"].nunique())\n",
    "print(\"Number of datapoints remaining in the database: \")\n",
    "print(len(presc2.index))\n"
   ]
  },
  {
   "cell_type": "code",
   "execution_count": 11,
   "metadata": {},
   "outputs": [
    {
     "output_type": "execute_result",
     "data": {
      "text/plain": [
       "                               count        mean         std    min    25%  \\\n",
       "DRUG                                                                         \n",
       "Aspirin                      14119.0  192.228100  121.249490    0.0   81.0   \n",
       "Bisacodyl                    21471.0   10.005938    0.433274    5.0   10.0   \n",
       "D5W                          63859.0  269.222128  204.110200    0.0  250.0   \n",
       "Docusate Sodium              25040.0  100.000000    0.000000  100.0  100.0   \n",
       "Humulin-R Insulin             1789.0   99.570430    6.192594    1.0  100.0   \n",
       "Magnesium Sulfate            44037.0    2.502082    0.830932    0.0    2.0   \n",
       "Metoprolol Tartrate          32163.0   22.620974   21.136326    0.0    5.0   \n",
       "Pantoprazole                 14352.0   39.975195    0.827762    0.0   40.0   \n",
       "Potassium Chloride           93626.0   36.565601   15.587203    0.0   20.0   \n",
       "Sodium Chloride 0.9%  Flush  41427.0    4.012588    2.462315    1.0    3.0   \n",
       "\n",
       "                               50%    75%     max  \n",
       "DRUG                                               \n",
       "Aspirin                       81.0  325.0   650.0  \n",
       "Bisacodyl                     10.0   10.0    40.0  \n",
       "D5W                          250.0  250.0  1000.0  \n",
       "Docusate Sodium              100.0  100.0   100.0  \n",
       "Humulin-R Insulin            100.0  100.0   100.0  \n",
       "Magnesium Sulfate              2.0    3.0     5.0  \n",
       "Metoprolol Tartrate           12.5   25.0   100.0  \n",
       "Pantoprazole                  40.0   40.0    40.0  \n",
       "Potassium Chloride            40.0   40.0    90.0  \n",
       "Sodium Chloride 0.9%  Flush    3.0    3.0    10.0  "
      ],
      "text/html": "<div>\n<style scoped>\n    .dataframe tbody tr th:only-of-type {\n        vertical-align: middle;\n    }\n\n    .dataframe tbody tr th {\n        vertical-align: top;\n    }\n\n    .dataframe thead th {\n        text-align: right;\n    }\n</style>\n<table border=\"1\" class=\"dataframe\">\n  <thead>\n    <tr style=\"text-align: right;\">\n      <th></th>\n      <th>count</th>\n      <th>mean</th>\n      <th>std</th>\n      <th>min</th>\n      <th>25%</th>\n      <th>50%</th>\n      <th>75%</th>\n      <th>max</th>\n    </tr>\n    <tr>\n      <th>DRUG</th>\n      <th></th>\n      <th></th>\n      <th></th>\n      <th></th>\n      <th></th>\n      <th></th>\n      <th></th>\n      <th></th>\n    </tr>\n  </thead>\n  <tbody>\n    <tr>\n      <th>Aspirin</th>\n      <td>14119.0</td>\n      <td>192.228100</td>\n      <td>121.249490</td>\n      <td>0.0</td>\n      <td>81.0</td>\n      <td>81.0</td>\n      <td>325.0</td>\n      <td>650.0</td>\n    </tr>\n    <tr>\n      <th>Bisacodyl</th>\n      <td>21471.0</td>\n      <td>10.005938</td>\n      <td>0.433274</td>\n      <td>5.0</td>\n      <td>10.0</td>\n      <td>10.0</td>\n      <td>10.0</td>\n      <td>40.0</td>\n    </tr>\n    <tr>\n      <th>D5W</th>\n      <td>63859.0</td>\n      <td>269.222128</td>\n      <td>204.110200</td>\n      <td>0.0</td>\n      <td>250.0</td>\n      <td>250.0</td>\n      <td>250.0</td>\n      <td>1000.0</td>\n    </tr>\n    <tr>\n      <th>Docusate Sodium</th>\n      <td>25040.0</td>\n      <td>100.000000</td>\n      <td>0.000000</td>\n      <td>100.0</td>\n      <td>100.0</td>\n      <td>100.0</td>\n      <td>100.0</td>\n      <td>100.0</td>\n    </tr>\n    <tr>\n      <th>Humulin-R Insulin</th>\n      <td>1789.0</td>\n      <td>99.570430</td>\n      <td>6.192594</td>\n      <td>1.0</td>\n      <td>100.0</td>\n      <td>100.0</td>\n      <td>100.0</td>\n      <td>100.0</td>\n    </tr>\n    <tr>\n      <th>Magnesium Sulfate</th>\n      <td>44037.0</td>\n      <td>2.502082</td>\n      <td>0.830932</td>\n      <td>0.0</td>\n      <td>2.0</td>\n      <td>2.0</td>\n      <td>3.0</td>\n      <td>5.0</td>\n    </tr>\n    <tr>\n      <th>Metoprolol Tartrate</th>\n      <td>32163.0</td>\n      <td>22.620974</td>\n      <td>21.136326</td>\n      <td>0.0</td>\n      <td>5.0</td>\n      <td>12.5</td>\n      <td>25.0</td>\n      <td>100.0</td>\n    </tr>\n    <tr>\n      <th>Pantoprazole</th>\n      <td>14352.0</td>\n      <td>39.975195</td>\n      <td>0.827762</td>\n      <td>0.0</td>\n      <td>40.0</td>\n      <td>40.0</td>\n      <td>40.0</td>\n      <td>40.0</td>\n    </tr>\n    <tr>\n      <th>Potassium Chloride</th>\n      <td>93626.0</td>\n      <td>36.565601</td>\n      <td>15.587203</td>\n      <td>0.0</td>\n      <td>20.0</td>\n      <td>40.0</td>\n      <td>40.0</td>\n      <td>90.0</td>\n    </tr>\n    <tr>\n      <th>Sodium Chloride 0.9%  Flush</th>\n      <td>41427.0</td>\n      <td>4.012588</td>\n      <td>2.462315</td>\n      <td>1.0</td>\n      <td>3.0</td>\n      <td>3.0</td>\n      <td>3.0</td>\n      <td>10.0</td>\n    </tr>\n  </tbody>\n</table>\n</div>"
     },
     "metadata": {},
     "execution_count": 11
    }
   ],
   "source": [
    "presc2.groupby(\"DRUG\")[\"DOSE_VAL_RX\"].describe()"
   ]
  },
  {
   "cell_type": "code",
   "execution_count": 12,
   "metadata": {},
   "outputs": [],
   "source": [
    "presc2['CHARTTIME']=pd.to_datetime(presc2[\"STARTDATE\"], format='%Y-%m-%d %H:%M:%S')\n",
    "\n",
    "#To avoid confounding labels with labels from other tables, we add \"drug\" to the name\n",
    "presc2[\"DRUG\"]=presc2[\"DRUG\"]+\" Drug\""
   ]
  },
  {
   "cell_type": "code",
   "execution_count": 13,
   "metadata": {},
   "outputs": [],
   "source": [
    "presc2.to_csv(file_path+\"PRESCRIPTIONS_processed.csv\")"
   ]
  },
  {
   "cell_type": "code",
   "execution_count": 14,
   "metadata": {},
   "outputs": [
    {
     "output_type": "display_data",
     "data": {
      "text/plain": "<Figure size 432x288 with 1 Axes>",
      "image/svg+xml": "<?xml version=\"1.0\" encoding=\"utf-8\" standalone=\"no\"?>\r\n<!DOCTYPE svg PUBLIC \"-//W3C//DTD SVG 1.1//EN\"\r\n  \"http://www.w3.org/Graphics/SVG/1.1/DTD/svg11.dtd\">\r\n<!-- Created with matplotlib (https://matplotlib.org/) -->\r\n<svg height=\"248.518125pt\" version=\"1.1\" viewBox=\"0 0 394.375 248.518125\" width=\"394.375pt\" xmlns=\"http://www.w3.org/2000/svg\" xmlns:xlink=\"http://www.w3.org/1999/xlink\">\r\n <metadata>\r\n  <rdf:RDF xmlns:cc=\"http://creativecommons.org/ns#\" xmlns:dc=\"http://purl.org/dc/elements/1.1/\" xmlns:rdf=\"http://www.w3.org/1999/02/22-rdf-syntax-ns#\">\r\n   <cc:Work>\r\n    <dc:type rdf:resource=\"http://purl.org/dc/dcmitype/StillImage\"/>\r\n    <dc:date>2021-01-17T02:51:51.811376</dc:date>\r\n    <dc:format>image/svg+xml</dc:format>\r\n    <dc:creator>\r\n     <cc:Agent>\r\n      <dc:title>Matplotlib v3.3.2, https://matplotlib.org/</dc:title>\r\n     </cc:Agent>\r\n    </dc:creator>\r\n   </cc:Work>\r\n  </rdf:RDF>\r\n </metadata>\r\n <defs>\r\n  <style type=\"text/css\">*{stroke-linecap:butt;stroke-linejoin:round;}</style>\r\n </defs>\r\n <g id=\"figure_1\">\r\n  <g id=\"patch_1\">\r\n   <path d=\"M 0 248.518125 \r\nL 394.375 248.518125 \r\nL 394.375 0 \r\nL 0 0 \r\nz\r\n\" style=\"fill:none;\"/>\r\n  </g>\r\n  <g id=\"axes_1\">\r\n   <g id=\"patch_2\">\r\n    <path d=\"M 52.375 224.64 \r\nL 387.175 224.64 \r\nL 387.175 7.2 \r\nL 52.375 7.2 \r\nz\r\n\" style=\"fill:#ffffff;\"/>\r\n   </g>\r\n   <g id=\"patch_3\">\r\n    <path clip-path=\"url(#p413fb2fe83)\" d=\"M 67.593182 224.64 \r\nL 98.029545 224.64 \r\nL 98.029545 224.630615 \r\nL 67.593182 224.630615 \r\nz\r\n\" style=\"fill:#1f77b4;\"/>\r\n   </g>\r\n   <g id=\"patch_4\">\r\n    <path clip-path=\"url(#p413fb2fe83)\" d=\"M 98.029545 224.64 \r\nL 128.465909 224.64 \r\nL 128.465909 17.554286 \r\nL 98.029545 17.554286 \r\nz\r\n\" style=\"fill:#1f77b4;\"/>\r\n   </g>\r\n   <g id=\"patch_5\">\r\n    <path clip-path=\"url(#p413fb2fe83)\" d=\"M 128.465909 224.64 \r\nL 158.902273 224.64 \r\nL 158.902273 113.655714 \r\nL 128.465909 113.655714 \r\nz\r\n\" style=\"fill:#1f77b4;\"/>\r\n   </g>\r\n   <g id=\"patch_6\">\r\n    <path clip-path=\"url(#p413fb2fe83)\" d=\"M 158.902273 224.64 \r\nL 189.338636 224.64 \r\nL 189.338636 199.514748 \r\nL 158.902273 199.514748 \r\nz\r\n\" style=\"fill:#1f77b4;\"/>\r\n   </g>\r\n   <g id=\"patch_7\">\r\n    <path clip-path=\"url(#p413fb2fe83)\" d=\"M 189.338636 224.64 \r\nL 219.775 224.64 \r\nL 219.775 211.549717 \r\nL 189.338636 211.549717 \r\nz\r\n\" style=\"fill:#1f77b4;\"/>\r\n   </g>\r\n   <g id=\"patch_8\">\r\n    <path clip-path=\"url(#p413fb2fe83)\" d=\"M 219.775 224.64 \r\nL 250.211364 224.64 \r\nL 250.211364 219.830601 \r\nL 219.775 219.830601 \r\nz\r\n\" style=\"fill:#1f77b4;\"/>\r\n   </g>\r\n   <g id=\"patch_9\">\r\n    <path clip-path=\"url(#p413fb2fe83)\" d=\"M 250.211364 224.64 \r\nL 280.647727 224.64 \r\nL 280.647727 221.460499 \r\nL 250.211364 221.460499 \r\nz\r\n\" style=\"fill:#1f77b4;\"/>\r\n   </g>\r\n   <g id=\"patch_10\">\r\n    <path clip-path=\"url(#p413fb2fe83)\" d=\"M 280.647727 224.64 \r\nL 311.084091 224.64 \r\nL 311.084091 223.358397 \r\nL 280.647727 223.358397 \r\nz\r\n\" style=\"fill:#1f77b4;\"/>\r\n   </g>\r\n   <g id=\"patch_11\">\r\n    <path clip-path=\"url(#p413fb2fe83)\" d=\"M 311.084091 224.64 \r\nL 341.520455 224.64 \r\nL 341.520455 223.718164 \r\nL 311.084091 223.718164 \r\nz\r\n\" style=\"fill:#1f77b4;\"/>\r\n   </g>\r\n   <g id=\"patch_12\">\r\n    <path clip-path=\"url(#p413fb2fe83)\" d=\"M 341.520455 224.64 \r\nL 371.956818 224.64 \r\nL 371.956818 224.354272 \r\nL 341.520455 224.354272 \r\nz\r\n\" style=\"fill:#1f77b4;\"/>\r\n   </g>\r\n   <g id=\"matplotlib.axis_1\">\r\n    <g id=\"xtick_1\">\r\n     <g id=\"line2d_1\">\r\n      <defs>\r\n       <path d=\"M 0 0 \r\nL 0 3.5 \r\n\" id=\"m02e7be716d\" style=\"stroke:#000000;stroke-width:0.8;\"/>\r\n      </defs>\r\n      <g>\r\n       <use style=\"stroke:#000000;stroke-width:0.8;\" x=\"67.593182\" xlink:href=\"#m02e7be716d\" y=\"224.64\"/>\r\n      </g>\r\n     </g>\r\n     <g id=\"text_1\">\r\n      <!-- −5 -->\r\n      <g transform=\"translate(60.222088 239.238437)scale(0.1 -0.1)\">\r\n       <defs>\r\n        <path d=\"M 10.59375 35.5 \r\nL 73.1875 35.5 \r\nL 73.1875 27.203125 \r\nL 10.59375 27.203125 \r\nz\r\n\" id=\"DejaVuSans-8722\"/>\r\n        <path d=\"M 10.796875 72.90625 \r\nL 49.515625 72.90625 \r\nL 49.515625 64.59375 \r\nL 19.828125 64.59375 \r\nL 19.828125 46.734375 \r\nQ 21.96875 47.46875 24.109375 47.828125 \r\nQ 26.265625 48.1875 28.421875 48.1875 \r\nQ 40.625 48.1875 47.75 41.5 \r\nQ 54.890625 34.8125 54.890625 23.390625 \r\nQ 54.890625 11.625 47.5625 5.09375 \r\nQ 40.234375 -1.421875 26.90625 -1.421875 \r\nQ 22.3125 -1.421875 17.546875 -0.640625 \r\nQ 12.796875 0.140625 7.71875 1.703125 \r\nL 7.71875 11.625 \r\nQ 12.109375 9.234375 16.796875 8.0625 \r\nQ 21.484375 6.890625 26.703125 6.890625 \r\nQ 35.15625 6.890625 40.078125 11.328125 \r\nQ 45.015625 15.765625 45.015625 23.390625 \r\nQ 45.015625 31 40.078125 35.4375 \r\nQ 35.15625 39.890625 26.703125 39.890625 \r\nQ 22.75 39.890625 18.8125 39.015625 \r\nQ 14.890625 38.140625 10.796875 36.28125 \r\nz\r\n\" id=\"DejaVuSans-53\"/>\r\n       </defs>\r\n       <use xlink:href=\"#DejaVuSans-8722\"/>\r\n       <use x=\"83.789062\" xlink:href=\"#DejaVuSans-53\"/>\r\n      </g>\r\n     </g>\r\n    </g>\r\n    <g id=\"xtick_2\">\r\n     <g id=\"line2d_2\">\r\n      <g>\r\n       <use style=\"stroke:#000000;stroke-width:0.8;\" x=\"111.073701\" xlink:href=\"#m02e7be716d\" y=\"224.64\"/>\r\n      </g>\r\n     </g>\r\n     <g id=\"text_2\">\r\n      <!-- 0 -->\r\n      <g transform=\"translate(107.892451 239.238437)scale(0.1 -0.1)\">\r\n       <defs>\r\n        <path d=\"M 31.78125 66.40625 \r\nQ 24.171875 66.40625 20.328125 58.90625 \r\nQ 16.5 51.421875 16.5 36.375 \r\nQ 16.5 21.390625 20.328125 13.890625 \r\nQ 24.171875 6.390625 31.78125 6.390625 \r\nQ 39.453125 6.390625 43.28125 13.890625 \r\nQ 47.125 21.390625 47.125 36.375 \r\nQ 47.125 51.421875 43.28125 58.90625 \r\nQ 39.453125 66.40625 31.78125 66.40625 \r\nz\r\nM 31.78125 74.21875 \r\nQ 44.046875 74.21875 50.515625 64.515625 \r\nQ 56.984375 54.828125 56.984375 36.375 \r\nQ 56.984375 17.96875 50.515625 8.265625 \r\nQ 44.046875 -1.421875 31.78125 -1.421875 \r\nQ 19.53125 -1.421875 13.0625 8.265625 \r\nQ 6.59375 17.96875 6.59375 36.375 \r\nQ 6.59375 54.828125 13.0625 64.515625 \r\nQ 19.53125 74.21875 31.78125 74.21875 \r\nz\r\n\" id=\"DejaVuSans-48\"/>\r\n       </defs>\r\n       <use xlink:href=\"#DejaVuSans-48\"/>\r\n      </g>\r\n     </g>\r\n    </g>\r\n    <g id=\"xtick_3\">\r\n     <g id=\"line2d_3\">\r\n      <g>\r\n       <use style=\"stroke:#000000;stroke-width:0.8;\" x=\"154.554221\" xlink:href=\"#m02e7be716d\" y=\"224.64\"/>\r\n      </g>\r\n     </g>\r\n     <g id=\"text_3\">\r\n      <!-- 5 -->\r\n      <g transform=\"translate(151.372971 239.238437)scale(0.1 -0.1)\">\r\n       <use xlink:href=\"#DejaVuSans-53\"/>\r\n      </g>\r\n     </g>\r\n    </g>\r\n    <g id=\"xtick_4\">\r\n     <g id=\"line2d_4\">\r\n      <g>\r\n       <use style=\"stroke:#000000;stroke-width:0.8;\" x=\"198.03474\" xlink:href=\"#m02e7be716d\" y=\"224.64\"/>\r\n      </g>\r\n     </g>\r\n     <g id=\"text_4\">\r\n      <!-- 10 -->\r\n      <g transform=\"translate(191.67224 239.238437)scale(0.1 -0.1)\">\r\n       <defs>\r\n        <path d=\"M 12.40625 8.296875 \r\nL 28.515625 8.296875 \r\nL 28.515625 63.921875 \r\nL 10.984375 60.40625 \r\nL 10.984375 69.390625 \r\nL 28.421875 72.90625 \r\nL 38.28125 72.90625 \r\nL 38.28125 8.296875 \r\nL 54.390625 8.296875 \r\nL 54.390625 0 \r\nL 12.40625 0 \r\nz\r\n\" id=\"DejaVuSans-49\"/>\r\n       </defs>\r\n       <use xlink:href=\"#DejaVuSans-49\"/>\r\n       <use x=\"63.623047\" xlink:href=\"#DejaVuSans-48\"/>\r\n      </g>\r\n     </g>\r\n    </g>\r\n    <g id=\"xtick_5\">\r\n     <g id=\"line2d_5\">\r\n      <g>\r\n       <use style=\"stroke:#000000;stroke-width:0.8;\" x=\"241.51526\" xlink:href=\"#m02e7be716d\" y=\"224.64\"/>\r\n      </g>\r\n     </g>\r\n     <g id=\"text_5\">\r\n      <!-- 15 -->\r\n      <g transform=\"translate(235.15276 239.238437)scale(0.1 -0.1)\">\r\n       <use xlink:href=\"#DejaVuSans-49\"/>\r\n       <use x=\"63.623047\" xlink:href=\"#DejaVuSans-53\"/>\r\n      </g>\r\n     </g>\r\n    </g>\r\n    <g id=\"xtick_6\">\r\n     <g id=\"line2d_6\">\r\n      <g>\r\n       <use style=\"stroke:#000000;stroke-width:0.8;\" x=\"284.995779\" xlink:href=\"#m02e7be716d\" y=\"224.64\"/>\r\n      </g>\r\n     </g>\r\n     <g id=\"text_6\">\r\n      <!-- 20 -->\r\n      <g transform=\"translate(278.633279 239.238437)scale(0.1 -0.1)\">\r\n       <defs>\r\n        <path d=\"M 19.1875 8.296875 \r\nL 53.609375 8.296875 \r\nL 53.609375 0 \r\nL 7.328125 0 \r\nL 7.328125 8.296875 \r\nQ 12.9375 14.109375 22.625 23.890625 \r\nQ 32.328125 33.6875 34.8125 36.53125 \r\nQ 39.546875 41.84375 41.421875 45.53125 \r\nQ 43.3125 49.21875 43.3125 52.78125 \r\nQ 43.3125 58.59375 39.234375 62.25 \r\nQ 35.15625 65.921875 28.609375 65.921875 \r\nQ 23.96875 65.921875 18.8125 64.3125 \r\nQ 13.671875 62.703125 7.8125 59.421875 \r\nL 7.8125 69.390625 \r\nQ 13.765625 71.78125 18.9375 73 \r\nQ 24.125 74.21875 28.421875 74.21875 \r\nQ 39.75 74.21875 46.484375 68.546875 \r\nQ 53.21875 62.890625 53.21875 53.421875 \r\nQ 53.21875 48.921875 51.53125 44.890625 \r\nQ 49.859375 40.875 45.40625 35.40625 \r\nQ 44.1875 33.984375 37.640625 27.21875 \r\nQ 31.109375 20.453125 19.1875 8.296875 \r\nz\r\n\" id=\"DejaVuSans-50\"/>\r\n       </defs>\r\n       <use xlink:href=\"#DejaVuSans-50\"/>\r\n       <use x=\"63.623047\" xlink:href=\"#DejaVuSans-48\"/>\r\n      </g>\r\n     </g>\r\n    </g>\r\n    <g id=\"xtick_7\">\r\n     <g id=\"line2d_7\">\r\n      <g>\r\n       <use style=\"stroke:#000000;stroke-width:0.8;\" x=\"328.476299\" xlink:href=\"#m02e7be716d\" y=\"224.64\"/>\r\n      </g>\r\n     </g>\r\n     <g id=\"text_7\">\r\n      <!-- 25 -->\r\n      <g transform=\"translate(322.113799 239.238437)scale(0.1 -0.1)\">\r\n       <use xlink:href=\"#DejaVuSans-50\"/>\r\n       <use x=\"63.623047\" xlink:href=\"#DejaVuSans-53\"/>\r\n      </g>\r\n     </g>\r\n    </g>\r\n    <g id=\"xtick_8\">\r\n     <g id=\"line2d_8\">\r\n      <g>\r\n       <use style=\"stroke:#000000;stroke-width:0.8;\" x=\"371.956818\" xlink:href=\"#m02e7be716d\" y=\"224.64\"/>\r\n      </g>\r\n     </g>\r\n     <g id=\"text_8\">\r\n      <!-- 30 -->\r\n      <g transform=\"translate(365.594318 239.238437)scale(0.1 -0.1)\">\r\n       <defs>\r\n        <path d=\"M 40.578125 39.3125 \r\nQ 47.65625 37.796875 51.625 33 \r\nQ 55.609375 28.21875 55.609375 21.1875 \r\nQ 55.609375 10.40625 48.1875 4.484375 \r\nQ 40.765625 -1.421875 27.09375 -1.421875 \r\nQ 22.515625 -1.421875 17.65625 -0.515625 \r\nQ 12.796875 0.390625 7.625 2.203125 \r\nL 7.625 11.71875 \r\nQ 11.71875 9.328125 16.59375 8.109375 \r\nQ 21.484375 6.890625 26.8125 6.890625 \r\nQ 36.078125 6.890625 40.9375 10.546875 \r\nQ 45.796875 14.203125 45.796875 21.1875 \r\nQ 45.796875 27.640625 41.28125 31.265625 \r\nQ 36.765625 34.90625 28.71875 34.90625 \r\nL 20.21875 34.90625 \r\nL 20.21875 43.015625 \r\nL 29.109375 43.015625 \r\nQ 36.375 43.015625 40.234375 45.921875 \r\nQ 44.09375 48.828125 44.09375 54.296875 \r\nQ 44.09375 59.90625 40.109375 62.90625 \r\nQ 36.140625 65.921875 28.71875 65.921875 \r\nQ 24.65625 65.921875 20.015625 65.03125 \r\nQ 15.375 64.15625 9.8125 62.3125 \r\nL 9.8125 71.09375 \r\nQ 15.4375 72.65625 20.34375 73.4375 \r\nQ 25.25 74.21875 29.59375 74.21875 \r\nQ 40.828125 74.21875 47.359375 69.109375 \r\nQ 53.90625 64.015625 53.90625 55.328125 \r\nQ 53.90625 49.265625 50.4375 45.09375 \r\nQ 46.96875 40.921875 40.578125 39.3125 \r\nz\r\n\" id=\"DejaVuSans-51\"/>\r\n       </defs>\r\n       <use xlink:href=\"#DejaVuSans-51\"/>\r\n       <use x=\"63.623047\" xlink:href=\"#DejaVuSans-48\"/>\r\n      </g>\r\n     </g>\r\n    </g>\r\n   </g>\r\n   <g id=\"matplotlib.axis_2\">\r\n    <g id=\"ytick_1\">\r\n     <g id=\"line2d_9\">\r\n      <defs>\r\n       <path d=\"M 0 0 \r\nL -3.5 0 \r\n\" id=\"mb23441d578\" style=\"stroke:#000000;stroke-width:0.8;\"/>\r\n      </defs>\r\n      <g>\r\n       <use style=\"stroke:#000000;stroke-width:0.8;\" x=\"52.375\" xlink:href=\"#mb23441d578\" y=\"224.64\"/>\r\n      </g>\r\n     </g>\r\n     <g id=\"text_9\">\r\n      <!-- 0 -->\r\n      <g transform=\"translate(39.0125 228.439219)scale(0.1 -0.1)\">\r\n       <use xlink:href=\"#DejaVuSans-48\"/>\r\n      </g>\r\n     </g>\r\n    </g>\r\n    <g id=\"ytick_2\">\r\n     <g id=\"line2d_10\">\r\n      <g>\r\n       <use style=\"stroke:#000000;stroke-width:0.8;\" x=\"52.375\" xlink:href=\"#mb23441d578\" y=\"198.569971\"/>\r\n      </g>\r\n     </g>\r\n     <g id=\"text_10\">\r\n      <!-- 25000 -->\r\n      <g transform=\"translate(13.5625 202.369189)scale(0.1 -0.1)\">\r\n       <use xlink:href=\"#DejaVuSans-50\"/>\r\n       <use x=\"63.623047\" xlink:href=\"#DejaVuSans-53\"/>\r\n       <use x=\"127.246094\" xlink:href=\"#DejaVuSans-48\"/>\r\n       <use x=\"190.869141\" xlink:href=\"#DejaVuSans-48\"/>\r\n       <use x=\"254.492188\" xlink:href=\"#DejaVuSans-48\"/>\r\n      </g>\r\n     </g>\r\n    </g>\r\n    <g id=\"ytick_3\">\r\n     <g id=\"line2d_11\">\r\n      <g>\r\n       <use style=\"stroke:#000000;stroke-width:0.8;\" x=\"52.375\" xlink:href=\"#mb23441d578\" y=\"172.499941\"/>\r\n      </g>\r\n     </g>\r\n     <g id=\"text_11\">\r\n      <!-- 50000 -->\r\n      <g transform=\"translate(13.5625 176.29916)scale(0.1 -0.1)\">\r\n       <use xlink:href=\"#DejaVuSans-53\"/>\r\n       <use x=\"63.623047\" xlink:href=\"#DejaVuSans-48\"/>\r\n       <use x=\"127.246094\" xlink:href=\"#DejaVuSans-48\"/>\r\n       <use x=\"190.869141\" xlink:href=\"#DejaVuSans-48\"/>\r\n       <use x=\"254.492188\" xlink:href=\"#DejaVuSans-48\"/>\r\n      </g>\r\n     </g>\r\n    </g>\r\n    <g id=\"ytick_4\">\r\n     <g id=\"line2d_12\">\r\n      <g>\r\n       <use style=\"stroke:#000000;stroke-width:0.8;\" x=\"52.375\" xlink:href=\"#mb23441d578\" y=\"146.429912\"/>\r\n      </g>\r\n     </g>\r\n     <g id=\"text_12\">\r\n      <!-- 75000 -->\r\n      <g transform=\"translate(13.5625 150.229131)scale(0.1 -0.1)\">\r\n       <defs>\r\n        <path d=\"M 8.203125 72.90625 \r\nL 55.078125 72.90625 \r\nL 55.078125 68.703125 \r\nL 28.609375 0 \r\nL 18.3125 0 \r\nL 43.21875 64.59375 \r\nL 8.203125 64.59375 \r\nz\r\n\" id=\"DejaVuSans-55\"/>\r\n       </defs>\r\n       <use xlink:href=\"#DejaVuSans-55\"/>\r\n       <use x=\"63.623047\" xlink:href=\"#DejaVuSans-53\"/>\r\n       <use x=\"127.246094\" xlink:href=\"#DejaVuSans-48\"/>\r\n       <use x=\"190.869141\" xlink:href=\"#DejaVuSans-48\"/>\r\n       <use x=\"254.492188\" xlink:href=\"#DejaVuSans-48\"/>\r\n      </g>\r\n     </g>\r\n    </g>\r\n    <g id=\"ytick_5\">\r\n     <g id=\"line2d_13\">\r\n      <g>\r\n       <use style=\"stroke:#000000;stroke-width:0.8;\" x=\"52.375\" xlink:href=\"#mb23441d578\" y=\"120.359882\"/>\r\n      </g>\r\n     </g>\r\n     <g id=\"text_13\">\r\n      <!-- 100000 -->\r\n      <g transform=\"translate(7.2 124.159101)scale(0.1 -0.1)\">\r\n       <use xlink:href=\"#DejaVuSans-49\"/>\r\n       <use x=\"63.623047\" xlink:href=\"#DejaVuSans-48\"/>\r\n       <use x=\"127.246094\" xlink:href=\"#DejaVuSans-48\"/>\r\n       <use x=\"190.869141\" xlink:href=\"#DejaVuSans-48\"/>\r\n       <use x=\"254.492188\" xlink:href=\"#DejaVuSans-48\"/>\r\n       <use x=\"318.115234\" xlink:href=\"#DejaVuSans-48\"/>\r\n      </g>\r\n     </g>\r\n    </g>\r\n    <g id=\"ytick_6\">\r\n     <g id=\"line2d_14\">\r\n      <g>\r\n       <use style=\"stroke:#000000;stroke-width:0.8;\" x=\"52.375\" xlink:href=\"#mb23441d578\" y=\"94.289853\"/>\r\n      </g>\r\n     </g>\r\n     <g id=\"text_14\">\r\n      <!-- 125000 -->\r\n      <g transform=\"translate(7.2 98.089072)scale(0.1 -0.1)\">\r\n       <use xlink:href=\"#DejaVuSans-49\"/>\r\n       <use x=\"63.623047\" xlink:href=\"#DejaVuSans-50\"/>\r\n       <use x=\"127.246094\" xlink:href=\"#DejaVuSans-53\"/>\r\n       <use x=\"190.869141\" xlink:href=\"#DejaVuSans-48\"/>\r\n       <use x=\"254.492188\" xlink:href=\"#DejaVuSans-48\"/>\r\n       <use x=\"318.115234\" xlink:href=\"#DejaVuSans-48\"/>\r\n      </g>\r\n     </g>\r\n    </g>\r\n    <g id=\"ytick_7\">\r\n     <g id=\"line2d_15\">\r\n      <g>\r\n       <use style=\"stroke:#000000;stroke-width:0.8;\" x=\"52.375\" xlink:href=\"#mb23441d578\" y=\"68.219824\"/>\r\n      </g>\r\n     </g>\r\n     <g id=\"text_15\">\r\n      <!-- 150000 -->\r\n      <g transform=\"translate(7.2 72.019042)scale(0.1 -0.1)\">\r\n       <use xlink:href=\"#DejaVuSans-49\"/>\r\n       <use x=\"63.623047\" xlink:href=\"#DejaVuSans-53\"/>\r\n       <use x=\"127.246094\" xlink:href=\"#DejaVuSans-48\"/>\r\n       <use x=\"190.869141\" xlink:href=\"#DejaVuSans-48\"/>\r\n       <use x=\"254.492188\" xlink:href=\"#DejaVuSans-48\"/>\r\n       <use x=\"318.115234\" xlink:href=\"#DejaVuSans-48\"/>\r\n      </g>\r\n     </g>\r\n    </g>\r\n    <g id=\"ytick_8\">\r\n     <g id=\"line2d_16\">\r\n      <g>\r\n       <use style=\"stroke:#000000;stroke-width:0.8;\" x=\"52.375\" xlink:href=\"#mb23441d578\" y=\"42.149794\"/>\r\n      </g>\r\n     </g>\r\n     <g id=\"text_16\">\r\n      <!-- 175000 -->\r\n      <g transform=\"translate(7.2 45.949013)scale(0.1 -0.1)\">\r\n       <use xlink:href=\"#DejaVuSans-49\"/>\r\n       <use x=\"63.623047\" xlink:href=\"#DejaVuSans-55\"/>\r\n       <use x=\"127.246094\" xlink:href=\"#DejaVuSans-53\"/>\r\n       <use x=\"190.869141\" xlink:href=\"#DejaVuSans-48\"/>\r\n       <use x=\"254.492188\" xlink:href=\"#DejaVuSans-48\"/>\r\n       <use x=\"318.115234\" xlink:href=\"#DejaVuSans-48\"/>\r\n      </g>\r\n     </g>\r\n    </g>\r\n    <g id=\"ytick_9\">\r\n     <g id=\"line2d_17\">\r\n      <g>\r\n       <use style=\"stroke:#000000;stroke-width:0.8;\" x=\"52.375\" xlink:href=\"#mb23441d578\" y=\"16.079765\"/>\r\n      </g>\r\n     </g>\r\n     <g id=\"text_17\">\r\n      <!-- 200000 -->\r\n      <g transform=\"translate(7.2 19.878984)scale(0.1 -0.1)\">\r\n       <use xlink:href=\"#DejaVuSans-50\"/>\r\n       <use x=\"63.623047\" xlink:href=\"#DejaVuSans-48\"/>\r\n       <use x=\"127.246094\" xlink:href=\"#DejaVuSans-48\"/>\r\n       <use x=\"190.869141\" xlink:href=\"#DejaVuSans-48\"/>\r\n       <use x=\"254.492188\" xlink:href=\"#DejaVuSans-48\"/>\r\n       <use x=\"318.115234\" xlink:href=\"#DejaVuSans-48\"/>\r\n      </g>\r\n     </g>\r\n    </g>\r\n   </g>\r\n   <g id=\"patch_13\">\r\n    <path d=\"M 52.375 224.64 \r\nL 52.375 7.2 \r\n\" style=\"fill:none;stroke:#000000;stroke-linecap:square;stroke-linejoin:miter;stroke-width:0.8;\"/>\r\n   </g>\r\n   <g id=\"patch_14\">\r\n    <path d=\"M 387.175 224.64 \r\nL 387.175 7.2 \r\n\" style=\"fill:none;stroke:#000000;stroke-linecap:square;stroke-linejoin:miter;stroke-width:0.8;\"/>\r\n   </g>\r\n   <g id=\"patch_15\">\r\n    <path d=\"M 52.375 224.64 \r\nL 387.175 224.64 \r\n\" style=\"fill:none;stroke:#000000;stroke-linecap:square;stroke-linejoin:miter;stroke-width:0.8;\"/>\r\n   </g>\r\n   <g id=\"patch_16\">\r\n    <path d=\"M 52.375 7.2 \r\nL 387.175 7.2 \r\n\" style=\"fill:none;stroke:#000000;stroke-linecap:square;stroke-linejoin:miter;stroke-width:0.8;\"/>\r\n   </g>\r\n  </g>\r\n </g>\r\n <defs>\r\n  <clipPath id=\"p413fb2fe83\">\r\n   <rect height=\"217.44\" width=\"334.8\" x=\"52.375\" y=\"7.2\"/>\r\n  </clipPath>\r\n </defs>\r\n</svg>\r\n",
      "image/png": "[encoded data removed]"
     },
     "metadata": {
      "needs_background": "light"
     }
    },
    {
     "output_type": "execute_result",
     "data": {
      "text/plain": [
       " 1.0     134652\n",
       " 0.0      63387\n",
       " 2.0      38977\n",
       " 3.0      31171\n",
       " 4.0      21353\n",
       " 5.0      14928\n",
       " 6.0      10819\n",
       " 7.0       7584\n",
       " 8.0       5691\n",
       " 9.0       4218\n",
       " 10.0      3486\n",
       " 11.0      2680\n",
       " 12.0      2169\n",
       " 13.0      1934\n",
       " 14.0      1465\n",
       " 15.0      1213\n",
       " 16.0       957\n",
       " 17.0       873\n",
       " 18.0       677\n",
       "-1.0        547\n",
       " 19.0       542\n",
       " 20.0       492\n",
       " 21.0       400\n",
       " 22.0       337\n",
       " 23.0       281\n",
       " 25.0       246\n",
       " 24.0       234\n",
       " 27.0       124\n",
       " 26.0       123\n",
       " 28.0        92\n",
       " 29.0        44\n",
       " 30.0        14\n",
       "-2.0          7\n",
       "-4.0          1\n",
       "-5.0          1\n",
       "Name: ELAPSED_DAYS, dtype: int64"
      ]
     },
     "metadata": {},
     "execution_count": 14
    }
   ],
   "source": [
    "\n",
    "presc2['STARTDATE']=pd.to_datetime(presc2[\"STARTDATE\"], format='%Y-%m-%d %H:%M:%S')\n",
    "presc2['ENDDATE']=pd.to_datetime(presc2[\"ENDDATE\"], format='%Y-%m-%d %H:%M:%S')\n",
    "\n",
    "presc2[\"ELAPSED_TIME\"]=(presc2[\"ENDDATE\"]-presc2[\"STARTDATE\"])\n",
    "presc2[\"ELAPSED_DAYS\"]=presc2[\"ELAPSED_TIME\"].dt.days\n",
    "plt.hist(presc2.loc[(presc2[\"ELAPSED_DAYS\"].notnull()),\"ELAPSED_DAYS\"])\n",
    "plt.show()\n",
    "\n",
    "presc2.loc[(presc2[\"ELAPSED_DAYS\"].notnull()),\"ELAPSED_DAYS\"].value_counts()"
   ]
  },
  {
   "cell_type": "code",
   "execution_count": 15,
   "metadata": {},
   "outputs": [
    {
     "output_type": "execute_result",
     "data": {
      "text/plain": [
       "          ROW_ID  SUBJECT_ID  HADM_ID  ICUSTAY_ID  STARTDATE ENDDATE  \\\n",
       "34265    1235207         458   183288    279940.0 2152-01-24     NaT   \n",
       "34266    1235213         458   183288    279940.0 2152-01-24     NaT   \n",
       "71447    1926835         979   163886         NaN 2163-02-25     NaT   \n",
       "81872     843038        1079   167362    291034.0 2156-12-22     NaT   \n",
       "81873     843040        1079   167362    291034.0 2156-12-22     NaT   \n",
       "...          ...         ...      ...         ...        ...     ...   \n",
       "4005574  1529407       95230   192633    210969.0 2183-11-21     NaT   \n",
       "4017186  1529417       95230   192633    210969.0 2183-11-22     NaT   \n",
       "4017188  1540002       95230   192633         NaN 2183-11-23     NaT   \n",
       "4089059  4041630       97762   107220         NaN        NaT     NaT   \n",
       "4129154  3660334       97543   136264         NaN        NaT     NaT   \n",
       "\n",
       "        DRUG_TYPE                              DRUG  \\\n",
       "34265        MAIN                 Pantoprazole Drug   \n",
       "34266        MAIN                 Pantoprazole Drug   \n",
       "71447        BASE                          D5W Drug   \n",
       "81872        BASE                          D5W Drug   \n",
       "81873        BASE                          D5W Drug   \n",
       "...           ...                               ...   \n",
       "4005574      MAIN  Sodium Chloride 0.9%  Flush Drug   \n",
       "4017186      MAIN                 Pantoprazole Drug   \n",
       "4017188      MAIN          Metoprolol Tartrate Drug   \n",
       "4089059      MAIN                 Pantoprazole Drug   \n",
       "4129154      MAIN                 Pantoprazole Drug   \n",
       "\n",
       "                       DRUG_NAME_POE            DRUG_NAME_GENERIC  \\\n",
       "34265                   Pantoprazole                 Pantoprazole   \n",
       "34266                   Pantoprazole                 Pantoprazole   \n",
       "71447                            NaN                          NaN   \n",
       "81872                            NaN                          NaN   \n",
       "81873                            NaN                          NaN   \n",
       "...                              ...                          ...   \n",
       "4005574  Sodium Chloride 0.9%  Flush  Sodium Chloride 0.9%  Flush   \n",
       "4017186                 Pantoprazole                 Pantoprazole   \n",
       "4017188          Metoprolol Tartrate          Metoprolol Tartrate   \n",
       "4089059                 Pantoprazole      Pantoprazole (Self Med)   \n",
       "4129154                 Pantoprazole      Pantoprazole (Self Med)   \n",
       "\n",
       "        FORMULARY_DRUG_CD     GSN           NDC PROD_STRENGTH  DOSE_VAL_RX  \\\n",
       "34265              PANT40  027462  8.084199e+06      40MG TAB         40.0   \n",
       "34266              PANT40  027462  8.084199e+06      40MG TAB         40.0   \n",
       "71447            CLINBASE     NaN  0.000000e+00      50ML BAG         50.0   \n",
       "81872              D5W250  001972  3.380017e+08     250ML BAG        250.0   \n",
       "81873              D5W250  001972  3.380017e+08     250ML BAG        250.0   \n",
       "...                   ...     ...           ...           ...          ...   \n",
       "4005574         NACLFLUSH     NaN  0.000000e+00       Syringe          3.0   \n",
       "4017186            PANT40  027462  8.084199e+06   40mg Tablet         40.0   \n",
       "4017188            METO25  050631  5.107903e+10   25mg Tablet         12.5   \n",
       "4089059          PANT40SM  027462  6.838703e+10  40 mg Tablet         40.0   \n",
       "4129154          PANT40SM  027462  6.838703e+10  40 mg Tablet         40.0   \n",
       "\n",
       "        DOSE_UNIT_RX FORM_VAL_DISP FORM_UNIT_DISP    ROUTE  CHARTTIME  \\\n",
       "34265             mg             1            TAB       PO 2152-01-24   \n",
       "34266             mg             1            TAB       PO 2152-01-24   \n",
       "71447             mL             1            BAG       IV 2163-02-25   \n",
       "81872             mL           250             ml  IV DRIP 2156-12-22   \n",
       "81873             mL           250             ml  IV DRIP 2156-12-22   \n",
       "...              ...           ...            ...      ...        ...   \n",
       "4005574           mL           0.6            SYR       IV 2183-11-21   \n",
       "4017186           mg             1            TAB       PO 2183-11-22   \n",
       "4017188           mg           0.5            TAB    PO/NG 2183-11-23   \n",
       "4089059           mg             1            TAB       PO        NaT   \n",
       "4129154           mg             1            TAB       PO        NaT   \n",
       "\n",
       "        ELAPSED_TIME  ELAPSED_DAYS  \n",
       "34265            NaT           NaN  \n",
       "34266            NaT           NaN  \n",
       "71447            NaT           NaN  \n",
       "81872            NaT           NaN  \n",
       "81873            NaT           NaN  \n",
       "...              ...           ...  \n",
       "4005574          NaT           NaN  \n",
       "4017186          NaT           NaN  \n",
       "4017188          NaT           NaN  \n",
       "4089059          NaT           NaN  \n",
       "4129154          NaT           NaN  \n",
       "\n",
       "[164 rows x 22 columns]"
      ],
      "text/html": "<div>\n<style scoped>\n    .dataframe tbody tr th:only-of-type {\n        vertical-align: middle;\n    }\n\n    .dataframe tbody tr th {\n        vertical-align: top;\n    }\n\n    .dataframe thead th {\n        text-align: right;\n    }\n</style>\n<table border=\"1\" class=\"dataframe\">\n  <thead>\n    <tr style=\"text-align: right;\">\n      <th></th>\n      <th>ROW_ID</th>\n      <th>SUBJECT_ID</th>\n      <th>HADM_ID</th>\n      <th>ICUSTAY_ID</th>\n      <th>STARTDATE</th>\n      <th>ENDDATE</th>\n      <th>DRUG_TYPE</th>\n      <th>DRUG</th>\n      <th>DRUG_NAME_POE</th>\n      <th>DRUG_NAME_GENERIC</th>\n      <th>FORMULARY_DRUG_CD</th>\n      <th>GSN</th>\n      <th>NDC</th>\n      <th>PROD_STRENGTH</th>\n      <th>DOSE_VAL_RX</th>\n      <th>DOSE_UNIT_RX</th>\n      <th>FORM_VAL_DISP</th>\n      <th>FORM_UNIT_DISP</th>\n      <th>ROUTE</th>\n      <th>CHARTTIME</th>\n      <th>ELAPSED_TIME</th>\n      <th>ELAPSED_DAYS</th>\n    </tr>\n  </thead>\n  <tbody>\n    <tr>\n      <th>34265</th>\n      <td>1235207</td>\n      <td>458</td>\n      <td>183288</td>\n      <td>279940.0</td>\n      <td>2152-01-24</td>\n      <td>NaT</td>\n      <td>MAIN</td>\n      <td>Pantoprazole Drug</td>\n      <td>Pantoprazole</td>\n      <td>Pantoprazole</td>\n      <td>PANT40</td>\n      <td>027462</td>\n      <td>8.084199e+06</td>\n      <td>40MG TAB</td>\n      <td>40.0</td>\n      <td>mg</td>\n      <td>1</td>\n      <td>TAB</td>\n      <td>PO</td>\n      <td>2152-01-24</td>\n      <td>NaT</td>\n      <td>NaN</td>\n    </tr>\n    <tr>\n      <th>34266</th>\n      <td>1235213</td>\n      <td>458</td>\n      <td>183288</td>\n      <td>279940.0</td>\n      <td>2152-01-24</td>\n      <td>NaT</td>\n      <td>MAIN</td>\n      <td>Pantoprazole Drug</td>\n      <td>Pantoprazole</td>\n      <td>Pantoprazole</td>\n      <td>PANT40</td>\n      <td>027462</td>\n      <td>8.084199e+06</td>\n      <td>40MG TAB</td>\n      <td>40.0</td>\n      <td>mg</td>\n      <td>1</td>\n      <td>TAB</td>\n      <td>PO</td>\n      <td>2152-01-24</td>\n      <td>NaT</td>\n      <td>NaN</td>\n    </tr>\n    <tr>\n      <th>71447</th>\n      <td>1926835</td>\n      <td>979</td>\n      <td>163886</td>\n      <td>NaN</td>\n      <td>2163-02-25</td>\n      <td>NaT</td>\n      <td>BASE</td>\n      <td>D5W Drug</td>\n      <td>NaN</td>\n      <td>NaN</td>\n      <td>CLINBASE</td>\n      <td>NaN</td>\n      <td>0.000000e+00</td>\n      <td>50ML BAG</td>\n      <td>50.0</td>\n      <td>mL</td>\n      <td>1</td>\n      <td>BAG</td>\n      <td>IV</td>\n      <td>2163-02-25</td>\n      <td>NaT</td>\n      <td>NaN</td>\n    </tr>\n    <tr>\n      <th>81872</th>\n      <td>843038</td>\n      <td>1079</td>\n      <td>167362</td>\n      <td>291034.0</td>\n      <td>2156-12-22</td>\n      <td>NaT</td>\n      <td>BASE</td>\n      <td>D5W Drug</td>\n      <td>NaN</td>\n      <td>NaN</td>\n      <td>D5W250</td>\n      <td>001972</td>\n      <td>3.380017e+08</td>\n      <td>250ML BAG</td>\n      <td>250.0</td>\n      <td>mL</td>\n      <td>250</td>\n      <td>ml</td>\n      <td>IV DRIP</td>\n      <td>2156-12-22</td>\n      <td>NaT</td>\n      <td>NaN</td>\n    </tr>\n    <tr>\n      <th>81873</th>\n      <td>843040</td>\n      <td>1079</td>\n      <td>167362</td>\n      <td>291034.0</td>\n      <td>2156-12-22</td>\n      <td>NaT</td>\n      <td>BASE</td>\n      <td>D5W Drug</td>\n      <td>NaN</td>\n      <td>NaN</td>\n      <td>D5W250</td>\n      <td>001972</td>\n      <td>3.380017e+08</td>\n      <td>250ML BAG</td>\n      <td>250.0</td>\n      <td>mL</td>\n      <td>250</td>\n      <td>ml</td>\n      <td>IV DRIP</td>\n      <td>2156-12-22</td>\n      <td>NaT</td>\n      <td>NaN</td>\n    </tr>\n    <tr>\n      <th>...</th>\n      <td>...</td>\n      <td>...</td>\n      <td>...</td>\n      <td>...</td>\n      <td>...</td>\n      <td>...</td>\n      <td>...</td>\n      <td>...</td>\n      <td>...</td>\n      <td>...</td>\n      <td>...</td>\n      <td>...</td>\n      <td>...</td>\n      <td>...</td>\n      <td>...</td>\n      <td>...</td>\n      <td>...</td>\n      <td>...</td>\n      <td>...</td>\n      <td>...</td>\n      <td>...</td>\n      <td>...</td>\n    </tr>\n    <tr>\n      <th>4005574</th>\n      <td>1529407</td>\n      <td>95230</td>\n      <td>192633</td>\n      <td>210969.0</td>\n      <td>2183-11-21</td>\n      <td>NaT</td>\n      <td>MAIN</td>\n      <td>Sodium Chloride 0.9%  Flush Drug</td>\n      <td>Sodium Chloride 0.9%  Flush</td>\n      <td>Sodium Chloride 0.9%  Flush</td>\n      <td>NACLFLUSH</td>\n      <td>NaN</td>\n      <td>0.000000e+00</td>\n      <td>Syringe</td>\n      <td>3.0</td>\n      <td>mL</td>\n      <td>0.6</td>\n      <td>SYR</td>\n      <td>IV</td>\n      <td>2183-11-21</td>\n      <td>NaT</td>\n      <td>NaN</td>\n    </tr>\n    <tr>\n      <th>4017186</th>\n      <td>1529417</td>\n      <td>95230</td>\n      <td>192633</td>\n      <td>210969.0</td>\n      <td>2183-11-22</td>\n      <td>NaT</td>\n      <td>MAIN</td>\n      <td>Pantoprazole Drug</td>\n      <td>Pantoprazole</td>\n      <td>Pantoprazole</td>\n      <td>PANT40</td>\n      <td>027462</td>\n      <td>8.084199e+06</td>\n      <td>40mg Tablet</td>\n      <td>40.0</td>\n      <td>mg</td>\n      <td>1</td>\n      <td>TAB</td>\n      <td>PO</td>\n      <td>2183-11-22</td>\n      <td>NaT</td>\n      <td>NaN</td>\n    </tr>\n    <tr>\n      <th>4017188</th>\n      <td>1540002</td>\n      <td>95230</td>\n      <td>192633</td>\n      <td>NaN</td>\n      <td>2183-11-23</td>\n      <td>NaT</td>\n      <td>MAIN</td>\n      <td>Metoprolol Tartrate Drug</td>\n      <td>Metoprolol Tartrate</td>\n      <td>Metoprolol Tartrate</td>\n      <td>METO25</td>\n      <td>050631</td>\n      <td>5.107903e+10</td>\n      <td>25mg Tablet</td>\n      <td>12.5</td>\n      <td>mg</td>\n      <td>0.5</td>\n      <td>TAB</td>\n      <td>PO/NG</td>\n      <td>2183-11-23</td>\n      <td>NaT</td>\n      <td>NaN</td>\n    </tr>\n    <tr>\n      <th>4089059</th>\n      <td>4041630</td>\n      <td>97762</td>\n      <td>107220</td>\n      <td>NaN</td>\n      <td>NaT</td>\n      <td>NaT</td>\n      <td>MAIN</td>\n      <td>Pantoprazole Drug</td>\n      <td>Pantoprazole</td>\n      <td>Pantoprazole (Self Med)</td>\n      <td>PANT40SM</td>\n      <td>027462</td>\n      <td>6.838703e+10</td>\n      <td>40 mg Tablet</td>\n      <td>40.0</td>\n      <td>mg</td>\n      <td>1</td>\n      <td>TAB</td>\n      <td>PO</td>\n      <td>NaT</td>\n      <td>NaT</td>\n      <td>NaN</td>\n    </tr>\n    <tr>\n      <th>4129154</th>\n      <td>3660334</td>\n      <td>97543</td>\n      <td>136264</td>\n      <td>NaN</td>\n      <td>NaT</td>\n      <td>NaT</td>\n      <td>MAIN</td>\n      <td>Pantoprazole Drug</td>\n      <td>Pantoprazole</td>\n      <td>Pantoprazole (Self Med)</td>\n      <td>PANT40SM</td>\n      <td>027462</td>\n      <td>6.838703e+10</td>\n      <td>40 mg Tablet</td>\n      <td>40.0</td>\n      <td>mg</td>\n      <td>1</td>\n      <td>TAB</td>\n      <td>PO</td>\n      <td>NaT</td>\n      <td>NaT</td>\n      <td>NaN</td>\n    </tr>\n  </tbody>\n</table>\n<p>164 rows × 22 columns</p>\n</div>"
     },
     "metadata": {},
     "execution_count": 15
    }
   ],
   "source": [
    "presc2.loc[presc2[\"ELAPSED_DAYS\"].isnull()]"
   ]
  },
  {
   "cell_type": "code",
   "execution_count": null,
   "metadata": {},
   "outputs": [],
   "source": []
  }
 ],
 "metadata": {
  "kernelspec": {
   "display_name": "Python 3",
   "language": "python",
   "name": "python3"
  },
  "language_info": {
   "codemirror_mode": {
    "name": "ipython",
    "version": 3
   },
   "file_extension": ".py",
   "mimetype": "text/x-python",
   "name": "python",
   "nbconvert_exporter": "python",
   "pygments_lexer": "ipython3",
   "version": "3.8.6-final"
  }
 },
 "nbformat": 4,
 "nbformat_minor": 2
}