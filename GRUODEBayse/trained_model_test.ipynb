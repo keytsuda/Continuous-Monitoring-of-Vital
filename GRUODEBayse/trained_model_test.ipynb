{
 "cells": [
  {
   "cell_type": "code",
   "execution_count": 1,
   "metadata": {},
   "outputs": [],
   "source": [
    "%matplotlib inline\n",
    "import torch\n",
    "import numpy as np\n",
    "import pandas as pd\n",
    "from torch.utils.data import Dataset, DataLoader\n",
    "from sklearn.model_selection import train_test_split\n",
    "import gru_ode_bayes \n",
    "import gru_ode_bayes.data_utils as data_utils\n",
    "import time\n",
    "from tqdm import tqdm\n",
    "from sklearn.metrics import roc_auc_score\n",
    "from gru_ode_bayes import Logger\n",
    "import matplotlib.pyplot as plt\n",
    "import seaborn as sns"
   ]
  },
  {
   "cell_type": "code",
   "execution_count": 2,
   "metadata": {},
   "outputs": [],
   "source": [
    "file_path=\"E:\\\\Data\\\\Private\\\\MIMIC_III\\\\mimic_csv\\\\Clean_data\\\\\"\n",
    "csv_file_path =file_path+\"GRU_ODE_Dataset.csv\"\n",
    "covs_file_path=file_path+\"GRU_ODE_covariates.csv\"\n",
    "tags_file_path=file_path+\"GRU_ODE_death_tags.csv\""
   ]
  },
  {
   "cell_type": "code",
   "execution_count": 3,
   "metadata": {},
   "outputs": [],
   "source": [
    "import pickle\n",
    "\n",
    "def pickle_dump(obj, path):\n",
    "    with open(path, mode='wb') as f:\n",
    "        pickle.dump(obj,f)\n",
    "\n",
    "def pickle_load(path):\n",
    "    with open(path, mode='rb') as f:\n",
    "        data = pickle.load(f)\n",
    "        return data"
   ]
  },
  {
   "cell_type": "code",
   "execution_count": 4,
   "metadata": {},
   "outputs": [],
   "source": [
    "# ロード\n",
    "d=pickle_load( file_path+'sample_unique_id_dict.pickle')\n"
   ]
  },
  {
   "cell_type": "code",
   "execution_count": 5,
   "metadata": {},
   "outputs": [],
   "source": [
    "idx=np.array(list(d.keys()))"
   ]
  },
  {
   "cell_type": "code",
   "execution_count": 6,
   "metadata": {},
   "outputs": [],
   "source": [
    "dir_path=r\"E:/Data/Private/MIMIC_III/mimic_csv/Clean_data/\"\n",
    "test_idx = np.load(dir_path+r\"fold_idx_0/test_idx.npy\")"
   ]
  },
  {
   "cell_type": "code",
   "execution_count": 7,
   "metadata": {},
   "outputs": [],
   "source": [
    "# data_train = data_utils.ODE_Dataset(csv_file=csv_file_path,label_file=tags_file_path, cov_file=covs_file_path, idx=idx)"
   ]
  },
  {
   "cell_type": "code",
   "execution_count": 8,
   "metadata": {},
   "outputs": [],
   "source": [
    "data_test   = data_utils.ODE_Dataset(csv_file=csv_file_path,label_file=tags_file_path,\n",
    "                                    cov_file= covs_file_path, idx=test_idx, validation = False,\n",
    "                                    val_options =None)"
   ]
  },
  {
   "cell_type": "code",
   "execution_count": 9,
   "metadata": {},
   "outputs": [],
   "source": [
    "dl   = DataLoader(dataset=data_test, collate_fn=data_utils.custom_collate_fn, shuffle=True, batch_size=1,num_workers=4)"
   ]
  },
  {
   "cell_type": "code",
   "execution_count": 10,
   "metadata": {},
   "outputs": [],
   "source": [
    "#Model parameters.\n",
    "params_dict=dict()\n",
    "params_dict[\"hidden_size\"] = 100\n",
    "params_dict[\"p_hidden\"] = 25\n",
    "params_dict[\"prep_hidden\"] = 10\n",
    "params_dict[\"logvar\"] = True\n",
    "params_dict[\"mixing\"] = 1e-4 #Weighting between KL loss and MSE loss.\n",
    "params_dict[\"delta_t\"]=0.1\n",
    "params_dict[\"T\"]= 100  #100\n",
    "# lambda>0のときClassificationを行う\n",
    "params_dict[\"lambda\"] = 1 #Weighting between classification and MSE loss.\n",
    "# lambda==0でないとき、validationオプションはなしにされている(validation==False)\n",
    "# validationがないときは、summaryのcorrelation,validation_mse,loglik_lossは計算されず0で記録される\n",
    "\n",
    "params_dict[\"classification_hidden\"] = 2\n",
    "params_dict[\"cov_hidden\"] = 50\n",
    "params_dict[\"weight_decay\"] = 0.0001\n",
    "params_dict[\"dropout_rate\"] = 0\n",
    "params_dict[\"lr\"]=0.001\n",
    "params_dict[\"full_gru_ode\"] = True\n",
    "params_dict[\"no_cov\"] = False # covファイルが存在するときFalse\n",
    "params_dict[\"impute\"] = False\n",
    "\n",
    "\n",
    "params_dict[\"input_size\"]=data_test.variable_num\n",
    "params_dict[\"cov_size\"] = data_test.cov_dim"
   ]
  },
  {
   "cell_type": "code",
   "execution_count": 11,
   "metadata": {},
   "outputs": [
    {
     "data": {
      "text/plain": [
       "NNFOwithBayesianJumps(\n",
       "  (p_model): Sequential(\n",
       "    (0): Linear(in_features=100, out_features=25, bias=True)\n",
       "    (1): ReLU()\n",
       "    (2): Dropout(p=0, inplace=False)\n",
       "    (3): Linear(in_features=25, out_features=192, bias=True)\n",
       "  )\n",
       "  (classify_latent): Sequential(\n",
       "    (0): Linear(in_features=100, out_features=10, bias=True)\n",
       "    (1): ReLU()\n",
       "    (2): BatchNorm1d(10, eps=1e-05, momentum=0.1, affine=True, track_running_stats=True)\n",
       "  )\n",
       "  (classification_model): Sequential(\n",
       "    (0): Sequential(\n",
       "      (0): Linear(in_features=100, out_features=10, bias=True)\n",
       "      (1): ReLU()\n",
       "      (2): BatchNorm1d(10, eps=1e-05, momentum=0.1, affine=True, track_running_stats=True)\n",
       "    )\n",
       "    (1): Linear(in_features=10, out_features=2, bias=True)\n",
       "    (2): ReLU()\n",
       "    (3): BatchNorm1d(2, eps=1e-05, momentum=0.1, affine=True, track_running_stats=True)\n",
       "    (4): Linear(in_features=2, out_features=1, bias=True)\n",
       "  )\n",
       "  (gru_c): FullGRUODECell_Autonomous(\n",
       "    (lin_hh): Linear(in_features=100, out_features=100, bias=False)\n",
       "    (lin_hz): Linear(in_features=100, out_features=100, bias=False)\n",
       "    (lin_hr): Linear(in_features=100, out_features=100, bias=False)\n",
       "  )\n",
       "  (gru_obs): GRUObservationCellLogvar(\n",
       "    (gru_d): GRUCell(960, 100)\n",
       "    (gru_debug): GRUCell(960, 100)\n",
       "  )\n",
       "  (covariates_map): Sequential(\n",
       "    (0): Linear(in_features=530, out_features=50, bias=True)\n",
       "    (1): ReLU()\n",
       "    (2): Dropout(p=0, inplace=False)\n",
       "    (3): Linear(in_features=50, out_features=100, bias=True)\n",
       "    (4): Tanh()\n",
       "  )\n",
       ")"
      ]
     },
     "execution_count": 11,
     "metadata": {},
     "output_type": "execute_result"
    }
   ],
   "source": [
    "# model instance 生成\n",
    "device = torch.device(\"cuda\")\n",
    "model = gru_ode_bayes.NNFOwithBayesianJumps(input_size = params_dict[\"input_size\"], hidden_size = params_dict[\"hidden_size\"],\n",
    "                                            p_hidden = params_dict[\"p_hidden\"], prep_hidden = params_dict[\"prep_hidden\"],\n",
    "                                            logvar = params_dict[\"logvar\"], mixing = params_dict[\"mixing\"],\n",
    "                                            classification_hidden=params_dict[\"classification_hidden\"],\n",
    "                                            cov_size = params_dict[\"cov_size\"], cov_hidden = params_dict[\"cov_hidden\"],\n",
    "                                            dropout_rate = params_dict[\"dropout_rate\"],full_gru_ode= params_dict[\"full_gru_ode\"], impute = params_dict[\"impute\"])\n",
    "model.to(device)\n",
    "model.eval()"
   ]
  },
  {
   "cell_type": "code",
   "execution_count": 12,
   "metadata": {},
   "outputs": [
    {
     "data": {
      "text/plain": [
       "<All keys matched successfully>"
      ]
     },
     "execution_count": 12,
     "metadata": {},
     "output_type": "execute_result"
    }
   ],
   "source": [
    "# model parameter load\n",
    "model_path = r'E:\\Data\\Private\\MIMIC_III\\mimic_csv\\Clean_data\\trained_models\\MIMIC_2_bins_20201110_150903_MAX.pt'\n",
    "model.load_state_dict(torch.load(model_path))"
   ]
  },
  {
   "cell_type": "code",
   "execution_count": 89,
   "metadata": {},
   "outputs": [],
   "source": [
    "tmp = dl.__iter__()\n",
    "b = tmp.next() "
   ]
  },
  {
   "cell_type": "code",
   "execution_count": 411,
   "metadata": {},
   "outputs": [],
   "source": [
    "# var=64\n",
    "# for i in range(100):\n",
    "#     tmp = dl.__iter__()\n",
    "#     b = tmp.next() \n",
    "#     if b[\"X\"][:,var].sum()!=0:\n",
    "#          break"
   ]
  },
  {
   "cell_type": "code",
   "execution_count": 90,
   "metadata": {},
   "outputs": [],
   "source": [
    "var=0\n",
    "for i in range(100):\n",
    "    tmp = dl.__iter__()\n",
    "    b = tmp.next() \n",
    "    b_new=copy.deepcopy(b[\"X\"])\n",
    "    temp=np.array(b_new[:,var][:])\n",
    "    if np.average(temp[np.where(temp!=0)])>0.5:\n",
    "         break"
   ]
  },
  {
   "cell_type": "code",
   "execution_count": 97,
   "metadata": {},
   "outputs": [
    {
     "name": "stdout",
     "output_type": "stream",
     "text": [
      "tensor([0.0000, 1.9379, 0.0000, 0.0000, 0.0000, 0.0000, 0.0000, 0.9270, 0.0000,\n",
      "        0.0000, 0.9270, 0.0000, 1.6852, 0.0000, 0.9270, 0.0000, 0.0000, 0.0000,\n",
      "        0.0000])\n"
     ]
    },
    {
     "data": {
      "text/plain": [
       "tensor([1.2808, 1.2808, 1.2808, 1.2808, 1.2808, 1.2808, 1.2808, 1.2808, 1.2808,\n",
       "        1.2808, 1.2808, 1.2808, 1.2808, 1.2808, 1.2808, 1.2808, 1.2808, 1.2808,\n",
       "        1.2808])"
      ]
     },
     "execution_count": 97,
     "metadata": {},
     "output_type": "execute_result"
    }
   ],
   "source": [
    "import copy\n",
    "var=0\n",
    "b_new=copy.deepcopy(b[\"X\"])\n",
    "print(b_new[:,var])\n",
    "temp=np.array(b_new[:,var][:])\n",
    "b_new[:,var][:]=torch.tensor(np.average(temp[np.where(temp!=0)]))\n",
    "b_new[:,var]"
   ]
  },
  {
   "cell_type": "code",
   "execution_count": 98,
   "metadata": {},
   "outputs": [],
   "source": [
    "# for i, b in enumerate(dl):\n",
    "times    = b[\"times\"]\n",
    "time_ptr = b[\"time_ptr\"]\n",
    "X        = b[\"X\"].to(device)\n",
    "X2 =b_new.to(device)\n",
    "M        = b[\"M\"].to(device)\n",
    "obs_idx  = b[\"obs_idx\"]\n",
    "cov      = b[\"cov\"].to(device)\n",
    "labels   = b[\"y\"].to(device)\n",
    "batch_size = labels.size(0)\n",
    "# if b[\"X_val\"] is not None:\n",
    "#     X_val     = b[\"X_val\"].to(device)\n",
    "#     M_val     = b[\"M_val\"].to(device)\n",
    "#     times_val = b[\"times_val\"]\n",
    "#     times_idx = b[\"index_val\"]\n",
    "h0 = 0 #torch.zeros(labels.shape[0], params_dict[\"hidden_size\"]).to(device)"
   ]
  },
  {
   "cell_type": "code",
   "execution_count": 99,
   "metadata": {},
   "outputs": [],
   "source": [
    "\n",
    "hT, loss, class_pred, t_vec, p_vec, h_vec, _, _ ,_,_ = model(times, time_ptr, X, M, obs_idx, delta_t=params_dict[\"delta_t\"], T=params_dict[\"T\"], cov=cov, return_path=True)"
   ]
  },
  {
   "cell_type": "code",
   "execution_count": 100,
   "metadata": {},
   "outputs": [],
   "source": [
    "\n",
    "hT, loss, class_pred, t_vec, p_vec_2, h_vec_2, _, _,_,_  = model(times, time_ptr, X2, M, obs_idx, delta_t=params_dict[\"delta_t\"], T=params_dict[\"T\"], cov=cov, return_path=True)"
   ]
  },
  {
   "cell_type": "code",
   "execution_count": 22,
   "metadata": {},
   "outputs": [],
   "source": [
    "comp=pd.read_csv( \"E:\\Data\\Private\\MIMIC_III\\mimic_csv\\Clean_data\\complete_tensor_train1.csv\")"
   ]
  },
  {
   "cell_type": "code",
   "execution_count": 23,
   "metadata": {},
   "outputs": [],
   "source": [
    "a=comp[(comp[\"LABEL_CODE\"].isin([0,17,46,64]))].drop_duplicates(subset='LABEL_CODE').reset_index()"
   ]
  },
  {
   "cell_type": "code",
   "execution_count": 24,
   "metadata": {},
   "outputs": [
    {
     "data": {
      "text/html": [
       "<div>\n",
       "<style scoped>\n",
       "    .dataframe tbody tr th:only-of-type {\n",
       "        vertical-align: middle;\n",
       "    }\n",
       "\n",
       "    .dataframe tbody tr th {\n",
       "        vertical-align: top;\n",
       "    }\n",
       "\n",
       "    .dataframe thead th {\n",
       "        text-align: right;\n",
       "    }\n",
       "</style>\n",
       "<table border=\"1\" class=\"dataframe\">\n",
       "  <thead>\n",
       "    <tr style=\"text-align: right;\">\n",
       "      <th></th>\n",
       "      <th>index</th>\n",
       "      <th>Unnamed: 0</th>\n",
       "      <th>UNIQUE_ID</th>\n",
       "      <th>LABEL_CODE</th>\n",
       "      <th>TIME_STAMP</th>\n",
       "      <th>VALUENUM</th>\n",
       "      <th>MEAN</th>\n",
       "      <th>STD</th>\n",
       "      <th>VALUENORM</th>\n",
       "    </tr>\n",
       "  </thead>\n",
       "  <tbody>\n",
       "    <tr>\n",
       "      <th>0</th>\n",
       "      <td>16</td>\n",
       "      <td>1647744</td>\n",
       "      <td>10550</td>\n",
       "      <td>46</td>\n",
       "      <td>86.0</td>\n",
       "      <td>0.937416</td>\n",
       "      <td>2.892023</td>\n",
       "      <td>4.618441</td>\n",
       "      <td>-0.423218</td>\n",
       "    </tr>\n",
       "    <tr>\n",
       "      <th>1</th>\n",
       "      <td>18</td>\n",
       "      <td>2030274</td>\n",
       "      <td>4058</td>\n",
       "      <td>0</td>\n",
       "      <td>8.0</td>\n",
       "      <td>13.000000</td>\n",
       "      <td>14.331770</td>\n",
       "      <td>3.957040</td>\n",
       "      <td>-0.336557</td>\n",
       "    </tr>\n",
       "    <tr>\n",
       "      <th>2</th>\n",
       "      <td>98</td>\n",
       "      <td>10628</td>\n",
       "      <td>11821</td>\n",
       "      <td>17</td>\n",
       "      <td>48.0</td>\n",
       "      <td>11.500000</td>\n",
       "      <td>11.025034</td>\n",
       "      <td>2.146939</td>\n",
       "      <td>0.221229</td>\n",
       "    </tr>\n",
       "    <tr>\n",
       "      <th>3</th>\n",
       "      <td>210</td>\n",
       "      <td>48672</td>\n",
       "      <td>12702</td>\n",
       "      <td>64</td>\n",
       "      <td>48.0</td>\n",
       "      <td>20.000000</td>\n",
       "      <td>32.109088</td>\n",
       "      <td>35.854704</td>\n",
       "      <td>-0.337727</td>\n",
       "    </tr>\n",
       "  </tbody>\n",
       "</table>\n",
       "</div>"
      ],
      "text/plain": [
       "   index  Unnamed: 0  UNIQUE_ID  LABEL_CODE  TIME_STAMP   VALUENUM       MEAN  \\\n",
       "0     16     1647744      10550          46        86.0   0.937416   2.892023   \n",
       "1     18     2030274       4058           0         8.0  13.000000  14.331770   \n",
       "2     98       10628      11821          17        48.0  11.500000  11.025034   \n",
       "3    210       48672      12702          64        48.0  20.000000  32.109088   \n",
       "\n",
       "         STD  VALUENORM  \n",
       "0   4.618441  -0.423218  \n",
       "1   3.957040  -0.336557  \n",
       "2   2.146939   0.221229  \n",
       "3  35.854704  -0.337727  "
      ]
     },
     "execution_count": 24,
     "metadata": {},
     "output_type": "execute_result"
    }
   ],
   "source": [
    "a"
   ]
  },
  {
   "cell_type": "code",
   "execution_count": 101,
   "metadata": {},
   "outputs": [
    {
     "data": {
      "image/png": "[encoded data removed]",
      "text/plain": [
       "<Figure size 432x288 with 1 Axes>"
      ]
     },
     "metadata": {},
     "output_type": "display_data"
    }
   ],
   "source": [
    "%matplotlib inline\n",
    "sns.set()\n",
    "h=h_vec.cpu().detach().numpy()\n",
    "p=p_vec.cpu().detach().numpy()\n",
    "obs=np.array(b[\"X\"])\n",
    "obs_dash=obs[:,var]*float(a[a[\"LABEL_CODE\"]==var][\"STD\"])+ float(a[a[\"LABEL_CODE\"]==var][\"MEAN\"])\n",
    "obs_dash=np.where(obs_dash== float(a[a[\"LABEL_CODE\"]==var][\"MEAN\"]),None,obs_dash)\n",
    "mu=p[0:1000,0,var]*float(a[a[\"LABEL_CODE\"]==var][\"STD\"]) + float(a[a[\"LABEL_CODE\"]==var][\"MEAN\"])\n",
    "std=np.exp(p[1000,0,var+96]*0.5)*float(a[a[\"LABEL_CODE\"]==var][\"STD\"])\n",
    "plt.plot(t_vec[0:1000]/2,mu,label=\"Predict\",color=\"blue\")\n",
    "plt.fill_between(t_vec[0:1000]/2,mu+std,mu-std,facecolor=\"c\",alpha=0.5)\n",
    "plt.scatter(b[\"times\"]/2,obs_dash,label=\"Observation\",color=\"tomato\")\n",
    "plt.legend(bbox_to_anchor=(1.05, 1), loc='upper left', borderaxespad=0, fontsize=10)\n",
    "# plt.show()\n",
    "plt.tight_layout()\n",
    "plt.savefig(f\"Obs_{var}_with_std.png\")"
   ]
  },
  {
   "cell_type": "code",
   "execution_count": 102,
   "metadata": {},
   "outputs": [
    {
     "data": {
      "image/png": "[encoded data removed]",
      "text/plain": [
       "<Figure size 432x288 with 1 Axes>"
      ]
     },
     "metadata": {
      "needs_background": "light"
     },
     "output_type": "display_data"
    }
   ],
   "source": [
    "%matplotlib inline\n",
    "h=h_vec_2.cpu().detach().numpy()\n",
    "p=p_vec_2.cpu().detach().numpy()\n",
    "obs=np.array(b[\"X\"])\n",
    "mu=p[0:1000,0,var]*float(a[a[\"LABEL_CODE\"]==var][\"STD\"]) + float(a[a[\"LABEL_CODE\"]==var][\"MEAN\"])\n",
    "std=np.exp(p[1000,0,var+96]*0.5)*float(a[a[\"LABEL_CODE\"]==var][\"STD\"])\n",
    "plt.plot(t_vec[0:1000]/2,mu,label=\"Predict\",color=\"green\")\n",
    "plt.fill_between(t_vec[0:1000]/2,mu+std,mu-std,facecolor=[0.0, 1.0, 0.0],alpha=0.5)\n",
    "plt.scatter(b[\"times\"]/2,obs_dash,label=\"Observation\",color=\"tomato\")\n",
    "plt.legend(bbox_to_anchor=(1.05, 1), loc='upper left', borderaxespad=0, fontsize=12)\n",
    "# plt.show()\n",
    "plt.xlim(0,49)\n",
    "plt.tight_layout()\n",
    "plt.savefig(f\"NoneObs_{var}_with_std.png\")"
   ]
  },
  {
   "cell_type": "code",
   "execution_count": 286,
   "metadata": {},
   "outputs": [
    {
     "data": {
      "text/plain": [
       "1    1.705766\n",
       "Name: STD, dtype: float64"
      ]
     },
     "execution_count": 286,
     "metadata": {},
     "output_type": "execute_result"
    }
   ],
   "source": [
    "spec=p*float(a[a[\"LABEL_CODE\"]==var][\"STD\"]) + float(a[a[\"LABEL_CODE\"]==var][\"MEAN\"])\n",
    "np.exp(p[1000,0,96]*0.5)\n",
    "np.exp(p[1000,0,96]*0.5)*abs(a[a[\"LABEL_CODE\"]==var][\"STD\"])"
   ]
  },
  {
   "cell_type": "code",
   "execution_count": 289,
   "metadata": {},
   "outputs": [
    {
     "data": {
      "image/png": "[encoded data removed]",
      "text/plain": [
       "<Figure size 432x288 with 1 Axes>"
      ]
     },
     "metadata": {
      "needs_background": "light"
     },
     "output_type": "display_data"
    }
   ],
   "source": [
    "from scipy.stats import norm\n",
    "x=np.arange(6,20,0.1)\n",
    "loc=spec[1000,0,var]\n",
    "scale=np.exp(p[1000,0,var+96]*0.5)*abs(a[a[\"LABEL_CODE\"]==var][\"STD\"])\n",
    "plt.plot(x,norm.pdf(x, loc, scale))\n",
    "plt.savefig(\"Anion_pred_distrib.png\")"
   ]
  },
  {
   "cell_type": "code",
   "execution_count": null,
   "metadata": {},
   "outputs": [],
   "source": []
  },
  {
   "cell_type": "code",
   "execution_count": 84,
   "metadata": {},
   "outputs": [],
   "source": [
    "import seaborn as sns"
   ]
  },
  {
   "cell_type": "code",
   "execution_count": 93,
   "metadata": {},
   "outputs": [
    {
     "data": {
      "text/plain": [
       "array([0.9343381 , 0.08806844, 0.15296291, ..., 0.60258454, 0.6026775 ,\n",
       "       0.6027706 ], dtype=float32)"
      ]
     },
     "execution_count": 93,
     "metadata": {},
     "output_type": "execute_result"
    }
   ],
   "source": [
    "np.exp(p[:,0,97]*0.5)"
   ]
  },
  {
   "cell_type": "code",
   "execution_count": 94,
   "metadata": {},
   "outputs": [
    {
     "data": {
      "text/plain": [
       "array([0.2750019 , 0.75697225, 0.707375  , ..., 0.19837755, 0.19821724,\n",
       "       0.19806045], dtype=float32)"
      ]
     },
     "execution_count": 94,
     "metadata": {},
     "output_type": "execute_result"
    }
   ],
   "source": [
    "p[:,0,0]"
   ]
  },
  {
   "cell_type": "code",
   "execution_count": 97,
   "metadata": {},
   "outputs": [
    {
     "data": {
      "text/plain": [
       "<AxesSubplot:>"
      ]
     },
     "execution_count": 97,
     "metadata": {},
     "output_type": "execute_result"
    },
    {
     "data": {
      "image/png": "[encoded data removed]",
      "text/plain": [
       "<Figure size 432x288 with 1 Axes>"
      ]
     },
     "metadata": {
      "needs_background": "light"
     },
     "output_type": "display_data"
    }
   ],
   "source": [
    "sns.lineplot(x=t_vec,y=p[:,0,0],ci='sd')\n",
    "# sns.lineplot(x=b[\"times\"],y=np.array(b[\"X\"])[:,0])\n"
   ]
  },
  {
   "cell_type": "code",
   "execution_count": 117,
   "metadata": {},
   "outputs": [
    {
     "data": {
      "text/plain": [
       "array([2, 2, 1, 2, 2, 3, 1, 1, 2, 2, 0, 0, 0, 2, 1, 1, 2, 3, 1, 2, 2, 2,\n",
       "       1, 1, 2, 2, 2, 2, 6, 1, 1, 1, 1, 1, 1, 6, 0, 0, 0, 2, 0, 0, 0, 0,\n",
       "       0, 0, 0, 0, 0, 0, 0, 0, 0, 0, 0, 0, 0, 0, 0, 0, 0, 0, 0, 0, 0, 1,\n",
       "       1, 0, 0, 0, 0, 0, 0, 0, 0, 0, 0, 0, 0, 0, 0, 0, 0, 0, 1, 0, 0, 0,\n",
       "       0, 0, 0, 0, 0, 0, 0, 0])"
      ]
     },
     "execution_count": 117,
     "metadata": {},
     "output_type": "execute_result"
    }
   ],
   "source": [
    "np.array(b[\"X\"]!=0).sum(axis=0)"
   ]
  },
  {
   "cell_type": "code",
   "execution_count": null,
   "metadata": {},
   "outputs": [],
   "source": []
  }
 ],
 "metadata": {
  "kernelspec": {
   "display_name": "Python 3",
   "language": "python",
   "name": "python3"
  },
  "language_info": {
   "codemirror_mode": {
    "name": "ipython",
    "version": 3
   },
   "file_extension": ".py",
   "mimetype": "text/x-python",
   "name": "python",
   "nbconvert_exporter": "python",
   "pygments_lexer": "ipython3",
   "version": "3.7.9"
  }
 },
 "nbformat": 4,
 "nbformat_minor": 4
}
