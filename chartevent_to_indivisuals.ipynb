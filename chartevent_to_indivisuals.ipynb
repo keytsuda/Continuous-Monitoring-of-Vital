{
 "cells": [
  {
   "cell_type": "code",
   "execution_count": 8,
   "metadata": {},
   "outputs": [],
   "source": [
    "import pandas as pd\n",
    "import matplotlib.pyplot as plt\n",
    "\n",
    "from datetime import datetime\n",
    "from datetime import timedelta\n",
    "from tqdm import tqdm\n",
    "import numpy as np\n",
    "import os\n",
    "\n",
    "file_path=\"E:/Data/Private/MIMIC_III/mimic_csv/\""
   ]
  },
  {
   "cell_type": "code",
   "execution_count": 2,
   "metadata": {},
   "outputs": [],
   "source": [
    "ditem=pd.read_csv(file_path+\"D_ITEMS.csv\")\n",
    "ditem=ditem[ditem[\"ITEMID\"]>220000]"
   ]
  },
  {
   "cell_type": "code",
   "execution_count": 3,
   "metadata": {},
   "outputs": [
    {
     "data": {
      "text/html": [
       "<div>\n",
       "<style scoped>\n",
       "    .dataframe tbody tr th:only-of-type {\n",
       "        vertical-align: middle;\n",
       "    }\n",
       "\n",
       "    .dataframe tbody tr th {\n",
       "        vertical-align: top;\n",
       "    }\n",
       "\n",
       "    .dataframe thead th {\n",
       "        text-align: right;\n",
       "    }\n",
       "</style>\n",
       "<table border=\"1\" class=\"dataframe\">\n",
       "  <thead>\n",
       "    <tr style=\"text-align: right;\">\n",
       "      <th></th>\n",
       "      <th>ROW_ID</th>\n",
       "      <th>SUBJECT_ID</th>\n",
       "      <th>HADM_ID</th>\n",
       "      <th>ADMITTIME</th>\n",
       "      <th>DISCHTIME</th>\n",
       "      <th>DEATHTIME</th>\n",
       "      <th>ADMISSION_TYPE</th>\n",
       "      <th>ADMISSION_LOCATION</th>\n",
       "      <th>DISCHARGE_LOCATION</th>\n",
       "      <th>INSURANCE</th>\n",
       "      <th>LANGUAGE</th>\n",
       "      <th>RELIGION</th>\n",
       "      <th>MARITAL_STATUS</th>\n",
       "      <th>ETHNICITY</th>\n",
       "      <th>EDREGTIME</th>\n",
       "      <th>EDOUTTIME</th>\n",
       "      <th>DIAGNOSIS</th>\n",
       "      <th>HOSPITAL_EXPIRE_FLAG</th>\n",
       "      <th>HAS_CHARTEVENTS_DATA</th>\n",
       "    </tr>\n",
       "  </thead>\n",
       "  <tbody>\n",
       "    <tr>\n",
       "      <th>0</th>\n",
       "      <td>21</td>\n",
       "      <td>22</td>\n",
       "      <td>165315</td>\n",
       "      <td>2196-04-09 12:26:00</td>\n",
       "      <td>2196-04-10 15:54:00</td>\n",
       "      <td>NaN</td>\n",
       "      <td>EMERGENCY</td>\n",
       "      <td>EMERGENCY ROOM ADMIT</td>\n",
       "      <td>DISC-TRAN CANCER/CHLDRN H</td>\n",
       "      <td>Private</td>\n",
       "      <td>NaN</td>\n",
       "      <td>UNOBTAINABLE</td>\n",
       "      <td>MARRIED</td>\n",
       "      <td>WHITE</td>\n",
       "      <td>2196-04-09 10:06:00</td>\n",
       "      <td>2196-04-09 13:24:00</td>\n",
       "      <td>BENZODIAZEPINE OVERDOSE</td>\n",
       "      <td>0</td>\n",
       "      <td>1</td>\n",
       "    </tr>\n",
       "    <tr>\n",
       "      <th>1</th>\n",
       "      <td>22</td>\n",
       "      <td>23</td>\n",
       "      <td>152223</td>\n",
       "      <td>2153-09-03 07:15:00</td>\n",
       "      <td>2153-09-08 19:10:00</td>\n",
       "      <td>NaN</td>\n",
       "      <td>ELECTIVE</td>\n",
       "      <td>PHYS REFERRAL/NORMAL DELI</td>\n",
       "      <td>HOME HEALTH CARE</td>\n",
       "      <td>Medicare</td>\n",
       "      <td>NaN</td>\n",
       "      <td>CATHOLIC</td>\n",
       "      <td>MARRIED</td>\n",
       "      <td>WHITE</td>\n",
       "      <td>NaN</td>\n",
       "      <td>NaN</td>\n",
       "      <td>CORONARY ARTERY DISEASE\\CORONARY ARTERY BYPASS...</td>\n",
       "      <td>0</td>\n",
       "      <td>1</td>\n",
       "    </tr>\n",
       "    <tr>\n",
       "      <th>2</th>\n",
       "      <td>23</td>\n",
       "      <td>23</td>\n",
       "      <td>124321</td>\n",
       "      <td>2157-10-18 19:34:00</td>\n",
       "      <td>2157-10-25 14:00:00</td>\n",
       "      <td>NaN</td>\n",
       "      <td>EMERGENCY</td>\n",
       "      <td>TRANSFER FROM HOSP/EXTRAM</td>\n",
       "      <td>HOME HEALTH CARE</td>\n",
       "      <td>Medicare</td>\n",
       "      <td>ENGL</td>\n",
       "      <td>CATHOLIC</td>\n",
       "      <td>MARRIED</td>\n",
       "      <td>WHITE</td>\n",
       "      <td>NaN</td>\n",
       "      <td>NaN</td>\n",
       "      <td>BRAIN MASS</td>\n",
       "      <td>0</td>\n",
       "      <td>1</td>\n",
       "    </tr>\n",
       "  </tbody>\n",
       "</table>\n",
       "</div>"
      ],
      "text/plain": [
       "   ROW_ID  SUBJECT_ID  HADM_ID            ADMITTIME            DISCHTIME  \\\n",
       "0      21          22   165315  2196-04-09 12:26:00  2196-04-10 15:54:00   \n",
       "1      22          23   152223  2153-09-03 07:15:00  2153-09-08 19:10:00   \n",
       "2      23          23   124321  2157-10-18 19:34:00  2157-10-25 14:00:00   \n",
       "\n",
       "  DEATHTIME ADMISSION_TYPE         ADMISSION_LOCATION  \\\n",
       "0       NaN      EMERGENCY       EMERGENCY ROOM ADMIT   \n",
       "1       NaN       ELECTIVE  PHYS REFERRAL/NORMAL DELI   \n",
       "2       NaN      EMERGENCY  TRANSFER FROM HOSP/EXTRAM   \n",
       "\n",
       "          DISCHARGE_LOCATION INSURANCE LANGUAGE      RELIGION MARITAL_STATUS  \\\n",
       "0  DISC-TRAN CANCER/CHLDRN H   Private      NaN  UNOBTAINABLE        MARRIED   \n",
       "1           HOME HEALTH CARE  Medicare      NaN      CATHOLIC        MARRIED   \n",
       "2           HOME HEALTH CARE  Medicare     ENGL      CATHOLIC        MARRIED   \n",
       "\n",
       "  ETHNICITY            EDREGTIME            EDOUTTIME  \\\n",
       "0     WHITE  2196-04-09 10:06:00  2196-04-09 13:24:00   \n",
       "1     WHITE                  NaN                  NaN   \n",
       "2     WHITE                  NaN                  NaN   \n",
       "\n",
       "                                           DIAGNOSIS  HOSPITAL_EXPIRE_FLAG  \\\n",
       "0                            BENZODIAZEPINE OVERDOSE                     0   \n",
       "1  CORONARY ARTERY DISEASE\\CORONARY ARTERY BYPASS...                     0   \n",
       "2                                         BRAIN MASS                     0   \n",
       "\n",
       "   HAS_CHARTEVENTS_DATA  \n",
       "0                     1  \n",
       "1                     1  \n",
       "2                     1  "
      ]
     },
     "execution_count": 3,
     "metadata": {},
     "output_type": "execute_result"
    }
   ],
   "source": [
    "adm=pd.read_csv(file_path+\"ADMISSIONS.csv\")\n",
    "adm.head(3)"
   ]
  },
  {
   "cell_type": "code",
   "execution_count": 19,
   "metadata": {},
   "outputs": [],
   "source": [
    "cart_file_name=file_path+\"CHARTEVENTS.csv\"\n",
    "chart_reader=pd.read_csv(cart_file_name, chunksize=100000)"
   ]
  },
  {
   "cell_type": "code",
   "execution_count": 5,
   "metadata": {},
   "outputs": [],
   "source": [
    "chart_df=chart_reader.get_chunk()"
   ]
  },
  {
   "cell_type": "code",
   "execution_count": 6,
   "metadata": {},
   "outputs": [],
   "source": [
    "# from tqdm import tqdm\n",
    "# shape_list=[]\n",
    "# for r in tqdm(chart_reader):\n",
    "#     shape_list.append(r.shape)"
   ]
  },
  {
   "cell_type": "code",
   "execution_count": 39,
   "metadata": {},
   "outputs": [
    {
     "data": {
      "text/plain": [
       "33072"
      ]
     },
     "execution_count": 39,
     "metadata": {},
     "output_type": "execute_result"
    }
   ],
   "source": [
    "# len(shape_list)"
   ]
  },
  {
   "cell_type": "markdown",
   "metadata": {},
   "source": [
    "\"CHARTEVENTS.csv\"はおよそ33072*10000行=30億行！？"
   ]
  },
  {
   "cell_type": "code",
   "execution_count": 42,
   "metadata": {},
   "outputs": [
    {
     "data": {
      "text/plain": [
       "array([165660, 144319, 124321], dtype=int64)"
      ]
     },
     "execution_count": 42,
     "metadata": {},
     "output_type": "execute_result"
    }
   ],
   "source": [
    "chart_df[\"HADM_ID\"].unique()"
   ]
  },
  {
   "cell_type": "code",
   "execution_count": null,
   "metadata": {},
   "outputs": [],
   "source": [
    "os.path"
   ]
  },
  {
   "cell_type": "code",
   "execution_count": null,
   "metadata": {},
   "outputs": [],
   "source": [
    "chart_dir=file_path+\"chart/\"\n",
    "if not os.path.exists(chart_dir):\n",
    "    os.mkdir(chart_dir)\n",
    "    print(f\"make dir...  {chart_dir}\")\n",
    "for r in tqdm(chart_reader):\n",
    "    hadms=r[\"HADM_ID\"].unique()\n",
    "    for hadm in hadms:\n",
    "        hadm_dir=chart_dir+f\"{hadm}/\"\n",
    "        if not os.path.exists(hadm_dir):\n",
    "            os.mkdir(hadm_dir)\n",
    "            print(f\"make dir...  {hadm_dir}\")\n",
    "        hadm_df=r[r[\"HADM_ID\"]==hadm]\n",
    "        if os.listdir(hadm_dir):\n",
    "            exist=pd.read_csv(hadm_dir+f\"0.csv\")\n",
    "            hadm_df=pd.concat([exist,hadm_df])\n",
    "            hadm_df.to_csv(hadm_dir+f\"0.csv\",index=False)\n",
    "        else:\n",
    "            hadm_df.to_csv(hadm_dir+f\"0.csv\",index=False)"
   ]
  },
  {
   "cell_type": "code",
   "execution_count": null,
   "metadata": {},
   "outputs": [],
   "source": []
  },
  {
   "cell_type": "code",
   "execution_count": 27,
   "metadata": {},
   "outputs": [
    {
     "name": "stderr",
     "output_type": "stream",
     "text": [
      "0it [00:00, ?it/s]\n"
     ]
    }
   ],
   "source": [
    "ids_list=[]\n",
    "for r in tqdm(chart_reader):\n",
    "    ids=r[[\"HADM_ID\",\"ICUSTAY_ID\"]].drop_duplicates()\n",
    "    break"
   ]
  },
  {
   "cell_type": "code",
   "execution_count": 53,
   "metadata": {},
   "outputs": [
    {
     "ename": "SyntaxError",
     "evalue": "invalid syntax (<ipython-input-53-e8b231e8e504>, line 2)",
     "output_type": "error",
     "traceback": [
      "\u001b[1;36m  File \u001b[1;32m\"<ipython-input-53-e8b231e8e504>\"\u001b[1;36m, line \u001b[1;32m2\u001b[0m\n\u001b[1;33m    ids_list.append(for rlr in r[[\"HADM_ID\",\"ICUSTAY_ID\"]].drop_duplicates().values.tolist())\u001b[0m\n\u001b[1;37m                      ^\u001b[0m\n\u001b[1;31mSyntaxError\u001b[0m\u001b[1;31m:\u001b[0m invalid syntax\n"
     ]
    }
   ],
   "source": [
    "ids_list=[]\n",
    "ids_list.append(for rlr in r[[\"HADM_ID\",\"ICUSTAY_ID\"]].drop_duplicates().values.tolist())"
   ]
  },
  {
   "cell_type": "code",
   "execution_count": 48,
   "metadata": {},
   "outputs": [],
   "source": [
    "ids_list.append([0,0])"
   ]
  },
  {
   "cell_type": "code",
   "execution_count": 52,
   "metadata": {},
   "outputs": [
    {
     "data": {
      "text/plain": [
       "[[179324, 204842],\n",
       " [161362, 296675],\n",
       " [162179, 212983],\n",
       " [113980, 200916],\n",
       " [140671, 265821],\n",
       " [161492, 254639],\n",
       " [136021, 218447],\n",
       " [169771, 234686],\n",
       " [151032, 275238],\n",
       " [186903, 227669],\n",
       " [183374, 205948],\n",
       " [152926, 203096],\n",
       " [192055, 224964],\n",
       " [151312, 297993],\n",
       " [177517, 283925],\n",
       " [135329, 284135],\n",
       " [123855, 278589],\n",
       " [199859, 249069],\n",
       " [147938, 239220],\n",
       " [199859, 207220],\n",
       " [114347, 291063],\n",
       " [101704, 271881],\n",
       " [176459, 280872],\n",
       " [136561, 241520],\n",
       " [107826, 249382],\n",
       " [153692, 274073],\n",
       " [142289, 218353],\n",
       " [182600, 283081],\n",
       " [136029, 285589],\n",
       " [109725, 282511],\n",
       " [147562, 200664],\n",
       " [174582, 263413],\n",
       " [181010, 206662],\n",
       " [157401, 213558],\n",
       " [120655, 267661],\n",
       " [157932, 216511],\n",
       " [182472, 228581],\n",
       " [140641, 276070],\n",
       " [136231, 262109],\n",
       " [161687, 269160],\n",
       " [197851, 213574],\n",
       " [167791, 239830]]"
      ]
     },
     "execution_count": 52,
     "metadata": {},
     "output_type": "execute_result"
    }
   ],
   "source": [
    "r[[\"HADM_ID\",\"ICUSTAY_ID\"]].drop_duplicates().values.tolist()"
   ]
  },
  {
   "cell_type": "code",
   "execution_count": null,
   "metadata": {},
   "outputs": [],
   "source": []
  }
 ],
 "metadata": {
  "kernelspec": {
   "display_name": "Python 3",
   "language": "python",
   "name": "python3"
  },
  "language_info": {
   "codemirror_mode": {
    "name": "ipython",
    "version": 3
   },
   "file_extension": ".py",
   "mimetype": "text/x-python",
   "name": "python",
   "nbconvert_exporter": "python",
   "pygments_lexer": "ipython3",
   "version": "3.7.9"
  }
 },
 "nbformat": 4,
 "nbformat_minor": 4
}
