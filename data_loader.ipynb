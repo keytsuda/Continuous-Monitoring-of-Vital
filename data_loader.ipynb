{
 "metadata": {
  "language_info": {
   "codemirror_mode": {
    "name": "ipython",
    "version": 3
   },
   "file_extension": ".py",
   "mimetype": "text/x-python",
   "name": "python",
   "nbconvert_exporter": "python",
   "pygments_lexer": "ipython3",
   "version": "3.8.6-final"
  },
  "orig_nbformat": 2,
  "kernelspec": {
   "name": "python3",
   "display_name": "Python 3",
   "language": "python"
  }
 },
 "nbformat": 4,
 "nbformat_minor": 2,
 "cells": [
  {
   "cell_type": "code",
   "execution_count": 2,
   "metadata": {},
   "outputs": [],
   "source": [
    "import pandas as pd\n",
    "import psycopg2\t\n",
    "con = psycopg2.connect(dbname='mimic', user='postgres', password='23703513Tk' )\n",
    "query_schema = 'set search_path to ' + 'mimiciii'+ ';'"
   ]
  },
  {
   "cell_type": "code",
   "execution_count": 3,
   "metadata": {},
   "outputs": [
    {
     "output_type": "execute_result",
     "data": {
      "text/plain": [
       "   row_id  subject_id gender        dob        dod   dod_hosp dod_ssn  \\\n",
       "0     234         249      F 2075-03-13        NaT        NaT    None   \n",
       "1     235         250      F 2164-12-27 2188-11-22 2188-11-22    None   \n",
       "2     236         251      M 2090-03-15        NaT        NaT    None   \n",
       "3     237         252      M 2078-03-06        NaT        NaT    None   \n",
       "4     238         253      F 2089-11-26        NaT        NaT    None   \n",
       "\n",
       "   expire_flag  \n",
       "0            0  \n",
       "1            1  \n",
       "2            0  \n",
       "3            0  \n",
       "4            0  "
      ],
      "text/html": "<div>\n<style scoped>\n    .dataframe tbody tr th:only-of-type {\n        vertical-align: middle;\n    }\n\n    .dataframe tbody tr th {\n        vertical-align: top;\n    }\n\n    .dataframe thead th {\n        text-align: right;\n    }\n</style>\n<table border=\"1\" class=\"dataframe\">\n  <thead>\n    <tr style=\"text-align: right;\">\n      <th></th>\n      <th>row_id</th>\n      <th>subject_id</th>\n      <th>gender</th>\n      <th>dob</th>\n      <th>dod</th>\n      <th>dod_hosp</th>\n      <th>dod_ssn</th>\n      <th>expire_flag</th>\n    </tr>\n  </thead>\n  <tbody>\n    <tr>\n      <th>0</th>\n      <td>234</td>\n      <td>249</td>\n      <td>F</td>\n      <td>2075-03-13</td>\n      <td>NaT</td>\n      <td>NaT</td>\n      <td>None</td>\n      <td>0</td>\n    </tr>\n    <tr>\n      <th>1</th>\n      <td>235</td>\n      <td>250</td>\n      <td>F</td>\n      <td>2164-12-27</td>\n      <td>2188-11-22</td>\n      <td>2188-11-22</td>\n      <td>None</td>\n      <td>1</td>\n    </tr>\n    <tr>\n      <th>2</th>\n      <td>236</td>\n      <td>251</td>\n      <td>M</td>\n      <td>2090-03-15</td>\n      <td>NaT</td>\n      <td>NaT</td>\n      <td>None</td>\n      <td>0</td>\n    </tr>\n    <tr>\n      <th>3</th>\n      <td>237</td>\n      <td>252</td>\n      <td>M</td>\n      <td>2078-03-06</td>\n      <td>NaT</td>\n      <td>NaT</td>\n      <td>None</td>\n      <td>0</td>\n    </tr>\n    <tr>\n      <th>4</th>\n      <td>238</td>\n      <td>253</td>\n      <td>F</td>\n      <td>2089-11-26</td>\n      <td>NaT</td>\n      <td>NaT</td>\n      <td>None</td>\n      <td>0</td>\n    </tr>\n  </tbody>\n</table>\n</div>"
     },
     "metadata": {},
     "execution_count": 3
    }
   ],
   "source": [
    "\n",
    "pd.read_sql(query_schema+\"\"\"\n",
    "SELECT *\n",
    "FROM patients\n",
    "LIMIT 5\n",
    "\"\"\", con)"
   ]
  },
  {
   "cell_type": "code",
   "execution_count": 5,
   "metadata": {},
   "outputs": [
    {
     "output_type": "execute_result",
     "data": {
      "text/plain": [
       "  gender  count\n",
       "0      M  26121\n",
       "1      F  20399"
      ],
      "text/html": "<div>\n<style scoped>\n    .dataframe tbody tr th:only-of-type {\n        vertical-align: middle;\n    }\n\n    .dataframe tbody tr th {\n        vertical-align: top;\n    }\n\n    .dataframe thead th {\n        text-align: right;\n    }\n</style>\n<table border=\"1\" class=\"dataframe\">\n  <thead>\n    <tr style=\"text-align: right;\">\n      <th></th>\n      <th>gender</th>\n      <th>count</th>\n    </tr>\n  </thead>\n  <tbody>\n    <tr>\n      <th>0</th>\n      <td>M</td>\n      <td>26121</td>\n    </tr>\n    <tr>\n      <th>1</th>\n      <td>F</td>\n      <td>20399</td>\n    </tr>\n  </tbody>\n</table>\n</div>"
     },
     "metadata": {},
     "execution_count": 5
    }
   ],
   "source": [
    "pd.read_sql(query_schema+\"\"\"\n",
    "SELECT gender, count(*)\n",
    "FROM patients\n",
    "GROUP BY gender\n",
    "\"\"\", con)"
   ]
  },
  {
   "cell_type": "code",
   "execution_count": 6,
   "metadata": {},
   "outputs": [
    {
     "output_type": "execute_result",
     "data": {
      "text/plain": [
       "   age_group gender  expire_flag  numberofpatients\n",
       "0        >89      F            0               356\n",
       "1        >89      F            1               938\n",
       "2        >89      M            1               542\n",
       "3        >89      M            0               155\n",
       "4      adult      F            0              9207\n",
       "5      adult      F            1              6269\n",
       "6      adult      M            1              7944\n",
       "7      adult      M            0             13235\n",
       "8    neonate      F            0              3601\n",
       "9    neonate      F            1                28\n",
       "10   neonate      M            1                38\n",
       "11   neonate      M            0              4207"
      ],
      "text/html": "<div>\n<style scoped>\n    .dataframe tbody tr th:only-of-type {\n        vertical-align: middle;\n    }\n\n    .dataframe tbody tr th {\n        vertical-align: top;\n    }\n\n    .dataframe thead th {\n        text-align: right;\n    }\n</style>\n<table border=\"1\" class=\"dataframe\">\n  <thead>\n    <tr style=\"text-align: right;\">\n      <th></th>\n      <th>age_group</th>\n      <th>gender</th>\n      <th>expire_flag</th>\n      <th>numberofpatients</th>\n    </tr>\n  </thead>\n  <tbody>\n    <tr>\n      <th>0</th>\n      <td>&gt;89</td>\n      <td>F</td>\n      <td>0</td>\n      <td>356</td>\n    </tr>\n    <tr>\n      <th>1</th>\n      <td>&gt;89</td>\n      <td>F</td>\n      <td>1</td>\n      <td>938</td>\n    </tr>\n    <tr>\n      <th>2</th>\n      <td>&gt;89</td>\n      <td>M</td>\n      <td>1</td>\n      <td>542</td>\n    </tr>\n    <tr>\n      <th>3</th>\n      <td>&gt;89</td>\n      <td>M</td>\n      <td>0</td>\n      <td>155</td>\n    </tr>\n    <tr>\n      <th>4</th>\n      <td>adult</td>\n      <td>F</td>\n      <td>0</td>\n      <td>9207</td>\n    </tr>\n    <tr>\n      <th>5</th>\n      <td>adult</td>\n      <td>F</td>\n      <td>1</td>\n      <td>6269</td>\n    </tr>\n    <tr>\n      <th>6</th>\n      <td>adult</td>\n      <td>M</td>\n      <td>1</td>\n      <td>7944</td>\n    </tr>\n    <tr>\n      <th>7</th>\n      <td>adult</td>\n      <td>M</td>\n      <td>0</td>\n      <td>13235</td>\n    </tr>\n    <tr>\n      <th>8</th>\n      <td>neonate</td>\n      <td>F</td>\n      <td>0</td>\n      <td>3601</td>\n    </tr>\n    <tr>\n      <th>9</th>\n      <td>neonate</td>\n      <td>F</td>\n      <td>1</td>\n      <td>28</td>\n    </tr>\n    <tr>\n      <th>10</th>\n      <td>neonate</td>\n      <td>M</td>\n      <td>1</td>\n      <td>38</td>\n    </tr>\n    <tr>\n      <th>11</th>\n      <td>neonate</td>\n      <td>M</td>\n      <td>0</td>\n      <td>4207</td>\n    </tr>\n  </tbody>\n</table>\n</div>"
     },
     "metadata": {},
     "execution_count": 6
    }
   ],
   "source": [
    "pd.read_sql(query_schema+\"\"\"\n",
    "WITH first_admission_time AS\n",
    "(\n",
    "  SELECT\n",
    "      p.subject_id, p.dob, p.gender, p.expire_flag\n",
    "      , MIN (a.admittime) AS first_admittime\n",
    "      , MIN( ROUND( (cast(admittime as date) - cast(dob as date)) / 365.242,2) )\n",
    "          AS first_admit_age \n",
    "  FROM patients p\n",
    "  INNER JOIN admissions a\n",
    "  ON p.subject_id = a.subject_id\n",
    "  GROUP BY p.subject_id, p.dob, p.gender, p.expire_flag\n",
    "  ORDER BY p.subject_id\n",
    ")\n",
    ", age as\n",
    "(\n",
    "  SELECT\n",
    "      subject_id, dob, gender, expire_flag\n",
    "      , first_admittime, first_admit_age\n",
    "      , CASE\n",
    "          WHEN first_admit_age > 100\n",
    "              then '>89'\n",
    "          WHEN first_admit_age >= 14\n",
    "              THEN 'adult'\n",
    "          WHEN first_admit_age <= 1\n",
    "              THEN 'neonate'\n",
    "          ELSE 'middle'\n",
    "          END AS age_group\n",
    "  FROM first_admission_time\n",
    ")\n",
    "select age_group, gender, expire_flag\n",
    "  , count(subject_id) as NumberOfPatients\n",
    "from age\n",
    "group by age_group, gender, expire_flag\n",
    "ORDER BY age_group, gender\n",
    "\"\"\", con)"
   ]
  },
  {
   "cell_type": "code",
   "execution_count": null,
   "metadata": {},
   "outputs": [],
   "source": []
  }
 ]
}